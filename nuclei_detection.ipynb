{
 "cells": [
  {
   "cell_type": "markdown",
   "metadata": {},
   "source": [
    "# Install detectron2"
   ]
  },
  {
   "cell_type": "code",
   "execution_count": 1,
   "metadata": {},
   "outputs": [
    {
     "name": "stdout",
     "output_type": "stream",
     "text": [
      "Requirement already up-to-date: pip in /opt/conda/lib/python3.7/site-packages (20.0.2)\n",
      "Looking in links: https://download.pytorch.org/whl/torch_stable.html\n",
      "Collecting torch==1.4+cu100\n",
      "  Downloading https://download.pytorch.org/whl/cu100/torch-1.4.0%2Bcu100-cp37-cp37m-linux_x86_64.whl (723.9 MB)\n",
      "\u001b[K     |████████████████████████████████| 723.9 MB 27 kB/s s eta 0:00:01  |▎                               | 5.1 MB 514 kB/s eta 0:23:19     |▌                               | 11.4 MB 514 kB/s eta 0:23:06     |██                              | 45.2 MB 48.0 MB/s eta 0:00:15     |███                             | 66.1 MB 31.9 MB/s eta 0:00:21     |████                            | 89.1 MB 31.9 MB/s eta 0:00:20     |█████▉                          | 130.9 MB 60.1 MB/s eta 0:00:10     |████████▉                       | 199.6 MB 61.1 MB/s eta 0:00:09     |███████████▎                    | 254.5 MB 60.1 MB/s eta 0:00:08     |█████████████▋                  | 308.4 MB 40.2 MB/s eta 0:00:11     |█████████████████▋              | 398.8 MB 59.5 MB/s eta 0:00:06     |█████████████████▉              | 403.8 MB 59.5 MB/s eta 0:00:06████████              | 408.7 MB 59.5 MB/s eta 0:00:06     |███████████████████▏            | 433.1 MB 2.0 MB/s eta 0:02:25     |███████████████████▍            | 437.9 MB 2.4 MB/s eta 0:01:58     |███████████████████▍            | 438.8 MB 2.4 MB/s eta 0:01:58     |███████████████████▌            | 440.6 MB 2.4 MB/s eta 0:01:57     |███████████████████▊            | 446.1 MB 2.4 MB/s eta 0:01:54     |███████████████████▊            | 446.6 MB 2.4 MB/s eta 0:01:54     |███████████████████▉            | 449.8 MB 2.4 MB/s eta 0:01:53     |████████████████████            | 451.1 MB 2.4 MB/s eta 0:01:52     |████████████████████            | 451.9 MB 2.4 MB/s eta 0:01:52     |████████████████████▋           | 465.1 MB 6.9 MB/s eta 0:00:38     |█████████████████████           | 473.9 MB 5.5 MB/s eta 0:00:46     |█████████████████████▏          | 477.7 MB 23.8 MB/s eta 0:00:11�███████████████████▌          | 485.6 MB 2.5 MB/s eta 0:01:35     |██████████████████████▍         | 506.1 MB 7.7 MB/s eta 0:00:29     |██████████████████████▊         | 515.2 MB 5.9 MB/s eta 0:00:36     |██████████████████████▉         | 516.5 MB 5.9 MB/s eta 0:00:35     |███████████████████████         | 519.7 MB 28.2 MB/s eta 0:00:08     |███████████████████████         | 522.1 MB 28.2 MB/s eta 0:00:08     |███████████████████████▎        | 527.0 MB 28.2 MB/s eta 0:00:07     |███████████████████████▌        | 531.4 MB 2.9 MB/s eta 0:01:08     |███████████████████████▌        | 532.6 MB 2.9 MB/s eta 0:01:08     |███████████████████████▋        | 534.9 MB 2.9 MB/s eta 0:01:07     |████████████████████████        | 540.9 MB 47.2 MB/s eta 0:00:04     |████████████████████████        | 541.5 MB 47.2 MB/s eta 0:00:04     |████████████████████████        | 542.1 MB 47.2 MB/s eta 0:00:04     |████████████████████████▏       | 546.6 MB 47.2 MB/s eta 0:00:04     |████████████████████████▎       | 549.1 MB 47.2 MB/s eta 0:00:04     |████████████████████████▌       | 555.3 MB 5.9 MB/s eta 0:00:29     |█████████████████████████▎      | 573.0 MB 5.6 MB/s eta 0:00:27     |█████████████████████████▌      | 576.7 MB 59.7 MB/s eta 0:00:03     |█████████████████████████▌      | 577.7 MB 59.7 MB/s eta 0:00:03MB/s eta 0:00:03MB/s eta 0:00:03     |██████████████████████████▎     | 595.0 MB 9.2 MB/s eta 0:00:14     |██████████████████████████▋     | 601.1 MB 9.2 MB/s eta 0:00:14     |██████████████████████████▋     | 602.4 MB 9.2 MB/s eta 0:00:14     |███████████████████████████▏    | 614.3 MB 6.7 MB/s eta 0:00:17     |████████████████████████████    | 631.3 MB 58.7 MB/s eta 0:00:02     |████████████████████████████▍   | 641.1 MB 58.7 MB/s eta 0:00:02     |████████████████████████████▍   | 642.1 MB 58.7 MB/s eta 0:00:02     |█████████████████████████████▏  | 660.9 MB 57.0 MB/s eta 0:00:02     |█████████████████████████████▍  | 663.9 MB 57.0 MB/s eta 0:00:02     |█████████████████████████████▉  | 674.2 MB 57.0 MB/s eta 0:00:01     |██████████████████████████████▎ | 685.8 MB 6.3 MB/s eta 0:00:07     |██████████████████████████████▌ | 691.1 MB 6.3 MB/s eta 0:00:06     |██████████████████████████████▊ | 694.1 MB 6.3 MB/s eta 0:00:05     |██████████████████████████████▉ | 697.5 MB 6.3 MB/s eta 0:00:05     |███████████████████████████████ | 701.3 MB 6.3 MB/s eta 0:00:04     |███████████████████████████████ | 702.6 MB 6.3 MB/s eta 0:00:04     |███████████████████████████████▋| 715.7 MB 15.0 MB/s eta 0:00:01��███████████▊| 716.4 MB 15.0 MB/s eta 0:00:01\n",
      "\u001b[?25hCollecting torchvision==0.5+cu100\n",
      "  Downloading https://download.pytorch.org/whl/cu100/torchvision-0.5.0%2Bcu100-cp37-cp37m-linux_x86_64.whl (4.0 MB)\n",
      "\u001b[K     |████████████████████████████████| 4.0 MB 546 kB/s eta 0:00:01 522 kB 546 kB/s eta 0:00:07B 546 kB/s eta 0:00:05\n",
      "\u001b[?25hRequirement already satisfied, skipping upgrade: pillow>=4.1.1 in /opt/conda/lib/python3.7/site-packages (from torchvision==0.5+cu100) (5.4.1)\n",
      "Requirement already satisfied, skipping upgrade: six in /opt/conda/lib/python3.7/site-packages (from torchvision==0.5+cu100) (1.12.0)\n",
      "Requirement already satisfied, skipping upgrade: numpy in /opt/conda/lib/python3.7/site-packages (from torchvision==0.5+cu100) (1.18.1)\n",
      "Installing collected packages: torch, torchvision\n",
      "  Attempting uninstall: torch\n",
      "    Found existing installation: torch 1.3.1\n",
      "    Uninstalling torch-1.3.1:\n",
      "      Successfully uninstalled torch-1.3.1\n",
      "  Attempting uninstall: torchvision\n",
      "    Found existing installation: torchvision 0.4.2\n",
      "    Uninstalling torchvision-0.4.2:\n",
      "      Successfully uninstalled torchvision-0.4.2\n",
      "Successfully installed torch-1.4.0+cu100 torchvision-0.5.0+cu100\n",
      "Requirement already satisfied: cython in /opt/conda/lib/python3.7/site-packages (0.29.14)\n",
      "Collecting pyyaml==5.1\n",
      "  Downloading PyYAML-5.1.tar.gz (274 kB)\n",
      "\u001b[K     |████████████████████████████████| 274 kB 7.4 MB/s eta 0:00:01\n",
      "\u001b[?25hBuilding wheels for collected packages: pyyaml\n",
      "  Building wheel for pyyaml (setup.py) ... \u001b[?25ldone\n",
      "\u001b[?25h  Created wheel for pyyaml: filename=PyYAML-5.1-cp37-cp37m-linux_x86_64.whl size=44074 sha256=d126189348284527b37697dffae3e167703d14686d3f21792bb6f0402cec2176\n",
      "  Stored in directory: /home/Deep_Learner/.cache/pip/wheels/77/f5/10/d00a2bd30928b972790053b5de0c703ca87324f3fead0f2fd9\n",
      "Successfully built pyyaml\n",
      "Installing collected packages: pyyaml\n",
      "  Attempting uninstall: pyyaml\n",
      "    Found existing installation: PyYAML 5.3\n",
      "    Uninstalling PyYAML-5.3:\n",
      "      Successfully uninstalled PyYAML-5.3\n",
      "Successfully installed pyyaml-5.2\n",
      "Collecting git+https://github.com/cocodataset/cocoapi.git#subdirectory=PythonAPI\n",
      "  Cloning https://github.com/cocodataset/cocoapi.git to /tmp/pip-req-build-p8t79se_\n",
      "  Running command git clone -q https://github.com/cocodataset/cocoapi.git /tmp/pip-req-build-p8t79se_\n",
      "Requirement already satisfied, skipping upgrade: setuptools>=18.0 in /opt/conda/lib/python3.7/site-packages (from pycocotools==2.0) (41.4.0)\n",
      "Requirement already satisfied, skipping upgrade: cython>=0.27.3 in /opt/conda/lib/python3.7/site-packages (from pycocotools==2.0) (0.29.14)\n",
      "Requirement already satisfied, skipping upgrade: matplotlib>=2.1.0 in /opt/conda/lib/python3.7/site-packages (from pycocotools==2.0) (3.1.2)\n",
      "Requirement already satisfied, skipping upgrade: python-dateutil>=2.1 in /opt/conda/lib/python3.7/site-packages (from matplotlib>=2.1.0->pycocotools==2.0) (2.8.0)\n",
      "Requirement already satisfied, skipping upgrade: kiwisolver>=1.0.1 in /opt/conda/lib/python3.7/site-packages (from matplotlib>=2.1.0->pycocotools==2.0) (1.1.0)\n",
      "Requirement already satisfied, skipping upgrade: numpy>=1.11 in /opt/conda/lib/python3.7/site-packages (from matplotlib>=2.1.0->pycocotools==2.0) (1.18.1)\n",
      "Requirement already satisfied, skipping upgrade: pyparsing!=2.0.4,!=2.1.2,!=2.1.6,>=2.0.1 in /opt/conda/lib/python3.7/site-packages (from matplotlib>=2.1.0->pycocotools==2.0) (2.4.6)\n",
      "Requirement already satisfied, skipping upgrade: cycler>=0.10 in /opt/conda/lib/python3.7/site-packages (from matplotlib>=2.1.0->pycocotools==2.0) (0.10.0)\n",
      "Requirement already satisfied, skipping upgrade: six>=1.5 in /opt/conda/lib/python3.7/site-packages (from python-dateutil>=2.1->matplotlib>=2.1.0->pycocotools==2.0) (1.12.0)\n",
      "Building wheels for collected packages: pycocotools\n"
     ]
    },
    {
     "name": "stdout",
     "output_type": "stream",
     "text": [
      "  Building wheel for pycocotools (setup.py) ... \u001b[?25ldone\n",
      "\u001b[?25h  Created wheel for pycocotools: filename=pycocotools-2.0-cp37-cp37m-linux_x86_64.whl size=279379 sha256=2cb7ee6073b3d0e9f329e2289f77dfe90edeec1f90438b9ec87867e086b3799f\n",
      "  Stored in directory: /tmp/pip-ephem-wheel-cache-32a8nshe/wheels/e2/6b/1d/344ac773c7495ea0b85eb228bc66daec7400a143a92d36b7b1\n",
      "Successfully built pycocotools\n",
      "Installing collected packages: pycocotools\n",
      "Successfully installed pycocotools-2.0\n",
      "gcc (Ubuntu 7.4.0-1ubuntu1~18.04.1) 7.4.0\n",
      "Copyright (C) 2017 Free Software Foundation, Inc.\n",
      "This is free software; see the source for copying conditions.  There is NO\n",
      "warranty; not even for MERCHANTABILITY or FITNESS FOR A PARTICULAR PURPOSE.\n",
      "\n",
      "Looking in links: https://dl.fbaipublicfiles.com/detectron2/wheels/cu100/index.html\n",
      "Collecting detectron2\n",
      "  Downloading https://dl.fbaipublicfiles.com/detectron2/wheels/cu100/detectron2-0.1.1%2Bcu100-cp37-cp37m-linux_x86_64.whl (6.2 MB)\n",
      "\u001b[K     |████████████████████████████████| 6.2 MB 812 kB/s eta 0:00:01     |███████▉                        | 1.5 MB 291 kB/s eta 0:00:17     |████████████████████████▏       | 4.7 MB 812 kB/s eta 0:00:02\n",
      "\u001b[?25hCollecting cloudpickle\n",
      "  Downloading cloudpickle-1.3.0-py2.py3-none-any.whl (26 kB)\n",
      "Collecting fvcore\n",
      "  Downloading fvcore-0.1.dev200307.tar.gz (29 kB)\n",
      "Requirement already satisfied: matplotlib in /opt/conda/lib/python3.7/site-packages (from detectron2) (3.1.2)\n",
      "Requirement already satisfied: Pillow in /opt/conda/lib/python3.7/site-packages (from detectron2) (5.4.1)\n",
      "Requirement already satisfied: pydot in /opt/conda/lib/python3.7/site-packages (from detectron2) (1.4.1)\n",
      "Requirement already satisfied: tabulate in /opt/conda/lib/python3.7/site-packages (from detectron2) (0.8.6)\n",
      "Requirement already satisfied: tensorboard in /opt/conda/lib/python3.7/site-packages (from detectron2) (2.1.0)\n",
      "Requirement already satisfied: termcolor>=1.1 in /opt/conda/lib/python3.7/site-packages (from detectron2) (1.1.0)\n",
      "Requirement already satisfied: tqdm>4.29.0 in /opt/conda/lib/python3.7/site-packages (from detectron2) (4.36.1)\n",
      "Collecting yacs>=0.1.6\n",
      "  Downloading yacs-0.1.6-py3-none-any.whl (9.6 kB)\n",
      "Requirement already satisfied: future in /opt/conda/lib/python3.7/site-packages (from detectron2) (0.18.2)\n",
      "Requirement already satisfied: numpy in /opt/conda/lib/python3.7/site-packages (from fvcore->detectron2) (1.18.1)\n",
      "Requirement already satisfied: pyyaml>=5.1 in /opt/conda/lib/python3.7/site-packages (from fvcore->detectron2) (5.2)\n",
      "Collecting portalocker\n",
      "  Downloading portalocker-1.5.2-py2.py3-none-any.whl (14 kB)\n",
      "Requirement already satisfied: kiwisolver>=1.0.1 in /opt/conda/lib/python3.7/site-packages (from matplotlib->detectron2) (1.1.0)\n",
      "Requirement already satisfied: cycler>=0.10 in /opt/conda/lib/python3.7/site-packages (from matplotlib->detectron2) (0.10.0)\n",
      "Requirement already satisfied: pyparsing!=2.0.4,!=2.1.2,!=2.1.6,>=2.0.1 in /opt/conda/lib/python3.7/site-packages (from matplotlib->detectron2) (2.4.6)\n",
      "Requirement already satisfied: python-dateutil>=2.1 in /opt/conda/lib/python3.7/site-packages (from matplotlib->detectron2) (2.8.0)\n",
      "Requirement already satisfied: six>=1.10.0 in /opt/conda/lib/python3.7/site-packages (from tensorboard->detectron2) (1.12.0)\n",
      "Requirement already satisfied: grpcio>=1.24.3 in /opt/conda/lib/python3.7/site-packages (from tensorboard->detectron2) (1.26.0)\n",
      "Requirement already satisfied: absl-py>=0.4 in /opt/conda/lib/python3.7/site-packages (from tensorboard->detectron2) (0.9.0)\n",
      "Requirement already satisfied: google-auth<2,>=1.6.3 in /opt/conda/lib/python3.7/site-packages (from tensorboard->detectron2) (1.10.0)\n",
      "Requirement already satisfied: markdown>=2.6.8 in /opt/conda/lib/python3.7/site-packages (from tensorboard->detectron2) (3.1.1)\n",
      "Requirement already satisfied: protobuf>=3.6.0 in /opt/conda/lib/python3.7/site-packages (from tensorboard->detectron2) (3.11.2)\n",
      "Requirement already satisfied: google-auth-oauthlib<0.5,>=0.4.1 in /opt/conda/lib/python3.7/site-packages (from tensorboard->detectron2) (0.4.1)\n",
      "Requirement already satisfied: wheel>=0.26; python_version >= \"3\" in /opt/conda/lib/python3.7/site-packages (from tensorboard->detectron2) (0.33.6)\n",
      "Requirement already satisfied: requests<3,>=2.21.0 in /opt/conda/lib/python3.7/site-packages (from tensorboard->detectron2) (2.22.0)\n",
      "Requirement already satisfied: setuptools>=41.0.0 in /opt/conda/lib/python3.7/site-packages (from tensorboard->detectron2) (41.4.0)\n",
      "Requirement already satisfied: werkzeug>=0.11.15 in /opt/conda/lib/python3.7/site-packages (from tensorboard->detectron2) (0.16.0)\n",
      "Requirement already satisfied: cachetools<5.0,>=2.0.0 in /opt/conda/lib/python3.7/site-packages (from google-auth<2,>=1.6.3->tensorboard->detectron2) (4.0.0)\n",
      "Requirement already satisfied: pyasn1-modules>=0.2.1 in /opt/conda/lib/python3.7/site-packages (from google-auth<2,>=1.6.3->tensorboard->detectron2) (0.2.8)\n",
      "Requirement already satisfied: rsa<4.1,>=3.1.4 in /opt/conda/lib/python3.7/site-packages (from google-auth<2,>=1.6.3->tensorboard->detectron2) (4.0)\n",
      "Requirement already satisfied: requests-oauthlib>=0.7.0 in /opt/conda/lib/python3.7/site-packages (from google-auth-oauthlib<0.5,>=0.4.1->tensorboard->detectron2) (1.3.0)\n",
      "Requirement already satisfied: certifi>=2017.4.17 in /opt/conda/lib/python3.7/site-packages (from requests<3,>=2.21.0->tensorboard->detectron2) (2019.11.28)\n",
      "Requirement already satisfied: chardet<3.1.0,>=3.0.2 in /opt/conda/lib/python3.7/site-packages (from requests<3,>=2.21.0->tensorboard->detectron2) (3.0.4)\n",
      "Requirement already satisfied: idna<2.9,>=2.5 in /opt/conda/lib/python3.7/site-packages (from requests<3,>=2.21.0->tensorboard->detectron2) (2.8)\n",
      "Requirement already satisfied: urllib3!=1.25.0,!=1.25.1,<1.26,>=1.21.1 in /opt/conda/lib/python3.7/site-packages (from requests<3,>=2.21.0->tensorboard->detectron2) (1.24.3)\n",
      "Requirement already satisfied: pyasn1<0.5.0,>=0.4.6 in /opt/conda/lib/python3.7/site-packages (from pyasn1-modules>=0.2.1->google-auth<2,>=1.6.3->tensorboard->detectron2) (0.4.8)\n",
      "Requirement already satisfied: oauthlib>=3.0.0 in /opt/conda/lib/python3.7/site-packages (from requests-oauthlib>=0.7.0->google-auth-oauthlib<0.5,>=0.4.1->tensorboard->detectron2) (3.0.1)\n",
      "Building wheels for collected packages: fvcore\n",
      "  Building wheel for fvcore (setup.py) ... \u001b[?25ldone\n",
      "\u001b[?25h  Created wheel for fvcore: filename=fvcore-0.1.dev200307-py3-none-any.whl size=37811 sha256=8d768b38385ebe0fe289c3fe3a4523095916a0578c61367c88f4ee938c767acf\n",
      "  Stored in directory: /home/Deep_Learner/.cache/pip/wheels/cf/34/b5/67081a251f7ad97788cabe2cd19d0abe3773cba5ab81416083\n",
      "Successfully built fvcore\n",
      "Installing collected packages: cloudpickle, yacs, portalocker, fvcore, detectron2\n",
      "Successfully installed cloudpickle-1.3.0 detectron2-0.1.1+cu100 fvcore-0.1.dev200307 portalocker-1.5.2 yacs-0.1.6\n"
     ]
    }
   ],
   "source": [
    "#dependencies\n",
    "!pip install --upgrade pip\n",
    "!pip install -U torch==1.4+cu100 torchvision==0.5+cu100 -f https://download.pytorch.org/whl/torch_stable.html \n",
    "!pip install cython pyyaml==5.1\n",
    "!pip install -U 'git+https://github.com/cocodataset/cocoapi.git#subdirectory=PythonAPI'\n",
    "import torch, torchvision\n",
    "torch.__version__\n",
    "torchvision.__version__\n",
    "!gcc --version\n",
    "\n",
    "# install detectron2:\n",
    "!pip install detectron2 -f https://dl.fbaipublicfiles.com/detectron2/wheels/cu100/index.html"
   ]
  },
  {
   "cell_type": "markdown",
   "metadata": {},
   "source": [
    "# Imports"
   ]
  },
  {
   "cell_type": "code",
   "execution_count": 1,
   "metadata": {},
   "outputs": [],
   "source": [
    "import os\n",
    "os.environ[\"CUDA_DEVICE_ORDER\"]=\"PCI_BUS_ID\"\n",
    "os.environ[\"CUDA_VISIBLE_DEVICES\"]=\"0\"\n",
    "\n",
    "%reload_ext autoreload\n",
    "%autoreload 2\n",
    "#%matplotlib notebook\n",
    "%matplotlib inline\n",
    "from bokeh.io import output_notebook\n",
    "from typing import Dict, List, Callable\n",
    "import os\n",
    "import pandas\n",
    "import pandas as pd\n",
    "import numpy as np\n",
    "import torch, torchvision\n",
    "import pathlib\n",
    "from pathlib import Path\n",
    "Path.ls = lambda x: [p for p in list(x.iterdir()) if '.ipynb_checkpoints' not in p.name]\n",
    "from tqdm import tqdm_notebook as tqdm\n",
    "import PIL\n",
    "from PIL import Image\n",
    "import sys\n",
    "sys.path.append('../preprocessing_pipeline/python-wsi-preprocessing/')\n",
    "import wsi\n",
    "from wsi import tiles, util\n",
    "import fastai\n",
    "from fastai import vision\n",
    "import matplotlib.pyplot as plt\n",
    " \n",
    "PATH = Path('/home/Deep_Learner/shared/Datasets/2018_Data_Science_Bowl/')\n",
    "STAGE1_TRAIN = PATH/'stage1_train'\n",
    "STAGE1_TEST = PATH/'stage1_test'\n",
    "STAGE1_TRAIN_LABELS = PATH/'stage1_train_labels.csv'\n",
    "STAGE1_TEST_LABELS = PATH/'stage1_solution'\n",
    "\n",
    "seed = 19\n",
    "np.random.seed(seed)"
   ]
  },
  {
   "cell_type": "markdown",
   "metadata": {},
   "source": [
    "# util functions"
   ]
  },
  {
   "cell_type": "code",
   "execution_count": 2,
   "metadata": {},
   "outputs": [],
   "source": [
    "def get_path_from_id(img_id:str, base_path:pathlib.Path)->pathlib.Path:\n",
    "    for p in base_path.ls():\n",
    "        if img_id in p.stem:\n",
    "            return p\n",
    "\n",
    "def get_masks_path_from_id(img_id:str, base_path:pathlib.Path)->pathlib.Path:\n",
    "    return get_path_from_id(img_id, base_path)/'masks'\n",
    "        \n",
    "def open_mask_as_np(path:pathlib.Path)->np.array:\n",
    "    return np.asarray(PIL.Image.open(path), dtype=np.bool)\n",
    "\n",
    "def show_np(arr:np.array):\n",
    "    plt.imshow(arr)\n",
    "    plt.show()\n",
    "    \n",
    "def merge_masks(masks:List[np.array], shape:tuple=(256,256))->np.array:\n",
    "    merged_mask = np.zeros((shape[0],shape[1]), dtype=np.bool)\n",
    "    for mask in masks:\n",
    "        merged_mask = np.maximum(merged_mask, mask)\n",
    "    return merged_mask\n",
    "\n",
    "def merge_masks_from_path(path:pathlib.Path, shape:tuple)->np.array:\n",
    "    masks = [open_mask_as_np(p) for p in path.ls()]\n",
    "    return merge_masks(masks, shape)\n",
    "\n",
    "def rle_decode(mask_rle:str, shape:tuple=(256, 256))->np.array:\n",
    "    '''\n",
    "    Arguments:\n",
    "        mask_rle: run-length as string formated (start length) e.g. \"6908 1 7161 8 7417 8\"\n",
    "        shape: (height,width) of array to return\n",
    "    Returns numpy array, True == mask, False == background\n",
    "\n",
    "    '''\n",
    "    #print('rle_decode(mask_rle = ', mask_rle)\n",
    "    s = mask_rle.split()\n",
    "    starts, lengths = [np.asarray(x, dtype=int) for x in (s[0:][::2], s[1:][::2])]\n",
    "    starts -= 1\n",
    "    ends = starts + lengths\n",
    "    mask = np.zeros(shape[0]*shape[1], dtype=np.bool)\n",
    "    for lo, hi in zip(starts, ends):\n",
    "        mask[lo:hi] = True\n",
    "    # Needed to align to RLE direction\n",
    "    return mask.reshape(shape).T\n",
    "\n",
    "def get_mask_list_from_rle_for_one_id(img_id:str, \n",
    "                                      df:pandas.DataFrame, \n",
    "                                      coloumn_name_ids:str='ImageId',\n",
    "                                      coloumn_name_rle:str='EncodedPixels',\n",
    "                                      shape:tuple=(256,256))->List[np.array]:\n",
    "    masks_rle_df = df.loc[df[coloumn_name_ids] == img_id]\n",
    "    masks = []\n",
    "    for index, row in masks_rle_df.iterrows():\n",
    "        masks.append(rle_decode(row[coloumn_name_rle]))\n",
    "    return masks"
   ]
  },
  {
   "cell_type": "markdown",
   "metadata": {},
   "source": [
    "# dataset"
   ]
  },
  {
   "cell_type": "markdown",
   "metadata": {},
   "source": [
    "## load csv"
   ]
  },
  {
   "cell_type": "code",
   "execution_count": 3,
   "metadata": {},
   "outputs": [],
   "source": [
    "s1_trn_lbs_df = pd.read_csv(STAGE1_TRAIN_LABELS)"
   ]
  },
  {
   "cell_type": "code",
   "execution_count": 4,
   "metadata": {},
   "outputs": [
    {
     "data": {
      "text/html": [
       "<div>\n",
       "<style scoped>\n",
       "    .dataframe tbody tr th:only-of-type {\n",
       "        vertical-align: middle;\n",
       "    }\n",
       "\n",
       "    .dataframe tbody tr th {\n",
       "        vertical-align: top;\n",
       "    }\n",
       "\n",
       "    .dataframe thead th {\n",
       "        text-align: right;\n",
       "    }\n",
       "</style>\n",
       "<table border=\"1\" class=\"dataframe\">\n",
       "  <thead>\n",
       "    <tr style=\"text-align: right;\">\n",
       "      <th></th>\n",
       "      <th>ImageId</th>\n",
       "      <th>EncodedPixels</th>\n",
       "    </tr>\n",
       "  </thead>\n",
       "  <tbody>\n",
       "    <tr>\n",
       "      <th>0</th>\n",
       "      <td>00071198d059ba7f5914a526d124d28e6d010c92466da2...</td>\n",
       "      <td>6908 1 7161 8 7417 8 7672 9 7928 9 8184 9 8440...</td>\n",
       "    </tr>\n",
       "    <tr>\n",
       "      <th>1</th>\n",
       "      <td>00071198d059ba7f5914a526d124d28e6d010c92466da2...</td>\n",
       "      <td>36269 7 36523 11 36778 13 37033 15 37288 17 37...</td>\n",
       "    </tr>\n",
       "    <tr>\n",
       "      <th>2</th>\n",
       "      <td>00071198d059ba7f5914a526d124d28e6d010c92466da2...</td>\n",
       "      <td>19919 6 20174 8 20429 10 20685 11 20941 12 211...</td>\n",
       "    </tr>\n",
       "    <tr>\n",
       "      <th>3</th>\n",
       "      <td>00071198d059ba7f5914a526d124d28e6d010c92466da2...</td>\n",
       "      <td>18671 6 18926 8 19181 9 19436 10 19691 11 1994...</td>\n",
       "    </tr>\n",
       "    <tr>\n",
       "      <th>4</th>\n",
       "      <td>00071198d059ba7f5914a526d124d28e6d010c92466da2...</td>\n",
       "      <td>40158 3 40413 5 40669 5 40925 5 41182 3</td>\n",
       "    </tr>\n",
       "    <tr>\n",
       "      <th>...</th>\n",
       "      <td>...</td>\n",
       "      <td>...</td>\n",
       "    </tr>\n",
       "    <tr>\n",
       "      <th>29456</th>\n",
       "      <td>ff599c7301daa1f783924ac8cbe3ce7b42878f15a39c2d...</td>\n",
       "      <td>31317 2 31676 5 32035 6 32394 7 32753 8 33112 ...</td>\n",
       "    </tr>\n",
       "    <tr>\n",
       "      <th>29457</th>\n",
       "      <td>ff599c7301daa1f783924ac8cbe3ce7b42878f15a39c2d...</td>\n",
       "      <td>110318 4 110675 13 111034 19 111391 23 111750 ...</td>\n",
       "    </tr>\n",
       "    <tr>\n",
       "      <th>29458</th>\n",
       "      <td>ff599c7301daa1f783924ac8cbe3ce7b42878f15a39c2d...</td>\n",
       "      <td>24841 1 25201 2 25561 2 25921 3 26281 4 26641 ...</td>\n",
       "    </tr>\n",
       "    <tr>\n",
       "      <th>29459</th>\n",
       "      <td>ff599c7301daa1f783924ac8cbe3ce7b42878f15a39c2d...</td>\n",
       "      <td>4061 8 4417 14 4775 21 5134 23 5494 24 5853 26...</td>\n",
       "    </tr>\n",
       "    <tr>\n",
       "      <th>29460</th>\n",
       "      <td>ff599c7301daa1f783924ac8cbe3ce7b42878f15a39c2d...</td>\n",
       "      <td>80876 11 81234 15 81590 20 81948 23 82305 27 8...</td>\n",
       "    </tr>\n",
       "  </tbody>\n",
       "</table>\n",
       "<p>29461 rows × 2 columns</p>\n",
       "</div>"
      ],
      "text/plain": [
       "                                                 ImageId  \\\n",
       "0      00071198d059ba7f5914a526d124d28e6d010c92466da2...   \n",
       "1      00071198d059ba7f5914a526d124d28e6d010c92466da2...   \n",
       "2      00071198d059ba7f5914a526d124d28e6d010c92466da2...   \n",
       "3      00071198d059ba7f5914a526d124d28e6d010c92466da2...   \n",
       "4      00071198d059ba7f5914a526d124d28e6d010c92466da2...   \n",
       "...                                                  ...   \n",
       "29456  ff599c7301daa1f783924ac8cbe3ce7b42878f15a39c2d...   \n",
       "29457  ff599c7301daa1f783924ac8cbe3ce7b42878f15a39c2d...   \n",
       "29458  ff599c7301daa1f783924ac8cbe3ce7b42878f15a39c2d...   \n",
       "29459  ff599c7301daa1f783924ac8cbe3ce7b42878f15a39c2d...   \n",
       "29460  ff599c7301daa1f783924ac8cbe3ce7b42878f15a39c2d...   \n",
       "\n",
       "                                           EncodedPixels  \n",
       "0      6908 1 7161 8 7417 8 7672 9 7928 9 8184 9 8440...  \n",
       "1      36269 7 36523 11 36778 13 37033 15 37288 17 37...  \n",
       "2      19919 6 20174 8 20429 10 20685 11 20941 12 211...  \n",
       "3      18671 6 18926 8 19181 9 19436 10 19691 11 1994...  \n",
       "4                40158 3 40413 5 40669 5 40925 5 41182 3  \n",
       "...                                                  ...  \n",
       "29456  31317 2 31676 5 32035 6 32394 7 32753 8 33112 ...  \n",
       "29457  110318 4 110675 13 111034 19 111391 23 111750 ...  \n",
       "29458  24841 1 25201 2 25561 2 25921 3 26281 4 26641 ...  \n",
       "29459  4061 8 4417 14 4775 21 5134 23 5494 24 5853 26...  \n",
       "29460  80876 11 81234 15 81590 20 81948 23 82305 27 8...  \n",
       "\n",
       "[29461 rows x 2 columns]"
      ]
     },
     "execution_count": 4,
     "metadata": {},
     "output_type": "execute_result"
    }
   ],
   "source": [
    "s1_trn_lbs_df"
   ]
  },
  {
   "cell_type": "code",
   "execution_count": 5,
   "metadata": {},
   "outputs": [
    {
     "data": {
      "text/plain": [
       "'00071198d059ba7f5914a526d124d28e6d010c92466da21d4a04cd5413362552'"
      ]
     },
     "execution_count": 5,
     "metadata": {},
     "output_type": "execute_result"
    }
   ],
   "source": [
    "img_id = s1_trn_lbs_df.iloc[0][0];img_id"
   ]
  },
  {
   "cell_type": "markdown",
   "metadata": {},
   "source": [
    "## merge existing single masks of one image"
   ]
  },
  {
   "cell_type": "code",
   "execution_count": 6,
   "metadata": {},
   "outputs": [],
   "source": [
    "img_id_p = get_path_from_id(img_id, STAGE1_TRAIN)"
   ]
  },
  {
   "cell_type": "code",
   "execution_count": 7,
   "metadata": {},
   "outputs": [
    {
     "data": {
      "text/plain": [
       "PosixPath('/home/Deep_Learner/shared/Datasets/2018_Data_Science_Bowl/stage1_train/00071198d059ba7f5914a526d124d28e6d010c92466da21d4a04cd5413362552/masks')"
      ]
     },
     "execution_count": 7,
     "metadata": {},
     "output_type": "execute_result"
    }
   ],
   "source": [
    "masks_path = get_masks_path_from_id(img_id, STAGE1_TRAIN);masks_path"
   ]
  },
  {
   "cell_type": "code",
   "execution_count": 8,
   "metadata": {},
   "outputs": [],
   "source": [
    "masks_np = [open_mask_as_np(p) for p in masks_path.ls()]"
   ]
  },
  {
   "cell_type": "code",
   "execution_count": 9,
   "metadata": {},
   "outputs": [],
   "source": [
    "merged_mask = merge_masks_from_path(masks_path,(256,256))"
   ]
  },
  {
   "cell_type": "code",
   "execution_count": 10,
   "metadata": {},
   "outputs": [
    {
     "data": {
      "image/png": "[encoded data removed]",
      "text/plain": [
       "<Figure size 432x288 with 1 Axes>"
      ]
     },
     "metadata": {
      "needs_background": "light"
     },
     "output_type": "display_data"
    }
   ],
   "source": [
    "show_np(merged_mask)"
   ]
  },
  {
   "cell_type": "markdown",
   "metadata": {},
   "source": [
    "## decode run length encoding to mask"
   ]
  },
  {
   "cell_type": "code",
   "execution_count": 11,
   "metadata": {},
   "outputs": [],
   "source": [
    "masks = get_mask_list_from_rle_for_one_id(img_id, s1_trn_lbs_df)"
   ]
  },
  {
   "cell_type": "code",
   "execution_count": 12,
   "metadata": {},
   "outputs": [],
   "source": [
    "merged_mask = merge_masks(masks)"
   ]
  },
  {
   "cell_type": "code",
   "execution_count": 13,
   "metadata": {},
   "outputs": [
    {
     "data": {
      "image/png": "[encoded data removed]",
      "text/plain": [
       "<Figure size 432x288 with 1 Axes>"
      ]
     },
     "metadata": {
      "needs_background": "light"
     },
     "output_type": "display_data"
    }
   ],
   "source": [
    "show_np(merged_mask)"
   ]
  },
  {
   "cell_type": "code",
   "execution_count": null,
   "metadata": {},
   "outputs": [],
   "source": []
  }
 ],
 "metadata": {
  "kernelspec": {
   "display_name": "DLM Py3",
   "language": "python",
   "name": "python3"
  },
  "language_info": {
   "codemirror_mode": {
    "name": "ipython",
    "version": 3
   },
   "file_extension": ".py",
   "mimetype": "text/x-python",
   "name": "python",
   "nbconvert_exporter": "python",
   "pygments_lexer": "ipython3",
   "version": "3.7.3"
  },
  "toc": {
   "base_numbering": 1,
   "nav_menu": {},
   "number_sections": true,
   "sideBar": true,
   "skip_h1_title": false,
   "title_cell": "Table of Contents",
   "title_sidebar": "Contents",
   "toc_cell": false,
   "toc_position": {},
   "toc_section_display": true,
   "toc_window_display": false
  }
 },
 "nbformat": 4,
 "nbformat_minor": 4
}
