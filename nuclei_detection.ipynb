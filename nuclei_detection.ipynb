{
 "cells": [
  {
   "cell_type": "markdown",
   "metadata": {},
   "source": [
    "# Install detectron2"
   ]
  },
  {
   "cell_type": "code",
   "execution_count": 14,
   "metadata": {
    "collapsed": true
   },
   "outputs": [
    {
     "name": "stdout",
     "output_type": "stream",
     "text": [
      "Requirement already up-to-date: pip in /opt/conda/lib/python3.7/site-packages (20.0.2)\n",
      "Looking in links: https://download.pytorch.org/whl/torch_stable.html\n",
      "Requirement already up-to-date: torch==1.4+cu100 in /opt/conda/lib/python3.7/site-packages (1.4.0+cu100)\n",
      "Requirement already up-to-date: torchvision==0.5+cu100 in /opt/conda/lib/python3.7/site-packages (0.5.0+cu100)\n",
      "Requirement already satisfied, skipping upgrade: pillow>=4.1.1 in /opt/conda/lib/python3.7/site-packages (from torchvision==0.5+cu100) (5.4.1)\n",
      "Requirement already satisfied, skipping upgrade: numpy in /opt/conda/lib/python3.7/site-packages (from torchvision==0.5+cu100) (1.18.1)\n",
      "Requirement already satisfied, skipping upgrade: six in /opt/conda/lib/python3.7/site-packages (from torchvision==0.5+cu100) (1.12.0)\n",
      "Requirement already satisfied: cython in /opt/conda/lib/python3.7/site-packages (0.29.14)\n",
      "Processing /home/Deep_Learner/.cache/pip/wheels/77/f5/10/d00a2bd30928b972790053b5de0c703ca87324f3fead0f2fd9/PyYAML-5.1-cp37-cp37m-linux_x86_64.whl\n",
      "Installing collected packages: pyyaml\n",
      "  Attempting uninstall: pyyaml\n",
      "    Found existing installation: PyYAML 5.2\n",
      "\u001b[31mERROR: Cannot uninstall 'PyYAML'. It is a distutils installed project and thus we cannot accurately determine which files belong to it which would lead to only a partial uninstall.\u001b[0m\n",
      "Collecting git+https://github.com/cocodataset/cocoapi.git#subdirectory=PythonAPI\n",
      "  Cloning https://github.com/cocodataset/cocoapi.git to /tmp/pip-req-build-4vwplioq\n",
      "  Running command git clone -q https://github.com/cocodataset/cocoapi.git /tmp/pip-req-build-4vwplioq\n",
      "Requirement already satisfied, skipping upgrade: setuptools>=18.0 in /opt/conda/lib/python3.7/site-packages (from pycocotools==2.0) (41.4.0)\n",
      "Requirement already satisfied, skipping upgrade: cython>=0.27.3 in /opt/conda/lib/python3.7/site-packages (from pycocotools==2.0) (0.29.14)\n",
      "Requirement already satisfied, skipping upgrade: matplotlib>=2.1.0 in /opt/conda/lib/python3.7/site-packages (from pycocotools==2.0) (3.1.2)\n",
      "Requirement already satisfied, skipping upgrade: numpy>=1.11 in /opt/conda/lib/python3.7/site-packages (from matplotlib>=2.1.0->pycocotools==2.0) (1.18.1)\n",
      "Requirement already satisfied, skipping upgrade: kiwisolver>=1.0.1 in /opt/conda/lib/python3.7/site-packages (from matplotlib>=2.1.0->pycocotools==2.0) (1.1.0)\n",
      "Requirement already satisfied, skipping upgrade: cycler>=0.10 in /opt/conda/lib/python3.7/site-packages (from matplotlib>=2.1.0->pycocotools==2.0) (0.10.0)\n",
      "Requirement already satisfied, skipping upgrade: pyparsing!=2.0.4,!=2.1.2,!=2.1.6,>=2.0.1 in /opt/conda/lib/python3.7/site-packages (from matplotlib>=2.1.0->pycocotools==2.0) (2.4.6)\n",
      "Requirement already satisfied, skipping upgrade: python-dateutil>=2.1 in /opt/conda/lib/python3.7/site-packages (from matplotlib>=2.1.0->pycocotools==2.0) (2.8.0)\n",
      "Requirement already satisfied, skipping upgrade: six in /opt/conda/lib/python3.7/site-packages (from cycler>=0.10->matplotlib>=2.1.0->pycocotools==2.0) (1.12.0)\n",
      "Building wheels for collected packages: pycocotools\n",
      "  Building wheel for pycocotools (setup.py) ... \u001b[?25ldone\n",
      "\u001b[?25h  Created wheel for pycocotools: filename=pycocotools-2.0-cp37-cp37m-linux_x86_64.whl size=279381 sha256=84890b631f82fc9786ec5c022c3cf354de7ee5e7fe2e24223dde9034f89e2d3e\n",
      "  Stored in directory: /tmp/pip-ephem-wheel-cache-s58lyb6t/wheels/e2/6b/1d/344ac773c7495ea0b85eb228bc66daec7400a143a92d36b7b1\n",
      "Successfully built pycocotools\n",
      "Installing collected packages: pycocotools\n",
      "  Attempting uninstall: pycocotools\n",
      "    Found existing installation: pycocotools 2.0\n",
      "    Uninstalling pycocotools-2.0:\n",
      "      Successfully uninstalled pycocotools-2.0\n",
      "Successfully installed pycocotools-2.0\n",
      "gcc (Ubuntu 7.4.0-1ubuntu1~18.04.1) 7.4.0\n",
      "Copyright (C) 2017 Free Software Foundation, Inc.\n",
      "This is free software; see the source for copying conditions.  There is NO\n",
      "warranty; not even for MERCHANTABILITY or FITNESS FOR A PARTICULAR PURPOSE.\n",
      "\n"
     ]
    }
   ],
   "source": [
    "#dependencies\n",
    "!pip install --upgrade pip\n",
    "!pip install -U torch==1.4+cu100 torchvision==0.5+cu100 -f https://download.pytorch.org/whl/torch_stable.html \n",
    "!pip install cython pyyaml==5.1\n",
    "!pip install -U 'git+https://github.com/cocodataset/cocoapi.git#subdirectory=PythonAPI'\n",
    "import torch, torchvision\n",
    "torch.__version__\n",
    "torchvision.__version__\n",
    "!gcc --version\n",
    "\n",
    "# install detectron2:\n",
    "!pip install detectron2 -f https://dl.fbaipublicfiles.com/detectron2/wheels/cu100/index.html"
   ]
  },
  {
   "cell_type": "markdown",
   "metadata": {},
   "source": [
    "# Imports"
   ]
  },
  {
   "cell_type": "code",
   "execution_count": 60,
   "metadata": {},
   "outputs": [],
   "source": [
    "import os\n",
    "os.environ[\"CUDA_DEVICE_ORDER\"]=\"PCI_BUS_ID\"\n",
    "os.environ[\"CUDA_VISIBLE_DEVICES\"]=\"0\"\n",
    "\n",
    "%reload_ext autoreload\n",
    "%autoreload 2\n",
    "#%matplotlib notebook\n",
    "%matplotlib inline\n",
    "from bokeh.io import output_notebook\n",
    "from typing import Dict, List, Callable\n",
    "import os\n",
    "import pandas as pd\n",
    "import numpy as np\n",
    "import torch, torchvision\n",
    "from pathlib import Path\n",
    "Path.ls = lambda x: [p for p in list(x.iterdir()) if '.ipynb_checkpoints' not in p.name]\n",
    "from tqdm import tqdm_notebook as tqdm\n",
    "import PIL\n",
    "from PIL import Image\n",
    "import sys\n",
    "sys.path.append('../preprocessing_pipeline/python-wsi-preprocessing/')\n",
    "import wsi\n",
    "from wsi import tiles, util\n",
    "import fastai\n",
    "from fastai import vision\n",
    "import matplotlib.pyplot as plt\n",
    " \n",
    "PATH = Path('/home/Deep_Learner/shared/Datasets/2018_Data_Science_Bowl/')\n",
    "STAGE1_TRAIN = PATH/'stage1_train'\n",
    "STAGE1_TEST = PATH/'stage1_test'\n",
    "STAGE1_TRAIN_LABELS = PATH/'stage1_train_labels.csv'\n",
    "STAGE1_TEST_LABELS = PATH/'stage1_solution'\n",
    "\n",
    "seed = 19\n",
    "np.random.seed(seed)"
   ]
  },
  {
   "cell_type": "markdown",
   "metadata": {},
   "source": [
    "# util functions"
   ]
  },
  {
   "cell_type": "code",
   "execution_count": 101,
   "metadata": {},
   "outputs": [],
   "source": [
    "def find_path_from_id(img_id:str, base_path:pathlib.Path)->pathlib.Path:\n",
    "    for p in base_path.ls():\n",
    "        if img_id in p.stem:\n",
    "            return p\n",
    "    \n",
    "def open_mask_as_np(path:pathlib.Path)->np.array:\n",
    "    return np.asarray(PIL.Image.open(path), dtype=np.bool)\n",
    "\n",
    "def show_np(arr:np.array):\n",
    "    plt.imshow(arr)\n",
    "    plt.show()\n",
    "    \n",
    "def merge_masks(masks:List[np.array], shape:tuple)->np.array:\n",
    "    merged_mask = np.zeros((shape[0],shape[1]), dtype=np.bool)\n",
    "    for mask in masks:\n",
    "        merged_mask = np.maximum(merged_mask, mask)\n",
    "    return merged_mask\n",
    "\n",
    "def merge_masks_from_path(path:pathlib.Path, shape:tuple)->np.array:\n",
    "    masks = [open_mask_as_np(p) for p in path.ls()]\n",
    "    return merge_masks(masks, shape)"
   ]
  },
  {
   "cell_type": "markdown",
   "metadata": {},
   "source": [
    "# dataset"
   ]
  },
  {
   "cell_type": "code",
   "execution_count": 21,
   "metadata": {},
   "outputs": [],
   "source": [
    "s1_trn_lbs_df = pd.read_csv(STAGE1_TRAIN_LABELS)"
   ]
  },
  {
   "cell_type": "code",
   "execution_count": 22,
   "metadata": {},
   "outputs": [
    {
     "data": {
      "text/html": [
       "<div>\n",
       "<style scoped>\n",
       "    .dataframe tbody tr th:only-of-type {\n",
       "        vertical-align: middle;\n",
       "    }\n",
       "\n",
       "    .dataframe tbody tr th {\n",
       "        vertical-align: top;\n",
       "    }\n",
       "\n",
       "    .dataframe thead th {\n",
       "        text-align: right;\n",
       "    }\n",
       "</style>\n",
       "<table border=\"1\" class=\"dataframe\">\n",
       "  <thead>\n",
       "    <tr style=\"text-align: right;\">\n",
       "      <th></th>\n",
       "      <th>ImageId</th>\n",
       "      <th>EncodedPixels</th>\n",
       "    </tr>\n",
       "  </thead>\n",
       "  <tbody>\n",
       "    <tr>\n",
       "      <th>0</th>\n",
       "      <td>00071198d059ba7f5914a526d124d28e6d010c92466da2...</td>\n",
       "      <td>6908 1 7161 8 7417 8 7672 9 7928 9 8184 9 8440...</td>\n",
       "    </tr>\n",
       "    <tr>\n",
       "      <th>1</th>\n",
       "      <td>00071198d059ba7f5914a526d124d28e6d010c92466da2...</td>\n",
       "      <td>36269 7 36523 11 36778 13 37033 15 37288 17 37...</td>\n",
       "    </tr>\n",
       "    <tr>\n",
       "      <th>2</th>\n",
       "      <td>00071198d059ba7f5914a526d124d28e6d010c92466da2...</td>\n",
       "      <td>19919 6 20174 8 20429 10 20685 11 20941 12 211...</td>\n",
       "    </tr>\n",
       "    <tr>\n",
       "      <th>3</th>\n",
       "      <td>00071198d059ba7f5914a526d124d28e6d010c92466da2...</td>\n",
       "      <td>18671 6 18926 8 19181 9 19436 10 19691 11 1994...</td>\n",
       "    </tr>\n",
       "    <tr>\n",
       "      <th>4</th>\n",
       "      <td>00071198d059ba7f5914a526d124d28e6d010c92466da2...</td>\n",
       "      <td>40158 3 40413 5 40669 5 40925 5 41182 3</td>\n",
       "    </tr>\n",
       "    <tr>\n",
       "      <th>...</th>\n",
       "      <td>...</td>\n",
       "      <td>...</td>\n",
       "    </tr>\n",
       "    <tr>\n",
       "      <th>29456</th>\n",
       "      <td>ff599c7301daa1f783924ac8cbe3ce7b42878f15a39c2d...</td>\n",
       "      <td>31317 2 31676 5 32035 6 32394 7 32753 8 33112 ...</td>\n",
       "    </tr>\n",
       "    <tr>\n",
       "      <th>29457</th>\n",
       "      <td>ff599c7301daa1f783924ac8cbe3ce7b42878f15a39c2d...</td>\n",
       "      <td>110318 4 110675 13 111034 19 111391 23 111750 ...</td>\n",
       "    </tr>\n",
       "    <tr>\n",
       "      <th>29458</th>\n",
       "      <td>ff599c7301daa1f783924ac8cbe3ce7b42878f15a39c2d...</td>\n",
       "      <td>24841 1 25201 2 25561 2 25921 3 26281 4 26641 ...</td>\n",
       "    </tr>\n",
       "    <tr>\n",
       "      <th>29459</th>\n",
       "      <td>ff599c7301daa1f783924ac8cbe3ce7b42878f15a39c2d...</td>\n",
       "      <td>4061 8 4417 14 4775 21 5134 23 5494 24 5853 26...</td>\n",
       "    </tr>\n",
       "    <tr>\n",
       "      <th>29460</th>\n",
       "      <td>ff599c7301daa1f783924ac8cbe3ce7b42878f15a39c2d...</td>\n",
       "      <td>80876 11 81234 15 81590 20 81948 23 82305 27 8...</td>\n",
       "    </tr>\n",
       "  </tbody>\n",
       "</table>\n",
       "<p>29461 rows × 2 columns</p>\n",
       "</div>"
      ],
      "text/plain": [
       "                                                 ImageId  \\\n",
       "0      00071198d059ba7f5914a526d124d28e6d010c92466da2...   \n",
       "1      00071198d059ba7f5914a526d124d28e6d010c92466da2...   \n",
       "2      00071198d059ba7f5914a526d124d28e6d010c92466da2...   \n",
       "3      00071198d059ba7f5914a526d124d28e6d010c92466da2...   \n",
       "4      00071198d059ba7f5914a526d124d28e6d010c92466da2...   \n",
       "...                                                  ...   \n",
       "29456  ff599c7301daa1f783924ac8cbe3ce7b42878f15a39c2d...   \n",
       "29457  ff599c7301daa1f783924ac8cbe3ce7b42878f15a39c2d...   \n",
       "29458  ff599c7301daa1f783924ac8cbe3ce7b42878f15a39c2d...   \n",
       "29459  ff599c7301daa1f783924ac8cbe3ce7b42878f15a39c2d...   \n",
       "29460  ff599c7301daa1f783924ac8cbe3ce7b42878f15a39c2d...   \n",
       "\n",
       "                                           EncodedPixels  \n",
       "0      6908 1 7161 8 7417 8 7672 9 7928 9 8184 9 8440...  \n",
       "1      36269 7 36523 11 36778 13 37033 15 37288 17 37...  \n",
       "2      19919 6 20174 8 20429 10 20685 11 20941 12 211...  \n",
       "3      18671 6 18926 8 19181 9 19436 10 19691 11 1994...  \n",
       "4                40158 3 40413 5 40669 5 40925 5 41182 3  \n",
       "...                                                  ...  \n",
       "29456  31317 2 31676 5 32035 6 32394 7 32753 8 33112 ...  \n",
       "29457  110318 4 110675 13 111034 19 111391 23 111750 ...  \n",
       "29458  24841 1 25201 2 25561 2 25921 3 26281 4 26641 ...  \n",
       "29459  4061 8 4417 14 4775 21 5134 23 5494 24 5853 26...  \n",
       "29460  80876 11 81234 15 81590 20 81948 23 82305 27 8...  \n",
       "\n",
       "[29461 rows x 2 columns]"
      ]
     },
     "execution_count": 22,
     "metadata": {},
     "output_type": "execute_result"
    }
   ],
   "source": [
    "s1_trn_lbs_df"
   ]
  },
  {
   "cell_type": "code",
   "execution_count": 35,
   "metadata": {},
   "outputs": [
    {
     "data": {
      "text/plain": [
       "'00071198d059ba7f5914a526d124d28e6d010c92466da21d4a04cd5413362552'"
      ]
     },
     "execution_count": 35,
     "metadata": {},
     "output_type": "execute_result"
    }
   ],
   "source": [
    "img_id = s1_trn_lbs_df.iloc[0][0];img_id"
   ]
  },
  {
   "cell_type": "code",
   "execution_count": 44,
   "metadata": {},
   "outputs": [],
   "source": [
    "img_id_p = find_path_from_id(img_id, STAGE1_TRAIN);"
   ]
  },
  {
   "cell_type": "code",
   "execution_count": 45,
   "metadata": {},
   "outputs": [],
   "source": [
    "masks_path = img_id_p/'masks'"
   ]
  },
  {
   "cell_type": "code",
   "execution_count": 94,
   "metadata": {},
   "outputs": [],
   "source": [
    "masks_np = [open_mask_as_np(p) for p in masks_path.ls()]"
   ]
  },
  {
   "cell_type": "code",
   "execution_count": 95,
   "metadata": {},
   "outputs": [],
   "source": [
    "result = np.zeros((256,256), dtype=np.bool)\n",
    "for mask in masks_np:\n",
    "    result = np.maximum(result, mask)"
   ]
  },
  {
   "cell_type": "code",
   "execution_count": 102,
   "metadata": {},
   "outputs": [
    {
     "data": {
      "image/png": "[encoded data removed]",
      "text/plain": [
       "<Figure size 432x288 with 1 Axes>"
      ]
     },
     "metadata": {
      "needs_background": "light"
     },
     "output_type": "display_data"
    }
   ],
   "source": [
    "show_np(merge_masks_from_path(masks_path,(256,256)))"
   ]
  },
  {
   "cell_type": "code",
   "execution_count": 36,
   "metadata": {},
   "outputs": [
    {
     "data": {
      "text/plain": [
       "'6908 1 7161 8 7417 8 7672 9 7928 9 8184 9 8440 9 8696 9 8952 9 9209 8 9465 8 9722 7 9978 7 10235 6 10493 4 10752 1'"
      ]
     },
     "execution_count": 36,
     "metadata": {},
     "output_type": "execute_result"
    }
   ],
   "source": [
    "encoded_pixels = s1_trn_lbs_df.iloc[0][1];encoded_pixels"
   ]
  }
 ],
 "metadata": {
  "kernelspec": {
   "display_name": "DLM Py3",
   "language": "python",
   "name": "python3"
  },
  "language_info": {
   "codemirror_mode": {
    "name": "ipython",
    "version": 3
   },
   "file_extension": ".py",
   "mimetype": "text/x-python",
   "name": "python",
   "nbconvert_exporter": "python",
   "pygments_lexer": "ipython3",
   "version": "3.7.3"
  },
  "toc": {
   "base_numbering": 1,
   "nav_menu": {},
   "number_sections": true,
   "sideBar": true,
   "skip_h1_title": false,
   "title_cell": "Table of Contents",
   "title_sidebar": "Contents",
   "toc_cell": false,
   "toc_position": {},
   "toc_section_display": true,
   "toc_window_display": false
  }
 },
 "nbformat": 4,
 "nbformat_minor": 4
}
