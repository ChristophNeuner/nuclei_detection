{
 "cells": [
  {
   "cell_type": "markdown",
   "metadata": {},
   "source": [
    "# Install detectron2"
   ]
  },
  {
   "cell_type": "code",
   "execution_count": 7,
   "metadata": {
    "scrolled": true
   },
   "outputs": [
    {
     "name": "stdout",
     "output_type": "stream",
     "text": [
      "Requirement already up-to-date: pip in /opt/conda/lib/python3.7/site-packages (20.0.2)\n",
      "Requirement already satisfied: cython in /opt/conda/lib/python3.7/site-packages (0.29.16)\n",
      "Requirement already satisfied: pyyaml in /opt/conda/lib/python3.7/site-packages (5.3.1)\n",
      "Collecting git+https://github.com/cocodataset/cocoapi.git#subdirectory=PythonAPI\n",
      "  Cloning https://github.com/cocodataset/cocoapi.git to /tmp/pip-req-build-hs1dy5m_\n",
      "  Running command git clone -q https://github.com/cocodataset/cocoapi.git /tmp/pip-req-build-hs1dy5m_\n",
      "Requirement already satisfied, skipping upgrade: setuptools>=18.0 in /opt/conda/lib/python3.7/site-packages (from pycocotools==2.0) (46.1.3.post20200325)\n",
      "Requirement already satisfied, skipping upgrade: cython>=0.27.3 in /opt/conda/lib/python3.7/site-packages (from pycocotools==2.0) (0.29.16)\n",
      "Requirement already satisfied, skipping upgrade: matplotlib>=2.1.0 in /opt/conda/lib/python3.7/site-packages (from pycocotools==2.0) (3.2.1)\n",
      "Requirement already satisfied, skipping upgrade: cycler>=0.10 in /opt/conda/lib/python3.7/site-packages (from matplotlib>=2.1.0->pycocotools==2.0) (0.10.0)\n",
      "Requirement already satisfied, skipping upgrade: python-dateutil>=2.1 in /opt/conda/lib/python3.7/site-packages (from matplotlib>=2.1.0->pycocotools==2.0) (2.8.1)\n",
      "Requirement already satisfied, skipping upgrade: pyparsing!=2.0.4,!=2.1.2,!=2.1.6,>=2.0.1 in /opt/conda/lib/python3.7/site-packages (from matplotlib>=2.1.0->pycocotools==2.0) (2.4.7)\n",
      "Requirement already satisfied, skipping upgrade: numpy>=1.11 in /opt/conda/lib/python3.7/site-packages (from matplotlib>=2.1.0->pycocotools==2.0) (1.18.1)\n",
      "Requirement already satisfied, skipping upgrade: kiwisolver>=1.0.1 in /opt/conda/lib/python3.7/site-packages (from matplotlib>=2.1.0->pycocotools==2.0) (1.2.0)\n",
      "Requirement already satisfied, skipping upgrade: six in /opt/conda/lib/python3.7/site-packages (from cycler>=0.10->matplotlib>=2.1.0->pycocotools==2.0) (1.14.0)\n",
      "Building wheels for collected packages: pycocotools\n",
      "  Building wheel for pycocotools (setup.py) ... \u001b[?25ldone\n",
      "\u001b[?25h  Created wheel for pycocotools: filename=pycocotools-2.0-cp37-cp37m-linux_x86_64.whl size=279387 sha256=c8509446b70c418e6de9d61d86ded860392ddc5455ceb05f36961db81309a946\n",
      "  Stored in directory: /tmp/pip-ephem-wheel-cache-vrq5l022/wheels/e2/6b/1d/344ac773c7495ea0b85eb228bc66daec7400a143a92d36b7b1\n",
      "Successfully built pycocotools\n",
      "Installing collected packages: pycocotools\n",
      "  Attempting uninstall: pycocotools\n",
      "    Found existing installation: pycocotools 2.0\n",
      "    Uninstalling pycocotools-2.0:\n",
      "      Successfully uninstalled pycocotools-2.0\n",
      "Successfully installed pycocotools-2.0\n",
      "Looking in links: https://dl.fbaipublicfiles.com/detectron2/wheels/cu101/index.html\n",
      "Requirement already satisfied: detectron2 in /opt/conda/lib/python3.7/site-packages (0.1.1+cu101)\n",
      "Requirement already satisfied: tqdm>4.29.0 in /opt/conda/lib/python3.7/site-packages (from detectron2) (4.45.0)\n",
      "Requirement already satisfied: future in /opt/conda/lib/python3.7/site-packages (from detectron2) (0.18.2)\n",
      "Requirement already satisfied: matplotlib in /opt/conda/lib/python3.7/site-packages (from detectron2) (3.2.1)\n",
      "Requirement already satisfied: tensorboard in /opt/conda/lib/python3.7/site-packages (from detectron2) (2.1.0)\n",
      "Requirement already satisfied: yacs>=0.1.6 in /opt/conda/lib/python3.7/site-packages (from detectron2) (0.1.6)\n",
      "Requirement already satisfied: cloudpickle in /opt/conda/lib/python3.7/site-packages (from detectron2) (1.3.0)\n",
      "Requirement already satisfied: termcolor>=1.1 in /opt/conda/lib/python3.7/site-packages (from detectron2) (1.1.0)\n",
      "Requirement already satisfied: fvcore in /opt/conda/lib/python3.7/site-packages (from detectron2) (0.1.dev200408)\n",
      "Requirement already satisfied: pydot in /opt/conda/lib/python3.7/site-packages (from detectron2) (1.4.1)\n",
      "Requirement already satisfied: Pillow in /opt/conda/lib/python3.7/site-packages (from detectron2) (7.1.1)\n",
      "Requirement already satisfied: tabulate in /opt/conda/lib/python3.7/site-packages (from detectron2) (0.8.7)\n",
      "Requirement already satisfied: pyparsing!=2.0.4,!=2.1.2,!=2.1.6,>=2.0.1 in /opt/conda/lib/python3.7/site-packages (from matplotlib->detectron2) (2.4.7)\n",
      "Requirement already satisfied: python-dateutil>=2.1 in /opt/conda/lib/python3.7/site-packages (from matplotlib->detectron2) (2.8.1)\n",
      "Requirement already satisfied: cycler>=0.10 in /opt/conda/lib/python3.7/site-packages (from matplotlib->detectron2) (0.10.0)\n",
      "Requirement already satisfied: kiwisolver>=1.0.1 in /opt/conda/lib/python3.7/site-packages (from matplotlib->detectron2) (1.2.0)\n",
      "Requirement already satisfied: numpy>=1.11 in /opt/conda/lib/python3.7/site-packages (from matplotlib->detectron2) (1.18.1)\n",
      "Requirement already satisfied: werkzeug>=0.11.15 in /opt/conda/lib/python3.7/site-packages (from tensorboard->detectron2) (1.0.0)\n",
      "Requirement already satisfied: wheel>=0.26; python_version >= \"3\" in /opt/conda/lib/python3.7/site-packages (from tensorboard->detectron2) (0.34.2)\n",
      "Requirement already satisfied: protobuf>=3.6.0 in /opt/conda/lib/python3.7/site-packages (from tensorboard->detectron2) (3.11.4)\n",
      "Requirement already satisfied: setuptools>=41.0.0 in /opt/conda/lib/python3.7/site-packages (from tensorboard->detectron2) (46.1.3.post20200325)\n",
      "Requirement already satisfied: six>=1.10.0 in /opt/conda/lib/python3.7/site-packages (from tensorboard->detectron2) (1.14.0)\n",
      "Requirement already satisfied: markdown>=2.6.8 in /opt/conda/lib/python3.7/site-packages (from tensorboard->detectron2) (3.1.1)\n",
      "Requirement already satisfied: google-auth<2,>=1.6.3 in /opt/conda/lib/python3.7/site-packages (from tensorboard->detectron2) (1.11.2)\n",
      "Requirement already satisfied: grpcio>=1.24.3 in /opt/conda/lib/python3.7/site-packages (from tensorboard->detectron2) (1.27.2)\n",
      "Requirement already satisfied: google-auth-oauthlib<0.5,>=0.4.1 in /opt/conda/lib/python3.7/site-packages (from tensorboard->detectron2) (0.4.1)\n",
      "Requirement already satisfied: absl-py>=0.4 in /opt/conda/lib/python3.7/site-packages (from tensorboard->detectron2) (0.9.0)\n",
      "Requirement already satisfied: requests<3,>=2.21.0 in /opt/conda/lib/python3.7/site-packages (from tensorboard->detectron2) (2.23.0)\n",
      "Requirement already satisfied: PyYAML in /opt/conda/lib/python3.7/site-packages (from yacs>=0.1.6->detectron2) (5.3.1)\n",
      "Requirement already satisfied: portalocker in /opt/conda/lib/python3.7/site-packages (from fvcore->detectron2) (1.6.0)\n",
      "Requirement already satisfied: pyasn1-modules>=0.2.1 in /opt/conda/lib/python3.7/site-packages (from google-auth<2,>=1.6.3->tensorboard->detectron2) (0.2.7)\n",
      "Requirement already satisfied: rsa<4.1,>=3.1.4 in /opt/conda/lib/python3.7/site-packages (from google-auth<2,>=1.6.3->tensorboard->detectron2) (4.0)\n",
      "Requirement already satisfied: cachetools<5.0,>=2.0.0 in /opt/conda/lib/python3.7/site-packages (from google-auth<2,>=1.6.3->tensorboard->detectron2) (3.1.1)\n",
      "Requirement already satisfied: requests-oauthlib>=0.7.0 in /opt/conda/lib/python3.7/site-packages (from google-auth-oauthlib<0.5,>=0.4.1->tensorboard->detectron2) (1.3.0)\n",
      "Requirement already satisfied: chardet<4,>=3.0.2 in /opt/conda/lib/python3.7/site-packages (from requests<3,>=2.21.0->tensorboard->detectron2) (3.0.4)\n",
      "Requirement already satisfied: idna<3,>=2.5 in /opt/conda/lib/python3.7/site-packages (from requests<3,>=2.21.0->tensorboard->detectron2) (2.9)\n",
      "Requirement already satisfied: urllib3!=1.25.0,!=1.25.1,<1.26,>=1.21.1 in /opt/conda/lib/python3.7/site-packages (from requests<3,>=2.21.0->tensorboard->detectron2) (1.25.7)\n",
      "Requirement already satisfied: certifi>=2017.4.17 in /opt/conda/lib/python3.7/site-packages (from requests<3,>=2.21.0->tensorboard->detectron2) (2020.4.5.1)\n",
      "Requirement already satisfied: pyasn1<0.5.0,>=0.4.6 in /opt/conda/lib/python3.7/site-packages (from pyasn1-modules>=0.2.1->google-auth<2,>=1.6.3->tensorboard->detectron2) (0.4.8)\n",
      "Requirement already satisfied: oauthlib>=3.0.0 in /opt/conda/lib/python3.7/site-packages (from requests-oauthlib>=0.7.0->google-auth-oauthlib<0.5,>=0.4.1->tensorboard->detectron2) (3.0.1)\n"
     ]
    }
   ],
   "source": [
    "### it may be necessary to restart the kernel after installation (for whatever reason)\n",
    "!pip install --upgrade pip\n",
    "import torch, torchvision\n",
    "if torch.version.cuda == '10.0.130':\n",
    "    !pip install --upgrade pip\n",
    "    !pip install -U torch==1.4+cu100 torchvision==0.5+cu100 -f https://download.pytorch.org/whl/torch_stable.html \n",
    "    !pip install cython pyyaml==5.1\n",
    "    !pip install -U 'git+https://github.com/cocodataset/cocoapi.git#subdirectory=PythonAPI'\n",
    "    !pip install detectron2 -f https://dl.fbaipublicfiles.com/detectron2/wheels/cu100/index.html\n",
    "elif torch.version.cuda == '10.1':\n",
    "    !pip install cython \n",
    "    !pip install pyyaml\n",
    "    !pip install -U 'git+https://github.com/cocodataset/cocoapi.git#subdirectory=PythonAPI'\n",
    "    !python -m pip install detectron2 -f https://dl.fbaipublicfiles.com/detectron2/wheels/cu101/index.html\n",
    "else:\n",
    "    print(torch.version.cuda)"
   ]
  },
  {
   "cell_type": "markdown",
   "metadata": {},
   "source": [
    "# Imports"
   ]
  },
  {
   "cell_type": "code",
   "execution_count": 1,
   "metadata": {},
   "outputs": [],
   "source": [
    "import sys\n",
    "sys.path.append('/opt/conda/lib/python3.7/site-packages')"
   ]
  },
  {
   "cell_type": "code",
   "execution_count": 2,
   "metadata": {},
   "outputs": [],
   "source": [
    "import os\n",
    "os.environ[\"CUDA_DEVICE_ORDER\"]=\"PCI_BUS_ID\"\n",
    "os.environ[\"CUDA_VISIBLE_DEVICES\"]=\"1\"\n",
    "\n",
    "%reload_ext autoreload\n",
    "%autoreload 2\n",
    "#%matplotlib notebook\n",
    "%matplotlib inline\n",
    "\n",
    "import sys\n",
    "sys.path.append('../preprocessing_pipeline/python-wsi-preprocessing/')\n",
    "import wsi\n",
    "#from wsi import tiles, util\n",
    "\n",
    "from bokeh.io import output_notebook\n",
    "from typing import Dict, List, Callable\n",
    "import os\n",
    "import pandas\n",
    "import pandas as pd\n",
    "import numpy\n",
    "import numpy as np\n",
    "import torch, torchvision\n",
    "import pathlib\n",
    "from pathlib import Path\n",
    "Path.ls = lambda x: [p for p in list(x.iterdir()) if '.ipynb_checkpoints' not in p.name]\n",
    "\n",
    "import PIL\n",
    "from PIL import Image\n",
    "\n",
    "import fastai\n",
    "from fastai import vision\n",
    "import matplotlib.pyplot as plt\n",
    "import matplotlib.patches\n",
    "import pycocotools\n",
    "#from pycocotools import mask\n",
    "from itertools import groupby\n",
    "from sklearn.model_selection import train_test_split\n",
    "from tqdm.notebook import tqdm\n",
    "import cv2\n",
    "import random\n",
    "\n",
    " \n",
    "PATH = Path('/home/Deep_Learner/shared/Datasets/2018_Data_Science_Bowl/')\n",
    "STAGE1_TRAIN = PATH/'stage1_train'\n",
    "STAGE1_TEST = PATH/'stage1_test'\n",
    "EXTRA_DATA = PATH/'extra_data'\n",
    "\n",
    "STAGE1_TRAIN_LABELS = PATH/'stage1_train_labels.csv'\n",
    "STAGE1_TEST_LABELS = PATH/'stage1_solution.csv'\n",
    "\n",
    "STAGE2_TEST = PATH/'stage2_test_final'\n",
    "STAGE2_TEST_SAMPLE_SUBMISSION = PATH/'stage2_sample_submission_final.csv'\n",
    "\n",
    "\n",
    "seed = 19\n",
    "np.random.seed(seed)\n",
    "\n",
    "import detectron2\n",
    "from detectron2.utils.logger import setup_logger\n",
    "setup_logger()\n",
    "\n",
    "from detectron2 import model_zoo\n",
    "from detectron2.config import get_cfg\n",
    "from detectron2.utils.visualizer import Visualizer\n",
    "from detectron2.data import MetadataCatalog\n",
    "from detectron2.structures import BoxMode"
   ]
  },
  {
   "cell_type": "markdown",
   "metadata": {},
   "source": [
    "# util functions"
   ]
  },
  {
   "cell_type": "code",
   "execution_count": 3,
   "metadata": {
    "scrolled": true
   },
   "outputs": [],
   "source": [
    "def show_np(arr:numpy.ndarray):\n",
    "    plt.imshow(arr)\n",
    "    plt.show()\n",
    "    \n",
    "from matplotlib.pyplot import imshow\n",
    "def show_pil(path:pathlib.Path):    \n",
    "    imshow(np.asarray(Image.open(path)))\n",
    "    plt.show()\n",
    "\n",
    "def get_path_from_id(img_id:str, base_path:pathlib.Path)->pathlib.Path:\n",
    "    \"\"\"\n",
    "    Arguments:\n",
    "        base_path: here ~/2018_Data_Science_Bowl/stage1_train/   or   ~/2018_Data_Science_Bowl/stage1_test/\n",
    "    \"\"\"\n",
    "    for p in base_path.ls():\n",
    "        if img_id in p.stem:\n",
    "            return p\n",
    "\n",
    "def get_masks_path_from_id(img_id:str, base_path:pathlib.Path)->pathlib.Path:\n",
    "    \"\"\"\n",
    "    Arguments:\n",
    "        base_path: here ~/2018_Data_Science_Bowl/stage1_train/   or   ~/2018_Data_Science_Bowl/stage1_test/\n",
    "    \"\"\"\n",
    "    return get_path_from_id(img_id, base_path)/'masks'\n",
    "        \n",
    "def open_mask_as_np(path:pathlib.Path)->numpy.ndarray:\n",
    "    return np.asarray(PIL.Image.open(path), dtype=np.bool)\n",
    "\n",
    "def show_np_with_bboxes(img:numpy.ndarray, bboxes:List[numpy.ndarray]):\n",
    "    \"\"\"\n",
    "    Arguments:\n",
    "        img: img as numpy array\n",
    "        bboxes: List of bounding boxes where each bbox is a numpy array: \n",
    "                array([ x-upper-left, y-upper-left,  width,  height]) \n",
    "                e.g. array([ 50., 211.,  17.,  19.])\n",
    "    \"\"\"    \n",
    "    # Create figure and axes\n",
    "    fig,ax = plt.subplots(1)    \n",
    "    # Display the image\n",
    "    ax.imshow(img)    \n",
    "    # Create a Rectangle patch for each bbox\n",
    "    for b in bboxes:\n",
    "        rect = matplotlib.patches.Rectangle((b[0],b[1]),b[2],b[3],linewidth=1,edgecolor='r',facecolor='none')    \n",
    "        # Add the patch to the Axes\n",
    "        ax.add_patch(rect)    \n",
    "    plt.show()    \n",
    "\n",
    "def merge_masks(masks:List[numpy.ndarray], shape:tuple=(256,256))->numpy.ndarray:\n",
    "    merged_mask = np.zeros((shape[0],shape[1]), dtype=np.bool)\n",
    "    for mask in masks:\n",
    "        merged_mask = np.maximum(merged_mask, mask)\n",
    "    return merged_mask\n",
    "\n",
    "def merge_masks_from_path(path:pathlib.Path, shape:tuple=(256,256))->numpy.ndarray:\n",
    "    return merge_masks([open_mask_as_np(p) for p in path.ls()], shape)\n",
    "\n",
    "\n",
    "def rle_encode(mask_np:numpy.ndarray)->List[int]:\n",
    "    '''\n",
    "    mask_np: numpy array of shape (height, width), 1 = mask, 0 = background\n",
    "    Returns run length as list\n",
    "    '''\n",
    "    dots = np.where(mask_np.T.flatten()==1)[0] # .T sets Fortran order down-then-right\n",
    "    run_lengths = []\n",
    "    prev = -2\n",
    "    for b in dots:\n",
    "        if (b>prev+1): run_lengths.extend((b+1, 0))\n",
    "        run_lengths[-1] += 1\n",
    "        prev = b\n",
    "    return run_lengths\n",
    "\n",
    "def rle_from_list_to_string(rle_as_list:List[int])->str:\n",
    "    return ' '.join([str(e) for e in rle_as_list])\n",
    "\n",
    "def rle_decode(mask_rle:str, shape:tuple=(256, 256))->numpy.ndarray:\n",
    "    '''\n",
    "    Arguments:\n",
    "        mask_rle: run-length as string formated (start length) e.g. \"6908 1 7161 8 7417 8\"\n",
    "        shape: (height,width) of array to return\n",
    "    Returns: \n",
    "        numpy array, True == mask, False == background\n",
    "    '''\n",
    "    #print('rle_decode(mask_rle = ', mask_rle)\n",
    "    s = mask_rle.split()\n",
    "    starts, lengths = [np.asarray(x, dtype=int) for x in (s[0:][::2], s[1:][::2])]\n",
    "    starts -= 1\n",
    "    ends = starts + lengths\n",
    "    mask = np.zeros(shape[0]*shape[1], dtype=np.bool)\n",
    "    for lo, hi in zip(starts, ends):\n",
    "        mask[lo:hi] = True\n",
    "    # Needed to align to RLE direction\n",
    "    return mask.reshape(shape).T\n",
    "\n",
    "def get_mask_list_from_rle_for_one_id(img_id:str, \n",
    "                                      df:pandas.DataFrame, \n",
    "                                      coloumn_name_ids:str='ImageId',\n",
    "                                      coloumn_name_rle:str='EncodedPixels',\n",
    "                                      shape:tuple=(256,256))->List[numpy.ndarray]:\n",
    "    \"\"\"\n",
    "    Arguments:\n",
    "        shape: tuple (width, height)\n",
    "    Returns:\n",
    "        \n",
    "    \"\"\"\n",
    "    masks_rle_df = df.loc[df[coloumn_name_ids] == img_id]\n",
    "    masks = []\n",
    "    for index, row in masks_rle_df.iterrows():\n",
    "        #print(row[coloumn_name_rle])\n",
    "        masks.append(rle_decode(row[coloumn_name_rle], shape))\n",
    "    return masks\n",
    "\n",
    "def mask_to_bbox(mask_np:numpy.ndarray)->numpy.ndarray:\n",
    "    \"\"\"\n",
    "    Arguments: \n",
    "        mask_np: binary mask as numpy array where mask == True or 1 or 1.0 and background == False or 0 or 0.0\n",
    "    Returns:\n",
    "        bounding box as numpy array: array([ x-upper-left, y-upper-left,  width,  height]) \n",
    "                                        e.g. array([ 50., 211.,  17.,  19.])\n",
    "    \"\"\"\n",
    "    return pycocotools.mask.toBbox(pycocotools.mask.encode(np.asarray(mask_np, order=\"F\")))\n",
    "\n",
    "\n",
    "def rle_encode_pycoco(mask_np:numpy.ndarray)->dict:\n",
    "    '''\n",
    "    Arguments:\n",
    "        mask_np: numpy array of shape (height, width), 1 = mask, 0 = background\n",
    "    Returns: \n",
    "        dict with size and per-pixel segmentation mask in COCO's RLE format.        \n",
    "    '''\n",
    "    #option 1\n",
    "    return pycocotools.mask.encode(np.asarray(mask, order=\"F\"))\n",
    "    #option 2\n",
    "    #rle = {'counts': [], 'size': list(mask_np.shape)}\n",
    "    #counts = rle.get('counts')\n",
    "    #for i, (value, elements) in enumerate(groupby(mask_np.ravel(order='F'))):\n",
    "    #    if i == 0 and value == 1:\n",
    "    #        counts.append(0)\n",
    "    #    counts.append(len(list(elements)))\n",
    "    #return rle\n",
    "\n",
    "#!pip install imantics\n",
    "import imantics\n",
    "from imantics import Polygons, Mask\n",
    "def get_polygon_from_binary_mask(mask_np:numpy.ndarray)->List[float]:\n",
    "    \"\"\"\n",
    "    Arguments:\n",
    "        binary mask as numpy array\n",
    "    Returns:\n",
    "        list[int] is one simple polygon in the format of [x1, y1, ..., xn, yn]\n",
    "    \"\"\"\n",
    "    return [float(c) for c in list(Mask(mask_np).polygons()[0])]"
   ]
  },
  {
   "cell_type": "markdown",
   "metadata": {},
   "source": [
    "# some util examples"
   ]
  },
  {
   "cell_type": "markdown",
   "metadata": {
    "heading_collapsed": true
   },
   "source": [
    "## load csv"
   ]
  },
  {
   "cell_type": "code",
   "execution_count": 31,
   "metadata": {
    "hidden": true
   },
   "outputs": [],
   "source": [
    "s1_trn_lbs_df = pd.read_csv(STAGE1_TRAIN_LABELS)"
   ]
  },
  {
   "cell_type": "code",
   "execution_count": null,
   "metadata": {
    "hidden": true
   },
   "outputs": [],
   "source": [
    "s1_trn_lbs_df"
   ]
  },
  {
   "cell_type": "code",
   "execution_count": null,
   "metadata": {
    "hidden": true
   },
   "outputs": [],
   "source": [
    "img_id = s1_trn_lbs_df.iloc[0][0];img_id"
   ]
  },
  {
   "cell_type": "markdown",
   "metadata": {
    "heading_collapsed": true
   },
   "source": [
    "## merge existing single masks of one image - example"
   ]
  },
  {
   "cell_type": "code",
   "execution_count": null,
   "metadata": {
    "hidden": true
   },
   "outputs": [],
   "source": [
    "img_id_p = get_path_from_id(img_id, STAGE1_TRAIN)"
   ]
  },
  {
   "cell_type": "code",
   "execution_count": null,
   "metadata": {
    "hidden": true
   },
   "outputs": [],
   "source": [
    "masks_path = get_masks_path_from_id(img_id, STAGE1_TRAIN);masks_path"
   ]
  },
  {
   "cell_type": "code",
   "execution_count": null,
   "metadata": {
    "hidden": true
   },
   "outputs": [],
   "source": [
    "masks_np = [open_mask_as_np(p) for p in masks_path.ls()]"
   ]
  },
  {
   "cell_type": "code",
   "execution_count": null,
   "metadata": {
    "hidden": true
   },
   "outputs": [],
   "source": [
    "merged_mask = merge_masks_from_path(masks_path,(256,256))"
   ]
  },
  {
   "cell_type": "code",
   "execution_count": null,
   "metadata": {
    "hidden": true
   },
   "outputs": [],
   "source": [
    "show_np(merged_mask)"
   ]
  },
  {
   "cell_type": "markdown",
   "metadata": {
    "heading_collapsed": true
   },
   "source": [
    "## decode run length encoding to mask - example"
   ]
  },
  {
   "cell_type": "code",
   "execution_count": null,
   "metadata": {
    "hidden": true
   },
   "outputs": [],
   "source": [
    "masks = get_mask_list_from_rle_for_one_id(img_id, s1_trn_lbs_df)"
   ]
  },
  {
   "cell_type": "code",
   "execution_count": null,
   "metadata": {
    "hidden": true
   },
   "outputs": [],
   "source": [
    "merged_mask = merge_masks(masks)"
   ]
  },
  {
   "cell_type": "code",
   "execution_count": null,
   "metadata": {
    "hidden": true
   },
   "outputs": [],
   "source": [
    "show_np(merged_mask)"
   ]
  },
  {
   "cell_type": "markdown",
   "metadata": {
    "heading_collapsed": true
   },
   "source": [
    "## get bounding box from mask in format x,y (left upper corner); width, heigth - example"
   ]
  },
  {
   "cell_type": "code",
   "execution_count": null,
   "metadata": {
    "hidden": true
   },
   "outputs": [],
   "source": [
    "img_id"
   ]
  },
  {
   "cell_type": "code",
   "execution_count": null,
   "metadata": {
    "hidden": true
   },
   "outputs": [],
   "source": [
    "img_p = get_path_from_id(img_id, STAGE1_TRAIN);img_p"
   ]
  },
  {
   "cell_type": "code",
   "execution_count": null,
   "metadata": {
    "hidden": true
   },
   "outputs": [],
   "source": [
    "masks_p = get_masks_path_from_id(img_id, STAGE1_TRAIN);masks_p"
   ]
  },
  {
   "cell_type": "code",
   "execution_count": null,
   "metadata": {
    "hidden": true
   },
   "outputs": [],
   "source": [
    "bboxes = []\n",
    "for p in masks_p.ls():\n",
    "    mask_np = open_mask_as_np(p)\n",
    "    bboxes.append(mask_to_bbox(mask_np))"
   ]
  },
  {
   "cell_type": "code",
   "execution_count": null,
   "metadata": {
    "hidden": true
   },
   "outputs": [],
   "source": [
    "merged_mask = merge_masks_from_path(masks_p)"
   ]
  },
  {
   "cell_type": "code",
   "execution_count": null,
   "metadata": {
    "hidden": true
   },
   "outputs": [],
   "source": [
    "show_np_with_bboxes(merged_mask,bboxes)"
   ]
  },
  {
   "cell_type": "markdown",
   "metadata": {},
   "source": [
    "## Custom dataset for nuclei detection"
   ]
  },
  {
   "cell_type": "markdown",
   "metadata": {},
   "source": [
    "# Data"
   ]
  },
  {
   "cell_type": "markdown",
   "metadata": {},
   "source": [
    "## image paths"
   ]
  },
  {
   "cell_type": "code",
   "execution_count": 4,
   "metadata": {},
   "outputs": [
    {
     "name": "stdout",
     "output_type": "stream",
     "text": [
      "764\n",
      "687\n",
      "77\n"
     ]
    }
   ],
   "source": [
    "excluded_ids = ['7b38c9173ebe69b4c6ba7e703c0c27f39305d9b2910f46405993d2ea7a963b80']\n",
    "\n",
    "img_paths = [p/'images'/f'{p.name}.png' for p in STAGE1_TRAIN.ls()+STAGE1_TEST.ls()+EXTRA_DATA.ls() if p.name not in excluded_ids]\n",
    "img_paths_train, img_paths_valid = train_test_split(img_paths, test_size=0.1, random_state=seed)\n",
    "print(len(img_paths))\n",
    "print(len(img_paths_train))\n",
    "print(len(img_paths_valid))"
   ]
  },
  {
   "cell_type": "markdown",
   "metadata": {},
   "source": [
    "## custom dataset getter"
   ]
  },
  {
   "cell_type": "code",
   "execution_count": 5,
   "metadata": {},
   "outputs": [],
   "source": [
    "df_rle_labels = pd.concat([pd.read_csv(STAGE1_TRAIN_LABELS), \n",
    "                             pd.read_csv(STAGE1_TEST_LABELS)], \n",
    "                            ignore_index=True, sort=False)\n",
    "\n",
    "def get_nuclei_dicts(img_paths:List[pathlib.Path], isTestSet:bool=False):\n",
    "    \"\"\"\n",
    "    Arguments:\n",
    "        dataset_path: List of pathlib.Path to images\n",
    "    \"\"\"    \n",
    "    dataset_dicts = []\n",
    "    for path in tqdm(img_paths):\n",
    "        record = {}\n",
    "        \n",
    "        img_pil = PIL.Image.open(path)         \n",
    "        width = img_pil.width\n",
    "        height = img_pil.height\n",
    "        \n",
    "        record[\"file_name\"] = path\n",
    "        record[\"image_id\"] = path.stem\n",
    "        record[\"height\"] = height\n",
    "        record[\"width\"] = width\n",
    "        \n",
    "        ###\n",
    "        #stage1_test set: masks only in run length encoded form in csv file\n",
    "        #extra_data set: masks only saved as images\n",
    "        ###\n",
    "        try:\n",
    "            masks = [open_mask_as_np(mp) for mp in get_masks_path_from_id(path.stem, base_path=path.parent.parent.parent).ls()]    \n",
    "        except FileNotFoundError:\n",
    "            masks = get_mask_list_from_rle_for_one_id(path.stem, df_rle_labels, shape=(width,height))\n",
    "        \n",
    "        objs = []\n",
    "        if not isTestSet:\n",
    "            for mask in masks:\n",
    "                obj = {\n",
    "                    \"bbox\": list(mask_to_bbox(mask)),\n",
    "                    \"bbox_mode\": BoxMode.XYWH_ABS,\n",
    "                    \"segmentation\": [get_polygon_from_binary_mask(mask)],\n",
    "                    #\"segmentation\": rle_encode_pycoco(mask),\n",
    "                    \"category_id\": 0,\n",
    "                    \"iscrowd\": 0\n",
    "                }\n",
    "                ### detectron throws AssertionError if not (len(polygon) % 2 == 0 and len(polygon) >= 6)\n",
    "                if len(obj[\"segmentation\"][0]) >= 6:\n",
    "                    objs.append(obj)\n",
    "            \n",
    "        record[\"annotations\"] = objs\n",
    "        dataset_dicts.append(record)\n",
    "    return dataset_dicts"
   ]
  },
  {
   "cell_type": "markdown",
   "metadata": {},
   "source": [
    "## register datasets"
   ]
  },
  {
   "cell_type": "code",
   "execution_count": 6,
   "metadata": {},
   "outputs": [
    {
     "data": {
      "text/plain": [
       "Metadata(name='nuclei_valid', thing_classes=['nucleus'])"
      ]
     },
     "execution_count": 6,
     "metadata": {},
     "output_type": "execute_result"
    }
   ],
   "source": [
    "from detectron2.data import DatasetCatalog, MetadataCatalog\n",
    "\n",
    "DatasetCatalog.clear()\n",
    "\n",
    "DatasetCatalog.register(\"nuclei_train\", lambda : get_nuclei_dicts(img_paths_train))\n",
    "MetadataCatalog.get(f\"nuclei_train\").set(thing_classes=[\"nucleus\"])\n",
    "\n",
    "DatasetCatalog.register(\"nuclei_valid\", lambda : get_nuclei_dicts(img_paths_valid))\n",
    "MetadataCatalog.get(f\"nuclei_valid\").set(thing_classes=[\"nucleus\"])"
   ]
  },
  {
   "cell_type": "markdown",
   "metadata": {
    "heading_collapsed": true
   },
   "source": [
    "## load datasets"
   ]
  },
  {
   "cell_type": "code",
   "execution_count": null,
   "metadata": {
    "hidden": true
   },
   "outputs": [],
   "source": [
    "nuclei_metadata_train = MetadataCatalog.get(f\"nuclei_train\")\n",
    "dataset_dicts_nuclei_train = get_nuclei_dicts(img_paths_train)"
   ]
  },
  {
   "cell_type": "code",
   "execution_count": 12,
   "metadata": {
    "hidden": true,
    "scrolled": true
   },
   "outputs": [
    {
     "data": {
      "application/vnd.jupyter.widget-view+json": {
       "model_id": "12cb1ab248c740a68eb6db3359047c79",
       "version_major": 2,
       "version_minor": 0
      },
      "text/plain": [
       "HBox(children=(IntProgress(value=0, max=77), HTML(value='')))"
      ]
     },
     "metadata": {},
     "output_type": "display_data"
    },
    {
     "name": "stdout",
     "output_type": "stream",
     "text": [
      "\n"
     ]
    }
   ],
   "source": [
    "nuclei_metadata_valid = MetadataCatalog.get(f\"nuclei_valid\")\n",
    "dataset_dicts_nuclei_valid = get_nuclei_dicts(img_paths_valid)"
   ]
  },
  {
   "cell_type": "code",
   "execution_count": 13,
   "metadata": {
    "hidden": true
   },
   "outputs": [],
   "source": [
    "#for d in dataset_dicts_nuclei:\n",
    "#    for a in d[\"annotations\"]:\n",
    "#        polygon = a['segmentation']\n",
    "#        #print(len(polygon[0]))\n",
    "#        try:\n",
    "#            assert len(polygon[0]) % 2 == 0 and len(polygon[0]) >= 6\n",
    "#        except AssertionError:\n",
    "#            print(len(polygon[0]))"
   ]
  },
  {
   "cell_type": "markdown",
   "metadata": {
    "heading_collapsed": true
   },
   "source": [
    "## sort dataset by number of nuclei and inspect it"
   ]
  },
  {
   "cell_type": "code",
   "execution_count": 14,
   "metadata": {
    "hidden": true
   },
   "outputs": [],
   "source": [
    "#key: img_path; value: number of nuclei\n",
    "path_to_n_objects = {}\n",
    "\n",
    "for ds in [dataset_dicts_nuclei_train, dataset_dicts_nuclei_valid]:\n",
    "    for d in ds:\n",
    "        path_to_n_objects[d['file_name']] = len(d['annotations'])\n",
    "        \n",
    "#sort descending by number of nuclei\n",
    "path_to_n_objects = {k: v for k, v in sorted(path_to_n_objects.items(), key=lambda item: item[1], reverse=True)}"
   ]
  },
  {
   "cell_type": "code",
   "execution_count": 15,
   "metadata": {
    "hidden": true
   },
   "outputs": [
    {
     "name": "stdout",
     "output_type": "stream",
     "text": [
      "max number of objects: 1862\n",
      "min number of objects: 1\n"
     ]
    }
   ],
   "source": [
    "print(f'max number of objects: {list(path_to_n_objects.values())[0]}')\n",
    "print(f'min number of objects: {list(path_to_n_objects.values())[-1]}')"
   ]
  },
  {
   "cell_type": "code",
   "execution_count": null,
   "metadata": {
    "hidden": true
   },
   "outputs": [],
   "source": [
    "for k, v in list(path_to_n_objects.items())[300:320]:\n",
    "    print(k)\n",
    "    print(v)\n",
    "    show_pil(k)"
   ]
  },
  {
   "cell_type": "markdown",
   "metadata": {
    "heading_collapsed": true
   },
   "source": [
    "## some visualization of the data"
   ]
  },
  {
   "cell_type": "code",
   "execution_count": 17,
   "metadata": {
    "collapsed": true,
    "hidden": true
   },
   "outputs": [
    {
     "data": {
      "image/png": "[encoded data removed]",
      "text/plain": [
       "<Figure size 432x288 with 1 Axes>"
      ]
     },
     "metadata": {
      "needs_background": "light"
     },
     "output_type": "display_data"
    },
    {
     "data": {
      "image/png": "[encoded data removed]",
      "text/plain": [
       "<Figure size 432x288 with 1 Axes>"
      ]
     },
     "metadata": {
      "needs_background": "light"
     },
     "output_type": "display_data"
    },
    {
     "data": {
      "image/png": "[encoded data removed]",
      "text/plain": [
       "<Figure size 432x288 with 1 Axes>"
      ]
     },
     "metadata": {
      "needs_background": "light"
     },
     "output_type": "display_data"
    },
    {
     "data": {
      "image/png": "[encoded data removed]",
      "text/plain": [
       "<Figure size 432x288 with 1 Axes>"
      ]
     },
     "metadata": {
      "needs_background": "light"
     },
     "output_type": "display_data"
    },
    {
     "data": {
      "image/png": "[encoded data removed]",
      "text/plain": [
       "<Figure size 432x288 with 1 Axes>"
      ]
     },
     "metadata": {
      "needs_background": "light"
     },
     "output_type": "display_data"
    }
   ],
   "source": [
    "#for d in random.sample(dataset_dicts_nuclei, 3):\n",
    "for d in dataset_dicts_nuclei_valid[:5]:\n",
    "    #print(d[\"file_name\"])\n",
    "    img = cv2.imread(str(d[\"file_name\"]))\n",
    "    #img = np.asarray(Image.open(p))\n",
    "    visualizer = Visualizer(img[:, :, ::-1], metadata=nuclei_metadata_valid, scale=1)\n",
    "    vis = visualizer.draw_dataset_dict(d)\n",
    "    #cv2.imshow(vis.get_image()[:, :, ::-1])\n",
    "    show_np(vis.get_image()[:, :, ::-1])"
   ]
  },
  {
   "cell_type": "markdown",
   "metadata": {},
   "source": [
    "# config "
   ]
  },
  {
   "cell_type": "code",
   "execution_count": 7,
   "metadata": {},
   "outputs": [],
   "source": [
    "from detectron2.config import get_cfg"
   ]
  },
  {
   "cell_type": "code",
   "execution_count": 8,
   "metadata": {},
   "outputs": [
    {
     "data": {
      "text/plain": [
       "27480"
      ]
     },
     "execution_count": 8,
     "metadata": {},
     "output_type": "execute_result"
    }
   ],
   "source": [
    "epochs = 40\n",
    "bs = 1\n",
    "iterations = int(len(img_paths_train)/bs*epochs);iterations"
   ]
  },
  {
   "cell_type": "code",
   "execution_count": 9,
   "metadata": {},
   "outputs": [],
   "source": [
    "output_directory = Path('./output/2')"
   ]
  },
  {
   "cell_type": "code",
   "execution_count": 10,
   "metadata": {},
   "outputs": [
    {
     "data": {
      "text/plain": [
       "CfgNode({'HEAD_NAME': 'StandardRPNHead', 'IN_FEATURES': ['res4'], 'BOUNDARY_THRESH': -1, 'IOU_THRESHOLDS': [0.3, 0.7], 'IOU_LABELS': [0, -1, 1], 'BATCH_SIZE_PER_IMAGE': 256, 'POSITIVE_FRACTION': 0.5, 'BBOX_REG_WEIGHTS': (1.0, 1.0, 1.0, 1.0), 'SMOOTH_L1_BETA': 0.0, 'LOSS_WEIGHT': 1.0, 'PRE_NMS_TOPK_TRAIN': 12000, 'PRE_NMS_TOPK_TEST': 6000, 'POST_NMS_TOPK_TRAIN': 2000, 'POST_NMS_TOPK_TEST': 1000, 'NMS_THRESH': 0.7})"
      ]
     },
     "execution_count": 10,
     "metadata": {},
     "output_type": "execute_result"
    }
   ],
   "source": [
    "get_cfg().MODEL.RPN"
   ]
  },
  {
   "cell_type": "code",
   "execution_count": 11,
   "metadata": {},
   "outputs": [],
   "source": [
    "cfg = get_cfg()\n",
    "cfg.merge_from_file(model_zoo.get_config_file(\"COCO-InstanceSegmentation/mask_rcnn_R_50_FPN_3x.yaml\"))\n",
    "\n",
    "cfg.DATASETS.TRAIN = (f\"nuclei_train\",)\n",
    "cfg.DATASETS.TEST = ()\n",
    "\n",
    "cfg.DATALOADER.NUM_WORKERS = 20\n",
    "\n",
    "cfg.SOLVER.IMS_PER_BATCH = 1\n",
    "cfg.SOLVER.BASE_LR = 2.5e-3  \n",
    "cfg.SOLVER.MAX_ITER = iterations\n",
    "cfg.SOLVER.LR_SCHEDULER_NAME = 'WarmupCosineLR'\n",
    "cfg.SOLVER.WARMUP_ITERS = 0.3*iterations\n",
    "#cfg.SOLVER.LR_SCHEDULER_NAME = 'OneCycleLR'\n",
    "\n",
    "cfg.MODEL.WEIGHTS = model_zoo.get_checkpoint_url(\"COCO-InstanceSegmentation/mask_rcnn_R_50_FPN_3x.yaml\")  # Let training initialize from model zoo\n",
    "cfg.MODEL.ROI_HEADS.BATCH_SIZE_PER_IMAGE = 512   # (default: 512)\n",
    "cfg.MODEL.ROI_HEADS.NUM_CLASSES = 1  # only has one class (nucleus)\n",
    "cfg.MODEL.RPN.PRE_NMS_TOPK_TRAIN = 12000\n",
    "cfg.MODEL.RPN.POST_NMS_TOPK_TRAIN = 2000\n",
    "\n",
    "cfg['SEED'] = seed\n",
    "\n",
    "cfg.OUTPUT_DIR = str(output_directory)\n",
    "os.makedirs(cfg.OUTPUT_DIR, exist_ok=True)"
   ]
  },
  {
   "cell_type": "markdown",
   "metadata": {
    "heading_collapsed": true
   },
   "source": [
    "# train"
   ]
  },
  {
   "cell_type": "code",
   "execution_count": 19,
   "metadata": {
    "hidden": true
   },
   "outputs": [],
   "source": [
    "from detectron2.engine import DefaultTrainer"
   ]
  },
  {
   "cell_type": "code",
   "execution_count": 20,
   "metadata": {
    "hidden": true,
    "scrolled": true
   },
   "outputs": [
    {
     "name": "stdout",
     "output_type": "stream",
     "text": [
      "\u001b[32m[04/06 19:04:31 d2.engine.defaults]: \u001b[0mModel:\n",
      "GeneralizedRCNN(\n",
      "  (backbone): FPN(\n",
      "    (fpn_lateral2): Conv2d(256, 256, kernel_size=(1, 1), stride=(1, 1))\n",
      "    (fpn_output2): Conv2d(256, 256, kernel_size=(3, 3), stride=(1, 1), padding=(1, 1))\n",
      "    (fpn_lateral3): Conv2d(512, 256, kernel_size=(1, 1), stride=(1, 1))\n",
      "    (fpn_output3): Conv2d(256, 256, kernel_size=(3, 3), stride=(1, 1), padding=(1, 1))\n",
      "    (fpn_lateral4): Conv2d(1024, 256, kernel_size=(1, 1), stride=(1, 1))\n",
      "    (fpn_output4): Conv2d(256, 256, kernel_size=(3, 3), stride=(1, 1), padding=(1, 1))\n",
      "    (fpn_lateral5): Conv2d(2048, 256, kernel_size=(1, 1), stride=(1, 1))\n",
      "    (fpn_output5): Conv2d(256, 256, kernel_size=(3, 3), stride=(1, 1), padding=(1, 1))\n",
      "    (top_block): LastLevelMaxPool()\n",
      "    (bottom_up): ResNet(\n",
      "      (stem): BasicStem(\n",
      "        (conv1): Conv2d(\n",
      "          3, 64, kernel_size=(7, 7), stride=(2, 2), padding=(3, 3), bias=False\n",
      "          (norm): FrozenBatchNorm2d(num_features=64, eps=1e-05)\n",
      "        )\n",
      "      )\n",
      "      (res2): Sequential(\n",
      "        (0): BottleneckBlock(\n",
      "          (shortcut): Conv2d(\n",
      "            64, 256, kernel_size=(1, 1), stride=(1, 1), bias=False\n",
      "            (norm): FrozenBatchNorm2d(num_features=256, eps=1e-05)\n",
      "          )\n",
      "          (conv1): Conv2d(\n",
      "            64, 64, kernel_size=(1, 1), stride=(1, 1), bias=False\n",
      "            (norm): FrozenBatchNorm2d(num_features=64, eps=1e-05)\n",
      "          )\n",
      "          (conv2): Conv2d(\n",
      "            64, 64, kernel_size=(3, 3), stride=(1, 1), padding=(1, 1), bias=False\n",
      "            (norm): FrozenBatchNorm2d(num_features=64, eps=1e-05)\n",
      "          )\n",
      "          (conv3): Conv2d(\n",
      "            64, 256, kernel_size=(1, 1), stride=(1, 1), bias=False\n",
      "            (norm): FrozenBatchNorm2d(num_features=256, eps=1e-05)\n",
      "          )\n",
      "        )\n",
      "        (1): BottleneckBlock(\n",
      "          (conv1): Conv2d(\n",
      "            256, 64, kernel_size=(1, 1), stride=(1, 1), bias=False\n",
      "            (norm): FrozenBatchNorm2d(num_features=64, eps=1e-05)\n",
      "          )\n",
      "          (conv2): Conv2d(\n",
      "            64, 64, kernel_size=(3, 3), stride=(1, 1), padding=(1, 1), bias=False\n",
      "            (norm): FrozenBatchNorm2d(num_features=64, eps=1e-05)\n",
      "          )\n",
      "          (conv3): Conv2d(\n",
      "            64, 256, kernel_size=(1, 1), stride=(1, 1), bias=False\n",
      "            (norm): FrozenBatchNorm2d(num_features=256, eps=1e-05)\n",
      "          )\n",
      "        )\n",
      "        (2): BottleneckBlock(\n",
      "          (conv1): Conv2d(\n",
      "            256, 64, kernel_size=(1, 1), stride=(1, 1), bias=False\n",
      "            (norm): FrozenBatchNorm2d(num_features=64, eps=1e-05)\n",
      "          )\n",
      "          (conv2): Conv2d(\n",
      "            64, 64, kernel_size=(3, 3), stride=(1, 1), padding=(1, 1), bias=False\n",
      "            (norm): FrozenBatchNorm2d(num_features=64, eps=1e-05)\n",
      "          )\n",
      "          (conv3): Conv2d(\n",
      "            64, 256, kernel_size=(1, 1), stride=(1, 1), bias=False\n",
      "            (norm): FrozenBatchNorm2d(num_features=256, eps=1e-05)\n",
      "          )\n",
      "        )\n",
      "      )\n",
      "      (res3): Sequential(\n",
      "        (0): BottleneckBlock(\n",
      "          (shortcut): Conv2d(\n",
      "            256, 512, kernel_size=(1, 1), stride=(2, 2), bias=False\n",
      "            (norm): FrozenBatchNorm2d(num_features=512, eps=1e-05)\n",
      "          )\n",
      "          (conv1): Conv2d(\n",
      "            256, 128, kernel_size=(1, 1), stride=(2, 2), bias=False\n",
      "            (norm): FrozenBatchNorm2d(num_features=128, eps=1e-05)\n",
      "          )\n",
      "          (conv2): Conv2d(\n",
      "            128, 128, kernel_size=(3, 3), stride=(1, 1), padding=(1, 1), bias=False\n",
      "            (norm): FrozenBatchNorm2d(num_features=128, eps=1e-05)\n",
      "          )\n",
      "          (conv3): Conv2d(\n",
      "            128, 512, kernel_size=(1, 1), stride=(1, 1), bias=False\n",
      "            (norm): FrozenBatchNorm2d(num_features=512, eps=1e-05)\n",
      "          )\n",
      "        )\n",
      "        (1): BottleneckBlock(\n",
      "          (conv1): Conv2d(\n",
      "            512, 128, kernel_size=(1, 1), stride=(1, 1), bias=False\n",
      "            (norm): FrozenBatchNorm2d(num_features=128, eps=1e-05)\n",
      "          )\n",
      "          (conv2): Conv2d(\n",
      "            128, 128, kernel_size=(3, 3), stride=(1, 1), padding=(1, 1), bias=False\n",
      "            (norm): FrozenBatchNorm2d(num_features=128, eps=1e-05)\n",
      "          )\n",
      "          (conv3): Conv2d(\n",
      "            128, 512, kernel_size=(1, 1), stride=(1, 1), bias=False\n",
      "            (norm): FrozenBatchNorm2d(num_features=512, eps=1e-05)\n",
      "          )\n",
      "        )\n",
      "        (2): BottleneckBlock(\n",
      "          (conv1): Conv2d(\n",
      "            512, 128, kernel_size=(1, 1), stride=(1, 1), bias=False\n",
      "            (norm): FrozenBatchNorm2d(num_features=128, eps=1e-05)\n",
      "          )\n",
      "          (conv2): Conv2d(\n",
      "            128, 128, kernel_size=(3, 3), stride=(1, 1), padding=(1, 1), bias=False\n",
      "            (norm): FrozenBatchNorm2d(num_features=128, eps=1e-05)\n",
      "          )\n",
      "          (conv3): Conv2d(\n",
      "            128, 512, kernel_size=(1, 1), stride=(1, 1), bias=False\n",
      "            (norm): FrozenBatchNorm2d(num_features=512, eps=1e-05)\n",
      "          )\n",
      "        )\n",
      "        (3): BottleneckBlock(\n",
      "          (conv1): Conv2d(\n",
      "            512, 128, kernel_size=(1, 1), stride=(1, 1), bias=False\n",
      "            (norm): FrozenBatchNorm2d(num_features=128, eps=1e-05)\n",
      "          )\n",
      "          (conv2): Conv2d(\n",
      "            128, 128, kernel_size=(3, 3), stride=(1, 1), padding=(1, 1), bias=False\n",
      "            (norm): FrozenBatchNorm2d(num_features=128, eps=1e-05)\n",
      "          )\n",
      "          (conv3): Conv2d(\n",
      "            128, 512, kernel_size=(1, 1), stride=(1, 1), bias=False\n",
      "            (norm): FrozenBatchNorm2d(num_features=512, eps=1e-05)\n",
      "          )\n",
      "        )\n",
      "      )\n",
      "      (res4): Sequential(\n",
      "        (0): BottleneckBlock(\n",
      "          (shortcut): Conv2d(\n",
      "            512, 1024, kernel_size=(1, 1), stride=(2, 2), bias=False\n",
      "            (norm): FrozenBatchNorm2d(num_features=1024, eps=1e-05)\n",
      "          )\n",
      "          (conv1): Conv2d(\n",
      "            512, 256, kernel_size=(1, 1), stride=(2, 2), bias=False\n",
      "            (norm): FrozenBatchNorm2d(num_features=256, eps=1e-05)\n",
      "          )\n",
      "          (conv2): Conv2d(\n",
      "            256, 256, kernel_size=(3, 3), stride=(1, 1), padding=(1, 1), bias=False\n",
      "            (norm): FrozenBatchNorm2d(num_features=256, eps=1e-05)\n",
      "          )\n",
      "          (conv3): Conv2d(\n",
      "            256, 1024, kernel_size=(1, 1), stride=(1, 1), bias=False\n",
      "            (norm): FrozenBatchNorm2d(num_features=1024, eps=1e-05)\n",
      "          )\n",
      "        )\n",
      "        (1): BottleneckBlock(\n",
      "          (conv1): Conv2d(\n",
      "            1024, 256, kernel_size=(1, 1), stride=(1, 1), bias=False\n",
      "            (norm): FrozenBatchNorm2d(num_features=256, eps=1e-05)\n",
      "          )\n",
      "          (conv2): Conv2d(\n",
      "            256, 256, kernel_size=(3, 3), stride=(1, 1), padding=(1, 1), bias=False\n",
      "            (norm): FrozenBatchNorm2d(num_features=256, eps=1e-05)\n",
      "          )\n",
      "          (conv3): Conv2d(\n",
      "            256, 1024, kernel_size=(1, 1), stride=(1, 1), bias=False\n",
      "            (norm): FrozenBatchNorm2d(num_features=1024, eps=1e-05)\n",
      "          )\n",
      "        )\n",
      "        (2): BottleneckBlock(\n",
      "          (conv1): Conv2d(\n",
      "            1024, 256, kernel_size=(1, 1), stride=(1, 1), bias=False\n",
      "            (norm): FrozenBatchNorm2d(num_features=256, eps=1e-05)\n",
      "          )\n",
      "          (conv2): Conv2d(\n",
      "            256, 256, kernel_size=(3, 3), stride=(1, 1), padding=(1, 1), bias=False\n",
      "            (norm): FrozenBatchNorm2d(num_features=256, eps=1e-05)\n",
      "          )\n",
      "          (conv3): Conv2d(\n",
      "            256, 1024, kernel_size=(1, 1), stride=(1, 1), bias=False\n",
      "            (norm): FrozenBatchNorm2d(num_features=1024, eps=1e-05)\n",
      "          )\n",
      "        )\n",
      "        (3): BottleneckBlock(\n",
      "          (conv1): Conv2d(\n",
      "            1024, 256, kernel_size=(1, 1), stride=(1, 1), bias=False\n",
      "            (norm): FrozenBatchNorm2d(num_features=256, eps=1e-05)\n",
      "          )\n",
      "          (conv2): Conv2d(\n",
      "            256, 256, kernel_size=(3, 3), stride=(1, 1), padding=(1, 1), bias=False\n",
      "            (norm): FrozenBatchNorm2d(num_features=256, eps=1e-05)\n",
      "          )\n",
      "          (conv3): Conv2d(\n",
      "            256, 1024, kernel_size=(1, 1), stride=(1, 1), bias=False\n",
      "            (norm): FrozenBatchNorm2d(num_features=1024, eps=1e-05)\n",
      "          )\n",
      "        )\n",
      "        (4): BottleneckBlock(\n",
      "          (conv1): Conv2d(\n",
      "            1024, 256, kernel_size=(1, 1), stride=(1, 1), bias=False\n",
      "            (norm): FrozenBatchNorm2d(num_features=256, eps=1e-05)\n",
      "          )\n",
      "          (conv2): Conv2d(\n",
      "            256, 256, kernel_size=(3, 3), stride=(1, 1), padding=(1, 1), bias=False\n",
      "            (norm): FrozenBatchNorm2d(num_features=256, eps=1e-05)\n",
      "          )\n",
      "          (conv3): Conv2d(\n",
      "            256, 1024, kernel_size=(1, 1), stride=(1, 1), bias=False\n",
      "            (norm): FrozenBatchNorm2d(num_features=1024, eps=1e-05)\n",
      "          )\n",
      "        )\n",
      "        (5): BottleneckBlock(\n",
      "          (conv1): Conv2d(\n",
      "            1024, 256, kernel_size=(1, 1), stride=(1, 1), bias=False\n",
      "            (norm): FrozenBatchNorm2d(num_features=256, eps=1e-05)\n",
      "          )\n",
      "          (conv2): Conv2d(\n",
      "            256, 256, kernel_size=(3, 3), stride=(1, 1), padding=(1, 1), bias=False\n",
      "            (norm): FrozenBatchNorm2d(num_features=256, eps=1e-05)\n",
      "          )\n",
      "          (conv3): Conv2d(\n",
      "            256, 1024, kernel_size=(1, 1), stride=(1, 1), bias=False\n",
      "            (norm): FrozenBatchNorm2d(num_features=1024, eps=1e-05)\n",
      "          )\n",
      "        )\n",
      "      )\n",
      "      (res5): Sequential(\n",
      "        (0): BottleneckBlock(\n",
      "          (shortcut): Conv2d(\n",
      "            1024, 2048, kernel_size=(1, 1), stride=(2, 2), bias=False\n",
      "            (norm): FrozenBatchNorm2d(num_features=2048, eps=1e-05)\n",
      "          )\n",
      "          (conv1): Conv2d(\n",
      "            1024, 512, kernel_size=(1, 1), stride=(2, 2), bias=False\n",
      "            (norm): FrozenBatchNorm2d(num_features=512, eps=1e-05)\n",
      "          )\n",
      "          (conv2): Conv2d(\n",
      "            512, 512, kernel_size=(3, 3), stride=(1, 1), padding=(1, 1), bias=False\n",
      "            (norm): FrozenBatchNorm2d(num_features=512, eps=1e-05)\n",
      "          )\n",
      "          (conv3): Conv2d(\n",
      "            512, 2048, kernel_size=(1, 1), stride=(1, 1), bias=False\n",
      "            (norm): FrozenBatchNorm2d(num_features=2048, eps=1e-05)\n",
      "          )\n",
      "        )\n",
      "        (1): BottleneckBlock(\n",
      "          (conv1): Conv2d(\n",
      "            2048, 512, kernel_size=(1, 1), stride=(1, 1), bias=False\n",
      "            (norm): FrozenBatchNorm2d(num_features=512, eps=1e-05)\n",
      "          )\n",
      "          (conv2): Conv2d(\n",
      "            512, 512, kernel_size=(3, 3), stride=(1, 1), padding=(1, 1), bias=False\n",
      "            (norm): FrozenBatchNorm2d(num_features=512, eps=1e-05)\n",
      "          )\n",
      "          (conv3): Conv2d(\n",
      "            512, 2048, kernel_size=(1, 1), stride=(1, 1), bias=False\n",
      "            (norm): FrozenBatchNorm2d(num_features=2048, eps=1e-05)\n",
      "          )\n",
      "        )\n",
      "        (2): BottleneckBlock(\n",
      "          (conv1): Conv2d(\n",
      "            2048, 512, kernel_size=(1, 1), stride=(1, 1), bias=False\n",
      "            (norm): FrozenBatchNorm2d(num_features=512, eps=1e-05)\n",
      "          )\n",
      "          (conv2): Conv2d(\n",
      "            512, 512, kernel_size=(3, 3), stride=(1, 1), padding=(1, 1), bias=False\n",
      "            (norm): FrozenBatchNorm2d(num_features=512, eps=1e-05)\n",
      "          )\n",
      "          (conv3): Conv2d(\n",
      "            512, 2048, kernel_size=(1, 1), stride=(1, 1), bias=False\n",
      "            (norm): FrozenBatchNorm2d(num_features=2048, eps=1e-05)\n",
      "          )\n",
      "        )\n",
      "      )\n",
      "    )\n",
      "  )\n",
      "  (proposal_generator): RPN(\n",
      "    (anchor_generator): DefaultAnchorGenerator(\n",
      "      (cell_anchors): BufferList()\n",
      "    )\n",
      "    (rpn_head): StandardRPNHead(\n",
      "      (conv): Conv2d(256, 256, kernel_size=(3, 3), stride=(1, 1), padding=(1, 1))\n",
      "      (objectness_logits): Conv2d(256, 3, kernel_size=(1, 1), stride=(1, 1))\n",
      "      (anchor_deltas): Conv2d(256, 12, kernel_size=(1, 1), stride=(1, 1))\n",
      "    )\n",
      "  )\n",
      "  (roi_heads): StandardROIHeads(\n",
      "    (box_pooler): ROIPooler(\n",
      "      (level_poolers): ModuleList(\n",
      "        (0): ROIAlign(output_size=(7, 7), spatial_scale=0.25, sampling_ratio=0, aligned=True)\n",
      "        (1): ROIAlign(output_size=(7, 7), spatial_scale=0.125, sampling_ratio=0, aligned=True)\n",
      "        (2): ROIAlign(output_size=(7, 7), spatial_scale=0.0625, sampling_ratio=0, aligned=True)\n",
      "        (3): ROIAlign(output_size=(7, 7), spatial_scale=0.03125, sampling_ratio=0, aligned=True)\n",
      "      )\n",
      "    )\n",
      "    (box_head): FastRCNNConvFCHead(\n",
      "      (fc1): Linear(in_features=12544, out_features=1024, bias=True)\n",
      "      (fc2): Linear(in_features=1024, out_features=1024, bias=True)\n",
      "    )\n",
      "    (box_predictor): FastRCNNOutputLayers(\n",
      "      (cls_score): Linear(in_features=1024, out_features=2, bias=True)\n",
      "      (bbox_pred): Linear(in_features=1024, out_features=4, bias=True)\n",
      "    )\n",
      "    (mask_pooler): ROIPooler(\n",
      "      (level_poolers): ModuleList(\n",
      "        (0): ROIAlign(output_size=(14, 14), spatial_scale=0.25, sampling_ratio=0, aligned=True)\n",
      "        (1): ROIAlign(output_size=(14, 14), spatial_scale=0.125, sampling_ratio=0, aligned=True)\n",
      "        (2): ROIAlign(output_size=(14, 14), spatial_scale=0.0625, sampling_ratio=0, aligned=True)\n",
      "        (3): ROIAlign(output_size=(14, 14), spatial_scale=0.03125, sampling_ratio=0, aligned=True)\n",
      "      )\n",
      "    )\n",
      "    (mask_head): MaskRCNNConvUpsampleHead(\n",
      "      (mask_fcn1): Conv2d(256, 256, kernel_size=(3, 3), stride=(1, 1), padding=(1, 1))\n",
      "      (mask_fcn2): Conv2d(256, 256, kernel_size=(3, 3), stride=(1, 1), padding=(1, 1))\n",
      "      (mask_fcn3): Conv2d(256, 256, kernel_size=(3, 3), stride=(1, 1), padding=(1, 1))\n",
      "      (mask_fcn4): Conv2d(256, 256, kernel_size=(3, 3), stride=(1, 1), padding=(1, 1))\n",
      "      (deconv): ConvTranspose2d(256, 256, kernel_size=(2, 2), stride=(2, 2))\n",
      "      (predictor): Conv2d(256, 1, kernel_size=(1, 1), stride=(1, 1))\n",
      "    )\n",
      "  )\n",
      ")\n"
     ]
    },
    {
     "data": {
      "application/vnd.jupyter.widget-view+json": {
       "model_id": "050d29034f294403a4606491d1f7575b",
       "version_major": 2,
       "version_minor": 0
      },
      "text/plain": [
       "HBox(children=(IntProgress(value=0, max=687), HTML(value='')))"
      ]
     },
     "metadata": {},
     "output_type": "display_data"
    },
    {
     "name": "stdout",
     "output_type": "stream",
     "text": [
      "\n",
      "\u001b[32m[04/06 19:11:29 d2.data.build]: \u001b[0mRemoved 0 images with no usable annotations. 687 images left.\n",
      "\u001b[32m[04/06 19:11:29 d2.data.build]: \u001b[0mDistribution of instances among all 1 categories:\n",
      "\u001b[36m|  category  | #instances   |\n",
      "|:----------:|:-------------|\n",
      "|  nucleus   | 45672        |\n",
      "|            |              |\u001b[0m\n",
      "\u001b[32m[04/06 19:11:29 d2.data.common]: \u001b[0mSerializing 687 elements to byte tensors and concatenating them all ...\n",
      "\u001b[32m[04/06 19:11:30 d2.data.common]: \u001b[0mSerialized dataset takes 28.30 MiB\n",
      "\u001b[32m[04/06 19:11:30 d2.data.detection_utils]: \u001b[0mTransformGens used in training: [ResizeShortestEdge(short_edge_length=(640, 672, 704, 736, 768, 800), max_size=1333, sample_style='choice'), RandomFlip()]\n",
      "\u001b[32m[04/06 19:11:30 d2.data.build]: \u001b[0mUsing training sampler TrainingSampler\n"
     ]
    }
   ],
   "source": [
    "trainer = DefaultTrainer(cfg) "
   ]
  },
  {
   "cell_type": "code",
   "execution_count": 21,
   "metadata": {
    "hidden": true
   },
   "outputs": [
    {
     "name": "stderr",
     "output_type": "stream",
     "text": [
      "'roi_heads.box_predictor.cls_score.weight' has shape (81, 1024) in the checkpoint but (2, 1024) in the model! Skipped.\n",
      "'roi_heads.box_predictor.cls_score.bias' has shape (81,) in the checkpoint but (2,) in the model! Skipped.\n",
      "'roi_heads.box_predictor.bbox_pred.weight' has shape (320, 1024) in the checkpoint but (4, 1024) in the model! Skipped.\n",
      "'roi_heads.box_predictor.bbox_pred.bias' has shape (320,) in the checkpoint but (4,) in the model! Skipped.\n",
      "'roi_heads.mask_head.predictor.weight' has shape (80, 256, 1, 1) in the checkpoint but (1, 256, 1, 1) in the model! Skipped.\n",
      "'roi_heads.mask_head.predictor.bias' has shape (80,) in the checkpoint but (1,) in the model! Skipped.\n"
     ]
    }
   ],
   "source": [
    "#trainer.resume_or_load(resume=False)\n",
    "trainer.resume_or_load(resume=True)"
   ]
  },
  {
   "cell_type": "code",
   "execution_count": 22,
   "metadata": {
    "hidden": true
   },
   "outputs": [
    {
     "name": "stdout",
     "output_type": "stream",
     "text": [
      "\u001b[32m[04/06 19:11:35 d2.engine.train_loop]: \u001b[0mStarting training from iteration 0\n",
      "\u001b[32m[04/06 19:11:44 d2.utils.events]: \u001b[0m eta: 2:46:23  iter: 19  total_loss: 4.078  loss_cls: 0.711  loss_box_reg: 0.771  loss_mask: 0.695  loss_rpn_cls: 1.810  loss_rpn_loc: 0.179  time: 0.3682  data_time: 0.0685  lr: 0.000008  max_mem: 1710M\n",
      "\u001b[32m[04/06 19:11:51 d2.utils.events]: \u001b[0m eta: 2:50:41  iter: 39  total_loss: 3.779  loss_cls: 0.649  loss_box_reg: 0.848  loss_mask: 0.680  loss_rpn_cls: 1.320  loss_rpn_loc: 0.211  time: 0.3707  data_time: 0.0002  lr: 0.000014  max_mem: 1710M\n",
      "\u001b[32m[04/06 19:11:59 d2.utils.events]: \u001b[0m eta: 2:48:47  iter: 59  total_loss: 2.686  loss_cls: 0.579  loss_box_reg: 0.872  loss_mask: 0.650  loss_rpn_cls: 0.462  loss_rpn_loc: 0.151  time: 0.3726  data_time: 0.0003  lr: 0.000020  max_mem: 2256M\n",
      "\u001b[32m[04/06 19:12:07 d2.utils.events]: \u001b[0m eta: 2:48:40  iter: 79  total_loss: 2.307  loss_cls: 0.536  loss_box_reg: 0.871  loss_mask: 0.616  loss_rpn_cls: 0.173  loss_rpn_loc: 0.146  time: 0.3727  data_time: 0.0002  lr: 0.000026  max_mem: 2256M\n",
      "\u001b[32m[04/06 19:12:14 d2.utils.events]: \u001b[0m eta: 2:50:27  iter: 99  total_loss: 2.212  loss_cls: 0.512  loss_box_reg: 0.837  loss_mask: 0.579  loss_rpn_cls: 0.140  loss_rpn_loc: 0.160  time: 0.3743  data_time: 0.0002  lr: 0.000032  max_mem: 2256M\n",
      "\u001b[32m[04/06 19:12:22 d2.utils.events]: \u001b[0m eta: 2:51:47  iter: 119  total_loss: 2.015  loss_cls: 0.473  loss_box_reg: 0.804  loss_mask: 0.540  loss_rpn_cls: 0.069  loss_rpn_loc: 0.135  time: 0.3763  data_time: 0.0003  lr: 0.000039  max_mem: 2256M\n",
      "\u001b[32m[04/06 19:12:29 d2.utils.events]: \u001b[0m eta: 2:50:45  iter: 139  total_loss: 2.031  loss_cls: 0.433  loss_box_reg: 0.808  loss_mask: 0.505  loss_rpn_cls: 0.111  loss_rpn_loc: 0.138  time: 0.3747  data_time: 0.0003  lr: 0.000045  max_mem: 2256M\n",
      "\u001b[32m[04/06 19:12:37 d2.utils.events]: \u001b[0m eta: 2:51:10  iter: 159  total_loss: 2.038  loss_cls: 0.426  loss_box_reg: 0.746  loss_mask: 0.468  loss_rpn_cls: 0.111  loss_rpn_loc: 0.196  time: 0.3755  data_time: 0.0003  lr: 0.000051  max_mem: 2321M\n",
      "\u001b[32m[04/06 19:12:45 d2.utils.events]: \u001b[0m eta: 2:51:03  iter: 179  total_loss: 1.967  loss_cls: 0.383  loss_box_reg: 0.746  loss_mask: 0.501  loss_rpn_cls: 0.115  loss_rpn_loc: 0.170  time: 0.3765  data_time: 0.0003  lr: 0.000057  max_mem: 3345M\n",
      "\u001b[32m[04/06 19:12:52 d2.utils.events]: \u001b[0m eta: 2:51:04  iter: 199  total_loss: 1.636  loss_cls: 0.334  loss_box_reg: 0.749  loss_mask: 0.398  loss_rpn_cls: 0.042  loss_rpn_loc: 0.105  time: 0.3773  data_time: 0.0002  lr: 0.000063  max_mem: 3345M\n",
      "\u001b[32m[04/06 19:13:00 d2.utils.events]: \u001b[0m eta: 2:50:44  iter: 219  total_loss: 1.740  loss_cls: 0.337  loss_box_reg: 0.731  loss_mask: 0.402  loss_rpn_cls: 0.053  loss_rpn_loc: 0.128  time: 0.3764  data_time: 0.0002  lr: 0.000069  max_mem: 3345M\n",
      "\u001b[32m[04/06 19:13:07 d2.utils.events]: \u001b[0m eta: 2:50:47  iter: 239  total_loss: 1.645  loss_cls: 0.300  loss_box_reg: 0.661  loss_mask: 0.368  loss_rpn_cls: 0.075  loss_rpn_loc: 0.145  time: 0.3774  data_time: 0.0003  lr: 0.000075  max_mem: 3345M\n",
      "\u001b[32m[04/06 19:13:15 d2.utils.events]: \u001b[0m eta: 2:50:42  iter: 259  total_loss: 1.386  loss_cls: 0.255  loss_box_reg: 0.631  loss_mask: 0.358  loss_rpn_cls: 0.058  loss_rpn_loc: 0.118  time: 0.3779  data_time: 0.0003  lr: 0.000081  max_mem: 3345M\n",
      "\u001b[32m[04/06 19:13:23 d2.utils.events]: \u001b[0m eta: 2:50:36  iter: 279  total_loss: 1.332  loss_cls: 0.235  loss_box_reg: 0.598  loss_mask: 0.345  loss_rpn_cls: 0.098  loss_rpn_loc: 0.128  time: 0.3784  data_time: 0.0003  lr: 0.000087  max_mem: 3345M\n",
      "\u001b[32m[04/06 19:13:30 d2.utils.events]: \u001b[0m eta: 2:50:25  iter: 299  total_loss: 1.296  loss_cls: 0.211  loss_box_reg: 0.513  loss_mask: 0.308  loss_rpn_cls: 0.047  loss_rpn_loc: 0.105  time: 0.3781  data_time: 0.0002  lr: 0.000093  max_mem: 3345M\n",
      "\u001b[32m[04/06 19:13:38 d2.utils.events]: \u001b[0m eta: 2:50:15  iter: 319  total_loss: 1.250  loss_cls: 0.230  loss_box_reg: 0.445  loss_mask: 0.255  loss_rpn_cls: 0.066  loss_rpn_loc: 0.093  time: 0.3782  data_time: 0.0002  lr: 0.000099  max_mem: 3345M\n",
      "\u001b[32m[04/06 19:13:45 d2.utils.events]: \u001b[0m eta: 2:50:03  iter: 339  total_loss: 1.149  loss_cls: 0.198  loss_box_reg: 0.397  loss_mask: 0.248  loss_rpn_cls: 0.059  loss_rpn_loc: 0.166  time: 0.3782  data_time: 0.0003  lr: 0.000105  max_mem: 3345M\n",
      "\u001b[32m[04/06 19:13:53 d2.utils.events]: \u001b[0m eta: 2:50:01  iter: 359  total_loss: 1.139  loss_cls: 0.209  loss_box_reg: 0.411  loss_mask: 0.280  loss_rpn_cls: 0.066  loss_rpn_loc: 0.158  time: 0.3781  data_time: 0.0002  lr: 0.000111  max_mem: 3345M\n",
      "\u001b[32m[04/06 19:14:01 d2.utils.events]: \u001b[0m eta: 2:49:55  iter: 379  total_loss: 0.888  loss_cls: 0.199  loss_box_reg: 0.349  loss_mask: 0.277  loss_rpn_cls: 0.031  loss_rpn_loc: 0.075  time: 0.3783  data_time: 0.0003  lr: 0.000117  max_mem: 3345M\n",
      "\u001b[32m[04/06 19:14:08 d2.utils.events]: \u001b[0m eta: 2:49:44  iter: 399  total_loss: 1.090  loss_cls: 0.187  loss_box_reg: 0.392  loss_mask: 0.259  loss_rpn_cls: 0.050  loss_rpn_loc: 0.121  time: 0.3778  data_time: 0.0003  lr: 0.000123  max_mem: 3345M\n",
      "\u001b[32m[04/06 19:14:16 d2.utils.events]: \u001b[0m eta: 2:49:36  iter: 419  total_loss: 1.294  loss_cls: 0.244  loss_box_reg: 0.454  loss_mask: 0.285  loss_rpn_cls: 0.089  loss_rpn_loc: 0.188  time: 0.3780  data_time: 0.0003  lr: 0.000129  max_mem: 3345M\n",
      "\u001b[32m[04/06 19:14:23 d2.utils.events]: \u001b[0m eta: 2:49:20  iter: 439  total_loss: 1.161  loss_cls: 0.192  loss_box_reg: 0.385  loss_mask: 0.319  loss_rpn_cls: 0.087  loss_rpn_loc: 0.133  time: 0.3778  data_time: 0.0002  lr: 0.000135  max_mem: 3345M\n",
      "\u001b[32m[04/06 19:14:31 d2.utils.events]: \u001b[0m eta: 2:49:10  iter: 459  total_loss: 1.003  loss_cls: 0.173  loss_box_reg: 0.329  loss_mask: 0.274  loss_rpn_cls: 0.052  loss_rpn_loc: 0.081  time: 0.3777  data_time: 0.0002  lr: 0.000141  max_mem: 3345M\n",
      "\u001b[32m[04/06 19:14:38 d2.utils.events]: \u001b[0m eta: 2:49:04  iter: 479  total_loss: 1.323  loss_cls: 0.225  loss_box_reg: 0.459  loss_mask: 0.309  loss_rpn_cls: 0.114  loss_rpn_loc: 0.170  time: 0.3778  data_time: 0.0003  lr: 0.000148  max_mem: 3345M\n",
      "\u001b[32m[04/06 19:14:46 d2.utils.events]: \u001b[0m eta: 2:48:57  iter: 499  total_loss: 1.143  loss_cls: 0.202  loss_box_reg: 0.429  loss_mask: 0.296  loss_rpn_cls: 0.044  loss_rpn_loc: 0.138  time: 0.3777  data_time: 0.0002  lr: 0.000154  max_mem: 3345M\n",
      "\u001b[32m[04/06 19:14:54 d2.utils.events]: \u001b[0m eta: 2:48:49  iter: 519  total_loss: 0.971  loss_cls: 0.180  loss_box_reg: 0.359  loss_mask: 0.254  loss_rpn_cls: 0.028  loss_rpn_loc: 0.113  time: 0.3779  data_time: 0.0002  lr: 0.000160  max_mem: 3345M\n",
      "\u001b[32m[04/06 19:15:01 d2.utils.events]: \u001b[0m eta: 2:48:43  iter: 539  total_loss: 1.068  loss_cls: 0.240  loss_box_reg: 0.382  loss_mask: 0.287  loss_rpn_cls: 0.063  loss_rpn_loc: 0.150  time: 0.3781  data_time: 0.0003  lr: 0.000166  max_mem: 5191M\n",
      "\u001b[32m[04/06 19:15:09 d2.utils.events]: \u001b[0m eta: 2:48:32  iter: 559  total_loss: 0.959  loss_cls: 0.166  loss_box_reg: 0.310  loss_mask: 0.259  loss_rpn_cls: 0.046  loss_rpn_loc: 0.102  time: 0.3780  data_time: 0.0002  lr: 0.000172  max_mem: 5191M\n",
      "\u001b[32m[04/06 19:15:16 d2.utils.events]: \u001b[0m eta: 2:48:28  iter: 579  total_loss: 1.065  loss_cls: 0.204  loss_box_reg: 0.366  loss_mask: 0.278  loss_rpn_cls: 0.046  loss_rpn_loc: 0.127  time: 0.3783  data_time: 0.0003  lr: 0.000178  max_mem: 5272M\n",
      "\u001b[32m[04/06 19:15:24 d2.utils.events]: \u001b[0m eta: 2:48:19  iter: 599  total_loss: 1.197  loss_cls: 0.261  loss_box_reg: 0.394  loss_mask: 0.322  loss_rpn_cls: 0.078  loss_rpn_loc: 0.165  time: 0.3782  data_time: 0.0003  lr: 0.000184  max_mem: 5272M\n",
      "\u001b[32m[04/06 19:15:32 d2.utils.events]: \u001b[0m eta: 2:48:00  iter: 619  total_loss: 0.817  loss_cls: 0.162  loss_box_reg: 0.268  loss_mask: 0.247  loss_rpn_cls: 0.025  loss_rpn_loc: 0.093  time: 0.3784  data_time: 0.0003  lr: 0.000190  max_mem: 5840M\n",
      "\u001b[32m[04/06 19:15:39 d2.utils.events]: \u001b[0m eta: 2:47:46  iter: 639  total_loss: 1.158  loss_cls: 0.225  loss_box_reg: 0.384  loss_mask: 0.301  loss_rpn_cls: 0.062  loss_rpn_loc: 0.133  time: 0.3783  data_time: 0.0003  lr: 0.000196  max_mem: 5840M\n",
      "\u001b[32m[04/06 19:15:47 d2.utils.events]: \u001b[0m eta: 2:47:35  iter: 659  total_loss: 1.213  loss_cls: 0.229  loss_box_reg: 0.456  loss_mask: 0.293  loss_rpn_cls: 0.061  loss_rpn_loc: 0.137  time: 0.3787  data_time: 0.0003  lr: 0.000202  max_mem: 6099M\n"
     ]
    },
    {
     "name": "stdout",
     "output_type": "stream",
     "text": [
      "\u001b[32m[04/06 19:15:55 d2.utils.events]: \u001b[0m eta: 2:47:29  iter: 679  total_loss: 1.085  loss_cls: 0.197  loss_box_reg: 0.359  loss_mask: 0.246  loss_rpn_cls: 0.061  loss_rpn_loc: 0.152  time: 0.3791  data_time: 0.0003  lr: 0.000208  max_mem: 6099M\n",
      "\u001b[32m[04/06 19:16:03 d2.utils.events]: \u001b[0m eta: 2:47:30  iter: 699  total_loss: 0.686  loss_cls: 0.136  loss_box_reg: 0.247  loss_mask: 0.216  loss_rpn_cls: 0.025  loss_rpn_loc: 0.087  time: 0.3798  data_time: 0.0003  lr: 0.000214  max_mem: 6099M\n",
      "\u001b[32m[04/06 19:16:11 d2.utils.events]: \u001b[0m eta: 2:47:28  iter: 719  total_loss: 1.181  loss_cls: 0.184  loss_box_reg: 0.366  loss_mask: 0.276  loss_rpn_cls: 0.054  loss_rpn_loc: 0.164  time: 0.3797  data_time: 0.0003  lr: 0.000220  max_mem: 6099M\n",
      "\u001b[32m[04/06 19:16:18 d2.utils.events]: \u001b[0m eta: 2:47:07  iter: 739  total_loss: 0.899  loss_cls: 0.178  loss_box_reg: 0.274  loss_mask: 0.223  loss_rpn_cls: 0.060  loss_rpn_loc: 0.102  time: 0.3794  data_time: 0.0003  lr: 0.000226  max_mem: 6099M\n",
      "\u001b[32m[04/06 19:16:25 d2.utils.events]: \u001b[0m eta: 2:46:54  iter: 759  total_loss: 0.736  loss_cls: 0.125  loss_box_reg: 0.268  loss_mask: 0.223  loss_rpn_cls: 0.021  loss_rpn_loc: 0.088  time: 0.3792  data_time: 0.0003  lr: 0.000232  max_mem: 6099M\n",
      "\u001b[32m[04/06 19:16:33 d2.utils.events]: \u001b[0m eta: 2:46:44  iter: 779  total_loss: 1.264  loss_cls: 0.201  loss_box_reg: 0.399  loss_mask: 0.308  loss_rpn_cls: 0.045  loss_rpn_loc: 0.139  time: 0.3791  data_time: 0.0003  lr: 0.000238  max_mem: 6099M\n",
      "\u001b[32m[04/06 19:16:41 d2.utils.events]: \u001b[0m eta: 2:46:39  iter: 799  total_loss: 1.083  loss_cls: 0.172  loss_box_reg: 0.368  loss_mask: 0.278  loss_rpn_cls: 0.044  loss_rpn_loc: 0.149  time: 0.3791  data_time: 0.0003  lr: 0.000244  max_mem: 6099M\n",
      "\u001b[32m[04/06 19:16:48 d2.utils.events]: \u001b[0m eta: 2:46:32  iter: 819  total_loss: 0.999  loss_cls: 0.175  loss_box_reg: 0.360  loss_mask: 0.266  loss_rpn_cls: 0.041  loss_rpn_loc: 0.116  time: 0.3790  data_time: 0.0002  lr: 0.000250  max_mem: 6099M\n",
      "\u001b[32m[04/06 19:16:56 d2.utils.events]: \u001b[0m eta: 2:46:24  iter: 839  total_loss: 0.940  loss_cls: 0.150  loss_box_reg: 0.356  loss_mask: 0.232  loss_rpn_cls: 0.049  loss_rpn_loc: 0.142  time: 0.3790  data_time: 0.0002  lr: 0.000256  max_mem: 6099M\n",
      "\u001b[32m[04/06 19:17:03 d2.utils.events]: \u001b[0m eta: 2:46:04  iter: 859  total_loss: 0.802  loss_cls: 0.142  loss_box_reg: 0.272  loss_mask: 0.242  loss_rpn_cls: 0.021  loss_rpn_loc: 0.092  time: 0.3787  data_time: 0.0002  lr: 0.000262  max_mem: 6099M\n",
      "\u001b[32m[04/06 19:17:11 d2.utils.events]: \u001b[0m eta: 2:45:55  iter: 879  total_loss: 0.933  loss_cls: 0.170  loss_box_reg: 0.355  loss_mask: 0.254  loss_rpn_cls: 0.031  loss_rpn_loc: 0.106  time: 0.3788  data_time: 0.0003  lr: 0.000268  max_mem: 6099M\n",
      "\u001b[32m[04/06 19:17:19 d2.utils.events]: \u001b[0m eta: 2:45:53  iter: 899  total_loss: 1.189  loss_cls: 0.192  loss_box_reg: 0.350  loss_mask: 0.277  loss_rpn_cls: 0.050  loss_rpn_loc: 0.142  time: 0.3795  data_time: 0.0003  lr: 0.000274  max_mem: 7255M\n",
      "\u001b[32m[04/06 19:17:26 d2.utils.events]: \u001b[0m eta: 2:45:40  iter: 919  total_loss: 0.873  loss_cls: 0.151  loss_box_reg: 0.300  loss_mask: 0.270  loss_rpn_cls: 0.022  loss_rpn_loc: 0.083  time: 0.3794  data_time: 0.0002  lr: 0.000280  max_mem: 7255M\n",
      "\u001b[32m[04/06 19:17:34 d2.utils.events]: \u001b[0m eta: 2:45:29  iter: 939  total_loss: 0.612  loss_cls: 0.112  loss_box_reg: 0.224  loss_mask: 0.188  loss_rpn_cls: 0.017  loss_rpn_loc: 0.064  time: 0.3792  data_time: 0.0003  lr: 0.000286  max_mem: 7255M\n",
      "\u001b[32m[04/06 19:17:41 d2.utils.events]: \u001b[0m eta: 2:45:14  iter: 959  total_loss: 0.953  loss_cls: 0.177  loss_box_reg: 0.350  loss_mask: 0.234  loss_rpn_cls: 0.015  loss_rpn_loc: 0.089  time: 0.3788  data_time: 0.0002  lr: 0.000292  max_mem: 7255M\n",
      "\u001b[32m[04/06 19:17:49 d2.utils.events]: \u001b[0m eta: 2:45:07  iter: 979  total_loss: 1.143  loss_cls: 0.216  loss_box_reg: 0.414  loss_mask: 0.259  loss_rpn_cls: 0.047  loss_rpn_loc: 0.128  time: 0.3789  data_time: 0.0003  lr: 0.000298  max_mem: 7255M\n",
      "\u001b[32m[04/06 19:17:56 d2.utils.events]: \u001b[0m eta: 2:45:00  iter: 999  total_loss: 1.105  loss_cls: 0.217  loss_box_reg: 0.422  loss_mask: 0.296  loss_rpn_cls: 0.058  loss_rpn_loc: 0.142  time: 0.3789  data_time: 0.0003  lr: 0.000304  max_mem: 7255M\n",
      "\u001b[32m[04/06 19:18:04 d2.utils.events]: \u001b[0m eta: 2:44:52  iter: 1019  total_loss: 1.019  loss_cls: 0.181  loss_box_reg: 0.322  loss_mask: 0.251  loss_rpn_cls: 0.031  loss_rpn_loc: 0.086  time: 0.3787  data_time: 0.0003  lr: 0.000310  max_mem: 7255M\n",
      "\u001b[32m[04/06 19:18:11 d2.utils.events]: \u001b[0m eta: 2:44:42  iter: 1039  total_loss: 1.139  loss_cls: 0.213  loss_box_reg: 0.320  loss_mask: 0.261  loss_rpn_cls: 0.021  loss_rpn_loc: 0.096  time: 0.3787  data_time: 0.0003  lr: 0.000316  max_mem: 7255M\n",
      "\u001b[32m[04/06 19:18:19 d2.utils.events]: \u001b[0m eta: 2:44:33  iter: 1059  total_loss: 0.968  loss_cls: 0.202  loss_box_reg: 0.336  loss_mask: 0.217  loss_rpn_cls: 0.042  loss_rpn_loc: 0.098  time: 0.3784  data_time: 0.0002  lr: 0.000322  max_mem: 7255M\n",
      "\u001b[32m[04/06 19:18:26 d2.utils.events]: \u001b[0m eta: 2:44:26  iter: 1079  total_loss: 1.185  loss_cls: 0.214  loss_box_reg: 0.362  loss_mask: 0.281  loss_rpn_cls: 0.071  loss_rpn_loc: 0.139  time: 0.3786  data_time: 0.0003  lr: 0.000328  max_mem: 7255M\n",
      "\u001b[32m[04/06 19:18:34 d2.utils.events]: \u001b[0m eta: 2:44:20  iter: 1099  total_loss: 1.033  loss_cls: 0.205  loss_box_reg: 0.386  loss_mask: 0.284  loss_rpn_cls: 0.050  loss_rpn_loc: 0.086  time: 0.3788  data_time: 0.0002  lr: 0.000334  max_mem: 7255M\n",
      "\u001b[32m[04/06 19:18:42 d2.utils.events]: \u001b[0m eta: 2:44:05  iter: 1119  total_loss: 0.789  loss_cls: 0.127  loss_box_reg: 0.278  loss_mask: 0.215  loss_rpn_cls: 0.031  loss_rpn_loc: 0.093  time: 0.3788  data_time: 0.0003  lr: 0.000340  max_mem: 7255M\n",
      "\u001b[32m[04/06 19:18:49 d2.utils.events]: \u001b[0m eta: 2:44:05  iter: 1139  total_loss: 1.300  loss_cls: 0.244  loss_box_reg: 0.396  loss_mask: 0.310  loss_rpn_cls: 0.062  loss_rpn_loc: 0.162  time: 0.3787  data_time: 0.0002  lr: 0.000346  max_mem: 7255M\n",
      "\u001b[32m[04/06 19:18:57 d2.utils.events]: \u001b[0m eta: 2:43:50  iter: 1159  total_loss: 0.828  loss_cls: 0.168  loss_box_reg: 0.284  loss_mask: 0.247  loss_rpn_cls: 0.033  loss_rpn_loc: 0.101  time: 0.3785  data_time: 0.0003  lr: 0.000352  max_mem: 7255M\n",
      "\u001b[32m[04/06 19:19:04 d2.utils.events]: \u001b[0m eta: 2:43:42  iter: 1179  total_loss: 1.211  loss_cls: 0.233  loss_box_reg: 0.375  loss_mask: 0.338  loss_rpn_cls: 0.054  loss_rpn_loc: 0.146  time: 0.3784  data_time: 0.0003  lr: 0.000358  max_mem: 7255M\n",
      "\u001b[32m[04/06 19:19:11 d2.utils.events]: \u001b[0m eta: 2:43:24  iter: 1199  total_loss: 0.956  loss_cls: 0.184  loss_box_reg: 0.302  loss_mask: 0.261  loss_rpn_cls: 0.031  loss_rpn_loc: 0.130  time: 0.3782  data_time: 0.0003  lr: 0.000364  max_mem: 7255M\n",
      "\u001b[32m[04/06 19:19:19 d2.utils.events]: \u001b[0m eta: 2:43:19  iter: 1219  total_loss: 0.955  loss_cls: 0.180  loss_box_reg: 0.317  loss_mask: 0.230  loss_rpn_cls: 0.030  loss_rpn_loc: 0.129  time: 0.3782  data_time: 0.0003  lr: 0.000370  max_mem: 7255M\n",
      "\u001b[32m[04/06 19:19:27 d2.utils.events]: \u001b[0m eta: 2:43:06  iter: 1239  total_loss: 0.818  loss_cls: 0.173  loss_box_reg: 0.246  loss_mask: 0.192  loss_rpn_cls: 0.035  loss_rpn_loc: 0.115  time: 0.3783  data_time: 0.0003  lr: 0.000376  max_mem: 7255M\n",
      "\u001b[32m[04/06 19:19:34 d2.utils.events]: \u001b[0m eta: 2:42:52  iter: 1259  total_loss: 1.084  loss_cls: 0.182  loss_box_reg: 0.366  loss_mask: 0.282  loss_rpn_cls: 0.036  loss_rpn_loc: 0.124  time: 0.3782  data_time: 0.0003  lr: 0.000382  max_mem: 7255M\n",
      "\u001b[32m[04/06 19:19:42 d2.utils.events]: \u001b[0m eta: 2:42:37  iter: 1279  total_loss: 0.904  loss_cls: 0.177  loss_box_reg: 0.238  loss_mask: 0.242  loss_rpn_cls: 0.027  loss_rpn_loc: 0.103  time: 0.3781  data_time: 0.0003  lr: 0.000388  max_mem: 7255M\n",
      "\u001b[32m[04/06 19:19:49 d2.utils.events]: \u001b[0m eta: 2:42:22  iter: 1299  total_loss: 0.851  loss_cls: 0.190  loss_box_reg: 0.308  loss_mask: 0.242  loss_rpn_cls: 0.036  loss_rpn_loc: 0.120  time: 0.3781  data_time: 0.0003  lr: 0.000394  max_mem: 7255M\n",
      "\u001b[32m[04/06 19:19:56 d2.utils.events]: \u001b[0m eta: 2:42:05  iter: 1319  total_loss: 1.161  loss_cls: 0.162  loss_box_reg: 0.402  loss_mask: 0.279  loss_rpn_cls: 0.053  loss_rpn_loc: 0.148  time: 0.3778  data_time: 0.0003  lr: 0.000400  max_mem: 7255M\n"
     ]
    },
    {
     "name": "stdout",
     "output_type": "stream",
     "text": [
      "\u001b[32m[04/06 19:20:04 d2.utils.events]: \u001b[0m eta: 2:41:56  iter: 1339  total_loss: 1.083  loss_cls: 0.220  loss_box_reg: 0.383  loss_mask: 0.252  loss_rpn_cls: 0.067  loss_rpn_loc: 0.120  time: 0.3776  data_time: 0.0003  lr: 0.000406  max_mem: 7255M\n",
      "\u001b[32m[04/06 19:20:11 d2.utils.events]: \u001b[0m eta: 2:41:40  iter: 1359  total_loss: 0.925  loss_cls: 0.186  loss_box_reg: 0.329  loss_mask: 0.241  loss_rpn_cls: 0.038  loss_rpn_loc: 0.123  time: 0.3775  data_time: 0.0002  lr: 0.000412  max_mem: 7255M\n",
      "\u001b[32m[04/06 19:20:19 d2.utils.events]: \u001b[0m eta: 2:41:29  iter: 1379  total_loss: 0.881  loss_cls: 0.191  loss_box_reg: 0.308  loss_mask: 0.223  loss_rpn_cls: 0.028  loss_rpn_loc: 0.108  time: 0.3775  data_time: 0.0002  lr: 0.000418  max_mem: 7255M\n",
      "\u001b[32m[04/06 19:20:26 d2.utils.events]: \u001b[0m eta: 2:41:22  iter: 1399  total_loss: 0.875  loss_cls: 0.180  loss_box_reg: 0.333  loss_mask: 0.237  loss_rpn_cls: 0.029  loss_rpn_loc: 0.060  time: 0.3773  data_time: 0.0002  lr: 0.000424  max_mem: 7255M\n",
      "\u001b[32m[04/06 19:20:34 d2.utils.events]: \u001b[0m eta: 2:41:18  iter: 1419  total_loss: 0.951  loss_cls: 0.199  loss_box_reg: 0.368  loss_mask: 0.253  loss_rpn_cls: 0.032  loss_rpn_loc: 0.108  time: 0.3774  data_time: 0.0003  lr: 0.000430  max_mem: 7255M\n",
      "\u001b[32m[04/06 19:20:41 d2.utils.events]: \u001b[0m eta: 2:41:07  iter: 1439  total_loss: 1.053  loss_cls: 0.199  loss_box_reg: 0.329  loss_mask: 0.246  loss_rpn_cls: 0.040  loss_rpn_loc: 0.137  time: 0.3772  data_time: 0.0002  lr: 0.000435  max_mem: 7255M\n",
      "\u001b[32m[04/06 19:20:48 d2.utils.events]: \u001b[0m eta: 2:41:05  iter: 1459  total_loss: 1.236  loss_cls: 0.269  loss_box_reg: 0.417  loss_mask: 0.321  loss_rpn_cls: 0.038  loss_rpn_loc: 0.186  time: 0.3771  data_time: 0.0003  lr: 0.000441  max_mem: 7255M\n",
      "\u001b[32m[04/06 19:20:56 d2.utils.events]: \u001b[0m eta: 2:40:58  iter: 1479  total_loss: 1.133  loss_cls: 0.196  loss_box_reg: 0.325  loss_mask: 0.260  loss_rpn_cls: 0.038  loss_rpn_loc: 0.139  time: 0.3772  data_time: 0.0003  lr: 0.000447  max_mem: 7255M\n",
      "\u001b[32m[04/06 19:21:03 d2.utils.events]: \u001b[0m eta: 2:40:47  iter: 1499  total_loss: 0.771  loss_cls: 0.140  loss_box_reg: 0.262  loss_mask: 0.221  loss_rpn_cls: 0.024  loss_rpn_loc: 0.102  time: 0.3771  data_time: 0.0003  lr: 0.000453  max_mem: 7255M\n",
      "\u001b[32m[04/06 19:21:11 d2.utils.events]: \u001b[0m eta: 2:40:35  iter: 1519  total_loss: 1.015  loss_cls: 0.200  loss_box_reg: 0.348  loss_mask: 0.280  loss_rpn_cls: 0.029  loss_rpn_loc: 0.124  time: 0.3771  data_time: 0.0003  lr: 0.000459  max_mem: 7255M\n",
      "\u001b[32m[04/06 19:21:19 d2.utils.events]: \u001b[0m eta: 2:40:32  iter: 1539  total_loss: 1.232  loss_cls: 0.247  loss_box_reg: 0.407  loss_mask: 0.268  loss_rpn_cls: 0.051  loss_rpn_loc: 0.146  time: 0.3771  data_time: 0.0003  lr: 0.000465  max_mem: 7255M\n",
      "\u001b[32m[04/06 19:21:26 d2.utils.events]: \u001b[0m eta: 2:40:23  iter: 1559  total_loss: 0.807  loss_cls: 0.148  loss_box_reg: 0.280  loss_mask: 0.248  loss_rpn_cls: 0.034  loss_rpn_loc: 0.094  time: 0.3770  data_time: 0.0003  lr: 0.000471  max_mem: 7255M\n",
      "\u001b[32m[04/06 19:21:33 d2.utils.events]: \u001b[0m eta: 2:40:03  iter: 1579  total_loss: 0.634  loss_cls: 0.119  loss_box_reg: 0.248  loss_mask: 0.194  loss_rpn_cls: 0.024  loss_rpn_loc: 0.087  time: 0.3769  data_time: 0.0003  lr: 0.000477  max_mem: 7255M\n",
      "\u001b[32m[04/06 19:21:41 d2.utils.events]: \u001b[0m eta: 2:39:45  iter: 1599  total_loss: 1.010  loss_cls: 0.182  loss_box_reg: 0.330  loss_mask: 0.249  loss_rpn_cls: 0.050  loss_rpn_loc: 0.099  time: 0.3767  data_time: 0.0003  lr: 0.000483  max_mem: 7255M\n",
      "\u001b[32m[04/06 19:21:48 d2.utils.events]: \u001b[0m eta: 2:39:38  iter: 1619  total_loss: 0.912  loss_cls: 0.175  loss_box_reg: 0.307  loss_mask: 0.254  loss_rpn_cls: 0.026  loss_rpn_loc: 0.118  time: 0.3766  data_time: 0.0003  lr: 0.000489  max_mem: 7255M\n",
      "\u001b[32m[04/06 19:21:55 d2.utils.events]: \u001b[0m eta: 2:39:32  iter: 1639  total_loss: 0.897  loss_cls: 0.176  loss_box_reg: 0.302  loss_mask: 0.236  loss_rpn_cls: 0.024  loss_rpn_loc: 0.117  time: 0.3765  data_time: 0.0003  lr: 0.000495  max_mem: 7255M\n",
      "\u001b[32m[04/06 19:22:03 d2.utils.events]: \u001b[0m eta: 2:39:28  iter: 1659  total_loss: 1.078  loss_cls: 0.161  loss_box_reg: 0.400  loss_mask: 0.272  loss_rpn_cls: 0.044  loss_rpn_loc: 0.117  time: 0.3766  data_time: 0.0003  lr: 0.000501  max_mem: 7255M\n",
      "\u001b[32m[04/06 19:22:10 d2.utils.events]: \u001b[0m eta: 2:39:02  iter: 1679  total_loss: 0.888  loss_cls: 0.140  loss_box_reg: 0.239  loss_mask: 0.239  loss_rpn_cls: 0.023  loss_rpn_loc: 0.089  time: 0.3764  data_time: 0.0003  lr: 0.000506  max_mem: 7255M\n",
      "\u001b[32m[04/06 19:22:18 d2.utils.events]: \u001b[0m eta: 2:38:44  iter: 1699  total_loss: 1.202  loss_cls: 0.226  loss_box_reg: 0.306  loss_mask: 0.294  loss_rpn_cls: 0.060  loss_rpn_loc: 0.157  time: 0.3763  data_time: 0.0003  lr: 0.000512  max_mem: 7255M\n",
      "\u001b[32m[04/06 19:22:25 d2.utils.events]: \u001b[0m eta: 2:38:32  iter: 1719  total_loss: 1.352  loss_cls: 0.265  loss_box_reg: 0.429  loss_mask: 0.273  loss_rpn_cls: 0.077  loss_rpn_loc: 0.171  time: 0.3763  data_time: 0.0003  lr: 0.000518  max_mem: 7255M\n",
      "\u001b[32m[04/06 19:22:32 d2.utils.events]: \u001b[0m eta: 2:38:23  iter: 1739  total_loss: 1.048  loss_cls: 0.196  loss_box_reg: 0.333  loss_mask: 0.319  loss_rpn_cls: 0.028  loss_rpn_loc: 0.149  time: 0.3760  data_time: 0.0003  lr: 0.000524  max_mem: 7255M\n",
      "\u001b[32m[04/06 19:22:40 d2.utils.events]: \u001b[0m eta: 2:38:15  iter: 1759  total_loss: 0.878  loss_cls: 0.163  loss_box_reg: 0.317  loss_mask: 0.248  loss_rpn_cls: 0.022  loss_rpn_loc: 0.103  time: 0.3760  data_time: 0.0003  lr: 0.000530  max_mem: 7255M\n",
      "\u001b[32m[04/06 19:22:47 d2.utils.events]: \u001b[0m eta: 2:37:55  iter: 1779  total_loss: 0.812  loss_cls: 0.164  loss_box_reg: 0.274  loss_mask: 0.234  loss_rpn_cls: 0.034  loss_rpn_loc: 0.107  time: 0.3759  data_time: 0.0003  lr: 0.000536  max_mem: 7255M\n",
      "\u001b[32m[04/06 19:22:55 d2.utils.events]: \u001b[0m eta: 2:37:44  iter: 1799  total_loss: 1.092  loss_cls: 0.225  loss_box_reg: 0.382  loss_mask: 0.303  loss_rpn_cls: 0.041  loss_rpn_loc: 0.122  time: 0.3760  data_time: 0.0003  lr: 0.000542  max_mem: 7255M\n",
      "\u001b[32m[04/06 19:23:02 d2.utils.events]: \u001b[0m eta: 2:37:27  iter: 1819  total_loss: 0.925  loss_cls: 0.183  loss_box_reg: 0.292  loss_mask: 0.236  loss_rpn_cls: 0.036  loss_rpn_loc: 0.128  time: 0.3760  data_time: 0.0003  lr: 0.000548  max_mem: 7255M\n",
      "\u001b[32m[04/06 19:23:10 d2.utils.events]: \u001b[0m eta: 2:37:20  iter: 1839  total_loss: 1.020  loss_cls: 0.197  loss_box_reg: 0.306  loss_mask: 0.239  loss_rpn_cls: 0.043  loss_rpn_loc: 0.125  time: 0.3760  data_time: 0.0003  lr: 0.000553  max_mem: 7255M\n",
      "\u001b[32m[04/06 19:23:17 d2.utils.events]: \u001b[0m eta: 2:37:10  iter: 1859  total_loss: 0.680  loss_cls: 0.146  loss_box_reg: 0.230  loss_mask: 0.190  loss_rpn_cls: 0.011  loss_rpn_loc: 0.092  time: 0.3759  data_time: 0.0003  lr: 0.000559  max_mem: 7255M\n",
      "\u001b[32m[04/06 19:23:24 d2.utils.events]: \u001b[0m eta: 2:36:56  iter: 1879  total_loss: 0.863  loss_cls: 0.166  loss_box_reg: 0.266  loss_mask: 0.230  loss_rpn_cls: 0.025  loss_rpn_loc: 0.102  time: 0.3758  data_time: 0.0003  lr: 0.000565  max_mem: 7255M\n",
      "\u001b[32m[04/06 19:23:32 d2.utils.events]: \u001b[0m eta: 2:36:42  iter: 1899  total_loss: 0.800  loss_cls: 0.159  loss_box_reg: 0.272  loss_mask: 0.211  loss_rpn_cls: 0.043  loss_rpn_loc: 0.079  time: 0.3756  data_time: 0.0002  lr: 0.000571  max_mem: 7255M\n",
      "\u001b[32m[04/06 19:23:39 d2.utils.events]: \u001b[0m eta: 2:36:36  iter: 1919  total_loss: 0.978  loss_cls: 0.188  loss_box_reg: 0.327  loss_mask: 0.271  loss_rpn_cls: 0.021  loss_rpn_loc: 0.096  time: 0.3756  data_time: 0.0002  lr: 0.000577  max_mem: 7255M\n",
      "\u001b[32m[04/06 19:23:47 d2.utils.events]: \u001b[0m eta: 2:36:21  iter: 1939  total_loss: 0.998  loss_cls: 0.209  loss_box_reg: 0.355  loss_mask: 0.256  loss_rpn_cls: 0.036  loss_rpn_loc: 0.125  time: 0.3755  data_time: 0.0003  lr: 0.000583  max_mem: 7255M\n",
      "\u001b[32m[04/06 19:23:54 d2.utils.events]: \u001b[0m eta: 2:36:13  iter: 1959  total_loss: 1.143  loss_cls: 0.240  loss_box_reg: 0.362  loss_mask: 0.262  loss_rpn_cls: 0.038  loss_rpn_loc: 0.158  time: 0.3755  data_time: 0.0003  lr: 0.000589  max_mem: 7255M\n",
      "\u001b[32m[04/06 19:24:01 d2.utils.events]: \u001b[0m eta: 2:35:58  iter: 1979  total_loss: 0.758  loss_cls: 0.107  loss_box_reg: 0.248  loss_mask: 0.207  loss_rpn_cls: 0.035  loss_rpn_loc: 0.100  time: 0.3754  data_time: 0.0002  lr: 0.000594  max_mem: 7255M\n"
     ]
    },
    {
     "name": "stdout",
     "output_type": "stream",
     "text": [
      "\u001b[32m[04/06 19:24:09 d2.utils.events]: \u001b[0m eta: 2:35:52  iter: 1999  total_loss: 0.638  loss_cls: 0.106  loss_box_reg: 0.200  loss_mask: 0.191  loss_rpn_cls: 0.017  loss_rpn_loc: 0.062  time: 0.3754  data_time: 0.0003  lr: 0.000600  max_mem: 7255M\n",
      "\u001b[32m[04/06 19:24:16 d2.utils.events]: \u001b[0m eta: 2:35:34  iter: 2019  total_loss: 0.984  loss_cls: 0.186  loss_box_reg: 0.292  loss_mask: 0.245  loss_rpn_cls: 0.052  loss_rpn_loc: 0.120  time: 0.3754  data_time: 0.0003  lr: 0.000606  max_mem: 7255M\n",
      "\u001b[32m[04/06 19:24:24 d2.utils.events]: \u001b[0m eta: 2:35:15  iter: 2039  total_loss: 1.133  loss_cls: 0.185  loss_box_reg: 0.350  loss_mask: 0.274  loss_rpn_cls: 0.046  loss_rpn_loc: 0.098  time: 0.3752  data_time: 0.0003  lr: 0.000612  max_mem: 7255M\n",
      "\u001b[32m[04/06 19:24:31 d2.utils.events]: \u001b[0m eta: 2:35:09  iter: 2059  total_loss: 0.942  loss_cls: 0.218  loss_box_reg: 0.268  loss_mask: 0.254  loss_rpn_cls: 0.029  loss_rpn_loc: 0.149  time: 0.3752  data_time: 0.0003  lr: 0.000618  max_mem: 7255M\n",
      "\u001b[32m[04/06 19:24:39 d2.utils.events]: \u001b[0m eta: 2:34:57  iter: 2079  total_loss: 0.975  loss_cls: 0.218  loss_box_reg: 0.333  loss_mask: 0.238  loss_rpn_cls: 0.024  loss_rpn_loc: 0.132  time: 0.3752  data_time: 0.0003  lr: 0.000623  max_mem: 7255M\n",
      "\u001b[32m[04/06 19:24:46 d2.utils.events]: \u001b[0m eta: 2:34:37  iter: 2099  total_loss: 0.947  loss_cls: 0.175  loss_box_reg: 0.322  loss_mask: 0.256  loss_rpn_cls: 0.033  loss_rpn_loc: 0.142  time: 0.3750  data_time: 0.0003  lr: 0.000629  max_mem: 7255M\n",
      "\u001b[32m[04/06 19:24:53 d2.utils.events]: \u001b[0m eta: 2:34:26  iter: 2119  total_loss: 1.064  loss_cls: 0.224  loss_box_reg: 0.374  loss_mask: 0.281  loss_rpn_cls: 0.035  loss_rpn_loc: 0.129  time: 0.3749  data_time: 0.0003  lr: 0.000635  max_mem: 7255M\n",
      "\u001b[32m[04/06 19:25:00 d2.utils.events]: \u001b[0m eta: 2:34:13  iter: 2139  total_loss: 0.995  loss_cls: 0.200  loss_box_reg: 0.334  loss_mask: 0.257  loss_rpn_cls: 0.040  loss_rpn_loc: 0.125  time: 0.3748  data_time: 0.0002  lr: 0.000641  max_mem: 7255M\n",
      "\u001b[32m[04/06 19:25:08 d2.utils.events]: \u001b[0m eta: 2:33:58  iter: 2159  total_loss: 1.174  loss_cls: 0.197  loss_box_reg: 0.323  loss_mask: 0.334  loss_rpn_cls: 0.025  loss_rpn_loc: 0.132  time: 0.3747  data_time: 0.0003  lr: 0.000647  max_mem: 7255M\n",
      "\u001b[32m[04/06 19:25:15 d2.utils.events]: \u001b[0m eta: 2:33:51  iter: 2179  total_loss: 1.161  loss_cls: 0.251  loss_box_reg: 0.429  loss_mask: 0.270  loss_rpn_cls: 0.051  loss_rpn_loc: 0.134  time: 0.3746  data_time: 0.0003  lr: 0.000652  max_mem: 7255M\n",
      "\u001b[32m[04/06 19:25:22 d2.utils.events]: \u001b[0m eta: 2:33:30  iter: 2199  total_loss: 0.943  loss_cls: 0.157  loss_box_reg: 0.313  loss_mask: 0.214  loss_rpn_cls: 0.026  loss_rpn_loc: 0.074  time: 0.3745  data_time: 0.0002  lr: 0.000658  max_mem: 7255M\n",
      "\u001b[32m[04/06 19:25:30 d2.utils.events]: \u001b[0m eta: 2:33:12  iter: 2219  total_loss: 1.001  loss_cls: 0.169  loss_box_reg: 0.268  loss_mask: 0.268  loss_rpn_cls: 0.028  loss_rpn_loc: 0.098  time: 0.3744  data_time: 0.0002  lr: 0.000664  max_mem: 7255M\n",
      "\u001b[32m[04/06 19:25:37 d2.utils.events]: \u001b[0m eta: 2:33:06  iter: 2239  total_loss: 1.027  loss_cls: 0.203  loss_box_reg: 0.342  loss_mask: 0.256  loss_rpn_cls: 0.033  loss_rpn_loc: 0.183  time: 0.3743  data_time: 0.0003  lr: 0.000670  max_mem: 7255M\n",
      "\u001b[32m[04/06 19:25:44 d2.utils.events]: \u001b[0m eta: 2:32:57  iter: 2259  total_loss: 0.861  loss_cls: 0.183  loss_box_reg: 0.309  loss_mask: 0.240  loss_rpn_cls: 0.027  loss_rpn_loc: 0.106  time: 0.3742  data_time: 0.0003  lr: 0.000675  max_mem: 7255M\n",
      "\u001b[32m[04/06 19:25:52 d2.utils.events]: \u001b[0m eta: 2:32:58  iter: 2279  total_loss: 0.899  loss_cls: 0.171  loss_box_reg: 0.292  loss_mask: 0.204  loss_rpn_cls: 0.045  loss_rpn_loc: 0.127  time: 0.3743  data_time: 0.0003  lr: 0.000681  max_mem: 7255M\n",
      "\u001b[32m[04/06 19:25:59 d2.utils.events]: \u001b[0m eta: 2:33:07  iter: 2299  total_loss: 1.073  loss_cls: 0.195  loss_box_reg: 0.359  loss_mask: 0.285  loss_rpn_cls: 0.050  loss_rpn_loc: 0.129  time: 0.3743  data_time: 0.0003  lr: 0.000687  max_mem: 7255M\n",
      "\u001b[32m[04/06 19:26:07 d2.utils.events]: \u001b[0m eta: 2:33:08  iter: 2319  total_loss: 0.735  loss_cls: 0.153  loss_box_reg: 0.252  loss_mask: 0.191  loss_rpn_cls: 0.025  loss_rpn_loc: 0.091  time: 0.3743  data_time: 0.0002  lr: 0.000693  max_mem: 7255M\n",
      "\u001b[32m[04/06 19:26:14 d2.utils.events]: \u001b[0m eta: 2:33:06  iter: 2339  total_loss: 0.918  loss_cls: 0.199  loss_box_reg: 0.304  loss_mask: 0.231  loss_rpn_cls: 0.028  loss_rpn_loc: 0.100  time: 0.3743  data_time: 0.0003  lr: 0.000698  max_mem: 7255M\n",
      "\u001b[32m[04/06 19:26:22 d2.utils.events]: \u001b[0m eta: 2:32:59  iter: 2359  total_loss: 0.926  loss_cls: 0.145  loss_box_reg: 0.317  loss_mask: 0.255  loss_rpn_cls: 0.034  loss_rpn_loc: 0.117  time: 0.3742  data_time: 0.0003  lr: 0.000704  max_mem: 7255M\n",
      "\u001b[32m[04/06 19:26:29 d2.utils.events]: \u001b[0m eta: 2:32:49  iter: 2379  total_loss: 0.712  loss_cls: 0.116  loss_box_reg: 0.249  loss_mask: 0.193  loss_rpn_cls: 0.023  loss_rpn_loc: 0.103  time: 0.3743  data_time: 0.0003  lr: 0.000710  max_mem: 7256M\n",
      "\u001b[32m[04/06 19:26:37 d2.utils.events]: \u001b[0m eta: 2:32:44  iter: 2399  total_loss: 0.941  loss_cls: 0.187  loss_box_reg: 0.253  loss_mask: 0.267  loss_rpn_cls: 0.033  loss_rpn_loc: 0.106  time: 0.3743  data_time: 0.0003  lr: 0.000716  max_mem: 7256M\n",
      "\u001b[32m[04/06 19:26:44 d2.utils.events]: \u001b[0m eta: 2:32:24  iter: 2419  total_loss: 1.010  loss_cls: 0.176  loss_box_reg: 0.300  loss_mask: 0.265  loss_rpn_cls: 0.040  loss_rpn_loc: 0.154  time: 0.3742  data_time: 0.0002  lr: 0.000721  max_mem: 7256M\n",
      "\u001b[32m[04/06 19:26:51 d2.utils.events]: \u001b[0m eta: 2:32:12  iter: 2439  total_loss: 1.209  loss_cls: 0.213  loss_box_reg: 0.384  loss_mask: 0.273  loss_rpn_cls: 0.045  loss_rpn_loc: 0.152  time: 0.3741  data_time: 0.0003  lr: 0.000727  max_mem: 7256M\n",
      "\u001b[32m[04/06 19:26:59 d2.utils.events]: \u001b[0m eta: 2:32:00  iter: 2459  total_loss: 0.914  loss_cls: 0.177  loss_box_reg: 0.271  loss_mask: 0.227  loss_rpn_cls: 0.056  loss_rpn_loc: 0.146  time: 0.3741  data_time: 0.0003  lr: 0.000733  max_mem: 7256M\n",
      "\u001b[32m[04/06 19:27:06 d2.utils.events]: \u001b[0m eta: 2:31:43  iter: 2479  total_loss: 0.960  loss_cls: 0.177  loss_box_reg: 0.292  loss_mask: 0.242  loss_rpn_cls: 0.041  loss_rpn_loc: 0.127  time: 0.3740  data_time: 0.0003  lr: 0.000738  max_mem: 7256M\n",
      "\u001b[32m[04/06 19:27:13 d2.utils.events]: \u001b[0m eta: 2:31:35  iter: 2499  total_loss: 1.022  loss_cls: 0.198  loss_box_reg: 0.275  loss_mask: 0.229  loss_rpn_cls: 0.054  loss_rpn_loc: 0.107  time: 0.3739  data_time: 0.0003  lr: 0.000744  max_mem: 7256M\n",
      "\u001b[32m[04/06 19:27:21 d2.utils.events]: \u001b[0m eta: 2:31:28  iter: 2519  total_loss: 0.796  loss_cls: 0.144  loss_box_reg: 0.281  loss_mask: 0.240  loss_rpn_cls: 0.020  loss_rpn_loc: 0.114  time: 0.3739  data_time: 0.0002  lr: 0.000750  max_mem: 7256M\n",
      "\u001b[32m[04/06 19:27:28 d2.utils.events]: \u001b[0m eta: 2:31:20  iter: 2539  total_loss: 0.680  loss_cls: 0.150  loss_box_reg: 0.240  loss_mask: 0.194  loss_rpn_cls: 0.017  loss_rpn_loc: 0.086  time: 0.3739  data_time: 0.0002  lr: 0.000756  max_mem: 7256M\n",
      "\u001b[32m[04/06 19:27:36 d2.utils.events]: \u001b[0m eta: 2:31:09  iter: 2559  total_loss: 0.785  loss_cls: 0.130  loss_box_reg: 0.316  loss_mask: 0.227  loss_rpn_cls: 0.035  loss_rpn_loc: 0.098  time: 0.3738  data_time: 0.0003  lr: 0.000761  max_mem: 7256M\n",
      "\u001b[32m[04/06 19:27:43 d2.utils.events]: \u001b[0m eta: 2:31:09  iter: 2579  total_loss: 1.023  loss_cls: 0.209  loss_box_reg: 0.397  loss_mask: 0.265  loss_rpn_cls: 0.023  loss_rpn_loc: 0.129  time: 0.3738  data_time: 0.0002  lr: 0.000767  max_mem: 7256M\n",
      "\u001b[32m[04/06 19:27:51 d2.utils.events]: \u001b[0m eta: 2:31:18  iter: 2599  total_loss: 0.802  loss_cls: 0.150  loss_box_reg: 0.285  loss_mask: 0.219  loss_rpn_cls: 0.020  loss_rpn_loc: 0.107  time: 0.3739  data_time: 0.0003  lr: 0.000773  max_mem: 7256M\n",
      "\u001b[32m[04/06 19:27:58 d2.utils.events]: \u001b[0m eta: 2:31:16  iter: 2619  total_loss: 0.865  loss_cls: 0.204  loss_box_reg: 0.293  loss_mask: 0.228  loss_rpn_cls: 0.022  loss_rpn_loc: 0.102  time: 0.3739  data_time: 0.0003  lr: 0.000778  max_mem: 7256M\n",
      "\u001b[32m[04/06 19:28:06 d2.utils.events]: \u001b[0m eta: 2:31:05  iter: 2639  total_loss: 1.045  loss_cls: 0.220  loss_box_reg: 0.321  loss_mask: 0.256  loss_rpn_cls: 0.034  loss_rpn_loc: 0.126  time: 0.3739  data_time: 0.0003  lr: 0.000784  max_mem: 7256M\n"
     ]
    },
    {
     "name": "stdout",
     "output_type": "stream",
     "text": [
      "\u001b[32m[04/06 19:28:13 d2.utils.events]: \u001b[0m eta: 2:30:50  iter: 2659  total_loss: 0.807  loss_cls: 0.162  loss_box_reg: 0.256  loss_mask: 0.213  loss_rpn_cls: 0.013  loss_rpn_loc: 0.099  time: 0.3738  data_time: 0.0003  lr: 0.000790  max_mem: 7256M\n",
      "\u001b[32m[04/06 19:28:20 d2.utils.events]: \u001b[0m eta: 2:30:57  iter: 2679  total_loss: 0.823  loss_cls: 0.145  loss_box_reg: 0.262  loss_mask: 0.243  loss_rpn_cls: 0.030  loss_rpn_loc: 0.114  time: 0.3738  data_time: 0.0003  lr: 0.000795  max_mem: 7256M\n",
      "\u001b[32m[04/06 19:28:28 d2.utils.events]: \u001b[0m eta: 2:30:49  iter: 2699  total_loss: 0.736  loss_cls: 0.143  loss_box_reg: 0.285  loss_mask: 0.230  loss_rpn_cls: 0.022  loss_rpn_loc: 0.122  time: 0.3737  data_time: 0.0003  lr: 0.000801  max_mem: 7256M\n",
      "\u001b[32m[04/06 19:28:35 d2.utils.events]: \u001b[0m eta: 2:30:43  iter: 2719  total_loss: 0.601  loss_cls: 0.131  loss_box_reg: 0.213  loss_mask: 0.200  loss_rpn_cls: 0.026  loss_rpn_loc: 0.078  time: 0.3737  data_time: 0.0003  lr: 0.000806  max_mem: 7256M\n",
      "\u001b[32m[04/06 19:28:43 d2.utils.events]: \u001b[0m eta: 2:30:40  iter: 2739  total_loss: 0.696  loss_cls: 0.113  loss_box_reg: 0.221  loss_mask: 0.252  loss_rpn_cls: 0.019  loss_rpn_loc: 0.091  time: 0.3738  data_time: 0.0003  lr: 0.000812  max_mem: 7256M\n",
      "\u001b[32m[04/06 19:28:50 d2.utils.events]: \u001b[0m eta: 2:30:25  iter: 2759  total_loss: 0.837  loss_cls: 0.161  loss_box_reg: 0.242  loss_mask: 0.220  loss_rpn_cls: 0.022  loss_rpn_loc: 0.093  time: 0.3736  data_time: 0.0002  lr: 0.000818  max_mem: 7256M\n",
      "\u001b[32m[04/06 19:28:58 d2.utils.events]: \u001b[0m eta: 2:30:30  iter: 2779  total_loss: 0.854  loss_cls: 0.129  loss_box_reg: 0.298  loss_mask: 0.236  loss_rpn_cls: 0.019  loss_rpn_loc: 0.098  time: 0.3737  data_time: 0.0003  lr: 0.000823  max_mem: 7256M\n",
      "\u001b[32m[04/06 19:29:05 d2.utils.events]: \u001b[0m eta: 2:30:23  iter: 2799  total_loss: 1.183  loss_cls: 0.222  loss_box_reg: 0.340  loss_mask: 0.278  loss_rpn_cls: 0.032  loss_rpn_loc: 0.153  time: 0.3738  data_time: 0.0003  lr: 0.000829  max_mem: 7256M\n",
      "\u001b[32m[04/06 19:29:13 d2.utils.events]: \u001b[0m eta: 2:30:22  iter: 2819  total_loss: 1.215  loss_cls: 0.230  loss_box_reg: 0.338  loss_mask: 0.305  loss_rpn_cls: 0.072  loss_rpn_loc: 0.194  time: 0.3738  data_time: 0.0003  lr: 0.000834  max_mem: 7256M\n",
      "\u001b[32m[04/06 19:29:20 d2.utils.events]: \u001b[0m eta: 2:30:11  iter: 2839  total_loss: 1.051  loss_cls: 0.222  loss_box_reg: 0.272  loss_mask: 0.256  loss_rpn_cls: 0.047  loss_rpn_loc: 0.138  time: 0.3738  data_time: 0.0003  lr: 0.000840  max_mem: 7256M\n",
      "\u001b[32m[04/06 19:29:28 d2.utils.events]: \u001b[0m eta: 2:29:58  iter: 2859  total_loss: 0.711  loss_cls: 0.145  loss_box_reg: 0.246  loss_mask: 0.199  loss_rpn_cls: 0.014  loss_rpn_loc: 0.069  time: 0.3737  data_time: 0.0002  lr: 0.000846  max_mem: 7256M\n",
      "\u001b[32m[04/06 19:29:35 d2.utils.events]: \u001b[0m eta: 2:29:56  iter: 2879  total_loss: 1.019  loss_cls: 0.189  loss_box_reg: 0.367  loss_mask: 0.257  loss_rpn_cls: 0.032  loss_rpn_loc: 0.126  time: 0.3737  data_time: 0.0003  lr: 0.000851  max_mem: 7256M\n",
      "\u001b[32m[04/06 19:29:42 d2.utils.events]: \u001b[0m eta: 2:29:46  iter: 2899  total_loss: 0.964  loss_cls: 0.192  loss_box_reg: 0.356  loss_mask: 0.268  loss_rpn_cls: 0.033  loss_rpn_loc: 0.132  time: 0.3736  data_time: 0.0003  lr: 0.000857  max_mem: 7256M\n",
      "\u001b[32m[04/06 19:29:50 d2.utils.events]: \u001b[0m eta: 2:29:44  iter: 2919  total_loss: 0.837  loss_cls: 0.123  loss_box_reg: 0.223  loss_mask: 0.228  loss_rpn_cls: 0.021  loss_rpn_loc: 0.072  time: 0.3736  data_time: 0.0002  lr: 0.000862  max_mem: 7256M\n",
      "\u001b[32m[04/06 19:29:57 d2.utils.events]: \u001b[0m eta: 2:29:38  iter: 2939  total_loss: 0.726  loss_cls: 0.143  loss_box_reg: 0.230  loss_mask: 0.199  loss_rpn_cls: 0.013  loss_rpn_loc: 0.058  time: 0.3736  data_time: 0.0003  lr: 0.000868  max_mem: 7256M\n",
      "\u001b[32m[04/06 19:30:05 d2.utils.events]: \u001b[0m eta: 2:29:40  iter: 2959  total_loss: 0.860  loss_cls: 0.181  loss_box_reg: 0.298  loss_mask: 0.221  loss_rpn_cls: 0.020  loss_rpn_loc: 0.135  time: 0.3736  data_time: 0.0003  lr: 0.000873  max_mem: 7256M\n",
      "\u001b[32m[04/06 19:30:12 d2.utils.events]: \u001b[0m eta: 2:29:38  iter: 2979  total_loss: 0.987  loss_cls: 0.183  loss_box_reg: 0.348  loss_mask: 0.254  loss_rpn_cls: 0.048  loss_rpn_loc: 0.126  time: 0.3736  data_time: 0.0002  lr: 0.000879  max_mem: 7256M\n",
      "\u001b[32m[04/06 19:30:20 d2.utils.events]: \u001b[0m eta: 2:29:27  iter: 2999  total_loss: 0.562  loss_cls: 0.114  loss_box_reg: 0.190  loss_mask: 0.158  loss_rpn_cls: 0.018  loss_rpn_loc: 0.075  time: 0.3736  data_time: 0.0002  lr: 0.000885  max_mem: 7256M\n",
      "\u001b[32m[04/06 19:30:27 d2.utils.events]: \u001b[0m eta: 2:29:23  iter: 3019  total_loss: 0.723  loss_cls: 0.145  loss_box_reg: 0.287  loss_mask: 0.243  loss_rpn_cls: 0.019  loss_rpn_loc: 0.091  time: 0.3736  data_time: 0.0003  lr: 0.000890  max_mem: 7256M\n",
      "\u001b[32m[04/06 19:30:35 d2.utils.events]: \u001b[0m eta: 2:29:17  iter: 3039  total_loss: 0.787  loss_cls: 0.171  loss_box_reg: 0.255  loss_mask: 0.212  loss_rpn_cls: 0.026  loss_rpn_loc: 0.095  time: 0.3736  data_time: 0.0003  lr: 0.000896  max_mem: 7256M\n",
      "\u001b[32m[04/06 19:30:42 d2.utils.events]: \u001b[0m eta: 2:29:03  iter: 3059  total_loss: 1.143  loss_cls: 0.228  loss_box_reg: 0.362  loss_mask: 0.254  loss_rpn_cls: 0.035  loss_rpn_loc: 0.147  time: 0.3735  data_time: 0.0003  lr: 0.000901  max_mem: 7256M\n",
      "\u001b[32m[04/06 19:30:49 d2.utils.events]: \u001b[0m eta: 2:28:56  iter: 3079  total_loss: 0.717  loss_cls: 0.125  loss_box_reg: 0.237  loss_mask: 0.205  loss_rpn_cls: 0.031  loss_rpn_loc: 0.054  time: 0.3734  data_time: 0.0002  lr: 0.000907  max_mem: 7256M\n",
      "\u001b[32m[04/06 19:30:57 d2.utils.events]: \u001b[0m eta: 2:28:54  iter: 3099  total_loss: 0.990  loss_cls: 0.184  loss_box_reg: 0.302  loss_mask: 0.243  loss_rpn_cls: 0.031  loss_rpn_loc: 0.117  time: 0.3735  data_time: 0.0003  lr: 0.000912  max_mem: 7256M\n",
      "\u001b[32m[04/06 19:31:04 d2.utils.events]: \u001b[0m eta: 2:28:44  iter: 3119  total_loss: 0.989  loss_cls: 0.156  loss_box_reg: 0.339  loss_mask: 0.262  loss_rpn_cls: 0.032  loss_rpn_loc: 0.121  time: 0.3734  data_time: 0.0002  lr: 0.000918  max_mem: 7256M\n",
      "\u001b[32m[04/06 19:31:11 d2.utils.events]: \u001b[0m eta: 2:28:31  iter: 3139  total_loss: 0.866  loss_cls: 0.184  loss_box_reg: 0.314  loss_mask: 0.233  loss_rpn_cls: 0.013  loss_rpn_loc: 0.107  time: 0.3733  data_time: 0.0002  lr: 0.000923  max_mem: 7256M\n",
      "\u001b[32m[04/06 19:31:19 d2.utils.events]: \u001b[0m eta: 2:28:32  iter: 3159  total_loss: 0.930  loss_cls: 0.149  loss_box_reg: 0.337  loss_mask: 0.253  loss_rpn_cls: 0.030  loss_rpn_loc: 0.125  time: 0.3733  data_time: 0.0003  lr: 0.000929  max_mem: 7256M\n",
      "\u001b[32m[04/06 19:31:26 d2.utils.events]: \u001b[0m eta: 2:28:24  iter: 3179  total_loss: 1.202  loss_cls: 0.187  loss_box_reg: 0.358  loss_mask: 0.260  loss_rpn_cls: 0.056  loss_rpn_loc: 0.165  time: 0.3733  data_time: 0.0003  lr: 0.000934  max_mem: 7256M\n",
      "\u001b[32m[04/06 19:31:33 d2.utils.events]: \u001b[0m eta: 2:28:15  iter: 3199  total_loss: 0.830  loss_cls: 0.141  loss_box_reg: 0.258  loss_mask: 0.211  loss_rpn_cls: 0.027  loss_rpn_loc: 0.093  time: 0.3733  data_time: 0.0003  lr: 0.000940  max_mem: 7256M\n",
      "\u001b[32m[04/06 19:31:41 d2.utils.events]: \u001b[0m eta: 2:28:07  iter: 3219  total_loss: 0.878  loss_cls: 0.164  loss_box_reg: 0.301  loss_mask: 0.267  loss_rpn_cls: 0.026  loss_rpn_loc: 0.091  time: 0.3732  data_time: 0.0002  lr: 0.000945  max_mem: 7256M\n",
      "\u001b[32m[04/06 19:31:48 d2.utils.events]: \u001b[0m eta: 2:27:54  iter: 3239  total_loss: 1.060  loss_cls: 0.218  loss_box_reg: 0.342  loss_mask: 0.256  loss_rpn_cls: 0.037  loss_rpn_loc: 0.115  time: 0.3731  data_time: 0.0002  lr: 0.000950  max_mem: 7256M\n",
      "\u001b[32m[04/06 19:31:55 d2.utils.events]: \u001b[0m eta: 2:27:41  iter: 3259  total_loss: 0.913  loss_cls: 0.187  loss_box_reg: 0.308  loss_mask: 0.231  loss_rpn_cls: 0.046  loss_rpn_loc: 0.134  time: 0.3730  data_time: 0.0003  lr: 0.000956  max_mem: 7256M\n",
      "\u001b[32m[04/06 19:32:02 d2.utils.events]: \u001b[0m eta: 2:27:27  iter: 3279  total_loss: 0.929  loss_cls: 0.171  loss_box_reg: 0.349  loss_mask: 0.226  loss_rpn_cls: 0.049  loss_rpn_loc: 0.129  time: 0.3729  data_time: 0.0003  lr: 0.000961  max_mem: 7256M\n",
      "\u001b[32m[04/06 19:32:10 d2.utils.events]: \u001b[0m eta: 2:27:13  iter: 3299  total_loss: 0.810  loss_cls: 0.175  loss_box_reg: 0.290  loss_mask: 0.229  loss_rpn_cls: 0.021  loss_rpn_loc: 0.100  time: 0.3728  data_time: 0.0002  lr: 0.000967  max_mem: 7256M\n"
     ]
    },
    {
     "name": "stdout",
     "output_type": "stream",
     "text": [
      "\u001b[32m[04/06 19:32:17 d2.utils.events]: \u001b[0m eta: 2:26:51  iter: 3319  total_loss: 0.926  loss_cls: 0.137  loss_box_reg: 0.251  loss_mask: 0.218  loss_rpn_cls: 0.037  loss_rpn_loc: 0.134  time: 0.3728  data_time: 0.0002  lr: 0.000972  max_mem: 7256M\n",
      "\u001b[32m[04/06 19:32:24 d2.utils.events]: \u001b[0m eta: 2:26:42  iter: 3339  total_loss: 0.817  loss_cls: 0.148  loss_box_reg: 0.308  loss_mask: 0.234  loss_rpn_cls: 0.025  loss_rpn_loc: 0.090  time: 0.3728  data_time: 0.0002  lr: 0.000978  max_mem: 7256M\n",
      "\u001b[32m[04/06 19:32:32 d2.utils.events]: \u001b[0m eta: 2:26:41  iter: 3359  total_loss: 0.949  loss_cls: 0.176  loss_box_reg: 0.319  loss_mask: 0.251  loss_rpn_cls: 0.030  loss_rpn_loc: 0.122  time: 0.3728  data_time: 0.0003  lr: 0.000983  max_mem: 7256M\n",
      "\u001b[32m[04/06 19:32:39 d2.utils.events]: \u001b[0m eta: 2:26:27  iter: 3379  total_loss: 1.102  loss_cls: 0.184  loss_box_reg: 0.331  loss_mask: 0.298  loss_rpn_cls: 0.028  loss_rpn_loc: 0.144  time: 0.3728  data_time: 0.0002  lr: 0.000988  max_mem: 7256M\n",
      "\u001b[32m[04/06 19:32:47 d2.utils.events]: \u001b[0m eta: 2:26:31  iter: 3399  total_loss: 1.058  loss_cls: 0.226  loss_box_reg: 0.376  loss_mask: 0.267  loss_rpn_cls: 0.038  loss_rpn_loc: 0.164  time: 0.3728  data_time: 0.0003  lr: 0.000994  max_mem: 7256M\n",
      "\u001b[32m[04/06 19:32:54 d2.utils.events]: \u001b[0m eta: 2:26:30  iter: 3419  total_loss: 0.724  loss_cls: 0.155  loss_box_reg: 0.251  loss_mask: 0.218  loss_rpn_cls: 0.014  loss_rpn_loc: 0.090  time: 0.3729  data_time: 0.0003  lr: 0.000999  max_mem: 7256M\n",
      "\u001b[32m[04/06 19:33:02 d2.utils.events]: \u001b[0m eta: 2:26:24  iter: 3439  total_loss: 1.137  loss_cls: 0.256  loss_box_reg: 0.338  loss_mask: 0.263  loss_rpn_cls: 0.032  loss_rpn_loc: 0.150  time: 0.3729  data_time: 0.0003  lr: 0.001004  max_mem: 7256M\n",
      "\u001b[32m[04/06 19:33:09 d2.utils.events]: \u001b[0m eta: 2:26:07  iter: 3459  total_loss: 0.881  loss_cls: 0.182  loss_box_reg: 0.309  loss_mask: 0.236  loss_rpn_cls: 0.021  loss_rpn_loc: 0.124  time: 0.3728  data_time: 0.0003  lr: 0.001010  max_mem: 7256M\n",
      "\u001b[32m[04/06 19:33:16 d2.utils.events]: \u001b[0m eta: 2:26:05  iter: 3479  total_loss: 1.021  loss_cls: 0.202  loss_box_reg: 0.328  loss_mask: 0.243  loss_rpn_cls: 0.032  loss_rpn_loc: 0.134  time: 0.3727  data_time: 0.0003  lr: 0.001015  max_mem: 7256M\n",
      "\u001b[32m[04/06 19:33:24 d2.utils.events]: \u001b[0m eta: 2:26:02  iter: 3499  total_loss: 0.984  loss_cls: 0.161  loss_box_reg: 0.320  loss_mask: 0.240  loss_rpn_cls: 0.029  loss_rpn_loc: 0.141  time: 0.3727  data_time: 0.0003  lr: 0.001021  max_mem: 7256M\n",
      "\u001b[32m[04/06 19:33:31 d2.utils.events]: \u001b[0m eta: 2:25:53  iter: 3519  total_loss: 0.730  loss_cls: 0.151  loss_box_reg: 0.246  loss_mask: 0.222  loss_rpn_cls: 0.023  loss_rpn_loc: 0.128  time: 0.3726  data_time: 0.0002  lr: 0.001026  max_mem: 7256M\n",
      "\u001b[32m[04/06 19:33:38 d2.utils.events]: \u001b[0m eta: 2:25:46  iter: 3539  total_loss: 1.002  loss_cls: 0.183  loss_box_reg: 0.324  loss_mask: 0.222  loss_rpn_cls: 0.039  loss_rpn_loc: 0.084  time: 0.3726  data_time: 0.0002  lr: 0.001031  max_mem: 7256M\n",
      "\u001b[32m[04/06 19:33:46 d2.utils.events]: \u001b[0m eta: 2:25:42  iter: 3559  total_loss: 0.752  loss_cls: 0.150  loss_box_reg: 0.274  loss_mask: 0.231  loss_rpn_cls: 0.022  loss_rpn_loc: 0.098  time: 0.3726  data_time: 0.0003  lr: 0.001037  max_mem: 7256M\n",
      "\u001b[32m[04/06 19:33:54 d2.utils.events]: \u001b[0m eta: 2:25:25  iter: 3579  total_loss: 0.944  loss_cls: 0.172  loss_box_reg: 0.314  loss_mask: 0.247  loss_rpn_cls: 0.024  loss_rpn_loc: 0.081  time: 0.3727  data_time: 0.0003  lr: 0.001042  max_mem: 7256M\n",
      "\u001b[32m[04/06 19:34:01 d2.utils.events]: \u001b[0m eta: 2:25:08  iter: 3599  total_loss: 1.129  loss_cls: 0.222  loss_box_reg: 0.377  loss_mask: 0.289  loss_rpn_cls: 0.027  loss_rpn_loc: 0.155  time: 0.3727  data_time: 0.0003  lr: 0.001047  max_mem: 7256M\n",
      "\u001b[32m[04/06 19:34:08 d2.utils.events]: \u001b[0m eta: 2:24:58  iter: 3619  total_loss: 0.797  loss_cls: 0.161  loss_box_reg: 0.305  loss_mask: 0.242  loss_rpn_cls: 0.027  loss_rpn_loc: 0.107  time: 0.3726  data_time: 0.0002  lr: 0.001053  max_mem: 7256M\n",
      "\u001b[32m[04/06 19:34:16 d2.utils.events]: \u001b[0m eta: 2:24:51  iter: 3639  total_loss: 0.828  loss_cls: 0.177  loss_box_reg: 0.240  loss_mask: 0.215  loss_rpn_cls: 0.033  loss_rpn_loc: 0.143  time: 0.3726  data_time: 0.0003  lr: 0.001058  max_mem: 7256M\n",
      "\u001b[32m[04/06 19:34:23 d2.utils.events]: \u001b[0m eta: 2:24:42  iter: 3659  total_loss: 1.037  loss_cls: 0.208  loss_box_reg: 0.333  loss_mask: 0.274  loss_rpn_cls: 0.042  loss_rpn_loc: 0.137  time: 0.3725  data_time: 0.0003  lr: 0.001063  max_mem: 7256M\n",
      "\u001b[32m[04/06 19:34:30 d2.utils.events]: \u001b[0m eta: 2:24:35  iter: 3679  total_loss: 1.014  loss_cls: 0.207  loss_box_reg: 0.330  loss_mask: 0.248  loss_rpn_cls: 0.034  loss_rpn_loc: 0.138  time: 0.3725  data_time: 0.0003  lr: 0.001068  max_mem: 7256M\n",
      "\u001b[32m[04/06 19:34:38 d2.utils.events]: \u001b[0m eta: 2:24:29  iter: 3699  total_loss: 0.917  loss_cls: 0.193  loss_box_reg: 0.284  loss_mask: 0.205  loss_rpn_cls: 0.028  loss_rpn_loc: 0.121  time: 0.3725  data_time: 0.0003  lr: 0.001074  max_mem: 7256M\n",
      "\u001b[32m[04/06 19:34:45 d2.utils.events]: \u001b[0m eta: 2:24:19  iter: 3719  total_loss: 0.701  loss_cls: 0.142  loss_box_reg: 0.268  loss_mask: 0.201  loss_rpn_cls: 0.016  loss_rpn_loc: 0.093  time: 0.3725  data_time: 0.0002  lr: 0.001079  max_mem: 7256M\n",
      "\u001b[32m[04/06 19:34:53 d2.utils.events]: \u001b[0m eta: 2:24:11  iter: 3739  total_loss: 0.939  loss_cls: 0.178  loss_box_reg: 0.313  loss_mask: 0.229  loss_rpn_cls: 0.032  loss_rpn_loc: 0.128  time: 0.3725  data_time: 0.0003  lr: 0.001084  max_mem: 7256M\n",
      "\u001b[32m[04/06 19:35:00 d2.utils.events]: \u001b[0m eta: 2:24:06  iter: 3759  total_loss: 0.983  loss_cls: 0.182  loss_box_reg: 0.346  loss_mask: 0.214  loss_rpn_cls: 0.014  loss_rpn_loc: 0.101  time: 0.3724  data_time: 0.0003  lr: 0.001089  max_mem: 7256M\n",
      "\u001b[32m[04/06 19:35:07 d2.utils.events]: \u001b[0m eta: 2:23:54  iter: 3779  total_loss: 1.032  loss_cls: 0.249  loss_box_reg: 0.366  loss_mask: 0.258  loss_rpn_cls: 0.020  loss_rpn_loc: 0.136  time: 0.3724  data_time: 0.0003  lr: 0.001095  max_mem: 7256M\n",
      "\u001b[32m[04/06 19:35:15 d2.utils.events]: \u001b[0m eta: 2:23:41  iter: 3799  total_loss: 1.072  loss_cls: 0.209  loss_box_reg: 0.338  loss_mask: 0.292  loss_rpn_cls: 0.028  loss_rpn_loc: 0.120  time: 0.3724  data_time: 0.0003  lr: 0.001100  max_mem: 7256M\n",
      "\u001b[32m[04/06 19:35:22 d2.utils.events]: \u001b[0m eta: 2:23:33  iter: 3819  total_loss: 0.998  loss_cls: 0.194  loss_box_reg: 0.338  loss_mask: 0.243  loss_rpn_cls: 0.027  loss_rpn_loc: 0.142  time: 0.3723  data_time: 0.0003  lr: 0.001105  max_mem: 7256M\n",
      "\u001b[32m[04/06 19:35:29 d2.utils.events]: \u001b[0m eta: 2:23:22  iter: 3839  total_loss: 0.917  loss_cls: 0.187  loss_box_reg: 0.303  loss_mask: 0.213  loss_rpn_cls: 0.025  loss_rpn_loc: 0.110  time: 0.3723  data_time: 0.0002  lr: 0.001110  max_mem: 7256M\n",
      "\u001b[32m[04/06 19:35:36 d2.utils.events]: \u001b[0m eta: 2:23:18  iter: 3859  total_loss: 0.707  loss_cls: 0.157  loss_box_reg: 0.249  loss_mask: 0.186  loss_rpn_cls: 0.026  loss_rpn_loc: 0.090  time: 0.3722  data_time: 0.0002  lr: 0.001115  max_mem: 7256M\n",
      "\u001b[32m[04/06 19:35:44 d2.utils.events]: \u001b[0m eta: 2:23:17  iter: 3879  total_loss: 0.855  loss_cls: 0.140  loss_box_reg: 0.303  loss_mask: 0.224  loss_rpn_cls: 0.031  loss_rpn_loc: 0.118  time: 0.3723  data_time: 0.0002  lr: 0.001121  max_mem: 7256M\n",
      "\u001b[32m[04/06 19:35:51 d2.utils.events]: \u001b[0m eta: 2:23:10  iter: 3899  total_loss: 0.634  loss_cls: 0.132  loss_box_reg: 0.237  loss_mask: 0.214  loss_rpn_cls: 0.027  loss_rpn_loc: 0.111  time: 0.3722  data_time: 0.0003  lr: 0.001126  max_mem: 7256M\n",
      "\u001b[32m[04/06 19:35:58 d2.utils.events]: \u001b[0m eta: 2:23:01  iter: 3919  total_loss: 0.623  loss_cls: 0.130  loss_box_reg: 0.212  loss_mask: 0.192  loss_rpn_cls: 0.018  loss_rpn_loc: 0.098  time: 0.3722  data_time: 0.0003  lr: 0.001131  max_mem: 7256M\n",
      "\u001b[32m[04/06 19:36:06 d2.utils.events]: \u001b[0m eta: 2:22:55  iter: 3939  total_loss: 1.169  loss_cls: 0.177  loss_box_reg: 0.269  loss_mask: 0.272  loss_rpn_cls: 0.023  loss_rpn_loc: 0.111  time: 0.3722  data_time: 0.0003  lr: 0.001136  max_mem: 7256M\n",
      "\u001b[32m[04/06 19:36:13 d2.utils.events]: \u001b[0m eta: 2:22:38  iter: 3959  total_loss: 0.912  loss_cls: 0.164  loss_box_reg: 0.312  loss_mask: 0.258  loss_rpn_cls: 0.026  loss_rpn_loc: 0.133  time: 0.3721  data_time: 0.0003  lr: 0.001141  max_mem: 7256M\n"
     ]
    },
    {
     "name": "stdout",
     "output_type": "stream",
     "text": [
      "\u001b[32m[04/06 19:36:21 d2.utils.events]: \u001b[0m eta: 2:22:31  iter: 3979  total_loss: 0.935  loss_cls: 0.148  loss_box_reg: 0.266  loss_mask: 0.228  loss_rpn_cls: 0.035  loss_rpn_loc: 0.125  time: 0.3721  data_time: 0.0003  lr: 0.001147  max_mem: 7256M\n",
      "\u001b[32m[04/06 19:36:28 d2.utils.events]: \u001b[0m eta: 2:22:22  iter: 3999  total_loss: 0.786  loss_cls: 0.130  loss_box_reg: 0.279  loss_mask: 0.238  loss_rpn_cls: 0.022  loss_rpn_loc: 0.079  time: 0.3721  data_time: 0.0002  lr: 0.001152  max_mem: 7256M\n",
      "\u001b[32m[04/06 19:36:36 d2.utils.events]: \u001b[0m eta: 2:22:17  iter: 4019  total_loss: 0.900  loss_cls: 0.207  loss_box_reg: 0.277  loss_mask: 0.221  loss_rpn_cls: 0.023  loss_rpn_loc: 0.109  time: 0.3721  data_time: 0.0003  lr: 0.001157  max_mem: 7256M\n",
      "\u001b[32m[04/06 19:36:43 d2.utils.events]: \u001b[0m eta: 2:22:04  iter: 4039  total_loss: 0.748  loss_cls: 0.141  loss_box_reg: 0.275  loss_mask: 0.225  loss_rpn_cls: 0.027  loss_rpn_loc: 0.101  time: 0.3721  data_time: 0.0002  lr: 0.001162  max_mem: 7256M\n",
      "\u001b[32m[04/06 19:36:51 d2.utils.events]: \u001b[0m eta: 2:22:13  iter: 4059  total_loss: 0.917  loss_cls: 0.184  loss_box_reg: 0.304  loss_mask: 0.252  loss_rpn_cls: 0.033  loss_rpn_loc: 0.115  time: 0.3721  data_time: 0.0003  lr: 0.001167  max_mem: 7256M\n",
      "\u001b[32m[04/06 19:36:58 d2.utils.events]: \u001b[0m eta: 2:22:05  iter: 4079  total_loss: 0.931  loss_cls: 0.169  loss_box_reg: 0.257  loss_mask: 0.257  loss_rpn_cls: 0.029  loss_rpn_loc: 0.143  time: 0.3721  data_time: 0.0003  lr: 0.001172  max_mem: 7256M\n",
      "\u001b[32m[04/06 19:37:06 d2.utils.events]: \u001b[0m eta: 2:21:58  iter: 4099  total_loss: 0.956  loss_cls: 0.162  loss_box_reg: 0.322  loss_mask: 0.279  loss_rpn_cls: 0.028  loss_rpn_loc: 0.126  time: 0.3721  data_time: 0.0003  lr: 0.001177  max_mem: 7256M\n",
      "\u001b[32m[04/06 19:37:13 d2.utils.events]: \u001b[0m eta: 2:21:46  iter: 4119  total_loss: 0.652  loss_cls: 0.153  loss_box_reg: 0.242  loss_mask: 0.186  loss_rpn_cls: 0.013  loss_rpn_loc: 0.105  time: 0.3721  data_time: 0.0002  lr: 0.001182  max_mem: 7256M\n",
      "\u001b[32m[04/06 19:37:20 d2.utils.events]: \u001b[0m eta: 2:21:44  iter: 4139  total_loss: 1.034  loss_cls: 0.172  loss_box_reg: 0.306  loss_mask: 0.249  loss_rpn_cls: 0.032  loss_rpn_loc: 0.104  time: 0.3720  data_time: 0.0003  lr: 0.001187  max_mem: 7256M\n",
      "\u001b[32m[04/06 19:37:28 d2.utils.events]: \u001b[0m eta: 2:21:36  iter: 4159  total_loss: 1.056  loss_cls: 0.191  loss_box_reg: 0.343  loss_mask: 0.225  loss_rpn_cls: 0.026  loss_rpn_loc: 0.150  time: 0.3721  data_time: 0.0003  lr: 0.001192  max_mem: 7256M\n",
      "\u001b[32m[04/06 19:37:35 d2.utils.events]: \u001b[0m eta: 2:21:29  iter: 4179  total_loss: 1.011  loss_cls: 0.173  loss_box_reg: 0.315  loss_mask: 0.259  loss_rpn_cls: 0.036  loss_rpn_loc: 0.110  time: 0.3721  data_time: 0.0003  lr: 0.001197  max_mem: 7256M\n",
      "\u001b[32m[04/06 19:37:43 d2.utils.events]: \u001b[0m eta: 2:21:27  iter: 4199  total_loss: 0.785  loss_cls: 0.151  loss_box_reg: 0.283  loss_mask: 0.246  loss_rpn_cls: 0.024  loss_rpn_loc: 0.099  time: 0.3721  data_time: 0.0003  lr: 0.001203  max_mem: 7256M\n",
      "\u001b[32m[04/06 19:37:50 d2.utils.events]: \u001b[0m eta: 2:21:26  iter: 4219  total_loss: 0.846  loss_cls: 0.174  loss_box_reg: 0.255  loss_mask: 0.245  loss_rpn_cls: 0.018  loss_rpn_loc: 0.149  time: 0.3721  data_time: 0.0003  lr: 0.001208  max_mem: 7256M\n",
      "\u001b[32m[04/06 19:37:58 d2.utils.events]: \u001b[0m eta: 2:21:25  iter: 4239  total_loss: 0.864  loss_cls: 0.189  loss_box_reg: 0.301  loss_mask: 0.207  loss_rpn_cls: 0.030  loss_rpn_loc: 0.137  time: 0.3721  data_time: 0.0003  lr: 0.001213  max_mem: 7256M\n",
      "\u001b[32m[04/06 19:38:05 d2.utils.events]: \u001b[0m eta: 2:21:29  iter: 4259  total_loss: 1.059  loss_cls: 0.190  loss_box_reg: 0.359  loss_mask: 0.279  loss_rpn_cls: 0.034  loss_rpn_loc: 0.144  time: 0.3721  data_time: 0.0002  lr: 0.001218  max_mem: 7256M\n",
      "\u001b[32m[04/06 19:38:13 d2.utils.events]: \u001b[0m eta: 2:21:21  iter: 4279  total_loss: 1.014  loss_cls: 0.230  loss_box_reg: 0.359  loss_mask: 0.269  loss_rpn_cls: 0.035  loss_rpn_loc: 0.145  time: 0.3721  data_time: 0.0003  lr: 0.001223  max_mem: 7256M\n",
      "\u001b[32m[04/06 19:38:20 d2.utils.events]: \u001b[0m eta: 2:21:17  iter: 4299  total_loss: 0.663  loss_cls: 0.121  loss_box_reg: 0.197  loss_mask: 0.185  loss_rpn_cls: 0.016  loss_rpn_loc: 0.111  time: 0.3720  data_time: 0.0002  lr: 0.001228  max_mem: 7256M\n",
      "\u001b[32m[04/06 19:38:27 d2.utils.events]: \u001b[0m eta: 2:21:10  iter: 4319  total_loss: 0.833  loss_cls: 0.181  loss_box_reg: 0.249  loss_mask: 0.214  loss_rpn_cls: 0.024  loss_rpn_loc: 0.130  time: 0.3720  data_time: 0.0003  lr: 0.001233  max_mem: 7256M\n",
      "\u001b[32m[04/06 19:38:34 d2.utils.events]: \u001b[0m eta: 2:21:02  iter: 4339  total_loss: 0.918  loss_cls: 0.167  loss_box_reg: 0.340  loss_mask: 0.232  loss_rpn_cls: 0.030  loss_rpn_loc: 0.123  time: 0.3719  data_time: 0.0002  lr: 0.001238  max_mem: 7256M\n",
      "\u001b[32m[04/06 19:38:42 d2.utils.events]: \u001b[0m eta: 2:20:55  iter: 4359  total_loss: 1.074  loss_cls: 0.212  loss_box_reg: 0.366  loss_mask: 0.259  loss_rpn_cls: 0.047  loss_rpn_loc: 0.158  time: 0.3720  data_time: 0.0003  lr: 0.001243  max_mem: 7256M\n",
      "\u001b[32m[04/06 19:38:49 d2.utils.events]: \u001b[0m eta: 2:20:50  iter: 4379  total_loss: 0.901  loss_cls: 0.123  loss_box_reg: 0.316  loss_mask: 0.216  loss_rpn_cls: 0.017  loss_rpn_loc: 0.119  time: 0.3719  data_time: 0.0002  lr: 0.001248  max_mem: 7256M\n",
      "\u001b[32m[04/06 19:38:56 d2.utils.events]: \u001b[0m eta: 2:20:32  iter: 4399  total_loss: 0.694  loss_cls: 0.114  loss_box_reg: 0.266  loss_mask: 0.220  loss_rpn_cls: 0.019  loss_rpn_loc: 0.099  time: 0.3719  data_time: 0.0002  lr: 0.001253  max_mem: 7256M\n",
      "\u001b[32m[04/06 19:39:04 d2.utils.events]: \u001b[0m eta: 2:20:22  iter: 4419  total_loss: 0.844  loss_cls: 0.169  loss_box_reg: 0.318  loss_mask: 0.222  loss_rpn_cls: 0.023  loss_rpn_loc: 0.107  time: 0.3719  data_time: 0.0003  lr: 0.001257  max_mem: 7256M\n",
      "\u001b[32m[04/06 19:39:11 d2.utils.events]: \u001b[0m eta: 2:20:15  iter: 4439  total_loss: 0.864  loss_cls: 0.144  loss_box_reg: 0.288  loss_mask: 0.228  loss_rpn_cls: 0.022  loss_rpn_loc: 0.109  time: 0.3719  data_time: 0.0003  lr: 0.001262  max_mem: 7256M\n",
      "\u001b[32m[04/06 19:39:18 d2.utils.events]: \u001b[0m eta: 2:20:07  iter: 4459  total_loss: 0.877  loss_cls: 0.145  loss_box_reg: 0.243  loss_mask: 0.245  loss_rpn_cls: 0.027  loss_rpn_loc: 0.108  time: 0.3718  data_time: 0.0002  lr: 0.001267  max_mem: 7256M\n",
      "\u001b[32m[04/06 19:39:26 d2.utils.events]: \u001b[0m eta: 2:19:53  iter: 4479  total_loss: 0.744  loss_cls: 0.138  loss_box_reg: 0.278  loss_mask: 0.198  loss_rpn_cls: 0.012  loss_rpn_loc: 0.060  time: 0.3718  data_time: 0.0003  lr: 0.001272  max_mem: 7256M\n",
      "\u001b[32m[04/06 19:39:33 d2.utils.events]: \u001b[0m eta: 2:19:44  iter: 4499  total_loss: 0.747  loss_cls: 0.139  loss_box_reg: 0.277  loss_mask: 0.194  loss_rpn_cls: 0.018  loss_rpn_loc: 0.093  time: 0.3718  data_time: 0.0003  lr: 0.001277  max_mem: 7256M\n",
      "\u001b[32m[04/06 19:39:40 d2.utils.events]: \u001b[0m eta: 2:19:38  iter: 4519  total_loss: 0.692  loss_cls: 0.162  loss_box_reg: 0.236  loss_mask: 0.210  loss_rpn_cls: 0.016  loss_rpn_loc: 0.119  time: 0.3718  data_time: 0.0003  lr: 0.001282  max_mem: 7256M\n",
      "\u001b[32m[04/06 19:39:48 d2.utils.events]: \u001b[0m eta: 2:19:15  iter: 4539  total_loss: 0.713  loss_cls: 0.124  loss_box_reg: 0.255  loss_mask: 0.218  loss_rpn_cls: 0.018  loss_rpn_loc: 0.091  time: 0.3717  data_time: 0.0002  lr: 0.001287  max_mem: 7256M\n",
      "\u001b[32m[04/06 19:39:55 d2.utils.events]: \u001b[0m eta: 2:19:05  iter: 4559  total_loss: 0.746  loss_cls: 0.130  loss_box_reg: 0.248  loss_mask: 0.233  loss_rpn_cls: 0.018  loss_rpn_loc: 0.107  time: 0.3717  data_time: 0.0003  lr: 0.001292  max_mem: 7256M\n",
      "\u001b[32m[04/06 19:40:03 d2.utils.events]: \u001b[0m eta: 2:19:03  iter: 4579  total_loss: 0.741  loss_cls: 0.170  loss_box_reg: 0.243  loss_mask: 0.177  loss_rpn_cls: 0.026  loss_rpn_loc: 0.088  time: 0.3717  data_time: 0.0003  lr: 0.001297  max_mem: 7256M\n",
      "\u001b[32m[04/06 19:40:10 d2.utils.events]: \u001b[0m eta: 2:18:49  iter: 4599  total_loss: 0.845  loss_cls: 0.177  loss_box_reg: 0.253  loss_mask: 0.236  loss_rpn_cls: 0.018  loss_rpn_loc: 0.104  time: 0.3717  data_time: 0.0002  lr: 0.001301  max_mem: 7256M\n",
      "\u001b[32m[04/06 19:40:18 d2.utils.events]: \u001b[0m eta: 2:18:45  iter: 4619  total_loss: 1.084  loss_cls: 0.237  loss_box_reg: 0.349  loss_mask: 0.284  loss_rpn_cls: 0.050  loss_rpn_loc: 0.143  time: 0.3719  data_time: 0.0003  lr: 0.001306  max_mem: 7824M\n"
     ]
    },
    {
     "name": "stdout",
     "output_type": "stream",
     "text": [
      "\u001b[32m[04/06 19:40:26 d2.utils.events]: \u001b[0m eta: 2:18:49  iter: 4639  total_loss: 1.219  loss_cls: 0.260  loss_box_reg: 0.423  loss_mask: 0.307  loss_rpn_cls: 0.074  loss_rpn_loc: 0.143  time: 0.3719  data_time: 0.0003  lr: 0.001311  max_mem: 7824M\n",
      "\u001b[32m[04/06 19:40:33 d2.utils.events]: \u001b[0m eta: 2:18:47  iter: 4659  total_loss: 1.113  loss_cls: 0.217  loss_box_reg: 0.353  loss_mask: 0.278  loss_rpn_cls: 0.036  loss_rpn_loc: 0.155  time: 0.3719  data_time: 0.0003  lr: 0.001316  max_mem: 7824M\n",
      "\u001b[32m[04/06 19:40:40 d2.utils.events]: \u001b[0m eta: 2:18:38  iter: 4679  total_loss: 1.024  loss_cls: 0.210  loss_box_reg: 0.325  loss_mask: 0.256  loss_rpn_cls: 0.052  loss_rpn_loc: 0.108  time: 0.3718  data_time: 0.0003  lr: 0.001321  max_mem: 7824M\n",
      "\u001b[32m[04/06 19:40:48 d2.utils.events]: \u001b[0m eta: 2:18:27  iter: 4699  total_loss: 0.945  loss_cls: 0.190  loss_box_reg: 0.336  loss_mask: 0.245  loss_rpn_cls: 0.017  loss_rpn_loc: 0.116  time: 0.3718  data_time: 0.0003  lr: 0.001326  max_mem: 7824M\n",
      "\u001b[32m[04/06 19:40:55 d2.utils.events]: \u001b[0m eta: 2:18:07  iter: 4719  total_loss: 0.802  loss_cls: 0.178  loss_box_reg: 0.257  loss_mask: 0.216  loss_rpn_cls: 0.037  loss_rpn_loc: 0.111  time: 0.3718  data_time: 0.0003  lr: 0.001330  max_mem: 7824M\n",
      "\u001b[32m[04/06 19:41:02 d2.utils.events]: \u001b[0m eta: 2:17:59  iter: 4739  total_loss: 1.063  loss_cls: 0.162  loss_box_reg: 0.356  loss_mask: 0.256  loss_rpn_cls: 0.025  loss_rpn_loc: 0.148  time: 0.3718  data_time: 0.0002  lr: 0.001335  max_mem: 7824M\n",
      "\u001b[32m[04/06 19:41:10 d2.utils.events]: \u001b[0m eta: 2:18:01  iter: 4759  total_loss: 1.059  loss_cls: 0.213  loss_box_reg: 0.365  loss_mask: 0.281  loss_rpn_cls: 0.040  loss_rpn_loc: 0.146  time: 0.3718  data_time: 0.0003  lr: 0.001340  max_mem: 7824M\n",
      "\u001b[32m[04/06 19:41:17 d2.utils.events]: \u001b[0m eta: 2:17:51  iter: 4779  total_loss: 0.923  loss_cls: 0.185  loss_box_reg: 0.346  loss_mask: 0.238  loss_rpn_cls: 0.037  loss_rpn_loc: 0.103  time: 0.3717  data_time: 0.0003  lr: 0.001345  max_mem: 7824M\n",
      "\u001b[32m[04/06 19:41:25 d2.utils.events]: \u001b[0m eta: 2:17:44  iter: 4799  total_loss: 0.614  loss_cls: 0.111  loss_box_reg: 0.225  loss_mask: 0.155  loss_rpn_cls: 0.013  loss_rpn_loc: 0.077  time: 0.3717  data_time: 0.0003  lr: 0.001349  max_mem: 7824M\n",
      "\u001b[32m[04/06 19:41:32 d2.utils.events]: \u001b[0m eta: 2:17:33  iter: 4819  total_loss: 0.915  loss_cls: 0.174  loss_box_reg: 0.346  loss_mask: 0.257  loss_rpn_cls: 0.032  loss_rpn_loc: 0.135  time: 0.3717  data_time: 0.0002  lr: 0.001354  max_mem: 7824M\n",
      "\u001b[32m[04/06 19:41:39 d2.utils.events]: \u001b[0m eta: 2:17:23  iter: 4839  total_loss: 0.952  loss_cls: 0.171  loss_box_reg: 0.275  loss_mask: 0.255  loss_rpn_cls: 0.039  loss_rpn_loc: 0.143  time: 0.3716  data_time: 0.0003  lr: 0.001359  max_mem: 7824M\n",
      "\u001b[32m[04/06 19:41:47 d2.utils.events]: \u001b[0m eta: 2:17:22  iter: 4859  total_loss: 0.814  loss_cls: 0.147  loss_box_reg: 0.270  loss_mask: 0.226  loss_rpn_cls: 0.014  loss_rpn_loc: 0.081  time: 0.3717  data_time: 0.0003  lr: 0.001364  max_mem: 7824M\n",
      "\u001b[32m[04/06 19:41:54 d2.utils.events]: \u001b[0m eta: 2:17:04  iter: 4879  total_loss: 0.586  loss_cls: 0.128  loss_box_reg: 0.228  loss_mask: 0.167  loss_rpn_cls: 0.015  loss_rpn_loc: 0.086  time: 0.3717  data_time: 0.0002  lr: 0.001368  max_mem: 7824M\n",
      "\u001b[32m[04/06 19:42:02 d2.utils.events]: \u001b[0m eta: 2:17:04  iter: 4899  total_loss: 1.012  loss_cls: 0.208  loss_box_reg: 0.350  loss_mask: 0.262  loss_rpn_cls: 0.035  loss_rpn_loc: 0.107  time: 0.3717  data_time: 0.0003  lr: 0.001373  max_mem: 7824M\n",
      "\u001b[32m[04/06 19:42:09 d2.utils.events]: \u001b[0m eta: 2:16:53  iter: 4919  total_loss: 0.898  loss_cls: 0.185  loss_box_reg: 0.279  loss_mask: 0.210  loss_rpn_cls: 0.020  loss_rpn_loc: 0.119  time: 0.3717  data_time: 0.0003  lr: 0.001378  max_mem: 7824M\n",
      "\u001b[32m[04/06 19:42:16 d2.utils.events]: \u001b[0m eta: 2:16:47  iter: 4939  total_loss: 0.996  loss_cls: 0.178  loss_box_reg: 0.315  loss_mask: 0.277  loss_rpn_cls: 0.022  loss_rpn_loc: 0.144  time: 0.3717  data_time: 0.0003  lr: 0.001382  max_mem: 7824M\n",
      "\u001b[32m[04/06 19:42:24 d2.utils.events]: \u001b[0m eta: 2:16:44  iter: 4959  total_loss: 0.725  loss_cls: 0.135  loss_box_reg: 0.242  loss_mask: 0.213  loss_rpn_cls: 0.008  loss_rpn_loc: 0.099  time: 0.3717  data_time: 0.0003  lr: 0.001387  max_mem: 7824M\n",
      "\u001b[32m[04/06 19:42:31 d2.utils.events]: \u001b[0m eta: 2:16:31  iter: 4979  total_loss: 1.066  loss_cls: 0.240  loss_box_reg: 0.361  loss_mask: 0.259  loss_rpn_cls: 0.030  loss_rpn_loc: 0.134  time: 0.3716  data_time: 0.0003  lr: 0.001392  max_mem: 7824M\n",
      "\u001b[32m[04/06 19:42:42 d2.utils.events]: \u001b[0m eta: 2:16:19  iter: 4999  total_loss: 0.888  loss_cls: 0.189  loss_box_reg: 0.310  loss_mask: 0.220  loss_rpn_cls: 0.025  loss_rpn_loc: 0.122  time: 0.3716  data_time: 0.0003  lr: 0.001396  max_mem: 7824M\n",
      "\u001b[32m[04/06 19:42:49 d2.utils.events]: \u001b[0m eta: 2:16:11  iter: 5019  total_loss: 0.761  loss_cls: 0.186  loss_box_reg: 0.227  loss_mask: 0.177  loss_rpn_cls: 0.021  loss_rpn_loc: 0.121  time: 0.3716  data_time: 0.0003  lr: 0.001401  max_mem: 7824M\n",
      "\u001b[32m[04/06 19:42:57 d2.utils.events]: \u001b[0m eta: 2:16:05  iter: 5039  total_loss: 0.835  loss_cls: 0.183  loss_box_reg: 0.297  loss_mask: 0.208  loss_rpn_cls: 0.017  loss_rpn_loc: 0.107  time: 0.3716  data_time: 0.0003  lr: 0.001406  max_mem: 7824M\n",
      "\u001b[32m[04/06 19:43:04 d2.utils.events]: \u001b[0m eta: 2:15:49  iter: 5059  total_loss: 0.659  loss_cls: 0.133  loss_box_reg: 0.212  loss_mask: 0.166  loss_rpn_cls: 0.026  loss_rpn_loc: 0.105  time: 0.3716  data_time: 0.0003  lr: 0.001410  max_mem: 7824M\n",
      "\u001b[32m[04/06 19:43:11 d2.utils.events]: \u001b[0m eta: 2:15:30  iter: 5079  total_loss: 0.959  loss_cls: 0.165  loss_box_reg: 0.389  loss_mask: 0.265  loss_rpn_cls: 0.022  loss_rpn_loc: 0.129  time: 0.3715  data_time: 0.0003  lr: 0.001415  max_mem: 7824M\n",
      "\u001b[32m[04/06 19:43:19 d2.utils.events]: \u001b[0m eta: 2:15:25  iter: 5099  total_loss: 1.030  loss_cls: 0.179  loss_box_reg: 0.288  loss_mask: 0.254  loss_rpn_cls: 0.029  loss_rpn_loc: 0.143  time: 0.3715  data_time: 0.0002  lr: 0.001419  max_mem: 7824M\n",
      "\u001b[32m[04/06 19:43:26 d2.utils.events]: \u001b[0m eta: 2:15:21  iter: 5119  total_loss: 0.864  loss_cls: 0.158  loss_box_reg: 0.233  loss_mask: 0.249  loss_rpn_cls: 0.027  loss_rpn_loc: 0.112  time: 0.3714  data_time: 0.0003  lr: 0.001424  max_mem: 7824M\n",
      "\u001b[32m[04/06 19:43:33 d2.utils.events]: \u001b[0m eta: 2:15:14  iter: 5139  total_loss: 1.056  loss_cls: 0.199  loss_box_reg: 0.300  loss_mask: 0.263  loss_rpn_cls: 0.025  loss_rpn_loc: 0.119  time: 0.3714  data_time: 0.0003  lr: 0.001429  max_mem: 7824M\n",
      "\u001b[32m[04/06 19:43:40 d2.utils.events]: \u001b[0m eta: 2:14:59  iter: 5159  total_loss: 0.735  loss_cls: 0.105  loss_box_reg: 0.278  loss_mask: 0.248  loss_rpn_cls: 0.025  loss_rpn_loc: 0.076  time: 0.3714  data_time: 0.0003  lr: 0.001433  max_mem: 7824M\n",
      "\u001b[32m[04/06 19:43:48 d2.utils.events]: \u001b[0m eta: 2:14:56  iter: 5179  total_loss: 0.963  loss_cls: 0.166  loss_box_reg: 0.319  loss_mask: 0.226  loss_rpn_cls: 0.038  loss_rpn_loc: 0.106  time: 0.3714  data_time: 0.0002  lr: 0.001438  max_mem: 7824M\n",
      "\u001b[32m[04/06 19:43:55 d2.utils.events]: \u001b[0m eta: 2:14:49  iter: 5199  total_loss: 0.948  loss_cls: 0.172  loss_box_reg: 0.294  loss_mask: 0.267  loss_rpn_cls: 0.013  loss_rpn_loc: 0.076  time: 0.3714  data_time: 0.0003  lr: 0.001442  max_mem: 7824M\n",
      "\u001b[32m[04/06 19:44:03 d2.utils.events]: \u001b[0m eta: 2:14:35  iter: 5219  total_loss: 1.165  loss_cls: 0.247  loss_box_reg: 0.374  loss_mask: 0.270  loss_rpn_cls: 0.060  loss_rpn_loc: 0.162  time: 0.3714  data_time: 0.0003  lr: 0.001447  max_mem: 7824M\n",
      "\u001b[32m[04/06 19:44:10 d2.utils.events]: \u001b[0m eta: 2:14:30  iter: 5239  total_loss: 0.951  loss_cls: 0.193  loss_box_reg: 0.319  loss_mask: 0.243  loss_rpn_cls: 0.039  loss_rpn_loc: 0.113  time: 0.3714  data_time: 0.0002  lr: 0.001451  max_mem: 7824M\n",
      "\u001b[32m[04/06 19:44:18 d2.utils.events]: \u001b[0m eta: 2:14:25  iter: 5259  total_loss: 1.139  loss_cls: 0.210  loss_box_reg: 0.385  loss_mask: 0.272  loss_rpn_cls: 0.030  loss_rpn_loc: 0.129  time: 0.3714  data_time: 0.0003  lr: 0.001456  max_mem: 7824M\n",
      "\u001b[32m[04/06 19:44:25 d2.utils.events]: \u001b[0m eta: 2:14:19  iter: 5279  total_loss: 0.886  loss_cls: 0.167  loss_box_reg: 0.323  loss_mask: 0.228  loss_rpn_cls: 0.022  loss_rpn_loc: 0.129  time: 0.3714  data_time: 0.0003  lr: 0.001460  max_mem: 7824M\n"
     ]
    },
    {
     "name": "stdout",
     "output_type": "stream",
     "text": [
      "\u001b[32m[04/06 19:44:33 d2.utils.events]: \u001b[0m eta: 2:14:12  iter: 5299  total_loss: 0.948  loss_cls: 0.182  loss_box_reg: 0.335  loss_mask: 0.249  loss_rpn_cls: 0.036  loss_rpn_loc: 0.127  time: 0.3715  data_time: 0.0003  lr: 0.001465  max_mem: 7824M\n",
      "\u001b[32m[04/06 19:44:40 d2.utils.events]: \u001b[0m eta: 2:14:05  iter: 5319  total_loss: 0.629  loss_cls: 0.123  loss_box_reg: 0.228  loss_mask: 0.169  loss_rpn_cls: 0.017  loss_rpn_loc: 0.079  time: 0.3714  data_time: 0.0003  lr: 0.001469  max_mem: 7824M\n",
      "\u001b[32m[04/06 19:44:47 d2.utils.events]: \u001b[0m eta: 2:13:58  iter: 5339  total_loss: 1.020  loss_cls: 0.190  loss_box_reg: 0.373  loss_mask: 0.248  loss_rpn_cls: 0.021  loss_rpn_loc: 0.118  time: 0.3714  data_time: 0.0003  lr: 0.001474  max_mem: 7824M\n",
      "\u001b[32m[04/06 19:44:55 d2.utils.events]: \u001b[0m eta: 2:13:49  iter: 5359  total_loss: 0.761  loss_cls: 0.144  loss_box_reg: 0.279  loss_mask: 0.216  loss_rpn_cls: 0.031  loss_rpn_loc: 0.108  time: 0.3714  data_time: 0.0003  lr: 0.001478  max_mem: 7824M\n",
      "\u001b[32m[04/06 19:45:02 d2.utils.events]: \u001b[0m eta: 2:13:45  iter: 5379  total_loss: 0.829  loss_cls: 0.160  loss_box_reg: 0.227  loss_mask: 0.202  loss_rpn_cls: 0.026  loss_rpn_loc: 0.128  time: 0.3714  data_time: 0.0002  lr: 0.001483  max_mem: 7824M\n",
      "\u001b[32m[04/06 19:45:10 d2.utils.events]: \u001b[0m eta: 2:13:48  iter: 5399  total_loss: 0.682  loss_cls: 0.138  loss_box_reg: 0.229  loss_mask: 0.157  loss_rpn_cls: 0.024  loss_rpn_loc: 0.087  time: 0.3714  data_time: 0.0003  lr: 0.001487  max_mem: 7824M\n",
      "\u001b[32m[04/06 19:45:17 d2.utils.events]: \u001b[0m eta: 2:13:41  iter: 5419  total_loss: 1.019  loss_cls: 0.199  loss_box_reg: 0.349  loss_mask: 0.247  loss_rpn_cls: 0.030  loss_rpn_loc: 0.148  time: 0.3714  data_time: 0.0002  lr: 0.001491  max_mem: 7824M\n",
      "\u001b[32m[04/06 19:45:24 d2.utils.events]: \u001b[0m eta: 2:13:30  iter: 5439  total_loss: 0.738  loss_cls: 0.136  loss_box_reg: 0.252  loss_mask: 0.201  loss_rpn_cls: 0.017  loss_rpn_loc: 0.083  time: 0.3713  data_time: 0.0003  lr: 0.001496  max_mem: 7824M\n",
      "\u001b[32m[04/06 19:45:32 d2.utils.events]: \u001b[0m eta: 2:13:30  iter: 5459  total_loss: 0.774  loss_cls: 0.131  loss_box_reg: 0.248  loss_mask: 0.169  loss_rpn_cls: 0.021  loss_rpn_loc: 0.103  time: 0.3714  data_time: 0.0003  lr: 0.001500  max_mem: 7824M\n",
      "\u001b[32m[04/06 19:45:39 d2.utils.events]: \u001b[0m eta: 2:13:25  iter: 5479  total_loss: 0.914  loss_cls: 0.127  loss_box_reg: 0.235  loss_mask: 0.244  loss_rpn_cls: 0.021  loss_rpn_loc: 0.106  time: 0.3714  data_time: 0.0003  lr: 0.001505  max_mem: 7824M\n",
      "\u001b[32m[04/06 19:45:46 d2.utils.events]: \u001b[0m eta: 2:13:17  iter: 5499  total_loss: 0.755  loss_cls: 0.154  loss_box_reg: 0.238  loss_mask: 0.201  loss_rpn_cls: 0.026  loss_rpn_loc: 0.114  time: 0.3713  data_time: 0.0002  lr: 0.001509  max_mem: 7824M\n",
      "\u001b[32m[04/06 19:45:54 d2.utils.events]: \u001b[0m eta: 2:13:20  iter: 5519  total_loss: 1.136  loss_cls: 0.234  loss_box_reg: 0.358  loss_mask: 0.277  loss_rpn_cls: 0.049  loss_rpn_loc: 0.157  time: 0.3714  data_time: 0.0003  lr: 0.001513  max_mem: 7824M\n",
      "\u001b[32m[04/06 19:46:02 d2.utils.events]: \u001b[0m eta: 2:13:20  iter: 5539  total_loss: 0.854  loss_cls: 0.149  loss_box_reg: 0.233  loss_mask: 0.211  loss_rpn_cls: 0.023  loss_rpn_loc: 0.081  time: 0.3714  data_time: 0.0003  lr: 0.001518  max_mem: 7824M\n",
      "\u001b[32m[04/06 19:46:09 d2.utils.events]: \u001b[0m eta: 2:13:09  iter: 5559  total_loss: 0.929  loss_cls: 0.171  loss_box_reg: 0.335  loss_mask: 0.251  loss_rpn_cls: 0.025  loss_rpn_loc: 0.139  time: 0.3714  data_time: 0.0003  lr: 0.001522  max_mem: 7824M\n",
      "\u001b[32m[04/06 19:46:17 d2.utils.events]: \u001b[0m eta: 2:12:58  iter: 5579  total_loss: 0.723  loss_cls: 0.121  loss_box_reg: 0.246  loss_mask: 0.197  loss_rpn_cls: 0.030  loss_rpn_loc: 0.124  time: 0.3714  data_time: 0.0003  lr: 0.001526  max_mem: 7824M\n",
      "\u001b[32m[04/06 19:46:24 d2.utils.events]: \u001b[0m eta: 2:12:52  iter: 5599  total_loss: 0.833  loss_cls: 0.157  loss_box_reg: 0.304  loss_mask: 0.223  loss_rpn_cls: 0.022  loss_rpn_loc: 0.108  time: 0.3713  data_time: 0.0002  lr: 0.001531  max_mem: 7824M\n",
      "\u001b[32m[04/06 19:46:31 d2.utils.events]: \u001b[0m eta: 2:12:41  iter: 5619  total_loss: 1.080  loss_cls: 0.208  loss_box_reg: 0.384  loss_mask: 0.289  loss_rpn_cls: 0.039  loss_rpn_loc: 0.130  time: 0.3713  data_time: 0.0003  lr: 0.001535  max_mem: 7824M\n",
      "\u001b[32m[04/06 19:46:38 d2.utils.events]: \u001b[0m eta: 2:12:22  iter: 5639  total_loss: 0.739  loss_cls: 0.127  loss_box_reg: 0.257  loss_mask: 0.200  loss_rpn_cls: 0.021  loss_rpn_loc: 0.081  time: 0.3712  data_time: 0.0002  lr: 0.001539  max_mem: 7824M\n",
      "\u001b[32m[04/06 19:46:45 d2.utils.events]: \u001b[0m eta: 2:12:13  iter: 5659  total_loss: 0.627  loss_cls: 0.126  loss_box_reg: 0.239  loss_mask: 0.184  loss_rpn_cls: 0.011  loss_rpn_loc: 0.063  time: 0.3712  data_time: 0.0002  lr: 0.001543  max_mem: 7824M\n",
      "\u001b[32m[04/06 19:46:53 d2.utils.events]: \u001b[0m eta: 2:12:07  iter: 5679  total_loss: 0.939  loss_cls: 0.173  loss_box_reg: 0.320  loss_mask: 0.236  loss_rpn_cls: 0.019  loss_rpn_loc: 0.119  time: 0.3712  data_time: 0.0003  lr: 0.001548  max_mem: 7824M\n",
      "\u001b[32m[04/06 19:47:00 d2.utils.events]: \u001b[0m eta: 2:11:59  iter: 5699  total_loss: 0.868  loss_cls: 0.131  loss_box_reg: 0.308  loss_mask: 0.244  loss_rpn_cls: 0.026  loss_rpn_loc: 0.100  time: 0.3712  data_time: 0.0002  lr: 0.001552  max_mem: 7824M\n",
      "\u001b[32m[04/06 19:47:08 d2.utils.events]: \u001b[0m eta: 2:11:58  iter: 5719  total_loss: 0.882  loss_cls: 0.149  loss_box_reg: 0.314  loss_mask: 0.235  loss_rpn_cls: 0.020  loss_rpn_loc: 0.115  time: 0.3712  data_time: 0.0002  lr: 0.001556  max_mem: 7824M\n",
      "\u001b[32m[04/06 19:47:15 d2.utils.events]: \u001b[0m eta: 2:11:52  iter: 5739  total_loss: 0.700  loss_cls: 0.109  loss_box_reg: 0.239  loss_mask: 0.220  loss_rpn_cls: 0.009  loss_rpn_loc: 0.083  time: 0.3712  data_time: 0.0002  lr: 0.001560  max_mem: 7824M\n",
      "\u001b[32m[04/06 19:47:23 d2.utils.events]: \u001b[0m eta: 2:11:45  iter: 5759  total_loss: 1.198  loss_cls: 0.254  loss_box_reg: 0.404  loss_mask: 0.293  loss_rpn_cls: 0.036  loss_rpn_loc: 0.147  time: 0.3712  data_time: 0.0003  lr: 0.001565  max_mem: 7824M\n",
      "\u001b[32m[04/06 19:47:30 d2.utils.events]: \u001b[0m eta: 2:11:45  iter: 5779  total_loss: 0.708  loss_cls: 0.136  loss_box_reg: 0.269  loss_mask: 0.218  loss_rpn_cls: 0.024  loss_rpn_loc: 0.111  time: 0.3712  data_time: 0.0003  lr: 0.001569  max_mem: 7824M\n",
      "\u001b[32m[04/06 19:47:37 d2.utils.events]: \u001b[0m eta: 2:11:34  iter: 5799  total_loss: 1.046  loss_cls: 0.244  loss_box_reg: 0.363  loss_mask: 0.242  loss_rpn_cls: 0.026  loss_rpn_loc: 0.161  time: 0.3711  data_time: 0.0002  lr: 0.001573  max_mem: 7824M\n",
      "\u001b[32m[04/06 19:47:45 d2.utils.events]: \u001b[0m eta: 2:11:33  iter: 5819  total_loss: 0.935  loss_cls: 0.136  loss_box_reg: 0.245  loss_mask: 0.248  loss_rpn_cls: 0.029  loss_rpn_loc: 0.116  time: 0.3712  data_time: 0.0002  lr: 0.001577  max_mem: 7824M\n",
      "\u001b[32m[04/06 19:47:52 d2.utils.events]: \u001b[0m eta: 2:11:24  iter: 5839  total_loss: 0.887  loss_cls: 0.131  loss_box_reg: 0.289  loss_mask: 0.247  loss_rpn_cls: 0.014  loss_rpn_loc: 0.111  time: 0.3711  data_time: 0.0003  lr: 0.001581  max_mem: 7824M\n",
      "\u001b[32m[04/06 19:47:59 d2.utils.events]: \u001b[0m eta: 2:11:16  iter: 5859  total_loss: 0.880  loss_cls: 0.180  loss_box_reg: 0.285  loss_mask: 0.229  loss_rpn_cls: 0.028  loss_rpn_loc: 0.131  time: 0.3711  data_time: 0.0003  lr: 0.001585  max_mem: 7824M\n",
      "\u001b[32m[04/06 19:48:07 d2.utils.events]: \u001b[0m eta: 2:11:10  iter: 5879  total_loss: 0.785  loss_cls: 0.149  loss_box_reg: 0.232  loss_mask: 0.185  loss_rpn_cls: 0.019  loss_rpn_loc: 0.094  time: 0.3711  data_time: 0.0002  lr: 0.001590  max_mem: 7824M\n",
      "\u001b[32m[04/06 19:48:14 d2.utils.events]: \u001b[0m eta: 2:11:03  iter: 5899  total_loss: 0.940  loss_cls: 0.208  loss_box_reg: 0.336  loss_mask: 0.262  loss_rpn_cls: 0.031  loss_rpn_loc: 0.170  time: 0.3711  data_time: 0.0003  lr: 0.001594  max_mem: 7824M\n",
      "\u001b[32m[04/06 19:48:21 d2.utils.events]: \u001b[0m eta: 2:10:59  iter: 5919  total_loss: 0.806  loss_cls: 0.180  loss_box_reg: 0.296  loss_mask: 0.211  loss_rpn_cls: 0.020  loss_rpn_loc: 0.099  time: 0.3711  data_time: 0.0002  lr: 0.001598  max_mem: 7824M\n",
      "\u001b[32m[04/06 19:48:29 d2.utils.events]: \u001b[0m eta: 2:10:48  iter: 5939  total_loss: 0.643  loss_cls: 0.137  loss_box_reg: 0.255  loss_mask: 0.185  loss_rpn_cls: 0.019  loss_rpn_loc: 0.068  time: 0.3711  data_time: 0.0003  lr: 0.001602  max_mem: 7824M\n"
     ]
    },
    {
     "name": "stdout",
     "output_type": "stream",
     "text": [
      "\u001b[32m[04/06 19:48:36 d2.utils.events]: \u001b[0m eta: 2:10:36  iter: 5959  total_loss: 0.718  loss_cls: 0.144  loss_box_reg: 0.229  loss_mask: 0.210  loss_rpn_cls: 0.016  loss_rpn_loc: 0.098  time: 0.3711  data_time: 0.0003  lr: 0.001606  max_mem: 7824M\n",
      "\u001b[32m[04/06 19:48:43 d2.utils.events]: \u001b[0m eta: 2:10:26  iter: 5979  total_loss: 0.880  loss_cls: 0.170  loss_box_reg: 0.275  loss_mask: 0.255  loss_rpn_cls: 0.023  loss_rpn_loc: 0.122  time: 0.3710  data_time: 0.0003  lr: 0.001610  max_mem: 7824M\n",
      "\u001b[32m[04/06 19:48:51 d2.utils.events]: \u001b[0m eta: 2:10:27  iter: 5999  total_loss: 0.752  loss_cls: 0.159  loss_box_reg: 0.263  loss_mask: 0.193  loss_rpn_cls: 0.014  loss_rpn_loc: 0.117  time: 0.3710  data_time: 0.0003  lr: 0.001614  max_mem: 7824M\n",
      "\u001b[32m[04/06 19:48:59 d2.utils.events]: \u001b[0m eta: 2:10:19  iter: 6019  total_loss: 1.076  loss_cls: 0.207  loss_box_reg: 0.391  loss_mask: 0.261  loss_rpn_cls: 0.031  loss_rpn_loc: 0.120  time: 0.3711  data_time: 0.0003  lr: 0.001618  max_mem: 7824M\n",
      "\u001b[32m[04/06 19:49:06 d2.utils.events]: \u001b[0m eta: 2:10:15  iter: 6039  total_loss: 1.233  loss_cls: 0.221  loss_box_reg: 0.409  loss_mask: 0.308  loss_rpn_cls: 0.028  loss_rpn_loc: 0.132  time: 0.3711  data_time: 0.0003  lr: 0.001622  max_mem: 7824M\n",
      "\u001b[32m[04/06 19:49:13 d2.utils.events]: \u001b[0m eta: 2:10:10  iter: 6059  total_loss: 0.797  loss_cls: 0.187  loss_box_reg: 0.291  loss_mask: 0.220  loss_rpn_cls: 0.028  loss_rpn_loc: 0.153  time: 0.3711  data_time: 0.0003  lr: 0.001626  max_mem: 7824M\n",
      "\u001b[32m[04/06 19:49:21 d2.utils.events]: \u001b[0m eta: 2:10:11  iter: 6079  total_loss: 0.560  loss_cls: 0.112  loss_box_reg: 0.200  loss_mask: 0.162  loss_rpn_cls: 0.010  loss_rpn_loc: 0.085  time: 0.3711  data_time: 0.0003  lr: 0.001630  max_mem: 7824M\n",
      "\u001b[32m[04/06 19:49:28 d2.utils.events]: \u001b[0m eta: 2:10:01  iter: 6099  total_loss: 1.172  loss_cls: 0.198  loss_box_reg: 0.395  loss_mask: 0.286  loss_rpn_cls: 0.047  loss_rpn_loc: 0.143  time: 0.3710  data_time: 0.0003  lr: 0.001634  max_mem: 7824M\n",
      "\u001b[32m[04/06 19:49:35 d2.utils.events]: \u001b[0m eta: 2:09:50  iter: 6119  total_loss: 0.852  loss_cls: 0.159  loss_box_reg: 0.322  loss_mask: 0.261  loss_rpn_cls: 0.033  loss_rpn_loc: 0.130  time: 0.3710  data_time: 0.0002  lr: 0.001638  max_mem: 7824M\n",
      "\u001b[32m[04/06 19:49:43 d2.utils.events]: \u001b[0m eta: 2:09:44  iter: 6139  total_loss: 0.675  loss_cls: 0.158  loss_box_reg: 0.256  loss_mask: 0.213  loss_rpn_cls: 0.017  loss_rpn_loc: 0.118  time: 0.3710  data_time: 0.0002  lr: 0.001642  max_mem: 7824M\n",
      "\u001b[32m[04/06 19:49:50 d2.utils.events]: \u001b[0m eta: 2:09:42  iter: 6159  total_loss: 0.686  loss_cls: 0.148  loss_box_reg: 0.227  loss_mask: 0.183  loss_rpn_cls: 0.010  loss_rpn_loc: 0.089  time: 0.3710  data_time: 0.0003  lr: 0.001646  max_mem: 7824M\n",
      "\u001b[32m[04/06 19:49:58 d2.utils.events]: \u001b[0m eta: 2:09:26  iter: 6179  total_loss: 1.001  loss_cls: 0.195  loss_box_reg: 0.298  loss_mask: 0.279  loss_rpn_cls: 0.015  loss_rpn_loc: 0.115  time: 0.3710  data_time: 0.0003  lr: 0.001650  max_mem: 7824M\n",
      "\u001b[32m[04/06 19:50:05 d2.utils.events]: \u001b[0m eta: 2:09:18  iter: 6199  total_loss: 0.764  loss_cls: 0.114  loss_box_reg: 0.238  loss_mask: 0.215  loss_rpn_cls: 0.008  loss_rpn_loc: 0.077  time: 0.3710  data_time: 0.0002  lr: 0.001654  max_mem: 7824M\n",
      "\u001b[32m[04/06 19:50:12 d2.utils.events]: \u001b[0m eta: 2:09:14  iter: 6219  total_loss: 0.756  loss_cls: 0.182  loss_box_reg: 0.236  loss_mask: 0.243  loss_rpn_cls: 0.021  loss_rpn_loc: 0.103  time: 0.3710  data_time: 0.0003  lr: 0.001658  max_mem: 7824M\n",
      "\u001b[32m[04/06 19:50:20 d2.utils.events]: \u001b[0m eta: 2:09:00  iter: 6239  total_loss: 0.962  loss_cls: 0.178  loss_box_reg: 0.295  loss_mask: 0.263  loss_rpn_cls: 0.022  loss_rpn_loc: 0.164  time: 0.3710  data_time: 0.0002  lr: 0.001662  max_mem: 7824M\n",
      "\u001b[32m[04/06 19:50:27 d2.utils.events]: \u001b[0m eta: 2:08:55  iter: 6259  total_loss: 0.695  loss_cls: 0.135  loss_box_reg: 0.247  loss_mask: 0.201  loss_rpn_cls: 0.019  loss_rpn_loc: 0.109  time: 0.3709  data_time: 0.0003  lr: 0.001666  max_mem: 7824M\n",
      "\u001b[32m[04/06 19:50:34 d2.utils.events]: \u001b[0m eta: 2:08:52  iter: 6279  total_loss: 0.965  loss_cls: 0.212  loss_box_reg: 0.337  loss_mask: 0.233  loss_rpn_cls: 0.035  loss_rpn_loc: 0.117  time: 0.3710  data_time: 0.0003  lr: 0.001670  max_mem: 7824M\n",
      "\u001b[32m[04/06 19:50:42 d2.utils.events]: \u001b[0m eta: 2:08:44  iter: 6299  total_loss: 0.892  loss_cls: 0.194  loss_box_reg: 0.302  loss_mask: 0.258  loss_rpn_cls: 0.020  loss_rpn_loc: 0.115  time: 0.3709  data_time: 0.0002  lr: 0.001674  max_mem: 7824M\n",
      "\u001b[32m[04/06 19:50:49 d2.utils.events]: \u001b[0m eta: 2:08:37  iter: 6319  total_loss: 0.955  loss_cls: 0.190  loss_box_reg: 0.312  loss_mask: 0.253  loss_rpn_cls: 0.028  loss_rpn_loc: 0.137  time: 0.3709  data_time: 0.0003  lr: 0.001677  max_mem: 7824M\n",
      "\u001b[32m[04/06 19:50:56 d2.utils.events]: \u001b[0m eta: 2:08:31  iter: 6339  total_loss: 1.007  loss_cls: 0.179  loss_box_reg: 0.327  loss_mask: 0.279  loss_rpn_cls: 0.034  loss_rpn_loc: 0.142  time: 0.3709  data_time: 0.0003  lr: 0.001681  max_mem: 7824M\n",
      "\u001b[32m[04/06 19:51:04 d2.utils.events]: \u001b[0m eta: 2:08:22  iter: 6359  total_loss: 0.900  loss_cls: 0.170  loss_box_reg: 0.328  loss_mask: 0.218  loss_rpn_cls: 0.058  loss_rpn_loc: 0.153  time: 0.3709  data_time: 0.0003  lr: 0.001685  max_mem: 7824M\n",
      "\u001b[32m[04/06 19:51:11 d2.utils.events]: \u001b[0m eta: 2:08:13  iter: 6379  total_loss: 0.774  loss_cls: 0.156  loss_box_reg: 0.249  loss_mask: 0.215  loss_rpn_cls: 0.023  loss_rpn_loc: 0.115  time: 0.3709  data_time: 0.0002  lr: 0.001689  max_mem: 7824M\n",
      "\u001b[32m[04/06 19:51:18 d2.utils.events]: \u001b[0m eta: 2:08:03  iter: 6399  total_loss: 1.120  loss_cls: 0.244  loss_box_reg: 0.277  loss_mask: 0.295  loss_rpn_cls: 0.032  loss_rpn_loc: 0.143  time: 0.3709  data_time: 0.0003  lr: 0.001693  max_mem: 7824M\n",
      "\u001b[32m[04/06 19:51:26 d2.utils.events]: \u001b[0m eta: 2:07:52  iter: 6419  total_loss: 0.660  loss_cls: 0.115  loss_box_reg: 0.217  loss_mask: 0.184  loss_rpn_cls: 0.023  loss_rpn_loc: 0.074  time: 0.3708  data_time: 0.0003  lr: 0.001697  max_mem: 7824M\n",
      "\u001b[32m[04/06 19:51:33 d2.utils.events]: \u001b[0m eta: 2:07:47  iter: 6439  total_loss: 0.757  loss_cls: 0.122  loss_box_reg: 0.284  loss_mask: 0.202  loss_rpn_cls: 0.016  loss_rpn_loc: 0.078  time: 0.3708  data_time: 0.0002  lr: 0.001700  max_mem: 7824M\n",
      "\u001b[32m[04/06 19:51:40 d2.utils.events]: \u001b[0m eta: 2:07:37  iter: 6459  total_loss: 0.851  loss_cls: 0.151  loss_box_reg: 0.243  loss_mask: 0.233  loss_rpn_cls: 0.033  loss_rpn_loc: 0.106  time: 0.3708  data_time: 0.0003  lr: 0.001704  max_mem: 7824M\n",
      "\u001b[32m[04/06 19:51:47 d2.utils.events]: \u001b[0m eta: 2:07:27  iter: 6479  total_loss: 0.840  loss_cls: 0.116  loss_box_reg: 0.223  loss_mask: 0.216  loss_rpn_cls: 0.021  loss_rpn_loc: 0.106  time: 0.3707  data_time: 0.0002  lr: 0.001708  max_mem: 7824M\n",
      "\u001b[32m[04/06 19:51:55 d2.utils.events]: \u001b[0m eta: 2:07:22  iter: 6499  total_loss: 0.767  loss_cls: 0.132  loss_box_reg: 0.292  loss_mask: 0.207  loss_rpn_cls: 0.018  loss_rpn_loc: 0.124  time: 0.3707  data_time: 0.0003  lr: 0.001712  max_mem: 7824M\n",
      "\u001b[32m[04/06 19:52:02 d2.utils.events]: \u001b[0m eta: 2:07:11  iter: 6519  total_loss: 1.060  loss_cls: 0.206  loss_box_reg: 0.366  loss_mask: 0.232  loss_rpn_cls: 0.037  loss_rpn_loc: 0.150  time: 0.3708  data_time: 0.0002  lr: 0.001715  max_mem: 7824M\n",
      "\u001b[32m[04/06 19:52:10 d2.utils.events]: \u001b[0m eta: 2:06:58  iter: 6539  total_loss: 1.051  loss_cls: 0.218  loss_box_reg: 0.332  loss_mask: 0.293  loss_rpn_cls: 0.030  loss_rpn_loc: 0.129  time: 0.3707  data_time: 0.0003  lr: 0.001719  max_mem: 7824M\n",
      "\u001b[32m[04/06 19:52:17 d2.utils.events]: \u001b[0m eta: 2:06:56  iter: 6559  total_loss: 1.090  loss_cls: 0.137  loss_box_reg: 0.280  loss_mask: 0.299  loss_rpn_cls: 0.030  loss_rpn_loc: 0.104  time: 0.3707  data_time: 0.0002  lr: 0.001723  max_mem: 7824M\n",
      "\u001b[32m[04/06 19:52:25 d2.utils.events]: \u001b[0m eta: 2:06:56  iter: 6579  total_loss: 0.877  loss_cls: 0.174  loss_box_reg: 0.299  loss_mask: 0.236  loss_rpn_cls: 0.022  loss_rpn_loc: 0.126  time: 0.3707  data_time: 0.0003  lr: 0.001726  max_mem: 7824M\n",
      "\u001b[32m[04/06 19:52:32 d2.utils.events]: \u001b[0m eta: 2:06:53  iter: 6599  total_loss: 0.945  loss_cls: 0.181  loss_box_reg: 0.355  loss_mask: 0.259  loss_rpn_cls: 0.031  loss_rpn_loc: 0.151  time: 0.3708  data_time: 0.0003  lr: 0.001730  max_mem: 7824M\n"
     ]
    },
    {
     "name": "stdout",
     "output_type": "stream",
     "text": [
      "\u001b[32m[04/06 19:52:40 d2.utils.events]: \u001b[0m eta: 2:06:46  iter: 6619  total_loss: 0.905  loss_cls: 0.148  loss_box_reg: 0.273  loss_mask: 0.252  loss_rpn_cls: 0.017  loss_rpn_loc: 0.106  time: 0.3708  data_time: 0.0003  lr: 0.001734  max_mem: 7824M\n",
      "\u001b[32m[04/06 19:52:47 d2.utils.events]: \u001b[0m eta: 2:06:53  iter: 6639  total_loss: 0.846  loss_cls: 0.145  loss_box_reg: 0.271  loss_mask: 0.226  loss_rpn_cls: 0.018  loss_rpn_loc: 0.086  time: 0.3708  data_time: 0.0003  lr: 0.001737  max_mem: 7824M\n",
      "\u001b[32m[04/06 19:52:55 d2.utils.events]: \u001b[0m eta: 2:06:45  iter: 6659  total_loss: 0.898  loss_cls: 0.151  loss_box_reg: 0.281  loss_mask: 0.207  loss_rpn_cls: 0.019  loss_rpn_loc: 0.125  time: 0.3708  data_time: 0.0003  lr: 0.001741  max_mem: 7824M\n",
      "\u001b[32m[04/06 19:53:02 d2.utils.events]: \u001b[0m eta: 2:06:34  iter: 6679  total_loss: 0.872  loss_cls: 0.152  loss_box_reg: 0.312  loss_mask: 0.235  loss_rpn_cls: 0.018  loss_rpn_loc: 0.119  time: 0.3708  data_time: 0.0003  lr: 0.001745  max_mem: 7824M\n",
      "\u001b[32m[04/06 19:53:09 d2.utils.events]: \u001b[0m eta: 2:06:30  iter: 6699  total_loss: 0.619  loss_cls: 0.115  loss_box_reg: 0.227  loss_mask: 0.175  loss_rpn_cls: 0.012  loss_rpn_loc: 0.095  time: 0.3708  data_time: 0.0002  lr: 0.001748  max_mem: 7824M\n",
      "\u001b[32m[04/06 19:53:17 d2.utils.events]: \u001b[0m eta: 2:06:19  iter: 6719  total_loss: 0.671  loss_cls: 0.111  loss_box_reg: 0.227  loss_mask: 0.221  loss_rpn_cls: 0.011  loss_rpn_loc: 0.086  time: 0.3708  data_time: 0.0002  lr: 0.001752  max_mem: 7824M\n",
      "\u001b[32m[04/06 19:53:24 d2.utils.events]: \u001b[0m eta: 2:06:06  iter: 6739  total_loss: 0.723  loss_cls: 0.156  loss_box_reg: 0.253  loss_mask: 0.174  loss_rpn_cls: 0.018  loss_rpn_loc: 0.098  time: 0.3707  data_time: 0.0003  lr: 0.001755  max_mem: 7824M\n",
      "\u001b[32m[04/06 19:53:31 d2.utils.events]: \u001b[0m eta: 2:05:57  iter: 6759  total_loss: 0.929  loss_cls: 0.188  loss_box_reg: 0.360  loss_mask: 0.245  loss_rpn_cls: 0.018  loss_rpn_loc: 0.099  time: 0.3707  data_time: 0.0002  lr: 0.001759  max_mem: 7824M\n",
      "\u001b[32m[04/06 19:53:39 d2.utils.events]: \u001b[0m eta: 2:05:48  iter: 6779  total_loss: 0.670  loss_cls: 0.155  loss_box_reg: 0.277  loss_mask: 0.236  loss_rpn_cls: 0.020  loss_rpn_loc: 0.114  time: 0.3707  data_time: 0.0003  lr: 0.001763  max_mem: 7824M\n",
      "\u001b[32m[04/06 19:53:46 d2.utils.events]: \u001b[0m eta: 2:05:39  iter: 6799  total_loss: 0.574  loss_cls: 0.116  loss_box_reg: 0.211  loss_mask: 0.182  loss_rpn_cls: 0.015  loss_rpn_loc: 0.092  time: 0.3707  data_time: 0.0003  lr: 0.001766  max_mem: 7824M\n",
      "\u001b[32m[04/06 19:53:53 d2.utils.events]: \u001b[0m eta: 2:05:32  iter: 6819  total_loss: 0.773  loss_cls: 0.180  loss_box_reg: 0.262  loss_mask: 0.204  loss_rpn_cls: 0.029  loss_rpn_loc: 0.122  time: 0.3707  data_time: 0.0003  lr: 0.001770  max_mem: 7824M\n",
      "\u001b[32m[04/06 19:54:01 d2.utils.events]: \u001b[0m eta: 2:05:26  iter: 6839  total_loss: 0.827  loss_cls: 0.172  loss_box_reg: 0.256  loss_mask: 0.184  loss_rpn_cls: 0.024  loss_rpn_loc: 0.124  time: 0.3707  data_time: 0.0003  lr: 0.001773  max_mem: 7824M\n",
      "\u001b[32m[04/06 19:54:08 d2.utils.events]: \u001b[0m eta: 2:05:20  iter: 6859  total_loss: 0.909  loss_cls: 0.165  loss_box_reg: 0.314  loss_mask: 0.228  loss_rpn_cls: 0.025  loss_rpn_loc: 0.120  time: 0.3707  data_time: 0.0003  lr: 0.001777  max_mem: 7824M\n",
      "\u001b[32m[04/06 19:54:15 d2.utils.events]: \u001b[0m eta: 2:05:11  iter: 6879  total_loss: 1.155  loss_cls: 0.214  loss_box_reg: 0.359  loss_mask: 0.262  loss_rpn_cls: 0.031  loss_rpn_loc: 0.173  time: 0.3707  data_time: 0.0003  lr: 0.001780  max_mem: 7824M\n",
      "\u001b[32m[04/06 19:54:23 d2.utils.events]: \u001b[0m eta: 2:05:01  iter: 6899  total_loss: 0.820  loss_cls: 0.144  loss_box_reg: 0.284  loss_mask: 0.237  loss_rpn_cls: 0.026  loss_rpn_loc: 0.102  time: 0.3706  data_time: 0.0002  lr: 0.001784  max_mem: 7824M\n",
      "\u001b[32m[04/06 19:54:30 d2.utils.events]: \u001b[0m eta: 2:04:52  iter: 6919  total_loss: 0.931  loss_cls: 0.192  loss_box_reg: 0.306  loss_mask: 0.245  loss_rpn_cls: 0.026  loss_rpn_loc: 0.131  time: 0.3706  data_time: 0.0003  lr: 0.001787  max_mem: 7824M\n",
      "\u001b[32m[04/06 19:54:37 d2.utils.events]: \u001b[0m eta: 2:04:47  iter: 6939  total_loss: 0.697  loss_cls: 0.147  loss_box_reg: 0.238  loss_mask: 0.194  loss_rpn_cls: 0.018  loss_rpn_loc: 0.096  time: 0.3706  data_time: 0.0002  lr: 0.001791  max_mem: 7824M\n",
      "\u001b[32m[04/06 19:54:44 d2.utils.events]: \u001b[0m eta: 2:04:41  iter: 6959  total_loss: 0.793  loss_cls: 0.160  loss_box_reg: 0.287  loss_mask: 0.219  loss_rpn_cls: 0.019  loss_rpn_loc: 0.101  time: 0.3706  data_time: 0.0003  lr: 0.001794  max_mem: 7824M\n",
      "\u001b[32m[04/06 19:54:52 d2.utils.events]: \u001b[0m eta: 2:04:35  iter: 6979  total_loss: 0.917  loss_cls: 0.158  loss_box_reg: 0.317  loss_mask: 0.289  loss_rpn_cls: 0.016  loss_rpn_loc: 0.105  time: 0.3706  data_time: 0.0003  lr: 0.001797  max_mem: 7824M\n",
      "\u001b[32m[04/06 19:54:59 d2.utils.events]: \u001b[0m eta: 2:04:24  iter: 6999  total_loss: 0.985  loss_cls: 0.180  loss_box_reg: 0.314  loss_mask: 0.248  loss_rpn_cls: 0.019  loss_rpn_loc: 0.107  time: 0.3705  data_time: 0.0003  lr: 0.001801  max_mem: 7824M\n",
      "\u001b[32m[04/06 19:55:07 d2.utils.events]: \u001b[0m eta: 2:04:10  iter: 7019  total_loss: 0.803  loss_cls: 0.155  loss_box_reg: 0.295  loss_mask: 0.224  loss_rpn_cls: 0.029  loss_rpn_loc: 0.115  time: 0.3705  data_time: 0.0003  lr: 0.001804  max_mem: 7824M\n",
      "\u001b[32m[04/06 19:55:14 d2.utils.events]: \u001b[0m eta: 2:03:52  iter: 7039  total_loss: 0.822  loss_cls: 0.143  loss_box_reg: 0.294  loss_mask: 0.224  loss_rpn_cls: 0.018  loss_rpn_loc: 0.095  time: 0.3705  data_time: 0.0003  lr: 0.001808  max_mem: 7824M\n",
      "\u001b[32m[04/06 19:55:21 d2.utils.events]: \u001b[0m eta: 2:03:45  iter: 7059  total_loss: 0.755  loss_cls: 0.135  loss_box_reg: 0.228  loss_mask: 0.209  loss_rpn_cls: 0.013  loss_rpn_loc: 0.110  time: 0.3704  data_time: 0.0002  lr: 0.001811  max_mem: 7824M\n",
      "\u001b[32m[04/06 19:55:28 d2.utils.events]: \u001b[0m eta: 2:03:30  iter: 7079  total_loss: 0.933  loss_cls: 0.162  loss_box_reg: 0.304  loss_mask: 0.237  loss_rpn_cls: 0.018  loss_rpn_loc: 0.108  time: 0.3705  data_time: 0.0003  lr: 0.001814  max_mem: 7824M\n",
      "\u001b[32m[04/06 19:55:36 d2.utils.events]: \u001b[0m eta: 2:03:23  iter: 7099  total_loss: 0.796  loss_cls: 0.163  loss_box_reg: 0.265  loss_mask: 0.238  loss_rpn_cls: 0.025  loss_rpn_loc: 0.097  time: 0.3705  data_time: 0.0003  lr: 0.001818  max_mem: 7824M\n",
      "\u001b[32m[04/06 19:55:43 d2.utils.events]: \u001b[0m eta: 2:03:12  iter: 7119  total_loss: 1.133  loss_cls: 0.235  loss_box_reg: 0.354  loss_mask: 0.271  loss_rpn_cls: 0.050  loss_rpn_loc: 0.159  time: 0.3704  data_time: 0.0003  lr: 0.001821  max_mem: 7824M\n",
      "\u001b[32m[04/06 19:55:50 d2.utils.events]: \u001b[0m eta: 2:03:02  iter: 7139  total_loss: 0.963  loss_cls: 0.171  loss_box_reg: 0.306  loss_mask: 0.237  loss_rpn_cls: 0.028  loss_rpn_loc: 0.144  time: 0.3704  data_time: 0.0003  lr: 0.001824  max_mem: 7824M\n",
      "\u001b[32m[04/06 19:55:58 d2.utils.events]: \u001b[0m eta: 2:02:55  iter: 7159  total_loss: 0.996  loss_cls: 0.199  loss_box_reg: 0.394  loss_mask: 0.282  loss_rpn_cls: 0.019  loss_rpn_loc: 0.124  time: 0.3704  data_time: 0.0003  lr: 0.001828  max_mem: 7824M\n",
      "\u001b[32m[04/06 19:56:05 d2.utils.events]: \u001b[0m eta: 2:02:52  iter: 7179  total_loss: 1.124  loss_cls: 0.221  loss_box_reg: 0.362  loss_mask: 0.263  loss_rpn_cls: 0.088  loss_rpn_loc: 0.186  time: 0.3704  data_time: 0.0003  lr: 0.001831  max_mem: 7824M\n",
      "\u001b[32m[04/06 19:56:13 d2.utils.events]: \u001b[0m eta: 2:02:45  iter: 7199  total_loss: 0.783  loss_cls: 0.154  loss_box_reg: 0.272  loss_mask: 0.235  loss_rpn_cls: 0.017  loss_rpn_loc: 0.103  time: 0.3704  data_time: 0.0003  lr: 0.001834  max_mem: 7824M\n",
      "\u001b[32m[04/06 19:56:20 d2.utils.events]: \u001b[0m eta: 2:02:34  iter: 7219  total_loss: 0.527  loss_cls: 0.096  loss_box_reg: 0.201  loss_mask: 0.171  loss_rpn_cls: 0.007  loss_rpn_loc: 0.057  time: 0.3704  data_time: 0.0003  lr: 0.001837  max_mem: 7824M\n",
      "\u001b[32m[04/06 19:56:27 d2.utils.events]: \u001b[0m eta: 2:02:30  iter: 7239  total_loss: 0.603  loss_cls: 0.117  loss_box_reg: 0.197  loss_mask: 0.179  loss_rpn_cls: 0.017  loss_rpn_loc: 0.065  time: 0.3704  data_time: 0.0002  lr: 0.001841  max_mem: 7824M\n",
      "\u001b[32m[04/06 19:56:35 d2.utils.events]: \u001b[0m eta: 2:02:23  iter: 7259  total_loss: 1.039  loss_cls: 0.205  loss_box_reg: 0.322  loss_mask: 0.252  loss_rpn_cls: 0.039  loss_rpn_loc: 0.159  time: 0.3704  data_time: 0.0003  lr: 0.001844  max_mem: 7824M\n"
     ]
    },
    {
     "name": "stdout",
     "output_type": "stream",
     "text": [
      "\u001b[32m[04/06 19:56:42 d2.utils.events]: \u001b[0m eta: 2:02:08  iter: 7279  total_loss: 1.034  loss_cls: 0.209  loss_box_reg: 0.332  loss_mask: 0.259  loss_rpn_cls: 0.044  loss_rpn_loc: 0.157  time: 0.3704  data_time: 0.0003  lr: 0.001847  max_mem: 7824M\n",
      "\u001b[32m[04/06 19:56:50 d2.utils.events]: \u001b[0m eta: 2:02:01  iter: 7299  total_loss: 0.638  loss_cls: 0.102  loss_box_reg: 0.203  loss_mask: 0.158  loss_rpn_cls: 0.017  loss_rpn_loc: 0.108  time: 0.3704  data_time: 0.0003  lr: 0.001850  max_mem: 7824M\n",
      "\u001b[32m[04/06 19:56:57 d2.utils.events]: \u001b[0m eta: 2:01:57  iter: 7319  total_loss: 0.989  loss_cls: 0.197  loss_box_reg: 0.279  loss_mask: 0.253  loss_rpn_cls: 0.022  loss_rpn_loc: 0.134  time: 0.3704  data_time: 0.0003  lr: 0.001853  max_mem: 7824M\n",
      "\u001b[32m[04/06 19:57:05 d2.utils.events]: \u001b[0m eta: 2:01:54  iter: 7339  total_loss: 0.884  loss_cls: 0.159  loss_box_reg: 0.313  loss_mask: 0.241  loss_rpn_cls: 0.021  loss_rpn_loc: 0.109  time: 0.3705  data_time: 0.0003  lr: 0.001857  max_mem: 7824M\n",
      "\u001b[32m[04/06 19:57:12 d2.utils.events]: \u001b[0m eta: 2:01:43  iter: 7359  total_loss: 0.760  loss_cls: 0.135  loss_box_reg: 0.243  loss_mask: 0.232  loss_rpn_cls: 0.014  loss_rpn_loc: 0.095  time: 0.3705  data_time: 0.0003  lr: 0.001860  max_mem: 7824M\n",
      "\u001b[32m[04/06 19:57:20 d2.utils.events]: \u001b[0m eta: 2:01:44  iter: 7379  total_loss: 0.717  loss_cls: 0.129  loss_box_reg: 0.278  loss_mask: 0.207  loss_rpn_cls: 0.013  loss_rpn_loc: 0.093  time: 0.3705  data_time: 0.0003  lr: 0.001863  max_mem: 7824M\n",
      "\u001b[32m[04/06 19:57:27 d2.utils.events]: \u001b[0m eta: 2:01:43  iter: 7399  total_loss: 1.041  loss_cls: 0.203  loss_box_reg: 0.332  loss_mask: 0.254  loss_rpn_cls: 0.034  loss_rpn_loc: 0.138  time: 0.3705  data_time: 0.0003  lr: 0.001866  max_mem: 7824M\n",
      "\u001b[32m[04/06 19:57:35 d2.utils.events]: \u001b[0m eta: 2:01:48  iter: 7419  total_loss: 1.078  loss_cls: 0.167  loss_box_reg: 0.333  loss_mask: 0.242  loss_rpn_cls: 0.035  loss_rpn_loc: 0.176  time: 0.3705  data_time: 0.0003  lr: 0.001869  max_mem: 7824M\n",
      "\u001b[32m[04/06 19:57:42 d2.utils.events]: \u001b[0m eta: 2:01:34  iter: 7439  total_loss: 0.623  loss_cls: 0.113  loss_box_reg: 0.230  loss_mask: 0.200  loss_rpn_cls: 0.013  loss_rpn_loc: 0.064  time: 0.3705  data_time: 0.0003  lr: 0.001872  max_mem: 7824M\n",
      "\u001b[32m[04/06 19:57:49 d2.utils.events]: \u001b[0m eta: 2:01:33  iter: 7459  total_loss: 0.738  loss_cls: 0.165  loss_box_reg: 0.259  loss_mask: 0.198  loss_rpn_cls: 0.017  loss_rpn_loc: 0.111  time: 0.3704  data_time: 0.0003  lr: 0.001875  max_mem: 7824M\n",
      "\u001b[32m[04/06 19:57:57 d2.utils.events]: \u001b[0m eta: 2:01:23  iter: 7479  total_loss: 0.734  loss_cls: 0.165  loss_box_reg: 0.247  loss_mask: 0.180  loss_rpn_cls: 0.023  loss_rpn_loc: 0.094  time: 0.3704  data_time: 0.0003  lr: 0.001878  max_mem: 7824M\n",
      "\u001b[32m[04/06 19:58:04 d2.utils.events]: \u001b[0m eta: 2:01:19  iter: 7499  total_loss: 0.667  loss_cls: 0.130  loss_box_reg: 0.241  loss_mask: 0.175  loss_rpn_cls: 0.031  loss_rpn_loc: 0.123  time: 0.3704  data_time: 0.0003  lr: 0.001881  max_mem: 7824M\n",
      "\u001b[32m[04/06 19:58:11 d2.utils.events]: \u001b[0m eta: 2:00:58  iter: 7519  total_loss: 1.168  loss_cls: 0.231  loss_box_reg: 0.428  loss_mask: 0.276  loss_rpn_cls: 0.023  loss_rpn_loc: 0.122  time: 0.3704  data_time: 0.0003  lr: 0.001884  max_mem: 7824M\n",
      "\u001b[32m[04/06 19:58:19 d2.utils.events]: \u001b[0m eta: 2:00:55  iter: 7539  total_loss: 0.695  loss_cls: 0.143  loss_box_reg: 0.253  loss_mask: 0.179  loss_rpn_cls: 0.014  loss_rpn_loc: 0.123  time: 0.3704  data_time: 0.0002  lr: 0.001887  max_mem: 7824M\n",
      "\u001b[32m[04/06 19:58:26 d2.utils.events]: \u001b[0m eta: 2:00:40  iter: 7559  total_loss: 0.806  loss_cls: 0.123  loss_box_reg: 0.221  loss_mask: 0.254  loss_rpn_cls: 0.013  loss_rpn_loc: 0.105  time: 0.3704  data_time: 0.0002  lr: 0.001890  max_mem: 7824M\n",
      "\u001b[32m[04/06 19:58:33 d2.utils.events]: \u001b[0m eta: 2:00:27  iter: 7579  total_loss: 1.149  loss_cls: 0.258  loss_box_reg: 0.363  loss_mask: 0.270  loss_rpn_cls: 0.050  loss_rpn_loc: 0.153  time: 0.3704  data_time: 0.0003  lr: 0.001893  max_mem: 7824M\n",
      "\u001b[32m[04/06 19:58:41 d2.utils.events]: \u001b[0m eta: 2:00:20  iter: 7599  total_loss: 0.735  loss_cls: 0.165  loss_box_reg: 0.251  loss_mask: 0.207  loss_rpn_cls: 0.013  loss_rpn_loc: 0.124  time: 0.3704  data_time: 0.0003  lr: 0.001896  max_mem: 7824M\n",
      "\u001b[32m[04/06 19:58:48 d2.utils.events]: \u001b[0m eta: 2:00:10  iter: 7619  total_loss: 1.078  loss_cls: 0.206  loss_box_reg: 0.308  loss_mask: 0.255  loss_rpn_cls: 0.028  loss_rpn_loc: 0.140  time: 0.3704  data_time: 0.0003  lr: 0.001899  max_mem: 7824M\n",
      "\u001b[32m[04/06 19:58:56 d2.utils.events]: \u001b[0m eta: 1:59:58  iter: 7639  total_loss: 0.866  loss_cls: 0.168  loss_box_reg: 0.313  loss_mask: 0.226  loss_rpn_cls: 0.017  loss_rpn_loc: 0.090  time: 0.3704  data_time: 0.0003  lr: 0.001902  max_mem: 7824M\n",
      "\u001b[32m[04/06 19:59:03 d2.utils.events]: \u001b[0m eta: 1:59:51  iter: 7659  total_loss: 0.787  loss_cls: 0.144  loss_box_reg: 0.287  loss_mask: 0.223  loss_rpn_cls: 0.025  loss_rpn_loc: 0.098  time: 0.3704  data_time: 0.0003  lr: 0.001905  max_mem: 7824M\n",
      "\u001b[32m[04/06 19:59:10 d2.utils.events]: \u001b[0m eta: 1:59:48  iter: 7679  total_loss: 0.996  loss_cls: 0.205  loss_box_reg: 0.381  loss_mask: 0.283  loss_rpn_cls: 0.024  loss_rpn_loc: 0.099  time: 0.3704  data_time: 0.0003  lr: 0.001908  max_mem: 7824M\n",
      "\u001b[32m[04/06 19:59:18 d2.utils.events]: \u001b[0m eta: 1:59:39  iter: 7699  total_loss: 0.837  loss_cls: 0.162  loss_box_reg: 0.310  loss_mask: 0.211  loss_rpn_cls: 0.020  loss_rpn_loc: 0.120  time: 0.3704  data_time: 0.0003  lr: 0.001911  max_mem: 7824M\n",
      "\u001b[32m[04/06 19:59:25 d2.utils.events]: \u001b[0m eta: 1:59:32  iter: 7719  total_loss: 0.735  loss_cls: 0.162  loss_box_reg: 0.235  loss_mask: 0.190  loss_rpn_cls: 0.013  loss_rpn_loc: 0.110  time: 0.3703  data_time: 0.0003  lr: 0.001914  max_mem: 7824M\n",
      "\u001b[32m[04/06 19:59:32 d2.utils.events]: \u001b[0m eta: 1:59:22  iter: 7739  total_loss: 0.713  loss_cls: 0.154  loss_box_reg: 0.251  loss_mask: 0.203  loss_rpn_cls: 0.010  loss_rpn_loc: 0.121  time: 0.3703  data_time: 0.0003  lr: 0.001917  max_mem: 7824M\n",
      "\u001b[32m[04/06 19:59:40 d2.utils.events]: \u001b[0m eta: 1:59:15  iter: 7759  total_loss: 0.803  loss_cls: 0.137  loss_box_reg: 0.305  loss_mask: 0.264  loss_rpn_cls: 0.019  loss_rpn_loc: 0.104  time: 0.3703  data_time: 0.0002  lr: 0.001920  max_mem: 7824M\n",
      "\u001b[32m[04/06 19:59:47 d2.utils.events]: \u001b[0m eta: 1:59:08  iter: 7779  total_loss: 0.817  loss_cls: 0.196  loss_box_reg: 0.278  loss_mask: 0.227  loss_rpn_cls: 0.017  loss_rpn_loc: 0.125  time: 0.3703  data_time: 0.0003  lr: 0.001923  max_mem: 7824M\n",
      "\u001b[32m[04/06 19:59:55 d2.utils.events]: \u001b[0m eta: 1:59:07  iter: 7799  total_loss: 0.622  loss_cls: 0.128  loss_box_reg: 0.202  loss_mask: 0.176  loss_rpn_cls: 0.013  loss_rpn_loc: 0.086  time: 0.3703  data_time: 0.0003  lr: 0.001925  max_mem: 7824M\n",
      "\u001b[32m[04/06 20:00:02 d2.utils.events]: \u001b[0m eta: 1:59:06  iter: 7819  total_loss: 0.985  loss_cls: 0.160  loss_box_reg: 0.293  loss_mask: 0.221  loss_rpn_cls: 0.024  loss_rpn_loc: 0.145  time: 0.3703  data_time: 0.0003  lr: 0.001928  max_mem: 7824M\n",
      "\u001b[32m[04/06 20:00:09 d2.utils.events]: \u001b[0m eta: 1:58:58  iter: 7839  total_loss: 0.691  loss_cls: 0.110  loss_box_reg: 0.226  loss_mask: 0.168  loss_rpn_cls: 0.017  loss_rpn_loc: 0.092  time: 0.3703  data_time: 0.0003  lr: 0.001931  max_mem: 7824M\n",
      "\u001b[32m[04/06 20:00:17 d2.utils.events]: \u001b[0m eta: 1:58:40  iter: 7859  total_loss: 1.180  loss_cls: 0.220  loss_box_reg: 0.386  loss_mask: 0.288  loss_rpn_cls: 0.029  loss_rpn_loc: 0.138  time: 0.3703  data_time: 0.0002  lr: 0.001934  max_mem: 7824M\n",
      "\u001b[32m[04/06 20:00:24 d2.utils.events]: \u001b[0m eta: 1:58:35  iter: 7879  total_loss: 0.765  loss_cls: 0.146  loss_box_reg: 0.284  loss_mask: 0.246  loss_rpn_cls: 0.019  loss_rpn_loc: 0.084  time: 0.3703  data_time: 0.0002  lr: 0.001937  max_mem: 7824M\n",
      "\u001b[32m[04/06 20:00:31 d2.utils.events]: \u001b[0m eta: 1:58:35  iter: 7899  total_loss: 0.919  loss_cls: 0.150  loss_box_reg: 0.253  loss_mask: 0.248  loss_rpn_cls: 0.020  loss_rpn_loc: 0.125  time: 0.3703  data_time: 0.0003  lr: 0.001939  max_mem: 7824M\n",
      "\u001b[32m[04/06 20:00:38 d2.utils.events]: \u001b[0m eta: 1:58:22  iter: 7919  total_loss: 0.899  loss_cls: 0.187  loss_box_reg: 0.285  loss_mask: 0.235  loss_rpn_cls: 0.020  loss_rpn_loc: 0.133  time: 0.3702  data_time: 0.0003  lr: 0.001942  max_mem: 7824M\n"
     ]
    },
    {
     "name": "stdout",
     "output_type": "stream",
     "text": [
      "\u001b[32m[04/06 20:00:46 d2.utils.events]: \u001b[0m eta: 1:58:22  iter: 7939  total_loss: 0.708  loss_cls: 0.152  loss_box_reg: 0.260  loss_mask: 0.213  loss_rpn_cls: 0.014  loss_rpn_loc: 0.123  time: 0.3702  data_time: 0.0002  lr: 0.001945  max_mem: 7824M\n",
      "\u001b[32m[04/06 20:00:53 d2.utils.events]: \u001b[0m eta: 1:58:20  iter: 7959  total_loss: 1.189  loss_cls: 0.232  loss_box_reg: 0.375  loss_mask: 0.275  loss_rpn_cls: 0.037  loss_rpn_loc: 0.154  time: 0.3703  data_time: 0.0003  lr: 0.001948  max_mem: 7824M\n",
      "\u001b[32m[04/06 20:01:01 d2.utils.events]: \u001b[0m eta: 1:58:18  iter: 7979  total_loss: 0.740  loss_cls: 0.158  loss_box_reg: 0.281  loss_mask: 0.214  loss_rpn_cls: 0.019  loss_rpn_loc: 0.080  time: 0.3703  data_time: 0.0003  lr: 0.001950  max_mem: 7824M\n",
      "\u001b[32m[04/06 20:01:08 d2.utils.events]: \u001b[0m eta: 1:58:06  iter: 7999  total_loss: 0.768  loss_cls: 0.149  loss_box_reg: 0.314  loss_mask: 0.220  loss_rpn_cls: 0.017  loss_rpn_loc: 0.125  time: 0.3703  data_time: 0.0002  lr: 0.001953  max_mem: 7824M\n",
      "\u001b[32m[04/06 20:01:16 d2.utils.events]: \u001b[0m eta: 1:58:09  iter: 8019  total_loss: 0.826  loss_cls: 0.149  loss_box_reg: 0.287  loss_mask: 0.218  loss_rpn_cls: 0.020  loss_rpn_loc: 0.087  time: 0.3703  data_time: 0.0003  lr: 0.001956  max_mem: 7824M\n",
      "\u001b[32m[04/06 20:01:23 d2.utils.events]: \u001b[0m eta: 1:58:11  iter: 8039  total_loss: 0.771  loss_cls: 0.154  loss_box_reg: 0.297  loss_mask: 0.214  loss_rpn_cls: 0.013  loss_rpn_loc: 0.088  time: 0.3703  data_time: 0.0002  lr: 0.001958  max_mem: 7824M\n",
      "\u001b[32m[04/06 20:01:31 d2.utils.events]: \u001b[0m eta: 1:58:09  iter: 8059  total_loss: 0.886  loss_cls: 0.174  loss_box_reg: 0.275  loss_mask: 0.226  loss_rpn_cls: 0.034  loss_rpn_loc: 0.120  time: 0.3703  data_time: 0.0003  lr: 0.001961  max_mem: 7824M\n",
      "\u001b[32m[04/06 20:01:38 d2.utils.events]: \u001b[0m eta: 1:58:07  iter: 8079  total_loss: 0.705  loss_cls: 0.113  loss_box_reg: 0.270  loss_mask: 0.213  loss_rpn_cls: 0.012  loss_rpn_loc: 0.079  time: 0.3703  data_time: 0.0003  lr: 0.001964  max_mem: 7824M\n",
      "\u001b[32m[04/06 20:01:46 d2.utils.events]: \u001b[0m eta: 1:57:58  iter: 8099  total_loss: 0.715  loss_cls: 0.147  loss_box_reg: 0.260  loss_mask: 0.188  loss_rpn_cls: 0.023  loss_rpn_loc: 0.124  time: 0.3703  data_time: 0.0003  lr: 0.001966  max_mem: 7824M\n",
      "\u001b[32m[04/06 20:01:53 d2.utils.events]: \u001b[0m eta: 1:58:00  iter: 8119  total_loss: 0.679  loss_cls: 0.102  loss_box_reg: 0.223  loss_mask: 0.201  loss_rpn_cls: 0.008  loss_rpn_loc: 0.080  time: 0.3703  data_time: 0.0002  lr: 0.001969  max_mem: 7824M\n",
      "\u001b[32m[04/06 20:02:01 d2.utils.events]: \u001b[0m eta: 1:57:52  iter: 8139  total_loss: 0.825  loss_cls: 0.144  loss_box_reg: 0.245  loss_mask: 0.230  loss_rpn_cls: 0.016  loss_rpn_loc: 0.106  time: 0.3703  data_time: 0.0003  lr: 0.001971  max_mem: 7824M\n",
      "\u001b[32m[04/06 20:02:08 d2.utils.events]: \u001b[0m eta: 1:57:45  iter: 8159  total_loss: 0.869  loss_cls: 0.161  loss_box_reg: 0.300  loss_mask: 0.236  loss_rpn_cls: 0.025  loss_rpn_loc: 0.096  time: 0.3703  data_time: 0.0003  lr: 0.001974  max_mem: 7824M\n",
      "\u001b[32m[04/06 20:02:15 d2.utils.events]: \u001b[0m eta: 1:57:33  iter: 8179  total_loss: 0.707  loss_cls: 0.119  loss_box_reg: 0.241  loss_mask: 0.202  loss_rpn_cls: 0.005  loss_rpn_loc: 0.092  time: 0.3703  data_time: 0.0002  lr: 0.001977  max_mem: 7824M\n",
      "\u001b[32m[04/06 20:02:23 d2.utils.events]: \u001b[0m eta: 1:57:24  iter: 8199  total_loss: 0.947  loss_cls: 0.204  loss_box_reg: 0.261  loss_mask: 0.228  loss_rpn_cls: 0.020  loss_rpn_loc: 0.118  time: 0.3703  data_time: 0.0003  lr: 0.001979  max_mem: 7824M\n",
      "\u001b[32m[04/06 20:02:30 d2.utils.events]: \u001b[0m eta: 1:57:17  iter: 8219  total_loss: 0.811  loss_cls: 0.162  loss_box_reg: 0.290  loss_mask: 0.207  loss_rpn_cls: 0.019  loss_rpn_loc: 0.125  time: 0.3703  data_time: 0.0003  lr: 0.001982  max_mem: 7824M\n",
      "\u001b[32m[04/06 20:02:38 d2.utils.events]: \u001b[0m eta: 1:57:18  iter: 8239  total_loss: 1.069  loss_cls: 0.175  loss_box_reg: 0.330  loss_mask: 0.252  loss_rpn_cls: 0.052  loss_rpn_loc: 0.165  time: 0.3703  data_time: 0.0003  lr: 0.001984  max_mem: 7824M\n",
      "\u001b[32m[04/06 20:02:45 d2.utils.events]: \u001b[0m eta: 1:57:08  iter: 8259  total_loss: 0.748  loss_cls: 0.129  loss_box_reg: 0.279  loss_mask: 0.214  loss_rpn_cls: 0.023  loss_rpn_loc: 0.093  time: 0.3703  data_time: 0.0002  lr: 0.001983  max_mem: 7824M\n",
      "\u001b[32m[04/06 20:02:52 d2.utils.events]: \u001b[0m eta: 1:57:01  iter: 8279  total_loss: 0.750  loss_cls: 0.153  loss_box_reg: 0.235  loss_mask: 0.179  loss_rpn_cls: 0.023  loss_rpn_loc: 0.124  time: 0.3703  data_time: 0.0002  lr: 0.001981  max_mem: 7824M\n",
      "\u001b[32m[04/06 20:03:00 d2.utils.events]: \u001b[0m eta: 1:56:51  iter: 8299  total_loss: 0.718  loss_cls: 0.154  loss_box_reg: 0.242  loss_mask: 0.182  loss_rpn_cls: 0.016  loss_rpn_loc: 0.113  time: 0.3703  data_time: 0.0003  lr: 0.001978  max_mem: 7824M\n",
      "\u001b[32m[04/06 20:03:07 d2.utils.events]: \u001b[0m eta: 1:56:34  iter: 8319  total_loss: 0.907  loss_cls: 0.173  loss_box_reg: 0.317  loss_mask: 0.240  loss_rpn_cls: 0.027  loss_rpn_loc: 0.139  time: 0.3703  data_time: 0.0003  lr: 0.001976  max_mem: 7824M\n",
      "\u001b[32m[04/06 20:03:14 d2.utils.events]: \u001b[0m eta: 1:56:22  iter: 8339  total_loss: 0.651  loss_cls: 0.132  loss_box_reg: 0.248  loss_mask: 0.181  loss_rpn_cls: 0.017  loss_rpn_loc: 0.101  time: 0.3703  data_time: 0.0002  lr: 0.001974  max_mem: 7824M\n",
      "\u001b[32m[04/06 20:03:22 d2.utils.events]: \u001b[0m eta: 1:56:14  iter: 8359  total_loss: 0.622  loss_cls: 0.119  loss_box_reg: 0.203  loss_mask: 0.200  loss_rpn_cls: 0.013  loss_rpn_loc: 0.097  time: 0.3702  data_time: 0.0003  lr: 0.001971  max_mem: 7824M\n",
      "\u001b[32m[04/06 20:03:29 d2.utils.events]: \u001b[0m eta: 1:56:06  iter: 8379  total_loss: 0.941  loss_cls: 0.161  loss_box_reg: 0.348  loss_mask: 0.239  loss_rpn_cls: 0.029  loss_rpn_loc: 0.113  time: 0.3702  data_time: 0.0003  lr: 0.001969  max_mem: 7824M\n",
      "\u001b[32m[04/06 20:03:36 d2.utils.events]: \u001b[0m eta: 1:55:53  iter: 8399  total_loss: 0.916  loss_cls: 0.181  loss_box_reg: 0.312  loss_mask: 0.240  loss_rpn_cls: 0.033  loss_rpn_loc: 0.100  time: 0.3702  data_time: 0.0003  lr: 0.001967  max_mem: 7824M\n",
      "\u001b[32m[04/06 20:03:43 d2.utils.events]: \u001b[0m eta: 1:55:39  iter: 8419  total_loss: 0.988  loss_cls: 0.146  loss_box_reg: 0.238  loss_mask: 0.270  loss_rpn_cls: 0.024  loss_rpn_loc: 0.098  time: 0.3702  data_time: 0.0002  lr: 0.001964  max_mem: 7824M\n",
      "\u001b[32m[04/06 20:03:51 d2.utils.events]: \u001b[0m eta: 1:55:30  iter: 8439  total_loss: 0.799  loss_cls: 0.152  loss_box_reg: 0.273  loss_mask: 0.239  loss_rpn_cls: 0.014  loss_rpn_loc: 0.116  time: 0.3701  data_time: 0.0002  lr: 0.001962  max_mem: 7824M\n",
      "\u001b[32m[04/06 20:03:58 d2.utils.events]: \u001b[0m eta: 1:55:20  iter: 8459  total_loss: 0.798  loss_cls: 0.160  loss_box_reg: 0.261  loss_mask: 0.193  loss_rpn_cls: 0.024  loss_rpn_loc: 0.112  time: 0.3701  data_time: 0.0003  lr: 0.001960  max_mem: 7824M\n",
      "\u001b[32m[04/06 20:04:05 d2.utils.events]: \u001b[0m eta: 1:55:17  iter: 8479  total_loss: 0.821  loss_cls: 0.140  loss_box_reg: 0.302  loss_mask: 0.214  loss_rpn_cls: 0.024  loss_rpn_loc: 0.088  time: 0.3702  data_time: 0.0003  lr: 0.001957  max_mem: 7824M\n",
      "\u001b[32m[04/06 20:04:13 d2.utils.events]: \u001b[0m eta: 1:55:09  iter: 8499  total_loss: 0.914  loss_cls: 0.167  loss_box_reg: 0.375  loss_mask: 0.245  loss_rpn_cls: 0.017  loss_rpn_loc: 0.103  time: 0.3702  data_time: 0.0002  lr: 0.001955  max_mem: 7824M\n",
      "\u001b[32m[04/06 20:04:20 d2.utils.events]: \u001b[0m eta: 1:55:03  iter: 8519  total_loss: 1.064  loss_cls: 0.191  loss_box_reg: 0.324  loss_mask: 0.283  loss_rpn_cls: 0.021  loss_rpn_loc: 0.156  time: 0.3701  data_time: 0.0003  lr: 0.001953  max_mem: 7824M\n",
      "\u001b[32m[04/06 20:04:28 d2.utils.events]: \u001b[0m eta: 1:54:55  iter: 8539  total_loss: 0.863  loss_cls: 0.173  loss_box_reg: 0.287  loss_mask: 0.234  loss_rpn_cls: 0.013  loss_rpn_loc: 0.130  time: 0.3701  data_time: 0.0003  lr: 0.001950  max_mem: 7824M\n",
      "\u001b[32m[04/06 20:04:35 d2.utils.events]: \u001b[0m eta: 1:54:55  iter: 8559  total_loss: 0.894  loss_cls: 0.177  loss_box_reg: 0.287  loss_mask: 0.262  loss_rpn_cls: 0.030  loss_rpn_loc: 0.112  time: 0.3701  data_time: 0.0003  lr: 0.001948  max_mem: 7824M\n",
      "\u001b[32m[04/06 20:04:42 d2.utils.events]: \u001b[0m eta: 1:54:51  iter: 8579  total_loss: 0.837  loss_cls: 0.158  loss_box_reg: 0.295  loss_mask: 0.220  loss_rpn_cls: 0.023  loss_rpn_loc: 0.112  time: 0.3701  data_time: 0.0003  lr: 0.001945  max_mem: 7824M\n"
     ]
    },
    {
     "name": "stdout",
     "output_type": "stream",
     "text": [
      "\u001b[32m[04/06 20:04:50 d2.utils.events]: \u001b[0m eta: 1:54:39  iter: 8599  total_loss: 0.686  loss_cls: 0.131  loss_box_reg: 0.276  loss_mask: 0.208  loss_rpn_cls: 0.014  loss_rpn_loc: 0.092  time: 0.3701  data_time: 0.0002  lr: 0.001943  max_mem: 7824M\n",
      "\u001b[32m[04/06 20:04:57 d2.utils.events]: \u001b[0m eta: 1:54:26  iter: 8619  total_loss: 0.927  loss_cls: 0.156  loss_box_reg: 0.312  loss_mask: 0.259  loss_rpn_cls: 0.021  loss_rpn_loc: 0.135  time: 0.3701  data_time: 0.0002  lr: 0.001941  max_mem: 7824M\n",
      "\u001b[32m[04/06 20:05:04 d2.utils.events]: \u001b[0m eta: 1:54:19  iter: 8639  total_loss: 1.063  loss_cls: 0.224  loss_box_reg: 0.383  loss_mask: 0.277  loss_rpn_cls: 0.025  loss_rpn_loc: 0.132  time: 0.3701  data_time: 0.0003  lr: 0.001938  max_mem: 7824M\n",
      "\u001b[32m[04/06 20:05:12 d2.utils.events]: \u001b[0m eta: 1:54:12  iter: 8659  total_loss: 0.852  loss_cls: 0.184  loss_box_reg: 0.291  loss_mask: 0.251  loss_rpn_cls: 0.014  loss_rpn_loc: 0.099  time: 0.3701  data_time: 0.0003  lr: 0.001936  max_mem: 7824M\n",
      "\u001b[32m[04/06 20:05:19 d2.utils.events]: \u001b[0m eta: 1:54:10  iter: 8679  total_loss: 0.657  loss_cls: 0.134  loss_box_reg: 0.249  loss_mask: 0.204  loss_rpn_cls: 0.015  loss_rpn_loc: 0.077  time: 0.3701  data_time: 0.0003  lr: 0.001934  max_mem: 7824M\n",
      "\u001b[32m[04/06 20:05:27 d2.utils.events]: \u001b[0m eta: 1:54:00  iter: 8699  total_loss: 0.807  loss_cls: 0.142  loss_box_reg: 0.284  loss_mask: 0.228  loss_rpn_cls: 0.021  loss_rpn_loc: 0.119  time: 0.3701  data_time: 0.0002  lr: 0.001931  max_mem: 7824M\n",
      "\u001b[32m[04/06 20:05:34 d2.utils.events]: \u001b[0m eta: 1:53:57  iter: 8719  total_loss: 0.733  loss_cls: 0.150  loss_box_reg: 0.256  loss_mask: 0.211  loss_rpn_cls: 0.010  loss_rpn_loc: 0.072  time: 0.3701  data_time: 0.0003  lr: 0.001929  max_mem: 7824M\n",
      "\u001b[32m[04/06 20:05:42 d2.utils.events]: \u001b[0m eta: 1:53:56  iter: 8739  total_loss: 0.897  loss_cls: 0.154  loss_box_reg: 0.298  loss_mask: 0.231  loss_rpn_cls: 0.018  loss_rpn_loc: 0.101  time: 0.3701  data_time: 0.0003  lr: 0.001926  max_mem: 7824M\n",
      "\u001b[32m[04/06 20:05:49 d2.utils.events]: \u001b[0m eta: 1:53:49  iter: 8759  total_loss: 0.663  loss_cls: 0.117  loss_box_reg: 0.275  loss_mask: 0.221  loss_rpn_cls: 0.008  loss_rpn_loc: 0.061  time: 0.3701  data_time: 0.0003  lr: 0.001924  max_mem: 7824M\n",
      "\u001b[32m[04/06 20:05:57 d2.utils.events]: \u001b[0m eta: 1:53:44  iter: 8779  total_loss: 0.488  loss_cls: 0.071  loss_box_reg: 0.184  loss_mask: 0.147  loss_rpn_cls: 0.007  loss_rpn_loc: 0.051  time: 0.3702  data_time: 0.0003  lr: 0.001922  max_mem: 7824M\n",
      "\u001b[32m[04/06 20:06:04 d2.utils.events]: \u001b[0m eta: 1:53:42  iter: 8799  total_loss: 0.532  loss_cls: 0.098  loss_box_reg: 0.221  loss_mask: 0.175  loss_rpn_cls: 0.007  loss_rpn_loc: 0.050  time: 0.3702  data_time: 0.0002  lr: 0.001919  max_mem: 7824M\n",
      "\u001b[32m[04/06 20:06:12 d2.utils.events]: \u001b[0m eta: 1:53:31  iter: 8819  total_loss: 0.763  loss_cls: 0.157  loss_box_reg: 0.251  loss_mask: 0.219  loss_rpn_cls: 0.017  loss_rpn_loc: 0.100  time: 0.3702  data_time: 0.0002  lr: 0.001917  max_mem: 7824M\n",
      "\u001b[32m[04/06 20:06:19 d2.utils.events]: \u001b[0m eta: 1:53:32  iter: 8839  total_loss: 1.075  loss_cls: 0.193  loss_box_reg: 0.322  loss_mask: 0.253  loss_rpn_cls: 0.039  loss_rpn_loc: 0.182  time: 0.3702  data_time: 0.0003  lr: 0.001914  max_mem: 7824M\n",
      "\u001b[32m[04/06 20:06:27 d2.utils.events]: \u001b[0m eta: 1:53:28  iter: 8859  total_loss: 1.026  loss_cls: 0.179  loss_box_reg: 0.347  loss_mask: 0.257  loss_rpn_cls: 0.033  loss_rpn_loc: 0.135  time: 0.3702  data_time: 0.0003  lr: 0.001912  max_mem: 7824M\n",
      "\u001b[32m[04/06 20:06:34 d2.utils.events]: \u001b[0m eta: 1:53:20  iter: 8879  total_loss: 0.967  loss_cls: 0.170  loss_box_reg: 0.331  loss_mask: 0.261  loss_rpn_cls: 0.031  loss_rpn_loc: 0.108  time: 0.3702  data_time: 0.0002  lr: 0.001909  max_mem: 7824M\n",
      "\u001b[32m[04/06 20:06:42 d2.utils.events]: \u001b[0m eta: 1:53:13  iter: 8899  total_loss: 0.926  loss_cls: 0.195  loss_box_reg: 0.325  loss_mask: 0.226  loss_rpn_cls: 0.019  loss_rpn_loc: 0.126  time: 0.3702  data_time: 0.0003  lr: 0.001907  max_mem: 7824M\n",
      "\u001b[32m[04/06 20:06:50 d2.utils.events]: \u001b[0m eta: 1:53:11  iter: 8919  total_loss: 0.744  loss_cls: 0.160  loss_box_reg: 0.234  loss_mask: 0.228  loss_rpn_cls: 0.017  loss_rpn_loc: 0.111  time: 0.3703  data_time: 0.0003  lr: 0.001905  max_mem: 7824M\n",
      "\u001b[32m[04/06 20:06:57 d2.utils.events]: \u001b[0m eta: 1:53:04  iter: 8939  total_loss: 0.989  loss_cls: 0.178  loss_box_reg: 0.329  loss_mask: 0.250  loss_rpn_cls: 0.028  loss_rpn_loc: 0.132  time: 0.3703  data_time: 0.0003  lr: 0.001902  max_mem: 7824M\n",
      "\u001b[32m[04/06 20:07:05 d2.utils.events]: \u001b[0m eta: 1:52:58  iter: 8959  total_loss: 0.811  loss_cls: 0.172  loss_box_reg: 0.298  loss_mask: 0.213  loss_rpn_cls: 0.029  loss_rpn_loc: 0.083  time: 0.3703  data_time: 0.0003  lr: 0.001900  max_mem: 7824M\n",
      "\u001b[32m[04/06 20:07:12 d2.utils.events]: \u001b[0m eta: 1:52:47  iter: 8979  total_loss: 0.896  loss_cls: 0.157  loss_box_reg: 0.286  loss_mask: 0.248  loss_rpn_cls: 0.017  loss_rpn_loc: 0.106  time: 0.3703  data_time: 0.0003  lr: 0.001897  max_mem: 7824M\n",
      "\u001b[32m[04/06 20:07:19 d2.utils.events]: \u001b[0m eta: 1:52:41  iter: 8999  total_loss: 0.928  loss_cls: 0.164  loss_box_reg: 0.292  loss_mask: 0.250  loss_rpn_cls: 0.023  loss_rpn_loc: 0.099  time: 0.3703  data_time: 0.0003  lr: 0.001895  max_mem: 7824M\n",
      "\u001b[32m[04/06 20:07:26 d2.utils.events]: \u001b[0m eta: 1:52:30  iter: 9019  total_loss: 0.689  loss_cls: 0.129  loss_box_reg: 0.216  loss_mask: 0.188  loss_rpn_cls: 0.016  loss_rpn_loc: 0.102  time: 0.3702  data_time: 0.0003  lr: 0.001892  max_mem: 7824M\n",
      "\u001b[32m[04/06 20:07:34 d2.utils.events]: \u001b[0m eta: 1:52:23  iter: 9039  total_loss: 0.820  loss_cls: 0.158  loss_box_reg: 0.326  loss_mask: 0.221  loss_rpn_cls: 0.015  loss_rpn_loc: 0.097  time: 0.3702  data_time: 0.0002  lr: 0.001890  max_mem: 7824M\n",
      "\u001b[32m[04/06 20:07:41 d2.utils.events]: \u001b[0m eta: 1:52:11  iter: 9059  total_loss: 0.549  loss_cls: 0.092  loss_box_reg: 0.213  loss_mask: 0.192  loss_rpn_cls: 0.008  loss_rpn_loc: 0.050  time: 0.3702  data_time: 0.0002  lr: 0.001887  max_mem: 7824M\n",
      "\u001b[32m[04/06 20:07:49 d2.utils.events]: \u001b[0m eta: 1:52:05  iter: 9079  total_loss: 1.045  loss_cls: 0.179  loss_box_reg: 0.383  loss_mask: 0.256  loss_rpn_cls: 0.026  loss_rpn_loc: 0.122  time: 0.3702  data_time: 0.0003  lr: 0.001885  max_mem: 7824M\n",
      "\u001b[32m[04/06 20:07:56 d2.utils.events]: \u001b[0m eta: 1:51:57  iter: 9099  total_loss: 0.988  loss_cls: 0.190  loss_box_reg: 0.315  loss_mask: 0.245  loss_rpn_cls: 0.019  loss_rpn_loc: 0.103  time: 0.3702  data_time: 0.0003  lr: 0.001883  max_mem: 7824M\n",
      "\u001b[32m[04/06 20:08:03 d2.utils.events]: \u001b[0m eta: 1:51:48  iter: 9119  total_loss: 0.886  loss_cls: 0.157  loss_box_reg: 0.264  loss_mask: 0.208  loss_rpn_cls: 0.017  loss_rpn_loc: 0.127  time: 0.3702  data_time: 0.0003  lr: 0.001880  max_mem: 7824M\n",
      "\u001b[32m[04/06 20:08:11 d2.utils.events]: \u001b[0m eta: 1:51:42  iter: 9139  total_loss: 0.810  loss_cls: 0.149  loss_box_reg: 0.273  loss_mask: 0.236  loss_rpn_cls: 0.019  loss_rpn_loc: 0.102  time: 0.3702  data_time: 0.0002  lr: 0.001878  max_mem: 7824M\n",
      "\u001b[32m[04/06 20:08:18 d2.utils.events]: \u001b[0m eta: 1:51:37  iter: 9159  total_loss: 0.666  loss_cls: 0.102  loss_box_reg: 0.247  loss_mask: 0.184  loss_rpn_cls: 0.012  loss_rpn_loc: 0.088  time: 0.3702  data_time: 0.0002  lr: 0.001875  max_mem: 7824M\n",
      "\u001b[32m[04/06 20:08:26 d2.utils.events]: \u001b[0m eta: 1:51:32  iter: 9179  total_loss: 0.860  loss_cls: 0.164  loss_box_reg: 0.317  loss_mask: 0.240  loss_rpn_cls: 0.018  loss_rpn_loc: 0.105  time: 0.3702  data_time: 0.0002  lr: 0.001873  max_mem: 7824M\n",
      "\u001b[32m[04/06 20:08:33 d2.utils.events]: \u001b[0m eta: 1:51:23  iter: 9199  total_loss: 0.800  loss_cls: 0.154  loss_box_reg: 0.268  loss_mask: 0.221  loss_rpn_cls: 0.018  loss_rpn_loc: 0.136  time: 0.3702  data_time: 0.0003  lr: 0.001870  max_mem: 7824M\n",
      "\u001b[32m[04/06 20:08:40 d2.utils.events]: \u001b[0m eta: 1:51:15  iter: 9219  total_loss: 0.967  loss_cls: 0.185  loss_box_reg: 0.323  loss_mask: 0.269  loss_rpn_cls: 0.018  loss_rpn_loc: 0.146  time: 0.3702  data_time: 0.0003  lr: 0.001868  max_mem: 7824M\n",
      "\u001b[32m[04/06 20:08:48 d2.utils.events]: \u001b[0m eta: 1:51:05  iter: 9239  total_loss: 0.693  loss_cls: 0.132  loss_box_reg: 0.270  loss_mask: 0.216  loss_rpn_cls: 0.019  loss_rpn_loc: 0.087  time: 0.3702  data_time: 0.0002  lr: 0.001865  max_mem: 7824M\n"
     ]
    },
    {
     "name": "stdout",
     "output_type": "stream",
     "text": [
      "\u001b[32m[04/06 20:08:55 d2.utils.events]: \u001b[0m eta: 1:50:57  iter: 9259  total_loss: 0.574  loss_cls: 0.120  loss_box_reg: 0.213  loss_mask: 0.168  loss_rpn_cls: 0.015  loss_rpn_loc: 0.104  time: 0.3702  data_time: 0.0003  lr: 0.001863  max_mem: 7824M\n",
      "\u001b[32m[04/06 20:09:02 d2.utils.events]: \u001b[0m eta: 1:50:49  iter: 9279  total_loss: 0.641  loss_cls: 0.132  loss_box_reg: 0.222  loss_mask: 0.170  loss_rpn_cls: 0.021  loss_rpn_loc: 0.094  time: 0.3702  data_time: 0.0002  lr: 0.001860  max_mem: 7824M\n",
      "\u001b[32m[04/06 20:09:10 d2.utils.events]: \u001b[0m eta: 1:50:45  iter: 9299  total_loss: 0.737  loss_cls: 0.118  loss_box_reg: 0.201  loss_mask: 0.192  loss_rpn_cls: 0.019  loss_rpn_loc: 0.112  time: 0.3702  data_time: 0.0003  lr: 0.001858  max_mem: 7824M\n",
      "\u001b[32m[04/06 20:09:18 d2.utils.events]: \u001b[0m eta: 1:50:38  iter: 9319  total_loss: 0.813  loss_cls: 0.129  loss_box_reg: 0.259  loss_mask: 0.242  loss_rpn_cls: 0.028  loss_rpn_loc: 0.109  time: 0.3702  data_time: 0.0003  lr: 0.001855  max_mem: 7824M\n",
      "\u001b[32m[04/06 20:09:25 d2.utils.events]: \u001b[0m eta: 1:50:30  iter: 9339  total_loss: 0.824  loss_cls: 0.151  loss_box_reg: 0.310  loss_mask: 0.229  loss_rpn_cls: 0.016  loss_rpn_loc: 0.146  time: 0.3702  data_time: 0.0003  lr: 0.001853  max_mem: 7824M\n",
      "\u001b[32m[04/06 20:09:32 d2.utils.events]: \u001b[0m eta: 1:50:24  iter: 9359  total_loss: 0.885  loss_cls: 0.151  loss_box_reg: 0.310  loss_mask: 0.245  loss_rpn_cls: 0.013  loss_rpn_loc: 0.120  time: 0.3702  data_time: 0.0003  lr: 0.001850  max_mem: 7824M\n",
      "\u001b[32m[04/06 20:09:40 d2.utils.events]: \u001b[0m eta: 1:50:17  iter: 9379  total_loss: 0.766  loss_cls: 0.143  loss_box_reg: 0.271  loss_mask: 0.208  loss_rpn_cls: 0.021  loss_rpn_loc: 0.111  time: 0.3702  data_time: 0.0003  lr: 0.001848  max_mem: 7824M\n",
      "\u001b[32m[04/06 20:09:47 d2.utils.events]: \u001b[0m eta: 1:50:10  iter: 9399  total_loss: 0.911  loss_cls: 0.161  loss_box_reg: 0.310  loss_mask: 0.249  loss_rpn_cls: 0.027  loss_rpn_loc: 0.124  time: 0.3702  data_time: 0.0002  lr: 0.001845  max_mem: 7824M\n",
      "\u001b[32m[04/06 20:09:55 d2.utils.events]: \u001b[0m eta: 1:50:09  iter: 9419  total_loss: 0.906  loss_cls: 0.152  loss_box_reg: 0.258  loss_mask: 0.217  loss_rpn_cls: 0.020  loss_rpn_loc: 0.110  time: 0.3702  data_time: 0.0003  lr: 0.001843  max_mem: 7824M\n",
      "\u001b[32m[04/06 20:10:02 d2.utils.events]: \u001b[0m eta: 1:50:00  iter: 9439  total_loss: 0.762  loss_cls: 0.155  loss_box_reg: 0.330  loss_mask: 0.221  loss_rpn_cls: 0.024  loss_rpn_loc: 0.122  time: 0.3702  data_time: 0.0003  lr: 0.001840  max_mem: 7824M\n",
      "\u001b[32m[04/06 20:10:09 d2.utils.events]: \u001b[0m eta: 1:49:56  iter: 9459  total_loss: 0.962  loss_cls: 0.164  loss_box_reg: 0.325  loss_mask: 0.222  loss_rpn_cls: 0.028  loss_rpn_loc: 0.126  time: 0.3702  data_time: 0.0003  lr: 0.001838  max_mem: 7824M\n",
      "\u001b[32m[04/06 20:10:17 d2.utils.events]: \u001b[0m eta: 1:49:50  iter: 9479  total_loss: 0.822  loss_cls: 0.138  loss_box_reg: 0.242  loss_mask: 0.217  loss_rpn_cls: 0.020  loss_rpn_loc: 0.105  time: 0.3702  data_time: 0.0003  lr: 0.001835  max_mem: 7824M\n",
      "\u001b[32m[04/06 20:10:24 d2.utils.events]: \u001b[0m eta: 1:49:41  iter: 9499  total_loss: 0.775  loss_cls: 0.115  loss_box_reg: 0.269  loss_mask: 0.213  loss_rpn_cls: 0.021  loss_rpn_loc: 0.081  time: 0.3702  data_time: 0.0003  lr: 0.001833  max_mem: 7824M\n",
      "\u001b[32m[04/06 20:10:32 d2.utils.events]: \u001b[0m eta: 1:49:34  iter: 9519  total_loss: 0.868  loss_cls: 0.176  loss_box_reg: 0.301  loss_mask: 0.235  loss_rpn_cls: 0.020  loss_rpn_loc: 0.111  time: 0.3702  data_time: 0.0003  lr: 0.001830  max_mem: 7824M\n",
      "\u001b[32m[04/06 20:10:39 d2.utils.events]: \u001b[0m eta: 1:49:26  iter: 9539  total_loss: 0.708  loss_cls: 0.126  loss_box_reg: 0.247  loss_mask: 0.187  loss_rpn_cls: 0.010  loss_rpn_loc: 0.096  time: 0.3702  data_time: 0.0003  lr: 0.001828  max_mem: 7824M\n",
      "\u001b[32m[04/06 20:10:46 d2.utils.events]: \u001b[0m eta: 1:49:19  iter: 9559  total_loss: 0.968  loss_cls: 0.168  loss_box_reg: 0.280  loss_mask: 0.249  loss_rpn_cls: 0.021  loss_rpn_loc: 0.137  time: 0.3702  data_time: 0.0003  lr: 0.001825  max_mem: 7824M\n",
      "\u001b[32m[04/06 20:10:53 d2.utils.events]: \u001b[0m eta: 1:49:09  iter: 9579  total_loss: 0.672  loss_cls: 0.135  loss_box_reg: 0.254  loss_mask: 0.223  loss_rpn_cls: 0.007  loss_rpn_loc: 0.072  time: 0.3702  data_time: 0.0003  lr: 0.001822  max_mem: 7824M\n",
      "\u001b[32m[04/06 20:11:01 d2.utils.events]: \u001b[0m eta: 1:49:02  iter: 9599  total_loss: 0.974  loss_cls: 0.202  loss_box_reg: 0.331  loss_mask: 0.286  loss_rpn_cls: 0.036  loss_rpn_loc: 0.145  time: 0.3702  data_time: 0.0003  lr: 0.001820  max_mem: 7824M\n",
      "\u001b[32m[04/06 20:11:08 d2.utils.events]: \u001b[0m eta: 1:48:57  iter: 9619  total_loss: 0.788  loss_cls: 0.169  loss_box_reg: 0.277  loss_mask: 0.245  loss_rpn_cls: 0.022  loss_rpn_loc: 0.136  time: 0.3702  data_time: 0.0003  lr: 0.001817  max_mem: 7824M\n",
      "\u001b[32m[04/06 20:11:16 d2.utils.events]: \u001b[0m eta: 1:48:48  iter: 9639  total_loss: 0.972  loss_cls: 0.194  loss_box_reg: 0.364  loss_mask: 0.263  loss_rpn_cls: 0.022  loss_rpn_loc: 0.125  time: 0.3702  data_time: 0.0002  lr: 0.001815  max_mem: 7824M\n",
      "\u001b[32m[04/06 20:11:23 d2.utils.events]: \u001b[0m eta: 1:48:41  iter: 9659  total_loss: 0.808  loss_cls: 0.156  loss_box_reg: 0.259  loss_mask: 0.198  loss_rpn_cls: 0.020  loss_rpn_loc: 0.109  time: 0.3702  data_time: 0.0003  lr: 0.001812  max_mem: 7824M\n",
      "\u001b[32m[04/06 20:11:31 d2.utils.events]: \u001b[0m eta: 1:48:32  iter: 9679  total_loss: 0.846  loss_cls: 0.144  loss_box_reg: 0.319  loss_mask: 0.218  loss_rpn_cls: 0.019  loss_rpn_loc: 0.128  time: 0.3702  data_time: 0.0003  lr: 0.001810  max_mem: 7824M\n",
      "\u001b[32m[04/06 20:11:38 d2.utils.events]: \u001b[0m eta: 1:48:24  iter: 9699  total_loss: 0.607  loss_cls: 0.105  loss_box_reg: 0.232  loss_mask: 0.168  loss_rpn_cls: 0.014  loss_rpn_loc: 0.071  time: 0.3702  data_time: 0.0003  lr: 0.001807  max_mem: 7824M\n",
      "\u001b[32m[04/06 20:11:45 d2.utils.events]: \u001b[0m eta: 1:48:14  iter: 9719  total_loss: 0.767  loss_cls: 0.166  loss_box_reg: 0.247  loss_mask: 0.214  loss_rpn_cls: 0.013  loss_rpn_loc: 0.091  time: 0.3702  data_time: 0.0003  lr: 0.001805  max_mem: 7824M\n",
      "\u001b[32m[04/06 20:11:53 d2.utils.events]: \u001b[0m eta: 1:48:00  iter: 9739  total_loss: 0.632  loss_cls: 0.095  loss_box_reg: 0.227  loss_mask: 0.195  loss_rpn_cls: 0.010  loss_rpn_loc: 0.070  time: 0.3702  data_time: 0.0002  lr: 0.001802  max_mem: 7824M\n",
      "\u001b[32m[04/06 20:12:00 d2.utils.events]: \u001b[0m eta: 1:47:45  iter: 9759  total_loss: 0.648  loss_cls: 0.148  loss_box_reg: 0.253  loss_mask: 0.165  loss_rpn_cls: 0.014  loss_rpn_loc: 0.105  time: 0.3701  data_time: 0.0003  lr: 0.001799  max_mem: 7824M\n",
      "\u001b[32m[04/06 20:12:07 d2.utils.events]: \u001b[0m eta: 1:47:32  iter: 9779  total_loss: 0.815  loss_cls: 0.139  loss_box_reg: 0.287  loss_mask: 0.246  loss_rpn_cls: 0.018  loss_rpn_loc: 0.120  time: 0.3701  data_time: 0.0002  lr: 0.001797  max_mem: 7824M\n",
      "\u001b[32m[04/06 20:12:14 d2.utils.events]: \u001b[0m eta: 1:47:22  iter: 9799  total_loss: 0.586  loss_cls: 0.072  loss_box_reg: 0.205  loss_mask: 0.171  loss_rpn_cls: 0.016  loss_rpn_loc: 0.066  time: 0.3701  data_time: 0.0002  lr: 0.001794  max_mem: 7824M\n",
      "\u001b[32m[04/06 20:12:22 d2.utils.events]: \u001b[0m eta: 1:47:15  iter: 9819  total_loss: 0.990  loss_cls: 0.150  loss_box_reg: 0.288  loss_mask: 0.230  loss_rpn_cls: 0.020  loss_rpn_loc: 0.125  time: 0.3701  data_time: 0.0003  lr: 0.001792  max_mem: 7824M\n",
      "\u001b[32m[04/06 20:12:29 d2.utils.events]: \u001b[0m eta: 1:46:58  iter: 9839  total_loss: 0.617  loss_cls: 0.100  loss_box_reg: 0.207  loss_mask: 0.171  loss_rpn_cls: 0.009  loss_rpn_loc: 0.084  time: 0.3701  data_time: 0.0003  lr: 0.001789  max_mem: 7824M\n",
      "\u001b[32m[04/06 20:12:37 d2.utils.events]: \u001b[0m eta: 1:46:48  iter: 9859  total_loss: 0.762  loss_cls: 0.132  loss_box_reg: 0.265  loss_mask: 0.222  loss_rpn_cls: 0.013  loss_rpn_loc: 0.109  time: 0.3701  data_time: 0.0002  lr: 0.001787  max_mem: 7824M\n",
      "\u001b[32m[04/06 20:12:44 d2.utils.events]: \u001b[0m eta: 1:46:51  iter: 9879  total_loss: 0.702  loss_cls: 0.125  loss_box_reg: 0.295  loss_mask: 0.231  loss_rpn_cls: 0.007  loss_rpn_loc: 0.087  time: 0.3701  data_time: 0.0002  lr: 0.001784  max_mem: 7824M\n",
      "\u001b[32m[04/06 20:12:51 d2.utils.events]: \u001b[0m eta: 1:46:34  iter: 9899  total_loss: 0.833  loss_cls: 0.153  loss_box_reg: 0.286  loss_mask: 0.225  loss_rpn_cls: 0.021  loss_rpn_loc: 0.117  time: 0.3701  data_time: 0.0003  lr: 0.001781  max_mem: 7824M\n"
     ]
    },
    {
     "name": "stdout",
     "output_type": "stream",
     "text": [
      "\u001b[32m[04/06 20:12:59 d2.utils.events]: \u001b[0m eta: 1:46:26  iter: 9919  total_loss: 0.965  loss_cls: 0.172  loss_box_reg: 0.298  loss_mask: 0.253  loss_rpn_cls: 0.019  loss_rpn_loc: 0.101  time: 0.3701  data_time: 0.0003  lr: 0.001779  max_mem: 7824M\n",
      "\u001b[32m[04/06 20:13:06 d2.utils.events]: \u001b[0m eta: 1:46:13  iter: 9939  total_loss: 0.893  loss_cls: 0.172  loss_box_reg: 0.319  loss_mask: 0.240  loss_rpn_cls: 0.024  loss_rpn_loc: 0.123  time: 0.3701  data_time: 0.0003  lr: 0.001776  max_mem: 7824M\n",
      "\u001b[32m[04/06 20:13:14 d2.utils.events]: \u001b[0m eta: 1:45:59  iter: 9959  total_loss: 0.736  loss_cls: 0.117  loss_box_reg: 0.204  loss_mask: 0.157  loss_rpn_cls: 0.013  loss_rpn_loc: 0.099  time: 0.3701  data_time: 0.0003  lr: 0.001774  max_mem: 7824M\n",
      "\u001b[32m[04/06 20:13:21 d2.utils.events]: \u001b[0m eta: 1:45:52  iter: 9979  total_loss: 0.605  loss_cls: 0.118  loss_box_reg: 0.205  loss_mask: 0.179  loss_rpn_cls: 0.012  loss_rpn_loc: 0.087  time: 0.3701  data_time: 0.0003  lr: 0.001771  max_mem: 7824M\n",
      "\u001b[32m[04/06 20:13:31 d2.utils.events]: \u001b[0m eta: 1:45:43  iter: 9999  total_loss: 0.898  loss_cls: 0.154  loss_box_reg: 0.335  loss_mask: 0.260  loss_rpn_cls: 0.014  loss_rpn_loc: 0.103  time: 0.3700  data_time: 0.0003  lr: 0.001768  max_mem: 7824M\n",
      "\u001b[32m[04/06 20:13:39 d2.utils.events]: \u001b[0m eta: 1:45:38  iter: 10019  total_loss: 0.789  loss_cls: 0.142  loss_box_reg: 0.250  loss_mask: 0.223  loss_rpn_cls: 0.016  loss_rpn_loc: 0.100  time: 0.3700  data_time: 0.0003  lr: 0.001766  max_mem: 7824M\n",
      "\u001b[32m[04/06 20:13:46 d2.utils.events]: \u001b[0m eta: 1:45:27  iter: 10039  total_loss: 0.835  loss_cls: 0.132  loss_box_reg: 0.259  loss_mask: 0.271  loss_rpn_cls: 0.015  loss_rpn_loc: 0.073  time: 0.3700  data_time: 0.0002  lr: 0.001763  max_mem: 7824M\n",
      "\u001b[32m[04/06 20:13:53 d2.utils.events]: \u001b[0m eta: 1:45:21  iter: 10059  total_loss: 0.837  loss_cls: 0.148  loss_box_reg: 0.257  loss_mask: 0.262  loss_rpn_cls: 0.021  loss_rpn_loc: 0.123  time: 0.3700  data_time: 0.0002  lr: 0.001761  max_mem: 7824M\n",
      "\u001b[32m[04/06 20:14:01 d2.utils.events]: \u001b[0m eta: 1:45:12  iter: 10079  total_loss: 0.745  loss_cls: 0.164  loss_box_reg: 0.275  loss_mask: 0.223  loss_rpn_cls: 0.011  loss_rpn_loc: 0.102  time: 0.3700  data_time: 0.0003  lr: 0.001758  max_mem: 7824M\n",
      "\u001b[32m[04/06 20:14:08 d2.utils.events]: \u001b[0m eta: 1:45:05  iter: 10099  total_loss: 0.906  loss_cls: 0.167  loss_box_reg: 0.300  loss_mask: 0.234  loss_rpn_cls: 0.015  loss_rpn_loc: 0.106  time: 0.3700  data_time: 0.0002  lr: 0.001755  max_mem: 7824M\n",
      "\u001b[32m[04/06 20:14:15 d2.utils.events]: \u001b[0m eta: 1:44:58  iter: 10119  total_loss: 0.983  loss_cls: 0.153  loss_box_reg: 0.307  loss_mask: 0.251  loss_rpn_cls: 0.026  loss_rpn_loc: 0.122  time: 0.3700  data_time: 0.0003  lr: 0.001753  max_mem: 7824M\n",
      "\u001b[32m[04/06 20:14:23 d2.utils.events]: \u001b[0m eta: 1:44:48  iter: 10139  total_loss: 0.654  loss_cls: 0.125  loss_box_reg: 0.219  loss_mask: 0.199  loss_rpn_cls: 0.016  loss_rpn_loc: 0.106  time: 0.3700  data_time: 0.0003  lr: 0.001750  max_mem: 7824M\n",
      "\u001b[32m[04/06 20:14:30 d2.utils.events]: \u001b[0m eta: 1:44:40  iter: 10159  total_loss: 0.634  loss_cls: 0.121  loss_box_reg: 0.186  loss_mask: 0.221  loss_rpn_cls: 0.020  loss_rpn_loc: 0.097  time: 0.3700  data_time: 0.0003  lr: 0.001748  max_mem: 7824M\n",
      "\u001b[32m[04/06 20:14:37 d2.utils.events]: \u001b[0m eta: 1:44:33  iter: 10179  total_loss: 0.743  loss_cls: 0.144  loss_box_reg: 0.239  loss_mask: 0.212  loss_rpn_cls: 0.008  loss_rpn_loc: 0.093  time: 0.3700  data_time: 0.0003  lr: 0.001745  max_mem: 7824M\n",
      "\u001b[32m[04/06 20:14:45 d2.utils.events]: \u001b[0m eta: 1:44:29  iter: 10199  total_loss: 0.968  loss_cls: 0.208  loss_box_reg: 0.268  loss_mask: 0.294  loss_rpn_cls: 0.028  loss_rpn_loc: 0.107  time: 0.3700  data_time: 0.0003  lr: 0.001742  max_mem: 7824M\n",
      "\u001b[32m[04/06 20:14:52 d2.utils.events]: \u001b[0m eta: 1:44:24  iter: 10219  total_loss: 0.806  loss_cls: 0.155  loss_box_reg: 0.302  loss_mask: 0.211  loss_rpn_cls: 0.023  loss_rpn_loc: 0.129  time: 0.3700  data_time: 0.0003  lr: 0.001740  max_mem: 7824M\n",
      "\u001b[32m[04/06 20:15:00 d2.utils.events]: \u001b[0m eta: 1:44:17  iter: 10239  total_loss: 0.951  loss_cls: 0.191  loss_box_reg: 0.328  loss_mask: 0.229  loss_rpn_cls: 0.026  loss_rpn_loc: 0.118  time: 0.3700  data_time: 0.0003  lr: 0.001737  max_mem: 7824M\n",
      "\u001b[32m[04/06 20:15:08 d2.utils.events]: \u001b[0m eta: 1:44:15  iter: 10259  total_loss: 0.779  loss_cls: 0.118  loss_box_reg: 0.255  loss_mask: 0.206  loss_rpn_cls: 0.012  loss_rpn_loc: 0.096  time: 0.3700  data_time: 0.0002  lr: 0.001734  max_mem: 7824M\n",
      "\u001b[32m[04/06 20:15:15 d2.utils.events]: \u001b[0m eta: 1:44:07  iter: 10279  total_loss: 0.842  loss_cls: 0.151  loss_box_reg: 0.264  loss_mask: 0.238  loss_rpn_cls: 0.019  loss_rpn_loc: 0.124  time: 0.3700  data_time: 0.0003  lr: 0.001732  max_mem: 7824M\n",
      "\u001b[32m[04/06 20:15:22 d2.utils.events]: \u001b[0m eta: 1:43:58  iter: 10299  total_loss: 0.910  loss_cls: 0.197  loss_box_reg: 0.318  loss_mask: 0.231  loss_rpn_cls: 0.015  loss_rpn_loc: 0.098  time: 0.3700  data_time: 0.0002  lr: 0.001729  max_mem: 7824M\n",
      "\u001b[32m[04/06 20:15:30 d2.utils.events]: \u001b[0m eta: 1:43:53  iter: 10319  total_loss: 0.866  loss_cls: 0.110  loss_box_reg: 0.268  loss_mask: 0.251  loss_rpn_cls: 0.013  loss_rpn_loc: 0.077  time: 0.3700  data_time: 0.0003  lr: 0.001727  max_mem: 7824M\n",
      "\u001b[32m[04/06 20:15:37 d2.utils.events]: \u001b[0m eta: 1:43:47  iter: 10339  total_loss: 0.930  loss_cls: 0.161  loss_box_reg: 0.270  loss_mask: 0.240  loss_rpn_cls: 0.014  loss_rpn_loc: 0.098  time: 0.3700  data_time: 0.0003  lr: 0.001724  max_mem: 7824M\n",
      "\u001b[32m[04/06 20:15:44 d2.utils.events]: \u001b[0m eta: 1:43:40  iter: 10359  total_loss: 0.933  loss_cls: 0.228  loss_box_reg: 0.314  loss_mask: 0.221  loss_rpn_cls: 0.023  loss_rpn_loc: 0.119  time: 0.3700  data_time: 0.0003  lr: 0.001721  max_mem: 7824M\n",
      "\u001b[32m[04/06 20:15:52 d2.utils.events]: \u001b[0m eta: 1:43:31  iter: 10379  total_loss: 0.645  loss_cls: 0.137  loss_box_reg: 0.219  loss_mask: 0.171  loss_rpn_cls: 0.020  loss_rpn_loc: 0.111  time: 0.3700  data_time: 0.0002  lr: 0.001719  max_mem: 7824M\n",
      "\u001b[32m[04/06 20:15:59 d2.utils.events]: \u001b[0m eta: 1:43:25  iter: 10399  total_loss: 0.821  loss_cls: 0.169  loss_box_reg: 0.269  loss_mask: 0.237  loss_rpn_cls: 0.019  loss_rpn_loc: 0.129  time: 0.3700  data_time: 0.0003  lr: 0.001716  max_mem: 7824M\n",
      "\u001b[32m[04/06 20:16:07 d2.utils.events]: \u001b[0m eta: 1:43:18  iter: 10419  total_loss: 0.591  loss_cls: 0.129  loss_box_reg: 0.214  loss_mask: 0.174  loss_rpn_cls: 0.011  loss_rpn_loc: 0.101  time: 0.3700  data_time: 0.0003  lr: 0.001713  max_mem: 7824M\n",
      "\u001b[32m[04/06 20:16:14 d2.utils.events]: \u001b[0m eta: 1:43:13  iter: 10439  total_loss: 0.687  loss_cls: 0.108  loss_box_reg: 0.209  loss_mask: 0.198  loss_rpn_cls: 0.011  loss_rpn_loc: 0.079  time: 0.3700  data_time: 0.0003  lr: 0.001711  max_mem: 7824M\n",
      "\u001b[32m[04/06 20:16:21 d2.utils.events]: \u001b[0m eta: 1:42:57  iter: 10459  total_loss: 0.912  loss_cls: 0.189  loss_box_reg: 0.303  loss_mask: 0.252  loss_rpn_cls: 0.020  loss_rpn_loc: 0.112  time: 0.3699  data_time: 0.0002  lr: 0.001708  max_mem: 7824M\n",
      "\u001b[32m[04/06 20:16:28 d2.utils.events]: \u001b[0m eta: 1:42:48  iter: 10479  total_loss: 0.750  loss_cls: 0.107  loss_box_reg: 0.262  loss_mask: 0.207  loss_rpn_cls: 0.011  loss_rpn_loc: 0.078  time: 0.3699  data_time: 0.0002  lr: 0.001705  max_mem: 7824M\n",
      "\u001b[32m[04/06 20:16:36 d2.utils.events]: \u001b[0m eta: 1:42:42  iter: 10499  total_loss: 0.713  loss_cls: 0.116  loss_box_reg: 0.203  loss_mask: 0.197  loss_rpn_cls: 0.014  loss_rpn_loc: 0.095  time: 0.3699  data_time: 0.0003  lr: 0.001703  max_mem: 7824M\n",
      "\u001b[32m[04/06 20:16:43 d2.utils.events]: \u001b[0m eta: 1:42:36  iter: 10519  total_loss: 0.952  loss_cls: 0.177  loss_box_reg: 0.324  loss_mask: 0.260  loss_rpn_cls: 0.017  loss_rpn_loc: 0.134  time: 0.3699  data_time: 0.0003  lr: 0.001700  max_mem: 7824M\n",
      "\u001b[32m[04/06 20:16:51 d2.utils.events]: \u001b[0m eta: 1:42:36  iter: 10539  total_loss: 0.897  loss_cls: 0.173  loss_box_reg: 0.254  loss_mask: 0.227  loss_rpn_cls: 0.020  loss_rpn_loc: 0.134  time: 0.3700  data_time: 0.0003  lr: 0.001697  max_mem: 7824M\n",
      "\u001b[32m[04/06 20:16:58 d2.utils.events]: \u001b[0m eta: 1:42:21  iter: 10559  total_loss: 0.673  loss_cls: 0.129  loss_box_reg: 0.273  loss_mask: 0.195  loss_rpn_cls: 0.014  loss_rpn_loc: 0.075  time: 0.3699  data_time: 0.0002  lr: 0.001695  max_mem: 7824M\n"
     ]
    },
    {
     "name": "stdout",
     "output_type": "stream",
     "text": [
      "\u001b[32m[04/06 20:17:05 d2.utils.events]: \u001b[0m eta: 1:42:14  iter: 10579  total_loss: 0.964  loss_cls: 0.165  loss_box_reg: 0.347  loss_mask: 0.269  loss_rpn_cls: 0.013  loss_rpn_loc: 0.113  time: 0.3699  data_time: 0.0002  lr: 0.001692  max_mem: 7824M\n",
      "\u001b[32m[04/06 20:17:13 d2.utils.events]: \u001b[0m eta: 1:42:06  iter: 10599  total_loss: 0.875  loss_cls: 0.152  loss_box_reg: 0.263  loss_mask: 0.262  loss_rpn_cls: 0.027  loss_rpn_loc: 0.117  time: 0.3699  data_time: 0.0003  lr: 0.001689  max_mem: 7824M\n",
      "\u001b[32m[04/06 20:17:20 d2.utils.events]: \u001b[0m eta: 1:42:00  iter: 10619  total_loss: 1.064  loss_cls: 0.239  loss_box_reg: 0.376  loss_mask: 0.238  loss_rpn_cls: 0.028  loss_rpn_loc: 0.123  time: 0.3699  data_time: 0.0003  lr: 0.001687  max_mem: 7824M\n",
      "\u001b[32m[04/06 20:17:28 d2.utils.events]: \u001b[0m eta: 1:41:52  iter: 10639  total_loss: 0.881  loss_cls: 0.145  loss_box_reg: 0.297  loss_mask: 0.248  loss_rpn_cls: 0.015  loss_rpn_loc: 0.099  time: 0.3699  data_time: 0.0003  lr: 0.001684  max_mem: 7824M\n",
      "\u001b[32m[04/06 20:17:35 d2.utils.events]: \u001b[0m eta: 1:41:48  iter: 10659  total_loss: 0.634  loss_cls: 0.110  loss_box_reg: 0.207  loss_mask: 0.218  loss_rpn_cls: 0.014  loss_rpn_loc: 0.063  time: 0.3699  data_time: 0.0002  lr: 0.001681  max_mem: 7824M\n",
      "\u001b[32m[04/06 20:17:43 d2.utils.events]: \u001b[0m eta: 1:41:45  iter: 10679  total_loss: 0.887  loss_cls: 0.142  loss_box_reg: 0.278  loss_mask: 0.222  loss_rpn_cls: 0.013  loss_rpn_loc: 0.109  time: 0.3699  data_time: 0.0003  lr: 0.001679  max_mem: 7824M\n",
      "\u001b[32m[04/06 20:17:50 d2.utils.events]: \u001b[0m eta: 1:41:38  iter: 10699  total_loss: 0.892  loss_cls: 0.157  loss_box_reg: 0.344  loss_mask: 0.269  loss_rpn_cls: 0.021  loss_rpn_loc: 0.111  time: 0.3699  data_time: 0.0003  lr: 0.001676  max_mem: 7824M\n",
      "\u001b[32m[04/06 20:17:57 d2.utils.events]: \u001b[0m eta: 1:41:35  iter: 10719  total_loss: 0.872  loss_cls: 0.169  loss_box_reg: 0.292  loss_mask: 0.242  loss_rpn_cls: 0.021  loss_rpn_loc: 0.114  time: 0.3699  data_time: 0.0003  lr: 0.001673  max_mem: 7824M\n",
      "\u001b[32m[04/06 20:18:05 d2.utils.events]: \u001b[0m eta: 1:41:27  iter: 10739  total_loss: 0.688  loss_cls: 0.101  loss_box_reg: 0.257  loss_mask: 0.188  loss_rpn_cls: 0.017  loss_rpn_loc: 0.092  time: 0.3699  data_time: 0.0003  lr: 0.001670  max_mem: 7824M\n",
      "\u001b[32m[04/06 20:18:12 d2.utils.events]: \u001b[0m eta: 1:41:21  iter: 10759  total_loss: 0.842  loss_cls: 0.159  loss_box_reg: 0.260  loss_mask: 0.226  loss_rpn_cls: 0.020  loss_rpn_loc: 0.099  time: 0.3699  data_time: 0.0002  lr: 0.001668  max_mem: 7824M\n",
      "\u001b[32m[04/06 20:18:20 d2.utils.events]: \u001b[0m eta: 1:41:14  iter: 10779  total_loss: 0.804  loss_cls: 0.124  loss_box_reg: 0.260  loss_mask: 0.227  loss_rpn_cls: 0.031  loss_rpn_loc: 0.098  time: 0.3699  data_time: 0.0003  lr: 0.001665  max_mem: 7824M\n",
      "\u001b[32m[04/06 20:18:27 d2.utils.events]: \u001b[0m eta: 1:41:15  iter: 10799  total_loss: 0.786  loss_cls: 0.139  loss_box_reg: 0.295  loss_mask: 0.244  loss_rpn_cls: 0.020  loss_rpn_loc: 0.093  time: 0.3700  data_time: 0.0002  lr: 0.001662  max_mem: 7824M\n",
      "\u001b[32m[04/06 20:18:34 d2.utils.events]: \u001b[0m eta: 1:41:02  iter: 10819  total_loss: 0.899  loss_cls: 0.135  loss_box_reg: 0.257  loss_mask: 0.231  loss_rpn_cls: 0.020  loss_rpn_loc: 0.122  time: 0.3699  data_time: 0.0003  lr: 0.001660  max_mem: 7824M\n",
      "\u001b[32m[04/06 20:18:42 d2.utils.events]: \u001b[0m eta: 1:40:54  iter: 10839  total_loss: 0.694  loss_cls: 0.135  loss_box_reg: 0.244  loss_mask: 0.191  loss_rpn_cls: 0.014  loss_rpn_loc: 0.092  time: 0.3699  data_time: 0.0002  lr: 0.001657  max_mem: 7824M\n",
      "\u001b[32m[04/06 20:18:49 d2.utils.events]: \u001b[0m eta: 1:40:45  iter: 10859  total_loss: 0.684  loss_cls: 0.126  loss_box_reg: 0.273  loss_mask: 0.198  loss_rpn_cls: 0.019  loss_rpn_loc: 0.089  time: 0.3699  data_time: 0.0003  lr: 0.001654  max_mem: 7824M\n",
      "\u001b[32m[04/06 20:18:57 d2.utils.events]: \u001b[0m eta: 1:40:36  iter: 10879  total_loss: 0.911  loss_cls: 0.169  loss_box_reg: 0.285  loss_mask: 0.227  loss_rpn_cls: 0.025  loss_rpn_loc: 0.113  time: 0.3699  data_time: 0.0003  lr: 0.001652  max_mem: 7824M\n",
      "\u001b[32m[04/06 20:19:04 d2.utils.events]: \u001b[0m eta: 1:40:31  iter: 10899  total_loss: 0.560  loss_cls: 0.086  loss_box_reg: 0.189  loss_mask: 0.157  loss_rpn_cls: 0.007  loss_rpn_loc: 0.080  time: 0.3699  data_time: 0.0002  lr: 0.001649  max_mem: 7824M\n",
      "\u001b[32m[04/06 20:19:11 d2.utils.events]: \u001b[0m eta: 1:40:20  iter: 10919  total_loss: 0.996  loss_cls: 0.166  loss_box_reg: 0.306  loss_mask: 0.247  loss_rpn_cls: 0.030  loss_rpn_loc: 0.125  time: 0.3699  data_time: 0.0003  lr: 0.001646  max_mem: 7824M\n",
      "\u001b[32m[04/06 20:19:19 d2.utils.events]: \u001b[0m eta: 1:40:16  iter: 10939  total_loss: 0.947  loss_cls: 0.189  loss_box_reg: 0.329  loss_mask: 0.241  loss_rpn_cls: 0.031  loss_rpn_loc: 0.148  time: 0.3699  data_time: 0.0003  lr: 0.001643  max_mem: 7824M\n",
      "\u001b[32m[04/06 20:19:26 d2.utils.events]: \u001b[0m eta: 1:40:09  iter: 10959  total_loss: 0.549  loss_cls: 0.096  loss_box_reg: 0.189  loss_mask: 0.168  loss_rpn_cls: 0.008  loss_rpn_loc: 0.074  time: 0.3699  data_time: 0.0003  lr: 0.001641  max_mem: 7824M\n",
      "\u001b[32m[04/06 20:19:34 d2.utils.events]: \u001b[0m eta: 1:40:05  iter: 10979  total_loss: 0.755  loss_cls: 0.133  loss_box_reg: 0.266  loss_mask: 0.221  loss_rpn_cls: 0.014  loss_rpn_loc: 0.097  time: 0.3699  data_time: 0.0002  lr: 0.001638  max_mem: 7824M\n",
      "\u001b[32m[04/06 20:19:41 d2.utils.events]: \u001b[0m eta: 1:40:01  iter: 10999  total_loss: 0.764  loss_cls: 0.155  loss_box_reg: 0.289  loss_mask: 0.217  loss_rpn_cls: 0.015  loss_rpn_loc: 0.095  time: 0.3699  data_time: 0.0002  lr: 0.001635  max_mem: 7824M\n",
      "\u001b[32m[04/06 20:19:48 d2.utils.events]: \u001b[0m eta: 1:39:54  iter: 11019  total_loss: 0.702  loss_cls: 0.128  loss_box_reg: 0.206  loss_mask: 0.190  loss_rpn_cls: 0.008  loss_rpn_loc: 0.098  time: 0.3699  data_time: 0.0003  lr: 0.001633  max_mem: 7824M\n",
      "\u001b[32m[04/06 20:19:56 d2.utils.events]: \u001b[0m eta: 1:39:47  iter: 11039  total_loss: 0.983  loss_cls: 0.208  loss_box_reg: 0.357  loss_mask: 0.261  loss_rpn_cls: 0.020  loss_rpn_loc: 0.133  time: 0.3699  data_time: 0.0002  lr: 0.001630  max_mem: 7824M\n",
      "\u001b[32m[04/06 20:20:04 d2.utils.events]: \u001b[0m eta: 1:39:42  iter: 11059  total_loss: 0.903  loss_cls: 0.184  loss_box_reg: 0.316  loss_mask: 0.234  loss_rpn_cls: 0.024  loss_rpn_loc: 0.123  time: 0.3700  data_time: 0.0003  lr: 0.001627  max_mem: 7824M\n",
      "\u001b[32m[04/06 20:20:11 d2.utils.events]: \u001b[0m eta: 1:39:35  iter: 11079  total_loss: 0.891  loss_cls: 0.160  loss_box_reg: 0.278  loss_mask: 0.232  loss_rpn_cls: 0.018  loss_rpn_loc: 0.109  time: 0.3699  data_time: 0.0003  lr: 0.001624  max_mem: 7824M\n",
      "\u001b[32m[04/06 20:20:18 d2.utils.events]: \u001b[0m eta: 1:39:27  iter: 11099  total_loss: 0.875  loss_cls: 0.162  loss_box_reg: 0.312  loss_mask: 0.248  loss_rpn_cls: 0.014  loss_rpn_loc: 0.105  time: 0.3699  data_time: 0.0003  lr: 0.001622  max_mem: 7824M\n",
      "\u001b[32m[04/06 20:20:25 d2.utils.events]: \u001b[0m eta: 1:39:19  iter: 11119  total_loss: 0.902  loss_cls: 0.141  loss_box_reg: 0.268  loss_mask: 0.218  loss_rpn_cls: 0.015  loss_rpn_loc: 0.129  time: 0.3699  data_time: 0.0003  lr: 0.001619  max_mem: 7824M\n",
      "\u001b[32m[04/06 20:20:33 d2.utils.events]: \u001b[0m eta: 1:39:21  iter: 11139  total_loss: 0.813  loss_cls: 0.124  loss_box_reg: 0.221  loss_mask: 0.243  loss_rpn_cls: 0.012  loss_rpn_loc: 0.114  time: 0.3699  data_time: 0.0003  lr: 0.001616  max_mem: 7824M\n",
      "\u001b[32m[04/06 20:20:41 d2.utils.events]: \u001b[0m eta: 1:39:16  iter: 11159  total_loss: 0.671  loss_cls: 0.144  loss_box_reg: 0.263  loss_mask: 0.199  loss_rpn_cls: 0.015  loss_rpn_loc: 0.093  time: 0.3700  data_time: 0.0003  lr: 0.001614  max_mem: 7824M\n",
      "\u001b[32m[04/06 20:20:48 d2.utils.events]: \u001b[0m eta: 1:39:10  iter: 11179  total_loss: 0.681  loss_cls: 0.119  loss_box_reg: 0.233  loss_mask: 0.208  loss_rpn_cls: 0.008  loss_rpn_loc: 0.082  time: 0.3700  data_time: 0.0003  lr: 0.001611  max_mem: 7824M\n",
      "\u001b[32m[04/06 20:20:55 d2.utils.events]: \u001b[0m eta: 1:38:58  iter: 11199  total_loss: 0.769  loss_cls: 0.130  loss_box_reg: 0.260  loss_mask: 0.201  loss_rpn_cls: 0.009  loss_rpn_loc: 0.105  time: 0.3699  data_time: 0.0002  lr: 0.001608  max_mem: 7824M\n",
      "\u001b[32m[04/06 20:21:03 d2.utils.events]: \u001b[0m eta: 1:38:44  iter: 11219  total_loss: 0.730  loss_cls: 0.125  loss_box_reg: 0.236  loss_mask: 0.191  loss_rpn_cls: 0.018  loss_rpn_loc: 0.081  time: 0.3699  data_time: 0.0003  lr: 0.001605  max_mem: 7824M\n"
     ]
    },
    {
     "name": "stdout",
     "output_type": "stream",
     "text": [
      "\u001b[32m[04/06 20:21:10 d2.utils.events]: \u001b[0m eta: 1:38:38  iter: 11239  total_loss: 0.797  loss_cls: 0.139  loss_box_reg: 0.272  loss_mask: 0.216  loss_rpn_cls: 0.013  loss_rpn_loc: 0.087  time: 0.3700  data_time: 0.0003  lr: 0.001603  max_mem: 7824M\n",
      "\u001b[32m[04/06 20:21:17 d2.utils.events]: \u001b[0m eta: 1:38:27  iter: 11259  total_loss: 0.978  loss_cls: 0.185  loss_box_reg: 0.265  loss_mask: 0.230  loss_rpn_cls: 0.029  loss_rpn_loc: 0.091  time: 0.3699  data_time: 0.0003  lr: 0.001600  max_mem: 7824M\n",
      "\u001b[32m[04/06 20:21:25 d2.utils.events]: \u001b[0m eta: 1:38:26  iter: 11279  total_loss: 0.741  loss_cls: 0.121  loss_box_reg: 0.227  loss_mask: 0.244  loss_rpn_cls: 0.014  loss_rpn_loc: 0.102  time: 0.3699  data_time: 0.0003  lr: 0.001597  max_mem: 7824M\n",
      "\u001b[32m[04/06 20:21:33 d2.utils.events]: \u001b[0m eta: 1:38:24  iter: 11299  total_loss: 0.690  loss_cls: 0.134  loss_box_reg: 0.244  loss_mask: 0.258  loss_rpn_cls: 0.013  loss_rpn_loc: 0.080  time: 0.3700  data_time: 0.0003  lr: 0.001594  max_mem: 7824M\n",
      "\u001b[32m[04/06 20:21:40 d2.utils.events]: \u001b[0m eta: 1:38:07  iter: 11319  total_loss: 0.651  loss_cls: 0.097  loss_box_reg: 0.224  loss_mask: 0.207  loss_rpn_cls: 0.013  loss_rpn_loc: 0.095  time: 0.3700  data_time: 0.0003  lr: 0.001592  max_mem: 7824M\n",
      "\u001b[32m[04/06 20:21:48 d2.utils.events]: \u001b[0m eta: 1:38:04  iter: 11339  total_loss: 0.698  loss_cls: 0.135  loss_box_reg: 0.216  loss_mask: 0.242  loss_rpn_cls: 0.020  loss_rpn_loc: 0.089  time: 0.3700  data_time: 0.0003  lr: 0.001589  max_mem: 7824M\n",
      "\u001b[32m[04/06 20:21:55 d2.utils.events]: \u001b[0m eta: 1:38:00  iter: 11359  total_loss: 0.803  loss_cls: 0.152  loss_box_reg: 0.308  loss_mask: 0.227  loss_rpn_cls: 0.018  loss_rpn_loc: 0.083  time: 0.3700  data_time: 0.0002  lr: 0.001586  max_mem: 7824M\n",
      "\u001b[32m[04/06 20:22:03 d2.utils.events]: \u001b[0m eta: 1:37:57  iter: 11379  total_loss: 0.731  loss_cls: 0.142  loss_box_reg: 0.233  loss_mask: 0.204  loss_rpn_cls: 0.012  loss_rpn_loc: 0.108  time: 0.3700  data_time: 0.0002  lr: 0.001583  max_mem: 7824M\n",
      "\u001b[32m[04/06 20:22:10 d2.utils.events]: \u001b[0m eta: 1:37:51  iter: 11399  total_loss: 0.895  loss_cls: 0.159  loss_box_reg: 0.335  loss_mask: 0.231  loss_rpn_cls: 0.012  loss_rpn_loc: 0.127  time: 0.3700  data_time: 0.0003  lr: 0.001581  max_mem: 7824M\n",
      "\u001b[32m[04/06 20:22:17 d2.utils.events]: \u001b[0m eta: 1:37:41  iter: 11419  total_loss: 0.790  loss_cls: 0.130  loss_box_reg: 0.282  loss_mask: 0.228  loss_rpn_cls: 0.011  loss_rpn_loc: 0.091  time: 0.3700  data_time: 0.0003  lr: 0.001578  max_mem: 7824M\n",
      "\u001b[32m[04/06 20:22:24 d2.utils.events]: \u001b[0m eta: 1:37:35  iter: 11439  total_loss: 0.617  loss_cls: 0.103  loss_box_reg: 0.208  loss_mask: 0.175  loss_rpn_cls: 0.018  loss_rpn_loc: 0.082  time: 0.3700  data_time: 0.0002  lr: 0.001575  max_mem: 7824M\n",
      "\u001b[32m[04/06 20:22:32 d2.utils.events]: \u001b[0m eta: 1:37:31  iter: 11459  total_loss: 0.770  loss_cls: 0.141  loss_box_reg: 0.202  loss_mask: 0.187  loss_rpn_cls: 0.012  loss_rpn_loc: 0.111  time: 0.3700  data_time: 0.0003  lr: 0.001572  max_mem: 7824M\n",
      "\u001b[32m[04/06 20:22:39 d2.utils.events]: \u001b[0m eta: 1:37:22  iter: 11479  total_loss: 0.592  loss_cls: 0.097  loss_box_reg: 0.236  loss_mask: 0.172  loss_rpn_cls: 0.006  loss_rpn_loc: 0.041  time: 0.3700  data_time: 0.0002  lr: 0.001570  max_mem: 7824M\n",
      "\u001b[32m[04/06 20:22:47 d2.utils.events]: \u001b[0m eta: 1:37:16  iter: 11499  total_loss: 0.943  loss_cls: 0.198  loss_box_reg: 0.312  loss_mask: 0.256  loss_rpn_cls: 0.022  loss_rpn_loc: 0.118  time: 0.3700  data_time: 0.0003  lr: 0.001567  max_mem: 7824M\n",
      "\u001b[32m[04/06 20:22:54 d2.utils.events]: \u001b[0m eta: 1:37:04  iter: 11519  total_loss: 0.705  loss_cls: 0.139  loss_box_reg: 0.276  loss_mask: 0.200  loss_rpn_cls: 0.018  loss_rpn_loc: 0.090  time: 0.3700  data_time: 0.0003  lr: 0.001564  max_mem: 7824M\n",
      "\u001b[32m[04/06 20:23:02 d2.utils.events]: \u001b[0m eta: 1:36:57  iter: 11539  total_loss: 0.769  loss_cls: 0.118  loss_box_reg: 0.261  loss_mask: 0.229  loss_rpn_cls: 0.015  loss_rpn_loc: 0.099  time: 0.3700  data_time: 0.0003  lr: 0.001561  max_mem: 7824M\n",
      "\u001b[32m[04/06 20:23:10 d2.utils.events]: \u001b[0m eta: 1:36:54  iter: 11559  total_loss: 0.774  loss_cls: 0.128  loss_box_reg: 0.266  loss_mask: 0.210  loss_rpn_cls: 0.033  loss_rpn_loc: 0.128  time: 0.3700  data_time: 0.0003  lr: 0.001558  max_mem: 7824M\n",
      "\u001b[32m[04/06 20:23:17 d2.utils.events]: \u001b[0m eta: 1:36:47  iter: 11579  total_loss: 0.775  loss_cls: 0.142  loss_box_reg: 0.265  loss_mask: 0.208  loss_rpn_cls: 0.018  loss_rpn_loc: 0.102  time: 0.3700  data_time: 0.0003  lr: 0.001556  max_mem: 7824M\n",
      "\u001b[32m[04/06 20:23:24 d2.utils.events]: \u001b[0m eta: 1:36:39  iter: 11599  total_loss: 0.810  loss_cls: 0.155  loss_box_reg: 0.257  loss_mask: 0.234  loss_rpn_cls: 0.018  loss_rpn_loc: 0.093  time: 0.3700  data_time: 0.0003  lr: 0.001553  max_mem: 7824M\n",
      "\u001b[32m[04/06 20:23:32 d2.utils.events]: \u001b[0m eta: 1:36:28  iter: 11619  total_loss: 0.863  loss_cls: 0.170  loss_box_reg: 0.277  loss_mask: 0.230  loss_rpn_cls: 0.032  loss_rpn_loc: 0.117  time: 0.3700  data_time: 0.0003  lr: 0.001550  max_mem: 7824M\n",
      "\u001b[32m[04/06 20:23:39 d2.utils.events]: \u001b[0m eta: 1:36:20  iter: 11639  total_loss: 0.686  loss_cls: 0.123  loss_box_reg: 0.255  loss_mask: 0.219  loss_rpn_cls: 0.016  loss_rpn_loc: 0.083  time: 0.3700  data_time: 0.0003  lr: 0.001547  max_mem: 7824M\n",
      "\u001b[32m[04/06 20:23:46 d2.utils.events]: \u001b[0m eta: 1:36:05  iter: 11659  total_loss: 0.862  loss_cls: 0.138  loss_box_reg: 0.262  loss_mask: 0.223  loss_rpn_cls: 0.015  loss_rpn_loc: 0.103  time: 0.3700  data_time: 0.0002  lr: 0.001545  max_mem: 7824M\n",
      "\u001b[32m[04/06 20:23:53 d2.utils.events]: \u001b[0m eta: 1:35:53  iter: 11679  total_loss: 0.700  loss_cls: 0.121  loss_box_reg: 0.250  loss_mask: 0.200  loss_rpn_cls: 0.022  loss_rpn_loc: 0.115  time: 0.3699  data_time: 0.0002  lr: 0.001542  max_mem: 7824M\n",
      "\u001b[32m[04/06 20:24:00 d2.utils.events]: \u001b[0m eta: 1:35:48  iter: 11699  total_loss: 0.723  loss_cls: 0.120  loss_box_reg: 0.262  loss_mask: 0.184  loss_rpn_cls: 0.021  loss_rpn_loc: 0.123  time: 0.3699  data_time: 0.0003  lr: 0.001539  max_mem: 7824M\n",
      "\u001b[32m[04/06 20:24:08 d2.utils.events]: \u001b[0m eta: 1:35:37  iter: 11719  total_loss: 0.853  loss_cls: 0.147  loss_box_reg: 0.281  loss_mask: 0.242  loss_rpn_cls: 0.011  loss_rpn_loc: 0.092  time: 0.3699  data_time: 0.0003  lr: 0.001536  max_mem: 7824M\n",
      "\u001b[32m[04/06 20:24:15 d2.utils.events]: \u001b[0m eta: 1:35:29  iter: 11739  total_loss: 0.642  loss_cls: 0.107  loss_box_reg: 0.217  loss_mask: 0.226  loss_rpn_cls: 0.007  loss_rpn_loc: 0.059  time: 0.3699  data_time: 0.0002  lr: 0.001533  max_mem: 7824M\n",
      "\u001b[32m[04/06 20:24:22 d2.utils.events]: \u001b[0m eta: 1:35:24  iter: 11759  total_loss: 0.755  loss_cls: 0.122  loss_box_reg: 0.264  loss_mask: 0.211  loss_rpn_cls: 0.021  loss_rpn_loc: 0.095  time: 0.3699  data_time: 0.0002  lr: 0.001531  max_mem: 7824M\n",
      "\u001b[32m[04/06 20:24:30 d2.utils.events]: \u001b[0m eta: 1:35:16  iter: 11779  total_loss: 0.930  loss_cls: 0.149  loss_box_reg: 0.304  loss_mask: 0.255  loss_rpn_cls: 0.030  loss_rpn_loc: 0.116  time: 0.3699  data_time: 0.0003  lr: 0.001528  max_mem: 7824M\n",
      "\u001b[32m[04/06 20:24:37 d2.utils.events]: \u001b[0m eta: 1:35:05  iter: 11799  total_loss: 0.781  loss_cls: 0.137  loss_box_reg: 0.265  loss_mask: 0.258  loss_rpn_cls: 0.005  loss_rpn_loc: 0.075  time: 0.3699  data_time: 0.0003  lr: 0.001525  max_mem: 7824M\n",
      "\u001b[32m[04/06 20:24:44 d2.utils.events]: \u001b[0m eta: 1:35:00  iter: 11819  total_loss: 0.833  loss_cls: 0.139  loss_box_reg: 0.303  loss_mask: 0.240  loss_rpn_cls: 0.022  loss_rpn_loc: 0.107  time: 0.3699  data_time: 0.0003  lr: 0.001522  max_mem: 7824M\n",
      "\u001b[32m[04/06 20:24:52 d2.utils.events]: \u001b[0m eta: 1:34:54  iter: 11839  total_loss: 0.683  loss_cls: 0.106  loss_box_reg: 0.243  loss_mask: 0.222  loss_rpn_cls: 0.011  loss_rpn_loc: 0.107  time: 0.3699  data_time: 0.0003  lr: 0.001520  max_mem: 7824M\n",
      "\u001b[32m[04/06 20:24:59 d2.utils.events]: \u001b[0m eta: 1:34:47  iter: 11859  total_loss: 0.652  loss_cls: 0.112  loss_box_reg: 0.218  loss_mask: 0.221  loss_rpn_cls: 0.010  loss_rpn_loc: 0.077  time: 0.3699  data_time: 0.0003  lr: 0.001517  max_mem: 7824M\n",
      "\u001b[32m[04/06 20:25:07 d2.utils.events]: \u001b[0m eta: 1:34:46  iter: 11879  total_loss: 0.475  loss_cls: 0.080  loss_box_reg: 0.184  loss_mask: 0.155  loss_rpn_cls: 0.014  loss_rpn_loc: 0.096  time: 0.3699  data_time: 0.0003  lr: 0.001514  max_mem: 7824M\n"
     ]
    },
    {
     "name": "stdout",
     "output_type": "stream",
     "text": [
      "\u001b[32m[04/06 20:25:14 d2.utils.events]: \u001b[0m eta: 1:34:42  iter: 11899  total_loss: 0.697  loss_cls: 0.106  loss_box_reg: 0.231  loss_mask: 0.214  loss_rpn_cls: 0.012  loss_rpn_loc: 0.085  time: 0.3699  data_time: 0.0003  lr: 0.001511  max_mem: 7824M\n",
      "\u001b[32m[04/06 20:25:15 d2.utils.memory]: \u001b[0mAttempting to copy inputs of <detectron2.modeling.matcher.Matcher object at 0x7f8e9adac9e8> to CPU due to CUDA OOM\n",
      "\u001b[32m[04/06 20:25:26 d2.utils.events]: \u001b[0m eta: 1:34:38  iter: 11919  total_loss: 0.980  loss_cls: 0.163  loss_box_reg: 0.322  loss_mask: 0.255  loss_rpn_cls: 0.032  loss_rpn_loc: 0.120  time: 0.3702  data_time: 0.0003  lr: 0.001508  max_mem: 7824M\n",
      "\u001b[32m[04/06 20:25:33 d2.utils.events]: \u001b[0m eta: 1:34:23  iter: 11939  total_loss: 0.751  loss_cls: 0.136  loss_box_reg: 0.253  loss_mask: 0.226  loss_rpn_cls: 0.014  loss_rpn_loc: 0.120  time: 0.3702  data_time: 0.0003  lr: 0.001506  max_mem: 7824M\n",
      "\u001b[32m[04/06 20:25:41 d2.utils.events]: \u001b[0m eta: 1:34:23  iter: 11959  total_loss: 0.841  loss_cls: 0.140  loss_box_reg: 0.221  loss_mask: 0.243  loss_rpn_cls: 0.016  loss_rpn_loc: 0.105  time: 0.3702  data_time: 0.0002  lr: 0.001503  max_mem: 7824M\n",
      "\u001b[32m[04/06 20:25:48 d2.utils.events]: \u001b[0m eta: 1:34:08  iter: 11979  total_loss: 0.621  loss_cls: 0.122  loss_box_reg: 0.217  loss_mask: 0.185  loss_rpn_cls: 0.013  loss_rpn_loc: 0.081  time: 0.3702  data_time: 0.0003  lr: 0.001500  max_mem: 7824M\n",
      "\u001b[32m[04/06 20:25:55 d2.utils.events]: \u001b[0m eta: 1:34:00  iter: 11999  total_loss: 0.857  loss_cls: 0.129  loss_box_reg: 0.253  loss_mask: 0.231  loss_rpn_cls: 0.015  loss_rpn_loc: 0.120  time: 0.3702  data_time: 0.0002  lr: 0.001497  max_mem: 7824M\n",
      "\u001b[32m[04/06 20:26:02 d2.utils.events]: \u001b[0m eta: 1:33:51  iter: 12019  total_loss: 0.776  loss_cls: 0.161  loss_box_reg: 0.279  loss_mask: 0.217  loss_rpn_cls: 0.021  loss_rpn_loc: 0.113  time: 0.3702  data_time: 0.0003  lr: 0.001494  max_mem: 7824M\n",
      "\u001b[32m[04/06 20:26:10 d2.utils.events]: \u001b[0m eta: 1:33:46  iter: 12039  total_loss: 0.723  loss_cls: 0.143  loss_box_reg: 0.239  loss_mask: 0.221  loss_rpn_cls: 0.025  loss_rpn_loc: 0.111  time: 0.3702  data_time: 0.0003  lr: 0.001492  max_mem: 7824M\n",
      "\u001b[32m[04/06 20:26:18 d2.utils.events]: \u001b[0m eta: 1:33:38  iter: 12059  total_loss: 0.623  loss_cls: 0.124  loss_box_reg: 0.257  loss_mask: 0.187  loss_rpn_cls: 0.013  loss_rpn_loc: 0.071  time: 0.3702  data_time: 0.0003  lr: 0.001489  max_mem: 7824M\n",
      "\u001b[32m[04/06 20:26:25 d2.utils.events]: \u001b[0m eta: 1:33:31  iter: 12079  total_loss: 0.722  loss_cls: 0.108  loss_box_reg: 0.246  loss_mask: 0.188  loss_rpn_cls: 0.007  loss_rpn_loc: 0.086  time: 0.3702  data_time: 0.0002  lr: 0.001486  max_mem: 7824M\n",
      "\u001b[32m[04/06 20:26:32 d2.utils.events]: \u001b[0m eta: 1:33:24  iter: 12099  total_loss: 0.697  loss_cls: 0.129  loss_box_reg: 0.252  loss_mask: 0.205  loss_rpn_cls: 0.018  loss_rpn_loc: 0.108  time: 0.3702  data_time: 0.0003  lr: 0.001483  max_mem: 7824M\n",
      "\u001b[32m[04/06 20:26:39 d2.utils.events]: \u001b[0m eta: 1:33:16  iter: 12119  total_loss: 0.805  loss_cls: 0.165  loss_box_reg: 0.293  loss_mask: 0.246  loss_rpn_cls: 0.018  loss_rpn_loc: 0.095  time: 0.3702  data_time: 0.0003  lr: 0.001480  max_mem: 7824M\n",
      "\u001b[32m[04/06 20:26:47 d2.utils.events]: \u001b[0m eta: 1:33:05  iter: 12139  total_loss: 0.926  loss_cls: 0.140  loss_box_reg: 0.246  loss_mask: 0.258  loss_rpn_cls: 0.014  loss_rpn_loc: 0.118  time: 0.3702  data_time: 0.0003  lr: 0.001478  max_mem: 7824M\n",
      "\u001b[32m[04/06 20:26:54 d2.utils.events]: \u001b[0m eta: 1:32:58  iter: 12159  total_loss: 0.759  loss_cls: 0.125  loss_box_reg: 0.272  loss_mask: 0.230  loss_rpn_cls: 0.013  loss_rpn_loc: 0.098  time: 0.3702  data_time: 0.0003  lr: 0.001475  max_mem: 7824M\n",
      "\u001b[32m[04/06 20:27:02 d2.utils.events]: \u001b[0m eta: 1:32:49  iter: 12179  total_loss: 0.587  loss_cls: 0.089  loss_box_reg: 0.215  loss_mask: 0.170  loss_rpn_cls: 0.019  loss_rpn_loc: 0.097  time: 0.3702  data_time: 0.0002  lr: 0.001472  max_mem: 7824M\n",
      "\u001b[32m[04/06 20:27:09 d2.utils.events]: \u001b[0m eta: 1:32:42  iter: 12199  total_loss: 0.668  loss_cls: 0.139  loss_box_reg: 0.235  loss_mask: 0.197  loss_rpn_cls: 0.016  loss_rpn_loc: 0.098  time: 0.3702  data_time: 0.0003  lr: 0.001469  max_mem: 7824M\n",
      "\u001b[32m[04/06 20:27:16 d2.utils.events]: \u001b[0m eta: 1:32:36  iter: 12219  total_loss: 0.879  loss_cls: 0.171  loss_box_reg: 0.252  loss_mask: 0.245  loss_rpn_cls: 0.017  loss_rpn_loc: 0.119  time: 0.3702  data_time: 0.0002  lr: 0.001466  max_mem: 7824M\n",
      "\u001b[32m[04/06 20:27:24 d2.utils.events]: \u001b[0m eta: 1:32:27  iter: 12239  total_loss: 0.661  loss_cls: 0.123  loss_box_reg: 0.234  loss_mask: 0.185  loss_rpn_cls: 0.019  loss_rpn_loc: 0.076  time: 0.3702  data_time: 0.0003  lr: 0.001463  max_mem: 7824M\n",
      "\u001b[32m[04/06 20:27:31 d2.utils.events]: \u001b[0m eta: 1:32:19  iter: 12259  total_loss: 0.719  loss_cls: 0.116  loss_box_reg: 0.250  loss_mask: 0.194  loss_rpn_cls: 0.009  loss_rpn_loc: 0.101  time: 0.3702  data_time: 0.0002  lr: 0.001461  max_mem: 7824M\n",
      "\u001b[32m[04/06 20:27:38 d2.utils.events]: \u001b[0m eta: 1:32:09  iter: 12279  total_loss: 0.799  loss_cls: 0.156  loss_box_reg: 0.306  loss_mask: 0.231  loss_rpn_cls: 0.007  loss_rpn_loc: 0.093  time: 0.3702  data_time: 0.0003  lr: 0.001458  max_mem: 7824M\n",
      "\u001b[32m[04/06 20:27:46 d2.utils.events]: \u001b[0m eta: 1:31:57  iter: 12299  total_loss: 0.764  loss_cls: 0.131  loss_box_reg: 0.260  loss_mask: 0.209  loss_rpn_cls: 0.020  loss_rpn_loc: 0.102  time: 0.3701  data_time: 0.0003  lr: 0.001455  max_mem: 7824M\n",
      "\u001b[32m[04/06 20:27:53 d2.utils.events]: \u001b[0m eta: 1:31:52  iter: 12319  total_loss: 0.955  loss_cls: 0.213  loss_box_reg: 0.340  loss_mask: 0.242  loss_rpn_cls: 0.017  loss_rpn_loc: 0.124  time: 0.3702  data_time: 0.0003  lr: 0.001452  max_mem: 7824M\n",
      "\u001b[32m[04/06 20:28:01 d2.utils.events]: \u001b[0m eta: 1:31:41  iter: 12339  total_loss: 0.801  loss_cls: 0.148  loss_box_reg: 0.294  loss_mask: 0.212  loss_rpn_cls: 0.026  loss_rpn_loc: 0.124  time: 0.3701  data_time: 0.0003  lr: 0.001449  max_mem: 7824M\n",
      "\u001b[32m[04/06 20:28:08 d2.utils.events]: \u001b[0m eta: 1:31:33  iter: 12359  total_loss: 0.731  loss_cls: 0.123  loss_box_reg: 0.276  loss_mask: 0.203  loss_rpn_cls: 0.014  loss_rpn_loc: 0.081  time: 0.3702  data_time: 0.0003  lr: 0.001447  max_mem: 7824M\n",
      "\u001b[32m[04/06 20:28:15 d2.utils.events]: \u001b[0m eta: 1:31:26  iter: 12379  total_loss: 0.912  loss_cls: 0.151  loss_box_reg: 0.271  loss_mask: 0.266  loss_rpn_cls: 0.011  loss_rpn_loc: 0.107  time: 0.3701  data_time: 0.0003  lr: 0.001444  max_mem: 7824M\n",
      "\u001b[32m[04/06 20:28:23 d2.utils.events]: \u001b[0m eta: 1:31:18  iter: 12399  total_loss: 0.831  loss_cls: 0.178  loss_box_reg: 0.276  loss_mask: 0.234  loss_rpn_cls: 0.014  loss_rpn_loc: 0.109  time: 0.3701  data_time: 0.0003  lr: 0.001441  max_mem: 7824M\n",
      "\u001b[32m[04/06 20:28:30 d2.utils.events]: \u001b[0m eta: 1:31:10  iter: 12419  total_loss: 0.656  loss_cls: 0.105  loss_box_reg: 0.270  loss_mask: 0.206  loss_rpn_cls: 0.009  loss_rpn_loc: 0.082  time: 0.3701  data_time: 0.0003  lr: 0.001438  max_mem: 7824M\n",
      "\u001b[32m[04/06 20:28:37 d2.utils.events]: \u001b[0m eta: 1:30:58  iter: 12439  total_loss: 0.568  loss_cls: 0.103  loss_box_reg: 0.187  loss_mask: 0.203  loss_rpn_cls: 0.007  loss_rpn_loc: 0.083  time: 0.3701  data_time: 0.0003  lr: 0.001435  max_mem: 7824M\n",
      "\u001b[32m[04/06 20:28:44 d2.utils.events]: \u001b[0m eta: 1:30:45  iter: 12459  total_loss: 0.946  loss_cls: 0.148  loss_box_reg: 0.301  loss_mask: 0.262  loss_rpn_cls: 0.017  loss_rpn_loc: 0.126  time: 0.3701  data_time: 0.0003  lr: 0.001432  max_mem: 7824M\n",
      "\u001b[32m[04/06 20:28:52 d2.utils.events]: \u001b[0m eta: 1:30:39  iter: 12479  total_loss: 0.840  loss_cls: 0.143  loss_box_reg: 0.278  loss_mask: 0.221  loss_rpn_cls: 0.018  loss_rpn_loc: 0.123  time: 0.3701  data_time: 0.0003  lr: 0.001430  max_mem: 7824M\n",
      "\u001b[32m[04/06 20:28:59 d2.utils.events]: \u001b[0m eta: 1:30:34  iter: 12499  total_loss: 0.900  loss_cls: 0.169  loss_box_reg: 0.252  loss_mask: 0.226  loss_rpn_cls: 0.026  loss_rpn_loc: 0.109  time: 0.3701  data_time: 0.0003  lr: 0.001427  max_mem: 7824M\n",
      "\u001b[32m[04/06 20:29:06 d2.utils.events]: \u001b[0m eta: 1:30:27  iter: 12519  total_loss: 0.679  loss_cls: 0.134  loss_box_reg: 0.231  loss_mask: 0.180  loss_rpn_cls: 0.016  loss_rpn_loc: 0.106  time: 0.3701  data_time: 0.0003  lr: 0.001424  max_mem: 7824M\n",
      "\u001b[32m[04/06 20:29:14 d2.utils.events]: \u001b[0m eta: 1:30:17  iter: 12539  total_loss: 0.875  loss_cls: 0.172  loss_box_reg: 0.304  loss_mask: 0.234  loss_rpn_cls: 0.017  loss_rpn_loc: 0.098  time: 0.3701  data_time: 0.0002  lr: 0.001421  max_mem: 7824M\n"
     ]
    },
    {
     "name": "stdout",
     "output_type": "stream",
     "text": [
      "\u001b[32m[04/06 20:29:21 d2.utils.events]: \u001b[0m eta: 1:30:07  iter: 12559  total_loss: 0.761  loss_cls: 0.111  loss_box_reg: 0.217  loss_mask: 0.200  loss_rpn_cls: 0.017  loss_rpn_loc: 0.099  time: 0.3701  data_time: 0.0002  lr: 0.001418  max_mem: 7824M\n",
      "\u001b[32m[04/06 20:29:29 d2.utils.events]: \u001b[0m eta: 1:29:57  iter: 12579  total_loss: 0.699  loss_cls: 0.109  loss_box_reg: 0.237  loss_mask: 0.203  loss_rpn_cls: 0.014  loss_rpn_loc: 0.077  time: 0.3701  data_time: 0.0002  lr: 0.001415  max_mem: 7824M\n",
      "\u001b[32m[04/06 20:29:36 d2.utils.events]: \u001b[0m eta: 1:29:52  iter: 12599  total_loss: 0.939  loss_cls: 0.194  loss_box_reg: 0.300  loss_mask: 0.254  loss_rpn_cls: 0.022  loss_rpn_loc: 0.125  time: 0.3701  data_time: 0.0003  lr: 0.001413  max_mem: 7824M\n",
      "\u001b[32m[04/06 20:29:43 d2.utils.events]: \u001b[0m eta: 1:29:46  iter: 12619  total_loss: 0.797  loss_cls: 0.160  loss_box_reg: 0.214  loss_mask: 0.203  loss_rpn_cls: 0.022  loss_rpn_loc: 0.104  time: 0.3701  data_time: 0.0003  lr: 0.001410  max_mem: 7824M\n",
      "\u001b[32m[04/06 20:29:51 d2.utils.events]: \u001b[0m eta: 1:29:36  iter: 12639  total_loss: 0.740  loss_cls: 0.138  loss_box_reg: 0.261  loss_mask: 0.216  loss_rpn_cls: 0.020  loss_rpn_loc: 0.108  time: 0.3700  data_time: 0.0003  lr: 0.001407  max_mem: 7824M\n",
      "\u001b[32m[04/06 20:29:58 d2.utils.events]: \u001b[0m eta: 1:29:29  iter: 12659  total_loss: 0.607  loss_cls: 0.100  loss_box_reg: 0.187  loss_mask: 0.185  loss_rpn_cls: 0.015  loss_rpn_loc: 0.106  time: 0.3701  data_time: 0.0003  lr: 0.001404  max_mem: 7824M\n",
      "\u001b[32m[04/06 20:30:05 d2.utils.events]: \u001b[0m eta: 1:29:24  iter: 12679  total_loss: 0.629  loss_cls: 0.086  loss_box_reg: 0.206  loss_mask: 0.194  loss_rpn_cls: 0.008  loss_rpn_loc: 0.072  time: 0.3700  data_time: 0.0002  lr: 0.001401  max_mem: 7824M\n",
      "\u001b[32m[04/06 20:30:12 d2.utils.events]: \u001b[0m eta: 1:29:15  iter: 12699  total_loss: 0.730  loss_cls: 0.128  loss_box_reg: 0.254  loss_mask: 0.194  loss_rpn_cls: 0.011  loss_rpn_loc: 0.093  time: 0.3700  data_time: 0.0003  lr: 0.001398  max_mem: 7824M\n",
      "\u001b[32m[04/06 20:30:20 d2.utils.events]: \u001b[0m eta: 1:29:07  iter: 12719  total_loss: 0.731  loss_cls: 0.154  loss_box_reg: 0.295  loss_mask: 0.232  loss_rpn_cls: 0.012  loss_rpn_loc: 0.092  time: 0.3700  data_time: 0.0002  lr: 0.001396  max_mem: 7824M\n",
      "\u001b[32m[04/06 20:30:27 d2.utils.events]: \u001b[0m eta: 1:29:03  iter: 12739  total_loss: 0.868  loss_cls: 0.177  loss_box_reg: 0.283  loss_mask: 0.245  loss_rpn_cls: 0.025  loss_rpn_loc: 0.109  time: 0.3700  data_time: 0.0003  lr: 0.001393  max_mem: 7824M\n",
      "\u001b[32m[04/06 20:30:35 d2.utils.events]: \u001b[0m eta: 1:28:53  iter: 12759  total_loss: 0.623  loss_cls: 0.093  loss_box_reg: 0.245  loss_mask: 0.197  loss_rpn_cls: 0.007  loss_rpn_loc: 0.052  time: 0.3700  data_time: 0.0002  lr: 0.001390  max_mem: 7824M\n",
      "\u001b[32m[04/06 20:30:42 d2.utils.events]: \u001b[0m eta: 1:28:46  iter: 12779  total_loss: 0.589  loss_cls: 0.107  loss_box_reg: 0.212  loss_mask: 0.173  loss_rpn_cls: 0.009  loss_rpn_loc: 0.087  time: 0.3700  data_time: 0.0002  lr: 0.001387  max_mem: 7824M\n",
      "\u001b[32m[04/06 20:30:49 d2.utils.events]: \u001b[0m eta: 1:28:39  iter: 12799  total_loss: 0.798  loss_cls: 0.167  loss_box_reg: 0.280  loss_mask: 0.221  loss_rpn_cls: 0.027  loss_rpn_loc: 0.117  time: 0.3700  data_time: 0.0003  lr: 0.001384  max_mem: 7824M\n",
      "\u001b[32m[04/06 20:30:57 d2.utils.events]: \u001b[0m eta: 1:28:33  iter: 12819  total_loss: 0.768  loss_cls: 0.124  loss_box_reg: 0.272  loss_mask: 0.208  loss_rpn_cls: 0.014  loss_rpn_loc: 0.097  time: 0.3700  data_time: 0.0003  lr: 0.001381  max_mem: 7824M\n",
      "\u001b[32m[04/06 20:31:04 d2.utils.events]: \u001b[0m eta: 1:28:23  iter: 12839  total_loss: 0.733  loss_cls: 0.129  loss_box_reg: 0.247  loss_mask: 0.217  loss_rpn_cls: 0.011  loss_rpn_loc: 0.109  time: 0.3700  data_time: 0.0002  lr: 0.001379  max_mem: 7824M\n",
      "\u001b[32m[04/06 20:31:11 d2.utils.events]: \u001b[0m eta: 1:28:13  iter: 12859  total_loss: 0.677  loss_cls: 0.165  loss_box_reg: 0.259  loss_mask: 0.197  loss_rpn_cls: 0.017  loss_rpn_loc: 0.100  time: 0.3700  data_time: 0.0003  lr: 0.001376  max_mem: 7824M\n",
      "\u001b[32m[04/06 20:31:18 d2.utils.events]: \u001b[0m eta: 1:28:04  iter: 12879  total_loss: 0.826  loss_cls: 0.137  loss_box_reg: 0.247  loss_mask: 0.232  loss_rpn_cls: 0.020  loss_rpn_loc: 0.108  time: 0.3700  data_time: 0.0003  lr: 0.001373  max_mem: 7824M\n",
      "\u001b[32m[04/06 20:31:26 d2.utils.events]: \u001b[0m eta: 1:27:59  iter: 12899  total_loss: 0.699  loss_cls: 0.109  loss_box_reg: 0.253  loss_mask: 0.227  loss_rpn_cls: 0.006  loss_rpn_loc: 0.068  time: 0.3700  data_time: 0.0002  lr: 0.001370  max_mem: 7824M\n",
      "\u001b[32m[04/06 20:31:34 d2.utils.events]: \u001b[0m eta: 1:27:55  iter: 12919  total_loss: 0.826  loss_cls: 0.156  loss_box_reg: 0.309  loss_mask: 0.229  loss_rpn_cls: 0.011  loss_rpn_loc: 0.100  time: 0.3700  data_time: 0.0003  lr: 0.001367  max_mem: 7824M\n",
      "\u001b[32m[04/06 20:31:41 d2.utils.events]: \u001b[0m eta: 1:27:47  iter: 12939  total_loss: 0.726  loss_cls: 0.114  loss_box_reg: 0.282  loss_mask: 0.211  loss_rpn_cls: 0.009  loss_rpn_loc: 0.089  time: 0.3700  data_time: 0.0002  lr: 0.001364  max_mem: 7824M\n",
      "\u001b[32m[04/06 20:31:48 d2.utils.events]: \u001b[0m eta: 1:27:40  iter: 12959  total_loss: 0.954  loss_cls: 0.177  loss_box_reg: 0.325  loss_mask: 0.242  loss_rpn_cls: 0.020  loss_rpn_loc: 0.124  time: 0.3700  data_time: 0.0003  lr: 0.001361  max_mem: 7824M\n",
      "\u001b[32m[04/06 20:31:56 d2.utils.events]: \u001b[0m eta: 1:27:33  iter: 12979  total_loss: 0.675  loss_cls: 0.137  loss_box_reg: 0.234  loss_mask: 0.200  loss_rpn_cls: 0.013  loss_rpn_loc: 0.080  time: 0.3700  data_time: 0.0003  lr: 0.001359  max_mem: 7824M\n",
      "\u001b[32m[04/06 20:32:03 d2.utils.events]: \u001b[0m eta: 1:27:26  iter: 12999  total_loss: 0.985  loss_cls: 0.191  loss_box_reg: 0.315  loss_mask: 0.243  loss_rpn_cls: 0.028  loss_rpn_loc: 0.121  time: 0.3700  data_time: 0.0003  lr: 0.001356  max_mem: 7824M\n",
      "\u001b[32m[04/06 20:32:11 d2.utils.events]: \u001b[0m eta: 1:27:19  iter: 13019  total_loss: 0.731  loss_cls: 0.136  loss_box_reg: 0.260  loss_mask: 0.181  loss_rpn_cls: 0.016  loss_rpn_loc: 0.097  time: 0.3700  data_time: 0.0003  lr: 0.001353  max_mem: 7824M\n",
      "\u001b[32m[04/06 20:32:18 d2.utils.events]: \u001b[0m eta: 1:27:15  iter: 13039  total_loss: 0.716  loss_cls: 0.137  loss_box_reg: 0.250  loss_mask: 0.216  loss_rpn_cls: 0.014  loss_rpn_loc: 0.076  time: 0.3700  data_time: 0.0003  lr: 0.001350  max_mem: 7824M\n",
      "\u001b[32m[04/06 20:32:26 d2.utils.events]: \u001b[0m eta: 1:27:04  iter: 13059  total_loss: 0.663  loss_cls: 0.123  loss_box_reg: 0.226  loss_mask: 0.198  loss_rpn_cls: 0.011  loss_rpn_loc: 0.083  time: 0.3700  data_time: 0.0002  lr: 0.001347  max_mem: 7824M\n",
      "\u001b[32m[04/06 20:32:33 d2.utils.events]: \u001b[0m eta: 1:26:57  iter: 13079  total_loss: 0.837  loss_cls: 0.133  loss_box_reg: 0.280  loss_mask: 0.252  loss_rpn_cls: 0.015  loss_rpn_loc: 0.098  time: 0.3700  data_time: 0.0003  lr: 0.001344  max_mem: 7824M\n",
      "\u001b[32m[04/06 20:32:41 d2.utils.events]: \u001b[0m eta: 1:26:50  iter: 13099  total_loss: 0.756  loss_cls: 0.134  loss_box_reg: 0.236  loss_mask: 0.203  loss_rpn_cls: 0.021  loss_rpn_loc: 0.107  time: 0.3700  data_time: 0.0003  lr: 0.001342  max_mem: 7824M\n",
      "\u001b[32m[04/06 20:32:48 d2.utils.events]: \u001b[0m eta: 1:26:43  iter: 13119  total_loss: 0.588  loss_cls: 0.103  loss_box_reg: 0.204  loss_mask: 0.216  loss_rpn_cls: 0.008  loss_rpn_loc: 0.085  time: 0.3700  data_time: 0.0003  lr: 0.001339  max_mem: 7824M\n",
      "\u001b[32m[04/06 20:32:55 d2.utils.events]: \u001b[0m eta: 1:26:35  iter: 13139  total_loss: 0.846  loss_cls: 0.156  loss_box_reg: 0.304  loss_mask: 0.223  loss_rpn_cls: 0.017  loss_rpn_loc: 0.107  time: 0.3700  data_time: 0.0003  lr: 0.001336  max_mem: 7824M\n",
      "\u001b[32m[04/06 20:33:02 d2.utils.events]: \u001b[0m eta: 1:26:16  iter: 13159  total_loss: 0.793  loss_cls: 0.136  loss_box_reg: 0.276  loss_mask: 0.215  loss_rpn_cls: 0.015  loss_rpn_loc: 0.099  time: 0.3700  data_time: 0.0003  lr: 0.001333  max_mem: 7824M\n",
      "\u001b[32m[04/06 20:33:10 d2.utils.events]: \u001b[0m eta: 1:26:13  iter: 13179  total_loss: 0.588  loss_cls: 0.110  loss_box_reg: 0.199  loss_mask: 0.173  loss_rpn_cls: 0.012  loss_rpn_loc: 0.081  time: 0.3700  data_time: 0.0003  lr: 0.001330  max_mem: 7824M\n",
      "\u001b[32m[04/06 20:33:17 d2.utils.events]: \u001b[0m eta: 1:26:10  iter: 13199  total_loss: 0.976  loss_cls: 0.205  loss_box_reg: 0.350  loss_mask: 0.274  loss_rpn_cls: 0.017  loss_rpn_loc: 0.123  time: 0.3700  data_time: 0.0003  lr: 0.001327  max_mem: 7824M\n"
     ]
    },
    {
     "name": "stdout",
     "output_type": "stream",
     "text": [
      "\u001b[32m[04/06 20:33:25 d2.utils.events]: \u001b[0m eta: 1:26:06  iter: 13219  total_loss: 0.695  loss_cls: 0.131  loss_box_reg: 0.224  loss_mask: 0.197  loss_rpn_cls: 0.005  loss_rpn_loc: 0.111  time: 0.3700  data_time: 0.0003  lr: 0.001324  max_mem: 7824M\n",
      "\u001b[32m[04/06 20:33:32 d2.utils.events]: \u001b[0m eta: 1:25:58  iter: 13239  total_loss: 0.480  loss_cls: 0.089  loss_box_reg: 0.189  loss_mask: 0.148  loss_rpn_cls: 0.006  loss_rpn_loc: 0.062  time: 0.3700  data_time: 0.0003  lr: 0.001322  max_mem: 7824M\n",
      "\u001b[32m[04/06 20:33:39 d2.utils.events]: \u001b[0m eta: 1:25:51  iter: 13259  total_loss: 0.812  loss_cls: 0.127  loss_box_reg: 0.265  loss_mask: 0.230  loss_rpn_cls: 0.017  loss_rpn_loc: 0.100  time: 0.3699  data_time: 0.0002  lr: 0.001319  max_mem: 7824M\n",
      "\u001b[32m[04/06 20:33:46 d2.utils.events]: \u001b[0m eta: 1:25:41  iter: 13279  total_loss: 0.746  loss_cls: 0.137  loss_box_reg: 0.272  loss_mask: 0.193  loss_rpn_cls: 0.013  loss_rpn_loc: 0.100  time: 0.3699  data_time: 0.0003  lr: 0.001316  max_mem: 7824M\n",
      "\u001b[32m[04/06 20:33:54 d2.utils.events]: \u001b[0m eta: 1:25:37  iter: 13299  total_loss: 0.686  loss_cls: 0.090  loss_box_reg: 0.194  loss_mask: 0.222  loss_rpn_cls: 0.004  loss_rpn_loc: 0.053  time: 0.3700  data_time: 0.0003  lr: 0.001313  max_mem: 7824M\n",
      "\u001b[32m[04/06 20:34:01 d2.utils.events]: \u001b[0m eta: 1:25:29  iter: 13319  total_loss: 0.926  loss_cls: 0.181  loss_box_reg: 0.314  loss_mask: 0.261  loss_rpn_cls: 0.018  loss_rpn_loc: 0.127  time: 0.3699  data_time: 0.0003  lr: 0.001310  max_mem: 7824M\n",
      "\u001b[32m[04/06 20:34:09 d2.utils.events]: \u001b[0m eta: 1:25:23  iter: 13339  total_loss: 0.715  loss_cls: 0.125  loss_box_reg: 0.251  loss_mask: 0.209  loss_rpn_cls: 0.009  loss_rpn_loc: 0.072  time: 0.3699  data_time: 0.0003  lr: 0.001307  max_mem: 7824M\n",
      "\u001b[32m[04/06 20:34:16 d2.utils.events]: \u001b[0m eta: 1:25:15  iter: 13359  total_loss: 0.676  loss_cls: 0.110  loss_box_reg: 0.265  loss_mask: 0.207  loss_rpn_cls: 0.012  loss_rpn_loc: 0.081  time: 0.3699  data_time: 0.0003  lr: 0.001304  max_mem: 8391M\n",
      "\u001b[32m[04/06 20:34:24 d2.utils.events]: \u001b[0m eta: 1:25:07  iter: 13379  total_loss: 0.687  loss_cls: 0.120  loss_box_reg: 0.244  loss_mask: 0.190  loss_rpn_cls: 0.009  loss_rpn_loc: 0.096  time: 0.3699  data_time: 0.0003  lr: 0.001302  max_mem: 8391M\n",
      "\u001b[32m[04/06 20:34:31 d2.utils.events]: \u001b[0m eta: 1:24:58  iter: 13399  total_loss: 0.869  loss_cls: 0.152  loss_box_reg: 0.315  loss_mask: 0.247  loss_rpn_cls: 0.018  loss_rpn_loc: 0.097  time: 0.3699  data_time: 0.0003  lr: 0.001299  max_mem: 8391M\n",
      "\u001b[32m[04/06 20:34:38 d2.utils.events]: \u001b[0m eta: 1:24:47  iter: 13419  total_loss: 0.931  loss_cls: 0.161  loss_box_reg: 0.287  loss_mask: 0.229  loss_rpn_cls: 0.014  loss_rpn_loc: 0.132  time: 0.3699  data_time: 0.0003  lr: 0.001296  max_mem: 8391M\n",
      "\u001b[32m[04/06 20:34:46 d2.utils.events]: \u001b[0m eta: 1:24:47  iter: 13439  total_loss: 0.708  loss_cls: 0.131  loss_box_reg: 0.251  loss_mask: 0.202  loss_rpn_cls: 0.010  loss_rpn_loc: 0.084  time: 0.3699  data_time: 0.0003  lr: 0.001293  max_mem: 8391M\n",
      "\u001b[32m[04/06 20:34:53 d2.utils.events]: \u001b[0m eta: 1:24:43  iter: 13459  total_loss: 0.581  loss_cls: 0.086  loss_box_reg: 0.203  loss_mask: 0.217  loss_rpn_cls: 0.007  loss_rpn_loc: 0.066  time: 0.3699  data_time: 0.0002  lr: 0.001290  max_mem: 8391M\n",
      "\u001b[32m[04/06 20:35:00 d2.utils.events]: \u001b[0m eta: 1:24:34  iter: 13479  total_loss: 0.778  loss_cls: 0.170  loss_box_reg: 0.250  loss_mask: 0.211  loss_rpn_cls: 0.007  loss_rpn_loc: 0.094  time: 0.3699  data_time: 0.0002  lr: 0.001287  max_mem: 8391M\n",
      "\u001b[32m[04/06 20:35:08 d2.utils.events]: \u001b[0m eta: 1:24:25  iter: 13499  total_loss: 0.583  loss_cls: 0.080  loss_box_reg: 0.214  loss_mask: 0.215  loss_rpn_cls: 0.015  loss_rpn_loc: 0.092  time: 0.3699  data_time: 0.0002  lr: 0.001284  max_mem: 8391M\n",
      "\u001b[32m[04/06 20:35:15 d2.utils.events]: \u001b[0m eta: 1:24:18  iter: 13519  total_loss: 0.705  loss_cls: 0.158  loss_box_reg: 0.270  loss_mask: 0.197  loss_rpn_cls: 0.019  loss_rpn_loc: 0.063  time: 0.3699  data_time: 0.0002  lr: 0.001282  max_mem: 8391M\n",
      "\u001b[32m[04/06 20:35:23 d2.utils.events]: \u001b[0m eta: 1:24:15  iter: 13539  total_loss: 0.628  loss_cls: 0.114  loss_box_reg: 0.263  loss_mask: 0.217  loss_rpn_cls: 0.015  loss_rpn_loc: 0.071  time: 0.3699  data_time: 0.0003  lr: 0.001279  max_mem: 8391M\n",
      "\u001b[32m[04/06 20:35:31 d2.utils.events]: \u001b[0m eta: 1:24:11  iter: 13559  total_loss: 0.920  loss_cls: 0.185  loss_box_reg: 0.260  loss_mask: 0.231  loss_rpn_cls: 0.029  loss_rpn_loc: 0.131  time: 0.3700  data_time: 0.0003  lr: 0.001276  max_mem: 8391M\n",
      "\u001b[32m[04/06 20:35:38 d2.utils.events]: \u001b[0m eta: 1:24:03  iter: 13579  total_loss: 0.677  loss_cls: 0.095  loss_box_reg: 0.254  loss_mask: 0.194  loss_rpn_cls: 0.013  loss_rpn_loc: 0.079  time: 0.3700  data_time: 0.0002  lr: 0.001273  max_mem: 8391M\n",
      "\u001b[32m[04/06 20:35:45 d2.utils.events]: \u001b[0m eta: 1:23:55  iter: 13599  total_loss: 0.720  loss_cls: 0.123  loss_box_reg: 0.226  loss_mask: 0.206  loss_rpn_cls: 0.010  loss_rpn_loc: 0.086  time: 0.3700  data_time: 0.0003  lr: 0.001270  max_mem: 8391M\n",
      "\u001b[32m[04/06 20:35:53 d2.utils.events]: \u001b[0m eta: 1:23:49  iter: 13619  total_loss: 0.701  loss_cls: 0.115  loss_box_reg: 0.218  loss_mask: 0.210  loss_rpn_cls: 0.015  loss_rpn_loc: 0.086  time: 0.3699  data_time: 0.0002  lr: 0.001267  max_mem: 8391M\n",
      "\u001b[32m[04/06 20:36:00 d2.utils.events]: \u001b[0m eta: 1:23:45  iter: 13639  total_loss: 0.529  loss_cls: 0.091  loss_box_reg: 0.174  loss_mask: 0.168  loss_rpn_cls: 0.012  loss_rpn_loc: 0.089  time: 0.3700  data_time: 0.0002  lr: 0.001264  max_mem: 8391M\n",
      "\u001b[32m[04/06 20:36:07 d2.utils.events]: \u001b[0m eta: 1:23:35  iter: 13659  total_loss: 0.938  loss_cls: 0.178  loss_box_reg: 0.329  loss_mask: 0.248  loss_rpn_cls: 0.024  loss_rpn_loc: 0.136  time: 0.3699  data_time: 0.0003  lr: 0.001262  max_mem: 8391M\n",
      "\u001b[32m[04/06 20:36:15 d2.utils.events]: \u001b[0m eta: 1:23:30  iter: 13679  total_loss: 0.924  loss_cls: 0.178  loss_box_reg: 0.344  loss_mask: 0.262  loss_rpn_cls: 0.015  loss_rpn_loc: 0.133  time: 0.3700  data_time: 0.0003  lr: 0.001259  max_mem: 8391M\n",
      "\u001b[32m[04/06 20:36:22 d2.utils.events]: \u001b[0m eta: 1:23:26  iter: 13699  total_loss: 0.629  loss_cls: 0.114  loss_box_reg: 0.226  loss_mask: 0.204  loss_rpn_cls: 0.007  loss_rpn_loc: 0.081  time: 0.3700  data_time: 0.0003  lr: 0.001256  max_mem: 8391M\n",
      "\u001b[32m[04/06 20:36:30 d2.utils.events]: \u001b[0m eta: 1:23:19  iter: 13719  total_loss: 0.593  loss_cls: 0.097  loss_box_reg: 0.182  loss_mask: 0.185  loss_rpn_cls: 0.011  loss_rpn_loc: 0.079  time: 0.3700  data_time: 0.0003  lr: 0.001253  max_mem: 8391M\n",
      "\u001b[32m[04/06 20:36:37 d2.utils.events]: \u001b[0m eta: 1:23:12  iter: 13739  total_loss: 0.623  loss_cls: 0.093  loss_box_reg: 0.199  loss_mask: 0.183  loss_rpn_cls: 0.012  loss_rpn_loc: 0.073  time: 0.3700  data_time: 0.0003  lr: 0.001250  max_mem: 8391M\n",
      "\u001b[32m[04/06 20:36:45 d2.utils.events]: \u001b[0m eta: 1:23:09  iter: 13759  total_loss: 0.700  loss_cls: 0.113  loss_box_reg: 0.282  loss_mask: 0.214  loss_rpn_cls: 0.008  loss_rpn_loc: 0.081  time: 0.3700  data_time: 0.0003  lr: 0.001247  max_mem: 8391M\n",
      "\u001b[32m[04/06 20:36:52 d2.utils.events]: \u001b[0m eta: 1:23:02  iter: 13779  total_loss: 0.795  loss_cls: 0.129  loss_box_reg: 0.262  loss_mask: 0.245  loss_rpn_cls: 0.014  loss_rpn_loc: 0.098  time: 0.3700  data_time: 0.0003  lr: 0.001244  max_mem: 8391M\n",
      "\u001b[32m[04/06 20:36:59 d2.utils.events]: \u001b[0m eta: 1:22:50  iter: 13799  total_loss: 0.866  loss_cls: 0.152  loss_box_reg: 0.308  loss_mask: 0.229  loss_rpn_cls: 0.007  loss_rpn_loc: 0.084  time: 0.3700  data_time: 0.0003  lr: 0.001242  max_mem: 8391M\n",
      "\u001b[32m[04/06 20:37:07 d2.utils.events]: \u001b[0m eta: 1:22:43  iter: 13819  total_loss: 0.913  loss_cls: 0.213  loss_box_reg: 0.312  loss_mask: 0.246  loss_rpn_cls: 0.018  loss_rpn_loc: 0.119  time: 0.3700  data_time: 0.0003  lr: 0.001239  max_mem: 8391M\n",
      "\u001b[32m[04/06 20:37:14 d2.utils.events]: \u001b[0m eta: 1:22:40  iter: 13839  total_loss: 0.720  loss_cls: 0.131  loss_box_reg: 0.295  loss_mask: 0.221  loss_rpn_cls: 0.012  loss_rpn_loc: 0.108  time: 0.3700  data_time: 0.0002  lr: 0.001236  max_mem: 8391M\n",
      "\u001b[32m[04/06 20:37:21 d2.utils.events]: \u001b[0m eta: 1:22:29  iter: 13859  total_loss: 0.667  loss_cls: 0.131  loss_box_reg: 0.230  loss_mask: 0.202  loss_rpn_cls: 0.008  loss_rpn_loc: 0.069  time: 0.3699  data_time: 0.0002  lr: 0.001233  max_mem: 8391M\n"
     ]
    },
    {
     "name": "stdout",
     "output_type": "stream",
     "text": [
      "\u001b[32m[04/06 20:37:28 d2.utils.events]: \u001b[0m eta: 1:22:21  iter: 13879  total_loss: 0.609  loss_cls: 0.122  loss_box_reg: 0.198  loss_mask: 0.160  loss_rpn_cls: 0.008  loss_rpn_loc: 0.095  time: 0.3699  data_time: 0.0002  lr: 0.001230  max_mem: 8391M\n",
      "\u001b[32m[04/06 20:37:36 d2.utils.events]: \u001b[0m eta: 1:22:10  iter: 13899  total_loss: 0.664  loss_cls: 0.100  loss_box_reg: 0.213  loss_mask: 0.186  loss_rpn_cls: 0.005  loss_rpn_loc: 0.084  time: 0.3699  data_time: 0.0002  lr: 0.001227  max_mem: 8391M\n",
      "\u001b[32m[04/06 20:37:43 d2.utils.events]: \u001b[0m eta: 1:21:56  iter: 13919  total_loss: 0.757  loss_cls: 0.138  loss_box_reg: 0.258  loss_mask: 0.203  loss_rpn_cls: 0.010  loss_rpn_loc: 0.089  time: 0.3699  data_time: 0.0002  lr: 0.001224  max_mem: 8391M\n",
      "\u001b[32m[04/06 20:37:50 d2.utils.events]: \u001b[0m eta: 1:21:48  iter: 13939  total_loss: 0.754  loss_cls: 0.170  loss_box_reg: 0.278  loss_mask: 0.202  loss_rpn_cls: 0.012  loss_rpn_loc: 0.110  time: 0.3699  data_time: 0.0003  lr: 0.001222  max_mem: 8391M\n",
      "\u001b[32m[04/06 20:37:58 d2.utils.events]: \u001b[0m eta: 1:21:43  iter: 13959  total_loss: 0.632  loss_cls: 0.125  loss_box_reg: 0.229  loss_mask: 0.176  loss_rpn_cls: 0.019  loss_rpn_loc: 0.084  time: 0.3699  data_time: 0.0002  lr: 0.001219  max_mem: 8391M\n",
      "\u001b[32m[04/06 20:38:06 d2.utils.events]: \u001b[0m eta: 1:21:38  iter: 13979  total_loss: 0.598  loss_cls: 0.085  loss_box_reg: 0.236  loss_mask: 0.203  loss_rpn_cls: 0.007  loss_rpn_loc: 0.087  time: 0.3699  data_time: 0.0003  lr: 0.001216  max_mem: 8391M\n",
      "\u001b[32m[04/06 20:38:13 d2.utils.events]: \u001b[0m eta: 1:21:25  iter: 13999  total_loss: 0.667  loss_cls: 0.093  loss_box_reg: 0.198  loss_mask: 0.195  loss_rpn_cls: 0.004  loss_rpn_loc: 0.077  time: 0.3699  data_time: 0.0003  lr: 0.001213  max_mem: 8391M\n",
      "\u001b[32m[04/06 20:38:20 d2.utils.events]: \u001b[0m eta: 1:21:16  iter: 14019  total_loss: 0.857  loss_cls: 0.175  loss_box_reg: 0.306  loss_mask: 0.231  loss_rpn_cls: 0.012  loss_rpn_loc: 0.128  time: 0.3699  data_time: 0.0002  lr: 0.001210  max_mem: 8391M\n",
      "\u001b[32m[04/06 20:38:27 d2.utils.events]: \u001b[0m eta: 1:21:06  iter: 14039  total_loss: 0.573  loss_cls: 0.095  loss_box_reg: 0.193  loss_mask: 0.184  loss_rpn_cls: 0.005  loss_rpn_loc: 0.070  time: 0.3699  data_time: 0.0003  lr: 0.001207  max_mem: 8391M\n",
      "\u001b[32m[04/06 20:38:35 d2.utils.events]: \u001b[0m eta: 1:21:00  iter: 14059  total_loss: 0.542  loss_cls: 0.083  loss_box_reg: 0.202  loss_mask: 0.167  loss_rpn_cls: 0.008  loss_rpn_loc: 0.057  time: 0.3699  data_time: 0.0003  lr: 0.001204  max_mem: 8391M\n",
      "\u001b[32m[04/06 20:38:42 d2.utils.events]: \u001b[0m eta: 1:20:54  iter: 14079  total_loss: 0.649  loss_cls: 0.126  loss_box_reg: 0.271  loss_mask: 0.222  loss_rpn_cls: 0.014  loss_rpn_loc: 0.077  time: 0.3699  data_time: 0.0003  lr: 0.001202  max_mem: 8391M\n",
      "\u001b[32m[04/06 20:38:50 d2.utils.events]: \u001b[0m eta: 1:20:47  iter: 14099  total_loss: 0.778  loss_cls: 0.168  loss_box_reg: 0.275  loss_mask: 0.216  loss_rpn_cls: 0.019  loss_rpn_loc: 0.093  time: 0.3699  data_time: 0.0002  lr: 0.001199  max_mem: 8391M\n",
      "\u001b[32m[04/06 20:38:57 d2.utils.events]: \u001b[0m eta: 1:20:44  iter: 14119  total_loss: 0.748  loss_cls: 0.121  loss_box_reg: 0.237  loss_mask: 0.208  loss_rpn_cls: 0.005  loss_rpn_loc: 0.085  time: 0.3699  data_time: 0.0003  lr: 0.001196  max_mem: 8391M\n",
      "\u001b[32m[04/06 20:39:04 d2.utils.events]: \u001b[0m eta: 1:20:37  iter: 14139  total_loss: 0.756  loss_cls: 0.133  loss_box_reg: 0.239  loss_mask: 0.180  loss_rpn_cls: 0.017  loss_rpn_loc: 0.119  time: 0.3699  data_time: 0.0003  lr: 0.001193  max_mem: 8391M\n",
      "\u001b[32m[04/06 20:39:12 d2.utils.events]: \u001b[0m eta: 1:20:34  iter: 14159  total_loss: 0.905  loss_cls: 0.134  loss_box_reg: 0.302  loss_mask: 0.265  loss_rpn_cls: 0.012  loss_rpn_loc: 0.108  time: 0.3699  data_time: 0.0003  lr: 0.001190  max_mem: 8391M\n",
      "\u001b[32m[04/06 20:39:19 d2.utils.events]: \u001b[0m eta: 1:20:29  iter: 14179  total_loss: 0.637  loss_cls: 0.099  loss_box_reg: 0.209  loss_mask: 0.206  loss_rpn_cls: 0.015  loss_rpn_loc: 0.079  time: 0.3699  data_time: 0.0003  lr: 0.001187  max_mem: 8391M\n",
      "\u001b[32m[04/06 20:39:26 d2.utils.events]: \u001b[0m eta: 1:20:20  iter: 14199  total_loss: 0.798  loss_cls: 0.109  loss_box_reg: 0.295  loss_mask: 0.257  loss_rpn_cls: 0.015  loss_rpn_loc: 0.111  time: 0.3699  data_time: 0.0002  lr: 0.001184  max_mem: 8391M\n",
      "\u001b[32m[04/06 20:39:34 d2.utils.events]: \u001b[0m eta: 1:20:12  iter: 14219  total_loss: 0.852  loss_cls: 0.127  loss_box_reg: 0.310  loss_mask: 0.251  loss_rpn_cls: 0.014  loss_rpn_loc: 0.081  time: 0.3699  data_time: 0.0003  lr: 0.001182  max_mem: 8391M\n",
      "\u001b[32m[04/06 20:39:41 d2.utils.events]: \u001b[0m eta: 1:20:05  iter: 14239  total_loss: 0.769  loss_cls: 0.138  loss_box_reg: 0.246  loss_mask: 0.203  loss_rpn_cls: 0.009  loss_rpn_loc: 0.091  time: 0.3699  data_time: 0.0002  lr: 0.001179  max_mem: 8391M\n",
      "\u001b[32m[04/06 20:39:48 d2.utils.events]: \u001b[0m eta: 1:19:58  iter: 14259  total_loss: 0.725  loss_cls: 0.132  loss_box_reg: 0.252  loss_mask: 0.226  loss_rpn_cls: 0.016  loss_rpn_loc: 0.095  time: 0.3698  data_time: 0.0002  lr: 0.001176  max_mem: 8391M\n",
      "\u001b[32m[04/06 20:39:56 d2.utils.events]: \u001b[0m eta: 1:19:51  iter: 14279  total_loss: 0.783  loss_cls: 0.169  loss_box_reg: 0.259  loss_mask: 0.230  loss_rpn_cls: 0.007  loss_rpn_loc: 0.091  time: 0.3698  data_time: 0.0003  lr: 0.001173  max_mem: 8391M\n",
      "\u001b[32m[04/06 20:40:03 d2.utils.events]: \u001b[0m eta: 1:19:42  iter: 14299  total_loss: 0.798  loss_cls: 0.148  loss_box_reg: 0.244  loss_mask: 0.269  loss_rpn_cls: 0.011  loss_rpn_loc: 0.076  time: 0.3698  data_time: 0.0002  lr: 0.001170  max_mem: 8391M\n",
      "\u001b[32m[04/06 20:40:11 d2.utils.events]: \u001b[0m eta: 1:19:40  iter: 14319  total_loss: 0.952  loss_cls: 0.151  loss_box_reg: 0.283  loss_mask: 0.259  loss_rpn_cls: 0.020  loss_rpn_loc: 0.112  time: 0.3699  data_time: 0.0003  lr: 0.001167  max_mem: 8391M\n",
      "\u001b[32m[04/06 20:40:18 d2.utils.events]: \u001b[0m eta: 1:19:33  iter: 14339  total_loss: 0.792  loss_cls: 0.130  loss_box_reg: 0.226  loss_mask: 0.238  loss_rpn_cls: 0.017  loss_rpn_loc: 0.143  time: 0.3699  data_time: 0.0003  lr: 0.001164  max_mem: 8391M\n",
      "\u001b[32m[04/06 20:40:25 d2.utils.events]: \u001b[0m eta: 1:19:26  iter: 14359  total_loss: 0.680  loss_cls: 0.099  loss_box_reg: 0.192  loss_mask: 0.208  loss_rpn_cls: 0.010  loss_rpn_loc: 0.091  time: 0.3698  data_time: 0.0003  lr: 0.001162  max_mem: 8391M\n",
      "\u001b[32m[04/06 20:40:33 d2.utils.events]: \u001b[0m eta: 1:19:18  iter: 14379  total_loss: 0.941  loss_cls: 0.163  loss_box_reg: 0.287  loss_mask: 0.253  loss_rpn_cls: 0.021  loss_rpn_loc: 0.124  time: 0.3698  data_time: 0.0003  lr: 0.001159  max_mem: 8391M\n",
      "\u001b[32m[04/06 20:40:40 d2.utils.events]: \u001b[0m eta: 1:19:10  iter: 14399  total_loss: 0.637  loss_cls: 0.127  loss_box_reg: 0.208  loss_mask: 0.232  loss_rpn_cls: 0.010  loss_rpn_loc: 0.091  time: 0.3698  data_time: 0.0003  lr: 0.001156  max_mem: 8391M\n",
      "\u001b[32m[04/06 20:40:47 d2.utils.events]: \u001b[0m eta: 1:19:04  iter: 14419  total_loss: 0.509  loss_cls: 0.095  loss_box_reg: 0.170  loss_mask: 0.163  loss_rpn_cls: 0.007  loss_rpn_loc: 0.079  time: 0.3698  data_time: 0.0003  lr: 0.001153  max_mem: 8391M\n",
      "\u001b[32m[04/06 20:40:55 d2.utils.events]: \u001b[0m eta: 1:18:56  iter: 14439  total_loss: 0.752  loss_cls: 0.110  loss_box_reg: 0.257  loss_mask: 0.198  loss_rpn_cls: 0.013  loss_rpn_loc: 0.109  time: 0.3698  data_time: 0.0002  lr: 0.001150  max_mem: 8391M\n",
      "\u001b[32m[04/06 20:41:02 d2.utils.events]: \u001b[0m eta: 1:18:49  iter: 14459  total_loss: 0.685  loss_cls: 0.097  loss_box_reg: 0.238  loss_mask: 0.201  loss_rpn_cls: 0.010  loss_rpn_loc: 0.106  time: 0.3698  data_time: 0.0002  lr: 0.001147  max_mem: 8391M\n",
      "\u001b[32m[04/06 20:41:09 d2.utils.events]: \u001b[0m eta: 1:18:42  iter: 14479  total_loss: 0.769  loss_cls: 0.143  loss_box_reg: 0.273  loss_mask: 0.245  loss_rpn_cls: 0.011  loss_rpn_loc: 0.091  time: 0.3698  data_time: 0.0003  lr: 0.001145  max_mem: 8391M\n",
      "\u001b[32m[04/06 20:41:17 d2.utils.events]: \u001b[0m eta: 1:18:35  iter: 14499  total_loss: 0.722  loss_cls: 0.128  loss_box_reg: 0.261  loss_mask: 0.225  loss_rpn_cls: 0.009  loss_rpn_loc: 0.111  time: 0.3698  data_time: 0.0003  lr: 0.001142  max_mem: 8391M\n",
      "\u001b[32m[04/06 20:41:24 d2.utils.events]: \u001b[0m eta: 1:18:28  iter: 14519  total_loss: 0.687  loss_cls: 0.139  loss_box_reg: 0.249  loss_mask: 0.216  loss_rpn_cls: 0.012  loss_rpn_loc: 0.087  time: 0.3698  data_time: 0.0002  lr: 0.001139  max_mem: 8391M\n"
     ]
    },
    {
     "name": "stdout",
     "output_type": "stream",
     "text": [
      "\u001b[32m[04/06 20:41:31 d2.utils.events]: \u001b[0m eta: 1:18:16  iter: 14539  total_loss: 0.684  loss_cls: 0.117  loss_box_reg: 0.224  loss_mask: 0.211  loss_rpn_cls: 0.017  loss_rpn_loc: 0.108  time: 0.3698  data_time: 0.0003  lr: 0.001136  max_mem: 8391M\n",
      "\u001b[32m[04/06 20:41:39 d2.utils.events]: \u001b[0m eta: 1:18:09  iter: 14559  total_loss: 0.962  loss_cls: 0.174  loss_box_reg: 0.333  loss_mask: 0.256  loss_rpn_cls: 0.020  loss_rpn_loc: 0.118  time: 0.3698  data_time: 0.0003  lr: 0.001133  max_mem: 8391M\n",
      "\u001b[32m[04/06 20:41:46 d2.utils.events]: \u001b[0m eta: 1:18:02  iter: 14579  total_loss: 0.822  loss_cls: 0.102  loss_box_reg: 0.265  loss_mask: 0.252  loss_rpn_cls: 0.014  loss_rpn_loc: 0.066  time: 0.3698  data_time: 0.0002  lr: 0.001130  max_mem: 8391M\n",
      "\u001b[32m[04/06 20:41:54 d2.utils.events]: \u001b[0m eta: 1:17:54  iter: 14599  total_loss: 0.648  loss_cls: 0.115  loss_box_reg: 0.239  loss_mask: 0.207  loss_rpn_cls: 0.007  loss_rpn_loc: 0.088  time: 0.3698  data_time: 0.0003  lr: 0.001127  max_mem: 8391M\n",
      "\u001b[32m[04/06 20:42:01 d2.utils.events]: \u001b[0m eta: 1:17:46  iter: 14619  total_loss: 0.543  loss_cls: 0.121  loss_box_reg: 0.215  loss_mask: 0.151  loss_rpn_cls: 0.006  loss_rpn_loc: 0.067  time: 0.3698  data_time: 0.0003  lr: 0.001125  max_mem: 8391M\n",
      "\u001b[32m[04/06 20:42:08 d2.utils.events]: \u001b[0m eta: 1:17:42  iter: 14639  total_loss: 0.686  loss_cls: 0.126  loss_box_reg: 0.234  loss_mask: 0.213  loss_rpn_cls: 0.010  loss_rpn_loc: 0.105  time: 0.3698  data_time: 0.0003  lr: 0.001122  max_mem: 8391M\n",
      "\u001b[32m[04/06 20:42:15 d2.utils.events]: \u001b[0m eta: 1:17:32  iter: 14659  total_loss: 0.510  loss_cls: 0.100  loss_box_reg: 0.202  loss_mask: 0.170  loss_rpn_cls: 0.007  loss_rpn_loc: 0.089  time: 0.3698  data_time: 0.0002  lr: 0.001119  max_mem: 8391M\n",
      "\u001b[32m[04/06 20:42:23 d2.utils.events]: \u001b[0m eta: 1:17:20  iter: 14679  total_loss: 0.901  loss_cls: 0.153  loss_box_reg: 0.317  loss_mask: 0.254  loss_rpn_cls: 0.019  loss_rpn_loc: 0.112  time: 0.3698  data_time: 0.0003  lr: 0.001116  max_mem: 8391M\n",
      "\u001b[32m[04/06 20:42:30 d2.utils.events]: \u001b[0m eta: 1:17:12  iter: 14699  total_loss: 0.577  loss_cls: 0.089  loss_box_reg: 0.238  loss_mask: 0.180  loss_rpn_cls: 0.010  loss_rpn_loc: 0.060  time: 0.3698  data_time: 0.0003  lr: 0.001113  max_mem: 8391M\n",
      "\u001b[32m[04/06 20:42:38 d2.utils.events]: \u001b[0m eta: 1:17:08  iter: 14719  total_loss: 0.989  loss_cls: 0.169  loss_box_reg: 0.338  loss_mask: 0.272  loss_rpn_cls: 0.020  loss_rpn_loc: 0.122  time: 0.3698  data_time: 0.0003  lr: 0.001110  max_mem: 8391M\n",
      "\u001b[32m[04/06 20:42:45 d2.utils.events]: \u001b[0m eta: 1:17:04  iter: 14739  total_loss: 0.677  loss_cls: 0.121  loss_box_reg: 0.256  loss_mask: 0.191  loss_rpn_cls: 0.010  loss_rpn_loc: 0.078  time: 0.3698  data_time: 0.0003  lr: 0.001108  max_mem: 8391M\n",
      "\u001b[32m[04/06 20:42:52 d2.utils.events]: \u001b[0m eta: 1:16:54  iter: 14759  total_loss: 0.599  loss_cls: 0.118  loss_box_reg: 0.240  loss_mask: 0.189  loss_rpn_cls: 0.014  loss_rpn_loc: 0.080  time: 0.3698  data_time: 0.0002  lr: 0.001105  max_mem: 8391M\n",
      "\u001b[32m[04/06 20:43:00 d2.utils.events]: \u001b[0m eta: 1:16:45  iter: 14779  total_loss: 0.692  loss_cls: 0.116  loss_box_reg: 0.181  loss_mask: 0.204  loss_rpn_cls: 0.008  loss_rpn_loc: 0.079  time: 0.3698  data_time: 0.0003  lr: 0.001102  max_mem: 8391M\n",
      "\u001b[32m[04/06 20:43:07 d2.utils.events]: \u001b[0m eta: 1:16:38  iter: 14799  total_loss: 0.778  loss_cls: 0.110  loss_box_reg: 0.258  loss_mask: 0.206  loss_rpn_cls: 0.012  loss_rpn_loc: 0.103  time: 0.3698  data_time: 0.0003  lr: 0.001099  max_mem: 8391M\n",
      "\u001b[32m[04/06 20:43:14 d2.utils.events]: \u001b[0m eta: 1:16:27  iter: 14819  total_loss: 0.475  loss_cls: 0.085  loss_box_reg: 0.179  loss_mask: 0.152  loss_rpn_cls: 0.005  loss_rpn_loc: 0.074  time: 0.3697  data_time: 0.0002  lr: 0.001096  max_mem: 8391M\n",
      "\u001b[32m[04/06 20:43:22 d2.utils.events]: \u001b[0m eta: 1:16:19  iter: 14839  total_loss: 0.446  loss_cls: 0.066  loss_box_reg: 0.180  loss_mask: 0.156  loss_rpn_cls: 0.003  loss_rpn_loc: 0.050  time: 0.3697  data_time: 0.0003  lr: 0.001093  max_mem: 8391M\n",
      "\u001b[32m[04/06 20:43:29 d2.utils.events]: \u001b[0m eta: 1:16:18  iter: 14859  total_loss: 0.795  loss_cls: 0.127  loss_box_reg: 0.279  loss_mask: 0.247  loss_rpn_cls: 0.011  loss_rpn_loc: 0.099  time: 0.3697  data_time: 0.0002  lr: 0.001091  max_mem: 8391M\n",
      "\u001b[32m[04/06 20:43:36 d2.utils.events]: \u001b[0m eta: 1:16:10  iter: 14879  total_loss: 0.517  loss_cls: 0.100  loss_box_reg: 0.174  loss_mask: 0.179  loss_rpn_cls: 0.009  loss_rpn_loc: 0.069  time: 0.3697  data_time: 0.0002  lr: 0.001088  max_mem: 8391M\n",
      "\u001b[32m[04/06 20:43:44 d2.utils.events]: \u001b[0m eta: 1:16:01  iter: 14899  total_loss: 0.917  loss_cls: 0.146  loss_box_reg: 0.320  loss_mask: 0.238  loss_rpn_cls: 0.017  loss_rpn_loc: 0.100  time: 0.3697  data_time: 0.0002  lr: 0.001085  max_mem: 8391M\n",
      "\u001b[32m[04/06 20:43:51 d2.utils.events]: \u001b[0m eta: 1:15:58  iter: 14919  total_loss: 0.589  loss_cls: 0.109  loss_box_reg: 0.225  loss_mask: 0.184  loss_rpn_cls: 0.012  loss_rpn_loc: 0.078  time: 0.3697  data_time: 0.0003  lr: 0.001082  max_mem: 8391M\n",
      "\u001b[32m[04/06 20:43:58 d2.utils.events]: \u001b[0m eta: 1:15:50  iter: 14939  total_loss: 0.601  loss_cls: 0.108  loss_box_reg: 0.196  loss_mask: 0.172  loss_rpn_cls: 0.005  loss_rpn_loc: 0.069  time: 0.3697  data_time: 0.0002  lr: 0.001079  max_mem: 8391M\n",
      "\u001b[32m[04/06 20:44:05 d2.utils.events]: \u001b[0m eta: 1:15:40  iter: 14959  total_loss: 0.900  loss_cls: 0.185  loss_box_reg: 0.291  loss_mask: 0.235  loss_rpn_cls: 0.021  loss_rpn_loc: 0.115  time: 0.3697  data_time: 0.0003  lr: 0.001076  max_mem: 8391M\n",
      "\u001b[32m[04/06 20:44:13 d2.utils.events]: \u001b[0m eta: 1:15:30  iter: 14979  total_loss: 0.840  loss_cls: 0.143  loss_box_reg: 0.216  loss_mask: 0.259  loss_rpn_cls: 0.014  loss_rpn_loc: 0.095  time: 0.3697  data_time: 0.0002  lr: 0.001074  max_mem: 8391M\n",
      "\u001b[32m[04/06 20:44:24 d2.utils.events]: \u001b[0m eta: 1:15:27  iter: 14999  total_loss: 0.595  loss_cls: 0.109  loss_box_reg: 0.192  loss_mask: 0.163  loss_rpn_cls: 0.010  loss_rpn_loc: 0.074  time: 0.3697  data_time: 0.0003  lr: 0.001071  max_mem: 8391M\n",
      "\u001b[32m[04/06 20:44:31 d2.utils.events]: \u001b[0m eta: 1:15:21  iter: 15019  total_loss: 0.879  loss_cls: 0.193  loss_box_reg: 0.283  loss_mask: 0.252  loss_rpn_cls: 0.011  loss_rpn_loc: 0.092  time: 0.3697  data_time: 0.0003  lr: 0.001068  max_mem: 8391M\n",
      "\u001b[32m[04/06 20:44:39 d2.utils.events]: \u001b[0m eta: 1:15:12  iter: 15039  total_loss: 0.924  loss_cls: 0.162  loss_box_reg: 0.315  loss_mask: 0.268  loss_rpn_cls: 0.025  loss_rpn_loc: 0.134  time: 0.3697  data_time: 0.0003  lr: 0.001065  max_mem: 8391M\n",
      "\u001b[32m[04/06 20:44:46 d2.utils.events]: \u001b[0m eta: 1:15:07  iter: 15059  total_loss: 0.576  loss_cls: 0.119  loss_box_reg: 0.174  loss_mask: 0.170  loss_rpn_cls: 0.010  loss_rpn_loc: 0.087  time: 0.3697  data_time: 0.0003  lr: 0.001062  max_mem: 8391M\n",
      "\u001b[32m[04/06 20:44:54 d2.utils.events]: \u001b[0m eta: 1:14:59  iter: 15079  total_loss: 0.814  loss_cls: 0.168  loss_box_reg: 0.305  loss_mask: 0.225  loss_rpn_cls: 0.018  loss_rpn_loc: 0.109  time: 0.3697  data_time: 0.0003  lr: 0.001059  max_mem: 8391M\n",
      "\u001b[32m[04/06 20:45:01 d2.utils.events]: \u001b[0m eta: 1:14:53  iter: 15099  total_loss: 0.693  loss_cls: 0.125  loss_box_reg: 0.266  loss_mask: 0.212  loss_rpn_cls: 0.009  loss_rpn_loc: 0.078  time: 0.3697  data_time: 0.0003  lr: 0.001057  max_mem: 8391M\n",
      "\u001b[32m[04/06 20:45:08 d2.utils.events]: \u001b[0m eta: 1:14:44  iter: 15119  total_loss: 0.739  loss_cls: 0.106  loss_box_reg: 0.280  loss_mask: 0.216  loss_rpn_cls: 0.014  loss_rpn_loc: 0.105  time: 0.3697  data_time: 0.0002  lr: 0.001054  max_mem: 8391M\n",
      "\u001b[32m[04/06 20:45:16 d2.utils.events]: \u001b[0m eta: 1:14:39  iter: 15139  total_loss: 0.822  loss_cls: 0.143  loss_box_reg: 0.297  loss_mask: 0.225  loss_rpn_cls: 0.013  loss_rpn_loc: 0.114  time: 0.3697  data_time: 0.0003  lr: 0.001051  max_mem: 8391M\n",
      "\u001b[32m[04/06 20:45:23 d2.utils.events]: \u001b[0m eta: 1:14:35  iter: 15159  total_loss: 0.834  loss_cls: 0.157  loss_box_reg: 0.285  loss_mask: 0.239  loss_rpn_cls: 0.016  loss_rpn_loc: 0.097  time: 0.3697  data_time: 0.0002  lr: 0.001048  max_mem: 8391M\n",
      "\u001b[32m[04/06 20:45:30 d2.utils.events]: \u001b[0m eta: 1:14:23  iter: 15179  total_loss: 0.807  loss_cls: 0.140  loss_box_reg: 0.295  loss_mask: 0.226  loss_rpn_cls: 0.017  loss_rpn_loc: 0.108  time: 0.3697  data_time: 0.0002  lr: 0.001045  max_mem: 8391M\n"
     ]
    },
    {
     "name": "stdout",
     "output_type": "stream",
     "text": [
      "\u001b[32m[04/06 20:45:38 d2.utils.events]: \u001b[0m eta: 1:14:15  iter: 15199  total_loss: 0.694  loss_cls: 0.106  loss_box_reg: 0.231  loss_mask: 0.206  loss_rpn_cls: 0.010  loss_rpn_loc: 0.068  time: 0.3697  data_time: 0.0003  lr: 0.001042  max_mem: 8391M\n",
      "\u001b[32m[04/06 20:45:45 d2.utils.events]: \u001b[0m eta: 1:14:07  iter: 15219  total_loss: 0.789  loss_cls: 0.150  loss_box_reg: 0.267  loss_mask: 0.226  loss_rpn_cls: 0.011  loss_rpn_loc: 0.080  time: 0.3697  data_time: 0.0003  lr: 0.001040  max_mem: 8391M\n",
      "\u001b[32m[04/06 20:45:52 d2.utils.events]: \u001b[0m eta: 1:13:55  iter: 15239  total_loss: 0.562  loss_cls: 0.094  loss_box_reg: 0.188  loss_mask: 0.171  loss_rpn_cls: 0.005  loss_rpn_loc: 0.067  time: 0.3697  data_time: 0.0003  lr: 0.001037  max_mem: 8391M\n",
      "\u001b[32m[04/06 20:46:00 d2.utils.events]: \u001b[0m eta: 1:13:49  iter: 15259  total_loss: 0.631  loss_cls: 0.091  loss_box_reg: 0.189  loss_mask: 0.218  loss_rpn_cls: 0.016  loss_rpn_loc: 0.099  time: 0.3697  data_time: 0.0003  lr: 0.001034  max_mem: 8391M\n",
      "\u001b[32m[04/06 20:46:07 d2.utils.events]: \u001b[0m eta: 1:13:41  iter: 15279  total_loss: 0.809  loss_cls: 0.119  loss_box_reg: 0.247  loss_mask: 0.227  loss_rpn_cls: 0.004  loss_rpn_loc: 0.061  time: 0.3697  data_time: 0.0003  lr: 0.001031  max_mem: 8391M\n",
      "\u001b[32m[04/06 20:46:15 d2.utils.events]: \u001b[0m eta: 1:13:35  iter: 15299  total_loss: 0.971  loss_cls: 0.198  loss_box_reg: 0.356  loss_mask: 0.269  loss_rpn_cls: 0.022  loss_rpn_loc: 0.136  time: 0.3697  data_time: 0.0003  lr: 0.001028  max_mem: 8391M\n",
      "\u001b[32m[04/06 20:46:22 d2.utils.events]: \u001b[0m eta: 1:13:25  iter: 15319  total_loss: 0.797  loss_cls: 0.137  loss_box_reg: 0.269  loss_mask: 0.233  loss_rpn_cls: 0.008  loss_rpn_loc: 0.088  time: 0.3697  data_time: 0.0003  lr: 0.001026  max_mem: 8391M\n",
      "\u001b[32m[04/06 20:46:29 d2.utils.events]: \u001b[0m eta: 1:13:19  iter: 15339  total_loss: 0.529  loss_cls: 0.098  loss_box_reg: 0.204  loss_mask: 0.161  loss_rpn_cls: 0.011  loss_rpn_loc: 0.066  time: 0.3697  data_time: 0.0003  lr: 0.001023  max_mem: 8391M\n",
      "\u001b[32m[04/06 20:46:37 d2.utils.events]: \u001b[0m eta: 1:13:14  iter: 15359  total_loss: 0.665  loss_cls: 0.101  loss_box_reg: 0.214  loss_mask: 0.234  loss_rpn_cls: 0.007  loss_rpn_loc: 0.073  time: 0.3697  data_time: 0.0002  lr: 0.001020  max_mem: 8391M\n",
      "\u001b[32m[04/06 20:46:44 d2.utils.events]: \u001b[0m eta: 1:13:05  iter: 15379  total_loss: 0.622  loss_cls: 0.094  loss_box_reg: 0.217  loss_mask: 0.200  loss_rpn_cls: 0.004  loss_rpn_loc: 0.073  time: 0.3697  data_time: 0.0002  lr: 0.001017  max_mem: 8391M\n",
      "\u001b[32m[04/06 20:46:51 d2.utils.events]: \u001b[0m eta: 1:13:01  iter: 15399  total_loss: 0.714  loss_cls: 0.099  loss_box_reg: 0.196  loss_mask: 0.209  loss_rpn_cls: 0.014  loss_rpn_loc: 0.067  time: 0.3697  data_time: 0.0003  lr: 0.001014  max_mem: 8391M\n",
      "\u001b[32m[04/06 20:46:59 d2.utils.events]: \u001b[0m eta: 1:12:51  iter: 15419  total_loss: 0.536  loss_cls: 0.078  loss_box_reg: 0.207  loss_mask: 0.166  loss_rpn_cls: 0.008  loss_rpn_loc: 0.060  time: 0.3696  data_time: 0.0002  lr: 0.001012  max_mem: 8391M\n",
      "\u001b[32m[04/06 20:47:06 d2.utils.events]: \u001b[0m eta: 1:12:45  iter: 15439  total_loss: 0.622  loss_cls: 0.093  loss_box_reg: 0.211  loss_mask: 0.210  loss_rpn_cls: 0.006  loss_rpn_loc: 0.061  time: 0.3697  data_time: 0.0002  lr: 0.001009  max_mem: 8391M\n",
      "\u001b[32m[04/06 20:47:14 d2.utils.events]: \u001b[0m eta: 1:12:40  iter: 15459  total_loss: 0.709  loss_cls: 0.119  loss_box_reg: 0.268  loss_mask: 0.209  loss_rpn_cls: 0.008  loss_rpn_loc: 0.095  time: 0.3697  data_time: 0.0003  lr: 0.001006  max_mem: 8391M\n",
      "\u001b[32m[04/06 20:47:21 d2.utils.events]: \u001b[0m eta: 1:12:31  iter: 15479  total_loss: 0.831  loss_cls: 0.159  loss_box_reg: 0.300  loss_mask: 0.237  loss_rpn_cls: 0.013  loss_rpn_loc: 0.110  time: 0.3697  data_time: 0.0002  lr: 0.001003  max_mem: 8391M\n",
      "\u001b[32m[04/06 20:47:29 d2.utils.events]: \u001b[0m eta: 1:12:26  iter: 15499  total_loss: 0.572  loss_cls: 0.113  loss_box_reg: 0.205  loss_mask: 0.159  loss_rpn_cls: 0.013  loss_rpn_loc: 0.066  time: 0.3697  data_time: 0.0003  lr: 0.001000  max_mem: 8391M\n",
      "\u001b[32m[04/06 20:47:36 d2.utils.events]: \u001b[0m eta: 1:12:20  iter: 15519  total_loss: 0.474  loss_cls: 0.107  loss_box_reg: 0.160  loss_mask: 0.156  loss_rpn_cls: 0.003  loss_rpn_loc: 0.069  time: 0.3697  data_time: 0.0003  lr: 0.000998  max_mem: 8391M\n",
      "\u001b[32m[04/06 20:47:43 d2.utils.events]: \u001b[0m eta: 1:12:09  iter: 15539  total_loss: 0.590  loss_cls: 0.127  loss_box_reg: 0.212  loss_mask: 0.169  loss_rpn_cls: 0.013  loss_rpn_loc: 0.071  time: 0.3697  data_time: 0.0003  lr: 0.000995  max_mem: 8391M\n",
      "\u001b[32m[04/06 20:47:51 d2.utils.events]: \u001b[0m eta: 1:12:00  iter: 15559  total_loss: 0.700  loss_cls: 0.093  loss_box_reg: 0.247  loss_mask: 0.226  loss_rpn_cls: 0.013  loss_rpn_loc: 0.093  time: 0.3697  data_time: 0.0003  lr: 0.000992  max_mem: 8391M\n",
      "\u001b[32m[04/06 20:47:58 d2.utils.events]: \u001b[0m eta: 1:11:57  iter: 15579  total_loss: 0.564  loss_cls: 0.101  loss_box_reg: 0.196  loss_mask: 0.166  loss_rpn_cls: 0.012  loss_rpn_loc: 0.086  time: 0.3697  data_time: 0.0003  lr: 0.000989  max_mem: 8391M\n",
      "\u001b[32m[04/06 20:48:06 d2.utils.events]: \u001b[0m eta: 1:11:49  iter: 15599  total_loss: 0.675  loss_cls: 0.136  loss_box_reg: 0.241  loss_mask: 0.203  loss_rpn_cls: 0.011  loss_rpn_loc: 0.086  time: 0.3697  data_time: 0.0003  lr: 0.000986  max_mem: 8391M\n",
      "\u001b[32m[04/06 20:48:13 d2.utils.events]: \u001b[0m eta: 1:11:44  iter: 15619  total_loss: 0.811  loss_cls: 0.173  loss_box_reg: 0.315  loss_mask: 0.245  loss_rpn_cls: 0.018  loss_rpn_loc: 0.108  time: 0.3697  data_time: 0.0002  lr: 0.000984  max_mem: 8391M\n",
      "\u001b[32m[04/06 20:48:21 d2.utils.events]: \u001b[0m eta: 1:11:36  iter: 15639  total_loss: 0.963  loss_cls: 0.175  loss_box_reg: 0.332  loss_mask: 0.263  loss_rpn_cls: 0.019  loss_rpn_loc: 0.118  time: 0.3697  data_time: 0.0003  lr: 0.000981  max_mem: 8391M\n",
      "\u001b[32m[04/06 20:48:28 d2.utils.events]: \u001b[0m eta: 1:11:37  iter: 15659  total_loss: 0.604  loss_cls: 0.074  loss_box_reg: 0.192  loss_mask: 0.210  loss_rpn_cls: 0.009  loss_rpn_loc: 0.058  time: 0.3697  data_time: 0.0003  lr: 0.000978  max_mem: 8391M\n",
      "\u001b[32m[04/06 20:48:35 d2.utils.events]: \u001b[0m eta: 1:11:27  iter: 15679  total_loss: 0.882  loss_cls: 0.133  loss_box_reg: 0.251  loss_mask: 0.219  loss_rpn_cls: 0.020  loss_rpn_loc: 0.102  time: 0.3697  data_time: 0.0003  lr: 0.000975  max_mem: 8391M\n",
      "\u001b[32m[04/06 20:48:43 d2.utils.events]: \u001b[0m eta: 1:11:20  iter: 15699  total_loss: 0.884  loss_cls: 0.170  loss_box_reg: 0.307  loss_mask: 0.253  loss_rpn_cls: 0.017  loss_rpn_loc: 0.115  time: 0.3697  data_time: 0.0003  lr: 0.000972  max_mem: 8391M\n",
      "\u001b[32m[04/06 20:48:50 d2.utils.events]: \u001b[0m eta: 1:11:07  iter: 15719  total_loss: 0.547  loss_cls: 0.094  loss_box_reg: 0.201  loss_mask: 0.169  loss_rpn_cls: 0.005  loss_rpn_loc: 0.094  time: 0.3697  data_time: 0.0002  lr: 0.000970  max_mem: 8391M\n",
      "\u001b[32m[04/06 20:48:57 d2.utils.events]: \u001b[0m eta: 1:10:56  iter: 15739  total_loss: 0.721  loss_cls: 0.126  loss_box_reg: 0.260  loss_mask: 0.204  loss_rpn_cls: 0.014  loss_rpn_loc: 0.099  time: 0.3696  data_time: 0.0003  lr: 0.000967  max_mem: 8391M\n",
      "\u001b[32m[04/06 20:49:04 d2.utils.events]: \u001b[0m eta: 1:10:48  iter: 15759  total_loss: 0.732  loss_cls: 0.116  loss_box_reg: 0.269  loss_mask: 0.219  loss_rpn_cls: 0.009  loss_rpn_loc: 0.091  time: 0.3696  data_time: 0.0003  lr: 0.000964  max_mem: 8391M\n",
      "\u001b[32m[04/06 20:49:11 d2.utils.events]: \u001b[0m eta: 1:10:38  iter: 15779  total_loss: 0.711  loss_cls: 0.125  loss_box_reg: 0.249  loss_mask: 0.232  loss_rpn_cls: 0.011  loss_rpn_loc: 0.073  time: 0.3696  data_time: 0.0003  lr: 0.000961  max_mem: 8391M\n",
      "\u001b[32m[04/06 20:49:19 d2.utils.events]: \u001b[0m eta: 1:10:34  iter: 15799  total_loss: 0.573  loss_cls: 0.088  loss_box_reg: 0.212  loss_mask: 0.181  loss_rpn_cls: 0.006  loss_rpn_loc: 0.069  time: 0.3696  data_time: 0.0003  lr: 0.000958  max_mem: 8391M\n",
      "\u001b[32m[04/06 20:49:26 d2.utils.events]: \u001b[0m eta: 1:10:31  iter: 15819  total_loss: 0.628  loss_cls: 0.121  loss_box_reg: 0.228  loss_mask: 0.187  loss_rpn_cls: 0.011  loss_rpn_loc: 0.077  time: 0.3696  data_time: 0.0002  lr: 0.000956  max_mem: 8391M\n",
      "\u001b[32m[04/06 20:49:34 d2.utils.events]: \u001b[0m eta: 1:10:24  iter: 15839  total_loss: 0.614  loss_cls: 0.110  loss_box_reg: 0.213  loss_mask: 0.201  loss_rpn_cls: 0.007  loss_rpn_loc: 0.089  time: 0.3696  data_time: 0.0003  lr: 0.000953  max_mem: 8391M\n"
     ]
    },
    {
     "name": "stdout",
     "output_type": "stream",
     "text": [
      "\u001b[32m[04/06 20:49:41 d2.utils.events]: \u001b[0m eta: 1:10:17  iter: 15859  total_loss: 0.647  loss_cls: 0.102  loss_box_reg: 0.270  loss_mask: 0.206  loss_rpn_cls: 0.005  loss_rpn_loc: 0.075  time: 0.3696  data_time: 0.0003  lr: 0.000950  max_mem: 8391M\n",
      "\u001b[32m[04/06 20:49:48 d2.utils.events]: \u001b[0m eta: 1:10:10  iter: 15879  total_loss: 0.779  loss_cls: 0.152  loss_box_reg: 0.245  loss_mask: 0.228  loss_rpn_cls: 0.011  loss_rpn_loc: 0.097  time: 0.3696  data_time: 0.0003  lr: 0.000947  max_mem: 8391M\n",
      "\u001b[32m[04/06 20:49:56 d2.utils.events]: \u001b[0m eta: 1:10:07  iter: 15899  total_loss: 0.570  loss_cls: 0.094  loss_box_reg: 0.203  loss_mask: 0.170  loss_rpn_cls: 0.009  loss_rpn_loc: 0.068  time: 0.3696  data_time: 0.0002  lr: 0.000945  max_mem: 8391M\n",
      "\u001b[32m[04/06 20:50:03 d2.utils.events]: \u001b[0m eta: 1:10:02  iter: 15919  total_loss: 0.837  loss_cls: 0.164  loss_box_reg: 0.301  loss_mask: 0.241  loss_rpn_cls: 0.019  loss_rpn_loc: 0.100  time: 0.3696  data_time: 0.0003  lr: 0.000942  max_mem: 8391M\n",
      "\u001b[32m[04/06 20:50:11 d2.utils.events]: \u001b[0m eta: 1:09:56  iter: 15939  total_loss: 0.792  loss_cls: 0.149  loss_box_reg: 0.256  loss_mask: 0.250  loss_rpn_cls: 0.012  loss_rpn_loc: 0.090  time: 0.3696  data_time: 0.0003  lr: 0.000939  max_mem: 8391M\n",
      "\u001b[32m[04/06 20:50:18 d2.utils.events]: \u001b[0m eta: 1:09:48  iter: 15959  total_loss: 0.779  loss_cls: 0.135  loss_box_reg: 0.238  loss_mask: 0.231  loss_rpn_cls: 0.006  loss_rpn_loc: 0.117  time: 0.3696  data_time: 0.0003  lr: 0.000936  max_mem: 8391M\n",
      "\u001b[32m[04/06 20:50:25 d2.utils.events]: \u001b[0m eta: 1:09:40  iter: 15979  total_loss: 0.603  loss_cls: 0.083  loss_box_reg: 0.204  loss_mask: 0.177  loss_rpn_cls: 0.012  loss_rpn_loc: 0.092  time: 0.3696  data_time: 0.0003  lr: 0.000934  max_mem: 8391M\n",
      "\u001b[32m[04/06 20:50:33 d2.utils.events]: \u001b[0m eta: 1:09:30  iter: 15999  total_loss: 0.756  loss_cls: 0.150  loss_box_reg: 0.247  loss_mask: 0.193  loss_rpn_cls: 0.018  loss_rpn_loc: 0.103  time: 0.3696  data_time: 0.0002  lr: 0.000931  max_mem: 8391M\n",
      "\u001b[32m[04/06 20:50:40 d2.utils.events]: \u001b[0m eta: 1:09:21  iter: 16019  total_loss: 0.538  loss_cls: 0.110  loss_box_reg: 0.228  loss_mask: 0.179  loss_rpn_cls: 0.005  loss_rpn_loc: 0.072  time: 0.3696  data_time: 0.0003  lr: 0.000928  max_mem: 8391M\n",
      "\u001b[32m[04/06 20:50:47 d2.utils.events]: \u001b[0m eta: 1:09:16  iter: 16039  total_loss: 0.809  loss_cls: 0.176  loss_box_reg: 0.290  loss_mask: 0.258  loss_rpn_cls: 0.013  loss_rpn_loc: 0.105  time: 0.3696  data_time: 0.0003  lr: 0.000925  max_mem: 8391M\n",
      "\u001b[32m[04/06 20:50:55 d2.utils.events]: \u001b[0m eta: 1:09:04  iter: 16059  total_loss: 0.658  loss_cls: 0.126  loss_box_reg: 0.221  loss_mask: 0.186  loss_rpn_cls: 0.015  loss_rpn_loc: 0.089  time: 0.3696  data_time: 0.0003  lr: 0.000922  max_mem: 8391M\n",
      "\u001b[32m[04/06 20:51:02 d2.utils.events]: \u001b[0m eta: 1:08:56  iter: 16079  total_loss: 0.766  loss_cls: 0.134  loss_box_reg: 0.278  loss_mask: 0.248  loss_rpn_cls: 0.014  loss_rpn_loc: 0.117  time: 0.3696  data_time: 0.0003  lr: 0.000920  max_mem: 8391M\n",
      "\u001b[32m[04/06 20:51:09 d2.utils.events]: \u001b[0m eta: 1:08:45  iter: 16099  total_loss: 0.529  loss_cls: 0.078  loss_box_reg: 0.193  loss_mask: 0.158  loss_rpn_cls: 0.011  loss_rpn_loc: 0.056  time: 0.3696  data_time: 0.0003  lr: 0.000917  max_mem: 8391M\n",
      "\u001b[32m[04/06 20:51:17 d2.utils.events]: \u001b[0m eta: 1:08:38  iter: 16119  total_loss: 0.602  loss_cls: 0.110  loss_box_reg: 0.245  loss_mask: 0.201  loss_rpn_cls: 0.013  loss_rpn_loc: 0.068  time: 0.3696  data_time: 0.0003  lr: 0.000914  max_mem: 8391M\n",
      "\u001b[32m[04/06 20:51:24 d2.utils.events]: \u001b[0m eta: 1:08:29  iter: 16139  total_loss: 0.860  loss_cls: 0.148  loss_box_reg: 0.308  loss_mask: 0.221  loss_rpn_cls: 0.017  loss_rpn_loc: 0.094  time: 0.3696  data_time: 0.0002  lr: 0.000911  max_mem: 8391M\n",
      "\u001b[32m[04/06 20:51:31 d2.utils.events]: \u001b[0m eta: 1:08:21  iter: 16159  total_loss: 0.743  loss_cls: 0.120  loss_box_reg: 0.271  loss_mask: 0.227  loss_rpn_cls: 0.010  loss_rpn_loc: 0.104  time: 0.3696  data_time: 0.0003  lr: 0.000909  max_mem: 8391M\n",
      "\u001b[32m[04/06 20:51:39 d2.utils.events]: \u001b[0m eta: 1:08:11  iter: 16179  total_loss: 0.651  loss_cls: 0.091  loss_box_reg: 0.233  loss_mask: 0.196  loss_rpn_cls: 0.015  loss_rpn_loc: 0.074  time: 0.3696  data_time: 0.0003  lr: 0.000906  max_mem: 8391M\n",
      "\u001b[32m[04/06 20:51:46 d2.utils.events]: \u001b[0m eta: 1:08:08  iter: 16199  total_loss: 0.735  loss_cls: 0.128  loss_box_reg: 0.262  loss_mask: 0.219  loss_rpn_cls: 0.008  loss_rpn_loc: 0.089  time: 0.3696  data_time: 0.0003  lr: 0.000903  max_mem: 8391M\n",
      "\u001b[32m[04/06 20:51:54 d2.utils.events]: \u001b[0m eta: 1:08:01  iter: 16219  total_loss: 0.686  loss_cls: 0.078  loss_box_reg: 0.204  loss_mask: 0.196  loss_rpn_cls: 0.007  loss_rpn_loc: 0.067  time: 0.3696  data_time: 0.0002  lr: 0.000900  max_mem: 8391M\n",
      "\u001b[32m[04/06 20:52:01 d2.utils.events]: \u001b[0m eta: 1:07:58  iter: 16239  total_loss: 0.513  loss_cls: 0.095  loss_box_reg: 0.191  loss_mask: 0.170  loss_rpn_cls: 0.004  loss_rpn_loc: 0.060  time: 0.3696  data_time: 0.0003  lr: 0.000898  max_mem: 8391M\n",
      "\u001b[32m[04/06 20:52:09 d2.utils.events]: \u001b[0m eta: 1:07:52  iter: 16259  total_loss: 0.621  loss_cls: 0.116  loss_box_reg: 0.203  loss_mask: 0.204  loss_rpn_cls: 0.009  loss_rpn_loc: 0.074  time: 0.3696  data_time: 0.0003  lr: 0.000895  max_mem: 8391M\n",
      "\u001b[32m[04/06 20:52:16 d2.utils.events]: \u001b[0m eta: 1:07:47  iter: 16279  total_loss: 0.739  loss_cls: 0.131  loss_box_reg: 0.278  loss_mask: 0.206  loss_rpn_cls: 0.008  loss_rpn_loc: 0.100  time: 0.3696  data_time: 0.0002  lr: 0.000892  max_mem: 8391M\n",
      "\u001b[32m[04/06 20:52:24 d2.utils.events]: \u001b[0m eta: 1:07:40  iter: 16299  total_loss: 0.923  loss_cls: 0.182  loss_box_reg: 0.306  loss_mask: 0.254  loss_rpn_cls: 0.006  loss_rpn_loc: 0.103  time: 0.3696  data_time: 0.0003  lr: 0.000890  max_mem: 8391M\n",
      "\u001b[32m[04/06 20:52:31 d2.utils.events]: \u001b[0m eta: 1:07:34  iter: 16319  total_loss: 0.689  loss_cls: 0.110  loss_box_reg: 0.242  loss_mask: 0.222  loss_rpn_cls: 0.005  loss_rpn_loc: 0.098  time: 0.3696  data_time: 0.0003  lr: 0.000887  max_mem: 8391M\n",
      "\u001b[32m[04/06 20:52:39 d2.utils.events]: \u001b[0m eta: 1:07:24  iter: 16339  total_loss: 0.644  loss_cls: 0.133  loss_box_reg: 0.244  loss_mask: 0.196  loss_rpn_cls: 0.013  loss_rpn_loc: 0.081  time: 0.3696  data_time: 0.0003  lr: 0.000884  max_mem: 8391M\n",
      "\u001b[32m[04/06 20:52:46 d2.utils.events]: \u001b[0m eta: 1:07:15  iter: 16359  total_loss: 0.469  loss_cls: 0.081  loss_box_reg: 0.191  loss_mask: 0.186  loss_rpn_cls: 0.008  loss_rpn_loc: 0.060  time: 0.3696  data_time: 0.0002  lr: 0.000881  max_mem: 8391M\n",
      "\u001b[32m[04/06 20:52:53 d2.utils.events]: \u001b[0m eta: 1:07:09  iter: 16379  total_loss: 0.531  loss_cls: 0.099  loss_box_reg: 0.189  loss_mask: 0.162  loss_rpn_cls: 0.003  loss_rpn_loc: 0.067  time: 0.3696  data_time: 0.0002  lr: 0.000879  max_mem: 8391M\n",
      "\u001b[32m[04/06 20:53:01 d2.utils.events]: \u001b[0m eta: 1:07:01  iter: 16399  total_loss: 0.654  loss_cls: 0.096  loss_box_reg: 0.212  loss_mask: 0.194  loss_rpn_cls: 0.009  loss_rpn_loc: 0.076  time: 0.3696  data_time: 0.0002  lr: 0.000876  max_mem: 8391M\n",
      "\u001b[32m[04/06 20:53:08 d2.utils.events]: \u001b[0m eta: 1:06:56  iter: 16419  total_loss: 0.851  loss_cls: 0.137  loss_box_reg: 0.327  loss_mask: 0.244  loss_rpn_cls: 0.013  loss_rpn_loc: 0.112  time: 0.3696  data_time: 0.0003  lr: 0.000873  max_mem: 8391M\n",
      "\u001b[32m[04/06 20:53:15 d2.utils.events]: \u001b[0m eta: 1:06:47  iter: 16439  total_loss: 0.733  loss_cls: 0.112  loss_box_reg: 0.230  loss_mask: 0.228  loss_rpn_cls: 0.010  loss_rpn_loc: 0.104  time: 0.3696  data_time: 0.0002  lr: 0.000870  max_mem: 8391M\n",
      "\u001b[32m[04/06 20:53:23 d2.utils.events]: \u001b[0m eta: 1:06:40  iter: 16459  total_loss: 0.733  loss_cls: 0.132  loss_box_reg: 0.274  loss_mask: 0.213  loss_rpn_cls: 0.009  loss_rpn_loc: 0.092  time: 0.3696  data_time: 0.0003  lr: 0.000868  max_mem: 8391M\n",
      "\u001b[32m[04/06 20:53:30 d2.utils.events]: \u001b[0m eta: 1:06:37  iter: 16479  total_loss: 0.693  loss_cls: 0.130  loss_box_reg: 0.274  loss_mask: 0.255  loss_rpn_cls: 0.004  loss_rpn_loc: 0.089  time: 0.3696  data_time: 0.0003  lr: 0.000865  max_mem: 8391M\n",
      "\u001b[32m[04/06 20:53:38 d2.utils.events]: \u001b[0m eta: 1:06:28  iter: 16499  total_loss: 0.538  loss_cls: 0.089  loss_box_reg: 0.202  loss_mask: 0.166  loss_rpn_cls: 0.012  loss_rpn_loc: 0.071  time: 0.3696  data_time: 0.0003  lr: 0.000862  max_mem: 8391M\n"
     ]
    },
    {
     "name": "stdout",
     "output_type": "stream",
     "text": [
      "\u001b[32m[04/06 20:53:46 d2.utils.events]: \u001b[0m eta: 1:06:24  iter: 16519  total_loss: 0.714  loss_cls: 0.127  loss_box_reg: 0.258  loss_mask: 0.216  loss_rpn_cls: 0.012  loss_rpn_loc: 0.100  time: 0.3696  data_time: 0.0003  lr: 0.000860  max_mem: 8391M\n",
      "\u001b[32m[04/06 20:53:53 d2.utils.events]: \u001b[0m eta: 1:06:23  iter: 16539  total_loss: 0.880  loss_cls: 0.156  loss_box_reg: 0.306  loss_mask: 0.248  loss_rpn_cls: 0.007  loss_rpn_loc: 0.099  time: 0.3696  data_time: 0.0003  lr: 0.000857  max_mem: 8391M\n",
      "\u001b[32m[04/06 20:54:00 d2.utils.events]: \u001b[0m eta: 1:06:12  iter: 16559  total_loss: 0.835  loss_cls: 0.130  loss_box_reg: 0.280  loss_mask: 0.224  loss_rpn_cls: 0.022  loss_rpn_loc: 0.122  time: 0.3696  data_time: 0.0003  lr: 0.000854  max_mem: 8391M\n",
      "\u001b[32m[04/06 20:54:08 d2.utils.events]: \u001b[0m eta: 1:06:01  iter: 16579  total_loss: 0.583  loss_cls: 0.092  loss_box_reg: 0.200  loss_mask: 0.165  loss_rpn_cls: 0.008  loss_rpn_loc: 0.063  time: 0.3696  data_time: 0.0003  lr: 0.000851  max_mem: 8391M\n",
      "\u001b[32m[04/06 20:54:15 d2.utils.events]: \u001b[0m eta: 1:05:54  iter: 16599  total_loss: 0.631  loss_cls: 0.103  loss_box_reg: 0.216  loss_mask: 0.192  loss_rpn_cls: 0.008  loss_rpn_loc: 0.089  time: 0.3696  data_time: 0.0003  lr: 0.000849  max_mem: 8391M\n",
      "\u001b[32m[04/06 20:54:22 d2.utils.events]: \u001b[0m eta: 1:05:47  iter: 16619  total_loss: 0.673  loss_cls: 0.122  loss_box_reg: 0.234  loss_mask: 0.228  loss_rpn_cls: 0.006  loss_rpn_loc: 0.081  time: 0.3696  data_time: 0.0003  lr: 0.000846  max_mem: 8391M\n",
      "\u001b[32m[04/06 20:54:30 d2.utils.events]: \u001b[0m eta: 1:05:39  iter: 16639  total_loss: 0.495  loss_cls: 0.088  loss_box_reg: 0.210  loss_mask: 0.178  loss_rpn_cls: 0.002  loss_rpn_loc: 0.061  time: 0.3696  data_time: 0.0002  lr: 0.000843  max_mem: 8391M\n",
      "\u001b[32m[04/06 20:54:37 d2.utils.events]: \u001b[0m eta: 1:05:30  iter: 16659  total_loss: 0.539  loss_cls: 0.081  loss_box_reg: 0.184  loss_mask: 0.187  loss_rpn_cls: 0.003  loss_rpn_loc: 0.049  time: 0.3696  data_time: 0.0002  lr: 0.000841  max_mem: 8391M\n",
      "\u001b[32m[04/06 20:54:44 d2.utils.events]: \u001b[0m eta: 1:05:25  iter: 16679  total_loss: 0.743  loss_cls: 0.108  loss_box_reg: 0.270  loss_mask: 0.200  loss_rpn_cls: 0.013  loss_rpn_loc: 0.093  time: 0.3696  data_time: 0.0002  lr: 0.000838  max_mem: 8391M\n",
      "\u001b[32m[04/06 20:54:52 d2.utils.events]: \u001b[0m eta: 1:05:16  iter: 16699  total_loss: 0.622  loss_cls: 0.123  loss_box_reg: 0.229  loss_mask: 0.190  loss_rpn_cls: 0.013  loss_rpn_loc: 0.093  time: 0.3696  data_time: 0.0003  lr: 0.000835  max_mem: 8391M\n",
      "\u001b[32m[04/06 20:54:59 d2.utils.events]: \u001b[0m eta: 1:05:10  iter: 16719  total_loss: 0.782  loss_cls: 0.127  loss_box_reg: 0.286  loss_mask: 0.213  loss_rpn_cls: 0.007  loss_rpn_loc: 0.081  time: 0.3696  data_time: 0.0003  lr: 0.000832  max_mem: 8391M\n",
      "\u001b[32m[04/06 20:55:06 d2.utils.events]: \u001b[0m eta: 1:05:03  iter: 16739  total_loss: 0.672  loss_cls: 0.091  loss_box_reg: 0.266  loss_mask: 0.214  loss_rpn_cls: 0.008  loss_rpn_loc: 0.085  time: 0.3696  data_time: 0.0002  lr: 0.000830  max_mem: 8391M\n",
      "\u001b[32m[04/06 20:55:13 d2.utils.events]: \u001b[0m eta: 1:04:56  iter: 16759  total_loss: 0.832  loss_cls: 0.144  loss_box_reg: 0.298  loss_mask: 0.238  loss_rpn_cls: 0.011  loss_rpn_loc: 0.115  time: 0.3696  data_time: 0.0003  lr: 0.000827  max_mem: 8391M\n",
      "\u001b[32m[04/06 20:55:21 d2.utils.events]: \u001b[0m eta: 1:04:48  iter: 16779  total_loss: 0.644  loss_cls: 0.102  loss_box_reg: 0.233  loss_mask: 0.203  loss_rpn_cls: 0.009  loss_rpn_loc: 0.078  time: 0.3695  data_time: 0.0003  lr: 0.000824  max_mem: 8391M\n",
      "\u001b[32m[04/06 20:55:28 d2.utils.events]: \u001b[0m eta: 1:04:41  iter: 16799  total_loss: 0.659  loss_cls: 0.125  loss_box_reg: 0.253  loss_mask: 0.198  loss_rpn_cls: 0.008  loss_rpn_loc: 0.093  time: 0.3696  data_time: 0.0003  lr: 0.000822  max_mem: 8391M\n",
      "\u001b[32m[04/06 20:55:35 d2.utils.events]: \u001b[0m eta: 1:04:32  iter: 16819  total_loss: 0.599  loss_cls: 0.090  loss_box_reg: 0.212  loss_mask: 0.178  loss_rpn_cls: 0.002  loss_rpn_loc: 0.075  time: 0.3695  data_time: 0.0003  lr: 0.000819  max_mem: 8391M\n",
      "\u001b[32m[04/06 20:55:43 d2.utils.events]: \u001b[0m eta: 1:04:27  iter: 16839  total_loss: 0.722  loss_cls: 0.138  loss_box_reg: 0.231  loss_mask: 0.182  loss_rpn_cls: 0.015  loss_rpn_loc: 0.103  time: 0.3695  data_time: 0.0003  lr: 0.000816  max_mem: 8391M\n",
      "\u001b[32m[04/06 20:55:50 d2.utils.events]: \u001b[0m eta: 1:04:19  iter: 16859  total_loss: 0.902  loss_cls: 0.190  loss_box_reg: 0.305  loss_mask: 0.244  loss_rpn_cls: 0.026  loss_rpn_loc: 0.100  time: 0.3695  data_time: 0.0003  lr: 0.000814  max_mem: 8391M\n",
      "\u001b[32m[04/06 20:55:58 d2.utils.events]: \u001b[0m eta: 1:04:12  iter: 16879  total_loss: 0.832  loss_cls: 0.157  loss_box_reg: 0.289  loss_mask: 0.241  loss_rpn_cls: 0.017  loss_rpn_loc: 0.099  time: 0.3695  data_time: 0.0003  lr: 0.000811  max_mem: 8391M\n",
      "\u001b[32m[04/06 20:56:05 d2.utils.events]: \u001b[0m eta: 1:04:07  iter: 16899  total_loss: 0.550  loss_cls: 0.117  loss_box_reg: 0.198  loss_mask: 0.192  loss_rpn_cls: 0.007  loss_rpn_loc: 0.073  time: 0.3696  data_time: 0.0003  lr: 0.000808  max_mem: 8391M\n",
      "\u001b[32m[04/06 20:56:13 d2.utils.events]: \u001b[0m eta: 1:03:59  iter: 16919  total_loss: 0.552  loss_cls: 0.090  loss_box_reg: 0.189  loss_mask: 0.169  loss_rpn_cls: 0.011  loss_rpn_loc: 0.075  time: 0.3695  data_time: 0.0002  lr: 0.000806  max_mem: 8391M\n",
      "\u001b[32m[04/06 20:56:20 d2.utils.events]: \u001b[0m eta: 1:03:53  iter: 16939  total_loss: 0.775  loss_cls: 0.144  loss_box_reg: 0.249  loss_mask: 0.237  loss_rpn_cls: 0.013  loss_rpn_loc: 0.101  time: 0.3696  data_time: 0.0003  lr: 0.000803  max_mem: 8391M\n",
      "\u001b[32m[04/06 20:56:27 d2.utils.events]: \u001b[0m eta: 1:03:45  iter: 16959  total_loss: 0.657  loss_cls: 0.113  loss_box_reg: 0.254  loss_mask: 0.231  loss_rpn_cls: 0.006  loss_rpn_loc: 0.070  time: 0.3695  data_time: 0.0003  lr: 0.000800  max_mem: 8391M\n",
      "\u001b[32m[04/06 20:56:35 d2.utils.events]: \u001b[0m eta: 1:03:39  iter: 16979  total_loss: 0.519  loss_cls: 0.081  loss_box_reg: 0.176  loss_mask: 0.172  loss_rpn_cls: 0.008  loss_rpn_loc: 0.057  time: 0.3695  data_time: 0.0002  lr: 0.000798  max_mem: 8391M\n",
      "\u001b[32m[04/06 20:56:42 d2.utils.events]: \u001b[0m eta: 1:03:31  iter: 16999  total_loss: 0.526  loss_cls: 0.113  loss_box_reg: 0.176  loss_mask: 0.158  loss_rpn_cls: 0.006  loss_rpn_loc: 0.070  time: 0.3695  data_time: 0.0003  lr: 0.000795  max_mem: 8391M\n",
      "\u001b[32m[04/06 20:56:49 d2.utils.events]: \u001b[0m eta: 1:03:23  iter: 17019  total_loss: 0.953  loss_cls: 0.193  loss_box_reg: 0.305  loss_mask: 0.270  loss_rpn_cls: 0.021  loss_rpn_loc: 0.115  time: 0.3695  data_time: 0.0003  lr: 0.000792  max_mem: 8391M\n",
      "\u001b[32m[04/06 20:56:57 d2.utils.events]: \u001b[0m eta: 1:03:16  iter: 17039  total_loss: 0.601  loss_cls: 0.118  loss_box_reg: 0.196  loss_mask: 0.180  loss_rpn_cls: 0.006  loss_rpn_loc: 0.084  time: 0.3695  data_time: 0.0003  lr: 0.000790  max_mem: 8391M\n",
      "\u001b[32m[04/06 20:57:04 d2.utils.events]: \u001b[0m eta: 1:03:09  iter: 17059  total_loss: 0.451  loss_cls: 0.077  loss_box_reg: 0.162  loss_mask: 0.159  loss_rpn_cls: 0.003  loss_rpn_loc: 0.062  time: 0.3695  data_time: 0.0002  lr: 0.000787  max_mem: 8391M\n",
      "\u001b[32m[04/06 20:57:11 d2.utils.events]: \u001b[0m eta: 1:03:01  iter: 17079  total_loss: 0.665  loss_cls: 0.119  loss_box_reg: 0.257  loss_mask: 0.215  loss_rpn_cls: 0.005  loss_rpn_loc: 0.089  time: 0.3695  data_time: 0.0003  lr: 0.000784  max_mem: 8391M\n",
      "\u001b[32m[04/06 20:57:19 d2.utils.events]: \u001b[0m eta: 1:02:56  iter: 17099  total_loss: 0.771  loss_cls: 0.120  loss_box_reg: 0.261  loss_mask: 0.239  loss_rpn_cls: 0.011  loss_rpn_loc: 0.081  time: 0.3695  data_time: 0.0003  lr: 0.000782  max_mem: 8391M\n",
      "\u001b[32m[04/06 20:57:26 d2.utils.events]: \u001b[0m eta: 1:02:50  iter: 17119  total_loss: 0.602  loss_cls: 0.084  loss_box_reg: 0.188  loss_mask: 0.193  loss_rpn_cls: 0.014  loss_rpn_loc: 0.084  time: 0.3695  data_time: 0.0002  lr: 0.000779  max_mem: 8391M\n",
      "\u001b[32m[04/06 20:57:34 d2.utils.events]: \u001b[0m eta: 1:02:42  iter: 17139  total_loss: 0.679  loss_cls: 0.138  loss_box_reg: 0.248  loss_mask: 0.220  loss_rpn_cls: 0.013  loss_rpn_loc: 0.089  time: 0.3695  data_time: 0.0003  lr: 0.000776  max_mem: 8391M\n",
      "\u001b[32m[04/06 20:57:41 d2.utils.events]: \u001b[0m eta: 1:02:37  iter: 17159  total_loss: 0.663  loss_cls: 0.089  loss_box_reg: 0.195  loss_mask: 0.205  loss_rpn_cls: 0.008  loss_rpn_loc: 0.070  time: 0.3695  data_time: 0.0002  lr: 0.000774  max_mem: 8391M\n"
     ]
    },
    {
     "name": "stdout",
     "output_type": "stream",
     "text": [
      "\u001b[32m[04/06 20:57:49 d2.utils.events]: \u001b[0m eta: 1:02:33  iter: 17179  total_loss: 0.694  loss_cls: 0.137  loss_box_reg: 0.247  loss_mask: 0.218  loss_rpn_cls: 0.006  loss_rpn_loc: 0.101  time: 0.3695  data_time: 0.0003  lr: 0.000771  max_mem: 8391M\n",
      "\u001b[32m[04/06 20:57:56 d2.utils.events]: \u001b[0m eta: 1:02:24  iter: 17199  total_loss: 0.491  loss_cls: 0.107  loss_box_reg: 0.188  loss_mask: 0.155  loss_rpn_cls: 0.008  loss_rpn_loc: 0.075  time: 0.3695  data_time: 0.0003  lr: 0.000768  max_mem: 8391M\n",
      "\u001b[32m[04/06 20:58:03 d2.utils.events]: \u001b[0m eta: 1:02:15  iter: 17219  total_loss: 0.618  loss_cls: 0.123  loss_box_reg: 0.245  loss_mask: 0.185  loss_rpn_cls: 0.005  loss_rpn_loc: 0.071  time: 0.3695  data_time: 0.0003  lr: 0.000766  max_mem: 8391M\n",
      "\u001b[32m[04/06 20:58:11 d2.utils.events]: \u001b[0m eta: 1:02:10  iter: 17239  total_loss: 0.723  loss_cls: 0.139  loss_box_reg: 0.233  loss_mask: 0.196  loss_rpn_cls: 0.006  loss_rpn_loc: 0.104  time: 0.3695  data_time: 0.0003  lr: 0.000763  max_mem: 8391M\n",
      "\u001b[32m[04/06 20:58:18 d2.utils.events]: \u001b[0m eta: 1:01:59  iter: 17259  total_loss: 0.765  loss_cls: 0.130  loss_box_reg: 0.274  loss_mask: 0.202  loss_rpn_cls: 0.015  loss_rpn_loc: 0.092  time: 0.3695  data_time: 0.0003  lr: 0.000761  max_mem: 8391M\n",
      "\u001b[32m[04/06 20:58:25 d2.utils.events]: \u001b[0m eta: 1:01:51  iter: 17279  total_loss: 0.808  loss_cls: 0.152  loss_box_reg: 0.314  loss_mask: 0.244  loss_rpn_cls: 0.011  loss_rpn_loc: 0.096  time: 0.3695  data_time: 0.0003  lr: 0.000758  max_mem: 8391M\n",
      "\u001b[32m[04/06 20:58:33 d2.utils.events]: \u001b[0m eta: 1:01:48  iter: 17299  total_loss: 0.630  loss_cls: 0.115  loss_box_reg: 0.237  loss_mask: 0.193  loss_rpn_cls: 0.005  loss_rpn_loc: 0.070  time: 0.3695  data_time: 0.0002  lr: 0.000755  max_mem: 8391M\n",
      "\u001b[32m[04/06 20:58:40 d2.utils.events]: \u001b[0m eta: 1:01:40  iter: 17319  total_loss: 0.524  loss_cls: 0.099  loss_box_reg: 0.183  loss_mask: 0.164  loss_rpn_cls: 0.004  loss_rpn_loc: 0.097  time: 0.3695  data_time: 0.0003  lr: 0.000753  max_mem: 8391M\n",
      "\u001b[32m[04/06 20:58:48 d2.utils.events]: \u001b[0m eta: 1:01:31  iter: 17339  total_loss: 0.710  loss_cls: 0.118  loss_box_reg: 0.255  loss_mask: 0.219  loss_rpn_cls: 0.007  loss_rpn_loc: 0.087  time: 0.3695  data_time: 0.0003  lr: 0.000750  max_mem: 8391M\n",
      "\u001b[32m[04/06 20:58:55 d2.utils.events]: \u001b[0m eta: 1:01:28  iter: 17359  total_loss: 0.750  loss_cls: 0.094  loss_box_reg: 0.229  loss_mask: 0.227  loss_rpn_cls: 0.011  loss_rpn_loc: 0.076  time: 0.3695  data_time: 0.0003  lr: 0.000747  max_mem: 8391M\n",
      "\u001b[32m[04/06 20:59:02 d2.utils.events]: \u001b[0m eta: 1:01:21  iter: 17379  total_loss: 0.529  loss_cls: 0.089  loss_box_reg: 0.178  loss_mask: 0.187  loss_rpn_cls: 0.005  loss_rpn_loc: 0.072  time: 0.3695  data_time: 0.0002  lr: 0.000745  max_mem: 8391M\n",
      "\u001b[32m[04/06 20:59:10 d2.utils.events]: \u001b[0m eta: 1:01:15  iter: 17399  total_loss: 0.592  loss_cls: 0.103  loss_box_reg: 0.184  loss_mask: 0.158  loss_rpn_cls: 0.006  loss_rpn_loc: 0.079  time: 0.3695  data_time: 0.0003  lr: 0.000742  max_mem: 8391M\n",
      "\u001b[32m[04/06 20:59:17 d2.utils.events]: \u001b[0m eta: 1:01:09  iter: 17419  total_loss: 0.887  loss_cls: 0.172  loss_box_reg: 0.336  loss_mask: 0.248  loss_rpn_cls: 0.014  loss_rpn_loc: 0.116  time: 0.3695  data_time: 0.0003  lr: 0.000740  max_mem: 8391M\n",
      "\u001b[32m[04/06 20:59:25 d2.utils.events]: \u001b[0m eta: 1:01:02  iter: 17439  total_loss: 0.762  loss_cls: 0.117  loss_box_reg: 0.267  loss_mask: 0.239  loss_rpn_cls: 0.008  loss_rpn_loc: 0.077  time: 0.3695  data_time: 0.0003  lr: 0.000737  max_mem: 8391M\n",
      "\u001b[32m[04/06 20:59:32 d2.utils.events]: \u001b[0m eta: 1:00:51  iter: 17459  total_loss: 0.568  loss_cls: 0.086  loss_box_reg: 0.199  loss_mask: 0.190  loss_rpn_cls: 0.005  loss_rpn_loc: 0.075  time: 0.3695  data_time: 0.0002  lr: 0.000734  max_mem: 8391M\n",
      "\u001b[32m[04/06 20:59:39 d2.utils.events]: \u001b[0m eta: 1:00:41  iter: 17479  total_loss: 0.547  loss_cls: 0.081  loss_box_reg: 0.207  loss_mask: 0.181  loss_rpn_cls: 0.006  loss_rpn_loc: 0.065  time: 0.3695  data_time: 0.0002  lr: 0.000732  max_mem: 8391M\n",
      "\u001b[32m[04/06 20:59:46 d2.utils.events]: \u001b[0m eta: 1:00:35  iter: 17499  total_loss: 0.521  loss_cls: 0.096  loss_box_reg: 0.187  loss_mask: 0.162  loss_rpn_cls: 0.003  loss_rpn_loc: 0.037  time: 0.3695  data_time: 0.0003  lr: 0.000729  max_mem: 8391M\n",
      "\u001b[32m[04/06 20:59:54 d2.utils.events]: \u001b[0m eta: 1:00:20  iter: 17519  total_loss: 0.772  loss_cls: 0.143  loss_box_reg: 0.272  loss_mask: 0.231  loss_rpn_cls: 0.011  loss_rpn_loc: 0.085  time: 0.3695  data_time: 0.0002  lr: 0.000727  max_mem: 8391M\n",
      "\u001b[32m[04/06 21:00:01 d2.utils.events]: \u001b[0m eta: 1:00:12  iter: 17539  total_loss: 0.697  loss_cls: 0.120  loss_box_reg: 0.199  loss_mask: 0.192  loss_rpn_cls: 0.017  loss_rpn_loc: 0.097  time: 0.3695  data_time: 0.0003  lr: 0.000724  max_mem: 8391M\n",
      "\u001b[32m[04/06 21:00:09 d2.utils.events]: \u001b[0m eta: 1:00:09  iter: 17559  total_loss: 0.831  loss_cls: 0.149  loss_box_reg: 0.296  loss_mask: 0.255  loss_rpn_cls: 0.015  loss_rpn_loc: 0.108  time: 0.3695  data_time: 0.0003  lr: 0.000721  max_mem: 8391M\n",
      "\u001b[32m[04/06 21:00:16 d2.utils.events]: \u001b[0m eta: 1:00:03  iter: 17579  total_loss: 0.734  loss_cls: 0.125  loss_box_reg: 0.264  loss_mask: 0.222  loss_rpn_cls: 0.007  loss_rpn_loc: 0.082  time: 0.3695  data_time: 0.0003  lr: 0.000719  max_mem: 8391M\n",
      "\u001b[32m[04/06 21:00:23 d2.utils.events]: \u001b[0m eta: 0:59:54  iter: 17599  total_loss: 0.797  loss_cls: 0.159  loss_box_reg: 0.291  loss_mask: 0.234  loss_rpn_cls: 0.028  loss_rpn_loc: 0.137  time: 0.3695  data_time: 0.0003  lr: 0.000716  max_mem: 8391M\n",
      "\u001b[32m[04/06 21:00:31 d2.utils.events]: \u001b[0m eta: 0:59:48  iter: 17619  total_loss: 0.717  loss_cls: 0.104  loss_box_reg: 0.200  loss_mask: 0.169  loss_rpn_cls: 0.005  loss_rpn_loc: 0.079  time: 0.3695  data_time: 0.0003  lr: 0.000714  max_mem: 8391M\n",
      "\u001b[32m[04/06 21:00:38 d2.utils.events]: \u001b[0m eta: 0:59:38  iter: 17639  total_loss: 0.919  loss_cls: 0.166  loss_box_reg: 0.313  loss_mask: 0.249  loss_rpn_cls: 0.016  loss_rpn_loc: 0.104  time: 0.3695  data_time: 0.0003  lr: 0.000711  max_mem: 8391M\n",
      "\u001b[32m[04/06 21:00:46 d2.utils.events]: \u001b[0m eta: 0:59:32  iter: 17659  total_loss: 0.793  loss_cls: 0.131  loss_box_reg: 0.259  loss_mask: 0.235  loss_rpn_cls: 0.009  loss_rpn_loc: 0.098  time: 0.3695  data_time: 0.0003  lr: 0.000709  max_mem: 8391M\n",
      "\u001b[32m[04/06 21:00:53 d2.utils.events]: \u001b[0m eta: 0:59:26  iter: 17679  total_loss: 0.522  loss_cls: 0.068  loss_box_reg: 0.180  loss_mask: 0.176  loss_rpn_cls: 0.008  loss_rpn_loc: 0.099  time: 0.3695  data_time: 0.0003  lr: 0.000706  max_mem: 8391M\n",
      "\u001b[32m[04/06 21:01:00 d2.utils.events]: \u001b[0m eta: 0:59:19  iter: 17699  total_loss: 0.579  loss_cls: 0.092  loss_box_reg: 0.215  loss_mask: 0.217  loss_rpn_cls: 0.008  loss_rpn_loc: 0.086  time: 0.3695  data_time: 0.0002  lr: 0.000703  max_mem: 8391M\n",
      "\u001b[32m[04/06 21:01:08 d2.utils.events]: \u001b[0m eta: 0:59:14  iter: 17719  total_loss: 0.596  loss_cls: 0.109  loss_box_reg: 0.232  loss_mask: 0.186  loss_rpn_cls: 0.009  loss_rpn_loc: 0.061  time: 0.3695  data_time: 0.0003  lr: 0.000701  max_mem: 8391M\n",
      "\u001b[32m[04/06 21:01:15 d2.utils.events]: \u001b[0m eta: 0:59:01  iter: 17739  total_loss: 0.609  loss_cls: 0.094  loss_box_reg: 0.216  loss_mask: 0.192  loss_rpn_cls: 0.005  loss_rpn_loc: 0.048  time: 0.3695  data_time: 0.0003  lr: 0.000698  max_mem: 8391M\n",
      "\u001b[32m[04/06 21:01:22 d2.utils.events]: \u001b[0m eta: 0:58:55  iter: 17759  total_loss: 0.691  loss_cls: 0.147  loss_box_reg: 0.210  loss_mask: 0.188  loss_rpn_cls: 0.009  loss_rpn_loc: 0.088  time: 0.3695  data_time: 0.0003  lr: 0.000696  max_mem: 8391M\n",
      "\u001b[32m[04/06 21:01:29 d2.utils.events]: \u001b[0m eta: 0:58:50  iter: 17779  total_loss: 0.639  loss_cls: 0.112  loss_box_reg: 0.229  loss_mask: 0.197  loss_rpn_cls: 0.006  loss_rpn_loc: 0.081  time: 0.3695  data_time: 0.0003  lr: 0.000693  max_mem: 8391M\n",
      "\u001b[32m[04/06 21:01:37 d2.utils.events]: \u001b[0m eta: 0:58:43  iter: 17799  total_loss: 0.509  loss_cls: 0.090  loss_box_reg: 0.203  loss_mask: 0.176  loss_rpn_cls: 0.011  loss_rpn_loc: 0.055  time: 0.3695  data_time: 0.0002  lr: 0.000691  max_mem: 8391M\n",
      "\u001b[32m[04/06 21:01:44 d2.utils.events]: \u001b[0m eta: 0:58:40  iter: 17819  total_loss: 0.605  loss_cls: 0.111  loss_box_reg: 0.234  loss_mask: 0.219  loss_rpn_cls: 0.006  loss_rpn_loc: 0.055  time: 0.3695  data_time: 0.0003  lr: 0.000688  max_mem: 8391M\n"
     ]
    },
    {
     "name": "stdout",
     "output_type": "stream",
     "text": [
      "\u001b[32m[04/06 21:01:52 d2.utils.events]: \u001b[0m eta: 0:58:31  iter: 17839  total_loss: 0.746  loss_cls: 0.145  loss_box_reg: 0.271  loss_mask: 0.227  loss_rpn_cls: 0.009  loss_rpn_loc: 0.085  time: 0.3695  data_time: 0.0003  lr: 0.000685  max_mem: 8391M\n",
      "\u001b[32m[04/06 21:01:59 d2.utils.events]: \u001b[0m eta: 0:58:21  iter: 17859  total_loss: 0.599  loss_cls: 0.116  loss_box_reg: 0.263  loss_mask: 0.197  loss_rpn_cls: 0.016  loss_rpn_loc: 0.099  time: 0.3694  data_time: 0.0003  lr: 0.000683  max_mem: 8391M\n",
      "\u001b[32m[04/06 21:02:06 d2.utils.events]: \u001b[0m eta: 0:58:15  iter: 17879  total_loss: 0.767  loss_cls: 0.134  loss_box_reg: 0.297  loss_mask: 0.218  loss_rpn_cls: 0.011  loss_rpn_loc: 0.096  time: 0.3694  data_time: 0.0003  lr: 0.000680  max_mem: 8391M\n",
      "\u001b[32m[04/06 21:02:13 d2.utils.events]: \u001b[0m eta: 0:58:00  iter: 17899  total_loss: 0.716  loss_cls: 0.148  loss_box_reg: 0.274  loss_mask: 0.215  loss_rpn_cls: 0.009  loss_rpn_loc: 0.073  time: 0.3694  data_time: 0.0003  lr: 0.000678  max_mem: 8391M\n",
      "\u001b[32m[04/06 21:02:21 d2.utils.events]: \u001b[0m eta: 0:57:55  iter: 17919  total_loss: 0.781  loss_cls: 0.126  loss_box_reg: 0.259  loss_mask: 0.226  loss_rpn_cls: 0.016  loss_rpn_loc: 0.113  time: 0.3694  data_time: 0.0003  lr: 0.000675  max_mem: 8391M\n",
      "\u001b[32m[04/06 21:02:28 d2.utils.events]: \u001b[0m eta: 0:57:48  iter: 17939  total_loss: 0.645  loss_cls: 0.131  loss_box_reg: 0.233  loss_mask: 0.197  loss_rpn_cls: 0.013  loss_rpn_loc: 0.092  time: 0.3694  data_time: 0.0003  lr: 0.000673  max_mem: 8391M\n",
      "\u001b[32m[04/06 21:02:36 d2.utils.events]: \u001b[0m eta: 0:57:41  iter: 17959  total_loss: 0.681  loss_cls: 0.113  loss_box_reg: 0.247  loss_mask: 0.205  loss_rpn_cls: 0.017  loss_rpn_loc: 0.098  time: 0.3695  data_time: 0.0003  lr: 0.000670  max_mem: 8391M\n",
      "\u001b[32m[04/06 21:02:43 d2.utils.events]: \u001b[0m eta: 0:57:32  iter: 17979  total_loss: 0.570  loss_cls: 0.077  loss_box_reg: 0.183  loss_mask: 0.198  loss_rpn_cls: 0.003  loss_rpn_loc: 0.041  time: 0.3695  data_time: 0.0003  lr: 0.000668  max_mem: 8391M\n",
      "\u001b[32m[04/06 21:02:51 d2.utils.events]: \u001b[0m eta: 0:57:29  iter: 17999  total_loss: 0.540  loss_cls: 0.097  loss_box_reg: 0.168  loss_mask: 0.144  loss_rpn_cls: 0.012  loss_rpn_loc: 0.095  time: 0.3694  data_time: 0.0003  lr: 0.000665  max_mem: 8391M\n",
      "\u001b[32m[04/06 21:02:58 d2.utils.events]: \u001b[0m eta: 0:57:28  iter: 18019  total_loss: 0.536  loss_cls: 0.098  loss_box_reg: 0.177  loss_mask: 0.171  loss_rpn_cls: 0.005  loss_rpn_loc: 0.068  time: 0.3695  data_time: 0.0002  lr: 0.000663  max_mem: 8391M\n",
      "\u001b[32m[04/06 21:03:06 d2.utils.events]: \u001b[0m eta: 0:57:19  iter: 18039  total_loss: 0.787  loss_cls: 0.151  loss_box_reg: 0.261  loss_mask: 0.245  loss_rpn_cls: 0.012  loss_rpn_loc: 0.104  time: 0.3695  data_time: 0.0003  lr: 0.000660  max_mem: 8391M\n",
      "\u001b[32m[04/06 21:03:13 d2.utils.events]: \u001b[0m eta: 0:57:15  iter: 18059  total_loss: 0.641  loss_cls: 0.110  loss_box_reg: 0.231  loss_mask: 0.197  loss_rpn_cls: 0.007  loss_rpn_loc: 0.084  time: 0.3695  data_time: 0.0002  lr: 0.000658  max_mem: 8391M\n",
      "\u001b[32m[04/06 21:03:20 d2.utils.events]: \u001b[0m eta: 0:57:09  iter: 18079  total_loss: 0.652  loss_cls: 0.136  loss_box_reg: 0.222  loss_mask: 0.166  loss_rpn_cls: 0.008  loss_rpn_loc: 0.086  time: 0.3695  data_time: 0.0003  lr: 0.000655  max_mem: 8391M\n",
      "\u001b[32m[04/06 21:03:28 d2.utils.events]: \u001b[0m eta: 0:57:03  iter: 18099  total_loss: 0.666  loss_cls: 0.096  loss_box_reg: 0.197  loss_mask: 0.220  loss_rpn_cls: 0.006  loss_rpn_loc: 0.074  time: 0.3695  data_time: 0.0003  lr: 0.000653  max_mem: 8391M\n",
      "\u001b[32m[04/06 21:03:35 d2.utils.events]: \u001b[0m eta: 0:56:55  iter: 18119  total_loss: 0.800  loss_cls: 0.134  loss_box_reg: 0.239  loss_mask: 0.236  loss_rpn_cls: 0.004  loss_rpn_loc: 0.094  time: 0.3695  data_time: 0.0002  lr: 0.000650  max_mem: 8391M\n",
      "\u001b[32m[04/06 21:03:43 d2.utils.events]: \u001b[0m eta: 0:56:47  iter: 18139  total_loss: 0.734  loss_cls: 0.120  loss_box_reg: 0.237  loss_mask: 0.224  loss_rpn_cls: 0.006  loss_rpn_loc: 0.073  time: 0.3695  data_time: 0.0002  lr: 0.000648  max_mem: 8391M\n",
      "\u001b[32m[04/06 21:03:50 d2.utils.events]: \u001b[0m eta: 0:56:40  iter: 18159  total_loss: 0.565  loss_cls: 0.105  loss_box_reg: 0.211  loss_mask: 0.191  loss_rpn_cls: 0.003  loss_rpn_loc: 0.070  time: 0.3695  data_time: 0.0003  lr: 0.000645  max_mem: 8391M\n",
      "\u001b[32m[04/06 21:03:58 d2.utils.events]: \u001b[0m eta: 0:56:25  iter: 18179  total_loss: 0.775  loss_cls: 0.126  loss_box_reg: 0.222  loss_mask: 0.197  loss_rpn_cls: 0.008  loss_rpn_loc: 0.093  time: 0.3695  data_time: 0.0003  lr: 0.000643  max_mem: 8391M\n",
      "\u001b[32m[04/06 21:04:05 d2.utils.events]: \u001b[0m eta: 0:56:18  iter: 18199  total_loss: 0.715  loss_cls: 0.112  loss_box_reg: 0.237  loss_mask: 0.250  loss_rpn_cls: 0.008  loss_rpn_loc: 0.105  time: 0.3695  data_time: 0.0003  lr: 0.000640  max_mem: 8391M\n",
      "\u001b[32m[04/06 21:04:12 d2.utils.events]: \u001b[0m eta: 0:56:11  iter: 18219  total_loss: 0.791  loss_cls: 0.140  loss_box_reg: 0.233  loss_mask: 0.209  loss_rpn_cls: 0.015  loss_rpn_loc: 0.105  time: 0.3694  data_time: 0.0003  lr: 0.000638  max_mem: 8391M\n",
      "\u001b[32m[04/06 21:04:19 d2.utils.events]: \u001b[0m eta: 0:56:01  iter: 18239  total_loss: 0.559  loss_cls: 0.100  loss_box_reg: 0.194  loss_mask: 0.171  loss_rpn_cls: 0.006  loss_rpn_loc: 0.062  time: 0.3694  data_time: 0.0003  lr: 0.000635  max_mem: 8391M\n",
      "\u001b[32m[04/06 21:04:27 d2.utils.events]: \u001b[0m eta: 0:55:54  iter: 18259  total_loss: 0.488  loss_cls: 0.077  loss_box_reg: 0.184  loss_mask: 0.176  loss_rpn_cls: 0.003  loss_rpn_loc: 0.060  time: 0.3694  data_time: 0.0003  lr: 0.000633  max_mem: 8391M\n",
      "\u001b[32m[04/06 21:04:34 d2.utils.events]: \u001b[0m eta: 0:55:42  iter: 18279  total_loss: 0.491  loss_cls: 0.079  loss_box_reg: 0.190  loss_mask: 0.161  loss_rpn_cls: 0.006  loss_rpn_loc: 0.085  time: 0.3694  data_time: 0.0003  lr: 0.000630  max_mem: 8391M\n",
      "\u001b[32m[04/06 21:04:41 d2.utils.events]: \u001b[0m eta: 0:55:31  iter: 18299  total_loss: 0.675  loss_cls: 0.115  loss_box_reg: 0.255  loss_mask: 0.216  loss_rpn_cls: 0.010  loss_rpn_loc: 0.079  time: 0.3694  data_time: 0.0003  lr: 0.000628  max_mem: 8391M\n",
      "\u001b[32m[04/06 21:04:49 d2.utils.events]: \u001b[0m eta: 0:55:24  iter: 18319  total_loss: 0.924  loss_cls: 0.144  loss_box_reg: 0.335  loss_mask: 0.256  loss_rpn_cls: 0.021  loss_rpn_loc: 0.120  time: 0.3694  data_time: 0.0003  lr: 0.000625  max_mem: 8391M\n",
      "\u001b[32m[04/06 21:04:56 d2.utils.events]: \u001b[0m eta: 0:55:18  iter: 18339  total_loss: 0.634  loss_cls: 0.106  loss_box_reg: 0.235  loss_mask: 0.212  loss_rpn_cls: 0.003  loss_rpn_loc: 0.073  time: 0.3694  data_time: 0.0003  lr: 0.000623  max_mem: 8391M\n",
      "\u001b[32m[04/06 21:05:04 d2.utils.events]: \u001b[0m eta: 0:55:09  iter: 18359  total_loss: 0.677  loss_cls: 0.113  loss_box_reg: 0.268  loss_mask: 0.196  loss_rpn_cls: 0.008  loss_rpn_loc: 0.103  time: 0.3694  data_time: 0.0003  lr: 0.000620  max_mem: 8391M\n",
      "\u001b[32m[04/06 21:05:11 d2.utils.events]: \u001b[0m eta: 0:55:02  iter: 18379  total_loss: 0.678  loss_cls: 0.113  loss_box_reg: 0.191  loss_mask: 0.211  loss_rpn_cls: 0.009  loss_rpn_loc: 0.099  time: 0.3694  data_time: 0.0003  lr: 0.000618  max_mem: 8391M\n",
      "\u001b[32m[04/06 21:05:18 d2.utils.events]: \u001b[0m eta: 0:54:55  iter: 18399  total_loss: 0.618  loss_cls: 0.107  loss_box_reg: 0.196  loss_mask: 0.238  loss_rpn_cls: 0.007  loss_rpn_loc: 0.052  time: 0.3694  data_time: 0.0002  lr: 0.000615  max_mem: 8391M\n",
      "\u001b[32m[04/06 21:05:26 d2.utils.events]: \u001b[0m eta: 0:54:49  iter: 18419  total_loss: 0.625  loss_cls: 0.109  loss_box_reg: 0.236  loss_mask: 0.211  loss_rpn_cls: 0.012  loss_rpn_loc: 0.087  time: 0.3694  data_time: 0.0003  lr: 0.000613  max_mem: 8391M\n",
      "\u001b[32m[04/06 21:05:33 d2.utils.events]: \u001b[0m eta: 0:54:40  iter: 18439  total_loss: 0.689  loss_cls: 0.110  loss_box_reg: 0.265  loss_mask: 0.206  loss_rpn_cls: 0.006  loss_rpn_loc: 0.071  time: 0.3694  data_time: 0.0002  lr: 0.000610  max_mem: 8391M\n",
      "\u001b[32m[04/06 21:05:40 d2.utils.events]: \u001b[0m eta: 0:54:33  iter: 18459  total_loss: 0.526  loss_cls: 0.093  loss_box_reg: 0.177  loss_mask: 0.183  loss_rpn_cls: 0.008  loss_rpn_loc: 0.056  time: 0.3694  data_time: 0.0002  lr: 0.000608  max_mem: 8391M\n",
      "\u001b[32m[04/06 21:05:47 d2.utils.events]: \u001b[0m eta: 0:54:30  iter: 18479  total_loss: 0.647  loss_cls: 0.122  loss_box_reg: 0.237  loss_mask: 0.207  loss_rpn_cls: 0.007  loss_rpn_loc: 0.083  time: 0.3694  data_time: 0.0002  lr: 0.000605  max_mem: 8391M\n"
     ]
    },
    {
     "name": "stdout",
     "output_type": "stream",
     "text": [
      "\u001b[32m[04/06 21:05:55 d2.utils.events]: \u001b[0m eta: 0:54:23  iter: 18499  total_loss: 0.612  loss_cls: 0.111  loss_box_reg: 0.218  loss_mask: 0.195  loss_rpn_cls: 0.005  loss_rpn_loc: 0.069  time: 0.3694  data_time: 0.0002  lr: 0.000603  max_mem: 8391M\n",
      "\u001b[32m[04/06 21:06:02 d2.utils.events]: \u001b[0m eta: 0:54:16  iter: 18519  total_loss: 0.581  loss_cls: 0.106  loss_box_reg: 0.197  loss_mask: 0.180  loss_rpn_cls: 0.006  loss_rpn_loc: 0.090  time: 0.3694  data_time: 0.0003  lr: 0.000601  max_mem: 8391M\n",
      "\u001b[32m[04/06 21:06:09 d2.utils.events]: \u001b[0m eta: 0:54:09  iter: 18539  total_loss: 0.727  loss_cls: 0.130  loss_box_reg: 0.244  loss_mask: 0.219  loss_rpn_cls: 0.013  loss_rpn_loc: 0.081  time: 0.3694  data_time: 0.0003  lr: 0.000598  max_mem: 8391M\n",
      "\u001b[32m[04/06 21:06:16 d2.utils.events]: \u001b[0m eta: 0:53:54  iter: 18559  total_loss: 0.622  loss_cls: 0.093  loss_box_reg: 0.210  loss_mask: 0.180  loss_rpn_cls: 0.004  loss_rpn_loc: 0.061  time: 0.3694  data_time: 0.0002  lr: 0.000596  max_mem: 8391M\n",
      "\u001b[32m[04/06 21:06:24 d2.utils.events]: \u001b[0m eta: 0:53:47  iter: 18579  total_loss: 0.654  loss_cls: 0.110  loss_box_reg: 0.232  loss_mask: 0.213  loss_rpn_cls: 0.003  loss_rpn_loc: 0.092  time: 0.3694  data_time: 0.0002  lr: 0.000593  max_mem: 8391M\n",
      "\u001b[32m[04/06 21:06:31 d2.utils.events]: \u001b[0m eta: 0:53:40  iter: 18599  total_loss: 0.741  loss_cls: 0.158  loss_box_reg: 0.276  loss_mask: 0.219  loss_rpn_cls: 0.010  loss_rpn_loc: 0.097  time: 0.3693  data_time: 0.0002  lr: 0.000591  max_mem: 8391M\n",
      "\u001b[32m[04/06 21:06:38 d2.utils.events]: \u001b[0m eta: 0:53:31  iter: 18619  total_loss: 0.755  loss_cls: 0.135  loss_box_reg: 0.273  loss_mask: 0.229  loss_rpn_cls: 0.011  loss_rpn_loc: 0.078  time: 0.3694  data_time: 0.0003  lr: 0.000588  max_mem: 8391M\n",
      "\u001b[32m[04/06 21:06:46 d2.utils.events]: \u001b[0m eta: 0:53:25  iter: 18639  total_loss: 0.769  loss_cls: 0.138  loss_box_reg: 0.259  loss_mask: 0.214  loss_rpn_cls: 0.007  loss_rpn_loc: 0.098  time: 0.3694  data_time: 0.0003  lr: 0.000586  max_mem: 8391M\n",
      "\u001b[32m[04/06 21:06:53 d2.utils.events]: \u001b[0m eta: 0:53:18  iter: 18659  total_loss: 0.530  loss_cls: 0.095  loss_box_reg: 0.217  loss_mask: 0.175  loss_rpn_cls: 0.004  loss_rpn_loc: 0.064  time: 0.3694  data_time: 0.0003  lr: 0.000584  max_mem: 8391M\n",
      "\u001b[32m[04/06 21:07:01 d2.utils.events]: \u001b[0m eta: 0:53:11  iter: 18679  total_loss: 0.695  loss_cls: 0.102  loss_box_reg: 0.225  loss_mask: 0.205  loss_rpn_cls: 0.008  loss_rpn_loc: 0.068  time: 0.3694  data_time: 0.0003  lr: 0.000581  max_mem: 8391M\n",
      "\u001b[32m[04/06 21:07:08 d2.utils.events]: \u001b[0m eta: 0:53:05  iter: 18699  total_loss: 0.662  loss_cls: 0.113  loss_box_reg: 0.212  loss_mask: 0.200  loss_rpn_cls: 0.008  loss_rpn_loc: 0.075  time: 0.3694  data_time: 0.0002  lr: 0.000579  max_mem: 8391M\n",
      "\u001b[32m[04/06 21:07:15 d2.utils.events]: \u001b[0m eta: 0:52:57  iter: 18719  total_loss: 0.616  loss_cls: 0.101  loss_box_reg: 0.237  loss_mask: 0.199  loss_rpn_cls: 0.004  loss_rpn_loc: 0.060  time: 0.3694  data_time: 0.0002  lr: 0.000576  max_mem: 8391M\n",
      "\u001b[32m[04/06 21:07:23 d2.utils.events]: \u001b[0m eta: 0:52:55  iter: 18739  total_loss: 0.437  loss_cls: 0.069  loss_box_reg: 0.181  loss_mask: 0.165  loss_rpn_cls: 0.003  loss_rpn_loc: 0.036  time: 0.3694  data_time: 0.0003  lr: 0.000574  max_mem: 8391M\n",
      "\u001b[32m[04/06 21:07:30 d2.utils.events]: \u001b[0m eta: 0:52:50  iter: 18759  total_loss: 0.766  loss_cls: 0.149  loss_box_reg: 0.211  loss_mask: 0.232  loss_rpn_cls: 0.010  loss_rpn_loc: 0.105  time: 0.3694  data_time: 0.0003  lr: 0.000571  max_mem: 8391M\n",
      "\u001b[32m[04/06 21:07:38 d2.utils.events]: \u001b[0m eta: 0:52:40  iter: 18779  total_loss: 0.640  loss_cls: 0.087  loss_box_reg: 0.254  loss_mask: 0.202  loss_rpn_cls: 0.005  loss_rpn_loc: 0.084  time: 0.3693  data_time: 0.0003  lr: 0.000569  max_mem: 8391M\n",
      "\u001b[32m[04/06 21:07:45 d2.utils.events]: \u001b[0m eta: 0:52:29  iter: 18799  total_loss: 0.776  loss_cls: 0.121  loss_box_reg: 0.283  loss_mask: 0.222  loss_rpn_cls: 0.009  loss_rpn_loc: 0.092  time: 0.3693  data_time: 0.0002  lr: 0.000567  max_mem: 8391M\n",
      "\u001b[32m[04/06 21:07:52 d2.utils.events]: \u001b[0m eta: 0:52:22  iter: 18819  total_loss: 0.597  loss_cls: 0.104  loss_box_reg: 0.215  loss_mask: 0.192  loss_rpn_cls: 0.008  loss_rpn_loc: 0.075  time: 0.3693  data_time: 0.0003  lr: 0.000564  max_mem: 8391M\n",
      "\u001b[32m[04/06 21:07:59 d2.utils.events]: \u001b[0m eta: 0:52:15  iter: 18839  total_loss: 0.815  loss_cls: 0.137  loss_box_reg: 0.263  loss_mask: 0.206  loss_rpn_cls: 0.017  loss_rpn_loc: 0.114  time: 0.3693  data_time: 0.0003  lr: 0.000562  max_mem: 8391M\n",
      "\u001b[32m[04/06 21:08:07 d2.utils.events]: \u001b[0m eta: 0:52:08  iter: 18859  total_loss: 0.628  loss_cls: 0.122  loss_box_reg: 0.236  loss_mask: 0.196  loss_rpn_cls: 0.005  loss_rpn_loc: 0.076  time: 0.3693  data_time: 0.0002  lr: 0.000560  max_mem: 8391M\n",
      "\u001b[32m[04/06 21:08:14 d2.utils.events]: \u001b[0m eta: 0:52:00  iter: 18879  total_loss: 0.557  loss_cls: 0.094  loss_box_reg: 0.223  loss_mask: 0.196  loss_rpn_cls: 0.008  loss_rpn_loc: 0.058  time: 0.3693  data_time: 0.0003  lr: 0.000557  max_mem: 8391M\n",
      "\u001b[32m[04/06 21:08:21 d2.utils.events]: \u001b[0m eta: 0:51:54  iter: 18899  total_loss: 0.582  loss_cls: 0.110  loss_box_reg: 0.205  loss_mask: 0.187  loss_rpn_cls: 0.009  loss_rpn_loc: 0.074  time: 0.3693  data_time: 0.0002  lr: 0.000555  max_mem: 8391M\n",
      "\u001b[32m[04/06 21:08:28 d2.utils.events]: \u001b[0m eta: 0:51:43  iter: 18919  total_loss: 0.663  loss_cls: 0.085  loss_box_reg: 0.209  loss_mask: 0.219  loss_rpn_cls: 0.007  loss_rpn_loc: 0.075  time: 0.3693  data_time: 0.0003  lr: 0.000552  max_mem: 8391M\n",
      "\u001b[32m[04/06 21:08:36 d2.utils.events]: \u001b[0m eta: 0:51:34  iter: 18939  total_loss: 0.762  loss_cls: 0.155  loss_box_reg: 0.268  loss_mask: 0.207  loss_rpn_cls: 0.017  loss_rpn_loc: 0.104  time: 0.3693  data_time: 0.0003  lr: 0.000550  max_mem: 8391M\n",
      "\u001b[32m[04/06 21:08:43 d2.utils.events]: \u001b[0m eta: 0:51:30  iter: 18959  total_loss: 0.545  loss_cls: 0.102  loss_box_reg: 0.181  loss_mask: 0.172  loss_rpn_cls: 0.006  loss_rpn_loc: 0.077  time: 0.3693  data_time: 0.0003  lr: 0.000548  max_mem: 8391M\n",
      "\u001b[32m[04/06 21:08:51 d2.utils.events]: \u001b[0m eta: 0:51:22  iter: 18979  total_loss: 0.495  loss_cls: 0.089  loss_box_reg: 0.178  loss_mask: 0.160  loss_rpn_cls: 0.003  loss_rpn_loc: 0.070  time: 0.3693  data_time: 0.0003  lr: 0.000545  max_mem: 8391M\n",
      "\u001b[32m[04/06 21:08:58 d2.utils.events]: \u001b[0m eta: 0:51:15  iter: 18999  total_loss: 0.744  loss_cls: 0.121  loss_box_reg: 0.240  loss_mask: 0.222  loss_rpn_cls: 0.012  loss_rpn_loc: 0.101  time: 0.3693  data_time: 0.0002  lr: 0.000543  max_mem: 8391M\n",
      "\u001b[32m[04/06 21:09:05 d2.utils.events]: \u001b[0m eta: 0:51:02  iter: 19019  total_loss: 0.521  loss_cls: 0.087  loss_box_reg: 0.197  loss_mask: 0.173  loss_rpn_cls: 0.014  loss_rpn_loc: 0.061  time: 0.3693  data_time: 0.0003  lr: 0.000541  max_mem: 8391M\n",
      "\u001b[32m[04/06 21:09:13 d2.utils.events]: \u001b[0m eta: 0:50:56  iter: 19039  total_loss: 0.506  loss_cls: 0.081  loss_box_reg: 0.182  loss_mask: 0.162  loss_rpn_cls: 0.008  loss_rpn_loc: 0.053  time: 0.3693  data_time: 0.0003  lr: 0.000538  max_mem: 8391M\n",
      "\u001b[32m[04/06 21:09:20 d2.utils.events]: \u001b[0m eta: 0:50:45  iter: 19059  total_loss: 0.753  loss_cls: 0.135  loss_box_reg: 0.268  loss_mask: 0.241  loss_rpn_cls: 0.016  loss_rpn_loc: 0.108  time: 0.3693  data_time: 0.0003  lr: 0.000536  max_mem: 8391M\n",
      "\u001b[32m[04/06 21:09:27 d2.utils.events]: \u001b[0m eta: 0:50:33  iter: 19079  total_loss: 0.501  loss_cls: 0.088  loss_box_reg: 0.178  loss_mask: 0.152  loss_rpn_cls: 0.007  loss_rpn_loc: 0.056  time: 0.3693  data_time: 0.0003  lr: 0.000534  max_mem: 8391M\n",
      "\u001b[32m[04/06 21:09:34 d2.utils.events]: \u001b[0m eta: 0:50:24  iter: 19099  total_loss: 0.607  loss_cls: 0.102  loss_box_reg: 0.201  loss_mask: 0.223  loss_rpn_cls: 0.004  loss_rpn_loc: 0.059  time: 0.3693  data_time: 0.0003  lr: 0.000531  max_mem: 8391M\n",
      "\u001b[32m[04/06 21:09:42 d2.utils.events]: \u001b[0m eta: 0:50:18  iter: 19119  total_loss: 0.690  loss_cls: 0.138  loss_box_reg: 0.252  loss_mask: 0.207  loss_rpn_cls: 0.007  loss_rpn_loc: 0.090  time: 0.3693  data_time: 0.0003  lr: 0.000529  max_mem: 8391M\n",
      "\u001b[32m[04/06 21:09:50 d2.utils.events]: \u001b[0m eta: 0:50:12  iter: 19139  total_loss: 0.603  loss_cls: 0.135  loss_box_reg: 0.219  loss_mask: 0.229  loss_rpn_cls: 0.011  loss_rpn_loc: 0.082  time: 0.3693  data_time: 0.0003  lr: 0.000527  max_mem: 8391M\n"
     ]
    },
    {
     "name": "stdout",
     "output_type": "stream",
     "text": [
      "\u001b[32m[04/06 21:09:57 d2.utils.events]: \u001b[0m eta: 0:50:04  iter: 19159  total_loss: 0.872  loss_cls: 0.172  loss_box_reg: 0.328  loss_mask: 0.250  loss_rpn_cls: 0.021  loss_rpn_loc: 0.122  time: 0.3693  data_time: 0.0003  lr: 0.000524  max_mem: 8391M\n",
      "\u001b[32m[04/06 21:10:05 d2.utils.events]: \u001b[0m eta: 0:50:00  iter: 19179  total_loss: 0.731  loss_cls: 0.100  loss_box_reg: 0.228  loss_mask: 0.237  loss_rpn_cls: 0.006  loss_rpn_loc: 0.096  time: 0.3693  data_time: 0.0003  lr: 0.000522  max_mem: 8391M\n",
      "\u001b[32m[04/06 21:10:12 d2.utils.events]: \u001b[0m eta: 0:49:50  iter: 19199  total_loss: 0.796  loss_cls: 0.137  loss_box_reg: 0.314  loss_mask: 0.233  loss_rpn_cls: 0.013  loss_rpn_loc: 0.098  time: 0.3693  data_time: 0.0003  lr: 0.000520  max_mem: 8391M\n",
      "\u001b[32m[04/06 21:10:19 d2.utils.events]: \u001b[0m eta: 0:49:46  iter: 19219  total_loss: 0.802  loss_cls: 0.147  loss_box_reg: 0.256  loss_mask: 0.232  loss_rpn_cls: 0.012  loss_rpn_loc: 0.106  time: 0.3693  data_time: 0.0003  lr: 0.000517  max_mem: 8391M\n",
      "\u001b[32m[04/06 21:10:27 d2.utils.events]: \u001b[0m eta: 0:49:39  iter: 19239  total_loss: 0.472  loss_cls: 0.085  loss_box_reg: 0.177  loss_mask: 0.153  loss_rpn_cls: 0.006  loss_rpn_loc: 0.066  time: 0.3693  data_time: 0.0003  lr: 0.000515  max_mem: 8391M\n",
      "\u001b[32m[04/06 21:10:34 d2.utils.events]: \u001b[0m eta: 0:49:31  iter: 19259  total_loss: 0.563  loss_cls: 0.094  loss_box_reg: 0.213  loss_mask: 0.200  loss_rpn_cls: 0.004  loss_rpn_loc: 0.058  time: 0.3693  data_time: 0.0002  lr: 0.000513  max_mem: 8391M\n",
      "\u001b[32m[04/06 21:10:41 d2.utils.events]: \u001b[0m eta: 0:49:23  iter: 19279  total_loss: 0.647  loss_cls: 0.087  loss_box_reg: 0.191  loss_mask: 0.232  loss_rpn_cls: 0.004  loss_rpn_loc: 0.065  time: 0.3693  data_time: 0.0002  lr: 0.000510  max_mem: 8391M\n",
      "\u001b[32m[04/06 21:10:48 d2.utils.events]: \u001b[0m eta: 0:49:16  iter: 19299  total_loss: 0.610  loss_cls: 0.099  loss_box_reg: 0.249  loss_mask: 0.197  loss_rpn_cls: 0.007  loss_rpn_loc: 0.064  time: 0.3693  data_time: 0.0002  lr: 0.000508  max_mem: 8391M\n",
      "\u001b[32m[04/06 21:10:56 d2.utils.events]: \u001b[0m eta: 0:49:08  iter: 19319  total_loss: 0.674  loss_cls: 0.104  loss_box_reg: 0.261  loss_mask: 0.197  loss_rpn_cls: 0.013  loss_rpn_loc: 0.099  time: 0.3693  data_time: 0.0003  lr: 0.000506  max_mem: 8391M\n",
      "\u001b[32m[04/06 21:11:03 d2.utils.events]: \u001b[0m eta: 0:49:00  iter: 19339  total_loss: 0.728  loss_cls: 0.101  loss_box_reg: 0.268  loss_mask: 0.236  loss_rpn_cls: 0.004  loss_rpn_loc: 0.070  time: 0.3692  data_time: 0.0003  lr: 0.000503  max_mem: 8391M\n",
      "\u001b[32m[04/06 21:11:10 d2.utils.events]: \u001b[0m eta: 0:48:50  iter: 19359  total_loss: 0.519  loss_cls: 0.102  loss_box_reg: 0.185  loss_mask: 0.168  loss_rpn_cls: 0.005  loss_rpn_loc: 0.080  time: 0.3692  data_time: 0.0003  lr: 0.000501  max_mem: 8391M\n",
      "\u001b[32m[04/06 21:11:18 d2.utils.events]: \u001b[0m eta: 0:48:45  iter: 19379  total_loss: 0.682  loss_cls: 0.107  loss_box_reg: 0.236  loss_mask: 0.190  loss_rpn_cls: 0.005  loss_rpn_loc: 0.062  time: 0.3692  data_time: 0.0003  lr: 0.000499  max_mem: 8391M\n",
      "\u001b[32m[04/06 21:11:25 d2.utils.events]: \u001b[0m eta: 0:48:35  iter: 19399  total_loss: 0.544  loss_cls: 0.093  loss_box_reg: 0.215  loss_mask: 0.201  loss_rpn_cls: 0.009  loss_rpn_loc: 0.086  time: 0.3692  data_time: 0.0002  lr: 0.000497  max_mem: 8391M\n",
      "\u001b[32m[04/06 21:11:32 d2.utils.events]: \u001b[0m eta: 0:48:26  iter: 19419  total_loss: 0.830  loss_cls: 0.150  loss_box_reg: 0.250  loss_mask: 0.266  loss_rpn_cls: 0.011  loss_rpn_loc: 0.108  time: 0.3692  data_time: 0.0003  lr: 0.000494  max_mem: 8391M\n",
      "\u001b[32m[04/06 21:11:40 d2.utils.events]: \u001b[0m eta: 0:48:19  iter: 19439  total_loss: 0.457  loss_cls: 0.083  loss_box_reg: 0.166  loss_mask: 0.159  loss_rpn_cls: 0.006  loss_rpn_loc: 0.082  time: 0.3692  data_time: 0.0003  lr: 0.000492  max_mem: 8391M\n",
      "\u001b[32m[04/06 21:11:47 d2.utils.events]: \u001b[0m eta: 0:48:16  iter: 19459  total_loss: 0.665  loss_cls: 0.084  loss_box_reg: 0.206  loss_mask: 0.207  loss_rpn_cls: 0.002  loss_rpn_loc: 0.064  time: 0.3692  data_time: 0.0003  lr: 0.000490  max_mem: 8391M\n",
      "\u001b[32m[04/06 21:11:54 d2.utils.events]: \u001b[0m eta: 0:48:07  iter: 19479  total_loss: 0.554  loss_cls: 0.080  loss_box_reg: 0.185  loss_mask: 0.168  loss_rpn_cls: 0.002  loss_rpn_loc: 0.052  time: 0.3692  data_time: 0.0003  lr: 0.000487  max_mem: 8391M\n",
      "\u001b[32m[04/06 21:12:01 d2.utils.events]: \u001b[0m eta: 0:47:57  iter: 19499  total_loss: 0.922  loss_cls: 0.155  loss_box_reg: 0.351  loss_mask: 0.267  loss_rpn_cls: 0.010  loss_rpn_loc: 0.114  time: 0.3692  data_time: 0.0002  lr: 0.000485  max_mem: 8391M\n",
      "\u001b[32m[04/06 21:12:09 d2.utils.events]: \u001b[0m eta: 0:47:53  iter: 19519  total_loss: 0.524  loss_cls: 0.101  loss_box_reg: 0.168  loss_mask: 0.169  loss_rpn_cls: 0.007  loss_rpn_loc: 0.064  time: 0.3692  data_time: 0.0003  lr: 0.000483  max_mem: 8391M\n",
      "\u001b[32m[04/06 21:12:16 d2.utils.events]: \u001b[0m eta: 0:47:43  iter: 19539  total_loss: 0.496  loss_cls: 0.058  loss_box_reg: 0.164  loss_mask: 0.184  loss_rpn_cls: 0.006  loss_rpn_loc: 0.062  time: 0.3692  data_time: 0.0002  lr: 0.000481  max_mem: 8391M\n",
      "\u001b[32m[04/06 21:12:23 d2.utils.events]: \u001b[0m eta: 0:47:40  iter: 19559  total_loss: 0.701  loss_cls: 0.130  loss_box_reg: 0.243  loss_mask: 0.205  loss_rpn_cls: 0.010  loss_rpn_loc: 0.074  time: 0.3692  data_time: 0.0003  lr: 0.000478  max_mem: 8391M\n",
      "\u001b[32m[04/06 21:12:31 d2.utils.events]: \u001b[0m eta: 0:47:33  iter: 19579  total_loss: 0.688  loss_cls: 0.104  loss_box_reg: 0.194  loss_mask: 0.220  loss_rpn_cls: 0.010  loss_rpn_loc: 0.090  time: 0.3692  data_time: 0.0003  lr: 0.000476  max_mem: 8391M\n",
      "\u001b[32m[04/06 21:12:38 d2.utils.events]: \u001b[0m eta: 0:47:27  iter: 19599  total_loss: 0.771  loss_cls: 0.154  loss_box_reg: 0.235  loss_mask: 0.189  loss_rpn_cls: 0.020  loss_rpn_loc: 0.107  time: 0.3692  data_time: 0.0003  lr: 0.000474  max_mem: 8391M\n",
      "\u001b[32m[04/06 21:12:46 d2.utils.events]: \u001b[0m eta: 0:47:19  iter: 19619  total_loss: 0.811  loss_cls: 0.152  loss_box_reg: 0.297  loss_mask: 0.225  loss_rpn_cls: 0.010  loss_rpn_loc: 0.115  time: 0.3692  data_time: 0.0003  lr: 0.000472  max_mem: 8391M\n",
      "\u001b[32m[04/06 21:12:53 d2.utils.events]: \u001b[0m eta: 0:47:13  iter: 19639  total_loss: 0.698  loss_cls: 0.120  loss_box_reg: 0.268  loss_mask: 0.205  loss_rpn_cls: 0.008  loss_rpn_loc: 0.080  time: 0.3692  data_time: 0.0002  lr: 0.000469  max_mem: 8391M\n",
      "\u001b[32m[04/06 21:13:00 d2.utils.events]: \u001b[0m eta: 0:47:00  iter: 19659  total_loss: 0.551  loss_cls: 0.101  loss_box_reg: 0.214  loss_mask: 0.207  loss_rpn_cls: 0.002  loss_rpn_loc: 0.042  time: 0.3692  data_time: 0.0003  lr: 0.000467  max_mem: 8391M\n",
      "\u001b[32m[04/06 21:13:07 d2.utils.events]: \u001b[0m eta: 0:46:52  iter: 19679  total_loss: 0.683  loss_cls: 0.137  loss_box_reg: 0.243  loss_mask: 0.204  loss_rpn_cls: 0.014  loss_rpn_loc: 0.086  time: 0.3692  data_time: 0.0003  lr: 0.000465  max_mem: 8391M\n",
      "\u001b[32m[04/06 21:13:15 d2.utils.events]: \u001b[0m eta: 0:46:45  iter: 19699  total_loss: 0.590  loss_cls: 0.093  loss_box_reg: 0.182  loss_mask: 0.189  loss_rpn_cls: 0.009  loss_rpn_loc: 0.063  time: 0.3692  data_time: 0.0002  lr: 0.000463  max_mem: 8391M\n",
      "\u001b[32m[04/06 21:13:22 d2.utils.events]: \u001b[0m eta: 0:46:37  iter: 19719  total_loss: 0.677  loss_cls: 0.103  loss_box_reg: 0.258  loss_mask: 0.209  loss_rpn_cls: 0.008  loss_rpn_loc: 0.099  time: 0.3692  data_time: 0.0003  lr: 0.000461  max_mem: 8391M\n",
      "\u001b[32m[04/06 21:13:29 d2.utils.events]: \u001b[0m eta: 0:46:30  iter: 19739  total_loss: 0.613  loss_cls: 0.089  loss_box_reg: 0.211  loss_mask: 0.218  loss_rpn_cls: 0.004  loss_rpn_loc: 0.066  time: 0.3692  data_time: 0.0003  lr: 0.000458  max_mem: 8391M\n",
      "\u001b[32m[04/06 21:13:37 d2.utils.events]: \u001b[0m eta: 0:46:23  iter: 19759  total_loss: 0.802  loss_cls: 0.162  loss_box_reg: 0.255  loss_mask: 0.233  loss_rpn_cls: 0.006  loss_rpn_loc: 0.101  time: 0.3692  data_time: 0.0003  lr: 0.000456  max_mem: 8391M\n",
      "\u001b[32m[04/06 21:13:44 d2.utils.events]: \u001b[0m eta: 0:46:17  iter: 19779  total_loss: 0.545  loss_cls: 0.083  loss_box_reg: 0.186  loss_mask: 0.168  loss_rpn_cls: 0.004  loss_rpn_loc: 0.066  time: 0.3692  data_time: 0.0003  lr: 0.000454  max_mem: 8391M\n",
      "\u001b[32m[04/06 21:13:51 d2.utils.events]: \u001b[0m eta: 0:46:11  iter: 19799  total_loss: 0.572  loss_cls: 0.095  loss_box_reg: 0.231  loss_mask: 0.189  loss_rpn_cls: 0.007  loss_rpn_loc: 0.070  time: 0.3692  data_time: 0.0002  lr: 0.000452  max_mem: 8391M\n"
     ]
    },
    {
     "name": "stdout",
     "output_type": "stream",
     "text": [
      "\u001b[32m[04/06 21:13:59 d2.utils.events]: \u001b[0m eta: 0:46:03  iter: 19819  total_loss: 0.572  loss_cls: 0.118  loss_box_reg: 0.199  loss_mask: 0.183  loss_rpn_cls: 0.006  loss_rpn_loc: 0.058  time: 0.3692  data_time: 0.0002  lr: 0.000450  max_mem: 8391M\n",
      "\u001b[32m[04/06 21:14:06 d2.utils.events]: \u001b[0m eta: 0:45:56  iter: 19839  total_loss: 0.514  loss_cls: 0.095  loss_box_reg: 0.211  loss_mask: 0.166  loss_rpn_cls: 0.007  loss_rpn_loc: 0.061  time: 0.3691  data_time: 0.0003  lr: 0.000447  max_mem: 8391M\n",
      "\u001b[32m[04/06 21:14:13 d2.utils.events]: \u001b[0m eta: 0:45:50  iter: 19859  total_loss: 0.750  loss_cls: 0.120  loss_box_reg: 0.271  loss_mask: 0.223  loss_rpn_cls: 0.010  loss_rpn_loc: 0.089  time: 0.3692  data_time: 0.0003  lr: 0.000445  max_mem: 8391M\n",
      "\u001b[32m[04/06 21:14:21 d2.utils.events]: \u001b[0m eta: 0:45:42  iter: 19879  total_loss: 0.484  loss_cls: 0.090  loss_box_reg: 0.206  loss_mask: 0.164  loss_rpn_cls: 0.002  loss_rpn_loc: 0.050  time: 0.3691  data_time: 0.0003  lr: 0.000443  max_mem: 8391M\n",
      "\u001b[32m[04/06 21:14:28 d2.utils.events]: \u001b[0m eta: 0:45:32  iter: 19899  total_loss: 0.789  loss_cls: 0.131  loss_box_reg: 0.249  loss_mask: 0.220  loss_rpn_cls: 0.010  loss_rpn_loc: 0.093  time: 0.3691  data_time: 0.0003  lr: 0.000441  max_mem: 8391M\n",
      "\u001b[32m[04/06 21:14:35 d2.utils.events]: \u001b[0m eta: 0:45:29  iter: 19919  total_loss: 0.731  loss_cls: 0.116  loss_box_reg: 0.221  loss_mask: 0.220  loss_rpn_cls: 0.007  loss_rpn_loc: 0.075  time: 0.3691  data_time: 0.0003  lr: 0.000439  max_mem: 8391M\n",
      "\u001b[32m[04/06 21:14:43 d2.utils.events]: \u001b[0m eta: 0:45:21  iter: 19939  total_loss: 0.666  loss_cls: 0.138  loss_box_reg: 0.233  loss_mask: 0.207  loss_rpn_cls: 0.006  loss_rpn_loc: 0.085  time: 0.3691  data_time: 0.0003  lr: 0.000436  max_mem: 8391M\n",
      "\u001b[32m[04/06 21:14:50 d2.utils.events]: \u001b[0m eta: 0:45:10  iter: 19959  total_loss: 0.558  loss_cls: 0.081  loss_box_reg: 0.198  loss_mask: 0.196  loss_rpn_cls: 0.005  loss_rpn_loc: 0.081  time: 0.3691  data_time: 0.0002  lr: 0.000434  max_mem: 8391M\n",
      "\u001b[32m[04/06 21:14:57 d2.utils.events]: \u001b[0m eta: 0:45:07  iter: 19979  total_loss: 0.575  loss_cls: 0.137  loss_box_reg: 0.213  loss_mask: 0.198  loss_rpn_cls: 0.005  loss_rpn_loc: 0.070  time: 0.3691  data_time: 0.0003  lr: 0.000432  max_mem: 8391M\n",
      "\u001b[32m[04/06 21:15:08 d2.utils.events]: \u001b[0m eta: 0:44:59  iter: 19999  total_loss: 0.718  loss_cls: 0.106  loss_box_reg: 0.252  loss_mask: 0.197  loss_rpn_cls: 0.006  loss_rpn_loc: 0.108  time: 0.3691  data_time: 0.0003  lr: 0.000430  max_mem: 8391M\n",
      "\u001b[32m[04/06 21:15:15 d2.utils.events]: \u001b[0m eta: 0:44:53  iter: 20019  total_loss: 0.713  loss_cls: 0.114  loss_box_reg: 0.267  loss_mask: 0.219  loss_rpn_cls: 0.007  loss_rpn_loc: 0.070  time: 0.3691  data_time: 0.0003  lr: 0.000428  max_mem: 8391M\n",
      "\u001b[32m[04/06 21:15:23 d2.utils.events]: \u001b[0m eta: 0:44:42  iter: 20039  total_loss: 0.889  loss_cls: 0.173  loss_box_reg: 0.326  loss_mask: 0.255  loss_rpn_cls: 0.020  loss_rpn_loc: 0.108  time: 0.3691  data_time: 0.0003  lr: 0.000426  max_mem: 8391M\n",
      "\u001b[32m[04/06 21:15:30 d2.utils.events]: \u001b[0m eta: 0:44:37  iter: 20059  total_loss: 0.691  loss_cls: 0.107  loss_box_reg: 0.265  loss_mask: 0.209  loss_rpn_cls: 0.007  loss_rpn_loc: 0.096  time: 0.3691  data_time: 0.0003  lr: 0.000424  max_mem: 8391M\n",
      "\u001b[32m[04/06 21:15:37 d2.utils.events]: \u001b[0m eta: 0:44:31  iter: 20079  total_loss: 0.478  loss_cls: 0.086  loss_box_reg: 0.165  loss_mask: 0.146  loss_rpn_cls: 0.007  loss_rpn_loc: 0.068  time: 0.3691  data_time: 0.0003  lr: 0.000421  max_mem: 8391M\n",
      "\u001b[32m[04/06 21:15:44 d2.utils.events]: \u001b[0m eta: 0:44:21  iter: 20099  total_loss: 0.482  loss_cls: 0.082  loss_box_reg: 0.189  loss_mask: 0.163  loss_rpn_cls: 0.003  loss_rpn_loc: 0.048  time: 0.3691  data_time: 0.0002  lr: 0.000419  max_mem: 8391M\n",
      "\u001b[32m[04/06 21:15:52 d2.utils.events]: \u001b[0m eta: 0:44:12  iter: 20119  total_loss: 0.860  loss_cls: 0.148  loss_box_reg: 0.306  loss_mask: 0.269  loss_rpn_cls: 0.016  loss_rpn_loc: 0.082  time: 0.3691  data_time: 0.0003  lr: 0.000417  max_mem: 8391M\n",
      "\u001b[32m[04/06 21:15:59 d2.utils.events]: \u001b[0m eta: 0:44:05  iter: 20139  total_loss: 0.428  loss_cls: 0.079  loss_box_reg: 0.142  loss_mask: 0.146  loss_rpn_cls: 0.002  loss_rpn_loc: 0.049  time: 0.3691  data_time: 0.0003  lr: 0.000415  max_mem: 8391M\n",
      "\u001b[32m[04/06 21:16:07 d2.utils.events]: \u001b[0m eta: 0:44:00  iter: 20159  total_loss: 0.552  loss_cls: 0.097  loss_box_reg: 0.176  loss_mask: 0.164  loss_rpn_cls: 0.006  loss_rpn_loc: 0.071  time: 0.3691  data_time: 0.0003  lr: 0.000413  max_mem: 8391M\n",
      "\u001b[32m[04/06 21:16:14 d2.utils.events]: \u001b[0m eta: 0:43:50  iter: 20179  total_loss: 0.835  loss_cls: 0.168  loss_box_reg: 0.291  loss_mask: 0.240  loss_rpn_cls: 0.019  loss_rpn_loc: 0.116  time: 0.3691  data_time: 0.0003  lr: 0.000411  max_mem: 8391M\n",
      "\u001b[32m[04/06 21:16:21 d2.utils.events]: \u001b[0m eta: 0:43:46  iter: 20199  total_loss: 0.585  loss_cls: 0.098  loss_box_reg: 0.231  loss_mask: 0.192  loss_rpn_cls: 0.006  loss_rpn_loc: 0.098  time: 0.3691  data_time: 0.0003  lr: 0.000409  max_mem: 8391M\n",
      "\u001b[32m[04/06 21:16:28 d2.utils.events]: \u001b[0m eta: 0:43:36  iter: 20219  total_loss: 0.889  loss_cls: 0.186  loss_box_reg: 0.301  loss_mask: 0.245  loss_rpn_cls: 0.016  loss_rpn_loc: 0.123  time: 0.3691  data_time: 0.0003  lr: 0.000406  max_mem: 8391M\n",
      "\u001b[32m[04/06 21:16:36 d2.utils.events]: \u001b[0m eta: 0:43:33  iter: 20239  total_loss: 0.534  loss_cls: 0.091  loss_box_reg: 0.206  loss_mask: 0.176  loss_rpn_cls: 0.006  loss_rpn_loc: 0.069  time: 0.3691  data_time: 0.0003  lr: 0.000404  max_mem: 8391M\n",
      "\u001b[32m[04/06 21:16:44 d2.utils.events]: \u001b[0m eta: 0:43:26  iter: 20259  total_loss: 0.600  loss_cls: 0.124  loss_box_reg: 0.229  loss_mask: 0.185  loss_rpn_cls: 0.005  loss_rpn_loc: 0.080  time: 0.3691  data_time: 0.0003  lr: 0.000402  max_mem: 8391M\n",
      "\u001b[32m[04/06 21:16:51 d2.utils.events]: \u001b[0m eta: 0:43:20  iter: 20279  total_loss: 0.437  loss_cls: 0.066  loss_box_reg: 0.152  loss_mask: 0.152  loss_rpn_cls: 0.002  loss_rpn_loc: 0.052  time: 0.3691  data_time: 0.0002  lr: 0.000400  max_mem: 8391M\n",
      "\u001b[32m[04/06 21:16:59 d2.utils.events]: \u001b[0m eta: 0:43:14  iter: 20299  total_loss: 0.712  loss_cls: 0.151  loss_box_reg: 0.218  loss_mask: 0.223  loss_rpn_cls: 0.006  loss_rpn_loc: 0.081  time: 0.3691  data_time: 0.0003  lr: 0.000398  max_mem: 8391M\n",
      "\u001b[32m[04/06 21:17:06 d2.utils.events]: \u001b[0m eta: 0:43:06  iter: 20319  total_loss: 0.728  loss_cls: 0.159  loss_box_reg: 0.264  loss_mask: 0.214  loss_rpn_cls: 0.008  loss_rpn_loc: 0.090  time: 0.3691  data_time: 0.0003  lr: 0.000396  max_mem: 8391M\n",
      "\u001b[32m[04/06 21:17:13 d2.utils.events]: \u001b[0m eta: 0:42:58  iter: 20339  total_loss: 0.688  loss_cls: 0.094  loss_box_reg: 0.207  loss_mask: 0.196  loss_rpn_cls: 0.008  loss_rpn_loc: 0.062  time: 0.3691  data_time: 0.0002  lr: 0.000394  max_mem: 8391M\n",
      "\u001b[32m[04/06 21:17:20 d2.utils.events]: \u001b[0m eta: 0:42:51  iter: 20359  total_loss: 0.680  loss_cls: 0.116  loss_box_reg: 0.254  loss_mask: 0.211  loss_rpn_cls: 0.006  loss_rpn_loc: 0.081  time: 0.3691  data_time: 0.0003  lr: 0.000392  max_mem: 8391M\n",
      "\u001b[32m[04/06 21:17:27 d2.utils.events]: \u001b[0m eta: 0:42:40  iter: 20379  total_loss: 0.649  loss_cls: 0.116  loss_box_reg: 0.225  loss_mask: 0.207  loss_rpn_cls: 0.009  loss_rpn_loc: 0.102  time: 0.3691  data_time: 0.0003  lr: 0.000390  max_mem: 8391M\n",
      "\u001b[32m[04/06 21:17:35 d2.utils.events]: \u001b[0m eta: 0:42:35  iter: 20399  total_loss: 0.751  loss_cls: 0.151  loss_box_reg: 0.246  loss_mask: 0.216  loss_rpn_cls: 0.015  loss_rpn_loc: 0.114  time: 0.3691  data_time: 0.0003  lr: 0.000388  max_mem: 8391M\n",
      "\u001b[32m[04/06 21:17:42 d2.utils.events]: \u001b[0m eta: 0:42:24  iter: 20419  total_loss: 0.485  loss_cls: 0.082  loss_box_reg: 0.166  loss_mask: 0.168  loss_rpn_cls: 0.010  loss_rpn_loc: 0.060  time: 0.3690  data_time: 0.0003  lr: 0.000386  max_mem: 8391M\n",
      "\u001b[32m[04/06 21:17:49 d2.utils.events]: \u001b[0m eta: 0:42:19  iter: 20439  total_loss: 0.660  loss_cls: 0.090  loss_box_reg: 0.262  loss_mask: 0.239  loss_rpn_cls: 0.003  loss_rpn_loc: 0.059  time: 0.3690  data_time: 0.0003  lr: 0.000384  max_mem: 8391M\n",
      "\u001b[32m[04/06 21:17:56 d2.utils.events]: \u001b[0m eta: 0:42:10  iter: 20459  total_loss: 0.362  loss_cls: 0.054  loss_box_reg: 0.153  loss_mask: 0.140  loss_rpn_cls: 0.004  loss_rpn_loc: 0.035  time: 0.3690  data_time: 0.0002  lr: 0.000382  max_mem: 8391M\n"
     ]
    },
    {
     "name": "stdout",
     "output_type": "stream",
     "text": [
      "\u001b[32m[04/06 21:18:04 d2.utils.events]: \u001b[0m eta: 0:42:06  iter: 20479  total_loss: 0.665  loss_cls: 0.119  loss_box_reg: 0.236  loss_mask: 0.182  loss_rpn_cls: 0.010  loss_rpn_loc: 0.083  time: 0.3691  data_time: 0.0003  lr: 0.000379  max_mem: 8391M\n",
      "\u001b[32m[04/06 21:18:11 d2.utils.events]: \u001b[0m eta: 0:42:00  iter: 20499  total_loss: 0.772  loss_cls: 0.122  loss_box_reg: 0.274  loss_mask: 0.238  loss_rpn_cls: 0.006  loss_rpn_loc: 0.102  time: 0.3690  data_time: 0.0003  lr: 0.000377  max_mem: 8391M\n",
      "\u001b[32m[04/06 21:18:18 d2.utils.events]: \u001b[0m eta: 0:41:52  iter: 20519  total_loss: 0.526  loss_cls: 0.095  loss_box_reg: 0.205  loss_mask: 0.178  loss_rpn_cls: 0.003  loss_rpn_loc: 0.060  time: 0.3690  data_time: 0.0003  lr: 0.000375  max_mem: 8391M\n",
      "\u001b[32m[04/06 21:18:26 d2.utils.events]: \u001b[0m eta: 0:41:45  iter: 20539  total_loss: 0.545  loss_cls: 0.085  loss_box_reg: 0.190  loss_mask: 0.208  loss_rpn_cls: 0.003  loss_rpn_loc: 0.049  time: 0.3690  data_time: 0.0003  lr: 0.000373  max_mem: 8391M\n",
      "\u001b[32m[04/06 21:18:33 d2.utils.events]: \u001b[0m eta: 0:41:36  iter: 20559  total_loss: 0.679  loss_cls: 0.123  loss_box_reg: 0.230  loss_mask: 0.221  loss_rpn_cls: 0.010  loss_rpn_loc: 0.079  time: 0.3690  data_time: 0.0003  lr: 0.000371  max_mem: 8391M\n",
      "\u001b[32m[04/06 21:18:41 d2.utils.events]: \u001b[0m eta: 0:41:30  iter: 20579  total_loss: 0.590  loss_cls: 0.092  loss_box_reg: 0.218  loss_mask: 0.191  loss_rpn_cls: 0.005  loss_rpn_loc: 0.048  time: 0.3690  data_time: 0.0003  lr: 0.000369  max_mem: 8391M\n",
      "\u001b[32m[04/06 21:18:48 d2.utils.events]: \u001b[0m eta: 0:41:24  iter: 20599  total_loss: 0.856  loss_cls: 0.153  loss_box_reg: 0.322  loss_mask: 0.248  loss_rpn_cls: 0.012  loss_rpn_loc: 0.095  time: 0.3690  data_time: 0.0003  lr: 0.000367  max_mem: 8391M\n",
      "\u001b[32m[04/06 21:18:55 d2.utils.events]: \u001b[0m eta: 0:41:17  iter: 20619  total_loss: 0.541  loss_cls: 0.092  loss_box_reg: 0.179  loss_mask: 0.165  loss_rpn_cls: 0.005  loss_rpn_loc: 0.079  time: 0.3690  data_time: 0.0003  lr: 0.000365  max_mem: 8391M\n",
      "\u001b[32m[04/06 21:19:03 d2.utils.events]: \u001b[0m eta: 0:41:11  iter: 20639  total_loss: 0.486  loss_cls: 0.093  loss_box_reg: 0.198  loss_mask: 0.182  loss_rpn_cls: 0.004  loss_rpn_loc: 0.067  time: 0.3690  data_time: 0.0002  lr: 0.000363  max_mem: 8391M\n",
      "\u001b[32m[04/06 21:19:10 d2.utils.events]: \u001b[0m eta: 0:41:06  iter: 20659  total_loss: 0.603  loss_cls: 0.103  loss_box_reg: 0.240  loss_mask: 0.188  loss_rpn_cls: 0.006  loss_rpn_loc: 0.052  time: 0.3690  data_time: 0.0003  lr: 0.000361  max_mem: 8391M\n",
      "\u001b[32m[04/06 21:19:17 d2.utils.events]: \u001b[0m eta: 0:40:58  iter: 20679  total_loss: 0.593  loss_cls: 0.098  loss_box_reg: 0.202  loss_mask: 0.182  loss_rpn_cls: 0.005  loss_rpn_loc: 0.075  time: 0.3690  data_time: 0.0003  lr: 0.000359  max_mem: 8391M\n",
      "\u001b[32m[04/06 21:19:25 d2.utils.events]: \u001b[0m eta: 0:40:51  iter: 20699  total_loss: 0.489  loss_cls: 0.088  loss_box_reg: 0.194  loss_mask: 0.152  loss_rpn_cls: 0.003  loss_rpn_loc: 0.055  time: 0.3690  data_time: 0.0002  lr: 0.000357  max_mem: 8391M\n",
      "\u001b[32m[04/06 21:19:32 d2.utils.events]: \u001b[0m eta: 0:40:44  iter: 20719  total_loss: 0.625  loss_cls: 0.105  loss_box_reg: 0.185  loss_mask: 0.210  loss_rpn_cls: 0.012  loss_rpn_loc: 0.102  time: 0.3690  data_time: 0.0003  lr: 0.000355  max_mem: 8391M\n",
      "\u001b[32m[04/06 21:19:39 d2.utils.events]: \u001b[0m eta: 0:40:36  iter: 20739  total_loss: 0.646  loss_cls: 0.098  loss_box_reg: 0.207  loss_mask: 0.218  loss_rpn_cls: 0.008  loss_rpn_loc: 0.077  time: 0.3690  data_time: 0.0002  lr: 0.000353  max_mem: 8391M\n",
      "\u001b[32m[04/06 21:19:47 d2.utils.events]: \u001b[0m eta: 0:40:28  iter: 20759  total_loss: 0.669  loss_cls: 0.100  loss_box_reg: 0.236  loss_mask: 0.210  loss_rpn_cls: 0.008  loss_rpn_loc: 0.072  time: 0.3690  data_time: 0.0003  lr: 0.000351  max_mem: 8391M\n",
      "\u001b[32m[04/06 21:19:54 d2.utils.events]: \u001b[0m eta: 0:40:21  iter: 20779  total_loss: 0.736  loss_cls: 0.142  loss_box_reg: 0.283  loss_mask: 0.232  loss_rpn_cls: 0.011  loss_rpn_loc: 0.093  time: 0.3690  data_time: 0.0003  lr: 0.000349  max_mem: 8391M\n",
      "\u001b[32m[04/06 21:20:01 d2.utils.events]: \u001b[0m eta: 0:40:15  iter: 20799  total_loss: 0.739  loss_cls: 0.121  loss_box_reg: 0.263  loss_mask: 0.209  loss_rpn_cls: 0.005  loss_rpn_loc: 0.058  time: 0.3690  data_time: 0.0003  lr: 0.000347  max_mem: 8391M\n",
      "\u001b[32m[04/06 21:20:09 d2.utils.events]: \u001b[0m eta: 0:40:06  iter: 20819  total_loss: 0.476  loss_cls: 0.065  loss_box_reg: 0.171  loss_mask: 0.172  loss_rpn_cls: 0.002  loss_rpn_loc: 0.035  time: 0.3690  data_time: 0.0003  lr: 0.000345  max_mem: 8391M\n",
      "\u001b[32m[04/06 21:20:16 d2.utils.events]: \u001b[0m eta: 0:40:01  iter: 20839  total_loss: 0.675  loss_cls: 0.136  loss_box_reg: 0.228  loss_mask: 0.195  loss_rpn_cls: 0.005  loss_rpn_loc: 0.077  time: 0.3690  data_time: 0.0003  lr: 0.000343  max_mem: 8391M\n",
      "\u001b[32m[04/06 21:20:23 d2.utils.events]: \u001b[0m eta: 0:39:53  iter: 20859  total_loss: 0.522  loss_cls: 0.078  loss_box_reg: 0.192  loss_mask: 0.192  loss_rpn_cls: 0.003  loss_rpn_loc: 0.070  time: 0.3690  data_time: 0.0003  lr: 0.000341  max_mem: 8391M\n",
      "\u001b[32m[04/06 21:20:31 d2.utils.events]: \u001b[0m eta: 0:39:46  iter: 20879  total_loss: 0.555  loss_cls: 0.105  loss_box_reg: 0.217  loss_mask: 0.197  loss_rpn_cls: 0.004  loss_rpn_loc: 0.069  time: 0.3690  data_time: 0.0003  lr: 0.000339  max_mem: 8391M\n",
      "\u001b[32m[04/06 21:20:38 d2.utils.events]: \u001b[0m eta: 0:39:41  iter: 20899  total_loss: 0.496  loss_cls: 0.076  loss_box_reg: 0.192  loss_mask: 0.148  loss_rpn_cls: 0.004  loss_rpn_loc: 0.052  time: 0.3690  data_time: 0.0003  lr: 0.000337  max_mem: 8391M\n",
      "\u001b[32m[04/06 21:20:46 d2.utils.events]: \u001b[0m eta: 0:39:37  iter: 20919  total_loss: 0.722  loss_cls: 0.138  loss_box_reg: 0.239  loss_mask: 0.216  loss_rpn_cls: 0.013  loss_rpn_loc: 0.094  time: 0.3690  data_time: 0.0003  lr: 0.000335  max_mem: 8391M\n",
      "\u001b[32m[04/06 21:20:53 d2.utils.events]: \u001b[0m eta: 0:39:29  iter: 20939  total_loss: 0.716  loss_cls: 0.105  loss_box_reg: 0.203  loss_mask: 0.206  loss_rpn_cls: 0.012  loss_rpn_loc: 0.081  time: 0.3690  data_time: 0.0003  lr: 0.000334  max_mem: 8391M\n",
      "\u001b[32m[04/06 21:21:00 d2.utils.events]: \u001b[0m eta: 0:39:23  iter: 20959  total_loss: 0.648  loss_cls: 0.126  loss_box_reg: 0.198  loss_mask: 0.196  loss_rpn_cls: 0.007  loss_rpn_loc: 0.078  time: 0.3690  data_time: 0.0003  lr: 0.000332  max_mem: 8391M\n",
      "\u001b[32m[04/06 21:21:08 d2.utils.events]: \u001b[0m eta: 0:39:12  iter: 20979  total_loss: 0.861  loss_cls: 0.172  loss_box_reg: 0.279  loss_mask: 0.222  loss_rpn_cls: 0.009  loss_rpn_loc: 0.109  time: 0.3690  data_time: 0.0003  lr: 0.000330  max_mem: 8391M\n",
      "\u001b[32m[04/06 21:21:15 d2.utils.events]: \u001b[0m eta: 0:39:04  iter: 20999  total_loss: 0.718  loss_cls: 0.101  loss_box_reg: 0.249  loss_mask: 0.212  loss_rpn_cls: 0.015  loss_rpn_loc: 0.079  time: 0.3690  data_time: 0.0003  lr: 0.000328  max_mem: 8391M\n",
      "\u001b[32m[04/06 21:21:22 d2.utils.events]: \u001b[0m eta: 0:38:59  iter: 21019  total_loss: 0.605  loss_cls: 0.099  loss_box_reg: 0.235  loss_mask: 0.204  loss_rpn_cls: 0.006  loss_rpn_loc: 0.064  time: 0.3690  data_time: 0.0002  lr: 0.000326  max_mem: 8391M\n",
      "\u001b[32m[04/06 21:21:30 d2.utils.events]: \u001b[0m eta: 0:38:53  iter: 21039  total_loss: 0.759  loss_cls: 0.129  loss_box_reg: 0.285  loss_mask: 0.236  loss_rpn_cls: 0.008  loss_rpn_loc: 0.098  time: 0.3690  data_time: 0.0003  lr: 0.000324  max_mem: 8391M\n",
      "\u001b[32m[04/06 21:21:37 d2.utils.events]: \u001b[0m eta: 0:38:49  iter: 21059  total_loss: 0.601  loss_cls: 0.107  loss_box_reg: 0.231  loss_mask: 0.196  loss_rpn_cls: 0.007  loss_rpn_loc: 0.058  time: 0.3690  data_time: 0.0003  lr: 0.000322  max_mem: 8391M\n",
      "\u001b[32m[04/06 21:21:45 d2.utils.events]: \u001b[0m eta: 0:38:43  iter: 21079  total_loss: 0.645  loss_cls: 0.099  loss_box_reg: 0.218  loss_mask: 0.201  loss_rpn_cls: 0.012  loss_rpn_loc: 0.053  time: 0.3690  data_time: 0.0002  lr: 0.000320  max_mem: 8391M\n",
      "\u001b[32m[04/06 21:21:52 d2.utils.events]: \u001b[0m eta: 0:38:37  iter: 21099  total_loss: 0.594  loss_cls: 0.090  loss_box_reg: 0.183  loss_mask: 0.194  loss_rpn_cls: 0.011  loss_rpn_loc: 0.074  time: 0.3690  data_time: 0.0002  lr: 0.000318  max_mem: 8391M\n",
      "\u001b[32m[04/06 21:21:59 d2.utils.events]: \u001b[0m eta: 0:38:30  iter: 21119  total_loss: 0.566  loss_cls: 0.113  loss_box_reg: 0.199  loss_mask: 0.202  loss_rpn_cls: 0.007  loss_rpn_loc: 0.068  time: 0.3690  data_time: 0.0003  lr: 0.000316  max_mem: 8391M\n"
     ]
    },
    {
     "name": "stdout",
     "output_type": "stream",
     "text": [
      "\u001b[32m[04/06 21:22:07 d2.utils.events]: \u001b[0m eta: 0:38:23  iter: 21139  total_loss: 0.688  loss_cls: 0.128  loss_box_reg: 0.223  loss_mask: 0.179  loss_rpn_cls: 0.010  loss_rpn_loc: 0.096  time: 0.3690  data_time: 0.0003  lr: 0.000314  max_mem: 8391M\n",
      "\u001b[32m[04/06 21:22:14 d2.utils.events]: \u001b[0m eta: 0:38:14  iter: 21159  total_loss: 0.807  loss_cls: 0.113  loss_box_reg: 0.287  loss_mask: 0.232  loss_rpn_cls: 0.016  loss_rpn_loc: 0.089  time: 0.3690  data_time: 0.0003  lr: 0.000312  max_mem: 8391M\n",
      "\u001b[32m[04/06 21:22:21 d2.utils.events]: \u001b[0m eta: 0:38:08  iter: 21179  total_loss: 0.758  loss_cls: 0.118  loss_box_reg: 0.249  loss_mask: 0.211  loss_rpn_cls: 0.008  loss_rpn_loc: 0.104  time: 0.3690  data_time: 0.0003  lr: 0.000311  max_mem: 8391M\n",
      "\u001b[32m[04/06 21:22:29 d2.utils.events]: \u001b[0m eta: 0:38:01  iter: 21199  total_loss: 0.760  loss_cls: 0.136  loss_box_reg: 0.262  loss_mask: 0.231  loss_rpn_cls: 0.017  loss_rpn_loc: 0.100  time: 0.3690  data_time: 0.0003  lr: 0.000309  max_mem: 8391M\n",
      "\u001b[32m[04/06 21:22:36 d2.utils.events]: \u001b[0m eta: 0:37:54  iter: 21219  total_loss: 0.720  loss_cls: 0.110  loss_box_reg: 0.263  loss_mask: 0.214  loss_rpn_cls: 0.014  loss_rpn_loc: 0.097  time: 0.3690  data_time: 0.0003  lr: 0.000307  max_mem: 8391M\n",
      "\u001b[32m[04/06 21:22:44 d2.utils.events]: \u001b[0m eta: 0:37:47  iter: 21239  total_loss: 0.455  loss_cls: 0.073  loss_box_reg: 0.170  loss_mask: 0.155  loss_rpn_cls: 0.004  loss_rpn_loc: 0.057  time: 0.3690  data_time: 0.0003  lr: 0.000305  max_mem: 8391M\n",
      "\u001b[32m[04/06 21:22:51 d2.utils.events]: \u001b[0m eta: 0:37:40  iter: 21259  total_loss: 0.605  loss_cls: 0.123  loss_box_reg: 0.226  loss_mask: 0.192  loss_rpn_cls: 0.012  loss_rpn_loc: 0.069  time: 0.3690  data_time: 0.0003  lr: 0.000303  max_mem: 8391M\n",
      "\u001b[32m[04/06 21:22:59 d2.utils.events]: \u001b[0m eta: 0:37:34  iter: 21279  total_loss: 0.484  loss_cls: 0.087  loss_box_reg: 0.169  loss_mask: 0.146  loss_rpn_cls: 0.003  loss_rpn_loc: 0.056  time: 0.3690  data_time: 0.0002  lr: 0.000301  max_mem: 8391M\n",
      "\u001b[32m[04/06 21:23:07 d2.utils.events]: \u001b[0m eta: 0:37:27  iter: 21299  total_loss: 0.529  loss_cls: 0.088  loss_box_reg: 0.209  loss_mask: 0.202  loss_rpn_cls: 0.003  loss_rpn_loc: 0.050  time: 0.3690  data_time: 0.0002  lr: 0.000299  max_mem: 8391M\n",
      "\u001b[32m[04/06 21:23:14 d2.utils.events]: \u001b[0m eta: 0:37:21  iter: 21319  total_loss: 0.698  loss_cls: 0.111  loss_box_reg: 0.238  loss_mask: 0.219  loss_rpn_cls: 0.004  loss_rpn_loc: 0.099  time: 0.3690  data_time: 0.0003  lr: 0.000297  max_mem: 8391M\n",
      "\u001b[32m[04/06 21:23:22 d2.utils.events]: \u001b[0m eta: 0:37:16  iter: 21339  total_loss: 0.513  loss_cls: 0.104  loss_box_reg: 0.172  loss_mask: 0.207  loss_rpn_cls: 0.003  loss_rpn_loc: 0.046  time: 0.3690  data_time: 0.0002  lr: 0.000296  max_mem: 8391M\n",
      "\u001b[32m[04/06 21:23:29 d2.utils.events]: \u001b[0m eta: 0:37:08  iter: 21359  total_loss: 0.489  loss_cls: 0.090  loss_box_reg: 0.189  loss_mask: 0.185  loss_rpn_cls: 0.003  loss_rpn_loc: 0.051  time: 0.3690  data_time: 0.0002  lr: 0.000294  max_mem: 8391M\n",
      "\u001b[32m[04/06 21:23:36 d2.utils.events]: \u001b[0m eta: 0:37:01  iter: 21379  total_loss: 0.451  loss_cls: 0.072  loss_box_reg: 0.157  loss_mask: 0.154  loss_rpn_cls: 0.003  loss_rpn_loc: 0.054  time: 0.3690  data_time: 0.0002  lr: 0.000292  max_mem: 8391M\n",
      "\u001b[32m[04/06 21:23:44 d2.utils.events]: \u001b[0m eta: 0:36:54  iter: 21399  total_loss: 0.562  loss_cls: 0.106  loss_box_reg: 0.184  loss_mask: 0.186  loss_rpn_cls: 0.004  loss_rpn_loc: 0.081  time: 0.3690  data_time: 0.0002  lr: 0.000290  max_mem: 8391M\n",
      "\u001b[32m[04/06 21:23:51 d2.utils.events]: \u001b[0m eta: 0:36:48  iter: 21419  total_loss: 0.686  loss_cls: 0.116  loss_box_reg: 0.263  loss_mask: 0.221  loss_rpn_cls: 0.009  loss_rpn_loc: 0.108  time: 0.3690  data_time: 0.0003  lr: 0.000288  max_mem: 8391M\n",
      "\u001b[32m[04/06 21:23:58 d2.utils.events]: \u001b[0m eta: 0:36:40  iter: 21439  total_loss: 0.518  loss_cls: 0.091  loss_box_reg: 0.197  loss_mask: 0.195  loss_rpn_cls: 0.004  loss_rpn_loc: 0.067  time: 0.3690  data_time: 0.0003  lr: 0.000286  max_mem: 8391M\n",
      "\u001b[32m[04/06 21:24:06 d2.utils.events]: \u001b[0m eta: 0:36:33  iter: 21459  total_loss: 0.905  loss_cls: 0.155  loss_box_reg: 0.267  loss_mask: 0.243  loss_rpn_cls: 0.021  loss_rpn_loc: 0.109  time: 0.3690  data_time: 0.0003  lr: 0.000285  max_mem: 8391M\n",
      "\u001b[32m[04/06 21:24:14 d2.utils.events]: \u001b[0m eta: 0:36:25  iter: 21479  total_loss: 0.720  loss_cls: 0.132  loss_box_reg: 0.278  loss_mask: 0.226  loss_rpn_cls: 0.021  loss_rpn_loc: 0.079  time: 0.3690  data_time: 0.0003  lr: 0.000283  max_mem: 8391M\n",
      "\u001b[32m[04/06 21:24:21 d2.utils.events]: \u001b[0m eta: 0:36:18  iter: 21499  total_loss: 0.691  loss_cls: 0.143  loss_box_reg: 0.253  loss_mask: 0.213  loss_rpn_cls: 0.011  loss_rpn_loc: 0.101  time: 0.3690  data_time: 0.0003  lr: 0.000281  max_mem: 8391M\n",
      "\u001b[32m[04/06 21:24:28 d2.utils.events]: \u001b[0m eta: 0:36:11  iter: 21519  total_loss: 0.671  loss_cls: 0.092  loss_box_reg: 0.235  loss_mask: 0.225  loss_rpn_cls: 0.005  loss_rpn_loc: 0.076  time: 0.3690  data_time: 0.0002  lr: 0.000279  max_mem: 8391M\n",
      "\u001b[32m[04/06 21:24:36 d2.utils.events]: \u001b[0m eta: 0:36:05  iter: 21539  total_loss: 0.610  loss_cls: 0.120  loss_box_reg: 0.227  loss_mask: 0.193  loss_rpn_cls: 0.010  loss_rpn_loc: 0.085  time: 0.3690  data_time: 0.0003  lr: 0.000277  max_mem: 8391M\n",
      "\u001b[32m[04/06 21:24:43 d2.utils.events]: \u001b[0m eta: 0:35:58  iter: 21559  total_loss: 0.773  loss_cls: 0.156  loss_box_reg: 0.266  loss_mask: 0.212  loss_rpn_cls: 0.015  loss_rpn_loc: 0.088  time: 0.3690  data_time: 0.0003  lr: 0.000276  max_mem: 8391M\n",
      "\u001b[32m[04/06 21:24:50 d2.utils.events]: \u001b[0m eta: 0:35:51  iter: 21579  total_loss: 0.493  loss_cls: 0.100  loss_box_reg: 0.166  loss_mask: 0.143  loss_rpn_cls: 0.009  loss_rpn_loc: 0.061  time: 0.3690  data_time: 0.0003  lr: 0.000274  max_mem: 8391M\n",
      "\u001b[32m[04/06 21:24:57 d2.utils.events]: \u001b[0m eta: 0:35:42  iter: 21599  total_loss: 0.482  loss_cls: 0.083  loss_box_reg: 0.159  loss_mask: 0.158  loss_rpn_cls: 0.003  loss_rpn_loc: 0.062  time: 0.3690  data_time: 0.0003  lr: 0.000272  max_mem: 8391M\n",
      "\u001b[32m[04/06 21:25:05 d2.utils.events]: \u001b[0m eta: 0:35:36  iter: 21619  total_loss: 0.609  loss_cls: 0.107  loss_box_reg: 0.222  loss_mask: 0.179  loss_rpn_cls: 0.005  loss_rpn_loc: 0.078  time: 0.3690  data_time: 0.0003  lr: 0.000270  max_mem: 8391M\n",
      "\u001b[32m[04/06 21:25:13 d2.utils.events]: \u001b[0m eta: 0:35:28  iter: 21639  total_loss: 0.526  loss_cls: 0.087  loss_box_reg: 0.178  loss_mask: 0.181  loss_rpn_cls: 0.007  loss_rpn_loc: 0.067  time: 0.3690  data_time: 0.0003  lr: 0.000268  max_mem: 8391M\n",
      "\u001b[32m[04/06 21:25:20 d2.utils.events]: \u001b[0m eta: 0:35:22  iter: 21659  total_loss: 0.486  loss_cls: 0.086  loss_box_reg: 0.178  loss_mask: 0.157  loss_rpn_cls: 0.008  loss_rpn_loc: 0.060  time: 0.3690  data_time: 0.0002  lr: 0.000267  max_mem: 8391M\n",
      "\u001b[32m[04/06 21:25:28 d2.utils.events]: \u001b[0m eta: 0:35:17  iter: 21679  total_loss: 0.747  loss_cls: 0.149  loss_box_reg: 0.262  loss_mask: 0.215  loss_rpn_cls: 0.015  loss_rpn_loc: 0.087  time: 0.3690  data_time: 0.0003  lr: 0.000265  max_mem: 8391M\n",
      "\u001b[32m[04/06 21:25:35 d2.utils.events]: \u001b[0m eta: 0:35:09  iter: 21699  total_loss: 0.760  loss_cls: 0.114  loss_box_reg: 0.255  loss_mask: 0.234  loss_rpn_cls: 0.007  loss_rpn_loc: 0.089  time: 0.3690  data_time: 0.0002  lr: 0.000263  max_mem: 8391M\n",
      "\u001b[32m[04/06 21:25:42 d2.utils.events]: \u001b[0m eta: 0:35:02  iter: 21719  total_loss: 0.568  loss_cls: 0.105  loss_box_reg: 0.203  loss_mask: 0.194  loss_rpn_cls: 0.004  loss_rpn_loc: 0.076  time: 0.3690  data_time: 0.0002  lr: 0.000261  max_mem: 8391M\n",
      "\u001b[32m[04/06 21:25:49 d2.utils.events]: \u001b[0m eta: 0:34:55  iter: 21739  total_loss: 0.627  loss_cls: 0.100  loss_box_reg: 0.253  loss_mask: 0.196  loss_rpn_cls: 0.004  loss_rpn_loc: 0.046  time: 0.3690  data_time: 0.0003  lr: 0.000260  max_mem: 8391M\n",
      "\u001b[32m[04/06 21:25:57 d2.utils.events]: \u001b[0m eta: 0:34:48  iter: 21759  total_loss: 0.675  loss_cls: 0.109  loss_box_reg: 0.252  loss_mask: 0.225  loss_rpn_cls: 0.008  loss_rpn_loc: 0.078  time: 0.3690  data_time: 0.0003  lr: 0.000258  max_mem: 8391M\n",
      "\u001b[32m[04/06 21:26:04 d2.utils.events]: \u001b[0m eta: 0:34:42  iter: 21779  total_loss: 0.426  loss_cls: 0.069  loss_box_reg: 0.159  loss_mask: 0.150  loss_rpn_cls: 0.004  loss_rpn_loc: 0.041  time: 0.3690  data_time: 0.0002  lr: 0.000256  max_mem: 8391M\n"
     ]
    },
    {
     "name": "stdout",
     "output_type": "stream",
     "text": [
      "\u001b[32m[04/06 21:26:11 d2.utils.events]: \u001b[0m eta: 0:34:31  iter: 21799  total_loss: 0.652  loss_cls: 0.115  loss_box_reg: 0.241  loss_mask: 0.205  loss_rpn_cls: 0.008  loss_rpn_loc: 0.086  time: 0.3690  data_time: 0.0002  lr: 0.000254  max_mem: 8391M\n",
      "\u001b[32m[04/06 21:26:18 d2.utils.events]: \u001b[0m eta: 0:34:25  iter: 21819  total_loss: 0.729  loss_cls: 0.148  loss_box_reg: 0.251  loss_mask: 0.208  loss_rpn_cls: 0.006  loss_rpn_loc: 0.093  time: 0.3690  data_time: 0.0003  lr: 0.000253  max_mem: 8391M\n",
      "\u001b[32m[04/06 21:26:26 d2.utils.events]: \u001b[0m eta: 0:34:17  iter: 21839  total_loss: 0.544  loss_cls: 0.091  loss_box_reg: 0.183  loss_mask: 0.153  loss_rpn_cls: 0.012  loss_rpn_loc: 0.077  time: 0.3690  data_time: 0.0003  lr: 0.000251  max_mem: 8391M\n",
      "\u001b[32m[04/06 21:26:33 d2.utils.events]: \u001b[0m eta: 0:34:10  iter: 21859  total_loss: 0.684  loss_cls: 0.135  loss_box_reg: 0.231  loss_mask: 0.212  loss_rpn_cls: 0.008  loss_rpn_loc: 0.087  time: 0.3690  data_time: 0.0003  lr: 0.000249  max_mem: 8391M\n",
      "\u001b[32m[04/06 21:26:41 d2.utils.events]: \u001b[0m eta: 0:34:03  iter: 21879  total_loss: 0.633  loss_cls: 0.107  loss_box_reg: 0.228  loss_mask: 0.204  loss_rpn_cls: 0.004  loss_rpn_loc: 0.076  time: 0.3690  data_time: 0.0002  lr: 0.000248  max_mem: 8391M\n",
      "\u001b[32m[04/06 21:26:48 d2.utils.events]: \u001b[0m eta: 0:33:54  iter: 21899  total_loss: 0.801  loss_cls: 0.156  loss_box_reg: 0.297  loss_mask: 0.256  loss_rpn_cls: 0.010  loss_rpn_loc: 0.083  time: 0.3690  data_time: 0.0003  lr: 0.000246  max_mem: 8391M\n",
      "\u001b[32m[04/06 21:26:55 d2.utils.events]: \u001b[0m eta: 0:33:48  iter: 21919  total_loss: 0.570  loss_cls: 0.086  loss_box_reg: 0.194  loss_mask: 0.180  loss_rpn_cls: 0.009  loss_rpn_loc: 0.074  time: 0.3690  data_time: 0.0002  lr: 0.000244  max_mem: 8391M\n",
      "\u001b[32m[04/06 21:27:03 d2.utils.events]: \u001b[0m eta: 0:33:42  iter: 21939  total_loss: 0.400  loss_cls: 0.058  loss_box_reg: 0.158  loss_mask: 0.141  loss_rpn_cls: 0.001  loss_rpn_loc: 0.028  time: 0.3690  data_time: 0.0003  lr: 0.000243  max_mem: 8391M\n",
      "\u001b[32m[04/06 21:27:10 d2.utils.events]: \u001b[0m eta: 0:33:37  iter: 21959  total_loss: 0.702  loss_cls: 0.107  loss_box_reg: 0.229  loss_mask: 0.229  loss_rpn_cls: 0.012  loss_rpn_loc: 0.097  time: 0.3690  data_time: 0.0003  lr: 0.000241  max_mem: 8391M\n",
      "\u001b[32m[04/06 21:27:18 d2.utils.events]: \u001b[0m eta: 0:33:30  iter: 21979  total_loss: 0.712  loss_cls: 0.125  loss_box_reg: 0.255  loss_mask: 0.240  loss_rpn_cls: 0.005  loss_rpn_loc: 0.064  time: 0.3690  data_time: 0.0002  lr: 0.000239  max_mem: 8391M\n",
      "\u001b[32m[04/06 21:27:25 d2.utils.events]: \u001b[0m eta: 0:33:22  iter: 21999  total_loss: 0.521  loss_cls: 0.072  loss_box_reg: 0.187  loss_mask: 0.181  loss_rpn_cls: 0.008  loss_rpn_loc: 0.071  time: 0.3690  data_time: 0.0002  lr: 0.000237  max_mem: 8391M\n",
      "\u001b[32m[04/06 21:27:33 d2.utils.events]: \u001b[0m eta: 0:33:16  iter: 22019  total_loss: 0.577  loss_cls: 0.102  loss_box_reg: 0.198  loss_mask: 0.172  loss_rpn_cls: 0.004  loss_rpn_loc: 0.067  time: 0.3690  data_time: 0.0002  lr: 0.000236  max_mem: 8391M\n",
      "\u001b[32m[04/06 21:27:40 d2.utils.events]: \u001b[0m eta: 0:33:07  iter: 22039  total_loss: 0.765  loss_cls: 0.115  loss_box_reg: 0.262  loss_mask: 0.214  loss_rpn_cls: 0.006  loss_rpn_loc: 0.105  time: 0.3690  data_time: 0.0003  lr: 0.000234  max_mem: 8391M\n",
      "\u001b[32m[04/06 21:27:47 d2.utils.events]: \u001b[0m eta: 0:32:57  iter: 22059  total_loss: 0.487  loss_cls: 0.083  loss_box_reg: 0.178  loss_mask: 0.177  loss_rpn_cls: 0.012  loss_rpn_loc: 0.065  time: 0.3690  data_time: 0.0003  lr: 0.000232  max_mem: 8391M\n",
      "\u001b[32m[04/06 21:27:54 d2.utils.events]: \u001b[0m eta: 0:32:51  iter: 22079  total_loss: 0.454  loss_cls: 0.080  loss_box_reg: 0.172  loss_mask: 0.169  loss_rpn_cls: 0.001  loss_rpn_loc: 0.033  time: 0.3690  data_time: 0.0002  lr: 0.000231  max_mem: 8391M\n",
      "\u001b[32m[04/06 21:28:02 d2.utils.events]: \u001b[0m eta: 0:32:44  iter: 22099  total_loss: 0.784  loss_cls: 0.155  loss_box_reg: 0.276  loss_mask: 0.249  loss_rpn_cls: 0.011  loss_rpn_loc: 0.105  time: 0.3690  data_time: 0.0003  lr: 0.000229  max_mem: 8391M\n",
      "\u001b[32m[04/06 21:28:09 d2.utils.events]: \u001b[0m eta: 0:32:36  iter: 22119  total_loss: 0.648  loss_cls: 0.100  loss_box_reg: 0.246  loss_mask: 0.211  loss_rpn_cls: 0.013  loss_rpn_loc: 0.106  time: 0.3690  data_time: 0.0003  lr: 0.000228  max_mem: 8391M\n",
      "\u001b[32m[04/06 21:28:16 d2.utils.events]: \u001b[0m eta: 0:32:28  iter: 22139  total_loss: 0.630  loss_cls: 0.107  loss_box_reg: 0.231  loss_mask: 0.198  loss_rpn_cls: 0.005  loss_rpn_loc: 0.085  time: 0.3690  data_time: 0.0003  lr: 0.000226  max_mem: 8391M\n",
      "\u001b[32m[04/06 21:28:24 d2.utils.events]: \u001b[0m eta: 0:32:21  iter: 22159  total_loss: 0.657  loss_cls: 0.111  loss_box_reg: 0.256  loss_mask: 0.200  loss_rpn_cls: 0.009  loss_rpn_loc: 0.088  time: 0.3690  data_time: 0.0003  lr: 0.000224  max_mem: 8391M\n",
      "\u001b[32m[04/06 21:28:31 d2.utils.events]: \u001b[0m eta: 0:32:13  iter: 22179  total_loss: 0.642  loss_cls: 0.113  loss_box_reg: 0.241  loss_mask: 0.222  loss_rpn_cls: 0.006  loss_rpn_loc: 0.069  time: 0.3690  data_time: 0.0003  lr: 0.000223  max_mem: 8391M\n",
      "\u001b[32m[04/06 21:28:39 d2.utils.events]: \u001b[0m eta: 0:32:05  iter: 22199  total_loss: 0.612  loss_cls: 0.104  loss_box_reg: 0.180  loss_mask: 0.182  loss_rpn_cls: 0.009  loss_rpn_loc: 0.090  time: 0.3690  data_time: 0.0003  lr: 0.000221  max_mem: 8391M\n",
      "\u001b[32m[04/06 21:28:46 d2.utils.events]: \u001b[0m eta: 0:31:58  iter: 22219  total_loss: 0.531  loss_cls: 0.094  loss_box_reg: 0.197  loss_mask: 0.163  loss_rpn_cls: 0.004  loss_rpn_loc: 0.062  time: 0.3690  data_time: 0.0002  lr: 0.000219  max_mem: 8391M\n",
      "\u001b[32m[04/06 21:28:53 d2.utils.events]: \u001b[0m eta: 0:31:48  iter: 22239  total_loss: 0.739  loss_cls: 0.121  loss_box_reg: 0.261  loss_mask: 0.229  loss_rpn_cls: 0.011  loss_rpn_loc: 0.066  time: 0.3690  data_time: 0.0003  lr: 0.000218  max_mem: 8391M\n",
      "\u001b[32m[04/06 21:29:01 d2.utils.events]: \u001b[0m eta: 0:31:38  iter: 22259  total_loss: 0.557  loss_cls: 0.121  loss_box_reg: 0.206  loss_mask: 0.168  loss_rpn_cls: 0.008  loss_rpn_loc: 0.069  time: 0.3690  data_time: 0.0003  lr: 0.000216  max_mem: 8391M\n",
      "\u001b[32m[04/06 21:29:08 d2.utils.events]: \u001b[0m eta: 0:31:30  iter: 22279  total_loss: 0.427  loss_cls: 0.067  loss_box_reg: 0.196  loss_mask: 0.171  loss_rpn_cls: 0.011  loss_rpn_loc: 0.047  time: 0.3690  data_time: 0.0003  lr: 0.000215  max_mem: 8391M\n",
      "\u001b[32m[04/06 21:29:16 d2.utils.events]: \u001b[0m eta: 0:31:24  iter: 22299  total_loss: 0.714  loss_cls: 0.093  loss_box_reg: 0.219  loss_mask: 0.204  loss_rpn_cls: 0.016  loss_rpn_loc: 0.098  time: 0.3690  data_time: 0.0003  lr: 0.000213  max_mem: 8391M\n",
      "\u001b[32m[04/06 21:29:23 d2.utils.events]: \u001b[0m eta: 0:31:15  iter: 22319  total_loss: 0.681  loss_cls: 0.117  loss_box_reg: 0.244  loss_mask: 0.205  loss_rpn_cls: 0.008  loss_rpn_loc: 0.079  time: 0.3690  data_time: 0.0003  lr: 0.000211  max_mem: 8391M\n",
      "\u001b[32m[04/06 21:29:30 d2.utils.events]: \u001b[0m eta: 0:31:06  iter: 22339  total_loss: 0.567  loss_cls: 0.084  loss_box_reg: 0.216  loss_mask: 0.230  loss_rpn_cls: 0.004  loss_rpn_loc: 0.054  time: 0.3690  data_time: 0.0003  lr: 0.000210  max_mem: 8391M\n",
      "\u001b[32m[04/06 21:29:38 d2.utils.events]: \u001b[0m eta: 0:30:59  iter: 22359  total_loss: 0.585  loss_cls: 0.101  loss_box_reg: 0.214  loss_mask: 0.191  loss_rpn_cls: 0.009  loss_rpn_loc: 0.068  time: 0.3690  data_time: 0.0003  lr: 0.000208  max_mem: 8391M\n",
      "\u001b[32m[04/06 21:29:45 d2.utils.events]: \u001b[0m eta: 0:30:52  iter: 22379  total_loss: 0.655  loss_cls: 0.107  loss_box_reg: 0.240  loss_mask: 0.200  loss_rpn_cls: 0.006  loss_rpn_loc: 0.080  time: 0.3690  data_time: 0.0002  lr: 0.000207  max_mem: 8391M\n",
      "\u001b[32m[04/06 21:29:52 d2.utils.events]: \u001b[0m eta: 0:30:41  iter: 22399  total_loss: 0.494  loss_cls: 0.073  loss_box_reg: 0.175  loss_mask: 0.169  loss_rpn_cls: 0.003  loss_rpn_loc: 0.058  time: 0.3690  data_time: 0.0002  lr: 0.000205  max_mem: 8391M\n",
      "\u001b[32m[04/06 21:30:00 d2.utils.events]: \u001b[0m eta: 0:30:35  iter: 22419  total_loss: 0.615  loss_cls: 0.116  loss_box_reg: 0.196  loss_mask: 0.181  loss_rpn_cls: 0.007  loss_rpn_loc: 0.067  time: 0.3690  data_time: 0.0003  lr: 0.000203  max_mem: 8391M\n",
      "\u001b[32m[04/06 21:30:07 d2.utils.events]: \u001b[0m eta: 0:30:30  iter: 22439  total_loss: 0.823  loss_cls: 0.143  loss_box_reg: 0.242  loss_mask: 0.233  loss_rpn_cls: 0.025  loss_rpn_loc: 0.107  time: 0.3690  data_time: 0.0003  lr: 0.000202  max_mem: 8391M\n"
     ]
    },
    {
     "name": "stdout",
     "output_type": "stream",
     "text": [
      "\u001b[32m[04/06 21:30:15 d2.utils.events]: \u001b[0m eta: 0:30:23  iter: 22459  total_loss: 0.824  loss_cls: 0.140  loss_box_reg: 0.293  loss_mask: 0.229  loss_rpn_cls: 0.011  loss_rpn_loc: 0.097  time: 0.3690  data_time: 0.0003  lr: 0.000200  max_mem: 8391M\n",
      "\u001b[32m[04/06 21:30:22 d2.utils.events]: \u001b[0m eta: 0:30:15  iter: 22479  total_loss: 0.468  loss_cls: 0.071  loss_box_reg: 0.168  loss_mask: 0.149  loss_rpn_cls: 0.005  loss_rpn_loc: 0.059  time: 0.3690  data_time: 0.0002  lr: 0.000199  max_mem: 8391M\n",
      "\u001b[32m[04/06 21:30:29 d2.utils.events]: \u001b[0m eta: 0:30:09  iter: 22499  total_loss: 0.644  loss_cls: 0.090  loss_box_reg: 0.233  loss_mask: 0.212  loss_rpn_cls: 0.006  loss_rpn_loc: 0.055  time: 0.3690  data_time: 0.0003  lr: 0.000197  max_mem: 8391M\n",
      "\u001b[32m[04/06 21:30:37 d2.utils.events]: \u001b[0m eta: 0:29:58  iter: 22519  total_loss: 0.787  loss_cls: 0.123  loss_box_reg: 0.273  loss_mask: 0.229  loss_rpn_cls: 0.012  loss_rpn_loc: 0.092  time: 0.3690  data_time: 0.0003  lr: 0.000196  max_mem: 8391M\n",
      "\u001b[32m[04/06 21:30:44 d2.utils.events]: \u001b[0m eta: 0:29:51  iter: 22539  total_loss: 0.664  loss_cls: 0.111  loss_box_reg: 0.213  loss_mask: 0.196  loss_rpn_cls: 0.005  loss_rpn_loc: 0.073  time: 0.3690  data_time: 0.0003  lr: 0.000194  max_mem: 8391M\n",
      "\u001b[32m[04/06 21:30:51 d2.utils.events]: \u001b[0m eta: 0:29:43  iter: 22559  total_loss: 0.564  loss_cls: 0.105  loss_box_reg: 0.203  loss_mask: 0.182  loss_rpn_cls: 0.003  loss_rpn_loc: 0.057  time: 0.3690  data_time: 0.0003  lr: 0.000193  max_mem: 8391M\n",
      "\u001b[32m[04/06 21:30:58 d2.utils.events]: \u001b[0m eta: 0:29:35  iter: 22579  total_loss: 0.460  loss_cls: 0.097  loss_box_reg: 0.178  loss_mask: 0.157  loss_rpn_cls: 0.004  loss_rpn_loc: 0.058  time: 0.3690  data_time: 0.0002  lr: 0.000191  max_mem: 8391M\n",
      "\u001b[32m[04/06 21:31:06 d2.utils.events]: \u001b[0m eta: 0:29:28  iter: 22599  total_loss: 0.629  loss_cls: 0.110  loss_box_reg: 0.213  loss_mask: 0.206  loss_rpn_cls: 0.004  loss_rpn_loc: 0.070  time: 0.3689  data_time: 0.0003  lr: 0.000190  max_mem: 8391M\n",
      "\u001b[32m[04/06 21:31:13 d2.utils.events]: \u001b[0m eta: 0:29:20  iter: 22619  total_loss: 0.559  loss_cls: 0.096  loss_box_reg: 0.185  loss_mask: 0.176  loss_rpn_cls: 0.009  loss_rpn_loc: 0.098  time: 0.3690  data_time: 0.0003  lr: 0.000188  max_mem: 8391M\n",
      "\u001b[32m[04/06 21:31:21 d2.utils.events]: \u001b[0m eta: 0:29:13  iter: 22639  total_loss: 0.677  loss_cls: 0.128  loss_box_reg: 0.226  loss_mask: 0.195  loss_rpn_cls: 0.011  loss_rpn_loc: 0.090  time: 0.3690  data_time: 0.0003  lr: 0.000187  max_mem: 8391M\n",
      "\u001b[32m[04/06 21:31:28 d2.utils.events]: \u001b[0m eta: 0:29:05  iter: 22659  total_loss: 0.599  loss_cls: 0.099  loss_box_reg: 0.223  loss_mask: 0.194  loss_rpn_cls: 0.002  loss_rpn_loc: 0.075  time: 0.3690  data_time: 0.0003  lr: 0.000185  max_mem: 8391M\n",
      "\u001b[32m[04/06 21:31:35 d2.utils.events]: \u001b[0m eta: 0:28:56  iter: 22679  total_loss: 0.481  loss_cls: 0.073  loss_box_reg: 0.193  loss_mask: 0.146  loss_rpn_cls: 0.006  loss_rpn_loc: 0.064  time: 0.3689  data_time: 0.0002  lr: 0.000184  max_mem: 8391M\n",
      "\u001b[32m[04/06 21:31:42 d2.utils.events]: \u001b[0m eta: 0:28:48  iter: 22699  total_loss: 0.545  loss_cls: 0.078  loss_box_reg: 0.212  loss_mask: 0.194  loss_rpn_cls: 0.002  loss_rpn_loc: 0.056  time: 0.3689  data_time: 0.0002  lr: 0.000182  max_mem: 8391M\n",
      "\u001b[32m[04/06 21:31:50 d2.utils.events]: \u001b[0m eta: 0:28:42  iter: 22719  total_loss: 0.479  loss_cls: 0.069  loss_box_reg: 0.177  loss_mask: 0.195  loss_rpn_cls: 0.004  loss_rpn_loc: 0.057  time: 0.3689  data_time: 0.0003  lr: 0.000181  max_mem: 8391M\n",
      "\u001b[32m[04/06 21:31:57 d2.utils.events]: \u001b[0m eta: 0:28:35  iter: 22739  total_loss: 0.689  loss_cls: 0.125  loss_box_reg: 0.242  loss_mask: 0.198  loss_rpn_cls: 0.008  loss_rpn_loc: 0.091  time: 0.3689  data_time: 0.0003  lr: 0.000179  max_mem: 8391M\n",
      "\u001b[32m[04/06 21:32:04 d2.utils.events]: \u001b[0m eta: 0:28:25  iter: 22759  total_loss: 0.683  loss_cls: 0.115  loss_box_reg: 0.241  loss_mask: 0.204  loss_rpn_cls: 0.008  loss_rpn_loc: 0.084  time: 0.3689  data_time: 0.0003  lr: 0.000178  max_mem: 8391M\n",
      "\u001b[32m[04/06 21:32:12 d2.utils.events]: \u001b[0m eta: 0:28:18  iter: 22779  total_loss: 0.641  loss_cls: 0.105  loss_box_reg: 0.238  loss_mask: 0.214  loss_rpn_cls: 0.010  loss_rpn_loc: 0.086  time: 0.3689  data_time: 0.0003  lr: 0.000176  max_mem: 8391M\n",
      "\u001b[32m[04/06 21:32:19 d2.utils.events]: \u001b[0m eta: 0:28:12  iter: 22799  total_loss: 0.576  loss_cls: 0.123  loss_box_reg: 0.226  loss_mask: 0.188  loss_rpn_cls: 0.004  loss_rpn_loc: 0.077  time: 0.3689  data_time: 0.0003  lr: 0.000175  max_mem: 8391M\n",
      "\u001b[32m[04/06 21:32:26 d2.utils.events]: \u001b[0m eta: 0:28:02  iter: 22819  total_loss: 0.593  loss_cls: 0.103  loss_box_reg: 0.196  loss_mask: 0.167  loss_rpn_cls: 0.008  loss_rpn_loc: 0.075  time: 0.3689  data_time: 0.0003  lr: 0.000173  max_mem: 8391M\n",
      "\u001b[32m[04/06 21:32:33 d2.utils.events]: \u001b[0m eta: 0:27:55  iter: 22839  total_loss: 0.616  loss_cls: 0.088  loss_box_reg: 0.206  loss_mask: 0.217  loss_rpn_cls: 0.006  loss_rpn_loc: 0.063  time: 0.3689  data_time: 0.0002  lr: 0.000172  max_mem: 8391M\n",
      "\u001b[32m[04/06 21:32:41 d2.utils.events]: \u001b[0m eta: 0:27:48  iter: 22859  total_loss: 0.582  loss_cls: 0.091  loss_box_reg: 0.191  loss_mask: 0.170  loss_rpn_cls: 0.010  loss_rpn_loc: 0.067  time: 0.3689  data_time: 0.0002  lr: 0.000170  max_mem: 8391M\n",
      "\u001b[32m[04/06 21:32:48 d2.utils.events]: \u001b[0m eta: 0:27:41  iter: 22879  total_loss: 0.789  loss_cls: 0.145  loss_box_reg: 0.280  loss_mask: 0.247  loss_rpn_cls: 0.010  loss_rpn_loc: 0.103  time: 0.3689  data_time: 0.0003  lr: 0.000169  max_mem: 8391M\n",
      "\u001b[32m[04/06 21:32:55 d2.utils.events]: \u001b[0m eta: 0:27:33  iter: 22899  total_loss: 0.502  loss_cls: 0.077  loss_box_reg: 0.191  loss_mask: 0.165  loss_rpn_cls: 0.004  loss_rpn_loc: 0.057  time: 0.3689  data_time: 0.0003  lr: 0.000168  max_mem: 8391M\n",
      "\u001b[32m[04/06 21:33:03 d2.utils.events]: \u001b[0m eta: 0:27:26  iter: 22919  total_loss: 0.500  loss_cls: 0.091  loss_box_reg: 0.187  loss_mask: 0.157  loss_rpn_cls: 0.008  loss_rpn_loc: 0.058  time: 0.3689  data_time: 0.0003  lr: 0.000166  max_mem: 8391M\n",
      "\u001b[32m[04/06 21:33:10 d2.utils.events]: \u001b[0m eta: 0:27:19  iter: 22939  total_loss: 0.606  loss_cls: 0.114  loss_box_reg: 0.223  loss_mask: 0.187  loss_rpn_cls: 0.006  loss_rpn_loc: 0.072  time: 0.3689  data_time: 0.0003  lr: 0.000165  max_mem: 8391M\n",
      "\u001b[32m[04/06 21:33:18 d2.utils.events]: \u001b[0m eta: 0:27:12  iter: 22959  total_loss: 0.596  loss_cls: 0.107  loss_box_reg: 0.207  loss_mask: 0.180  loss_rpn_cls: 0.006  loss_rpn_loc: 0.076  time: 0.3689  data_time: 0.0003  lr: 0.000163  max_mem: 8391M\n",
      "\u001b[32m[04/06 21:33:25 d2.utils.events]: \u001b[0m eta: 0:27:03  iter: 22979  total_loss: 0.586  loss_cls: 0.123  loss_box_reg: 0.202  loss_mask: 0.194  loss_rpn_cls: 0.004  loss_rpn_loc: 0.055  time: 0.3689  data_time: 0.0003  lr: 0.000162  max_mem: 8391M\n",
      "\u001b[32m[04/06 21:33:33 d2.utils.events]: \u001b[0m eta: 0:26:57  iter: 22999  total_loss: 0.571  loss_cls: 0.115  loss_box_reg: 0.186  loss_mask: 0.190  loss_rpn_cls: 0.012  loss_rpn_loc: 0.091  time: 0.3689  data_time: 0.0003  lr: 0.000160  max_mem: 8391M\n",
      "\u001b[32m[04/06 21:33:40 d2.utils.events]: \u001b[0m eta: 0:26:50  iter: 23019  total_loss: 0.583  loss_cls: 0.076  loss_box_reg: 0.204  loss_mask: 0.219  loss_rpn_cls: 0.002  loss_rpn_loc: 0.057  time: 0.3689  data_time: 0.0003  lr: 0.000159  max_mem: 8391M\n",
      "\u001b[32m[04/06 21:33:47 d2.utils.events]: \u001b[0m eta: 0:26:43  iter: 23039  total_loss: 0.631  loss_cls: 0.122  loss_box_reg: 0.252  loss_mask: 0.211  loss_rpn_cls: 0.003  loss_rpn_loc: 0.076  time: 0.3689  data_time: 0.0003  lr: 0.000158  max_mem: 8391M\n",
      "\u001b[32m[04/06 21:33:55 d2.utils.events]: \u001b[0m eta: 0:26:37  iter: 23059  total_loss: 0.569  loss_cls: 0.091  loss_box_reg: 0.225  loss_mask: 0.186  loss_rpn_cls: 0.005  loss_rpn_loc: 0.065  time: 0.3689  data_time: 0.0002  lr: 0.000156  max_mem: 8391M\n",
      "\u001b[32m[04/06 21:34:02 d2.utils.events]: \u001b[0m eta: 0:26:29  iter: 23079  total_loss: 0.737  loss_cls: 0.123  loss_box_reg: 0.236  loss_mask: 0.210  loss_rpn_cls: 0.008  loss_rpn_loc: 0.085  time: 0.3689  data_time: 0.0002  lr: 0.000155  max_mem: 8391M\n",
      "\u001b[32m[04/06 21:34:10 d2.utils.events]: \u001b[0m eta: 0:26:24  iter: 23099  total_loss: 0.636  loss_cls: 0.091  loss_box_reg: 0.244  loss_mask: 0.204  loss_rpn_cls: 0.009  loss_rpn_loc: 0.090  time: 0.3689  data_time: 0.0003  lr: 0.000154  max_mem: 8391M\n"
     ]
    },
    {
     "name": "stdout",
     "output_type": "stream",
     "text": [
      "\u001b[32m[04/06 21:34:17 d2.utils.events]: \u001b[0m eta: 0:26:15  iter: 23119  total_loss: 0.473  loss_cls: 0.081  loss_box_reg: 0.168  loss_mask: 0.163  loss_rpn_cls: 0.006  loss_rpn_loc: 0.051  time: 0.3689  data_time: 0.0002  lr: 0.000152  max_mem: 8391M\n",
      "\u001b[32m[04/06 21:34:24 d2.utils.events]: \u001b[0m eta: 0:26:10  iter: 23139  total_loss: 0.605  loss_cls: 0.103  loss_box_reg: 0.214  loss_mask: 0.182  loss_rpn_cls: 0.004  loss_rpn_loc: 0.075  time: 0.3689  data_time: 0.0002  lr: 0.000151  max_mem: 8391M\n",
      "\u001b[32m[04/06 21:34:32 d2.utils.events]: \u001b[0m eta: 0:26:02  iter: 23159  total_loss: 0.577  loss_cls: 0.098  loss_box_reg: 0.183  loss_mask: 0.194  loss_rpn_cls: 0.004  loss_rpn_loc: 0.050  time: 0.3689  data_time: 0.0003  lr: 0.000149  max_mem: 8391M\n",
      "\u001b[32m[04/06 21:34:39 d2.utils.events]: \u001b[0m eta: 0:25:56  iter: 23179  total_loss: 0.454  loss_cls: 0.081  loss_box_reg: 0.159  loss_mask: 0.149  loss_rpn_cls: 0.005  loss_rpn_loc: 0.046  time: 0.3689  data_time: 0.0002  lr: 0.000148  max_mem: 8391M\n",
      "\u001b[32m[04/06 21:34:46 d2.utils.events]: \u001b[0m eta: 0:25:48  iter: 23199  total_loss: 0.634  loss_cls: 0.129  loss_box_reg: 0.240  loss_mask: 0.183  loss_rpn_cls: 0.005  loss_rpn_loc: 0.082  time: 0.3689  data_time: 0.0003  lr: 0.000147  max_mem: 8391M\n",
      "\u001b[32m[04/06 21:34:54 d2.utils.events]: \u001b[0m eta: 0:25:42  iter: 23219  total_loss: 0.548  loss_cls: 0.105  loss_box_reg: 0.179  loss_mask: 0.220  loss_rpn_cls: 0.006  loss_rpn_loc: 0.082  time: 0.3689  data_time: 0.0003  lr: 0.000145  max_mem: 8391M\n",
      "\u001b[32m[04/06 21:35:01 d2.utils.events]: \u001b[0m eta: 0:25:36  iter: 23239  total_loss: 0.728  loss_cls: 0.134  loss_box_reg: 0.264  loss_mask: 0.221  loss_rpn_cls: 0.005  loss_rpn_loc: 0.086  time: 0.3689  data_time: 0.0003  lr: 0.000144  max_mem: 8391M\n",
      "\u001b[32m[04/06 21:35:09 d2.utils.events]: \u001b[0m eta: 0:25:29  iter: 23259  total_loss: 0.455  loss_cls: 0.085  loss_box_reg: 0.176  loss_mask: 0.170  loss_rpn_cls: 0.004  loss_rpn_loc: 0.054  time: 0.3689  data_time: 0.0003  lr: 0.000143  max_mem: 8391M\n",
      "\u001b[32m[04/06 21:35:16 d2.utils.events]: \u001b[0m eta: 0:25:22  iter: 23279  total_loss: 0.654  loss_cls: 0.118  loss_box_reg: 0.227  loss_mask: 0.221  loss_rpn_cls: 0.006  loss_rpn_loc: 0.071  time: 0.3689  data_time: 0.0003  lr: 0.000141  max_mem: 8391M\n",
      "\u001b[32m[04/06 21:35:23 d2.utils.events]: \u001b[0m eta: 0:25:14  iter: 23299  total_loss: 0.673  loss_cls: 0.117  loss_box_reg: 0.219  loss_mask: 0.199  loss_rpn_cls: 0.006  loss_rpn_loc: 0.085  time: 0.3689  data_time: 0.0003  lr: 0.000140  max_mem: 8391M\n",
      "\u001b[32m[04/06 21:35:31 d2.utils.events]: \u001b[0m eta: 0:25:08  iter: 23319  total_loss: 0.652  loss_cls: 0.139  loss_box_reg: 0.207  loss_mask: 0.186  loss_rpn_cls: 0.006  loss_rpn_loc: 0.070  time: 0.3689  data_time: 0.0003  lr: 0.000139  max_mem: 8391M\n",
      "\u001b[32m[04/06 21:35:38 d2.utils.events]: \u001b[0m eta: 0:25:03  iter: 23339  total_loss: 0.549  loss_cls: 0.096  loss_box_reg: 0.206  loss_mask: 0.180  loss_rpn_cls: 0.006  loss_rpn_loc: 0.043  time: 0.3689  data_time: 0.0003  lr: 0.000137  max_mem: 8391M\n",
      "\u001b[32m[04/06 21:35:45 d2.utils.events]: \u001b[0m eta: 0:24:56  iter: 23359  total_loss: 0.643  loss_cls: 0.109  loss_box_reg: 0.210  loss_mask: 0.220  loss_rpn_cls: 0.005  loss_rpn_loc: 0.081  time: 0.3689  data_time: 0.0002  lr: 0.000136  max_mem: 8391M\n",
      "\u001b[32m[04/06 21:35:53 d2.utils.events]: \u001b[0m eta: 0:24:48  iter: 23379  total_loss: 0.828  loss_cls: 0.159  loss_box_reg: 0.280  loss_mask: 0.236  loss_rpn_cls: 0.006  loss_rpn_loc: 0.086  time: 0.3689  data_time: 0.0003  lr: 0.000135  max_mem: 8391M\n",
      "\u001b[32m[04/06 21:36:00 d2.utils.events]: \u001b[0m eta: 0:24:41  iter: 23399  total_loss: 0.488  loss_cls: 0.076  loss_box_reg: 0.178  loss_mask: 0.163  loss_rpn_cls: 0.004  loss_rpn_loc: 0.051  time: 0.3689  data_time: 0.0003  lr: 0.000134  max_mem: 8391M\n",
      "\u001b[32m[04/06 21:36:07 d2.utils.events]: \u001b[0m eta: 0:24:33  iter: 23419  total_loss: 0.550  loss_cls: 0.083  loss_box_reg: 0.222  loss_mask: 0.192  loss_rpn_cls: 0.005  loss_rpn_loc: 0.060  time: 0.3689  data_time: 0.0003  lr: 0.000132  max_mem: 8391M\n",
      "\u001b[32m[04/06 21:36:15 d2.utils.events]: \u001b[0m eta: 0:24:24  iter: 23439  total_loss: 0.563  loss_cls: 0.103  loss_box_reg: 0.227  loss_mask: 0.201  loss_rpn_cls: 0.007  loss_rpn_loc: 0.051  time: 0.3689  data_time: 0.0003  lr: 0.000131  max_mem: 8391M\n",
      "\u001b[32m[04/06 21:36:22 d2.utils.events]: \u001b[0m eta: 0:24:17  iter: 23459  total_loss: 0.549  loss_cls: 0.086  loss_box_reg: 0.200  loss_mask: 0.191  loss_rpn_cls: 0.008  loss_rpn_loc: 0.059  time: 0.3689  data_time: 0.0002  lr: 0.000130  max_mem: 8391M\n",
      "\u001b[32m[04/06 21:36:29 d2.utils.events]: \u001b[0m eta: 0:24:09  iter: 23479  total_loss: 0.639  loss_cls: 0.113  loss_box_reg: 0.218  loss_mask: 0.170  loss_rpn_cls: 0.013  loss_rpn_loc: 0.081  time: 0.3689  data_time: 0.0003  lr: 0.000128  max_mem: 8391M\n",
      "\u001b[32m[04/06 21:36:37 d2.utils.events]: \u001b[0m eta: 0:24:02  iter: 23499  total_loss: 0.404  loss_cls: 0.076  loss_box_reg: 0.147  loss_mask: 0.123  loss_rpn_cls: 0.007  loss_rpn_loc: 0.065  time: 0.3689  data_time: 0.0003  lr: 0.000127  max_mem: 8391M\n",
      "\u001b[32m[04/06 21:36:44 d2.utils.events]: \u001b[0m eta: 0:23:57  iter: 23519  total_loss: 0.571  loss_cls: 0.110  loss_box_reg: 0.217  loss_mask: 0.180  loss_rpn_cls: 0.010  loss_rpn_loc: 0.074  time: 0.3689  data_time: 0.0003  lr: 0.000126  max_mem: 8391M\n",
      "\u001b[32m[04/06 21:36:51 d2.utils.events]: \u001b[0m eta: 0:23:49  iter: 23539  total_loss: 0.642  loss_cls: 0.112  loss_box_reg: 0.216  loss_mask: 0.216  loss_rpn_cls: 0.010  loss_rpn_loc: 0.079  time: 0.3689  data_time: 0.0003  lr: 0.000125  max_mem: 8391M\n",
      "\u001b[32m[04/06 21:36:59 d2.utils.events]: \u001b[0m eta: 0:23:41  iter: 23559  total_loss: 0.632  loss_cls: 0.138  loss_box_reg: 0.244  loss_mask: 0.234  loss_rpn_cls: 0.004  loss_rpn_loc: 0.085  time: 0.3689  data_time: 0.0002  lr: 0.000123  max_mem: 8391M\n",
      "\u001b[32m[04/06 21:37:06 d2.utils.events]: \u001b[0m eta: 0:23:35  iter: 23579  total_loss: 0.566  loss_cls: 0.100  loss_box_reg: 0.192  loss_mask: 0.183  loss_rpn_cls: 0.015  loss_rpn_loc: 0.069  time: 0.3689  data_time: 0.0003  lr: 0.000122  max_mem: 8391M\n",
      "\u001b[32m[04/06 21:37:14 d2.utils.events]: \u001b[0m eta: 0:23:28  iter: 23599  total_loss: 0.764  loss_cls: 0.127  loss_box_reg: 0.244  loss_mask: 0.222  loss_rpn_cls: 0.010  loss_rpn_loc: 0.098  time: 0.3689  data_time: 0.0003  lr: 0.000121  max_mem: 8391M\n",
      "\u001b[32m[04/06 21:37:21 d2.utils.events]: \u001b[0m eta: 0:23:20  iter: 23619  total_loss: 0.517  loss_cls: 0.091  loss_box_reg: 0.186  loss_mask: 0.163  loss_rpn_cls: 0.006  loss_rpn_loc: 0.063  time: 0.3689  data_time: 0.0002  lr: 0.000120  max_mem: 8391M\n",
      "\u001b[32m[04/06 21:37:28 d2.utils.events]: \u001b[0m eta: 0:23:12  iter: 23639  total_loss: 0.596  loss_cls: 0.101  loss_box_reg: 0.187  loss_mask: 0.164  loss_rpn_cls: 0.005  loss_rpn_loc: 0.075  time: 0.3689  data_time: 0.0003  lr: 0.000119  max_mem: 8391M\n",
      "\u001b[32m[04/06 21:37:36 d2.utils.events]: \u001b[0m eta: 0:23:06  iter: 23659  total_loss: 0.699  loss_cls: 0.126  loss_box_reg: 0.239  loss_mask: 0.194  loss_rpn_cls: 0.007  loss_rpn_loc: 0.091  time: 0.3689  data_time: 0.0003  lr: 0.000117  max_mem: 8391M\n",
      "\u001b[32m[04/06 21:37:43 d2.utils.events]: \u001b[0m eta: 0:22:59  iter: 23679  total_loss: 0.582  loss_cls: 0.092  loss_box_reg: 0.190  loss_mask: 0.196  loss_rpn_cls: 0.007  loss_rpn_loc: 0.064  time: 0.3689  data_time: 0.0003  lr: 0.000116  max_mem: 8391M\n",
      "\u001b[32m[04/06 21:37:51 d2.utils.events]: \u001b[0m eta: 0:22:53  iter: 23699  total_loss: 0.704  loss_cls: 0.129  loss_box_reg: 0.226  loss_mask: 0.218  loss_rpn_cls: 0.014  loss_rpn_loc: 0.069  time: 0.3689  data_time: 0.0003  lr: 0.000115  max_mem: 8391M\n",
      "\u001b[32m[04/06 21:37:58 d2.utils.events]: \u001b[0m eta: 0:22:44  iter: 23719  total_loss: 0.498  loss_cls: 0.093  loss_box_reg: 0.189  loss_mask: 0.176  loss_rpn_cls: 0.005  loss_rpn_loc: 0.058  time: 0.3689  data_time: 0.0002  lr: 0.000114  max_mem: 8391M\n",
      "\u001b[32m[04/06 21:38:05 d2.utils.events]: \u001b[0m eta: 0:22:36  iter: 23739  total_loss: 0.613  loss_cls: 0.119  loss_box_reg: 0.189  loss_mask: 0.181  loss_rpn_cls: 0.005  loss_rpn_loc: 0.079  time: 0.3689  data_time: 0.0003  lr: 0.000113  max_mem: 8391M\n",
      "\u001b[32m[04/06 21:38:13 d2.utils.events]: \u001b[0m eta: 0:22:30  iter: 23759  total_loss: 0.747  loss_cls: 0.103  loss_box_reg: 0.270  loss_mask: 0.215  loss_rpn_cls: 0.004  loss_rpn_loc: 0.088  time: 0.3689  data_time: 0.0003  lr: 0.000111  max_mem: 8391M\n"
     ]
    },
    {
     "name": "stdout",
     "output_type": "stream",
     "text": [
      "\u001b[32m[04/06 21:38:20 d2.utils.events]: \u001b[0m eta: 0:22:23  iter: 23779  total_loss: 0.635  loss_cls: 0.107  loss_box_reg: 0.224  loss_mask: 0.220  loss_rpn_cls: 0.007  loss_rpn_loc: 0.051  time: 0.3689  data_time: 0.0003  lr: 0.000110  max_mem: 8391M\n",
      "\u001b[32m[04/06 21:38:28 d2.utils.events]: \u001b[0m eta: 0:22:17  iter: 23799  total_loss: 0.573  loss_cls: 0.085  loss_box_reg: 0.204  loss_mask: 0.206  loss_rpn_cls: 0.002  loss_rpn_loc: 0.083  time: 0.3689  data_time: 0.0003  lr: 0.000109  max_mem: 8391M\n",
      "\u001b[32m[04/06 21:38:35 d2.utils.events]: \u001b[0m eta: 0:22:10  iter: 23819  total_loss: 0.485  loss_cls: 0.085  loss_box_reg: 0.186  loss_mask: 0.187  loss_rpn_cls: 0.006  loss_rpn_loc: 0.062  time: 0.3689  data_time: 0.0003  lr: 0.000108  max_mem: 8391M\n",
      "\u001b[32m[04/06 21:38:42 d2.utils.events]: \u001b[0m eta: 0:22:03  iter: 23839  total_loss: 0.394  loss_cls: 0.065  loss_box_reg: 0.164  loss_mask: 0.142  loss_rpn_cls: 0.002  loss_rpn_loc: 0.039  time: 0.3689  data_time: 0.0002  lr: 0.000107  max_mem: 8391M\n",
      "\u001b[32m[04/06 21:38:50 d2.utils.events]: \u001b[0m eta: 0:21:56  iter: 23859  total_loss: 0.632  loss_cls: 0.092  loss_box_reg: 0.203  loss_mask: 0.195  loss_rpn_cls: 0.005  loss_rpn_loc: 0.072  time: 0.3689  data_time: 0.0002  lr: 0.000106  max_mem: 8391M\n",
      "\u001b[32m[04/06 21:38:57 d2.utils.events]: \u001b[0m eta: 0:21:49  iter: 23879  total_loss: 0.604  loss_cls: 0.117  loss_box_reg: 0.246  loss_mask: 0.205  loss_rpn_cls: 0.008  loss_rpn_loc: 0.084  time: 0.3689  data_time: 0.0003  lr: 0.000104  max_mem: 8391M\n",
      "\u001b[32m[04/06 21:39:04 d2.utils.events]: \u001b[0m eta: 0:21:42  iter: 23899  total_loss: 0.471  loss_cls: 0.060  loss_box_reg: 0.166  loss_mask: 0.141  loss_rpn_cls: 0.003  loss_rpn_loc: 0.052  time: 0.3689  data_time: 0.0002  lr: 0.000103  max_mem: 8391M\n",
      "\u001b[32m[04/06 21:39:11 d2.utils.events]: \u001b[0m eta: 0:21:33  iter: 23919  total_loss: 0.523  loss_cls: 0.088  loss_box_reg: 0.195  loss_mask: 0.180  loss_rpn_cls: 0.004  loss_rpn_loc: 0.090  time: 0.3689  data_time: 0.0003  lr: 0.000102  max_mem: 8391M\n",
      "\u001b[32m[04/06 21:39:19 d2.utils.events]: \u001b[0m eta: 0:21:25  iter: 23939  total_loss: 0.768  loss_cls: 0.143  loss_box_reg: 0.292  loss_mask: 0.233  loss_rpn_cls: 0.006  loss_rpn_loc: 0.106  time: 0.3689  data_time: 0.0003  lr: 0.000101  max_mem: 8391M\n",
      "\u001b[32m[04/06 21:39:26 d2.utils.events]: \u001b[0m eta: 0:21:18  iter: 23959  total_loss: 0.777  loss_cls: 0.148  loss_box_reg: 0.276  loss_mask: 0.247  loss_rpn_cls: 0.006  loss_rpn_loc: 0.091  time: 0.3689  data_time: 0.0002  lr: 0.000100  max_mem: 8391M\n",
      "\u001b[32m[04/06 21:39:34 d2.utils.events]: \u001b[0m eta: 0:21:10  iter: 23979  total_loss: 0.480  loss_cls: 0.077  loss_box_reg: 0.154  loss_mask: 0.151  loss_rpn_cls: 0.003  loss_rpn_loc: 0.070  time: 0.3689  data_time: 0.0003  lr: 0.000099  max_mem: 8391M\n",
      "\u001b[32m[04/06 21:39:41 d2.utils.events]: \u001b[0m eta: 0:21:03  iter: 23999  total_loss: 0.650  loss_cls: 0.088  loss_box_reg: 0.249  loss_mask: 0.218  loss_rpn_cls: 0.005  loss_rpn_loc: 0.062  time: 0.3689  data_time: 0.0002  lr: 0.000098  max_mem: 8391M\n",
      "\u001b[32m[04/06 21:39:48 d2.utils.events]: \u001b[0m eta: 0:20:54  iter: 24019  total_loss: 0.709  loss_cls: 0.133  loss_box_reg: 0.236  loss_mask: 0.212  loss_rpn_cls: 0.007  loss_rpn_loc: 0.106  time: 0.3688  data_time: 0.0003  lr: 0.000097  max_mem: 8391M\n",
      "\u001b[32m[04/06 21:39:56 d2.utils.events]: \u001b[0m eta: 0:20:47  iter: 24039  total_loss: 0.479  loss_cls: 0.070  loss_box_reg: 0.174  loss_mask: 0.172  loss_rpn_cls: 0.001  loss_rpn_loc: 0.033  time: 0.3689  data_time: 0.0002  lr: 0.000095  max_mem: 8391M\n",
      "\u001b[32m[04/06 21:40:03 d2.utils.events]: \u001b[0m eta: 0:20:40  iter: 24059  total_loss: 0.519  loss_cls: 0.079  loss_box_reg: 0.196  loss_mask: 0.194  loss_rpn_cls: 0.004  loss_rpn_loc: 0.058  time: 0.3689  data_time: 0.0002  lr: 0.000094  max_mem: 8391M\n",
      "\u001b[32m[04/06 21:40:10 d2.utils.events]: \u001b[0m eta: 0:20:33  iter: 24079  total_loss: 0.550  loss_cls: 0.078  loss_box_reg: 0.204  loss_mask: 0.189  loss_rpn_cls: 0.004  loss_rpn_loc: 0.049  time: 0.3688  data_time: 0.0002  lr: 0.000093  max_mem: 8391M\n",
      "\u001b[32m[04/06 21:40:18 d2.utils.events]: \u001b[0m eta: 0:20:25  iter: 24099  total_loss: 0.541  loss_cls: 0.131  loss_box_reg: 0.190  loss_mask: 0.155  loss_rpn_cls: 0.014  loss_rpn_loc: 0.057  time: 0.3688  data_time: 0.0003  lr: 0.000092  max_mem: 8391M\n",
      "\u001b[32m[04/06 21:40:25 d2.utils.events]: \u001b[0m eta: 0:20:17  iter: 24119  total_loss: 0.566  loss_cls: 0.102  loss_box_reg: 0.202  loss_mask: 0.196  loss_rpn_cls: 0.006  loss_rpn_loc: 0.081  time: 0.3688  data_time: 0.0003  lr: 0.000091  max_mem: 8391M\n",
      "\u001b[32m[04/06 21:40:32 d2.utils.events]: \u001b[0m eta: 0:20:10  iter: 24139  total_loss: 0.689  loss_cls: 0.081  loss_box_reg: 0.231  loss_mask: 0.208  loss_rpn_cls: 0.004  loss_rpn_loc: 0.076  time: 0.3688  data_time: 0.0003  lr: 0.000090  max_mem: 8391M\n",
      "\u001b[32m[04/06 21:40:40 d2.utils.events]: \u001b[0m eta: 0:20:03  iter: 24159  total_loss: 0.523  loss_cls: 0.101  loss_box_reg: 0.212  loss_mask: 0.175  loss_rpn_cls: 0.006  loss_rpn_loc: 0.066  time: 0.3688  data_time: 0.0003  lr: 0.000089  max_mem: 8391M\n",
      "\u001b[32m[04/06 21:40:47 d2.utils.events]: \u001b[0m eta: 0:19:56  iter: 24179  total_loss: 0.575  loss_cls: 0.097  loss_box_reg: 0.186  loss_mask: 0.194  loss_rpn_cls: 0.009  loss_rpn_loc: 0.077  time: 0.3688  data_time: 0.0002  lr: 0.000088  max_mem: 8391M\n",
      "\u001b[32m[04/06 21:40:54 d2.utils.events]: \u001b[0m eta: 0:19:48  iter: 24199  total_loss: 0.673  loss_cls: 0.094  loss_box_reg: 0.230  loss_mask: 0.198  loss_rpn_cls: 0.004  loss_rpn_loc: 0.081  time: 0.3688  data_time: 0.0003  lr: 0.000087  max_mem: 8391M\n",
      "\u001b[32m[04/06 21:41:02 d2.utils.events]: \u001b[0m eta: 0:19:41  iter: 24219  total_loss: 0.671  loss_cls: 0.130  loss_box_reg: 0.243  loss_mask: 0.220  loss_rpn_cls: 0.010  loss_rpn_loc: 0.093  time: 0.3688  data_time: 0.0003  lr: 0.000086  max_mem: 8391M\n",
      "\u001b[32m[04/06 21:41:09 d2.utils.events]: \u001b[0m eta: 0:19:34  iter: 24239  total_loss: 0.641  loss_cls: 0.116  loss_box_reg: 0.205  loss_mask: 0.176  loss_rpn_cls: 0.007  loss_rpn_loc: 0.064  time: 0.3688  data_time: 0.0003  lr: 0.000085  max_mem: 8391M\n",
      "\u001b[32m[04/06 21:41:16 d2.utils.events]: \u001b[0m eta: 0:19:24  iter: 24259  total_loss: 0.776  loss_cls: 0.141  loss_box_reg: 0.291  loss_mask: 0.232  loss_rpn_cls: 0.004  loss_rpn_loc: 0.080  time: 0.3688  data_time: 0.0003  lr: 0.000084  max_mem: 8391M\n",
      "\u001b[32m[04/06 21:41:24 d2.utils.events]: \u001b[0m eta: 0:19:17  iter: 24279  total_loss: 0.597  loss_cls: 0.084  loss_box_reg: 0.209  loss_mask: 0.187  loss_rpn_cls: 0.004  loss_rpn_loc: 0.059  time: 0.3688  data_time: 0.0002  lr: 0.000083  max_mem: 8391M\n",
      "\u001b[32m[04/06 21:41:31 d2.utils.events]: \u001b[0m eta: 0:19:10  iter: 24299  total_loss: 0.849  loss_cls: 0.138  loss_box_reg: 0.268  loss_mask: 0.220  loss_rpn_cls: 0.016  loss_rpn_loc: 0.098  time: 0.3688  data_time: 0.0003  lr: 0.000082  max_mem: 8391M\n",
      "\u001b[32m[04/06 21:41:38 d2.utils.events]: \u001b[0m eta: 0:19:02  iter: 24319  total_loss: 0.461  loss_cls: 0.096  loss_box_reg: 0.169  loss_mask: 0.153  loss_rpn_cls: 0.003  loss_rpn_loc: 0.052  time: 0.3688  data_time: 0.0002  lr: 0.000081  max_mem: 8391M\n",
      "\u001b[32m[04/06 21:41:45 d2.utils.events]: \u001b[0m eta: 0:18:55  iter: 24339  total_loss: 0.750  loss_cls: 0.117  loss_box_reg: 0.280  loss_mask: 0.239  loss_rpn_cls: 0.010  loss_rpn_loc: 0.080  time: 0.3688  data_time: 0.0003  lr: 0.000080  max_mem: 8391M\n",
      "\u001b[32m[04/06 21:41:53 d2.utils.events]: \u001b[0m eta: 0:18:47  iter: 24359  total_loss: 0.416  loss_cls: 0.078  loss_box_reg: 0.177  loss_mask: 0.155  loss_rpn_cls: 0.003  loss_rpn_loc: 0.051  time: 0.3688  data_time: 0.0003  lr: 0.000079  max_mem: 8391M\n",
      "\u001b[32m[04/06 21:42:00 d2.utils.events]: \u001b[0m eta: 0:18:39  iter: 24379  total_loss: 0.505  loss_cls: 0.078  loss_box_reg: 0.192  loss_mask: 0.149  loss_rpn_cls: 0.006  loss_rpn_loc: 0.068  time: 0.3688  data_time: 0.0003  lr: 0.000078  max_mem: 8391M\n",
      "\u001b[32m[04/06 21:42:08 d2.utils.events]: \u001b[0m eta: 0:18:32  iter: 24399  total_loss: 0.567  loss_cls: 0.101  loss_box_reg: 0.209  loss_mask: 0.181  loss_rpn_cls: 0.007  loss_rpn_loc: 0.078  time: 0.3688  data_time: 0.0003  lr: 0.000077  max_mem: 8391M\n",
      "\u001b[32m[04/06 21:42:15 d2.utils.events]: \u001b[0m eta: 0:18:25  iter: 24419  total_loss: 0.577  loss_cls: 0.112  loss_box_reg: 0.216  loss_mask: 0.172  loss_rpn_cls: 0.007  loss_rpn_loc: 0.076  time: 0.3688  data_time: 0.0003  lr: 0.000076  max_mem: 8391M\n"
     ]
    },
    {
     "name": "stdout",
     "output_type": "stream",
     "text": [
      "\u001b[32m[04/06 21:42:23 d2.utils.events]: \u001b[0m eta: 0:18:19  iter: 24439  total_loss: 0.674  loss_cls: 0.123  loss_box_reg: 0.244  loss_mask: 0.229  loss_rpn_cls: 0.004  loss_rpn_loc: 0.088  time: 0.3688  data_time: 0.0003  lr: 0.000075  max_mem: 8391M\n",
      "\u001b[32m[04/06 21:42:30 d2.utils.events]: \u001b[0m eta: 0:18:12  iter: 24459  total_loss: 0.453  loss_cls: 0.083  loss_box_reg: 0.161  loss_mask: 0.133  loss_rpn_cls: 0.005  loss_rpn_loc: 0.071  time: 0.3688  data_time: 0.0003  lr: 0.000074  max_mem: 8391M\n",
      "\u001b[32m[04/06 21:42:38 d2.utils.events]: \u001b[0m eta: 0:18:05  iter: 24479  total_loss: 0.463  loss_cls: 0.075  loss_box_reg: 0.169  loss_mask: 0.158  loss_rpn_cls: 0.004  loss_rpn_loc: 0.051  time: 0.3688  data_time: 0.0003  lr: 0.000073  max_mem: 8391M\n",
      "\u001b[32m[04/06 21:42:45 d2.utils.events]: \u001b[0m eta: 0:17:57  iter: 24499  total_loss: 0.705  loss_cls: 0.120  loss_box_reg: 0.249  loss_mask: 0.227  loss_rpn_cls: 0.011  loss_rpn_loc: 0.112  time: 0.3688  data_time: 0.0003  lr: 0.000072  max_mem: 8391M\n",
      "\u001b[32m[04/06 21:42:52 d2.utils.events]: \u001b[0m eta: 0:17:49  iter: 24519  total_loss: 0.621  loss_cls: 0.110  loss_box_reg: 0.206  loss_mask: 0.189  loss_rpn_cls: 0.004  loss_rpn_loc: 0.075  time: 0.3688  data_time: 0.0003  lr: 0.000071  max_mem: 8391M\n",
      "\u001b[32m[04/06 21:42:59 d2.utils.events]: \u001b[0m eta: 0:17:42  iter: 24539  total_loss: 0.508  loss_cls: 0.088  loss_box_reg: 0.198  loss_mask: 0.174  loss_rpn_cls: 0.006  loss_rpn_loc: 0.056  time: 0.3688  data_time: 0.0002  lr: 0.000070  max_mem: 8391M\n",
      "\u001b[32m[04/06 21:43:07 d2.utils.events]: \u001b[0m eta: 0:17:34  iter: 24559  total_loss: 0.672  loss_cls: 0.111  loss_box_reg: 0.198  loss_mask: 0.194  loss_rpn_cls: 0.009  loss_rpn_loc: 0.069  time: 0.3688  data_time: 0.0002  lr: 0.000069  max_mem: 8391M\n",
      "\u001b[32m[04/06 21:43:14 d2.utils.events]: \u001b[0m eta: 0:17:27  iter: 24579  total_loss: 0.514  loss_cls: 0.074  loss_box_reg: 0.173  loss_mask: 0.196  loss_rpn_cls: 0.003  loss_rpn_loc: 0.067  time: 0.3688  data_time: 0.0003  lr: 0.000068  max_mem: 8391M\n",
      "\u001b[32m[04/06 21:43:21 d2.utils.events]: \u001b[0m eta: 0:17:20  iter: 24599  total_loss: 0.525  loss_cls: 0.084  loss_box_reg: 0.193  loss_mask: 0.167  loss_rpn_cls: 0.005  loss_rpn_loc: 0.057  time: 0.3688  data_time: 0.0003  lr: 0.000067  max_mem: 8391M\n",
      "\u001b[32m[04/06 21:43:29 d2.utils.events]: \u001b[0m eta: 0:17:13  iter: 24619  total_loss: 0.503  loss_cls: 0.106  loss_box_reg: 0.190  loss_mask: 0.168  loss_rpn_cls: 0.003  loss_rpn_loc: 0.065  time: 0.3688  data_time: 0.0003  lr: 0.000066  max_mem: 8391M\n",
      "\u001b[32m[04/06 21:43:36 d2.utils.events]: \u001b[0m eta: 0:17:07  iter: 24639  total_loss: 0.706  loss_cls: 0.107  loss_box_reg: 0.221  loss_mask: 0.207  loss_rpn_cls: 0.008  loss_rpn_loc: 0.088  time: 0.3688  data_time: 0.0003  lr: 0.000065  max_mem: 8391M\n",
      "\u001b[32m[04/06 21:43:44 d2.utils.events]: \u001b[0m eta: 0:16:59  iter: 24659  total_loss: 0.561  loss_cls: 0.104  loss_box_reg: 0.220  loss_mask: 0.173  loss_rpn_cls: 0.019  loss_rpn_loc: 0.092  time: 0.3688  data_time: 0.0003  lr: 0.000064  max_mem: 8391M\n",
      "\u001b[32m[04/06 21:43:51 d2.utils.events]: \u001b[0m eta: 0:16:52  iter: 24679  total_loss: 0.761  loss_cls: 0.126  loss_box_reg: 0.299  loss_mask: 0.231  loss_rpn_cls: 0.007  loss_rpn_loc: 0.100  time: 0.3688  data_time: 0.0002  lr: 0.000064  max_mem: 8391M\n",
      "\u001b[32m[04/06 21:43:59 d2.utils.events]: \u001b[0m eta: 0:16:45  iter: 24699  total_loss: 0.613  loss_cls: 0.108  loss_box_reg: 0.211  loss_mask: 0.182  loss_rpn_cls: 0.006  loss_rpn_loc: 0.074  time: 0.3688  data_time: 0.0003  lr: 0.000063  max_mem: 8391M\n",
      "\u001b[32m[04/06 21:44:06 d2.utils.events]: \u001b[0m eta: 0:16:38  iter: 24719  total_loss: 0.495  loss_cls: 0.072  loss_box_reg: 0.179  loss_mask: 0.165  loss_rpn_cls: 0.003  loss_rpn_loc: 0.043  time: 0.3688  data_time: 0.0002  lr: 0.000062  max_mem: 8391M\n",
      "\u001b[32m[04/06 21:44:13 d2.utils.events]: \u001b[0m eta: 0:16:31  iter: 24739  total_loss: 0.508  loss_cls: 0.081  loss_box_reg: 0.164  loss_mask: 0.147  loss_rpn_cls: 0.002  loss_rpn_loc: 0.055  time: 0.3688  data_time: 0.0002  lr: 0.000061  max_mem: 8391M\n",
      "\u001b[32m[04/06 21:44:20 d2.utils.events]: \u001b[0m eta: 0:16:23  iter: 24759  total_loss: 0.576  loss_cls: 0.105  loss_box_reg: 0.181  loss_mask: 0.180  loss_rpn_cls: 0.009  loss_rpn_loc: 0.073  time: 0.3688  data_time: 0.0003  lr: 0.000060  max_mem: 8391M\n",
      "\u001b[32m[04/06 21:44:27 d2.utils.events]: \u001b[0m eta: 0:16:16  iter: 24779  total_loss: 0.698  loss_cls: 0.118  loss_box_reg: 0.269  loss_mask: 0.247  loss_rpn_cls: 0.004  loss_rpn_loc: 0.067  time: 0.3688  data_time: 0.0002  lr: 0.000059  max_mem: 8391M\n",
      "\u001b[32m[04/06 21:44:35 d2.utils.events]: \u001b[0m eta: 0:16:09  iter: 24799  total_loss: 0.615  loss_cls: 0.079  loss_box_reg: 0.202  loss_mask: 0.194  loss_rpn_cls: 0.003  loss_rpn_loc: 0.072  time: 0.3688  data_time: 0.0002  lr: 0.000058  max_mem: 8391M\n",
      "\u001b[32m[04/06 21:44:42 d2.utils.events]: \u001b[0m eta: 0:16:02  iter: 24819  total_loss: 0.746  loss_cls: 0.158  loss_box_reg: 0.260  loss_mask: 0.209  loss_rpn_cls: 0.006  loss_rpn_loc: 0.096  time: 0.3688  data_time: 0.0003  lr: 0.000057  max_mem: 8391M\n",
      "\u001b[32m[04/06 21:44:49 d2.utils.events]: \u001b[0m eta: 0:15:55  iter: 24839  total_loss: 0.661  loss_cls: 0.135  loss_box_reg: 0.221  loss_mask: 0.208  loss_rpn_cls: 0.004  loss_rpn_loc: 0.078  time: 0.3688  data_time: 0.0003  lr: 0.000057  max_mem: 8391M\n",
      "\u001b[32m[04/06 21:44:57 d2.utils.events]: \u001b[0m eta: 0:15:47  iter: 24859  total_loss: 0.403  loss_cls: 0.063  loss_box_reg: 0.158  loss_mask: 0.142  loss_rpn_cls: 0.001  loss_rpn_loc: 0.044  time: 0.3688  data_time: 0.0002  lr: 0.000056  max_mem: 8391M\n",
      "\u001b[32m[04/06 21:45:04 d2.utils.events]: \u001b[0m eta: 0:15:40  iter: 24879  total_loss: 0.562  loss_cls: 0.072  loss_box_reg: 0.191  loss_mask: 0.187  loss_rpn_cls: 0.009  loss_rpn_loc: 0.061  time: 0.3688  data_time: 0.0002  lr: 0.000055  max_mem: 8391M\n",
      "\u001b[32m[04/06 21:45:12 d2.utils.events]: \u001b[0m eta: 0:15:33  iter: 24899  total_loss: 0.714  loss_cls: 0.139  loss_box_reg: 0.272  loss_mask: 0.226  loss_rpn_cls: 0.004  loss_rpn_loc: 0.084  time: 0.3688  data_time: 0.0003  lr: 0.000054  max_mem: 8391M\n",
      "\u001b[32m[04/06 21:45:19 d2.utils.events]: \u001b[0m eta: 0:15:27  iter: 24919  total_loss: 0.562  loss_cls: 0.096  loss_box_reg: 0.200  loss_mask: 0.178  loss_rpn_cls: 0.005  loss_rpn_loc: 0.070  time: 0.3688  data_time: 0.0002  lr: 0.000053  max_mem: 8391M\n",
      "\u001b[32m[04/06 21:45:26 d2.utils.events]: \u001b[0m eta: 0:15:20  iter: 24939  total_loss: 0.703  loss_cls: 0.127  loss_box_reg: 0.236  loss_mask: 0.209  loss_rpn_cls: 0.010  loss_rpn_loc: 0.097  time: 0.3688  data_time: 0.0003  lr: 0.000052  max_mem: 8391M\n",
      "\u001b[32m[04/06 21:45:33 d2.utils.events]: \u001b[0m eta: 0:15:12  iter: 24959  total_loss: 0.505  loss_cls: 0.093  loss_box_reg: 0.174  loss_mask: 0.163  loss_rpn_cls: 0.005  loss_rpn_loc: 0.066  time: 0.3688  data_time: 0.0003  lr: 0.000052  max_mem: 8391M\n",
      "\u001b[32m[04/06 21:45:41 d2.utils.events]: \u001b[0m eta: 0:15:05  iter: 24979  total_loss: 0.627  loss_cls: 0.111  loss_box_reg: 0.244  loss_mask: 0.191  loss_rpn_cls: 0.013  loss_rpn_loc: 0.073  time: 0.3688  data_time: 0.0003  lr: 0.000051  max_mem: 8391M\n",
      "\u001b[32m[04/06 21:45:52 d2.utils.events]: \u001b[0m eta: 0:14:59  iter: 24999  total_loss: 0.600  loss_cls: 0.088  loss_box_reg: 0.203  loss_mask: 0.204  loss_rpn_cls: 0.006  loss_rpn_loc: 0.079  time: 0.3688  data_time: 0.0003  lr: 0.000050  max_mem: 8391M\n",
      "\u001b[32m[04/06 21:45:59 d2.utils.events]: \u001b[0m eta: 0:14:50  iter: 25019  total_loss: 0.695  loss_cls: 0.110  loss_box_reg: 0.268  loss_mask: 0.221  loss_rpn_cls: 0.009  loss_rpn_loc: 0.093  time: 0.3688  data_time: 0.0003  lr: 0.000049  max_mem: 8391M\n",
      "\u001b[32m[04/06 21:46:07 d2.utils.events]: \u001b[0m eta: 0:14:44  iter: 25039  total_loss: 0.806  loss_cls: 0.137  loss_box_reg: 0.257  loss_mask: 0.221  loss_rpn_cls: 0.015  loss_rpn_loc: 0.098  time: 0.3688  data_time: 0.0003  lr: 0.000048  max_mem: 8391M\n",
      "\u001b[32m[04/06 21:46:14 d2.utils.events]: \u001b[0m eta: 0:14:36  iter: 25059  total_loss: 0.511  loss_cls: 0.088  loss_box_reg: 0.177  loss_mask: 0.191  loss_rpn_cls: 0.005  loss_rpn_loc: 0.060  time: 0.3688  data_time: 0.0003  lr: 0.000048  max_mem: 8391M\n",
      "\u001b[32m[04/06 21:46:21 d2.utils.events]: \u001b[0m eta: 0:14:30  iter: 25079  total_loss: 0.506  loss_cls: 0.081  loss_box_reg: 0.152  loss_mask: 0.154  loss_rpn_cls: 0.004  loss_rpn_loc: 0.054  time: 0.3688  data_time: 0.0003  lr: 0.000047  max_mem: 8391M\n"
     ]
    },
    {
     "name": "stdout",
     "output_type": "stream",
     "text": [
      "\u001b[32m[04/06 21:46:29 d2.utils.events]: \u001b[0m eta: 0:14:22  iter: 25099  total_loss: 0.523  loss_cls: 0.077  loss_box_reg: 0.199  loss_mask: 0.184  loss_rpn_cls: 0.008  loss_rpn_loc: 0.058  time: 0.3688  data_time: 0.0003  lr: 0.000046  max_mem: 8391M\n",
      "\u001b[32m[04/06 21:46:36 d2.utils.events]: \u001b[0m eta: 0:14:15  iter: 25119  total_loss: 0.695  loss_cls: 0.111  loss_box_reg: 0.259  loss_mask: 0.210  loss_rpn_cls: 0.011  loss_rpn_loc: 0.080  time: 0.3688  data_time: 0.0003  lr: 0.000045  max_mem: 8391M\n",
      "\u001b[32m[04/06 21:46:44 d2.utils.events]: \u001b[0m eta: 0:14:09  iter: 25139  total_loss: 0.770  loss_cls: 0.156  loss_box_reg: 0.256  loss_mask: 0.221  loss_rpn_cls: 0.009  loss_rpn_loc: 0.097  time: 0.3688  data_time: 0.0003  lr: 0.000044  max_mem: 8391M\n",
      "\u001b[32m[04/06 21:46:51 d2.utils.events]: \u001b[0m eta: 0:14:00  iter: 25159  total_loss: 0.414  loss_cls: 0.062  loss_box_reg: 0.152  loss_mask: 0.140  loss_rpn_cls: 0.002  loss_rpn_loc: 0.045  time: 0.3688  data_time: 0.0003  lr: 0.000044  max_mem: 8391M\n",
      "\u001b[32m[04/06 21:46:58 d2.utils.events]: \u001b[0m eta: 0:13:53  iter: 25179  total_loss: 0.548  loss_cls: 0.101  loss_box_reg: 0.203  loss_mask: 0.188  loss_rpn_cls: 0.003  loss_rpn_loc: 0.055  time: 0.3688  data_time: 0.0003  lr: 0.000043  max_mem: 8391M\n",
      "\u001b[32m[04/06 21:47:05 d2.utils.events]: \u001b[0m eta: 0:13:46  iter: 25199  total_loss: 0.605  loss_cls: 0.102  loss_box_reg: 0.215  loss_mask: 0.200  loss_rpn_cls: 0.004  loss_rpn_loc: 0.064  time: 0.3688  data_time: 0.0003  lr: 0.000042  max_mem: 8391M\n",
      "\u001b[32m[04/06 21:47:13 d2.utils.events]: \u001b[0m eta: 0:13:38  iter: 25219  total_loss: 0.877  loss_cls: 0.146  loss_box_reg: 0.300  loss_mask: 0.207  loss_rpn_cls: 0.015  loss_rpn_loc: 0.122  time: 0.3688  data_time: 0.0003  lr: 0.000042  max_mem: 8391M\n",
      "\u001b[32m[04/06 21:47:20 d2.utils.events]: \u001b[0m eta: 0:13:31  iter: 25239  total_loss: 0.495  loss_cls: 0.101  loss_box_reg: 0.199  loss_mask: 0.157  loss_rpn_cls: 0.003  loss_rpn_loc: 0.072  time: 0.3687  data_time: 0.0002  lr: 0.000041  max_mem: 8391M\n",
      "\u001b[32m[04/06 21:47:27 d2.utils.events]: \u001b[0m eta: 0:13:24  iter: 25259  total_loss: 0.471  loss_cls: 0.066  loss_box_reg: 0.200  loss_mask: 0.168  loss_rpn_cls: 0.004  loss_rpn_loc: 0.058  time: 0.3687  data_time: 0.0003  lr: 0.000040  max_mem: 8391M\n",
      "\u001b[32m[04/06 21:47:35 d2.utils.events]: \u001b[0m eta: 0:13:17  iter: 25279  total_loss: 0.459  loss_cls: 0.073  loss_box_reg: 0.183  loss_mask: 0.154  loss_rpn_cls: 0.005  loss_rpn_loc: 0.048  time: 0.3687  data_time: 0.0002  lr: 0.000039  max_mem: 8391M\n",
      "\u001b[32m[04/06 21:47:42 d2.utils.events]: \u001b[0m eta: 0:13:09  iter: 25299  total_loss: 0.612  loss_cls: 0.110  loss_box_reg: 0.238  loss_mask: 0.177  loss_rpn_cls: 0.004  loss_rpn_loc: 0.077  time: 0.3687  data_time: 0.0003  lr: 0.000039  max_mem: 8391M\n",
      "\u001b[32m[04/06 21:47:49 d2.utils.events]: \u001b[0m eta: 0:13:03  iter: 25319  total_loss: 0.731  loss_cls: 0.120  loss_box_reg: 0.283  loss_mask: 0.229  loss_rpn_cls: 0.017  loss_rpn_loc: 0.098  time: 0.3687  data_time: 0.0003  lr: 0.000038  max_mem: 8391M\n",
      "\u001b[32m[04/06 21:47:56 d2.utils.events]: \u001b[0m eta: 0:12:56  iter: 25339  total_loss: 0.531  loss_cls: 0.084  loss_box_reg: 0.183  loss_mask: 0.159  loss_rpn_cls: 0.005  loss_rpn_loc: 0.050  time: 0.3687  data_time: 0.0002  lr: 0.000037  max_mem: 8391M\n",
      "\u001b[32m[04/06 21:48:04 d2.utils.events]: \u001b[0m eta: 0:12:48  iter: 25359  total_loss: 0.471  loss_cls: 0.083  loss_box_reg: 0.187  loss_mask: 0.159  loss_rpn_cls: 0.010  loss_rpn_loc: 0.050  time: 0.3687  data_time: 0.0003  lr: 0.000037  max_mem: 8391M\n",
      "\u001b[32m[04/06 21:48:11 d2.utils.events]: \u001b[0m eta: 0:12:41  iter: 25379  total_loss: 0.645  loss_cls: 0.101  loss_box_reg: 0.214  loss_mask: 0.208  loss_rpn_cls: 0.006  loss_rpn_loc: 0.065  time: 0.3687  data_time: 0.0003  lr: 0.000036  max_mem: 8391M\n",
      "\u001b[32m[04/06 21:48:18 d2.utils.events]: \u001b[0m eta: 0:12:34  iter: 25399  total_loss: 0.552  loss_cls: 0.098  loss_box_reg: 0.199  loss_mask: 0.181  loss_rpn_cls: 0.009  loss_rpn_loc: 0.056  time: 0.3687  data_time: 0.0003  lr: 0.000035  max_mem: 8391M\n",
      "\u001b[32m[04/06 21:48:26 d2.utils.events]: \u001b[0m eta: 0:12:27  iter: 25419  total_loss: 0.576  loss_cls: 0.094  loss_box_reg: 0.196  loss_mask: 0.199  loss_rpn_cls: 0.006  loss_rpn_loc: 0.100  time: 0.3687  data_time: 0.0003  lr: 0.000035  max_mem: 8391M\n",
      "\u001b[32m[04/06 21:48:33 d2.utils.events]: \u001b[0m eta: 0:12:19  iter: 25439  total_loss: 0.522  loss_cls: 0.092  loss_box_reg: 0.210  loss_mask: 0.182  loss_rpn_cls: 0.006  loss_rpn_loc: 0.058  time: 0.3687  data_time: 0.0003  lr: 0.000034  max_mem: 8391M\n",
      "\u001b[32m[04/06 21:48:40 d2.utils.events]: \u001b[0m eta: 0:12:12  iter: 25459  total_loss: 0.532  loss_cls: 0.067  loss_box_reg: 0.194  loss_mask: 0.158  loss_rpn_cls: 0.003  loss_rpn_loc: 0.040  time: 0.3687  data_time: 0.0003  lr: 0.000033  max_mem: 8391M\n",
      "\u001b[32m[04/06 21:48:48 d2.utils.events]: \u001b[0m eta: 0:12:05  iter: 25479  total_loss: 0.564  loss_cls: 0.100  loss_box_reg: 0.214  loss_mask: 0.164  loss_rpn_cls: 0.007  loss_rpn_loc: 0.073  time: 0.3687  data_time: 0.0003  lr: 0.000033  max_mem: 8391M\n",
      "\u001b[32m[04/06 21:48:55 d2.utils.events]: \u001b[0m eta: 0:11:58  iter: 25499  total_loss: 0.558  loss_cls: 0.083  loss_box_reg: 0.195  loss_mask: 0.182  loss_rpn_cls: 0.004  loss_rpn_loc: 0.054  time: 0.3687  data_time: 0.0003  lr: 0.000032  max_mem: 8391M\n",
      "\u001b[32m[04/06 21:49:03 d2.utils.events]: \u001b[0m eta: 0:11:51  iter: 25519  total_loss: 0.454  loss_cls: 0.064  loss_box_reg: 0.161  loss_mask: 0.142  loss_rpn_cls: 0.003  loss_rpn_loc: 0.048  time: 0.3687  data_time: 0.0002  lr: 0.000031  max_mem: 8391M\n",
      "\u001b[32m[04/06 21:49:10 d2.utils.events]: \u001b[0m eta: 0:11:44  iter: 25539  total_loss: 0.517  loss_cls: 0.099  loss_box_reg: 0.178  loss_mask: 0.158  loss_rpn_cls: 0.003  loss_rpn_loc: 0.048  time: 0.3687  data_time: 0.0003  lr: 0.000031  max_mem: 8391M\n",
      "\u001b[32m[04/06 21:49:18 d2.utils.events]: \u001b[0m eta: 0:11:38  iter: 25559  total_loss: 0.695  loss_cls: 0.137  loss_box_reg: 0.251  loss_mask: 0.219  loss_rpn_cls: 0.005  loss_rpn_loc: 0.082  time: 0.3687  data_time: 0.0003  lr: 0.000030  max_mem: 8391M\n",
      "\u001b[32m[04/06 21:49:25 d2.utils.events]: \u001b[0m eta: 0:11:30  iter: 25579  total_loss: 0.438  loss_cls: 0.069  loss_box_reg: 0.173  loss_mask: 0.143  loss_rpn_cls: 0.002  loss_rpn_loc: 0.053  time: 0.3687  data_time: 0.0003  lr: 0.000029  max_mem: 8391M\n",
      "\u001b[32m[04/06 21:49:32 d2.utils.events]: \u001b[0m eta: 0:11:22  iter: 25599  total_loss: 0.696  loss_cls: 0.140  loss_box_reg: 0.241  loss_mask: 0.194  loss_rpn_cls: 0.006  loss_rpn_loc: 0.093  time: 0.3687  data_time: 0.0003  lr: 0.000029  max_mem: 8391M\n",
      "\u001b[32m[04/06 21:49:39 d2.utils.events]: \u001b[0m eta: 0:11:15  iter: 25619  total_loss: 0.594  loss_cls: 0.092  loss_box_reg: 0.200  loss_mask: 0.183  loss_rpn_cls: 0.003  loss_rpn_loc: 0.061  time: 0.3687  data_time: 0.0002  lr: 0.000028  max_mem: 8391M\n",
      "\u001b[32m[04/06 21:49:47 d2.utils.events]: \u001b[0m eta: 0:11:07  iter: 25639  total_loss: 0.507  loss_cls: 0.080  loss_box_reg: 0.172  loss_mask: 0.165  loss_rpn_cls: 0.003  loss_rpn_loc: 0.060  time: 0.3687  data_time: 0.0003  lr: 0.000028  max_mem: 8391M\n",
      "\u001b[32m[04/06 21:49:54 d2.utils.events]: \u001b[0m eta: 0:10:59  iter: 25659  total_loss: 0.508  loss_cls: 0.081  loss_box_reg: 0.182  loss_mask: 0.153  loss_rpn_cls: 0.004  loss_rpn_loc: 0.052  time: 0.3687  data_time: 0.0002  lr: 0.000027  max_mem: 8391M\n",
      "\u001b[32m[04/06 21:50:01 d2.utils.events]: \u001b[0m eta: 0:10:52  iter: 25679  total_loss: 0.789  loss_cls: 0.160  loss_box_reg: 0.270  loss_mask: 0.247  loss_rpn_cls: 0.016  loss_rpn_loc: 0.121  time: 0.3687  data_time: 0.0003  lr: 0.000026  max_mem: 8391M\n",
      "\u001b[32m[04/06 21:50:08 d2.utils.events]: \u001b[0m eta: 0:10:44  iter: 25699  total_loss: 0.569  loss_cls: 0.086  loss_box_reg: 0.188  loss_mask: 0.166  loss_rpn_cls: 0.007  loss_rpn_loc: 0.049  time: 0.3687  data_time: 0.0003  lr: 0.000026  max_mem: 8391M\n",
      "\u001b[32m[04/06 21:50:16 d2.utils.events]: \u001b[0m eta: 0:10:37  iter: 25719  total_loss: 0.520  loss_cls: 0.096  loss_box_reg: 0.189  loss_mask: 0.170  loss_rpn_cls: 0.005  loss_rpn_loc: 0.064  time: 0.3687  data_time: 0.0003  lr: 0.000025  max_mem: 8391M\n",
      "\u001b[32m[04/06 21:50:23 d2.utils.events]: \u001b[0m eta: 0:10:30  iter: 25739  total_loss: 0.727  loss_cls: 0.116  loss_box_reg: 0.232  loss_mask: 0.198  loss_rpn_cls: 0.007  loss_rpn_loc: 0.093  time: 0.3687  data_time: 0.0003  lr: 0.000025  max_mem: 8391M\n"
     ]
    },
    {
     "name": "stdout",
     "output_type": "stream",
     "text": [
      "\u001b[32m[04/06 21:50:31 d2.utils.events]: \u001b[0m eta: 0:10:23  iter: 25759  total_loss: 0.738  loss_cls: 0.143  loss_box_reg: 0.269  loss_mask: 0.199  loss_rpn_cls: 0.003  loss_rpn_loc: 0.090  time: 0.3687  data_time: 0.0003  lr: 0.000024  max_mem: 8391M\n",
      "\u001b[32m[04/06 21:50:38 d2.utils.events]: \u001b[0m eta: 0:10:16  iter: 25779  total_loss: 0.458  loss_cls: 0.084  loss_box_reg: 0.164  loss_mask: 0.155  loss_rpn_cls: 0.003  loss_rpn_loc: 0.060  time: 0.3687  data_time: 0.0003  lr: 0.000024  max_mem: 8391M\n",
      "\u001b[32m[04/06 21:50:45 d2.utils.events]: \u001b[0m eta: 0:10:09  iter: 25799  total_loss: 0.648  loss_cls: 0.109  loss_box_reg: 0.228  loss_mask: 0.218  loss_rpn_cls: 0.010  loss_rpn_loc: 0.092  time: 0.3687  data_time: 0.0002  lr: 0.000023  max_mem: 8391M\n",
      "\u001b[32m[04/06 21:50:53 d2.utils.events]: \u001b[0m eta: 0:10:02  iter: 25819  total_loss: 0.612  loss_cls: 0.083  loss_box_reg: 0.187  loss_mask: 0.185  loss_rpn_cls: 0.005  loss_rpn_loc: 0.054  time: 0.3687  data_time: 0.0003  lr: 0.000022  max_mem: 8391M\n",
      "\u001b[32m[04/06 21:51:00 d2.utils.events]: \u001b[0m eta: 0:09:54  iter: 25839  total_loss: 0.631  loss_cls: 0.105  loss_box_reg: 0.240  loss_mask: 0.200  loss_rpn_cls: 0.003  loss_rpn_loc: 0.081  time: 0.3687  data_time: 0.0003  lr: 0.000022  max_mem: 8391M\n",
      "\u001b[32m[04/06 21:51:08 d2.utils.events]: \u001b[0m eta: 0:09:47  iter: 25859  total_loss: 0.587  loss_cls: 0.110  loss_box_reg: 0.207  loss_mask: 0.191  loss_rpn_cls: 0.009  loss_rpn_loc: 0.067  time: 0.3687  data_time: 0.0003  lr: 0.000021  max_mem: 8391M\n",
      "\u001b[32m[04/06 21:51:15 d2.utils.events]: \u001b[0m eta: 0:09:40  iter: 25879  total_loss: 0.773  loss_cls: 0.158  loss_box_reg: 0.230  loss_mask: 0.246  loss_rpn_cls: 0.007  loss_rpn_loc: 0.093  time: 0.3687  data_time: 0.0003  lr: 0.000021  max_mem: 8391M\n",
      "\u001b[32m[04/06 21:51:22 d2.utils.events]: \u001b[0m eta: 0:09:33  iter: 25899  total_loss: 0.618  loss_cls: 0.085  loss_box_reg: 0.239  loss_mask: 0.225  loss_rpn_cls: 0.008  loss_rpn_loc: 0.058  time: 0.3687  data_time: 0.0002  lr: 0.000020  max_mem: 8391M\n",
      "\u001b[32m[04/06 21:51:30 d2.utils.events]: \u001b[0m eta: 0:09:25  iter: 25919  total_loss: 0.432  loss_cls: 0.076  loss_box_reg: 0.174  loss_mask: 0.153  loss_rpn_cls: 0.004  loss_rpn_loc: 0.042  time: 0.3687  data_time: 0.0003  lr: 0.000020  max_mem: 8391M\n",
      "\u001b[32m[04/06 21:51:37 d2.utils.events]: \u001b[0m eta: 0:09:18  iter: 25939  total_loss: 0.687  loss_cls: 0.128  loss_box_reg: 0.264  loss_mask: 0.215  loss_rpn_cls: 0.004  loss_rpn_loc: 0.075  time: 0.3687  data_time: 0.0003  lr: 0.000019  max_mem: 8391M\n",
      "\u001b[32m[04/06 21:51:44 d2.utils.events]: \u001b[0m eta: 0:09:10  iter: 25959  total_loss: 0.698  loss_cls: 0.132  loss_box_reg: 0.250  loss_mask: 0.216  loss_rpn_cls: 0.014  loss_rpn_loc: 0.106  time: 0.3687  data_time: 0.0003  lr: 0.000019  max_mem: 8391M\n",
      "\u001b[32m[04/06 21:51:52 d2.utils.events]: \u001b[0m eta: 0:09:03  iter: 25979  total_loss: 0.453  loss_cls: 0.082  loss_box_reg: 0.149  loss_mask: 0.147  loss_rpn_cls: 0.003  loss_rpn_loc: 0.073  time: 0.3687  data_time: 0.0003  lr: 0.000018  max_mem: 8391M\n",
      "\u001b[32m[04/06 21:51:59 d2.utils.events]: \u001b[0m eta: 0:08:56  iter: 25999  total_loss: 0.437  loss_cls: 0.085  loss_box_reg: 0.162  loss_mask: 0.151  loss_rpn_cls: 0.003  loss_rpn_loc: 0.056  time: 0.3687  data_time: 0.0003  lr: 0.000018  max_mem: 8391M\n",
      "\u001b[32m[04/06 21:52:06 d2.utils.events]: \u001b[0m eta: 0:08:48  iter: 26019  total_loss: 0.543  loss_cls: 0.087  loss_box_reg: 0.211  loss_mask: 0.201  loss_rpn_cls: 0.008  loss_rpn_loc: 0.076  time: 0.3687  data_time: 0.0003  lr: 0.000017  max_mem: 8391M\n",
      "\u001b[32m[04/06 21:52:14 d2.utils.events]: \u001b[0m eta: 0:08:41  iter: 26039  total_loss: 0.709  loss_cls: 0.133  loss_box_reg: 0.249  loss_mask: 0.213  loss_rpn_cls: 0.014  loss_rpn_loc: 0.082  time: 0.3687  data_time: 0.0003  lr: 0.000017  max_mem: 8391M\n",
      "\u001b[32m[04/06 21:52:21 d2.utils.events]: \u001b[0m eta: 0:08:34  iter: 26059  total_loss: 0.566  loss_cls: 0.117  loss_box_reg: 0.186  loss_mask: 0.167  loss_rpn_cls: 0.003  loss_rpn_loc: 0.070  time: 0.3687  data_time: 0.0003  lr: 0.000016  max_mem: 8391M\n",
      "\u001b[32m[04/06 21:52:28 d2.utils.events]: \u001b[0m eta: 0:08:26  iter: 26079  total_loss: 0.544  loss_cls: 0.086  loss_box_reg: 0.176  loss_mask: 0.152  loss_rpn_cls: 0.008  loss_rpn_loc: 0.057  time: 0.3687  data_time: 0.0003  lr: 0.000016  max_mem: 8391M\n",
      "\u001b[32m[04/06 21:52:35 d2.utils.events]: \u001b[0m eta: 0:08:19  iter: 26099  total_loss: 0.609  loss_cls: 0.116  loss_box_reg: 0.218  loss_mask: 0.197  loss_rpn_cls: 0.008  loss_rpn_loc: 0.098  time: 0.3686  data_time: 0.0003  lr: 0.000016  max_mem: 8391M\n",
      "\u001b[32m[04/06 21:52:43 d2.utils.events]: \u001b[0m eta: 0:08:12  iter: 26119  total_loss: 0.535  loss_cls: 0.102  loss_box_reg: 0.197  loss_mask: 0.187  loss_rpn_cls: 0.002  loss_rpn_loc: 0.071  time: 0.3686  data_time: 0.0002  lr: 0.000015  max_mem: 8391M\n",
      "\u001b[32m[04/06 21:52:50 d2.utils.events]: \u001b[0m eta: 0:08:04  iter: 26139  total_loss: 0.560  loss_cls: 0.092  loss_box_reg: 0.216  loss_mask: 0.180  loss_rpn_cls: 0.003  loss_rpn_loc: 0.056  time: 0.3687  data_time: 0.0003  lr: 0.000015  max_mem: 8391M\n",
      "\u001b[32m[04/06 21:52:58 d2.utils.events]: \u001b[0m eta: 0:07:57  iter: 26159  total_loss: 0.776  loss_cls: 0.110  loss_box_reg: 0.247  loss_mask: 0.246  loss_rpn_cls: 0.004  loss_rpn_loc: 0.087  time: 0.3687  data_time: 0.0003  lr: 0.000014  max_mem: 8391M\n",
      "\u001b[32m[04/06 21:53:05 d2.utils.events]: \u001b[0m eta: 0:07:50  iter: 26179  total_loss: 0.420  loss_cls: 0.056  loss_box_reg: 0.155  loss_mask: 0.152  loss_rpn_cls: 0.001  loss_rpn_loc: 0.059  time: 0.3687  data_time: 0.0003  lr: 0.000014  max_mem: 8391M\n",
      "\u001b[32m[04/06 21:53:12 d2.utils.events]: \u001b[0m eta: 0:07:43  iter: 26199  total_loss: 0.686  loss_cls: 0.134  loss_box_reg: 0.232  loss_mask: 0.212  loss_rpn_cls: 0.008  loss_rpn_loc: 0.092  time: 0.3687  data_time: 0.0003  lr: 0.000013  max_mem: 8391M\n",
      "\u001b[32m[04/06 21:53:20 d2.utils.events]: \u001b[0m eta: 0:07:36  iter: 26219  total_loss: 0.652  loss_cls: 0.105  loss_box_reg: 0.237  loss_mask: 0.209  loss_rpn_cls: 0.006  loss_rpn_loc: 0.074  time: 0.3687  data_time: 0.0003  lr: 0.000013  max_mem: 8391M\n",
      "\u001b[32m[04/06 21:53:27 d2.utils.events]: \u001b[0m eta: 0:07:29  iter: 26239  total_loss: 0.792  loss_cls: 0.139  loss_box_reg: 0.300  loss_mask: 0.230  loss_rpn_cls: 0.004  loss_rpn_loc: 0.094  time: 0.3687  data_time: 0.0003  lr: 0.000013  max_mem: 8391M\n",
      "\u001b[32m[04/06 21:53:35 d2.utils.events]: \u001b[0m eta: 0:07:22  iter: 26259  total_loss: 0.658  loss_cls: 0.109  loss_box_reg: 0.217  loss_mask: 0.205  loss_rpn_cls: 0.008  loss_rpn_loc: 0.068  time: 0.3687  data_time: 0.0002  lr: 0.000012  max_mem: 8391M\n",
      "\u001b[32m[04/06 21:53:42 d2.utils.events]: \u001b[0m eta: 0:07:15  iter: 26279  total_loss: 0.557  loss_cls: 0.076  loss_box_reg: 0.234  loss_mask: 0.190  loss_rpn_cls: 0.005  loss_rpn_loc: 0.043  time: 0.3687  data_time: 0.0002  lr: 0.000012  max_mem: 8391M\n",
      "\u001b[32m[04/06 21:53:49 d2.utils.events]: \u001b[0m eta: 0:07:07  iter: 26299  total_loss: 0.667  loss_cls: 0.108  loss_box_reg: 0.265  loss_mask: 0.220  loss_rpn_cls: 0.005  loss_rpn_loc: 0.075  time: 0.3687  data_time: 0.0003  lr: 0.000011  max_mem: 8391M\n",
      "\u001b[32m[04/06 21:53:57 d2.utils.events]: \u001b[0m eta: 0:06:59  iter: 26319  total_loss: 0.479  loss_cls: 0.082  loss_box_reg: 0.184  loss_mask: 0.151  loss_rpn_cls: 0.003  loss_rpn_loc: 0.055  time: 0.3687  data_time: 0.0003  lr: 0.000011  max_mem: 8391M\n",
      "\u001b[32m[04/06 21:54:04 d2.utils.events]: \u001b[0m eta: 0:06:52  iter: 26339  total_loss: 0.559  loss_cls: 0.075  loss_box_reg: 0.212  loss_mask: 0.194  loss_rpn_cls: 0.001  loss_rpn_loc: 0.067  time: 0.3687  data_time: 0.0003  lr: 0.000011  max_mem: 8391M\n",
      "\u001b[32m[04/06 21:54:12 d2.utils.events]: \u001b[0m eta: 0:06:46  iter: 26359  total_loss: 0.660  loss_cls: 0.118  loss_box_reg: 0.262  loss_mask: 0.206  loss_rpn_cls: 0.006  loss_rpn_loc: 0.098  time: 0.3687  data_time: 0.0003  lr: 0.000010  max_mem: 8391M\n",
      "\u001b[32m[04/06 21:54:19 d2.utils.events]: \u001b[0m eta: 0:06:39  iter: 26379  total_loss: 0.697  loss_cls: 0.118  loss_box_reg: 0.246  loss_mask: 0.208  loss_rpn_cls: 0.010  loss_rpn_loc: 0.090  time: 0.3687  data_time: 0.0003  lr: 0.000010  max_mem: 8391M\n",
      "\u001b[32m[04/06 21:54:27 d2.utils.events]: \u001b[0m eta: 0:06:31  iter: 26399  total_loss: 0.614  loss_cls: 0.113  loss_box_reg: 0.212  loss_mask: 0.197  loss_rpn_cls: 0.003  loss_rpn_loc: 0.084  time: 0.3687  data_time: 0.0003  lr: 0.000010  max_mem: 8391M\n"
     ]
    },
    {
     "name": "stdout",
     "output_type": "stream",
     "text": [
      "\u001b[32m[04/06 21:54:34 d2.utils.events]: \u001b[0m eta: 0:06:24  iter: 26419  total_loss: 0.510  loss_cls: 0.094  loss_box_reg: 0.188  loss_mask: 0.188  loss_rpn_cls: 0.003  loss_rpn_loc: 0.060  time: 0.3687  data_time: 0.0003  lr: 0.000009  max_mem: 8391M\n",
      "\u001b[32m[04/06 21:54:42 d2.utils.events]: \u001b[0m eta: 0:06:17  iter: 26439  total_loss: 0.719  loss_cls: 0.125  loss_box_reg: 0.184  loss_mask: 0.209  loss_rpn_cls: 0.009  loss_rpn_loc: 0.092  time: 0.3687  data_time: 0.0003  lr: 0.000009  max_mem: 8391M\n",
      "\u001b[32m[04/06 21:54:49 d2.utils.events]: \u001b[0m eta: 0:06:09  iter: 26459  total_loss: 0.573  loss_cls: 0.089  loss_box_reg: 0.185  loss_mask: 0.165  loss_rpn_cls: 0.003  loss_rpn_loc: 0.054  time: 0.3687  data_time: 0.0003  lr: 0.000009  max_mem: 8391M\n",
      "\u001b[32m[04/06 21:54:56 d2.utils.events]: \u001b[0m eta: 0:06:02  iter: 26479  total_loss: 0.399  loss_cls: 0.081  loss_box_reg: 0.144  loss_mask: 0.140  loss_rpn_cls: 0.001  loss_rpn_loc: 0.052  time: 0.3687  data_time: 0.0002  lr: 0.000008  max_mem: 8391M\n",
      "\u001b[32m[04/06 21:55:04 d2.utils.events]: \u001b[0m eta: 0:05:55  iter: 26499  total_loss: 0.443  loss_cls: 0.070  loss_box_reg: 0.164  loss_mask: 0.149  loss_rpn_cls: 0.002  loss_rpn_loc: 0.054  time: 0.3687  data_time: 0.0002  lr: 0.000008  max_mem: 8391M\n",
      "\u001b[32m[04/06 21:55:11 d2.utils.events]: \u001b[0m eta: 0:05:47  iter: 26519  total_loss: 0.900  loss_cls: 0.173  loss_box_reg: 0.319  loss_mask: 0.248  loss_rpn_cls: 0.009  loss_rpn_loc: 0.105  time: 0.3687  data_time: 0.0003  lr: 0.000008  max_mem: 8391M\n",
      "\u001b[32m[04/06 21:55:19 d2.utils.events]: \u001b[0m eta: 0:05:40  iter: 26539  total_loss: 0.687  loss_cls: 0.126  loss_box_reg: 0.222  loss_mask: 0.215  loss_rpn_cls: 0.006  loss_rpn_loc: 0.073  time: 0.3687  data_time: 0.0003  lr: 0.000007  max_mem: 8391M\n",
      "\u001b[32m[04/06 21:55:26 d2.utils.events]: \u001b[0m eta: 0:05:33  iter: 26559  total_loss: 0.772  loss_cls: 0.150  loss_box_reg: 0.302  loss_mask: 0.235  loss_rpn_cls: 0.006  loss_rpn_loc: 0.091  time: 0.3687  data_time: 0.0002  lr: 0.000007  max_mem: 8391M\n",
      "\u001b[32m[04/06 21:55:33 d2.utils.events]: \u001b[0m eta: 0:05:26  iter: 26579  total_loss: 0.530  loss_cls: 0.084  loss_box_reg: 0.186  loss_mask: 0.189  loss_rpn_cls: 0.005  loss_rpn_loc: 0.071  time: 0.3687  data_time: 0.0002  lr: 0.000007  max_mem: 8391M\n",
      "\u001b[32m[04/06 21:55:41 d2.utils.events]: \u001b[0m eta: 0:05:18  iter: 26599  total_loss: 0.526  loss_cls: 0.090  loss_box_reg: 0.178  loss_mask: 0.183  loss_rpn_cls: 0.010  loss_rpn_loc: 0.063  time: 0.3687  data_time: 0.0003  lr: 0.000006  max_mem: 8391M\n",
      "\u001b[32m[04/06 21:55:48 d2.utils.events]: \u001b[0m eta: 0:05:11  iter: 26619  total_loss: 0.655  loss_cls: 0.110  loss_box_reg: 0.218  loss_mask: 0.184  loss_rpn_cls: 0.012  loss_rpn_loc: 0.085  time: 0.3687  data_time: 0.0003  lr: 0.000006  max_mem: 8391M\n",
      "\u001b[32m[04/06 21:55:55 d2.utils.events]: \u001b[0m eta: 0:05:04  iter: 26639  total_loss: 0.531  loss_cls: 0.084  loss_box_reg: 0.187  loss_mask: 0.165  loss_rpn_cls: 0.003  loss_rpn_loc: 0.062  time: 0.3687  data_time: 0.0002  lr: 0.000006  max_mem: 8391M\n",
      "\u001b[32m[04/06 21:56:02 d2.utils.events]: \u001b[0m eta: 0:04:56  iter: 26659  total_loss: 0.681  loss_cls: 0.137  loss_box_reg: 0.261  loss_mask: 0.207  loss_rpn_cls: 0.008  loss_rpn_loc: 0.116  time: 0.3686  data_time: 0.0003  lr: 0.000006  max_mem: 8391M\n",
      "\u001b[32m[04/06 21:56:10 d2.utils.events]: \u001b[0m eta: 0:04:49  iter: 26679  total_loss: 0.589  loss_cls: 0.091  loss_box_reg: 0.226  loss_mask: 0.212  loss_rpn_cls: 0.004  loss_rpn_loc: 0.058  time: 0.3687  data_time: 0.0003  lr: 0.000005  max_mem: 8391M\n",
      "\u001b[32m[04/06 21:56:17 d2.utils.events]: \u001b[0m eta: 0:04:42  iter: 26699  total_loss: 0.529  loss_cls: 0.089  loss_box_reg: 0.164  loss_mask: 0.168  loss_rpn_cls: 0.007  loss_rpn_loc: 0.060  time: 0.3687  data_time: 0.0003  lr: 0.000005  max_mem: 8391M\n",
      "\u001b[32m[04/06 21:56:25 d2.utils.events]: \u001b[0m eta: 0:04:35  iter: 26719  total_loss: 0.682  loss_cls: 0.127  loss_box_reg: 0.211  loss_mask: 0.186  loss_rpn_cls: 0.008  loss_rpn_loc: 0.087  time: 0.3687  data_time: 0.0003  lr: 0.000005  max_mem: 8391M\n",
      "\u001b[32m[04/06 21:56:32 d2.utils.events]: \u001b[0m eta: 0:04:28  iter: 26739  total_loss: 0.504  loss_cls: 0.089  loss_box_reg: 0.178  loss_mask: 0.164  loss_rpn_cls: 0.006  loss_rpn_loc: 0.070  time: 0.3687  data_time: 0.0003  lr: 0.000004  max_mem: 8391M\n",
      "\u001b[32m[04/06 21:56:39 d2.utils.events]: \u001b[0m eta: 0:04:21  iter: 26759  total_loss: 0.865  loss_cls: 0.118  loss_box_reg: 0.310  loss_mask: 0.237  loss_rpn_cls: 0.011  loss_rpn_loc: 0.091  time: 0.3687  data_time: 0.0003  lr: 0.000004  max_mem: 8391M\n",
      "\u001b[32m[04/06 21:56:46 d2.utils.events]: \u001b[0m eta: 0:04:13  iter: 26779  total_loss: 0.500  loss_cls: 0.078  loss_box_reg: 0.162  loss_mask: 0.161  loss_rpn_cls: 0.006  loss_rpn_loc: 0.053  time: 0.3686  data_time: 0.0003  lr: 0.000004  max_mem: 8391M\n",
      "\u001b[32m[04/06 21:56:54 d2.utils.events]: \u001b[0m eta: 0:04:06  iter: 26799  total_loss: 0.454  loss_cls: 0.077  loss_box_reg: 0.167  loss_mask: 0.155  loss_rpn_cls: 0.002  loss_rpn_loc: 0.056  time: 0.3686  data_time: 0.0002  lr: 0.000004  max_mem: 8391M\n",
      "\u001b[32m[04/06 21:57:01 d2.utils.events]: \u001b[0m eta: 0:03:58  iter: 26819  total_loss: 0.484  loss_cls: 0.079  loss_box_reg: 0.169  loss_mask: 0.154  loss_rpn_cls: 0.008  loss_rpn_loc: 0.048  time: 0.3686  data_time: 0.0002  lr: 0.000004  max_mem: 8391M\n",
      "\u001b[32m[04/06 21:57:08 d2.utils.events]: \u001b[0m eta: 0:03:51  iter: 26839  total_loss: 0.565  loss_cls: 0.106  loss_box_reg: 0.190  loss_mask: 0.166  loss_rpn_cls: 0.007  loss_rpn_loc: 0.071  time: 0.3686  data_time: 0.0003  lr: 0.000003  max_mem: 8391M\n",
      "\u001b[32m[04/06 21:57:15 d2.utils.events]: \u001b[0m eta: 0:03:44  iter: 26859  total_loss: 0.631  loss_cls: 0.087  loss_box_reg: 0.217  loss_mask: 0.225  loss_rpn_cls: 0.014  loss_rpn_loc: 0.079  time: 0.3686  data_time: 0.0003  lr: 0.000003  max_mem: 8391M\n",
      "\u001b[32m[04/06 21:57:23 d2.utils.events]: \u001b[0m eta: 0:03:36  iter: 26879  total_loss: 0.696  loss_cls: 0.112  loss_box_reg: 0.265  loss_mask: 0.203  loss_rpn_cls: 0.009  loss_rpn_loc: 0.085  time: 0.3686  data_time: 0.0003  lr: 0.000003  max_mem: 8391M\n",
      "\u001b[32m[04/06 21:57:30 d2.utils.events]: \u001b[0m eta: 0:03:29  iter: 26899  total_loss: 0.611  loss_cls: 0.108  loss_box_reg: 0.234  loss_mask: 0.208  loss_rpn_cls: 0.006  loss_rpn_loc: 0.067  time: 0.3686  data_time: 0.0003  lr: 0.000003  max_mem: 8391M\n",
      "\u001b[32m[04/06 21:57:38 d2.utils.events]: \u001b[0m eta: 0:03:22  iter: 26919  total_loss: 0.443  loss_cls: 0.069  loss_box_reg: 0.145  loss_mask: 0.145  loss_rpn_cls: 0.004  loss_rpn_loc: 0.044  time: 0.3686  data_time: 0.0003  lr: 0.000003  max_mem: 8391M\n",
      "\u001b[32m[04/06 21:57:46 d2.utils.events]: \u001b[0m eta: 0:03:15  iter: 26939  total_loss: 0.668  loss_cls: 0.098  loss_box_reg: 0.209  loss_mask: 0.224  loss_rpn_cls: 0.008  loss_rpn_loc: 0.136  time: 0.3686  data_time: 0.0003  lr: 0.000002  max_mem: 8391M\n",
      "\u001b[32m[04/06 21:57:53 d2.utils.events]: \u001b[0m eta: 0:03:08  iter: 26959  total_loss: 0.538  loss_cls: 0.113  loss_box_reg: 0.194  loss_mask: 0.179  loss_rpn_cls: 0.004  loss_rpn_loc: 0.070  time: 0.3686  data_time: 0.0003  lr: 0.000002  max_mem: 8391M\n",
      "\u001b[32m[04/06 21:58:00 d2.utils.events]: \u001b[0m eta: 0:03:01  iter: 26979  total_loss: 0.739  loss_cls: 0.147  loss_box_reg: 0.242  loss_mask: 0.213  loss_rpn_cls: 0.005  loss_rpn_loc: 0.086  time: 0.3686  data_time: 0.0003  lr: 0.000002  max_mem: 8391M\n",
      "\u001b[32m[04/06 21:58:08 d2.utils.events]: \u001b[0m eta: 0:02:54  iter: 26999  total_loss: 0.446  loss_cls: 0.081  loss_box_reg: 0.185  loss_mask: 0.156  loss_rpn_cls: 0.004  loss_rpn_loc: 0.067  time: 0.3686  data_time: 0.0003  lr: 0.000002  max_mem: 8391M\n",
      "\u001b[32m[04/06 21:58:15 d2.utils.events]: \u001b[0m eta: 0:02:46  iter: 27019  total_loss: 0.684  loss_cls: 0.114  loss_box_reg: 0.272  loss_mask: 0.221  loss_rpn_cls: 0.004  loss_rpn_loc: 0.058  time: 0.3686  data_time: 0.0002  lr: 0.000002  max_mem: 8391M\n",
      "\u001b[32m[04/06 21:58:22 d2.utils.events]: \u001b[0m eta: 0:02:39  iter: 27039  total_loss: 0.550  loss_cls: 0.084  loss_box_reg: 0.199  loss_mask: 0.178  loss_rpn_cls: 0.004  loss_rpn_loc: 0.058  time: 0.3686  data_time: 0.0003  lr: 0.000002  max_mem: 8391M\n",
      "\u001b[32m[04/06 21:58:30 d2.utils.events]: \u001b[0m eta: 0:02:32  iter: 27059  total_loss: 0.514  loss_cls: 0.106  loss_box_reg: 0.190  loss_mask: 0.158  loss_rpn_cls: 0.006  loss_rpn_loc: 0.072  time: 0.3686  data_time: 0.0003  lr: 0.000001  max_mem: 8391M\n"
     ]
    },
    {
     "name": "stdout",
     "output_type": "stream",
     "text": [
      "\u001b[32m[04/06 21:58:37 d2.utils.events]: \u001b[0m eta: 0:02:25  iter: 27079  total_loss: 0.659  loss_cls: 0.102  loss_box_reg: 0.246  loss_mask: 0.199  loss_rpn_cls: 0.006  loss_rpn_loc: 0.075  time: 0.3686  data_time: 0.0003  lr: 0.000001  max_mem: 8391M\n",
      "\u001b[32m[04/06 21:58:45 d2.utils.events]: \u001b[0m eta: 0:02:18  iter: 27099  total_loss: 0.534  loss_cls: 0.075  loss_box_reg: 0.194  loss_mask: 0.165  loss_rpn_cls: 0.004  loss_rpn_loc: 0.062  time: 0.3687  data_time: 0.0003  lr: 0.000001  max_mem: 8391M\n",
      "\u001b[32m[04/06 21:58:52 d2.utils.events]: \u001b[0m eta: 0:02:11  iter: 27119  total_loss: 0.486  loss_cls: 0.099  loss_box_reg: 0.165  loss_mask: 0.178  loss_rpn_cls: 0.011  loss_rpn_loc: 0.072  time: 0.3686  data_time: 0.0002  lr: 0.000001  max_mem: 8391M\n",
      "\u001b[32m[04/06 21:59:00 d2.utils.events]: \u001b[0m eta: 0:02:03  iter: 27139  total_loss: 0.673  loss_cls: 0.117  loss_box_reg: 0.236  loss_mask: 0.211  loss_rpn_cls: 0.008  loss_rpn_loc: 0.087  time: 0.3687  data_time: 0.0002  lr: 0.000001  max_mem: 8391M\n",
      "\u001b[32m[04/06 21:59:07 d2.utils.events]: \u001b[0m eta: 0:01:56  iter: 27159  total_loss: 0.766  loss_cls: 0.105  loss_box_reg: 0.229  loss_mask: 0.244  loss_rpn_cls: 0.008  loss_rpn_loc: 0.082  time: 0.3687  data_time: 0.0003  lr: 0.000001  max_mem: 8391M\n",
      "\u001b[32m[04/06 21:59:14 d2.utils.events]: \u001b[0m eta: 0:01:48  iter: 27179  total_loss: 0.527  loss_cls: 0.101  loss_box_reg: 0.187  loss_mask: 0.184  loss_rpn_cls: 0.006  loss_rpn_loc: 0.069  time: 0.3686  data_time: 0.0002  lr: 0.000001  max_mem: 8391M\n",
      "\u001b[32m[04/06 21:59:22 d2.utils.events]: \u001b[0m eta: 0:01:41  iter: 27199  total_loss: 0.716  loss_cls: 0.130  loss_box_reg: 0.244  loss_mask: 0.221  loss_rpn_cls: 0.004  loss_rpn_loc: 0.084  time: 0.3686  data_time: 0.0003  lr: 0.000001  max_mem: 8391M\n",
      "\u001b[32m[04/06 21:59:29 d2.utils.events]: \u001b[0m eta: 0:01:34  iter: 27219  total_loss: 0.637  loss_cls: 0.098  loss_box_reg: 0.244  loss_mask: 0.216  loss_rpn_cls: 0.004  loss_rpn_loc: 0.065  time: 0.3686  data_time: 0.0002  lr: 0.000001  max_mem: 8391M\n",
      "\u001b[32m[04/06 21:59:36 d2.utils.events]: \u001b[0m eta: 0:01:26  iter: 27239  total_loss: 0.737  loss_cls: 0.121  loss_box_reg: 0.267  loss_mask: 0.210  loss_rpn_cls: 0.005  loss_rpn_loc: 0.078  time: 0.3686  data_time: 0.0003  lr: 0.000000  max_mem: 8391M\n",
      "\u001b[32m[04/06 21:59:43 d2.utils.events]: \u001b[0m eta: 0:01:19  iter: 27259  total_loss: 0.670  loss_cls: 0.111  loss_box_reg: 0.225  loss_mask: 0.196  loss_rpn_cls: 0.011  loss_rpn_loc: 0.080  time: 0.3686  data_time: 0.0002  lr: 0.000000  max_mem: 8391M\n",
      "\u001b[32m[04/06 21:59:51 d2.utils.events]: \u001b[0m eta: 0:01:12  iter: 27279  total_loss: 0.530  loss_cls: 0.108  loss_box_reg: 0.187  loss_mask: 0.184  loss_rpn_cls: 0.007  loss_rpn_loc: 0.055  time: 0.3686  data_time: 0.0003  lr: 0.000000  max_mem: 8391M\n",
      "\u001b[32m[04/06 21:59:58 d2.utils.events]: \u001b[0m eta: 0:01:05  iter: 27299  total_loss: 0.583  loss_cls: 0.119  loss_box_reg: 0.204  loss_mask: 0.207  loss_rpn_cls: 0.006  loss_rpn_loc: 0.066  time: 0.3686  data_time: 0.0003  lr: 0.000000  max_mem: 8391M\n",
      "\u001b[32m[04/06 22:00:05 d2.utils.events]: \u001b[0m eta: 0:00:58  iter: 27319  total_loss: 0.535  loss_cls: 0.105  loss_box_reg: 0.194  loss_mask: 0.182  loss_rpn_cls: 0.008  loss_rpn_loc: 0.063  time: 0.3686  data_time: 0.0003  lr: 0.000000  max_mem: 8391M\n",
      "\u001b[32m[04/06 22:00:12 d2.utils.events]: \u001b[0m eta: 0:00:50  iter: 27339  total_loss: 0.512  loss_cls: 0.097  loss_box_reg: 0.194  loss_mask: 0.173  loss_rpn_cls: 0.004  loss_rpn_loc: 0.065  time: 0.3686  data_time: 0.0003  lr: 0.000000  max_mem: 8391M\n",
      "\u001b[32m[04/06 22:00:20 d2.utils.events]: \u001b[0m eta: 0:00:43  iter: 27359  total_loss: 0.644  loss_cls: 0.118  loss_box_reg: 0.253  loss_mask: 0.206  loss_rpn_cls: 0.005  loss_rpn_loc: 0.072  time: 0.3686  data_time: 0.0003  lr: 0.000000  max_mem: 8391M\n",
      "\u001b[32m[04/06 22:00:27 d2.utils.events]: \u001b[0m eta: 0:00:36  iter: 27379  total_loss: 0.479  loss_cls: 0.093  loss_box_reg: 0.164  loss_mask: 0.162  loss_rpn_cls: 0.008  loss_rpn_loc: 0.062  time: 0.3686  data_time: 0.0003  lr: 0.000000  max_mem: 8391M\n",
      "\u001b[32m[04/06 22:00:35 d2.utils.events]: \u001b[0m eta: 0:00:29  iter: 27399  total_loss: 0.649  loss_cls: 0.102  loss_box_reg: 0.218  loss_mask: 0.182  loss_rpn_cls: 0.005  loss_rpn_loc: 0.064  time: 0.3686  data_time: 0.0003  lr: 0.000000  max_mem: 8391M\n",
      "\u001b[32m[04/06 22:00:42 d2.utils.events]: \u001b[0m eta: 0:00:22  iter: 27419  total_loss: 0.504  loss_cls: 0.086  loss_box_reg: 0.182  loss_mask: 0.153  loss_rpn_cls: 0.003  loss_rpn_loc: 0.062  time: 0.3686  data_time: 0.0003  lr: 0.000000  max_mem: 8391M\n",
      "\u001b[32m[04/06 22:00:50 d2.utils.events]: \u001b[0m eta: 0:00:14  iter: 27439  total_loss: 0.489  loss_cls: 0.086  loss_box_reg: 0.189  loss_mask: 0.167  loss_rpn_cls: 0.003  loss_rpn_loc: 0.070  time: 0.3686  data_time: 0.0003  lr: 0.000000  max_mem: 8391M\n",
      "\u001b[32m[04/06 22:00:57 d2.utils.events]: \u001b[0m eta: 0:00:07  iter: 27459  total_loss: 0.612  loss_cls: 0.094  loss_box_reg: 0.231  loss_mask: 0.212  loss_rpn_cls: 0.004  loss_rpn_loc: 0.058  time: 0.3686  data_time: 0.0003  lr: 0.000000  max_mem: 8391M\n",
      "\u001b[32m[04/06 22:01:08 d2.utils.events]: \u001b[0m eta: 0:00:00  iter: 27479  total_loss: 0.508  loss_cls: 0.112  loss_box_reg: 0.213  loss_mask: 0.188  loss_rpn_cls: 0.004  loss_rpn_loc: 0.057  time: 0.3686  data_time: 0.0003  lr: 0.000000  max_mem: 8391M\n",
      "\u001b[32m[04/06 22:01:08 d2.engine.hooks]: \u001b[0mOverall training speed: 27477 iterations in 2:48:49 (0.3687 s / it)\n",
      "\u001b[32m[04/06 22:01:08 d2.engine.hooks]: \u001b[0mTotal training time: 2:49:30 (0:00:41 on hooks)\n"
     ]
    }
   ],
   "source": [
    "trainer.train()"
   ]
  },
  {
   "cell_type": "markdown",
   "metadata": {},
   "source": [
    "# Inference & evaluation"
   ]
  },
  {
   "cell_type": "code",
   "execution_count": 12,
   "metadata": {},
   "outputs": [],
   "source": [
    "from detectron2.engine import DefaultPredictor\n",
    "from detectron2.data import DatasetCatalog, MetadataCatalog\n",
    "from detectron2.utils.visualizer import ColorMode"
   ]
  },
  {
   "cell_type": "code",
   "execution_count": 13,
   "metadata": {},
   "outputs": [
    {
     "data": {
      "text/plain": [
       "'output/2'"
      ]
     },
     "execution_count": 13,
     "metadata": {},
     "output_type": "execute_result"
    }
   ],
   "source": [
    "cfg.OUTPUT_DIR"
   ]
  },
  {
   "cell_type": "code",
   "execution_count": 14,
   "metadata": {},
   "outputs": [],
   "source": [
    "cfg.MODEL.WEIGHTS = os.path.join(cfg.OUTPUT_DIR, \"model_final.pth\")\n",
    "cfg.MODEL.ROI_HEADS.SCORE_THRESH_TEST = 0.7   # set the testing threshold for this model\n",
    "cfg.MODEL.RPN.PRE_NMS_TOPK_TEST = 10000\n",
    "cfg.MODEL.RPN.POST_NMS_TOPK_TEST = 3000\n",
    "cfg.TEST.DETECTIONS_PER_IMAGE = cfg.MODEL.RPN.POST_NMS_TOPK_TEST"
   ]
  },
  {
   "cell_type": "markdown",
   "metadata": {},
   "source": [
    "## Validation set"
   ]
  },
  {
   "cell_type": "code",
   "execution_count": 15,
   "metadata": {},
   "outputs": [],
   "source": [
    "cfg.DATASETS.TEST = (\"nuclei_val\", )\n",
    "predictor = DefaultPredictor(cfg)"
   ]
  },
  {
   "cell_type": "code",
   "execution_count": 16,
   "metadata": {},
   "outputs": [
    {
     "data": {
      "application/vnd.jupyter.widget-view+json": {
       "model_id": "5acfbfa562e749b0a18d4bcea40f2860",
       "version_major": 2,
       "version_minor": 0
      },
      "text/plain": [
       "HBox(children=(FloatProgress(value=0.0, max=77.0), HTML(value='')))"
      ]
     },
     "metadata": {},
     "output_type": "display_data"
    },
    {
     "name": "stdout",
     "output_type": "stream",
     "text": [
      "\n"
     ]
    }
   ],
   "source": [
    "dataset_dicts_nuclei_valid = get_nuclei_dicts(img_paths_valid)"
   ]
  },
  {
   "cell_type": "code",
   "execution_count": 17,
   "metadata": {},
   "outputs": [],
   "source": [
    "nuclei_metadata_valid = MetadataCatalog.get(f\"nuclei_valid\")"
   ]
  },
  {
   "cell_type": "markdown",
   "metadata": {},
   "source": [
    "### sort dataset dict by different metrics"
   ]
  },
  {
   "cell_type": "markdown",
   "metadata": {},
   "source": [
    "#### by relative error in predicted number of instances"
   ]
  },
  {
   "cell_type": "code",
   "execution_count": 51,
   "metadata": {},
   "outputs": [
    {
     "data": {
      "application/vnd.jupyter.widget-view+json": {
       "model_id": "48c8e633e0d54e9e8da434a1bb3e4483",
       "version_major": 2,
       "version_minor": 0
      },
      "text/plain": [
       "HBox(children=(IntProgress(value=0, max=77), HTML(value='')))"
      ]
     },
     "metadata": {},
     "output_type": "display_data"
    },
    {
     "name": "stdout",
     "output_type": "stream",
     "text": [
      "\n"
     ]
    }
   ],
   "source": [
    "## add number of predicted instances and the relative error to every entry in dataset_dicts_nuclei_valid\n",
    "\n",
    "for d in tqdm(dataset_dicts_nuclei_valid[:]):\n",
    "    n_pred = len(predictor(cv2.imread(str(d[\"file_name\"])))['instances'])\n",
    "    d['n_predicted'] = n_pred\n",
    "    n_act = len(d['annotations'])\n",
    "    d['relative_error'] = abs(n_pred-n_act)/n_act    "
   ]
  },
  {
   "cell_type": "code",
   "execution_count": 60,
   "metadata": {},
   "outputs": [],
   "source": [
    "## sort it descending by relative_error\n",
    "dataset_dicts_nuclei_valid.sort(key=lambda d: d['relative_error'], reverse=True)"
   ]
  },
  {
   "cell_type": "markdown",
   "metadata": {},
   "source": [
    "#### by IoU with ground truth"
   ]
  },
  {
   "cell_type": "code",
   "execution_count": 30,
   "metadata": {},
   "outputs": [],
   "source": [
    "# slight modification of this implementation\n",
    "#https://www.kaggle.com/iezepov/fast-iou-scoring-metric-in-pytorch-and-numpy\n",
    "SMOOTH = 1e-6\n",
    "def iou_pytorch(predicted_mask: torch.Tensor, ground_truth_mask: torch.Tensor):    \n",
    "    intersection = (predicted_mask & ground_truth_mask).float().sum((0, 1))  # Will be zero if Truth=0 or Prediction=0\n",
    "    union = (predicted_mask | ground_truth_mask).float().sum((0, 1))         # Will be zero if both are 0\n",
    "    \n",
    "    iou = (intersection + SMOOTH) / (union + SMOOTH)  # We smooth our devision to avoid 0/0\n",
    "    \n",
    "    thresholded = torch.clamp(20 * (iou - 0.5), 0, 10).ceil() / 10  # This is equal to comparing with thresolds\n",
    "    \n",
    "    return thresholded  # Or thresholded.mean() if you are interested in average across the batch"
   ]
  },
  {
   "cell_type": "code",
   "execution_count": 31,
   "metadata": {
    "scrolled": true
   },
   "outputs": [
    {
     "data": {
      "application/vnd.jupyter.widget-view+json": {
       "model_id": "d169234980024c2588a02e70cfb03497",
       "version_major": 2,
       "version_minor": 0
      },
      "text/plain": [
       "HBox(children=(FloatProgress(value=0.0, max=77.0), HTML(value='')))"
      ]
     },
     "metadata": {},
     "output_type": "display_data"
    },
    {
     "name": "stdout",
     "output_type": "stream",
     "text": [
      "\n"
     ]
    }
   ],
   "source": [
    "for d in tqdm(dataset_dicts_nuclei_valid[:]):\n",
    "    pred = predictor(cv2.imread(str(d[\"file_name\"])))\n",
    "    ### merged mask of prediction\n",
    "    mask_preds = merge_masks(pred['instances'].get('pred_masks').cpu(), shape=(d['height'], d['width']))\n",
    "    ### merged mask of ground truth\n",
    "    path = d[\"file_name\"]\n",
    "    masks = None\n",
    "    try:\n",
    "        masks = [open_mask_as_np(mp) for mp in get_masks_path_from_id(path.stem, base_path=path.parent.parent.parent).ls()]    \n",
    "    except FileNotFoundError:\n",
    "        masks = get_mask_list_from_rle_for_one_id(path.stem, df_rle_labels, shape=(d['width'],d['height']))\n",
    "\n",
    "    mask_actual = merge_masks(masks, shape=(d['height'], d['width']))\n",
    "    d['iou'] = iou_pytorch(mask_preds, mask_actual)"
   ]
  },
  {
   "cell_type": "code",
   "execution_count": 32,
   "metadata": {},
   "outputs": [],
   "source": [
    "## sort it ascending by iou \n",
    "dataset_dicts_nuclei_valid.sort(key=lambda d: d['iou'], reverse=True)"
   ]
  },
  {
   "cell_type": "markdown",
   "metadata": {},
   "source": [
    "### visualize most wrongly predicted cases"
   ]
  },
  {
   "cell_type": "code",
   "execution_count": null,
   "metadata": {
    "scrolled": true
   },
   "outputs": [],
   "source": [
    "for n, d in enumerate(dataset_dicts_nuclei_valid[:20]):\n",
    "    img = cv2.imread(str(d[\"file_name\"]))\n",
    "    \n",
    "    ### image with predictions as overlay\n",
    "    pred = predictor(img)\n",
    "    n_predicted = len(pred['instances'])\n",
    "    print(f'number of predicted instances: {n_predicted}')\n",
    "    v = Visualizer(img[:, :, ::-1],\n",
    "                   metadata=nuclei_metadata_valid, \n",
    "                   scale=0.8, \n",
    "                   instance_mode=ColorMode.IMAGE   # remove the colors of unsegmented pixels\n",
    "    )\n",
    "    img_with_preds = v.draw_instance_predictions(pred[\"instances\"].to(\"cpu\")).get_image()[:, :, ::-1]\n",
    "\n",
    "    \n",
    "    ### merged masks of the ground truth\n",
    "    path = d[\"file_name\"]\n",
    "    masks = None\n",
    "    try:\n",
    "        masks = [open_mask_as_np(mp) for mp in get_masks_path_from_id(path.stem, base_path=path.parent.parent.parent).ls()]    \n",
    "    except FileNotFoundError:\n",
    "        masks = get_mask_list_from_rle_for_one_id(path.stem, df_rle_labels, shape=(d['width'],d['height']))\n",
    "    n_actual = d['annotations']\n",
    "    print(f'number of actual instances: {len(n_actual)}')\n",
    "    print(f'number of actual instances: {len(masks)}')\n",
    "    merged_mask = merge_masks(masks, shape=(masks[0].shape[0], masks[0].shape[1]))\n",
    "    \n",
    "    \n",
    "    visualizer = Visualizer(img[:, :, ::-1], metadata=nuclei_metadata_valid, scale=1)\n",
    "    img_with_actual = visualizer.draw_dataset_dict(d).get_image()[:, :, ::-1]\n",
    "\n",
    "    \n",
    "    \n",
    "    f, axarr = plt.subplots(1,4, figsize=(20,20))\n",
    "    axarr[0].imshow(img)\n",
    "    axarr[1].imshow(merged_mask)\n",
    "    axarr[2].imshow(img_with_actual)\n",
    "    axarr[3].imshow(img_with_preds)\n",
    "    plt.show()"
   ]
  },
  {
   "cell_type": "markdown",
   "metadata": {},
   "source": [
    "## Test set"
   ]
  },
  {
   "cell_type": "code",
   "execution_count": 76,
   "metadata": {},
   "outputs": [],
   "source": [
    "DatasetCatalog.clear()"
   ]
  },
  {
   "cell_type": "code",
   "execution_count": 77,
   "metadata": {},
   "outputs": [],
   "source": [
    "img_paths_test = [path/'images'/f'{path.name}.png' for path in STAGE2_TEST.ls()];len(img_paths_test)\n",
    "DatasetCatalog.register(\"nuclei_test\", lambda : get_nuclei_dicts(img_paths_test, isTestSet=True))\n",
    "MetadataCatalog.get(f\"nuclei_test\").set(thing_classes=[\"nucleus\"])\n",
    "cfg.DATASETS.TEST = (\"nuclei_test\", )\n",
    "predictor = DefaultPredictor(cfg)"
   ]
  },
  {
   "cell_type": "code",
   "execution_count": null,
   "metadata": {
    "scrolled": false
   },
   "outputs": [],
   "source": [
    "nuclei_metadata_test = MetadataCatalog.get(f\"nuclei_test\")\n",
    "for p in random.sample(img_paths_test, 5):\n",
    "    img = cv2.imread(str(p))\n",
    "    pred = predictor(img)\n",
    "    n_predicted = len(pred['instances'])\n",
    "    print(f'number of predicted instances: {n_predicted}')\n",
    "    v = Visualizer(img[:, :, ::-1],\n",
    "                   metadata=nuclei_metadata_test, \n",
    "                   scale=1, \n",
    "                   instance_mode=ColorMode.IMAGE   \n",
    "    )\n",
    "    img_with_preds = v.draw_instance_predictions(pred[\"instances\"].to(\"cpu\")).get_image()[:, :, ::-1]\n",
    "    \n",
    "    f, axarr = plt.subplots(1,2, figsize=(20,20))\n",
    "    axarr[0].imshow(img)\n",
    "    axarr[1].imshow(img_with_preds)\n",
    "    plt.show()"
   ]
  },
  {
   "cell_type": "markdown",
   "metadata": {},
   "source": [
    "### get predictions for stage2 test dataset of dsb 2018"
   ]
  },
  {
   "cell_type": "code",
   "execution_count": 57,
   "metadata": {
    "scrolled": true
   },
   "outputs": [
    {
     "data": {
      "application/vnd.jupyter.widget-view+json": {
       "model_id": "b8597f0664224baf94586e76f3f828ef",
       "version_major": 2,
       "version_minor": 0
      },
      "text/plain": [
       "HBox(children=(IntProgress(value=0, max=3019), HTML(value='')))"
      ]
     },
     "metadata": {},
     "output_type": "display_data"
    },
    {
     "name": "stdout",
     "output_type": "stream",
     "text": [
      "\n"
     ]
    }
   ],
   "source": [
    "preds = {}\n",
    "for p in tqdm(img_paths_test):\n",
    "    img = cv2.imread(str(p))\n",
    "    with torch.no_grad():\n",
    "        pred = predictor(img)\n",
    "    preds[p.stem] = (pred[\"instances\"].to(\"cpu\"))\n",
    "    del pred\n",
    "    torch.cuda.empty_cache()"
   ]
  },
  {
   "cell_type": "markdown",
   "metadata": {},
   "source": [
    "### create submission for stage2 test dataset of dsb 2018"
   ]
  },
  {
   "cell_type": "code",
   "execution_count": 58,
   "metadata": {},
   "outputs": [],
   "source": [
    "df_sub = pd.DataFrame(columns=['ImageId', 'EncodedPixels'])"
   ]
  },
  {
   "cell_type": "code",
   "execution_count": 59,
   "metadata": {},
   "outputs": [
    {
     "data": {
      "application/vnd.jupyter.widget-view+json": {
       "model_id": "8afcb27d50f14dfeba87eaf4ee1faed1",
       "version_major": 2,
       "version_minor": 0
      },
      "text/plain": [
       "HBox(children=(IntProgress(value=0, max=3019), HTML(value='')))"
      ]
     },
     "metadata": {},
     "output_type": "display_data"
    },
    {
     "name": "stdout",
     "output_type": "stream",
     "text": [
      "\n"
     ]
    }
   ],
   "source": [
    "for i, pred in tqdm(list(preds.items())[:]):\n",
    "    masks = pred.get('pred_masks')\n",
    "    if len(masks) == 0:\n",
    "        df_sub = df_sub.append({'ImageId': i, 'EncodedPixels': ''}, ignore_index=True)\n",
    "    else:\n",
    "        ###\n",
    "        # the competition evaluation at kaggle throws an error, if an encoded pixel belongs to more than one object\n",
    "        ###\n",
    "        mask_merged = None\n",
    "        for mask in masks:\n",
    "            mask = mask.int()\n",
    "            if mask_merged == None:\n",
    "                mask_merged = mask\n",
    "            else:\n",
    "                overlap = (mask == mask_merged).int()\n",
    "                mask = mask - overlap\n",
    "                mask_merged = merge_masks([mask_merged, mask], shape=(mask.shape[0],mask.shape[1]))\n",
    "            df_sub = df_sub.append({'ImageId': i, 'EncodedPixels': rle_from_list_to_string(rle_encode(mask))}, ignore_index=True)"
   ]
  },
  {
   "cell_type": "code",
   "execution_count": 60,
   "metadata": {},
   "outputs": [
    {
     "data": {
      "text/html": [
       "<div>\n",
       "<style scoped>\n",
       "    .dataframe tbody tr th:only-of-type {\n",
       "        vertical-align: middle;\n",
       "    }\n",
       "\n",
       "    .dataframe tbody tr th {\n",
       "        vertical-align: top;\n",
       "    }\n",
       "\n",
       "    .dataframe thead th {\n",
       "        text-align: right;\n",
       "    }\n",
       "</style>\n",
       "<table border=\"1\" class=\"dataframe\">\n",
       "  <thead>\n",
       "    <tr style=\"text-align: right;\">\n",
       "      <th></th>\n",
       "      <th>ImageId</th>\n",
       "      <th>EncodedPixels</th>\n",
       "    </tr>\n",
       "  </thead>\n",
       "  <tbody>\n",
       "    <tr>\n",
       "      <th>0</th>\n",
       "      <td>0019c086029dd3be01f72131edb74e21ee995574e6d5c1...</td>\n",
       "      <td>5131 5 5385 7 5640 8 5895 9 6145 15 6401 14 66...</td>\n",
       "    </tr>\n",
       "    <tr>\n",
       "      <th>1</th>\n",
       "      <td>0019c086029dd3be01f72131edb74e21ee995574e6d5c1...</td>\n",
       "      <td>26739 6 26993 9 27248 11 27503 12 27758 14 280...</td>\n",
       "    </tr>\n",
       "    <tr>\n",
       "      <th>2</th>\n",
       "      <td>0019c086029dd3be01f72131edb74e21ee995574e6d5c1...</td>\n",
       "      <td>77932 6 78184 12 78438 15 78693 17 78948 19 79...</td>\n",
       "    </tr>\n",
       "    <tr>\n",
       "      <th>3</th>\n",
       "      <td>0019c086029dd3be01f72131edb74e21ee995574e6d5c1...</td>\n",
       "      <td>50760 9 51014 13 51270 15 51526 16 51782 18 52...</td>\n",
       "    </tr>\n",
       "    <tr>\n",
       "      <th>4</th>\n",
       "      <td>0019c086029dd3be01f72131edb74e21ee995574e6d5c1...</td>\n",
       "      <td>25371 10 25624 15 25879 17 26132 20 26388 21 2...</td>\n",
       "    </tr>\n",
       "    <tr>\n",
       "      <th>...</th>\n",
       "      <td>...</td>\n",
       "      <td>...</td>\n",
       "    </tr>\n",
       "    <tr>\n",
       "      <th>72410</th>\n",
       "      <td>34d0fa5fd2fe5c9955fff299ead6ce97366a2176ad7569...</td>\n",
       "      <td>27417 4 27830 8 28243 11 28656 13 29069 14 294...</td>\n",
       "    </tr>\n",
       "    <tr>\n",
       "      <th>72411</th>\n",
       "      <td>34d0fa5fd2fe5c9955fff299ead6ce97366a2176ad7569...</td>\n",
       "      <td>60510 12 60525 13 60922 33 61335 36 61748 38 6...</td>\n",
       "    </tr>\n",
       "    <tr>\n",
       "      <th>72412</th>\n",
       "      <td>34d0fa5fd2fe5c9955fff299ead6ce97366a2176ad7569...</td>\n",
       "      <td>73094 6 73505 9 73917 11 74330 13 74744 13 751...</td>\n",
       "    </tr>\n",
       "    <tr>\n",
       "      <th>72413</th>\n",
       "      <td>34d0fa5fd2fe5c9955fff299ead6ce97366a2176ad7569...</td>\n",
       "      <td>14196 12 14610 14 15023 15 15438 15 15852 15 1...</td>\n",
       "    </tr>\n",
       "    <tr>\n",
       "      <th>72414</th>\n",
       "      <td>34d0fa5fd2fe5c9955fff299ead6ce97366a2176ad7569...</td>\n",
       "      <td>102134 4 102546 7 102959 8 103371 10 103784 11...</td>\n",
       "    </tr>\n",
       "  </tbody>\n",
       "</table>\n",
       "<p>72415 rows × 2 columns</p>\n",
       "</div>"
      ],
      "text/plain": [
       "                                                 ImageId  \\\n",
       "0      0019c086029dd3be01f72131edb74e21ee995574e6d5c1...   \n",
       "1      0019c086029dd3be01f72131edb74e21ee995574e6d5c1...   \n",
       "2      0019c086029dd3be01f72131edb74e21ee995574e6d5c1...   \n",
       "3      0019c086029dd3be01f72131edb74e21ee995574e6d5c1...   \n",
       "4      0019c086029dd3be01f72131edb74e21ee995574e6d5c1...   \n",
       "...                                                  ...   \n",
       "72410  34d0fa5fd2fe5c9955fff299ead6ce97366a2176ad7569...   \n",
       "72411  34d0fa5fd2fe5c9955fff299ead6ce97366a2176ad7569...   \n",
       "72412  34d0fa5fd2fe5c9955fff299ead6ce97366a2176ad7569...   \n",
       "72413  34d0fa5fd2fe5c9955fff299ead6ce97366a2176ad7569...   \n",
       "72414  34d0fa5fd2fe5c9955fff299ead6ce97366a2176ad7569...   \n",
       "\n",
       "                                           EncodedPixels  \n",
       "0      5131 5 5385 7 5640 8 5895 9 6145 15 6401 14 66...  \n",
       "1      26739 6 26993 9 27248 11 27503 12 27758 14 280...  \n",
       "2      77932 6 78184 12 78438 15 78693 17 78948 19 79...  \n",
       "3      50760 9 51014 13 51270 15 51526 16 51782 18 52...  \n",
       "4      25371 10 25624 15 25879 17 26132 20 26388 21 2...  \n",
       "...                                                  ...  \n",
       "72410  27417 4 27830 8 28243 11 28656 13 29069 14 294...  \n",
       "72411  60510 12 60525 13 60922 33 61335 36 61748 38 6...  \n",
       "72412  73094 6 73505 9 73917 11 74330 13 74744 13 751...  \n",
       "72413  14196 12 14610 14 15023 15 15438 15 15852 15 1...  \n",
       "72414  102134 4 102546 7 102959 8 103371 10 103784 11...  \n",
       "\n",
       "[72415 rows x 2 columns]"
      ]
     },
     "execution_count": 60,
     "metadata": {},
     "output_type": "execute_result"
    }
   ],
   "source": [
    "df_sub"
   ]
  },
  {
   "cell_type": "code",
   "execution_count": 61,
   "metadata": {},
   "outputs": [],
   "source": [
    "submission_path = Path('./submission_detectron2_2.csv')"
   ]
  },
  {
   "cell_type": "code",
   "execution_count": 62,
   "metadata": {},
   "outputs": [],
   "source": [
    "df_sub.to_csv(submission_path, index=False)"
   ]
  },
  {
   "cell_type": "code",
   "execution_count": 63,
   "metadata": {},
   "outputs": [
    {
     "data": {
      "text/html": [
       "<div>\n",
       "<style scoped>\n",
       "    .dataframe tbody tr th:only-of-type {\n",
       "        vertical-align: middle;\n",
       "    }\n",
       "\n",
       "    .dataframe tbody tr th {\n",
       "        vertical-align: top;\n",
       "    }\n",
       "\n",
       "    .dataframe thead th {\n",
       "        text-align: right;\n",
       "    }\n",
       "</style>\n",
       "<table border=\"1\" class=\"dataframe\">\n",
       "  <thead>\n",
       "    <tr style=\"text-align: right;\">\n",
       "      <th></th>\n",
       "      <th>ImageId</th>\n",
       "      <th>EncodedPixels</th>\n",
       "    </tr>\n",
       "  </thead>\n",
       "  <tbody>\n",
       "    <tr>\n",
       "      <th>0</th>\n",
       "      <td>0019c086029dd3be01f72131edb74e21ee995574e6d5c1...</td>\n",
       "      <td>5131 5 5385 7 5640 8 5895 9 6145 15 6401 14 66...</td>\n",
       "    </tr>\n",
       "    <tr>\n",
       "      <th>1</th>\n",
       "      <td>0019c086029dd3be01f72131edb74e21ee995574e6d5c1...</td>\n",
       "      <td>26739 6 26993 9 27248 11 27503 12 27758 14 280...</td>\n",
       "    </tr>\n",
       "    <tr>\n",
       "      <th>2</th>\n",
       "      <td>0019c086029dd3be01f72131edb74e21ee995574e6d5c1...</td>\n",
       "      <td>77932 6 78184 12 78438 15 78693 17 78948 19 79...</td>\n",
       "    </tr>\n",
       "    <tr>\n",
       "      <th>3</th>\n",
       "      <td>0019c086029dd3be01f72131edb74e21ee995574e6d5c1...</td>\n",
       "      <td>50760 9 51014 13 51270 15 51526 16 51782 18 52...</td>\n",
       "    </tr>\n",
       "    <tr>\n",
       "      <th>4</th>\n",
       "      <td>0019c086029dd3be01f72131edb74e21ee995574e6d5c1...</td>\n",
       "      <td>25371 10 25624 15 25879 17 26132 20 26388 21 2...</td>\n",
       "    </tr>\n",
       "    <tr>\n",
       "      <th>...</th>\n",
       "      <td>...</td>\n",
       "      <td>...</td>\n",
       "    </tr>\n",
       "    <tr>\n",
       "      <th>72410</th>\n",
       "      <td>34d0fa5fd2fe5c9955fff299ead6ce97366a2176ad7569...</td>\n",
       "      <td>27417 4 27830 8 28243 11 28656 13 29069 14 294...</td>\n",
       "    </tr>\n",
       "    <tr>\n",
       "      <th>72411</th>\n",
       "      <td>34d0fa5fd2fe5c9955fff299ead6ce97366a2176ad7569...</td>\n",
       "      <td>60510 12 60525 13 60922 33 61335 36 61748 38 6...</td>\n",
       "    </tr>\n",
       "    <tr>\n",
       "      <th>72412</th>\n",
       "      <td>34d0fa5fd2fe5c9955fff299ead6ce97366a2176ad7569...</td>\n",
       "      <td>73094 6 73505 9 73917 11 74330 13 74744 13 751...</td>\n",
       "    </tr>\n",
       "    <tr>\n",
       "      <th>72413</th>\n",
       "      <td>34d0fa5fd2fe5c9955fff299ead6ce97366a2176ad7569...</td>\n",
       "      <td>14196 12 14610 14 15023 15 15438 15 15852 15 1...</td>\n",
       "    </tr>\n",
       "    <tr>\n",
       "      <th>72414</th>\n",
       "      <td>34d0fa5fd2fe5c9955fff299ead6ce97366a2176ad7569...</td>\n",
       "      <td>102134 4 102546 7 102959 8 103371 10 103784 11...</td>\n",
       "    </tr>\n",
       "  </tbody>\n",
       "</table>\n",
       "<p>72415 rows × 2 columns</p>\n",
       "</div>"
      ],
      "text/plain": [
       "                                                 ImageId  \\\n",
       "0      0019c086029dd3be01f72131edb74e21ee995574e6d5c1...   \n",
       "1      0019c086029dd3be01f72131edb74e21ee995574e6d5c1...   \n",
       "2      0019c086029dd3be01f72131edb74e21ee995574e6d5c1...   \n",
       "3      0019c086029dd3be01f72131edb74e21ee995574e6d5c1...   \n",
       "4      0019c086029dd3be01f72131edb74e21ee995574e6d5c1...   \n",
       "...                                                  ...   \n",
       "72410  34d0fa5fd2fe5c9955fff299ead6ce97366a2176ad7569...   \n",
       "72411  34d0fa5fd2fe5c9955fff299ead6ce97366a2176ad7569...   \n",
       "72412  34d0fa5fd2fe5c9955fff299ead6ce97366a2176ad7569...   \n",
       "72413  34d0fa5fd2fe5c9955fff299ead6ce97366a2176ad7569...   \n",
       "72414  34d0fa5fd2fe5c9955fff299ead6ce97366a2176ad7569...   \n",
       "\n",
       "                                           EncodedPixels  \n",
       "0      5131 5 5385 7 5640 8 5895 9 6145 15 6401 14 66...  \n",
       "1      26739 6 26993 9 27248 11 27503 12 27758 14 280...  \n",
       "2      77932 6 78184 12 78438 15 78693 17 78948 19 79...  \n",
       "3      50760 9 51014 13 51270 15 51526 16 51782 18 52...  \n",
       "4      25371 10 25624 15 25879 17 26132 20 26388 21 2...  \n",
       "...                                                  ...  \n",
       "72410  27417 4 27830 8 28243 11 28656 13 29069 14 294...  \n",
       "72411  60510 12 60525 13 60922 33 61335 36 61748 38 6...  \n",
       "72412  73094 6 73505 9 73917 11 74330 13 74744 13 751...  \n",
       "72413  14196 12 14610 14 15023 15 15438 15 15852 15 1...  \n",
       "72414  102134 4 102546 7 102959 8 103371 10 103784 11...  \n",
       "\n",
       "[72415 rows x 2 columns]"
      ]
     },
     "execution_count": 63,
     "metadata": {},
     "output_type": "execute_result"
    }
   ],
   "source": [
    "pd.read_csv(submission_path)"
   ]
  },
  {
   "cell_type": "code",
   "execution_count": null,
   "metadata": {},
   "outputs": [],
   "source": []
  },
  {
   "cell_type": "code",
   "execution_count": null,
   "metadata": {},
   "outputs": [],
   "source": []
  }
 ],
 "metadata": {
  "kernelspec": {
   "display_name": "DLM Py3",
   "language": "python",
   "name": "dlm_py3"
  },
  "language_info": {
   "codemirror_mode": {
    "name": "ipython",
    "version": 3
   },
   "file_extension": ".py",
   "mimetype": "text/x-python",
   "name": "python",
   "nbconvert_exporter": "python",
   "pygments_lexer": "ipython3",
   "version": "3.7.6"
  },
  "toc": {
   "base_numbering": 1,
   "nav_menu": {},
   "number_sections": true,
   "sideBar": true,
   "skip_h1_title": false,
   "title_cell": "Table of Contents",
   "title_sidebar": "Contents",
   "toc_cell": false,
   "toc_position": {
    "height": "calc(100% - 180px)",
    "left": "10px",
    "top": "150px",
    "width": "384px"
   },
   "toc_section_display": true,
   "toc_window_display": true
  }
 },
 "nbformat": 4,
 "nbformat_minor": 4
}
