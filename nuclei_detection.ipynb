{
 "cells": [
  {
   "cell_type": "markdown",
   "metadata": {},
   "source": [
    "# Install detectron2"
   ]
  },
  {
   "cell_type": "code",
   "execution_count": null,
   "metadata": {
    "scrolled": true
   },
   "outputs": [],
   "source": [
    "### it may be necessary to restart the kernel after installation (for whatever reason)\n",
    "import sys\n",
    "!{sys.executable} -m pip install --upgrade pip\n",
    "import torch, torchvision\n",
    "if torch.version.cuda == '10.0.130':\n",
    "    !{sys.executable} -m pip install --upgrade pip\n",
    "    !{sys.executable} -m pip install -U torch==1.4+cu100 torchvision==0.5+cu100 -f https://download.pytorch.org/whl/torch_stable.html \n",
    "    !{sys.executable} -m pip install cython pyyaml==5.1\n",
    "    !{sys.executable} -m pip install -U 'git+https://github.com/cocodataset/cocoapi.git#subdirectory=PythonAPI'\n",
    "    !{sys.executable} -m pip install detectron2 -f https://dl.fbaipublicfiles.com/detectron2/wheels/cu100/index.html\n",
    "elif torch.version.cuda == '10.1':\n",
    "    !{sys.executable} -m pip install cython \n",
    "    !{sys.executable} -m pip install pyyaml\n",
    "    !{sys.executable} -m pip install -U 'git+https://github.com/cocodataset/cocoapi.git#subdirectory=PythonAPI'\n",
    "    !{sys.executable} -m pip install detectron2 -f https://dl.fbaipublicfiles.com/detectron2/wheels/cu101/index.html\n",
    "else:\n",
    "    print(torch.version.cuda)"
   ]
  },
  {
   "cell_type": "markdown",
   "metadata": {},
   "source": [
    "# Imports"
   ]
  },
  {
   "cell_type": "code",
   "execution_count": null,
   "metadata": {
    "scrolled": true
   },
   "outputs": [],
   "source": [
    "#import sys\n",
    "#sys.path.append('/opt/conda/lib/python3.7/site-packages')\n",
    "#sys.path.append('/opt/conda/envs/DLM_R2Py/lib/python3.7/site-packages')\n",
    "\n",
    "import os\n",
    "os.environ[\"CUDA_DEVICE_ORDER\"]=\"PCI_BUS_ID\"\n",
    "os.environ[\"CUDA_VISIBLE_DEVICES\"]=\"0\"\n",
    "\n",
    "%reload_ext autoreload\n",
    "%autoreload 2\n",
    "import sys\n",
    "#!{sys.executable} -m pip install --upgrade matplotlib\n",
    "#%matplotlib notebook\n",
    "%matplotlib inline\n",
    "#from bokeh.io import output_notebook\n",
    "\n",
    "from typing import Dict, List, Callable, Tuple, Union\n",
    "\n",
    "\n",
    "sys.path.append('../wsi_processing_pipeline/')\n",
    "sys.path.append('../wsi_processing_pipeline/tile_extraction/')\n",
    "from tile_extraction import tiles, util, slide\n",
    "\n",
    "\n",
    "import os\n",
    "import pandas\n",
    "import pandas as pd\n",
    "import numpy\n",
    "import numpy as np\n",
    "import torch, torchvision\n",
    "import pathlib\n",
    "from pathlib import Path\n",
    "Path.ls = lambda x: [p for p in list(x.iterdir()) if '.ipynb_checkpoints' not in p.name]\n",
    "\n",
    "import PIL\n",
    "from PIL import Image\n",
    "\n",
    "import fastai\n",
    "from fastai import vision\n",
    "import matplotlib.pyplot as plt\n",
    "import matplotlib.patches\n",
    "import pycocotools\n",
    "#from pycocotools import mask\n",
    "from itertools import groupby\n",
    "from sklearn.model_selection import train_test_split\n",
    "from tqdm.notebook import tqdm\n",
    "import cv2\n",
    "import random\n",
    "import scipy.io\n",
    "import json\n",
    "import pickle\n",
    "import math\n",
    "\n",
    "#Base path to datasets\n",
    "PATH = Path('/home/Deep_Learner/private/datasets/nuclei_datasets/')\n",
    "\n",
    "\n",
    "dataset_name_train = 'nuclei_train'\n",
    "dataset_name_valid = 'nuclei_valid'\n",
    "dataset_name_test = 'nuclei_test'\n",
    "dataset_name_all_combined = 'all_combined'\n",
    "dataset_name_all_combined_without_excluded = 'all_combined_without_excluded'\n",
    "\n",
    "seed = 19\n",
    "np.random.seed(seed)\n",
    "\n",
    "import detectron2\n",
    "from detectron2.utils.logger import setup_logger\n",
    "setup_logger()\n",
    "\n",
    "from detectron2 import model_zoo\n",
    "from detectron2.config import get_cfg\n",
    "from detectron2.utils.visualizer import Visualizer\n",
    "from detectron2.data import MetadataCatalog\n",
    "from detectron2.structures import BoxMode\n",
    "from detectron2.config import get_cfg\n",
    "from detectron2.engine import DefaultTrainer\n",
    "from detectron2.engine import DefaultPredictor\n",
    "from detectron2.data import DatasetCatalog, MetadataCatalog\n",
    "from detectron2.utils.visualizer import ColorMode"
   ]
  },
  {
   "cell_type": "markdown",
   "metadata": {},
   "source": [
    "# util functions  // TODO: function from polygon representation to binary mask"
   ]
  },
  {
   "cell_type": "code",
   "execution_count": null,
   "metadata": {},
   "outputs": [],
   "source": [
    "def visualize(dataset_dicts:List[Dict],\n",
    "              metadata:detectron2.data.catalog.Metadata,\n",
    "              ground_truth_available:bool,\n",
    "              with_preds:bool,\n",
    "              predictor, \n",
    "              extract_otf_from_wsi:bool=False, \n",
    "              captions:List[str] = None, \n",
    "              figsize=(20,20), \n",
    "              caption_generators:List[Callable]=None):\n",
    "    \"\"\"\n",
    "    Arguments:\n",
    "        caption_generators: every caption_generator is a function that takes a dict from the dataset_dicts list and returns\n",
    "                            some value, which will be printed together with the function name over the image\n",
    "    \"\"\"\n",
    "    for n, d in enumerate(dataset_dicts):\n",
    "        path = d['file_name']\n",
    "        print(path)\n",
    "                \n",
    "        imgs_to_show = []\n",
    "               \n",
    "        ### original image\n",
    "        img = None\n",
    "        if not extract_otf_from_wsi:\n",
    "            ###some of the images are in rgba format, [:,:,:3] drops the alpha\n",
    "            img = numpy.array(PIL.Image.open(path))[:,:,:3]\n",
    "        else:\n",
    "            img = numpy.array(open_image_from_wsi(d))           \n",
    "        imgs_to_show.append(img)\n",
    "        \n",
    "        ### instantiate Visualizer\n",
    "        v = Visualizer(img,\n",
    "                       metadata=metadata, \n",
    "                       scale=1, \n",
    "                       instance_mode=ColorMode.IMAGE)\n",
    "        \n",
    "        ### prediction\n",
    "        if with_preds:\n",
    "            pred = predictor(img[:, :, ::-1])\n",
    "            n_predicted = len(pred['instances'])\n",
    "            print(f'number of predicted instances: {n_predicted}')\n",
    "            img_with_preds = v.draw_instance_predictions(pred[\"instances\"].to(\"cpu\")).get_image()\n",
    "            imgs_to_show.append(img_with_preds)\n",
    "            \n",
    "                                \n",
    "        ### ground truth\n",
    "        if ground_truth_available:\n",
    "            ### image with ground truth boxes and masks   \n",
    "            img_with_ground_truth = v.draw_dataset_dict(d).get_image()\n",
    "            imgs_to_show.append(img_with_ground_truth)\n",
    "            \n",
    "            ##  // TODO: function from polygon representation to binary mask\n",
    "            ### merged masks of the ground truth\n",
    "            #masks = None\n",
    "            #try:\n",
    "            #    masks = [open_mask_as_np(mp) for mp in get_masks_path_from_id(path.stem, base_path=path.parent.parent.parent).ls()]    \n",
    "            #except FileNotFoundError:\n",
    "            #    masks = get_mask_list_from_rle_for_one_id(path.stem, df_rle_labels, shape=(d['width'],d['height']))\n",
    "            #n_actual = d['annotations']\n",
    "            #print(f'number of actual instances: {len(n_actual)}')\n",
    "            #print(f'number of actual instances: {len(masks)}')\n",
    "            #merged_mask_ground_truth = merge_masks(masks, shape=(masks[0].shape[0], masks[0].shape[1]))\n",
    "            #imgs_to_show.append(merged_mask_ground_truth)\n",
    "            \n",
    "        \n",
    "        ### captions\n",
    "        try:\n",
    "            print(captions[n])\n",
    "        except:\n",
    "            ## do nothing\n",
    "            pass\n",
    "        \n",
    "        if caption_generators != None and len(caption_generators) > 0:\n",
    "            for cg in caption_generators:\n",
    "                try:\n",
    "                    print(f'{cg.__name__}: {cg(d)}')\n",
    "                except:\n",
    "                    print(f'{cg.__name__}: failed')\n",
    "               \n",
    "        ### plot    \n",
    "        f, axarr = plt.subplots(1,len(imgs_to_show), figsize=figsize)\n",
    "        for n, i in enumerate(imgs_to_show):\n",
    "            if len(i.shape) == 2:\n",
    "                axarr[n].imshow(i)\n",
    "            else:\n",
    "                axarr[n].imshow(i)            \n",
    "        plt.show()\n",
    "\n",
    "\n",
    "def get_all_file_paths_recursively(path:pathlib.Path, suffix:str = '.png')->List[pathlib.Path]:\n",
    "    paths = []\n",
    "    for p in path.ls():\n",
    "        if p.is_file() and p.suffix == suffix:\n",
    "            paths.append(p)\n",
    "        elif p.is_dir():\n",
    "            paths = paths + get_all_file_paths_recursively(p)\n",
    "    return paths \n",
    "\n",
    "def save_as_pickle(obj:object, path):\n",
    "    with open(path, 'wb') as file:\n",
    "        pickle.dump(obj, file)\n",
    "\n",
    "def load_pickle(path):\n",
    "    with open(path, 'rb') as file:\n",
    "        return pickle.load(file)\n",
    "\n",
    "\n",
    "def save_as_json(dataset_dict, path):\n",
    "    with open(path, 'w') as outfile:\n",
    "        json.dump(dataset_dict, outfile)\n",
    "\n",
    "def load_json(path)->List[Dict]:\n",
    "    with open(path) as json_file:\n",
    "        #return json.loads(json.load(json_file))\n",
    "        return json.load(json_file)\n",
    "\n",
    "\n",
    "    \n",
    "from matplotlib.pyplot import imshow\n",
    "def show_pil(path:pathlib.Path):    \n",
    "    imshow(np.asarray(Image.open(path)))\n",
    "    plt.show()\n",
    "\n",
    "def get_path_from_id(img_id:str, base_path:pathlib.Path)->pathlib.Path:\n",
    "    \"\"\"\n",
    "    Arguments:\n",
    "        base_path: here ~/2018_Data_Science_Bowl/stage1_train/   or   ~/2018_Data_Science_Bowl/stage1_test/\n",
    "    \"\"\"\n",
    "    for p in base_path.ls():\n",
    "        if img_id in p.stem:\n",
    "            return p\n",
    "\n",
    "def get_masks_path_from_id(img_id:str, base_path:pathlib.Path)->pathlib.Path:\n",
    "    \"\"\"\n",
    "    Arguments:\n",
    "        base_path: here ~/2018_Data_Science_Bowl/stage1_train/   or   ~/2018_Data_Science_Bowl/stage1_test/\n",
    "    \"\"\"\n",
    "    return get_path_from_id(img_id, base_path)/'masks'\n",
    "        \n",
    "def open_mask_as_np(path:pathlib.Path)->numpy.ndarray:\n",
    "    return np.asarray(PIL.Image.open(path), dtype=np.bool)\n",
    "\n",
    "\n",
    "def show_np(arr:numpy.ndarray, figsize:tuple=(4,4)):\n",
    "    #plt.imshow(arr)\n",
    "    #plt.show()\n",
    "    f, axarr = plt.subplots(1,1, figsize=figsize)\n",
    "    axarr.imshow(arr)            \n",
    "    plt.show()\n",
    "\n",
    "def show_np_with_bboxes(img:numpy.ndarray, bboxes:List[numpy.ndarray], figsize:tuple=(10,10)):\n",
    "    \"\"\"\n",
    "    Arguments:\n",
    "        img: img as numpy array\n",
    "        bboxes: List of bounding boxes where each bbox is a numpy array: \n",
    "                array([ x-upper-left, y-upper-left,  width,  height]) \n",
    "                e.g. array([ 50., 211.,  17.,  19.])\n",
    "    \"\"\"    \n",
    "    # Create figure and axes\n",
    "    fig,ax = plt.subplots(1,1,figsize=figsize)    \n",
    "    # Display the image\n",
    "    ax.imshow(img)    \n",
    "    # Create a Rectangle patch for each bbox\n",
    "    for b in bboxes:\n",
    "        rect = matplotlib.patches.Rectangle((b[0],b[1]),b[2],b[3],linewidth=1,edgecolor='r',facecolor='none')    \n",
    "        # Add the patch to the Axes\n",
    "        ax.add_patch(rect)    \n",
    "    plt.show() \n",
    "  \n",
    "    \n",
    "def merged_mask_to_list_of_single_masks(merged_mask:numpy.array, \n",
    "                                        noise_removal:bool=False, \n",
    "                                        distance_transform_threshold:float=0.0 )->List[numpy.array]:\n",
    "    \"\"\"\n",
    "    techniques from here:\n",
    "    https://opencv-python-tutroals.readthedocs.io/en/latest/py_tutorials/py_imgproc/py_watershed/py_watershed.html\n",
    "    \n",
    "        Arguments:\n",
    "           merged_mask: a binary mask as numpy array with shape (height, width), no third dimension\n",
    "           noise_removal: if True, small noise will be removed\n",
    "           distance_transform_threshold: between 0.0 and 1.0, the larger the more \"shrinking\" will be applied to seperate\n",
    "                                           touching objects via distance transformation\n",
    "        Result:\n",
    "            List of binary mask for every single instance\n",
    "    \"\"\"\n",
    "    # noise removal\n",
    "    if noise_removal:\n",
    "        kernel = np.ones((3,3),np.uint8)\n",
    "        merged_mask = cv2.morphologyEx(merged_mask,cv2.MORPH_OPEN,kernel, iterations = 2)\n",
    "    \n",
    "    # separate touching objects via shrinking\n",
    "    if distance_transform_threshold > 0.0:\n",
    "        merged_mask = cv2.distanceTransform(merged_mask,cv2.DIST_L2,5)\n",
    "        ret, merged_mask = cv2.threshold(merged_mask,distance_transform_threshold*merged_mask.max(),255,0)\n",
    "        merged_mask = merged_mask.astype(np.uint8)\n",
    "\n",
    "    ret, markers = cv2.connectedComponents(merged_mask)\n",
    "    return [(markers == n).astype(int) for n in range(1, ret)]\n",
    "\n",
    "    \n",
    "    \n",
    "def merge_masks(masks:List[numpy.ndarray], shape:tuple=(256,256))->numpy.ndarray:\n",
    "    merged_mask = np.zeros((shape[0],shape[1]), dtype=np.bool)\n",
    "    for mask in masks:\n",
    "        merged_mask = np.maximum(merged_mask, mask)\n",
    "    return merged_mask\n",
    "\n",
    "def merge_masks_from_path(path:pathlib.Path, shape:tuple=(256,256))->numpy.ndarray:\n",
    "    return merge_masks([open_mask_as_np(p) for p in path.ls()], shape)\n",
    "\n",
    "\n",
    "def rle_encode(mask_np:numpy.ndarray)->List[int]:\n",
    "    '''\n",
    "    mask_np: numpy array of shape (height, width), 1 = mask, 0 = background\n",
    "    Returns run length as list\n",
    "    '''\n",
    "    dots = np.where(mask_np.T.flatten()==1)[0] # .T sets Fortran order down-then-right\n",
    "    run_lengths = []\n",
    "    prev = -2\n",
    "    for b in dots:\n",
    "        if (b>prev+1): run_lengths.extend((b+1, 0))\n",
    "        run_lengths[-1] += 1\n",
    "        prev = b\n",
    "    return run_lengths\n",
    "\n",
    "def rle_from_list_to_string(rle_as_list:List[int])->str:\n",
    "    return ' '.join([str(e) for e in rle_as_list])\n",
    "\n",
    "def rle_decode(mask_rle:str, shape:tuple=(256, 256))->numpy.ndarray:\n",
    "    '''\n",
    "    Arguments:\n",
    "        mask_rle: run-length as string formated (start length) e.g. \"6908 1 7161 8 7417 8\"\n",
    "        shape: (height,width) of array to return\n",
    "    Returns: \n",
    "        numpy array, True == mask, False == background\n",
    "    '''\n",
    "    #print('rle_decode(mask_rle = ', mask_rle)\n",
    "    s = mask_rle.split()\n",
    "    starts, lengths = [np.asarray(x, dtype=int) for x in (s[0:][::2], s[1:][::2])]\n",
    "    starts -= 1\n",
    "    ends = starts + lengths\n",
    "    mask = np.zeros(shape[0]*shape[1], dtype=np.bool)\n",
    "    for lo, hi in zip(starts, ends):\n",
    "        mask[lo:hi] = True\n",
    "    # Needed to align to RLE direction\n",
    "    return mask.reshape(shape).T\n",
    "\n",
    "def get_mask_list_from_rle_for_one_id(img_id:str, \n",
    "                                      df:pandas.DataFrame, \n",
    "                                      coloumn_name_ids:str='ImageId',\n",
    "                                      coloumn_name_rle:str='EncodedPixels',\n",
    "                                      shape:tuple=(256,256))->List[numpy.ndarray]:\n",
    "    \"\"\"\n",
    "    Arguments:\n",
    "        shape: tuple (width, height)\n",
    "    Returns:\n",
    "        \n",
    "    \"\"\"\n",
    "    masks_rle_df = df.loc[df[coloumn_name_ids] == img_id]\n",
    "    masks = []\n",
    "    for index, row in masks_rle_df.iterrows():\n",
    "        #print(row[coloumn_name_rle])\n",
    "        masks.append(rle_decode(row[coloumn_name_rle], shape))\n",
    "    return masks\n",
    "\n",
    "def mask_to_bbox(mask_np:numpy.ndarray)->numpy.ndarray:\n",
    "    \"\"\"\n",
    "    Arguments: \n",
    "        mask_np: binary mask as numpy array where mask == True or 1 or 1.0 and background == False or 0 or 0.0\n",
    "    Returns:\n",
    "        bounding box as numpy array: array([ x-upper-left, y-upper-left,  width,  height]) \n",
    "                                        e.g. array([ 50., 211.,  17.,  19.])\n",
    "    \"\"\"\n",
    "    return pycocotools.mask.toBbox(pycocotools.mask.encode(np.asarray(mask_np, order=\"F\")))\n",
    "\n",
    "\n",
    "def rle_encode_pycoco(mask_np:numpy.ndarray)->dict:\n",
    "    '''\n",
    "    Arguments:\n",
    "        mask_np: numpy array of shape (height, width), 1 = mask, 0 = background\n",
    "    Returns: \n",
    "        dict with size and per-pixel segmentation mask in COCO's RLE format.        \n",
    "    '''\n",
    "    #option 1\n",
    "    return pycocotools.mask.encode(np.asarray(mask, order=\"F\"))\n",
    "    #option 2\n",
    "    #rle = {'counts': [], 'size': list(mask_np.shape)}\n",
    "    #counts = rle.get('counts')\n",
    "    #for i, (value, elements) in enumerate(groupby(mask_np.ravel(order='F'))):\n",
    "    #    if i == 0 and value == 1:\n",
    "    #        counts.append(0)\n",
    "    #    counts.append(len(list(elements)))\n",
    "    #return rle\n",
    "\n",
    "#!{sys.executable} -m pip install imantics\n",
    "import imantics\n",
    "from imantics import Polygons, Mask\n",
    "def get_polygon_from_binary_mask(mask_np:numpy.ndarray)->List[float]:\n",
    "    \"\"\"\n",
    "    Arguments:\n",
    "        binary mask as numpy array\n",
    "    Returns:\n",
    "        list[int] is one simple polygon in the format of [x1, y1, ..., xn, yn]\n",
    "    \"\"\"\n",
    "    return [float(c) for c in list(Mask(mask_np).polygons()[0])]"
   ]
  },
  {
   "cell_type": "markdown",
   "metadata": {
    "heading_collapsed": true
   },
   "source": [
    "# some util examples"
   ]
  },
  {
   "cell_type": "markdown",
   "metadata": {
    "heading_collapsed": true,
    "hidden": true
   },
   "source": [
    "## load csv"
   ]
  },
  {
   "cell_type": "code",
   "execution_count": null,
   "metadata": {
    "hidden": true
   },
   "outputs": [],
   "source": [
    "s1_trn_lbs_df = pd.read_csv(STAGE1_TRAIN_LABELS)"
   ]
  },
  {
   "cell_type": "code",
   "execution_count": null,
   "metadata": {
    "hidden": true
   },
   "outputs": [],
   "source": [
    "s1_trn_lbs_df"
   ]
  },
  {
   "cell_type": "code",
   "execution_count": null,
   "metadata": {
    "hidden": true
   },
   "outputs": [],
   "source": [
    "img_id = s1_trn_lbs_df.iloc[0][0];img_id"
   ]
  },
  {
   "cell_type": "markdown",
   "metadata": {
    "heading_collapsed": true,
    "hidden": true
   },
   "source": [
    "## merge existing single masks of one image - example"
   ]
  },
  {
   "cell_type": "code",
   "execution_count": null,
   "metadata": {
    "hidden": true
   },
   "outputs": [],
   "source": [
    "img_id_p = get_path_from_id(img_id, STAGE1_TRAIN)"
   ]
  },
  {
   "cell_type": "code",
   "execution_count": null,
   "metadata": {
    "hidden": true
   },
   "outputs": [],
   "source": [
    "masks_path = get_masks_path_from_id(img_id, STAGE1_TRAIN);masks_path"
   ]
  },
  {
   "cell_type": "code",
   "execution_count": null,
   "metadata": {
    "hidden": true
   },
   "outputs": [],
   "source": [
    "masks_np = [open_mask_as_np(p) for p in masks_path.ls()]"
   ]
  },
  {
   "cell_type": "code",
   "execution_count": null,
   "metadata": {
    "hidden": true
   },
   "outputs": [],
   "source": [
    "merged_mask = merge_masks_from_path(masks_path,(256,256))"
   ]
  },
  {
   "cell_type": "code",
   "execution_count": null,
   "metadata": {
    "hidden": true
   },
   "outputs": [],
   "source": [
    "show_np(merged_mask)"
   ]
  },
  {
   "cell_type": "markdown",
   "metadata": {
    "heading_collapsed": true,
    "hidden": true
   },
   "source": [
    "## decode run length encoding to mask - example"
   ]
  },
  {
   "cell_type": "code",
   "execution_count": null,
   "metadata": {
    "hidden": true
   },
   "outputs": [],
   "source": [
    "masks = get_mask_list_from_rle_for_one_id(img_id, s1_trn_lbs_df)"
   ]
  },
  {
   "cell_type": "code",
   "execution_count": null,
   "metadata": {
    "hidden": true
   },
   "outputs": [],
   "source": [
    "merged_mask = merge_masks(masks)"
   ]
  },
  {
   "cell_type": "code",
   "execution_count": null,
   "metadata": {
    "hidden": true
   },
   "outputs": [],
   "source": [
    "show_np(merged_mask)"
   ]
  },
  {
   "cell_type": "markdown",
   "metadata": {
    "heading_collapsed": true,
    "hidden": true
   },
   "source": [
    "## get bounding box from mask in format x,y (left upper corner); width, heigth - example"
   ]
  },
  {
   "cell_type": "code",
   "execution_count": null,
   "metadata": {
    "hidden": true
   },
   "outputs": [],
   "source": [
    "img_id"
   ]
  },
  {
   "cell_type": "code",
   "execution_count": null,
   "metadata": {
    "hidden": true
   },
   "outputs": [],
   "source": [
    "img_p = get_path_from_id(img_id, STAGE1_TRAIN);img_p"
   ]
  },
  {
   "cell_type": "code",
   "execution_count": null,
   "metadata": {
    "hidden": true
   },
   "outputs": [],
   "source": [
    "masks_p = get_masks_path_from_id(img_id, STAGE1_TRAIN);masks_p"
   ]
  },
  {
   "cell_type": "code",
   "execution_count": null,
   "metadata": {
    "hidden": true
   },
   "outputs": [],
   "source": [
    "bboxes = []\n",
    "for p in masks_p.ls():\n",
    "    mask_np = open_mask_as_np(p)\n",
    "    bboxes.append(mask_to_bbox(mask_np))"
   ]
  },
  {
   "cell_type": "code",
   "execution_count": null,
   "metadata": {
    "hidden": true
   },
   "outputs": [],
   "source": [
    "merged_mask = merge_masks_from_path(masks_p)"
   ]
  },
  {
   "cell_type": "code",
   "execution_count": null,
   "metadata": {
    "hidden": true
   },
   "outputs": [],
   "source": [
    "show_np_with_bboxes(merged_mask,bboxes)"
   ]
  },
  {
   "cell_type": "markdown",
   "metadata": {
    "heading_collapsed": true
   },
   "source": [
    "# Data"
   ]
  },
  {
   "cell_type": "markdown",
   "metadata": {
    "hidden": true
   },
   "source": [
    "## Get various datsets into right format for detectron2"
   ]
  },
  {
   "cell_type": "markdown",
   "metadata": {
    "hidden": true
   },
   "source": [
    "### dsb 2018"
   ]
  },
  {
   "cell_type": "code",
   "execution_count": null,
   "metadata": {
    "hidden": true
   },
   "outputs": [],
   "source": [
    "#data science bowl 2018 dataset\n",
    "DSB_2018 = PATH/'2018_Data_Science_Bowl'\n",
    "DSB_2018_STAGE1_TRAIN = DSB_2018/'stage1_train'\n",
    "DSB_2018_STAGE1_TEST = DSB_2018/'stage1_test'\n",
    "DSB_2018_STAGE1_TRAIN_LABELS = DSB_2018/'stage1_train_labels.csv'\n",
    "DSB_2018_STAGE1_TEST_LABELS = DSB_2018/'stage1_solution.csv'\n",
    "DSB_2018_STAGE2_TEST = DSB_2018/'stage2_test_final'\n",
    "DSB_2018_STAGE2_TEST_SAMPLE_SUBMISSION = DSB_2018/'stage2_sample_submission_final.csv'\n",
    "\n",
    "dataset_name_dsb18_train_and_test1 = 'dsb18_train_and_test1'\n",
    "dataset_name_dsb18_test2 = 'dsb18_test2'\n",
    "\n",
    "def get_nuclei_dicts_dsb18(isTestSet:bool=False):\n",
    "    \"\"\"\n",
    "    Arguments:\n",
    "    \"\"\"\n",
    "    dataset_dicts_dsb18_pickle_filepath = None\n",
    "    if isTestSet:        \n",
    "        dataset_dicts_dsb18_pickle_filepath = Path('./dataset_dicts/dataset_dicts_dsb18_test2.pickle')\n",
    "    else:\n",
    "        dataset_dicts_dsb18_pickle_filepath = Path('./dataset_dicts/dataset_dicts_dsb18_train+test1.pickle')\n",
    "        \n",
    "    if dataset_dicts_dsb18_pickle_filepath.exists():\n",
    "        return load_pickle(dataset_dicts_dsb18_pickle_filepath)\n",
    "    else:        \n",
    "        img_paths = None\n",
    "        if isTestSet:\n",
    "            img_paths = [path/'images'/f'{path.name}.png' for path in DSB_2018_STAGE2_TEST.ls()]\n",
    "        else:\n",
    "            excluded_ids = ['7b38c9173ebe69b4c6ba7e703c0c27f39305d9b2910f46405993d2ea7a963b80']\n",
    "            img_paths = [p/'images'/f'{p.name}.png' for p in DSB_2018_STAGE1_TRAIN.ls()+DSB_2018_STAGE1_TEST.ls() \\\n",
    "                 if p.name not in excluded_ids]\n",
    "                   \n",
    "        dataset_dicts = []\n",
    "        for path in tqdm(img_paths):\n",
    "            path = Path(path)\n",
    "            record = {}\n",
    "    \n",
    "            img_pil = PIL.Image.open(path)\n",
    "                \n",
    "            width = img_pil.width\n",
    "            height = img_pil.height\n",
    "            \n",
    "            record[\"file_name\"] = str(path)\n",
    "            record[\"image_id\"] = path.stem\n",
    "            record[\"height\"] = height\n",
    "            record[\"width\"] = width\n",
    "            \n",
    "            \n",
    "            objs = []\n",
    "            if not isTestSet:\n",
    "                df_rle_labels = pd.concat([pd.read_csv(DSB_2018_STAGE1_TRAIN_LABELS), \n",
    "                                pd.read_csv(DSB_2018_STAGE1_TEST_LABELS)], \n",
    "                                ignore_index=True, sort=False)\n",
    "                masks = get_mask_list_from_rle_for_one_id(path.stem, df_rle_labels, shape=(width,height))\n",
    "                                \n",
    "                for mask in masks:\n",
    "                    obj = {\"bbox\": list(mask_to_bbox(mask)),\n",
    "                            \"bbox_mode\": BoxMode.XYWH_ABS,\n",
    "                            \"segmentation\": [get_polygon_from_binary_mask(mask)],\n",
    "                            #\"segmentation\": rle_encode_pycoco(mask),\n",
    "                            \"category_id\": 0,\n",
    "                            \"iscrowd\": 0}\n",
    "                    ### detectron2 lib throws AssertionError if not (len(polygon) % 2 == 0 and len(polygon) >= 6)\n",
    "                    if len(obj[\"segmentation\"][0]) >= 6:\n",
    "                        objs.append(obj)\n",
    "                    \n",
    "            record[\"annotations\"] = objs\n",
    "            dataset_dicts.append(record)\n",
    "        save_as_pickle(dataset_dicts, dataset_dicts_dsb18_pickle_filepath)\n",
    "        return dataset_dicts"
   ]
  },
  {
   "cell_type": "code",
   "execution_count": null,
   "metadata": {
    "hidden": true
   },
   "outputs": [],
   "source": [
    "dataset_dicts_dsb18_train_and_test1 = get_nuclei_dicts_dsb18(isTestSet=False)"
   ]
  },
  {
   "cell_type": "code",
   "execution_count": null,
   "metadata": {
    "hidden": true
   },
   "outputs": [],
   "source": [
    "dataset_dicts_dsb18_test2 = get_nuclei_dicts_dsb18(isTestSet=True)"
   ]
  },
  {
   "cell_type": "code",
   "execution_count": null,
   "metadata": {
    "hidden": true
   },
   "outputs": [],
   "source": [
    "DatasetCatalog.clear()\n",
    "DatasetCatalog.register(dataset_name_dsb18_train_and_test1, lambda : get_nuclei_dicts_dsb18_train_and_test1)\n",
    "MetadataCatalog.get(dataset_name_dsb18_train_and_test1).set(thing_classes=[\"nucleus\"])\n",
    "metadata_nuclei_dsb18_train_and_test1 = MetadataCatalog.get(dataset_name_dsb18_train_and_test1)\n",
    "\n",
    "visualize(random.sample(dataset_dicts_dsb18_train_and_test1,4), \n",
    "          metadata_nuclei_dsb18_train_and_test1,\n",
    "             ground_truth_available=True,\n",
    "             with_preds=False, \n",
    "             predictor=None)"
   ]
  },
  {
   "cell_type": "markdown",
   "metadata": {
    "hidden": true
   },
   "source": [
    "### MoNuSeg 2018 (TODO: test set)"
   ]
  },
  {
   "cell_type": "code",
   "execution_count": null,
   "metadata": {
    "hidden": true
   },
   "outputs": [],
   "source": [
    "### MoNuSeg 2018\n",
    "MONUSEG_2018 = PATH/'MONUSEG_2018'\n",
    "MONUSEG_2018_TRAIN = MONUSEG_2018/'MoNuSeg_2018_Training_data'\n",
    "MONUSEG_2018_TEST = MONUSEG_2018/'MoNuSegTestData'\n",
    "\n",
    "dataset_name_monuseg18 = 'monuseg18'\n",
    "\n",
    "def get_nuclei_dicts_monuseg18():\n",
    "    \"\"\"\n",
    "    Arguments:\n",
    "    \"\"\"    \n",
    "    dataset_dicts_monuseg18_pickle_filepath = Path('./dataset_dicts/dataset_dicts_monuseg18.pickle')\n",
    "        \n",
    "    if dataset_dicts_monuseg18_pickle_filepath.exists():\n",
    "        return load_pickle(dataset_dicts_monuseg18_pickle_filepath)\n",
    "    else:        \n",
    "        img_paths_train = [p/'images'/f'{p.name}.png' for p in MONUSEG_2018_TRAIN.ls() if not '.ipynb_checkpoints' in str(p)] \n",
    "        img_paths_test = [p for p in MONUSEG_2018_TEST.ls() if p.suffix == '.tif']        \n",
    "        \n",
    "        dataset_dicts = []\n",
    "        for path in tqdm(img_paths_train):\n",
    "            path = Path(path)\n",
    "            record = {}\n",
    "    \n",
    "            img_pil = PIL.Image.open(path)\n",
    "                \n",
    "            record[\"file_name\"] = path\n",
    "            record[\"image_id\"] = path.stem\n",
    "            record[\"height\"] = img_pil.height\n",
    "            record[\"width\"] = img_pil.width\n",
    "                        \n",
    "            masks = [open_mask_as_np(mp) for mp in \\\n",
    "                     get_masks_path_from_id(path.stem, base_path=path.parent.parent.parent).ls()]    \n",
    "            objs = []                    \n",
    "            for mask in masks:\n",
    "                obj = {\"bbox\": list(mask_to_bbox(mask)),\n",
    "                        \"bbox_mode\": BoxMode.XYWH_ABS,\n",
    "                        \"segmentation\": [get_polygon_from_binary_mask(mask)],\n",
    "                        #\"segmentation\": rle_encode_pycoco(mask),\n",
    "                        \"category_id\": 0,\n",
    "                        \"iscrowd\": 0}\n",
    "                ### detectron2 lib throws AssertionError if not (len(polygon) % 2 == 0 and len(polygon) >= 6)\n",
    "                if len(obj[\"segmentation\"][0]) >= 6:\n",
    "                    objs.append(obj)\n",
    "                    \n",
    "            record[\"annotations\"] = objs\n",
    "            dataset_dicts.append(record)\n",
    "            \n",
    "        #for path in tqdm(img_paths_test):\n",
    "            ###\n",
    "            # TODO\n",
    "            ###\n",
    "            \n",
    "        save_as_pickle(dataset_dicts, dataset_dicts_monuseg18_pickle_filepath)\n",
    "        return dataset_dicts"
   ]
  },
  {
   "cell_type": "code",
   "execution_count": null,
   "metadata": {
    "hidden": true
   },
   "outputs": [],
   "source": [
    "dataset_dicts_monuseg18 = get_nuclei_dicts_monuseg18()"
   ]
  },
  {
   "cell_type": "code",
   "execution_count": null,
   "metadata": {
    "hidden": true
   },
   "outputs": [],
   "source": [
    "DatasetCatalog.clear()\n",
    "DatasetCatalog.register(dataset_name_monuseg18, lambda : get_nuclei_dicts_monuseg18)\n",
    "MetadataCatalog.get(dataset_name_monuseg18).set(thing_classes=[\"nucleus\"])\n",
    "metadata_nuclei_monuseg18 = MetadataCatalog.get(dataset_name_monuseg18)\n",
    "\n",
    "visualize(random.sample(dataset_dicts_monuseg18,4), \n",
    "          metadata_nuclei_monuseg18,\n",
    "             ground_truth_available=True,\n",
    "             with_preds=False, \n",
    "             predictor=None)"
   ]
  },
  {
   "cell_type": "markdown",
   "metadata": {
    "hidden": true
   },
   "source": [
    "### CoNSeP"
   ]
  },
  {
   "cell_type": "code",
   "execution_count": null,
   "metadata": {
    "hidden": true
   },
   "outputs": [],
   "source": [
    "### CoNSeP dataset\n",
    "CONSEP = PATH/'CoNSeP'\n",
    "CONSEP_IMAGES = CONSEP/'Images'\n",
    "CONSEP_LABELS = CONSEP/'Labels'\n",
    "\n",
    "dataset_name_consep = 'consep'\n",
    "\n",
    "def get_nuclei_dicts_consep():\n",
    "    \"\"\"\n",
    "    Arguments:\n",
    "    \"\"\" \n",
    "    dataset_dicts_consep_pickle_filepath = Path('./dataset_dicts/dataset_dicts_consep.pickle')\n",
    "    if dataset_dicts_consep_pickle_filepath.exists():\n",
    "        return load_pickle(dataset_dicts_consep_pickle_filepath)\n",
    "    else:\n",
    "        consep_image_paths = CONSEP_IMAGES.ls()\n",
    "        consep_label_paths = CONSEP_LABELS.ls()\n",
    "        dataset_dicts = []\n",
    "        \n",
    "        for img_path in tqdm(consep_image_paths):\n",
    "            record = {}\n",
    "            \n",
    "            name = img_path.stem\n",
    "            ### find corresponding .mat label file for image\n",
    "            label_path = None\n",
    "            for lbl_path in consep_label_paths:\n",
    "                if name == lbl_path.stem:\n",
    "                    label_path = lbl_path\n",
    "                    break\n",
    "            ### every instance mask is encoded with a unique number, all in one channel\n",
    "            masks_combined = scipy.io.loadmat(label_path)['inst_map']\n",
    "            \n",
    "            height = masks_combined.shape[0]\n",
    "            width = masks_combined.shape[1]\n",
    "                    \n",
    "            record[\"file_name\"] = img_path\n",
    "            record[\"image_id\"] = img_path\n",
    "            record[\"height\"] = height\n",
    "            record[\"width\"] = width\n",
    "                   \n",
    "            masks = [(masks_combined == n).astype(int) for n in range(1, int(np.max(masks_combined))+1)]    \n",
    "            \n",
    "            objs = []\n",
    "            for mask in masks:\n",
    "                obj = {\"bbox\": list(mask_to_bbox(mask.astype(np.uint8))),\n",
    "                        \"bbox_mode\": BoxMode.XYWH_ABS,\n",
    "                        \"segmentation\": [get_polygon_from_binary_mask(mask)],\n",
    "                        #\"segmentation\": rle_encode_pycoco(mask),\n",
    "                        \"category_id\": 0,\n",
    "                        \"iscrowd\": 0}\n",
    "                ### detectron2 lib throws AssertionError if not (len(polygon) % 2 == 0 and len(polygon) >= 6)\n",
    "                if len(obj[\"segmentation\"][0]) >= 6:\n",
    "                    objs.append(obj)\n",
    "                    \n",
    "            # free memory, otherwise kernel will die\n",
    "            masks = None        \n",
    "            record[\"annotations\"] = objs\n",
    "            dataset_dicts.append(record)\n",
    "            \n",
    "        save_as_pickle(dataset_dicts, dataset_dicts_consep_pickle_filepath)    \n",
    "        return dataset_dicts"
   ]
  },
  {
   "cell_type": "code",
   "execution_count": null,
   "metadata": {
    "hidden": true,
    "scrolled": true
   },
   "outputs": [],
   "source": [
    "dataset_dicts_consep = get_nuclei_dicts_consep()"
   ]
  },
  {
   "cell_type": "code",
   "execution_count": null,
   "metadata": {
    "hidden": true
   },
   "outputs": [],
   "source": [
    "DatasetCatalog.clear()\n",
    "DatasetCatalog.register(dataset_name_consep, lambda : get_nuclei_dicts_consep)\n",
    "MetadataCatalog.get(dataset_name_consep).set(thing_classes=[\"nucleus\"])\n",
    "metadata_nuclei_consep = MetadataCatalog.get(dataset_name_consep)\n",
    "\n",
    "visualize(random.sample(dataset_dicts_consep,4), \n",
    "          metadata_nuclei_consep,\n",
    "             ground_truth_available=True,\n",
    "             with_preds=False, \n",
    "             predictor=None)"
   ]
  },
  {
   "cell_type": "markdown",
   "metadata": {
    "hidden": true
   },
   "source": [
    "### janowczyk"
   ]
  },
  {
   "cell_type": "code",
   "execution_count": null,
   "metadata": {
    "hidden": true
   },
   "outputs": [],
   "source": [
    "# janowczyk http://www.andrewjanowczyk.com/use-case-1-nuclei-segmentation/\n",
    "JANOWCZYK = PATH/'janowczyk'\n",
    "\n",
    "dataset_name_janowczyk = 'janowczyk'\n",
    "\n",
    "def janowczyk_img_name_to_id(img_name:str):\n",
    "    splits = img_name.split('_')\n",
    "    return f'{splits[0]}_{splits[1]}_{splits[2]}'\n",
    "\n",
    "\n",
    "def janowczyk_find_mask_for_image(img_path, mask_paths:List[pathlib.Path]):\n",
    "    for mask_p in mask_paths:\n",
    "        if janowczyk_img_name_to_id(img_path.name) == janowczyk_img_name_to_id(mask_p.name):\n",
    "            return mask_p\n",
    "\n",
    "def get_nuclei_dicts_janowczyk():\n",
    "    \"\"\"\n",
    "    Arguments:\n",
    "    \"\"\" \n",
    "    dataset_dicts_janowczyk_pickle_filepath = Path('./dataset_dicts/dataset_dicts_janowczyk.pickle')\n",
    "    if dataset_dicts_janowczyk_pickle_filepath.exists():\n",
    "        return load_pickle(dataset_dicts_janowczyk_pickle_filepath)\n",
    "    else:\n",
    "        janowczyk_image_paths = [p for p in JANOWCZYK.ls() if p.suffix == '.tif'] \n",
    "        janowczyk_mask_paths = [p for p in JANOWCZYK.ls() if p.suffix == '.png']\n",
    "        \n",
    "        dataset_dicts = []       \n",
    "        for img_path in tqdm(janowczyk_image_paths):\n",
    "            record = {}\n",
    "            \n",
    "            mask_path = janowczyk_find_mask_for_image(img_path, janowczyk_mask_paths)\n",
    "            mask_merged = cv2.imread(str(mask_path))[:,:,0]\n",
    "                               \n",
    "            record[\"file_name\"] = img_path\n",
    "            record[\"image_id\"] = janowczyk_img_name_to_id(img_path.name)\n",
    "            record[\"height\"] = mask_merged.shape[0]\n",
    "            record[\"width\"] = mask_merged.shape[1]\n",
    "                   \n",
    "            masks = merged_mask_to_list_of_single_masks(merged_mask=mask_merged, \n",
    "                                                        noise_removal=True, \n",
    "                                                        distance_transform_threshold=0.0)    \n",
    "            \n",
    "            objs = []\n",
    "            for mask in masks:\n",
    "                obj = {\"bbox\": list(mask_to_bbox(mask.astype(np.uint8))),\n",
    "                        \"bbox_mode\": BoxMode.XYWH_ABS,\n",
    "                        \"segmentation\": [get_polygon_from_binary_mask(mask)],\n",
    "                        #\"segmentation\": rle_encode_pycoco(mask),\n",
    "                        \"category_id\": 0,\n",
    "                        \"iscrowd\": 0}\n",
    "                ### detectron2 lib throws AssertionError if not (len(polygon) % 2 == 0 and len(polygon) >= 6)\n",
    "                if len(obj[\"segmentation\"][0]) >= 6:\n",
    "                    objs.append(obj)\n",
    "                    \n",
    "            # free memory, otherwise kernel will die\n",
    "            masks = None\n",
    "            mask_merged = None\n",
    "            record[\"annotations\"] = objs\n",
    "            dataset_dicts.append(record)\n",
    "            \n",
    "        save_as_pickle(dataset_dicts, dataset_dicts_janowczyk_pickle_filepath)    \n",
    "        return dataset_dicts"
   ]
  },
  {
   "cell_type": "code",
   "execution_count": null,
   "metadata": {
    "hidden": true
   },
   "outputs": [],
   "source": [
    "dataset_dicts_janowczyk = get_nuclei_dicts_janowczyk()"
   ]
  },
  {
   "cell_type": "code",
   "execution_count": null,
   "metadata": {
    "hidden": true
   },
   "outputs": [],
   "source": [
    "DatasetCatalog.clear()\n",
    "DatasetCatalog.register(dataset_name_janowczyk, lambda : get_nuclei_dicts_janowczyk)\n",
    "MetadataCatalog.get(dataset_name_janowczyk).set(thing_classes=[\"nucleus\"])\n",
    "metadata_nuclei_janowczyk = MetadataCatalog.get(dataset_name_janowczyk)\n",
    "\n",
    "visualize(random.sample(dataset_dicts_janowczyk,4), \n",
    "          metadata_nuclei_janowczyk,\n",
    "         ground_truth_available=True,\n",
    "         with_preds=False, \n",
    "         predictor=None)"
   ]
  },
  {
   "cell_type": "markdown",
   "metadata": {
    "hidden": true
   },
   "source": [
    "### TNBC"
   ]
  },
  {
   "cell_type": "code",
   "execution_count": null,
   "metadata": {
    "hidden": true
   },
   "outputs": [],
   "source": [
    "TNBC = PATH/'TNBC_NucleiSegmentation'\n",
    "TNBC_SLIDES = TNBC/'slides'\n",
    "TNBC_MASKS = TNBC/'masks'\n",
    "dataset_name_tnbc = 'tnbc'\n",
    "\n",
    "def tnbc_find_mask_for_image(img_path, mask_paths:List[pathlib.Path]):\n",
    "    for mask_p in mask_paths:\n",
    "        if img_path.name == mask_p.name:\n",
    "            return mask_p\n",
    "\n",
    "def get_nuclei_dicts_tnbc():\n",
    "    \"\"\"\n",
    "    Arguments:\n",
    "    \"\"\" \n",
    "    dataset_dicts_tnbc_pickle_filepath = Path('./dataset_dicts/dataset_dicts_tnbc.pickle')\n",
    "    if dataset_dicts_tnbc_pickle_filepath.exists():\n",
    "        return load_pickle(dataset_dicts_tnbc_pickle_filepath)\n",
    "    else:\n",
    "        tnbc_image_paths = get_all_file_paths_recursively(TNBC_SLIDES)\n",
    "        tnbc_mask_paths = get_all_file_paths_recursively(TNBC_MASKS)\n",
    "        \n",
    "        dataset_dicts = []       \n",
    "        for img_path in tqdm(tnbc_image_paths):\n",
    "            record = {}\n",
    "            \n",
    "            mask_path = tnbc_find_mask_for_image(img_path, tnbc_mask_paths)\n",
    "            mask_merged = cv2.imread(str(mask_path))[:,:,0]\n",
    "                               \n",
    "            record[\"file_name\"] = img_path\n",
    "            record[\"image_id\"] = img_path.name\n",
    "            record[\"height\"] = mask_merged.shape[0]\n",
    "            record[\"width\"] = mask_merged.shape[1]\n",
    "                   \n",
    "            masks = merged_mask_to_list_of_single_masks(merged_mask=mask_merged, \n",
    "                                                        noise_removal=True, \n",
    "                                                        distance_transform_threshold=0.0)    \n",
    "            \n",
    "            objs = []\n",
    "            for mask in masks:\n",
    "                obj = {\"bbox\": list(mask_to_bbox(mask.astype(np.uint8))),\n",
    "                        \"bbox_mode\": BoxMode.XYWH_ABS,\n",
    "                        \"segmentation\": [get_polygon_from_binary_mask(mask)],\n",
    "                        #\"segmentation\": rle_encode_pycoco(mask),\n",
    "                        \"category_id\": 0,\n",
    "                        \"iscrowd\": 0}\n",
    "                ### detectron2 lib throws AssertionError if not (len(polygon) % 2 == 0 and len(polygon) >= 6)\n",
    "                if len(obj[\"segmentation\"][0]) >= 6:\n",
    "                    objs.append(obj)\n",
    "                    \n",
    "            # free memory, otherwise kernel will die\n",
    "            masks = None\n",
    "            mask_merged = None\n",
    "            record[\"annotations\"] = objs\n",
    "            dataset_dicts.append(record)\n",
    "            \n",
    "        save_as_pickle(dataset_dicts, dataset_dicts_tnbc_pickle_filepath)    \n",
    "        return dataset_dicts"
   ]
  },
  {
   "cell_type": "code",
   "execution_count": null,
   "metadata": {
    "hidden": true
   },
   "outputs": [],
   "source": [
    "dataset_dicts_tnbc = get_nuclei_dicts_tnbc()"
   ]
  },
  {
   "cell_type": "code",
   "execution_count": null,
   "metadata": {
    "hidden": true,
    "scrolled": true
   },
   "outputs": [],
   "source": [
    "DatasetCatalog.clear()\n",
    "DatasetCatalog.register(dataset_name_tnbc, lambda : get_nuclei_dicts_tnbc)\n",
    "MetadataCatalog.get(dataset_name_tnbc).set(thing_classes=[\"nucleus\"])\n",
    "metadata_nuclei_tnbc = MetadataCatalog.get(dataset_name_tnbc)\n",
    "\n",
    "visualize(random.sample(dataset_dicts_tnbc,4), \n",
    "          metadata_nuclei_tnbc,\n",
    "         ground_truth_available=True,\n",
    "         with_preds=False, \n",
    "         predictor=None)"
   ]
  },
  {
   "cell_type": "markdown",
   "metadata": {
    "hidden": true
   },
   "source": [
    "### PSB_2015_CrowdSourcingNucleiAnnotation"
   ]
  },
  {
   "cell_type": "code",
   "execution_count": null,
   "metadata": {
    "hidden": true
   },
   "outputs": [],
   "source": [
    "PSB_2015 = PATH/'PSB_2015_CrowdSourcingNucleiAnnotation'/'PSB_2015_ImageSize_400'\n",
    "PSB_2015_IMAGES = PSB_2015/'Original_Images'\n",
    "PSB_2015_MASKS = PSB_2015/'Nuclei_Segmentation'/'AutomatedMethodSegmentation'\n",
    "\n",
    "dataset_name_psb_2015 = 'psb_2015'\n",
    "\n",
    "def psb_2015_img_name_to_id(img_name:str):\n",
    "    splits = img_name.split('_')\n",
    "    return f'{splits[0]}_{splits[1]}'\n",
    "\n",
    "def psb_2015_find_mask_for_image(img_path, mask_paths:List[pathlib.Path]):\n",
    "    for mask_p in mask_paths:\n",
    "        if psb_2015_img_name_to_id(img_path.stem) == psb_2015_img_name_to_id(mask_p.stem):\n",
    "            return mask_p\n",
    "\n",
    "def get_nuclei_dicts_psb_2015():\n",
    "    \"\"\"\n",
    "    Arguments:\n",
    "    \"\"\" \n",
    "    dataset_dicts_psb_2015_pickle_filepath = Path('./dataset_dicts/dataset_dicts_psb_2015.pickle')\n",
    "    if dataset_dicts_psb_2015_pickle_filepath.exists():\n",
    "        return load_pickle(dataset_dicts_psb_2015_pickle_filepath)\n",
    "    else:\n",
    "        psb_2015_image_paths = [p for p in PSB_2015_IMAGES.ls() if p.suffix == '.tiff']\n",
    "        psb_2015_mask_paths = [p for p in PSB_2015_MASKS.ls() if p.suffix == '.tif']\n",
    "        \n",
    "        dataset_dicts = []       \n",
    "        for img_path in tqdm(psb_2015_image_paths):\n",
    "            record = {}\n",
    "            \n",
    "            mask_path = psb_2015_find_mask_for_image(img_path, psb_2015_mask_paths)\n",
    "            mask_merged = cv2.imread(str(mask_path))[:,:,0]\n",
    "                               \n",
    "            record[\"file_name\"] = img_path\n",
    "            record[\"image_id\"] = img_path.name\n",
    "            record[\"height\"] = mask_merged.shape[0]\n",
    "            record[\"width\"] = mask_merged.shape[1]\n",
    "                   \n",
    "            masks = merged_mask_to_list_of_single_masks(merged_mask=mask_merged, \n",
    "                                                        noise_removal=True, \n",
    "                                                        distance_transform_threshold=0.0)    \n",
    "            \n",
    "            objs = []\n",
    "            for mask in masks:\n",
    "                obj = {\"bbox\": list(mask_to_bbox(mask.astype(np.uint8))),\n",
    "                        \"bbox_mode\": BoxMode.XYWH_ABS,\n",
    "                        \"segmentation\": [get_polygon_from_binary_mask(mask)],\n",
    "                        #\"segmentation\": rle_encode_pycoco(mask),\n",
    "                        \"category_id\": 0,\n",
    "                        \"iscrowd\": 0}\n",
    "                ### detectron2 lib throws AssertionError if not (len(polygon) % 2 == 0 and len(polygon) >= 6)\n",
    "                if len(obj[\"segmentation\"][0]) >= 6:\n",
    "                    objs.append(obj)\n",
    "                    \n",
    "            # free memory, otherwise kernel will die\n",
    "            masks = None\n",
    "            mask_merged = None\n",
    "            record[\"annotations\"] = objs\n",
    "            dataset_dicts.append(record)\n",
    "            \n",
    "        save_as_pickle(dataset_dicts, dataset_dicts_psb_2015_pickle_filepath)    \n",
    "        return dataset_dicts"
   ]
  },
  {
   "cell_type": "code",
   "execution_count": null,
   "metadata": {
    "hidden": true
   },
   "outputs": [],
   "source": [
    "dataset_dicts_psb_2015 = get_nuclei_dicts_psb_2015()"
   ]
  },
  {
   "cell_type": "code",
   "execution_count": null,
   "metadata": {
    "hidden": true
   },
   "outputs": [],
   "source": [
    "DatasetCatalog.clear()\n",
    "DatasetCatalog.register(dataset_name_psb_2015, lambda : get_nuclei_dicts_psb_2015)\n",
    "MetadataCatalog.get(dataset_name_psb_2015).set(thing_classes=[\"nucleus\"])\n",
    "metadata_nuclei_psb_2015 = MetadataCatalog.get(dataset_name_psb_2015)"
   ]
  },
  {
   "cell_type": "code",
   "execution_count": null,
   "metadata": {
    "hidden": true
   },
   "outputs": [],
   "source": [
    "visualize(random.sample(dataset_dicts_psb_2015,4), \n",
    "          metadata_nuclei_psb_2015,\n",
    "         ground_truth_available=True,\n",
    "         with_preds=False, \n",
    "         predictor=None)"
   ]
  },
  {
   "cell_type": "markdown",
   "metadata": {
    "hidden": true
   },
   "source": [
    "### PanNuke"
   ]
  },
  {
   "cell_type": "code",
   "execution_count": null,
   "metadata": {
    "hidden": true
   },
   "outputs": [],
   "source": [
    "dataset_name_pannuke = 'pannuke'\n",
    "PANNUKE = PATH/'PanNuke_dataset'\n",
    "PANNUKE_IMAGES = PANNUKE/'images'\n",
    "PANNUKE_MASKS = PANNUKE/'masks'\n",
    "####\n",
    "# only needed once, to get pannuke dataset from original shape into more convenient shape\n",
    "####\n",
    "#PANNUKE_IMAGES.mkdir(exist_ok=True)\n",
    "#PANNUKE_MASKS.mkdir(exist_ok=True)\n",
    "#PANNUKE_IMAGES_1 = PANNUKE/'images_fold1.npy'\n",
    "#PANNUKE_MASKS_1 = PANNUKE/'masks_fold1.npy'\n",
    "#PANNUKE_TYPES_1 = PANNUKE/'types_fold1.npy'\n",
    "#PANNUKE_IMAGES_2 = PANNUKE/'images_fold2.npy'\n",
    "#PANNUKE_MASKS_2 = PANNUKE/'masks_fold2.npy'\n",
    "#PANNUKE_TYPES_2 = PANNUKE/'types_fold2.npy'\n",
    "#PANNUKE_IMAGES_3 = PANNUKE/'images_fold3.npy'\n",
    "#PANNUKE_MASKS_3 = PANNUKE/'masks_fold3.npy'\n",
    "#PANNUKE_TYPES_3 = PANNUKE/'types_fold3.npy'\n",
    "#\n",
    "#pannuke_imgs_all = np.concatenate([np.load(PANNUKE_IMAGES_1).astype(np.uint8), \n",
    "#                                   np.load(PANNUKE_IMAGES_2).astype(np.uint8), \n",
    "#                                   np.load(PANNUKE_IMAGES_3).astype(np.uint8)])\n",
    "#\n",
    "#pannuke_masks_all = np.concatenate([np.load(PANNUKE_MASKS_1).astype(np.uint8), \n",
    "#                                    np.load(PANNUKE_MASKS_2).astype(np.uint8), \n",
    "#                                    np.load(PANNUKE_MASKS_3).astype(np.uint8)])\n",
    "#\n",
    "#for n, img in enumerate(pannuke_imgs_all[:1]):   \n",
    "#    f, axarr = plt.subplots(1,7, figsize=(20,20))\n",
    "#    axarr[0].imshow(img)                       \n",
    "#    for i in range(6):\n",
    "#        axarr[i+1].imshow(pannuke_masks_all[n,:,:,i])        \n",
    "#    plt.show()\n",
    "#\n",
    "#### save all images from array to disk as png \n",
    "#for n, img_array in enumerate(tqdm(pannuke_imgs_all)):\n",
    "#    img_pil = PIL.Image.fromarray(img_array)\n",
    "#    img_pil.save(PANNUKE_IMAGES/f\"pannuke_img_{n:04d}.png\",\"PNG\")\n",
    "#\n",
    "#### extract masks for every single instance from the different merged masks and save them to disk\n",
    "#for n, mask_array in enumerate(tqdm(pannuke_masks_all)):\n",
    "#    masks = [mask_array[:,:,i] for i in range(5)]\n",
    "#    single_masks = []\n",
    "#    for m in masks[0:5]:\n",
    "#        if np.mean(m) != 0.0:\n",
    "#            for i in range(1,np.max(m)+1):\n",
    "#                 if i in m:\n",
    "#                    single_masks.append((m==i).astype(np.uint8)*255)\n",
    "#    \n",
    "#    directory = PANNUKE_MASKS/f\"{n:04d}\"\n",
    "#    directory.mkdir(exist_ok=True)\n",
    "#    for m, single_mask in enumerate(single_masks):\n",
    "#        #print(np.max(single_mask))\n",
    "#        #imshow(single_mask)\n",
    "#        #plt.show()\n",
    "#        mask_pil = PIL.Image.fromarray(single_mask)\n",
    "#        mask_pil.save(directory/f\"pannuke_mask_{n:04d}_{m}.png\",\"PNG\")\n",
    "\n",
    "def pannuke_img_name_to_id(img_name:str):\n",
    "    splits = img_name.split('_')\n",
    "    return f'{splits[2]}'\n",
    "\n",
    "def pannuke_find_mask_folder_for_image(img_path, mask_folder_paths:List[pathlib.Path]):\n",
    "    for mask_p in mask_folder_paths:\n",
    "        if pannuke_img_name_to_id(img_path.stem) == mask_p.stem:\n",
    "            return mask_p\n",
    "\n",
    "def get_nuclei_dicts_pannuke():\n",
    "    \"\"\"\n",
    "    Arguments:\n",
    "    \"\"\" \n",
    "    dataset_dicts_pannuke_pickle_filepath = Path('./dataset_dicts/dataset_dicts_pannuke.pickle')\n",
    "    if dataset_dicts_pannuke_pickle_filepath.exists():\n",
    "        return load_pickle(dataset_dicts_pannuke_pickle_filepath)\n",
    "    else:        \n",
    "        dataset_dicts = []       \n",
    "        for img_path in tqdm([p for p in PANNUKE_IMAGES.ls() if p.suffix == '.png']):\n",
    "            record = {}\n",
    "            \n",
    "            img_pil = PIL.Image.open(img_path)\n",
    "                                           \n",
    "            record[\"file_name\"] = img_path\n",
    "            record[\"image_id\"] = pannuke_img_name_to_id(img_path.stem)\n",
    "            record[\"height\"] = img_pil.height\n",
    "            record[\"width\"] = img_pil.width\n",
    "                   \n",
    "            masks = [open_mask_as_np(mp) for mp in \\\n",
    "                     pannuke_find_mask_folder_for_image(img_path, PANNUKE_MASKS.ls()).ls()]\n",
    "            \n",
    "            objs = []\n",
    "            for mask in masks:\n",
    "                obj = {\"bbox\": list(mask_to_bbox(mask.astype(np.uint8))),\n",
    "                        \"bbox_mode\": BoxMode.XYWH_ABS,\n",
    "                        \"segmentation\": [get_polygon_from_binary_mask(mask)],\n",
    "                        #\"segmentation\": rle_encode_pycoco(mask),\n",
    "                        \"category_id\": 0,\n",
    "                        \"iscrowd\": 0}\n",
    "                ### detectron2 lib throws AssertionError if not (len(polygon) % 2 == 0 and len(polygon) >= 6)\n",
    "                if len(obj[\"segmentation\"][0]) >= 6:\n",
    "                    objs.append(obj)\n",
    "                    \n",
    "            # free memory, otherwise kernel will die\n",
    "            masks = None\n",
    "            record[\"annotations\"] = objs\n",
    "            dataset_dicts.append(record)\n",
    "            \n",
    "        save_as_pickle(dataset_dicts, dataset_dicts_pannuke_pickle_filepath)    \n",
    "        return dataset_dicts"
   ]
  },
  {
   "cell_type": "code",
   "execution_count": null,
   "metadata": {
    "hidden": true
   },
   "outputs": [],
   "source": [
    "dataset_dicts_pannuke = get_nuclei_dicts_pannuke()"
   ]
  },
  {
   "cell_type": "code",
   "execution_count": null,
   "metadata": {
    "hidden": true
   },
   "outputs": [],
   "source": [
    "DatasetCatalog.clear()\n",
    "DatasetCatalog.register(dataset_name_pannuke, lambda : get_nuclei_dicts_pannuke)\n",
    "MetadataCatalog.get(dataset_name_pannuke).set(thing_classes=[\"nucleus\"])\n",
    "metadata_nuclei_pannuke = MetadataCatalog.get(dataset_name_pannuke)"
   ]
  },
  {
   "cell_type": "code",
   "execution_count": null,
   "metadata": {
    "hidden": true
   },
   "outputs": [],
   "source": [
    "visualize(random.sample(dataset_dicts_pannuke,4), \n",
    "          metadata_nuclei_pannuke,\n",
    "         ground_truth_available=True,\n",
    "         with_preds=False, \n",
    "         predictor=None)"
   ]
  },
  {
   "cell_type": "markdown",
   "metadata": {
    "hidden": true
   },
   "source": [
    "## combine all dataset dicts that have ground truth"
   ]
  },
  {
   "cell_type": "code",
   "execution_count": null,
   "metadata": {
    "hidden": true
   },
   "outputs": [],
   "source": [
    "dataset_dicts_dsb18_train_and_test1 = get_nuclei_dicts_dsb18(isTestSet=False)\n",
    "dataset_dicts_monuseg18 = get_nuclei_dicts_monuseg18()\n",
    "dataset_dicts_consep = get_nuclei_dicts_consep()\n",
    "dataset_dicts_janowczyk = get_nuclei_dicts_janowczyk()\n",
    "dataset_dicts_tnbc = get_nuclei_dicts_tnbc()\n",
    "dataset_dicts_psb_2015 = get_nuclei_dicts_psb_2015()\n",
    "dataset_dicts_pannuke = get_nuclei_dicts_pannuke()\n",
    "\n",
    "dataset_dicts_all_combined = dataset_dicts_dsb18_train_and_test1 + \\\n",
    "                                dataset_dicts_monuseg18 + \\\n",
    "                                dataset_dicts_consep + \\\n",
    "                                dataset_dicts_janowczyk + \\\n",
    "                                dataset_dicts_tnbc + \\\n",
    "                                dataset_dicts_psb_2015 + \\\n",
    "                                dataset_dicts_pannuke\n",
    "\n",
    "print(len(dataset_dicts_all_combined))"
   ]
  },
  {
   "cell_type": "markdown",
   "metadata": {
    "hidden": true
   },
   "source": [
    "## some visualization of the data"
   ]
  },
  {
   "cell_type": "code",
   "execution_count": null,
   "metadata": {
    "hidden": true,
    "scrolled": true
   },
   "outputs": [],
   "source": [
    "visualize(dataset_dicts=random.sample(dataset_dicts_all_combined, 3), \n",
    "          metadata=metadata_nuclei_all_combined, \n",
    "          ground_truth_available=True, \n",
    "          with_preds=False, predictor=None)"
   ]
  },
  {
   "cell_type": "markdown",
   "metadata": {
    "hidden": true
   },
   "source": [
    "## sort dataset by number of nuclei, inspect it and exclude some images"
   ]
  },
  {
   "cell_type": "code",
   "execution_count": null,
   "metadata": {
    "hidden": true
   },
   "outputs": [],
   "source": [
    "#key: img_path; value: number of nuclei\n",
    "path_to_n_objects = {}\n",
    "\n",
    "for ds in [dataset_dicts_all_combined]:\n",
    "    for d in ds:\n",
    "        path_to_n_objects[d['file_name']] = len(d['annotations'])\n",
    "        \n",
    "#sort by number of nuclei\n",
    "path_to_n_objects_ascending = {k: v for k, v in sorted(path_to_n_objects.items(), key=lambda item: item[1], reverse=False)}\n",
    "path_to_n_objects_descending = {k: v for k, v in sorted(path_to_n_objects.items(), key=lambda item: item[1], reverse=True)}"
   ]
  },
  {
   "cell_type": "code",
   "execution_count": null,
   "metadata": {
    "hidden": true,
    "scrolled": true
   },
   "outputs": [],
   "source": [
    "print(f'max number of objects: {list(path_to_n_objects_descending.values())[0]}')\n",
    "print(f'min number of objects: {list(path_to_n_objects_descending.values())[-1]}')\n",
    "print(f'mean number of objects: {sum(list(path_to_n_objects.values()))/len(list(path_to_n_objects.values()))}')"
   ]
  },
  {
   "cell_type": "code",
   "execution_count": null,
   "metadata": {
    "hidden": true,
    "scrolled": true
   },
   "outputs": [],
   "source": [
    "for k, v in list(path_to_n_objects_ascending.items())[100:200]:\n",
    "    print(k)\n",
    "    print(v)\n",
    "    show_pil(k)"
   ]
  },
  {
   "cell_type": "code",
   "execution_count": null,
   "metadata": {
    "hidden": true,
    "scrolled": true
   },
   "outputs": [],
   "source": [
    "psb_2015_mask_paths = [p for p in PSB_2015_MASKS.ls() if p.suffix == '.tif']\n",
    "\n",
    "for k, v in list(path_to_n_objects_ascending.items())[:4]:\n",
    "    print(k)\n",
    "    print(v)\n",
    "    mask_path = psb_2015_find_mask_for_image(k, psb_2015_mask_paths)\n",
    "    mask = open_mask_as_np(mask_path)\n",
    " \n",
    "    f, axarr = plt.subplots(1,2, figsize=(5,5))\n",
    "    axarr[0].imshow(PIL.Image.open(k))\n",
    "    axarr[1].imshow(mask) \n",
    "    plt.show() "
   ]
  },
  {
   "cell_type": "code",
   "execution_count": null,
   "metadata": {
    "hidden": true
   },
   "outputs": [],
   "source": [
    "excluded_paths = \\\n",
    "['/home/Deep_Learner/private/datasets/nuclei_datasets/PanNuke_dataset/images/pannuke_img_2132.png',\n",
    "'/home/Deep_Learner/private/datasets/nuclei_datasets/PanNuke_dataset/images/pannuke_img_4589.png',\n",
    "'/home/Deep_Learner/private/datasets/nuclei_datasets/PanNuke_dataset/images/pannuke_img_4588.png',\n",
    "'/home/Deep_Learner/private/datasets/nuclei_datasets/PanNuke_dataset/images/pannuke_img_2134.png',\n",
    "\n",
    "'/home/Deep_Learner/private/datasets/nuclei_datasets/PSB_2015_CrowdSourcingNucleiAnnotation/PSB_2015_ImageSize_400/Original_Images/9300_11800.tiff',\n",
    "'/home/Deep_Learner/private/datasets/nuclei_datasets/PSB_2015_CrowdSourcingNucleiAnnotation/PSB_2015_ImageSize_400/Original_Images/11300_11000.tiff',\n",
    "'/home/Deep_Learner/private/datasets/nuclei_datasets/PSB_2015_CrowdSourcingNucleiAnnotation/PSB_2015_ImageSize_400/Original_Images/11700_12200.tiff',\n",
    "'/home/Deep_Learner/private/datasets/nuclei_datasets/PSB_2015_CrowdSourcingNucleiAnnotation/PSB_2015_ImageSize_400/Original_Images/8500_11000.tiff']"
   ]
  },
  {
   "cell_type": "code",
   "execution_count": null,
   "metadata": {
    "hidden": true
   },
   "outputs": [],
   "source": [
    "dataset_dicts_all_combined_without_excluded = [d for d in dataset_dicts_all_combined if str(d['file_name']) \\\n",
    "                                               not in excluded_paths]"
   ]
  },
  {
   "cell_type": "code",
   "execution_count": null,
   "metadata": {
    "hidden": true
   },
   "outputs": [],
   "source": [
    "print(len(dataset_dicts_all_combined))\n",
    "print(len(dataset_dicts_all_combined_without_excluded))"
   ]
  },
  {
   "cell_type": "markdown",
   "metadata": {
    "hidden": true
   },
   "source": [
    "## Split into train and validation set"
   ]
  },
  {
   "cell_type": "code",
   "execution_count": null,
   "metadata": {
    "hidden": true
   },
   "outputs": [],
   "source": [
    "dataset_dicts_train, dataset_dicts_valid =  train_test_split(dataset_dicts_all_combined_without_excluded, \\\n",
    "                                                             test_size=0.05, random_state=seed)\n",
    "\n",
    "print(len(dataset_dicts_all_combined_without_excluded))\n",
    "print(len(dataset_dicts_train))\n",
    "print(len(dataset_dicts_valid))"
   ]
  },
  {
   "cell_type": "markdown",
   "metadata": {
    "hidden": true
   },
   "source": [
    "## register datasets"
   ]
  },
  {
   "cell_type": "code",
   "execution_count": null,
   "metadata": {
    "hidden": true
   },
   "outputs": [],
   "source": [
    "DatasetCatalog.clear()\n",
    "\n",
    "DatasetCatalog.register(dataset_name_all_combined_without_excluded, lambda : dataset_dicts_all_combined_without_excluded)\n",
    "MetadataCatalog.get(dataset_name_all_combined_without_excluded).set(thing_classes=[\"nucleus\"])\n",
    "\n",
    "DatasetCatalog.register(dataset_name_train, lambda : dataset_dicts_train)\n",
    "MetadataCatalog.get(dataset_name_train).set(thing_classes=[\"nucleus\"])\n",
    "\n",
    "DatasetCatalog.register(dataset_name_valid, lambda : dataset_dicts_valid)\n",
    "MetadataCatalog.get(dataset_name_valid).set(thing_classes=[\"nucleus\"])"
   ]
  },
  {
   "cell_type": "markdown",
   "metadata": {
    "hidden": true
   },
   "source": [
    "## load metadata"
   ]
  },
  {
   "cell_type": "code",
   "execution_count": null,
   "metadata": {
    "hidden": true
   },
   "outputs": [],
   "source": [
    "metadata_nuclei_all_combined_without_excluded = MetadataCatalog.get(dataset_name_all_combined_without_excluded)\n",
    "metadata_nuclei_train = MetadataCatalog.get(dataset_name_train)\n",
    "metadata_nuclei_valid = MetadataCatalog.get(dataset_name_valid)"
   ]
  },
  {
   "cell_type": "markdown",
   "metadata": {
    "heading_collapsed": true
   },
   "source": [
    "# config "
   ]
  },
  {
   "cell_type": "code",
   "execution_count": null,
   "metadata": {
    "hidden": true
   },
   "outputs": [],
   "source": [
    "output_directory = Path('./output/3')"
   ]
  },
  {
   "cell_type": "code",
   "execution_count": null,
   "metadata": {
    "hidden": true
   },
   "outputs": [],
   "source": [
    "epochs = 40\n",
    "bs = 6\n",
    "iterations = int(len(dataset_dicts_train)/bs*epochs);iterations\n",
    "\n",
    "\n",
    "\n",
    "cfg = get_cfg()\n",
    "cfg.merge_from_file(model_zoo.get_config_file(\"COCO-InstanceSegmentation/mask_rcnn_R_50_FPN_3x.yaml\"))\n",
    "\n",
    "cfg.DATASETS.TRAIN = (dataset_name_train,)\n",
    "cfg.DATASETS.TEST = ()\n",
    "\n",
    "cfg.DATALOADER.NUM_WORKERS = 20\n",
    "\n",
    "cfg.SOLVER.IMS_PER_BATCH = bs\n",
    "cfg.SOLVER.BASE_LR = 2.5e-3  \n",
    "cfg.SOLVER.MAX_ITER = iterations\n",
    "cfg.SOLVER.LR_SCHEDULER_NAME = 'WarmupCosineLR'\n",
    "cfg.SOLVER.WARMUP_ITERS = 0.3*iterations\n",
    "#cfg.SOLVER.LR_SCHEDULER_NAME = 'OneCycleLR'\n",
    "\n",
    "cfg.MODEL.WEIGHTS = model_zoo.get_checkpoint_url(\"COCO-InstanceSegmentation/mask_rcnn_R_50_FPN_3x.yaml\")  # Let training initialize from model zoo\n",
    "cfg.MODEL.ROI_HEADS.BATCH_SIZE_PER_IMAGE = 6  # (default: 512)\n",
    "cfg.MODEL.ROI_HEADS.NUM_CLASSES = 1  # only has one class (nucleus)\n",
    "cfg.MODEL.RPN.PRE_NMS_TOPK_TRAIN = 12000\n",
    "cfg.MODEL.RPN.POST_NMS_TOPK_TRAIN = 2000\n",
    "\n",
    "cfg['SEED'] = seed\n",
    "\n",
    "cfg.OUTPUT_DIR = str(output_directory)\n",
    "os.makedirs(cfg.OUTPUT_DIR, exist_ok=True)"
   ]
  },
  {
   "cell_type": "code",
   "execution_count": null,
   "metadata": {
    "hidden": true
   },
   "outputs": [],
   "source": [
    "#save_as_pickle(cfg, Path(cfg.OUTPUT_DIR)/'cfg.pickle')"
   ]
  },
  {
   "cell_type": "markdown",
   "metadata": {
    "heading_collapsed": true
   },
   "source": [
    "# train"
   ]
  },
  {
   "cell_type": "code",
   "execution_count": null,
   "metadata": {
    "hidden": true,
    "scrolled": true
   },
   "outputs": [],
   "source": [
    "trainer = DefaultTrainer(cfg) "
   ]
  },
  {
   "cell_type": "code",
   "execution_count": null,
   "metadata": {
    "hidden": true
   },
   "outputs": [],
   "source": [
    "#trainer.resume_or_load(resume=False)\n",
    "trainer.resume_or_load(resume=True)"
   ]
  },
  {
   "cell_type": "code",
   "execution_count": null,
   "metadata": {
    "hidden": true,
    "scrolled": true
   },
   "outputs": [],
   "source": [
    "trainer.train()"
   ]
  },
  {
   "cell_type": "markdown",
   "metadata": {},
   "source": [
    "# Inference & evaluation"
   ]
  },
  {
   "cell_type": "markdown",
   "metadata": {},
   "source": [
    "## config "
   ]
  },
  {
   "cell_type": "code",
   "execution_count": null,
   "metadata": {},
   "outputs": [],
   "source": [
    "output_directory = Path('./output/3') \n",
    "weights_path = Path(output_directory/'model_final.pth')\n",
    "\n",
    "cfg = load_pickle(output_directory/'cfg.pickle')\n",
    "cfg['SEED'] = seed\n",
    "cfg.DATASETS.TEST = ()\n",
    "cfg.DATALOADER.NUM_WORKERS = 20\n",
    "cfg.MODEL.WEIGHTS = str(weights_path)\n",
    "cfg.MODEL.ROI_HEADS.SCORE_THRESH_TEST = 0.7   # set the testing threshold for this model\n",
    "cfg.MODEL.RPN.PRE_NMS_TOPK_TEST = 10000\n",
    "cfg.MODEL.RPN.POST_NMS_TOPK_TEST = 3000\n",
    "cfg.TEST.DETECTIONS_PER_IMAGE = cfg.MODEL.RPN.POST_NMS_TOPK_TEST\n",
    "\n",
    "#cfg.MODEL.DEVICE = 'cpu'\n",
    "#cfg.MODEL.DEVICE = 'cuda'"
   ]
  },
  {
   "cell_type": "markdown",
   "metadata": {
    "heading_collapsed": true
   },
   "source": [
    "## Validation set"
   ]
  },
  {
   "cell_type": "code",
   "execution_count": null,
   "metadata": {
    "hidden": true
   },
   "outputs": [],
   "source": [
    "DatasetCatalog.clear()\n",
    "cfg.DATASETS.TEST = (dataset_name_valid, )\n",
    "predictor = DefaultPredictor(cfg)"
   ]
  },
  {
   "cell_type": "markdown",
   "metadata": {
    "hidden": true
   },
   "source": [
    "### sort dataset dict by different metrics"
   ]
  },
  {
   "cell_type": "markdown",
   "metadata": {
    "heading_collapsed": true,
    "hidden": true
   },
   "source": [
    "#### by relative error in predicted number of instances"
   ]
  },
  {
   "cell_type": "code",
   "execution_count": null,
   "metadata": {
    "hidden": true
   },
   "outputs": [],
   "source": [
    "## add number of predicted instances and the relative error to every entry in dataset_dicts_nuclei_valid\n",
    "\n",
    "for d in tqdm(dataset_dicts_valid[:]):\n",
    "    n_pred = len(predictor(cv2.imread(str(d[\"file_name\"])))['instances'])\n",
    "    d['n_predicted'] = n_pred\n",
    "    n_act = len(d['annotations'])+0.0001 #to prevent division by zero\n",
    "    d['relative_error'] = abs(n_pred-n_act)/n_act    "
   ]
  },
  {
   "cell_type": "code",
   "execution_count": null,
   "metadata": {
    "hidden": true
   },
   "outputs": [],
   "source": [
    "## sort it descending by relative_error\n",
    "dataset_dicts_valid.sort(key=lambda d: d['relative_error'], reverse=True)"
   ]
  },
  {
   "cell_type": "markdown",
   "metadata": {
    "heading_collapsed": true,
    "hidden": true
   },
   "source": [
    "#### by IoU with ground truth  // TODO: function from polygon representation to binary mask"
   ]
  },
  {
   "cell_type": "code",
   "execution_count": null,
   "metadata": {
    "hidden": true
   },
   "outputs": [],
   "source": [
    "# slight modification of this implementation\n",
    "#https://www.kaggle.com/iezepov/fast-iou-scoring-metric-in-pytorch-and-numpy\n",
    "SMOOTH = 1e-6\n",
    "def iou_pytorch(predicted_mask: torch.Tensor, ground_truth_mask: torch.Tensor):    \n",
    "    intersection = (predicted_mask & ground_truth_mask).float().sum((0, 1))  # Will be zero if Truth=0 or Prediction=0\n",
    "    union = (predicted_mask | ground_truth_mask).float().sum((0, 1))         # Will be zero if both are 0\n",
    "    \n",
    "    iou = (intersection + SMOOTH) / (union + SMOOTH)  # We smooth our devision to avoid 0/0\n",
    "    \n",
    "    thresholded = torch.clamp(20 * (iou - 0.5), 0, 10).ceil() / 10  # This is equal to comparing with thresolds\n",
    "    \n",
    "    return thresholded  # Or thresholded.mean() if you are interested in average across the batch"
   ]
  },
  {
   "cell_type": "code",
   "execution_count": null,
   "metadata": {
    "hidden": true,
    "scrolled": true
   },
   "outputs": [],
   "source": [
    "for d in tqdm(dataset_dicts_valid[:]):\n",
    "    pred = predictor(cv2.imread(str(d[\"file_name\"])))\n",
    "    ### merged mask of prediction\n",
    "    mask_preds = merge_masks(pred['instances'].get('pred_masks').cpu(), shape=(d['height'], d['width']))\n",
    "    ### merged mask of ground truth\n",
    "    path = d[\"file_name\"]\n",
    "    masks = None\n",
    "    try:\n",
    "        masks = [open_mask_as_np(mp) for mp in get_masks_path_from_id(path.stem, base_path=path.parent.parent.parent).ls()]    \n",
    "    except FileNotFoundError:\n",
    "        masks = get_mask_list_from_rle_for_one_id(path.stem, df_rle_labels, shape=(d['width'],d['height']))\n",
    "\n",
    "    mask_actual = merge_masks(masks, shape=(d['height'], d['width']))\n",
    "    d['iou'] = iou_pytorch(mask_preds, mask_actual)"
   ]
  },
  {
   "cell_type": "code",
   "execution_count": null,
   "metadata": {
    "hidden": true
   },
   "outputs": [],
   "source": [
    "## sort it ascending by iou \n",
    "dataset_dicts_valid.sort(key=lambda d: d['iou'], reverse=True)"
   ]
  },
  {
   "cell_type": "markdown",
   "metadata": {
    "hidden": true
   },
   "source": [
    "### visualize most wrongly predicted cases"
   ]
  },
  {
   "cell_type": "code",
   "execution_count": null,
   "metadata": {
    "hidden": true,
    "scrolled": false
   },
   "outputs": [],
   "source": [
    "visualize(dataset_dicts=dataset_dicts_valid[0:5], \n",
    "          metadata=metadata_nuclei_valid,\n",
    "          ground_truth_available=True,\n",
    "          with_preds=True,\n",
    "          predictor=predictor)"
   ]
  },
  {
   "cell_type": "markdown",
   "metadata": {
    "heading_collapsed": true
   },
   "source": [
    "## dsb 2018 stage2 test set"
   ]
  },
  {
   "cell_type": "markdown",
   "metadata": {
    "heading_collapsed": true,
    "hidden": true
   },
   "source": [
    "### register dataset"
   ]
  },
  {
   "cell_type": "code",
   "execution_count": null,
   "metadata": {
    "hidden": true
   },
   "outputs": [],
   "source": [
    "DatasetCatalog.clear()\n",
    "\n",
    "DatasetCatalog.register(dataset_name_dsb18_test2, lambda : get_nuclei_dicts_dsb18(True))\n",
    "MetadataCatalog.get(dataset_name_dsb18_test2).set(thing_classes=[\"nucleus\"])\n",
    "cfg.DATASETS.TEST = (dataset_name_dsb18_test2, )\n",
    "predictor = DefaultPredictor(cfg)"
   ]
  },
  {
   "cell_type": "markdown",
   "metadata": {
    "heading_collapsed": true,
    "hidden": true
   },
   "source": [
    "### load dataset"
   ]
  },
  {
   "cell_type": "code",
   "execution_count": null,
   "metadata": {
    "hidden": true
   },
   "outputs": [],
   "source": [
    "metadata_nuclei_dsb18_test2 = MetadataCatalog.get(dataset_name_dsb18_test2)\n",
    "dataset_dicts_dsb18_test2 = get_nuclei_dicts_dsb18(isTestSet=True)"
   ]
  },
  {
   "cell_type": "markdown",
   "metadata": {
    "heading_collapsed": true,
    "hidden": true
   },
   "source": [
    "### visualization"
   ]
  },
  {
   "cell_type": "code",
   "execution_count": null,
   "metadata": {
    "hidden": true
   },
   "outputs": [],
   "source": [
    "visualize(dataset_dicts=dataset_dicts_dsb18_test2[:2], \n",
    "          metadata=metadata_nuclei_dsb18_test2,\n",
    "          ground_truth_available=False,\n",
    "          with_preds=True,\n",
    "          predictor=predictor)"
   ]
  },
  {
   "cell_type": "markdown",
   "metadata": {
    "heading_collapsed": true,
    "hidden": true
   },
   "source": [
    "### get predictions"
   ]
  },
  {
   "cell_type": "code",
   "execution_count": null,
   "metadata": {
    "hidden": true,
    "scrolled": true
   },
   "outputs": [],
   "source": [
    "preds = {}\n",
    "for d['file_name'] in tqdm(dataset_dicts_dsb18_test2):\n",
    "    p = d['file_name']\n",
    "    img = cv2.imread(str(p))\n",
    "    with torch.no_grad():\n",
    "        pred = predictor(img)\n",
    "    preds[p.stem] = (pred[\"instances\"].to(\"cpu\"))\n",
    "    del pred\n",
    "    torch.cuda.empty_cache()"
   ]
  },
  {
   "cell_type": "markdown",
   "metadata": {
    "heading_collapsed": true,
    "hidden": true
   },
   "source": [
    "### create submission"
   ]
  },
  {
   "cell_type": "code",
   "execution_count": null,
   "metadata": {
    "hidden": true
   },
   "outputs": [],
   "source": [
    "df_sub = pd.DataFrame(columns=['ImageId', 'EncodedPixels'])"
   ]
  },
  {
   "cell_type": "code",
   "execution_count": null,
   "metadata": {
    "hidden": true
   },
   "outputs": [],
   "source": [
    "for i, pred in tqdm(list(preds.items())[:]):\n",
    "    masks = pred.get('pred_masks')\n",
    "    if len(masks) == 0:\n",
    "        df_sub = df_sub.append({'ImageId': i, 'EncodedPixels': ''}, ignore_index=True)\n",
    "    else:\n",
    "        ###\n",
    "        # the competition evaluation at kaggle throws an error, if an encoded pixel belongs to more than one object\n",
    "        ###\n",
    "        mask_merged = None\n",
    "        for mask in masks:\n",
    "            mask = mask.int()\n",
    "            if mask_merged == None:\n",
    "                mask_merged = mask\n",
    "            else:\n",
    "                overlap = (mask == mask_merged).int()\n",
    "                mask = mask - overlap\n",
    "                mask_merged = merge_masks([mask_merged, mask], shape=(mask.shape[0],mask.shape[1]))\n",
    "            df_sub = df_sub.append({'ImageId': i, 'EncodedPixels': rle_from_list_to_string(rle_encode(mask))}, ignore_index=True)"
   ]
  },
  {
   "cell_type": "code",
   "execution_count": null,
   "metadata": {
    "hidden": true
   },
   "outputs": [],
   "source": [
    "df_sub"
   ]
  },
  {
   "cell_type": "code",
   "execution_count": null,
   "metadata": {
    "hidden": true
   },
   "outputs": [],
   "source": [
    "submission_path = Path('./submission_detectron2_2.csv')"
   ]
  },
  {
   "cell_type": "code",
   "execution_count": null,
   "metadata": {
    "hidden": true
   },
   "outputs": [],
   "source": [
    "df_sub.to_csv(submission_path, index=False)"
   ]
  },
  {
   "cell_type": "code",
   "execution_count": null,
   "metadata": {
    "hidden": true
   },
   "outputs": [],
   "source": [
    "pd.read_csv(submission_path)"
   ]
  },
  {
   "cell_type": "markdown",
   "metadata": {},
   "source": [
    "## Muscles "
   ]
  },
  {
   "cell_type": "code",
   "execution_count": null,
   "metadata": {},
   "outputs": [],
   "source": [
    "MUSCLES = Path('/home/Deep_Learner/private/datasets/Muskeln')\n",
    "MUSCLES_WSIS = MUSCLES/'wsis'\n",
    "MUSCLES_ROIS = MUSCLES/'rois'\n",
    "MUSCLES_TILES = MUSCLES/'tiles'\n",
    "dataset_name_muscle = 'nuclei_muscle'"
   ]
  },
  {
   "cell_type": "markdown",
   "metadata": {},
   "source": [
    "### Define tiles"
   ]
  },
  {
   "cell_type": "code",
   "execution_count": null,
   "metadata": {},
   "outputs": [],
   "source": [
    "%matplotlib inline"
   ]
  },
  {
   "cell_type": "code",
   "execution_count": null,
   "metadata": {},
   "outputs": [],
   "source": [
    "def func(x):\n",
    "    return 1.0 - (10.0 / (10.0 + x))\n",
    "\n",
    "def sigmoid(x):\n",
    "    return 1 / (1 + np.exp(-x))\n",
    "\n",
    "x = np.array(range(100))\n",
    "\n",
    "y = func(x)\n",
    "plt.plot(x,y)\n",
    "plt.xlabel('x axis')\n",
    "plt.ylabel('y axis')\n",
    "plt.grid(alpha=.4,linestyle='--')\n",
    "plt.show()"
   ]
  },
  {
   "cell_type": "code",
   "execution_count": null,
   "metadata": {},
   "outputs": [],
   "source": [
    "def naming_func_muscles(wsi_path:pathlib.Path):\n",
    "    path = Path(wsi_path)\n",
    "    split = path.stem.split('-')\n",
    "    return f'{split[0]}'[:-1]\n",
    "\n",
    "def scoring_function_muscle(tissue_percent, combined_factor):\n",
    "    \"\"\"\n",
    "    This favors pink over purple regions (muscle tissue has few nuclei and lots of sarcoplam, which\n",
    "    is pink in H&E staining). color_factor and s_and_v_factor are higher, \n",
    "    the more hematoxylin stained tissue is in the image\n",
    "    \"\"\"\n",
    "    if(combined_factor == 0):\n",
    "        return tissue_percent / 2\n",
    "    else:\n",
    "        return (100/(combined_factor)) * tissue_percent / 100\n",
    "        #return (1/(combined_factor)) * tissue_percent / 10"
   ]
  },
  {
   "cell_type": "code",
   "execution_count": null,
   "metadata": {
    "scrolled": true
   },
   "outputs": [],
   "source": [
    "### against DecompressionBombWarning\n",
    "from PIL import Image\n",
    "Image.MAX_IMAGE_PIXELS = 115990855680000 \n",
    "\n",
    "tile_score_thresh=0.5\n",
    "tilesummary_muscles_path = Path(f'./tilesummary_muscles_{tile_score_thresh}.pickle')\n",
    "\n",
    "\n",
    "if os.path.isfile(tilesummary_muscles_path):\n",
    "    ###\n",
    "    # just load from disc, if you have already calculated tile infos before\n",
    "    ###\n",
    "    tilesummary_muscles = load_pickle(tilesummary_muscles_path)\n",
    "else:\n",
    "    ###\n",
    "    # generate and save tile info\n",
    "    ###\n",
    "    tilesummaries_muscles = tiles.WsiOrROIToTilesMultithreaded(wsiPaths = MUSCLES_WSIS.ls(), \n",
    "                                                       tilesFolderPath=None, \n",
    "                                                       tileWidth=512, \n",
    "                                                       tileHeight=512, \n",
    "                                                       tile_naming_func = naming_func_muscles, \n",
    "                                                       save_tiles=False,\n",
    "                                                       tileScoringFunction = scoring_function_muscle, \n",
    "                                                       is_wsi=True, \n",
    "                                                       tile_score_thresh=tile_score_thresh, \n",
    "                                                       return_as_tilesummary_object=True)\n",
    "    #save_as_pickle(tilesummary_muscles, tilesummary_muscles_path)"
   ]
  },
  {
   "cell_type": "code",
   "execution_count": null,
   "metadata": {
    "scrolled": true
   },
   "outputs": [],
   "source": [
    "for ts in tilesummaries_muscles:\n",
    "    tiles.show_wsi_with_marked_tiles(tilesummary=ts)"
   ]
  },
  {
   "cell_type": "markdown",
   "metadata": {},
   "source": [
    "### dataset getter"
   ]
  },
  {
   "cell_type": "code",
   "execution_count": null,
   "metadata": {},
   "outputs": [],
   "source": [
    "def open_image_from_wsi(dataset_dict,\n",
    "                        convert_mode:str='RGB')->PIL.Image:\n",
    "    tile = dataset_dict['tile']\n",
    "    wsi_path = tile.wsi_path\n",
    "    x = tile.get_x()\n",
    "    y = tile.get_y()\n",
    "    width = tile.get_width()\n",
    "    height = tile.get_height()\n",
    "    level = tile.level\n",
    "    tile = tiles.ExtractTileFromWSI(path=wsi_path, x=x, y=y, width=width, height=height, level=level)\n",
    "    tile = tile.convert(convert_mode)\n",
    "    #tile = fastai.vision.image.pil2tensor(tile,np.float32)\n",
    "    return tile\n",
    "\n",
    "from fvcore.common.file_io import PathManager\n",
    "#detectron2.data.detection_utils.read_image\n",
    "def read_image_custom(dataset_dict, format=None):\n",
    "    \"\"\"\n",
    "    Read an image into the given format.\n",
    "    Will apply rotation and flipping if the image has such exif information.\n",
    "    Args:\n",
    "        dataset_dict: \n",
    "        format (str): one of the supported image modes in PIL, or \"BGR\"\n",
    "    Returns:\n",
    "        image (np.ndarray): an HWC image in the given format.\n",
    "    \"\"\"\n",
    "    image = open_image_from_wsi(dataset_dict=dataset_dict)\n",
    "\n",
    "    # capture and ignore this bug: https://github.com/python-pillow/Pillow/issues/3973\n",
    "    try:\n",
    "        image = ImageOps.exif_transpose(image)\n",
    "    except Exception:\n",
    "        pass\n",
    "\n",
    "    if format is not None:\n",
    "        # PIL only supports RGB, so convert to RGB and flip channels over below\n",
    "        conversion_format = format\n",
    "        if format == \"BGR\":\n",
    "            conversion_format = \"RGB\"\n",
    "        image = image.convert(conversion_format)\n",
    "    image = np.asarray(image)\n",
    "    if format == \"BGR\":\n",
    "        # flip channels if needed\n",
    "        image = image[:, :, ::-1]\n",
    "    # PIL squeezes out the channel dimension for \"L\", so make it HWC\n",
    "    if format == \"L\":\n",
    "        image = np.expand_dims(image, -1)\n",
    "    return image\n",
    "\n",
    "detectron2.data.detection_utils.read_image = read_image_custom\n",
    "\n",
    "\n",
    "\n",
    "#https://detectron2.readthedocs.io/tutorials/data_loading.html\n",
    "#https://detectron2.readthedocs.io/_modules/detectron2/data/dataset_mapper.html#DatasetMapper\n",
    "import copy\n",
    "import logging\n",
    "import numpy as np\n",
    "import torch\n",
    "from fvcore.common.file_io import PathManager\n",
    "from PIL import Image\n",
    "\n",
    "from detectron2.data import detection_utils as utils\n",
    "from detectron2.data import transforms as T\n",
    "\n",
    "\"\"\"\n",
    "This file contains the default mapping that's applied to \"dataset dicts\".\n",
    "\"\"\"\n",
    "\n",
    "__all__ = [\"DatasetMapper\"]\n",
    "\n",
    "### changes to default:\n",
    "# - in __call__ : read_image_custom \n",
    "class DatasetMapper_Custom:\n",
    "    \"\"\"\n",
    "    A callable which takes a dataset dict in Detectron2 Dataset format,\n",
    "    and map it into a format used by the model.\n",
    "\n",
    "    This is the default callable to be used to map your dataset dict into training data.\n",
    "    You may need to follow it to implement your own one for customized logic,\n",
    "    such as a different way to read or transform images.\n",
    "    See :doc:`/tutorials/data_loading` for details.\n",
    "\n",
    "    The callable currently does the following:\n",
    "\n",
    "    1. Read the image from \"file_name\"\n",
    "    2. Applies cropping/geometric transforms to the image and annotations\n",
    "    3. Prepare data and annotations to Tensor and :class:`Instances`\n",
    "    \"\"\"\n",
    "\n",
    "    def __init__(self, cfg, is_train=True):\n",
    "        if cfg.INPUT.CROP.ENABLED and is_train:\n",
    "            self.crop_gen = T.RandomCrop(cfg.INPUT.CROP.TYPE, cfg.INPUT.CROP.SIZE)\n",
    "            logging.getLogger(__name__).info(\"CropGen used in training: \" + str(self.crop_gen))\n",
    "        else:\n",
    "            self.crop_gen = None\n",
    "\n",
    "        self.tfm_gens = utils.build_transform_gen(cfg, is_train)\n",
    "\n",
    "        # fmt: off\n",
    "        self.img_format     = cfg.INPUT.FORMAT\n",
    "        self.mask_on        = cfg.MODEL.MASK_ON\n",
    "        self.mask_format    = cfg.INPUT.MASK_FORMAT\n",
    "        self.keypoint_on    = cfg.MODEL.KEYPOINT_ON\n",
    "        self.load_proposals = cfg.MODEL.LOAD_PROPOSALS\n",
    "        # fmt: on\n",
    "        if self.keypoint_on and is_train:\n",
    "            # Flip only makes sense in training\n",
    "            self.keypoint_hflip_indices = utils.create_keypoint_hflip_indices(cfg.DATASETS.TRAIN)\n",
    "        else:\n",
    "            self.keypoint_hflip_indices = None\n",
    "\n",
    "        if self.load_proposals:\n",
    "            self.min_box_side_len = cfg.MODEL.PROPOSAL_GENERATOR.MIN_SIZE\n",
    "            self.proposal_topk = (\n",
    "                cfg.DATASETS.PRECOMPUTED_PROPOSAL_TOPK_TRAIN\n",
    "                if is_train\n",
    "                else cfg.DATASETS.PRECOMPUTED_PROPOSAL_TOPK_TEST\n",
    "            )\n",
    "        self.is_train = is_train\n",
    "\n",
    "\n",
    "    def __call__(self, dataset_dict):\n",
    "        \"\"\"\n",
    "        Args:\n",
    "            dataset_dict (dict): Metadata of one image, in Detectron2 Dataset format.\n",
    "\n",
    "        Returns:\n",
    "            dict: a format that builtin models in detectron2 accept\n",
    "        \"\"\"\n",
    "        dataset_dict = copy.deepcopy(dataset_dict)  # it will be modified by code below\n",
    "        # USER: Write your own image loading if it's not from a file\n",
    "                \n",
    "        #image = utils.read_image(dataset_dict[\"file_name\"], format=self.img_format)\n",
    "        image = read_image_custom(dataset_dict, format=self.img_format)\n",
    "        \n",
    "        \n",
    "        utils.check_image_size(dataset_dict, image)\n",
    "\n",
    "        if \"annotations\" not in dataset_dict:\n",
    "            image, transforms = T.apply_transform_gens(\n",
    "                ([self.crop_gen] if self.crop_gen else []) + self.tfm_gens, image\n",
    "            )\n",
    "        else:\n",
    "            # Crop around an instance if there are instances in the image.\n",
    "            # USER: Remove if you don't use cropping\n",
    "            if self.crop_gen:\n",
    "                crop_tfm = utils.gen_crop_transform_with_instance(\n",
    "                    self.crop_gen.get_crop_size(image.shape[:2]),\n",
    "                    image.shape[:2],\n",
    "                    np.random.choice(dataset_dict[\"annotations\"]),\n",
    "                )\n",
    "                image = crop_tfm.apply_image(image)\n",
    "            image, transforms = T.apply_transform_gens(self.tfm_gens, image)\n",
    "            if self.crop_gen:\n",
    "                transforms = crop_tfm + transforms\n",
    "\n",
    "        image_shape = image.shape[:2]  # h, w\n",
    "\n",
    "        # Pytorch's dataloader is efficient on torch.Tensor due to shared-memory,\n",
    "        # but not efficient on large generic data structures due to the use of pickle & mp.Queue.\n",
    "        # Therefore it's important to use torch.Tensor.\n",
    "        dataset_dict[\"image\"] = torch.as_tensor(np.ascontiguousarray(image.transpose(2, 0, 1)))\n",
    "\n",
    "        # USER: Remove if you don't use pre-computed proposals.\n",
    "        if self.load_proposals:\n",
    "            utils.transform_proposals(\n",
    "                dataset_dict, image_shape, transforms, self.min_box_side_len, self.proposal_topk\n",
    "            )\n",
    "\n",
    "        if not self.is_train:\n",
    "            # USER: Modify this if you want to keep them for some reason.\n",
    "            dataset_dict.pop(\"annotations\", None)\n",
    "            dataset_dict.pop(\"sem_seg_file_name\", None)\n",
    "            return dataset_dict\n",
    "\n",
    "        if \"annotations\" in dataset_dict:\n",
    "            # USER: Modify this if you want to keep them for some reason.\n",
    "            for anno in dataset_dict[\"annotations\"]:\n",
    "                if not self.mask_on:\n",
    "                    anno.pop(\"segmentation\", None)\n",
    "                if not self.keypoint_on:\n",
    "                    anno.pop(\"keypoints\", None)\n",
    "\n",
    "            # USER: Implement additional transformations if you have other types of data\n",
    "            annos = [\n",
    "                utils.transform_instance_annotations(\n",
    "                    obj, transforms, image_shape, keypoint_hflip_indices=self.keypoint_hflip_indices\n",
    "                )\n",
    "                for obj in dataset_dict.pop(\"annotations\")\n",
    "                if obj.get(\"iscrowd\", 0) == 0\n",
    "            ]\n",
    "            instances = utils.annotations_to_instances(\n",
    "                annos, image_shape, mask_format=self.mask_format\n",
    "            )\n",
    "            # Create a tight bounding box from masks, useful when image is cropped\n",
    "            if self.crop_gen and instances.has(\"gt_masks\"):\n",
    "                instances.gt_boxes = instances.gt_masks.get_bounding_boxes()\n",
    "            dataset_dict[\"instances\"] = utils.filter_empty_instances(instances)\n",
    "\n",
    "        # USER: Remove if you don't do semantic/panoptic segmentation.\n",
    "        if \"sem_seg_file_name\" in dataset_dict:\n",
    "            with PathManager.open(dataset_dict.pop(\"sem_seg_file_name\"), \"rb\") as f:\n",
    "                sem_seg_gt = Image.open(f)\n",
    "                sem_seg_gt = np.asarray(sem_seg_gt, dtype=\"uint8\")\n",
    "            sem_seg_gt = transforms.apply_segmentation(sem_seg_gt)\n",
    "            sem_seg_gt = torch.as_tensor(sem_seg_gt.astype(\"long\"))\n",
    "            dataset_dict[\"sem_seg\"] = sem_seg_gt\n",
    "        return dataset_dict\n",
    "\n",
    "    \n",
    "detectron2.data.dataset_mapper = DatasetMapper_Custom"
   ]
  },
  {
   "cell_type": "code",
   "execution_count": null,
   "metadata": {},
   "outputs": [],
   "source": [
    "def get_nuclei_dicts_muscles(wsi_paths:List[pathlib.Path], pickle_filepath:pathlib.Path):\n",
    "    \"\"\"\n",
    "    Arguments:\n",
    "        \n",
    "    \"\"\"\n",
    "    if pickle_filepath != None and pickle_filepath.exists():\n",
    "        return load_pickle(pickle_filepath)\n",
    "    else:\n",
    "        dataset_dicts = []\n",
    "        n = 0\n",
    "        for ts in tqdm(tilesummaries_muscles):\n",
    "            if ts.wsi_path in wsi_paths:\n",
    "                n += 1\n",
    "                for tile in ts.top_tiles():\n",
    "                    record = {}\n",
    "                    \n",
    "                    record['tile'] = tile\n",
    "                    record[\"file_name\"] = tile.get_name()\n",
    "                    record[\"image_id\"] = tile.get_name()\n",
    "                    record[\"height\"] = tile.get_height()\n",
    "                    record[\"width\"] = tile.get_width()\n",
    "                    \n",
    "                    #no ground truth masks available               \n",
    "                    record[\"annotations\"] = []\n",
    "                    dataset_dicts.append(record)\n",
    "            \n",
    "        #save_as_pickle(dataset_dicts, pickle_filepath)\n",
    "        print(f'Number of WSIs: {n}')\n",
    "        return dataset_dicts"
   ]
  },
  {
   "cell_type": "code",
   "execution_count": null,
   "metadata": {
    "scrolled": true
   },
   "outputs": [],
   "source": [
    "dataset_dicts_muscles = get_nuclei_dicts_muscles(MUSCLES_WSIS.ls(), None)"
   ]
  },
  {
   "cell_type": "markdown",
   "metadata": {},
   "source": [
    "### register dataset"
   ]
  },
  {
   "cell_type": "code",
   "execution_count": null,
   "metadata": {},
   "outputs": [],
   "source": [
    "DatasetCatalog.clear()\n",
    "DatasetCatalog.register(dataset_name_muscle, lambda : get_nuclei_dicts_muscles(MUSCLES_WSIS.ls(), None))\n",
    "MetadataCatalog.get(dataset_name_muscle).set(thing_classes=[\"nucleus\"])\n",
    "cfg.DATASETS.TEST = (dataset_name_muscle, )"
   ]
  },
  {
   "cell_type": "markdown",
   "metadata": {},
   "source": [
    "###  load metadata"
   ]
  },
  {
   "cell_type": "code",
   "execution_count": null,
   "metadata": {
    "scrolled": true
   },
   "outputs": [],
   "source": [
    "metadata_nuclei_muscle = MetadataCatalog.get(dataset_name_muscle)"
   ]
  },
  {
   "cell_type": "markdown",
   "metadata": {},
   "source": [
    "### predictions"
   ]
  },
  {
   "cell_type": "code",
   "execution_count": null,
   "metadata": {},
   "outputs": [],
   "source": [
    "predictor = DefaultPredictor(cfg)"
   ]
  },
  {
   "cell_type": "code",
   "execution_count": null,
   "metadata": {},
   "outputs": [],
   "source": [
    "def extract_wsi_name_from_tile_name_muscles(tile_name):\n",
    "    splits = tile_name.split('_')\n",
    "    wsi_name = ''\n",
    "    for i in range(4):\n",
    "        wsi_name += f'{splits[i]}_'\n",
    "    return wsi_name+'HE'"
   ]
  },
  {
   "cell_type": "code",
   "execution_count": null,
   "metadata": {},
   "outputs": [],
   "source": [
    "extract_wsi_name_from_tile_name_muscles(dataset_dicts_muscles[0]['file_name'])"
   ]
  },
  {
   "cell_type": "code",
   "execution_count": null,
   "metadata": {},
   "outputs": [],
   "source": [
    "dataset_dicts_muscles_with_preds_pickle_filepath = Path('./dataset_dicts/dataset_dicts_muscles_with_preds.pickle')\n",
    "\n",
    "if dataset_dicts_muscles_with_preds_pickle_filepath.exists():\n",
    "    dataset_dicts_muscles = load_pickle(dataset_dicts_muscles_with_preds_pickle_filepath)\n",
    "\n",
    "else:\n",
    "    for d in tqdm(dataset_dicts_muscles[:]):\n",
    "        img_pil_rgb = open_image_from_wsi(d)\n",
    "        img_np_bgr = np.array(img_pil_rgb)[:,:,::-1]\n",
    "        with torch.no_grad():\n",
    "            pred = predictor(img_np_bgr)\n",
    "            pred['instances'] = pred['instances'].to('cpu')\n",
    "        d['prediction'] = pred\n",
    "        del pred\n",
    "        torch.cuda.empty_cache()\n",
    "    save_as_pickle(dataset_dicts_muscles, dataset_dicts_muscles_with_preds_pickle_filepath)"
   ]
  },
  {
   "cell_type": "markdown",
   "metadata": {},
   "source": [
    "### Calculate some nucleus stats"
   ]
  },
  {
   "cell_type": "code",
   "execution_count": 183,
   "metadata": {},
   "outputs": [],
   "source": [
    "t = np.array(dataset_dicts_muscles[0]['prediction']['instances'].get('pred_masks').byte())"
   ]
  },
  {
   "cell_type": "code",
   "execution_count": 184,
   "metadata": {},
   "outputs": [
    {
     "data": {
      "text/plain": [
       "(7, 512, 512)"
      ]
     },
     "execution_count": 184,
     "metadata": {},
     "output_type": "execute_result"
    }
   ],
   "source": [
    "t.shape"
   ]
  },
  {
   "cell_type": "code",
   "execution_count": 191,
   "metadata": {},
   "outputs": [
    {
     "data": {
      "text/plain": [
       "array([ 483,  362,  557,  391,  567,  161, 1244], dtype=uint64)"
      ]
     },
     "execution_count": 191,
     "metadata": {},
     "output_type": "execute_result"
    }
   ],
   "source": [
    "sums = t.sum(axis=(1,2));sums"
   ]
  },
  {
   "cell_type": "code",
   "execution_count": 193,
   "metadata": {},
   "outputs": [
    {
     "data": {
      "text/plain": [
       "315.63470231601985"
      ]
     },
     "execution_count": 193,
     "metadata": {},
     "output_type": "execute_result"
    }
   ],
   "source": [
    "sums.std(axis=0)"
   ]
  },
  {
   "cell_type": "code",
   "execution_count": 189,
   "metadata": {},
   "outputs": [
    {
     "data": {
      "text/plain": [
       "99625.26530612246"
      ]
     },
     "execution_count": 189,
     "metadata": {},
     "output_type": "execute_result"
    }
   ],
   "source": [
    "t.sum(axis=(1,2)).var()"
   ]
  },
  {
   "cell_type": "code",
   "execution_count": 210,
   "metadata": {},
   "outputs": [
    {
     "data": {
      "text/plain": [
       "(14, 512, 512)"
      ]
     },
     "execution_count": 210,
     "metadata": {},
     "output_type": "execute_result"
    }
   ],
   "source": [
    "np.concatenate((t,t)).shape"
   ]
  },
  {
   "cell_type": "code",
   "execution_count": 213,
   "metadata": {},
   "outputs": [],
   "source": [
    "###\n",
    "# functions per tile\n",
    "###\n",
    "def get_number_of_predicted_instances_one_tile(dataset_dict:Dict)->int:\n",
    "    \"\"\"\n",
    "    returns None, if no prediction exists\n",
    "    \"\"\"\n",
    "    if 'prediction' not in dataset_dict.keys():\n",
    "        #print('This tile has no prediction yet')\n",
    "        return None\n",
    "    return len(dataset_dict['prediction']['instances'])\n",
    "   \n",
    "def get_combined_nucleus_area_one_tile(dataset_dict:Dict)->float:\n",
    "    \"\"\"\n",
    "    result in um²  based on the predictions\n",
    "    returns None, if no prediction exists\n",
    "    \"\"\"\n",
    "    if 'prediction' not in dataset_dict.keys():\n",
    "        #print('This tile has no prediction yet')\n",
    "        return None\n",
    "    n_mask_pixels = dataset_dict['prediction']['instances'].get('pred_masks').int().sum().item()\n",
    "    return n_mask_pixels*slide.get_conversion_factor(dataset_dict['tile'].wsi_path, dataset_dict['tile'].level)**2\n",
    "\n",
    "def get_average_nucleus_area_one_tile(dataset_dict:Dict)->float:\n",
    "    \"\"\"\n",
    "    calculates the mean nucleus size of one tile in um² based on the predictions\n",
    "    returns 0, if there is no nucleus instance in the prediction\n",
    "    returns None, if no prediction exists\n",
    "    Arguments:\n",
    "        dataset_dict: dataset_dict with prediction of one tile\n",
    "    Result:\n",
    "        mean nucleus size in um² \n",
    "        None if  - no prediction at the key 'prediction'\n",
    "                 - no nucleus in the prediction\n",
    "    \"\"\"\n",
    "    if 'prediction' not in dataset_dict.keys():\n",
    "        #print('This tile has no prediction yet')\n",
    "        return None\n",
    "    return 0 if get_number_of_predicted_instances_one_tile(dataset_dict) == 0 else \\\n",
    "        (get_combined_nucleus_area_one_tile(dataset_dict)/get_number_of_predicted_instances_one_tile(dataset_dict))\\\n",
    "        .item()\n",
    "\n",
    "def get_masks_one_tile(dataset_dict:Dict)->torch.tensor:\n",
    "    \"\"\"\n",
    "    return tensor of shape (n_masks, mask_height, mask_width) for all nuclei in the tile\n",
    "    returns None, if there are no masks\n",
    "    \"\"\"\n",
    "    if len(dataset_dict['prediction']['instances']) == 0:\n",
    "        return None\n",
    "    return dataset_dict['prediction']['instances'].get('pred_masks')\n",
    "\n",
    "\n",
    "class Wsi:\n",
    "    tilesummary = None\n",
    "    dataset_dicts = None\n",
    "    combined_nucleus_area = None\n",
    "    \n",
    "    def __init__(self, tilesummary, dataset_dicts):\n",
    "        self.tilesummary = tilesummary\n",
    "        self.dataset_dicts = dataset_dicts\n",
    "    \n",
    "    def __str__(self):\n",
    "        return str(self.tilesummary.wsi_path)\n",
    "    \n",
    "    def get_conversion_factor(self):\n",
    "        return slide.get_conversion_factor(self.tilesummary.wsi_path, self.tilesummary.level)\n",
    "    \n",
    "    def get_masks(self)->torch.tensor:\n",
    "        \"\"\"\n",
    "        return tensor of shape (n_masks, mask_height, mask_width) for all nuclei in the wsi \n",
    "        \"\"\"\n",
    "        res = None\n",
    "        for d in self.dataset_dicts:\n",
    "            if get_masks_one_tile(d) == None:\n",
    "                continue\n",
    "            elif res == None:\n",
    "                res = get_masks_one_tile(d)\n",
    "            else:\n",
    "                res = torch.cat([res, get_masks_one_tile(d)])\n",
    "        return res\n",
    "        \n",
    "    def get_number_of_predicted_instances(self)->int:\n",
    "        \"\"\"\n",
    "        returns the number of predicted instances of the whole-slide image based on the predictions \n",
    "        by summing up all predicted instances of all tiles, where predictions exist\n",
    "        tiles with no existing predictions will be ignored silently\n",
    "        \"\"\"\n",
    "        return sum([get_number_of_predicted_instances_one_tile(d) for d in self.dataset_dicts if \\\n",
    "                    get_number_of_predicted_instances_one_tile(d) != None])\n",
    "    \n",
    "    def get_combined_nucleus_area(self)->float:\n",
    "        \"\"\"\n",
    "        calculates the combined nucleus size of all tiles from one wsi in um² based on the predictions.\n",
    "        tiles with no predictions will be ignored\n",
    "        Arguments:\n",
    "            dataset_dicts: list of all dataset_dicts of the tiles of one whole-slide image\n",
    "        Result:\n",
    "            combined nucleus size in um²\n",
    "        \"\"\"\n",
    "        if self.combined_nucleus_area == None:\n",
    "            if len(self.dataset_dicts) == 0:\n",
    "                return None\n",
    "            #self.combined_nucleus_area = sum([self.get_combined_nucleus_area_one_tile(d) for d in self.dataset_dicts if\\\n",
    "            #                             self.get_combined_nucleus_area_one_tile(d) != None])\n",
    "            self.combined_nucleus_area = self.get_masks().int().sum()*self.get_conversion_factor()**2\n",
    "        return self.combined_nucleus_area\n",
    "        \n",
    "    def get_average_nucleus_area(self)->float:\n",
    "        \"\"\"\n",
    "        calculates the mean nucleus size from the predictions of all tiles from one wsi in um² based on the predictions\n",
    "        tiles with no predictions will be ignored\n",
    "        Arguments:\n",
    "            dataset_dicts: list of all dataset_dicts of the tiles of one whole-slide image\n",
    "        Result:\n",
    "            mean nucleus size in um²\n",
    "        \"\"\"\n",
    "        area = self.get_combined_nucleus_area()\n",
    "        n = self.get_number_of_predicted_instances()\n",
    "        return (area/n).item()\n",
    "    \n",
    "    def get_nucleus_area_variance(self)->float:\n",
    "        return np.array(self.get_masks()).sum(axis=(1,2)).var()*self.get_conversion_factor()**4\n",
    "    \n",
    "    def get_nucleus_area_standard_deviation(self)->float:\n",
    "        return np.array(self.get_masks()).sum(axis=(1,2)).std()*self.get_conversion_factor()**2\n",
    "        \n",
    "       \n",
    "class WsiList:\n",
    "    name = None\n",
    "    wsi_list = []\n",
    "    combined_nucleus_area = None\n",
    "    nuclei_areas_numpy = None\n",
    "    \n",
    "    def __init__(self, name:str, wsi_list:List[Wsi]):\n",
    "        self.name = name\n",
    "        self.wsi_list = wsi_list\n",
    "    \n",
    "    def add_wsi(self, wsi:Wsi):\n",
    "        self.wsi_list.append(wsi)\n",
    "        \n",
    "    def get_masks(self)->torch.tensor:\n",
    "        \"\"\"\n",
    "        return tensor of shape (n_masks, mask_height, mask_width) for all nuclei in the wsi\n",
    "        watch out! the masks could be from wsis with different levels of zoom\n",
    "        \"\"\"\n",
    "        res = None\n",
    "        for w in self.wsi_list:\n",
    "            if res == None:\n",
    "                res = w.get_masks()\n",
    "            else:\n",
    "                res = torch.cat([res, w.get_masks()])\n",
    "        return res    \n",
    "    \n",
    "    def get_number_of_predicted_instances(self):\n",
    "        return sum([wsi.get_number_of_predicted_instances() for wsi in self.wsi_list])\n",
    "    \n",
    "    def get_combined_nucleus_area(self):\n",
    "        if self.combined_nucleus_area == None:\n",
    "            self.combined_nucleus_area = sum([wsi.get_combined_nucleus_area() for wsi in self.wsi_list])\n",
    "        return self.combined_nucleus_area\n",
    "    \n",
    "    def get_average_nucleus_area(self):\n",
    "        return self.get_combined_nucleus_area()/self.get_number_of_predicted_instances()\n",
    "    \n",
    "    def get_nuclei_areas(self):\n",
    "        \"\"\"\n",
    "        returns numpy array of shape (number_of_nuclei, nucleus_area_um²)\n",
    "        different zoom levels of the wsis get taken into account\n",
    "        \"\"\"\n",
    "        if self.nuclei_areas_numpy == None:\n",
    "            nuclei_areas = None\n",
    "            for w in self.wsi_list:\n",
    "                nas_w = np.array(w.get_masks()).sum(axis=(1,2))*w.get_conversion_factor()**2 \n",
    "                if nuclei_areas == None:\n",
    "                    nuclei_areas = nas_w\n",
    "                else: \n",
    "                    nuclei_areas = np.concatenate((nuclei_areas, nas_w))\n",
    "            self.nuclei_areas_numpy = nuclei_areas\n",
    "        return self.nuclei_areas_numpy\n",
    "    \n",
    "    def get_nucleus_area_variance(self)->float:\n",
    "        return self.get_nuclei_areas().var()\n",
    "            \n",
    "    \n",
    "    def get_nucleus_area_standard_deviation(self)->float:\n",
    "        return self.get_nuclei_areas().std()\n",
    "    \n",
    "    def plot_area_distribution_histogram(self):\n",
    "        data = []\n",
    "        for wsi in self.wsi_list:\n",
    "            for d in wsi.dataset_dicts:\n",
    "                for m in d['prediction']['instances'].get('pred_masks'):\n",
    "                    data.append(m.int().sum()*slide.get_conversion_factor(d['tile'].wsi_path, d['tile'].level)**2)\n",
    "        bins = np.linspace(0, max(data), 200)\n",
    "        plt.hist(probs_true_positive, bins, alpha=1.0, label=None)\n",
    "        plt.legend(loc='upper right')\n",
    "        plt.title(label=name)\n",
    "        plt.ylabel('Frequency')\n",
    "        plt.xlabel('area in um²')\n",
    "        plt.show()"
   ]
  },
  {
   "cell_type": "code",
   "execution_count": 214,
   "metadata": {},
   "outputs": [],
   "source": [
    "### init two WsiList objects\n",
    "\n",
    "wsi_list_hom = WsiList('hom', [])\n",
    "wsi_list_wt = WsiList('wt', [])\n",
    "\n",
    "for ts in tilesummaries_muscles:\n",
    "    dds = [d for d in dataset_dicts_muscles if d['tile'].wsi_path == ts.wsi_path]\n",
    "    if 'hom' in ts.wsi_path.name:\n",
    "        wsi_list_hom.add_wsi(Wsi(ts, dds))\n",
    "    elif 'wt' in ts.wsi_path.name:\n",
    "        wsi_list_wt.add_wsi(Wsi(ts, dds))\n",
    "    else:\n",
    "        assert False"
   ]
  },
  {
   "cell_type": "code",
   "execution_count": 206,
   "metadata": {},
   "outputs": [
    {
     "data": {
      "application/vnd.jupyter.widget-view+json": {
       "model_id": "872ee50a13f24b4ebf66ef1cee186d6b",
       "version_major": 2,
       "version_minor": 0
      },
      "text/plain": [
       "HBox(children=(FloatProgress(value=0.0, max=1.0), HTML(value='')))"
      ]
     },
     "metadata": {},
     "output_type": "display_data"
    },
    {
     "name": "stdout",
     "output_type": "stream",
     "text": [
      "24.126084069491892\n",
      "582.0679325281903\n",
      "\n"
     ]
    }
   ],
   "source": [
    "for wsi in tqdm(wsi_list_wt.wsi_list[:]):\n",
    "    print(wsi.get_nucleus_area_standard_deviation())\n",
    "    print(wsi.get_nucleus_area_variance())"
   ]
  },
  {
   "cell_type": "code",
   "execution_count": 208,
   "metadata": {
    "scrolled": true
   },
   "outputs": [
    {
     "data": {
      "application/vnd.jupyter.widget-view+json": {
       "model_id": "77e1546387e045619acac62647c82a57",
       "version_major": 2,
       "version_minor": 0
      },
      "text/plain": [
       "HBox(children=(FloatProgress(value=0.0, max=1.0), HTML(value='')))"
      ]
     },
     "metadata": {},
     "output_type": "display_data"
    },
    {
     "name": "stdout",
     "output_type": "stream",
     "text": [
      "22.27932060721907\n",
      "496.36812671925617\n",
      "\n"
     ]
    }
   ],
   "source": [
    "for wsi in tqdm(wsi_list_hom.wsi_list[:]):\n",
    "    print(wsi.get_nucleus_area_standard_deviation())\n",
    "    print(wsi.get_nucleus_area_variance())"
   ]
  },
  {
   "cell_type": "code",
   "execution_count": null,
   "metadata": {},
   "outputs": [],
   "source": [
    "wsi_list_hom.get_average_nucleus_area()"
   ]
  },
  {
   "cell_type": "code",
   "execution_count": null,
   "metadata": {},
   "outputs": [],
   "source": [
    "wsi_list_wt.get_average_nucleus_area()"
   ]
  },
  {
   "cell_type": "code",
   "execution_count": null,
   "metadata": {},
   "outputs": [],
   "source": [
    "### calculating the combined nucleus area takes some time, so let's save the wsi lists\n",
    "save_as_pickle(wsi_list_hom, Path('./wsi_lists/hom'))\n",
    "save_as_pickle(wsi_list_wt, Path('./wsi_lists/wt'))"
   ]
  },
  {
   "cell_type": "code",
   "execution_count": null,
   "metadata": {},
   "outputs": [],
   "source": []
  },
  {
   "cell_type": "code",
   "execution_count": null,
   "metadata": {},
   "outputs": [],
   "source": []
  },
  {
   "cell_type": "code",
   "execution_count": null,
   "metadata": {},
   "outputs": [],
   "source": []
  },
  {
   "cell_type": "code",
   "execution_count": null,
   "metadata": {},
   "outputs": [],
   "source": []
  },
  {
   "cell_type": "code",
   "execution_count": null,
   "metadata": {},
   "outputs": [],
   "source": []
  },
  {
   "cell_type": "code",
   "execution_count": null,
   "metadata": {},
   "outputs": [],
   "source": []
  },
  {
   "cell_type": "code",
   "execution_count": null,
   "metadata": {},
   "outputs": [],
   "source": []
  },
  {
   "cell_type": "code",
   "execution_count": null,
   "metadata": {},
   "outputs": [],
   "source": [
    "df_nuclei_stats_muscles = pd.DataFrame(columns=['wsi name', 'wsi path', 'avg nucleus area um²'])\n",
    "df_nuclei_stats_muscles"
   ]
  },
  {
   "cell_type": "code",
   "execution_count": null,
   "metadata": {
    "scrolled": true
   },
   "outputs": [],
   "source": [
    "visualize(dataset_dicts=dataset_dicts_muscles[1:20], \n",
    "          metadata=metadata_nuclei_muscle,\n",
    "          ground_truth_available=False,\n",
    "          with_preds=True,\n",
    "          predictor=predictor, \n",
    "          extract_otf_from_wsi=True,  \n",
    "          captions=None, \n",
    "          figsize=(10,10),\n",
    "          caption_generators=[get_combined_nucleus_area_one_tile, get_average_nucleus_area_one_tile])"
   ]
  },
  {
   "cell_type": "markdown",
   "metadata": {},
   "source": [
    "# keep for later use"
   ]
  },
  {
   "cell_type": "code",
   "execution_count": null,
   "metadata": {},
   "outputs": [],
   "source": [
    "#DKO474_US_hom_1_HE - 2020-04-07 11.35.13.ndpi\n",
    "# meassured by hand in case viewer app\n",
    "##width in um\n",
    "22916.1\n",
    "\n",
    "##height in um\n",
    "9482.5"
   ]
  }
 ],
 "metadata": {
  "kernelspec": {
   "display_name": "DLM Py3",
   "language": "python",
   "name": "dlm_py3"
  },
  "language_info": {
   "codemirror_mode": {
    "name": "ipython",
    "version": 3
   },
   "file_extension": ".py",
   "mimetype": "text/x-python",
   "name": "python",
   "nbconvert_exporter": "python",
   "pygments_lexer": "ipython3",
   "version": "3.7.6"
  },
  "toc": {
   "base_numbering": 1,
   "nav_menu": {},
   "number_sections": true,
   "sideBar": true,
   "skip_h1_title": false,
   "title_cell": "Table of Contents",
   "title_sidebar": "Contents",
   "toc_cell": false,
   "toc_position": {
    "height": "calc(100% - 180px)",
    "left": "10px",
    "top": "150px",
    "width": "384px"
   },
   "toc_section_display": true,
   "toc_window_display": true
  }
 },
 "nbformat": 4,
 "nbformat_minor": 4
}
